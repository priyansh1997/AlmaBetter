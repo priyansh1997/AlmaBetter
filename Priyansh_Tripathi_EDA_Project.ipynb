{
  "nbformat": 4,
  "nbformat_minor": 0,
  "metadata": {
    "colab": {
      "name": "Priyansh_Tripathi_EDA_Project.ipynb",
      "provenance": [],
      "collapsed_sections": [],
      "mount_file_id": "1UoV1y-YbqcGW1Gm8bdhwHwWxwJmsnRl9",
      "authorship_tag": "ABX9TyMu35VkAeaZf624udHktn7u",
      "include_colab_link": true
    },
    "kernelspec": {
      "name": "python3",
      "display_name": "Python 3"
    },
    "language_info": {
      "name": "python"
    }
  },
  "cells": [
    {
      "cell_type": "markdown",
      "metadata": {
        "id": "view-in-github",
        "colab_type": "text"
      },
      "source": [
        "<a href=\"https://colab.research.google.com/github/priyansh1997/AlmaBetter/blob/main/Priyansh_Tripathi_EDA_Project.ipynb\" target=\"_parent\"><img src=\"https://colab.research.google.com/assets/colab-badge.svg\" alt=\"Open In Colab\"/></a>"
      ]
    },
    {
      "cell_type": "markdown",
      "metadata": {
        "id": "NR4o3pkKvXAY"
      },
      "source": [
        "# 1.1 Importing Libraries\n",
        "These libraries will be used for Exploratory Data Analysis."
      ]
    },
    {
      "cell_type": "code",
      "metadata": {
        "id": "eyIcK8o_dPFk"
      },
      "source": [
        "import pandas as pd \n",
        "import numpy as np\n",
        "import matplotlib.pyplot as plt\n",
        "import seaborn as sns\n",
        "import plotly.express as px"
      ],
      "execution_count": 96,
      "outputs": []
    },
    {
      "cell_type": "code",
      "metadata": {
        "id": "8Rws31XmPDPM"
      },
      "source": [
        "# Removing warnings\n",
        "import warnings\n",
        "warnings.filterwarnings(\"ignore\")"
      ],
      "execution_count": 97,
      "outputs": []
    },
    {
      "cell_type": "markdown",
      "metadata": {
        "id": "gJ4o6ozSxkQm"
      },
      "source": [
        "# 1.2 Data Loading\n",
        "Loading the dataset from google drive."
      ]
    },
    {
      "cell_type": "code",
      "metadata": {
        "colab": {
          "base_uri": "https://localhost:8080/"
        },
        "id": "Kxgc8v9NxcMu",
        "outputId": "f942308b-d9e7-4f6a-e5d3-c8170216a73e"
      },
      "source": [
        "from google.colab import drive\n",
        "drive.mount('/content/drive')"
      ],
      "execution_count": 98,
      "outputs": [
        {
          "output_type": "stream",
          "name": "stdout",
          "text": [
            "Drive already mounted at /content/drive; to attempt to forcibly remount, call drive.mount(\"/content/drive\", force_remount=True).\n"
          ]
        }
      ]
    },
    {
      "cell_type": "code",
      "metadata": {
        "id": "iVAKHiMyx42p"
      },
      "source": [
        "play_store_df=pd.read_csv('/content/drive/MyDrive/datasets/Play Store Data.csv')\n",
        "user_reviews_df=pd.read_csv('/content/drive/MyDrive/datasets/User Reviews.csv')"
      ],
      "execution_count": 99,
      "outputs": []
    },
    {
      "cell_type": "markdown",
      "metadata": {
        "id": "4kE_jzPYyBq1"
      },
      "source": [
        "# 1.3 Data Inspection\n",
        "Inspection of the data contains information about the data, head/tail part, description of dataset, shape etc."
      ]
    },
    {
      "cell_type": "code",
      "metadata": {
        "colab": {
          "base_uri": "https://localhost:8080/",
          "height": 395
        },
        "id": "9VgtE2EByBPt",
        "outputId": "4dc0f022-a98c-4c86-9d6d-9146810a33bb"
      },
      "source": [
        "play_store_df.head()"
      ],
      "execution_count": 100,
      "outputs": [
        {
          "output_type": "execute_result",
          "data": {
            "text/html": [
              "<div>\n",
              "<style scoped>\n",
              "    .dataframe tbody tr th:only-of-type {\n",
              "        vertical-align: middle;\n",
              "    }\n",
              "\n",
              "    .dataframe tbody tr th {\n",
              "        vertical-align: top;\n",
              "    }\n",
              "\n",
              "    .dataframe thead th {\n",
              "        text-align: right;\n",
              "    }\n",
              "</style>\n",
              "<table border=\"1\" class=\"dataframe\">\n",
              "  <thead>\n",
              "    <tr style=\"text-align: right;\">\n",
              "      <th></th>\n",
              "      <th>App</th>\n",
              "      <th>Category</th>\n",
              "      <th>Rating</th>\n",
              "      <th>Reviews</th>\n",
              "      <th>Size</th>\n",
              "      <th>Installs</th>\n",
              "      <th>Type</th>\n",
              "      <th>Price</th>\n",
              "      <th>Content Rating</th>\n",
              "      <th>Genres</th>\n",
              "      <th>Last Updated</th>\n",
              "      <th>Current Ver</th>\n",
              "      <th>Android Ver</th>\n",
              "    </tr>\n",
              "  </thead>\n",
              "  <tbody>\n",
              "    <tr>\n",
              "      <th>0</th>\n",
              "      <td>Photo Editor &amp; Candy Camera &amp; Grid &amp; ScrapBook</td>\n",
              "      <td>ART_AND_DESIGN</td>\n",
              "      <td>4.1</td>\n",
              "      <td>159</td>\n",
              "      <td>19M</td>\n",
              "      <td>10,000+</td>\n",
              "      <td>Free</td>\n",
              "      <td>0</td>\n",
              "      <td>Everyone</td>\n",
              "      <td>Art &amp; Design</td>\n",
              "      <td>January 7, 2018</td>\n",
              "      <td>1.0.0</td>\n",
              "      <td>4.0.3 and up</td>\n",
              "    </tr>\n",
              "    <tr>\n",
              "      <th>1</th>\n",
              "      <td>Coloring book moana</td>\n",
              "      <td>ART_AND_DESIGN</td>\n",
              "      <td>3.9</td>\n",
              "      <td>967</td>\n",
              "      <td>14M</td>\n",
              "      <td>500,000+</td>\n",
              "      <td>Free</td>\n",
              "      <td>0</td>\n",
              "      <td>Everyone</td>\n",
              "      <td>Art &amp; Design;Pretend Play</td>\n",
              "      <td>January 15, 2018</td>\n",
              "      <td>2.0.0</td>\n",
              "      <td>4.0.3 and up</td>\n",
              "    </tr>\n",
              "    <tr>\n",
              "      <th>2</th>\n",
              "      <td>U Launcher Lite – FREE Live Cool Themes, Hide ...</td>\n",
              "      <td>ART_AND_DESIGN</td>\n",
              "      <td>4.7</td>\n",
              "      <td>87510</td>\n",
              "      <td>8.7M</td>\n",
              "      <td>5,000,000+</td>\n",
              "      <td>Free</td>\n",
              "      <td>0</td>\n",
              "      <td>Everyone</td>\n",
              "      <td>Art &amp; Design</td>\n",
              "      <td>August 1, 2018</td>\n",
              "      <td>1.2.4</td>\n",
              "      <td>4.0.3 and up</td>\n",
              "    </tr>\n",
              "    <tr>\n",
              "      <th>3</th>\n",
              "      <td>Sketch - Draw &amp; Paint</td>\n",
              "      <td>ART_AND_DESIGN</td>\n",
              "      <td>4.5</td>\n",
              "      <td>215644</td>\n",
              "      <td>25M</td>\n",
              "      <td>50,000,000+</td>\n",
              "      <td>Free</td>\n",
              "      <td>0</td>\n",
              "      <td>Teen</td>\n",
              "      <td>Art &amp; Design</td>\n",
              "      <td>June 8, 2018</td>\n",
              "      <td>Varies with device</td>\n",
              "      <td>4.2 and up</td>\n",
              "    </tr>\n",
              "    <tr>\n",
              "      <th>4</th>\n",
              "      <td>Pixel Draw - Number Art Coloring Book</td>\n",
              "      <td>ART_AND_DESIGN</td>\n",
              "      <td>4.3</td>\n",
              "      <td>967</td>\n",
              "      <td>2.8M</td>\n",
              "      <td>100,000+</td>\n",
              "      <td>Free</td>\n",
              "      <td>0</td>\n",
              "      <td>Everyone</td>\n",
              "      <td>Art &amp; Design;Creativity</td>\n",
              "      <td>June 20, 2018</td>\n",
              "      <td>1.1</td>\n",
              "      <td>4.4 and up</td>\n",
              "    </tr>\n",
              "  </tbody>\n",
              "</table>\n",
              "</div>"
            ],
            "text/plain": [
              "                                                 App  ...   Android Ver\n",
              "0     Photo Editor & Candy Camera & Grid & ScrapBook  ...  4.0.3 and up\n",
              "1                                Coloring book moana  ...  4.0.3 and up\n",
              "2  U Launcher Lite – FREE Live Cool Themes, Hide ...  ...  4.0.3 and up\n",
              "3                              Sketch - Draw & Paint  ...    4.2 and up\n",
              "4              Pixel Draw - Number Art Coloring Book  ...    4.4 and up\n",
              "\n",
              "[5 rows x 13 columns]"
            ]
          },
          "metadata": {},
          "execution_count": 100
        }
      ]
    },
    {
      "cell_type": "code",
      "metadata": {
        "colab": {
          "base_uri": "https://localhost:8080/",
          "height": 378
        },
        "id": "7lUpr8EAVdFX",
        "outputId": "e90dbb39-1176-4fa4-d351-db8a047fd086"
      },
      "source": [
        "play_store_df.tail()"
      ],
      "execution_count": 101,
      "outputs": [
        {
          "output_type": "execute_result",
          "data": {
            "text/html": [
              "<div>\n",
              "<style scoped>\n",
              "    .dataframe tbody tr th:only-of-type {\n",
              "        vertical-align: middle;\n",
              "    }\n",
              "\n",
              "    .dataframe tbody tr th {\n",
              "        vertical-align: top;\n",
              "    }\n",
              "\n",
              "    .dataframe thead th {\n",
              "        text-align: right;\n",
              "    }\n",
              "</style>\n",
              "<table border=\"1\" class=\"dataframe\">\n",
              "  <thead>\n",
              "    <tr style=\"text-align: right;\">\n",
              "      <th></th>\n",
              "      <th>App</th>\n",
              "      <th>Category</th>\n",
              "      <th>Rating</th>\n",
              "      <th>Reviews</th>\n",
              "      <th>Size</th>\n",
              "      <th>Installs</th>\n",
              "      <th>Type</th>\n",
              "      <th>Price</th>\n",
              "      <th>Content Rating</th>\n",
              "      <th>Genres</th>\n",
              "      <th>Last Updated</th>\n",
              "      <th>Current Ver</th>\n",
              "      <th>Android Ver</th>\n",
              "    </tr>\n",
              "  </thead>\n",
              "  <tbody>\n",
              "    <tr>\n",
              "      <th>10836</th>\n",
              "      <td>Sya9a Maroc - FR</td>\n",
              "      <td>FAMILY</td>\n",
              "      <td>4.5</td>\n",
              "      <td>38</td>\n",
              "      <td>53M</td>\n",
              "      <td>5,000+</td>\n",
              "      <td>Free</td>\n",
              "      <td>0</td>\n",
              "      <td>Everyone</td>\n",
              "      <td>Education</td>\n",
              "      <td>July 25, 2017</td>\n",
              "      <td>1.48</td>\n",
              "      <td>4.1 and up</td>\n",
              "    </tr>\n",
              "    <tr>\n",
              "      <th>10837</th>\n",
              "      <td>Fr. Mike Schmitz Audio Teachings</td>\n",
              "      <td>FAMILY</td>\n",
              "      <td>5.0</td>\n",
              "      <td>4</td>\n",
              "      <td>3.6M</td>\n",
              "      <td>100+</td>\n",
              "      <td>Free</td>\n",
              "      <td>0</td>\n",
              "      <td>Everyone</td>\n",
              "      <td>Education</td>\n",
              "      <td>July 6, 2018</td>\n",
              "      <td>1.0</td>\n",
              "      <td>4.1 and up</td>\n",
              "    </tr>\n",
              "    <tr>\n",
              "      <th>10838</th>\n",
              "      <td>Parkinson Exercices FR</td>\n",
              "      <td>MEDICAL</td>\n",
              "      <td>NaN</td>\n",
              "      <td>3</td>\n",
              "      <td>9.5M</td>\n",
              "      <td>1,000+</td>\n",
              "      <td>Free</td>\n",
              "      <td>0</td>\n",
              "      <td>Everyone</td>\n",
              "      <td>Medical</td>\n",
              "      <td>January 20, 2017</td>\n",
              "      <td>1.0</td>\n",
              "      <td>2.2 and up</td>\n",
              "    </tr>\n",
              "    <tr>\n",
              "      <th>10839</th>\n",
              "      <td>The SCP Foundation DB fr nn5n</td>\n",
              "      <td>BOOKS_AND_REFERENCE</td>\n",
              "      <td>4.5</td>\n",
              "      <td>114</td>\n",
              "      <td>Varies with device</td>\n",
              "      <td>1,000+</td>\n",
              "      <td>Free</td>\n",
              "      <td>0</td>\n",
              "      <td>Mature 17+</td>\n",
              "      <td>Books &amp; Reference</td>\n",
              "      <td>January 19, 2015</td>\n",
              "      <td>Varies with device</td>\n",
              "      <td>Varies with device</td>\n",
              "    </tr>\n",
              "    <tr>\n",
              "      <th>10840</th>\n",
              "      <td>iHoroscope - 2018 Daily Horoscope &amp; Astrology</td>\n",
              "      <td>LIFESTYLE</td>\n",
              "      <td>4.5</td>\n",
              "      <td>398307</td>\n",
              "      <td>19M</td>\n",
              "      <td>10,000,000+</td>\n",
              "      <td>Free</td>\n",
              "      <td>0</td>\n",
              "      <td>Everyone</td>\n",
              "      <td>Lifestyle</td>\n",
              "      <td>July 25, 2018</td>\n",
              "      <td>Varies with device</td>\n",
              "      <td>Varies with device</td>\n",
              "    </tr>\n",
              "  </tbody>\n",
              "</table>\n",
              "</div>"
            ],
            "text/plain": [
              "                                                 App  ...         Android Ver\n",
              "10836                               Sya9a Maroc - FR  ...          4.1 and up\n",
              "10837               Fr. Mike Schmitz Audio Teachings  ...          4.1 and up\n",
              "10838                         Parkinson Exercices FR  ...          2.2 and up\n",
              "10839                  The SCP Foundation DB fr nn5n  ...  Varies with device\n",
              "10840  iHoroscope - 2018 Daily Horoscope & Astrology  ...  Varies with device\n",
              "\n",
              "[5 rows x 13 columns]"
            ]
          },
          "metadata": {},
          "execution_count": 101
        }
      ]
    },
    {
      "cell_type": "code",
      "metadata": {
        "colab": {
          "base_uri": "https://localhost:8080/",
          "height": 205
        },
        "id": "4HtZw1JgyIgz",
        "outputId": "2c60317f-362f-4abc-a482-ab17547140ec"
      },
      "source": [
        "user_reviews_df.head()"
      ],
      "execution_count": 102,
      "outputs": [
        {
          "output_type": "execute_result",
          "data": {
            "text/html": [
              "<div>\n",
              "<style scoped>\n",
              "    .dataframe tbody tr th:only-of-type {\n",
              "        vertical-align: middle;\n",
              "    }\n",
              "\n",
              "    .dataframe tbody tr th {\n",
              "        vertical-align: top;\n",
              "    }\n",
              "\n",
              "    .dataframe thead th {\n",
              "        text-align: right;\n",
              "    }\n",
              "</style>\n",
              "<table border=\"1\" class=\"dataframe\">\n",
              "  <thead>\n",
              "    <tr style=\"text-align: right;\">\n",
              "      <th></th>\n",
              "      <th>App</th>\n",
              "      <th>Translated_Review</th>\n",
              "      <th>Sentiment</th>\n",
              "      <th>Sentiment_Polarity</th>\n",
              "      <th>Sentiment_Subjectivity</th>\n",
              "    </tr>\n",
              "  </thead>\n",
              "  <tbody>\n",
              "    <tr>\n",
              "      <th>0</th>\n",
              "      <td>10 Best Foods for You</td>\n",
              "      <td>I like eat delicious food. That's I'm cooking ...</td>\n",
              "      <td>Positive</td>\n",
              "      <td>1.00</td>\n",
              "      <td>0.533333</td>\n",
              "    </tr>\n",
              "    <tr>\n",
              "      <th>1</th>\n",
              "      <td>10 Best Foods for You</td>\n",
              "      <td>This help eating healthy exercise regular basis</td>\n",
              "      <td>Positive</td>\n",
              "      <td>0.25</td>\n",
              "      <td>0.288462</td>\n",
              "    </tr>\n",
              "    <tr>\n",
              "      <th>2</th>\n",
              "      <td>10 Best Foods for You</td>\n",
              "      <td>NaN</td>\n",
              "      <td>NaN</td>\n",
              "      <td>NaN</td>\n",
              "      <td>NaN</td>\n",
              "    </tr>\n",
              "    <tr>\n",
              "      <th>3</th>\n",
              "      <td>10 Best Foods for You</td>\n",
              "      <td>Works great especially going grocery store</td>\n",
              "      <td>Positive</td>\n",
              "      <td>0.40</td>\n",
              "      <td>0.875000</td>\n",
              "    </tr>\n",
              "    <tr>\n",
              "      <th>4</th>\n",
              "      <td>10 Best Foods for You</td>\n",
              "      <td>Best idea us</td>\n",
              "      <td>Positive</td>\n",
              "      <td>1.00</td>\n",
              "      <td>0.300000</td>\n",
              "    </tr>\n",
              "  </tbody>\n",
              "</table>\n",
              "</div>"
            ],
            "text/plain": [
              "                     App  ... Sentiment_Subjectivity\n",
              "0  10 Best Foods for You  ...               0.533333\n",
              "1  10 Best Foods for You  ...               0.288462\n",
              "2  10 Best Foods for You  ...                    NaN\n",
              "3  10 Best Foods for You  ...               0.875000\n",
              "4  10 Best Foods for You  ...               0.300000\n",
              "\n",
              "[5 rows x 5 columns]"
            ]
          },
          "metadata": {},
          "execution_count": 102
        }
      ]
    },
    {
      "cell_type": "code",
      "metadata": {
        "colab": {
          "base_uri": "https://localhost:8080/",
          "height": 205
        },
        "id": "qV_utC4yVew3",
        "outputId": "e66ff739-432d-43d4-df49-21919f58a108"
      },
      "source": [
        "user_reviews_df.tail()"
      ],
      "execution_count": 103,
      "outputs": [
        {
          "output_type": "execute_result",
          "data": {
            "text/html": [
              "<div>\n",
              "<style scoped>\n",
              "    .dataframe tbody tr th:only-of-type {\n",
              "        vertical-align: middle;\n",
              "    }\n",
              "\n",
              "    .dataframe tbody tr th {\n",
              "        vertical-align: top;\n",
              "    }\n",
              "\n",
              "    .dataframe thead th {\n",
              "        text-align: right;\n",
              "    }\n",
              "</style>\n",
              "<table border=\"1\" class=\"dataframe\">\n",
              "  <thead>\n",
              "    <tr style=\"text-align: right;\">\n",
              "      <th></th>\n",
              "      <th>App</th>\n",
              "      <th>Translated_Review</th>\n",
              "      <th>Sentiment</th>\n",
              "      <th>Sentiment_Polarity</th>\n",
              "      <th>Sentiment_Subjectivity</th>\n",
              "    </tr>\n",
              "  </thead>\n",
              "  <tbody>\n",
              "    <tr>\n",
              "      <th>64290</th>\n",
              "      <td>Houzz Interior Design Ideas</td>\n",
              "      <td>NaN</td>\n",
              "      <td>NaN</td>\n",
              "      <td>NaN</td>\n",
              "      <td>NaN</td>\n",
              "    </tr>\n",
              "    <tr>\n",
              "      <th>64291</th>\n",
              "      <td>Houzz Interior Design Ideas</td>\n",
              "      <td>NaN</td>\n",
              "      <td>NaN</td>\n",
              "      <td>NaN</td>\n",
              "      <td>NaN</td>\n",
              "    </tr>\n",
              "    <tr>\n",
              "      <th>64292</th>\n",
              "      <td>Houzz Interior Design Ideas</td>\n",
              "      <td>NaN</td>\n",
              "      <td>NaN</td>\n",
              "      <td>NaN</td>\n",
              "      <td>NaN</td>\n",
              "    </tr>\n",
              "    <tr>\n",
              "      <th>64293</th>\n",
              "      <td>Houzz Interior Design Ideas</td>\n",
              "      <td>NaN</td>\n",
              "      <td>NaN</td>\n",
              "      <td>NaN</td>\n",
              "      <td>NaN</td>\n",
              "    </tr>\n",
              "    <tr>\n",
              "      <th>64294</th>\n",
              "      <td>Houzz Interior Design Ideas</td>\n",
              "      <td>NaN</td>\n",
              "      <td>NaN</td>\n",
              "      <td>NaN</td>\n",
              "      <td>NaN</td>\n",
              "    </tr>\n",
              "  </tbody>\n",
              "</table>\n",
              "</div>"
            ],
            "text/plain": [
              "                               App  ... Sentiment_Subjectivity\n",
              "64290  Houzz Interior Design Ideas  ...                    NaN\n",
              "64291  Houzz Interior Design Ideas  ...                    NaN\n",
              "64292  Houzz Interior Design Ideas  ...                    NaN\n",
              "64293  Houzz Interior Design Ideas  ...                    NaN\n",
              "64294  Houzz Interior Design Ideas  ...                    NaN\n",
              "\n",
              "[5 rows x 5 columns]"
            ]
          },
          "metadata": {},
          "execution_count": 103
        }
      ]
    },
    {
      "cell_type": "code",
      "metadata": {
        "colab": {
          "base_uri": "https://localhost:8080/"
        },
        "id": "FcmZO20oyNrl",
        "outputId": "c11abd0e-d4dc-464b-d22d-5c406f727efd"
      },
      "source": [
        "play_store_df.shape"
      ],
      "execution_count": 104,
      "outputs": [
        {
          "output_type": "execute_result",
          "data": {
            "text/plain": [
              "(10841, 13)"
            ]
          },
          "metadata": {},
          "execution_count": 104
        }
      ]
    },
    {
      "cell_type": "code",
      "metadata": {
        "colab": {
          "base_uri": "https://localhost:8080/"
        },
        "id": "KiZhHc_ryfuc",
        "outputId": "607c7155-9245-400c-841e-7d867812a9b6"
      },
      "source": [
        "user_reviews_df.shape"
      ],
      "execution_count": 105,
      "outputs": [
        {
          "output_type": "execute_result",
          "data": {
            "text/plain": [
              "(64295, 5)"
            ]
          },
          "metadata": {},
          "execution_count": 105
        }
      ]
    },
    {
      "cell_type": "code",
      "metadata": {
        "colab": {
          "base_uri": "https://localhost:8080/"
        },
        "id": "rDFfW3uFzF_8",
        "outputId": "33bb3d46-ffea-4c83-c8ec-407b4cbf4865"
      },
      "source": [
        "play_store_df.info()"
      ],
      "execution_count": 106,
      "outputs": [
        {
          "output_type": "stream",
          "name": "stdout",
          "text": [
            "<class 'pandas.core.frame.DataFrame'>\n",
            "RangeIndex: 10841 entries, 0 to 10840\n",
            "Data columns (total 13 columns):\n",
            " #   Column          Non-Null Count  Dtype  \n",
            "---  ------          --------------  -----  \n",
            " 0   App             10841 non-null  object \n",
            " 1   Category        10841 non-null  object \n",
            " 2   Rating          9367 non-null   float64\n",
            " 3   Reviews         10841 non-null  object \n",
            " 4   Size            10841 non-null  object \n",
            " 5   Installs        10841 non-null  object \n",
            " 6   Type            10840 non-null  object \n",
            " 7   Price           10841 non-null  object \n",
            " 8   Content Rating  10840 non-null  object \n",
            " 9   Genres          10841 non-null  object \n",
            " 10  Last Updated    10841 non-null  object \n",
            " 11  Current Ver     10833 non-null  object \n",
            " 12  Android Ver     10838 non-null  object \n",
            "dtypes: float64(1), object(12)\n",
            "memory usage: 1.1+ MB\n"
          ]
        }
      ]
    },
    {
      "cell_type": "markdown",
      "metadata": {
        "id": "Z8bkJr8A1UG8"
      },
      "source": [
        "Here we are having table showing 13 feature names and the count of non-values present in them. Now we will check each column in data cleaning part. "
      ]
    },
    {
      "cell_type": "code",
      "metadata": {
        "colab": {
          "base_uri": "https://localhost:8080/"
        },
        "id": "hddyRGkgzKR0",
        "outputId": "b8135cb5-52e4-4f13-a9ec-fa2490452b53"
      },
      "source": [
        "user_reviews_df.info()"
      ],
      "execution_count": 107,
      "outputs": [
        {
          "output_type": "stream",
          "name": "stdout",
          "text": [
            "<class 'pandas.core.frame.DataFrame'>\n",
            "RangeIndex: 64295 entries, 0 to 64294\n",
            "Data columns (total 5 columns):\n",
            " #   Column                  Non-Null Count  Dtype  \n",
            "---  ------                  --------------  -----  \n",
            " 0   App                     64295 non-null  object \n",
            " 1   Translated_Review       37427 non-null  object \n",
            " 2   Sentiment               37432 non-null  object \n",
            " 3   Sentiment_Polarity      37432 non-null  float64\n",
            " 4   Sentiment_Subjectivity  37432 non-null  float64\n",
            "dtypes: float64(2), object(3)\n",
            "memory usage: 2.5+ MB\n"
          ]
        }
      ]
    },
    {
      "cell_type": "markdown",
      "metadata": {
        "id": "2rbJmu1o1xpl"
      },
      "source": [
        "Here also in user reviews dataframe we have 5 features with there counts of non-null values."
      ]
    },
    {
      "cell_type": "code",
      "metadata": {
        "colab": {
          "base_uri": "https://localhost:8080/"
        },
        "id": "06krqBkYzdDE",
        "outputId": "83e79bad-83e8-4f7f-9662-3427f26d210d"
      },
      "source": [
        "play_store_df.columns"
      ],
      "execution_count": 108,
      "outputs": [
        {
          "output_type": "execute_result",
          "data": {
            "text/plain": [
              "Index(['App', 'Category', 'Rating', 'Reviews', 'Size', 'Installs', 'Type',\n",
              "       'Price', 'Content Rating', 'Genres', 'Last Updated', 'Current Ver',\n",
              "       'Android Ver'],\n",
              "      dtype='object')"
            ]
          },
          "metadata": {},
          "execution_count": 108
        }
      ]
    },
    {
      "cell_type": "code",
      "metadata": {
        "id": "npgdx9FRzPDh"
      },
      "source": [
        "# Checking the column names and removing the spaces so column will be easier to access \n",
        "play_store_df.rename(columns={\"Content Rating\":\"Content_Rating\", \"Last Updated\":\"Last_Updated\", \"Current Ver\":\"Current_Ver\", \"Android Ver\":\"Android_Ver\"}, inplace=True)"
      ],
      "execution_count": 109,
      "outputs": []
    },
    {
      "cell_type": "code",
      "metadata": {
        "colab": {
          "base_uri": "https://localhost:8080/"
        },
        "id": "PCfRy444zeDk",
        "outputId": "60b9cc97-982f-468a-a4af-574c6e241889"
      },
      "source": [
        "play_store_df.columns"
      ],
      "execution_count": 110,
      "outputs": [
        {
          "output_type": "execute_result",
          "data": {
            "text/plain": [
              "Index(['App', 'Category', 'Rating', 'Reviews', 'Size', 'Installs', 'Type',\n",
              "       'Price', 'Content_Rating', 'Genres', 'Last_Updated', 'Current_Ver',\n",
              "       'Android_Ver'],\n",
              "      dtype='object')"
            ]
          },
          "metadata": {},
          "execution_count": 110
        }
      ]
    },
    {
      "cell_type": "code",
      "metadata": {
        "colab": {
          "base_uri": "https://localhost:8080/"
        },
        "id": "nvGjwX0-zfH3",
        "outputId": "1efd91a2-da5f-46d3-bc09-641fa8b5becd"
      },
      "source": [
        "user_reviews_df.columns "
      ],
      "execution_count": 111,
      "outputs": [
        {
          "output_type": "execute_result",
          "data": {
            "text/plain": [
              "Index(['App', 'Translated_Review', 'Sentiment', 'Sentiment_Polarity',\n",
              "       'Sentiment_Subjectivity'],\n",
              "      dtype='object')"
            ]
          },
          "metadata": {},
          "execution_count": 111
        }
      ]
    },
    {
      "cell_type": "markdown",
      "metadata": {
        "id": "QjxD9RKkzw-z"
      },
      "source": [
        "Already spaces are replaced by underscores"
      ]
    },
    {
      "cell_type": "markdown",
      "metadata": {
        "id": "yLGBxlr5yq_4"
      },
      "source": [
        "### 1.3.1 Data Cleaning part for Play store dataframe."
      ]
    },
    {
      "cell_type": "markdown",
      "metadata": {
        "id": "6U9Q7n0_0JO9"
      },
      "source": [
        "Firstly we will remove the duplicated rows for the play store dataframe."
      ]
    },
    {
      "cell_type": "code",
      "metadata": {
        "colab": {
          "base_uri": "https://localhost:8080/"
        },
        "id": "-BOO1ANFylqk",
        "outputId": "44fd3e38-ba5a-4055-c3b9-0c3d28b20e6e"
      },
      "source": [
        "duplicated_rows_play_store_index=play_store_df[play_store_df.duplicated()].index\n",
        "print(duplicated_rows_play_store_index)"
      ],
      "execution_count": 112,
      "outputs": [
        {
          "output_type": "stream",
          "name": "stdout",
          "text": [
            "Int64Index([  229,   236,   239,   256,   261,   265,   266,   267,   268,\n",
            "              269,\n",
            "            ...\n",
            "             8632,  8635,  8636,  8639,  8642,  8643,  8654,  8658, 10049,\n",
            "            10768],\n",
            "           dtype='int64', length=483)\n"
          ]
        }
      ]
    },
    {
      "cell_type": "code",
      "metadata": {
        "colab": {
          "base_uri": "https://localhost:8080/"
        },
        "id": "l5mzVlJ1zDBM",
        "outputId": "022f6f97-a798-4ceb-c68c-1ea1d2eb73b7"
      },
      "source": [
        "# Dropping the duplicated rows as they were disturbing the data integrity and checking the shape\n",
        "play_store_df.drop(duplicated_rows_play_store_index, inplace=True)\n",
        "play_store_df.shape"
      ],
      "execution_count": 113,
      "outputs": [
        {
          "output_type": "execute_result",
          "data": {
            "text/plain": [
              "(10358, 13)"
            ]
          },
          "metadata": {},
          "execution_count": 113
        }
      ]
    },
    {
      "cell_type": "code",
      "metadata": {
        "colab": {
          "base_uri": "https://localhost:8080/"
        },
        "id": "tfolNS9C2Tyv",
        "outputId": "da0c301c-11ef-47d7-ed09-d3d9585b04ec"
      },
      "source": [
        "play_store_df.App.isnull().sum()"
      ],
      "execution_count": 114,
      "outputs": [
        {
          "output_type": "execute_result",
          "data": {
            "text/plain": [
              "0"
            ]
          },
          "metadata": {},
          "execution_count": 114
        }
      ]
    },
    {
      "cell_type": "markdown",
      "metadata": {
        "id": "12BXXU9y5qN8"
      },
      "source": [
        "No null values in App feature."
      ]
    },
    {
      "cell_type": "code",
      "metadata": {
        "colab": {
          "base_uri": "https://localhost:8080/"
        },
        "id": "D4e8Pkys2bN1",
        "outputId": "ed117799-0308-4e33-a55f-94f989667e06"
      },
      "source": [
        "play_store_df.Category.isnull().sum()"
      ],
      "execution_count": 115,
      "outputs": [
        {
          "output_type": "execute_result",
          "data": {
            "text/plain": [
              "0"
            ]
          },
          "metadata": {},
          "execution_count": 115
        }
      ]
    },
    {
      "cell_type": "markdown",
      "metadata": {
        "id": "h8omj7Q55yti"
      },
      "source": [
        "No null values in Category feature."
      ]
    },
    {
      "cell_type": "code",
      "metadata": {
        "colab": {
          "base_uri": "https://localhost:8080/"
        },
        "id": "hcUFpn-r01Ir",
        "outputId": "a769554e-82fb-4c91-ce53-00e473d09c9d"
      },
      "source": [
        "# Getting the unique values of category column\n",
        "play_store_df.Category.unique()"
      ],
      "execution_count": 116,
      "outputs": [
        {
          "output_type": "execute_result",
          "data": {
            "text/plain": [
              "array(['ART_AND_DESIGN', 'AUTO_AND_VEHICLES', 'BEAUTY',\n",
              "       'BOOKS_AND_REFERENCE', 'BUSINESS', 'COMICS', 'COMMUNICATION',\n",
              "       'DATING', 'EDUCATION', 'ENTERTAINMENT', 'EVENTS', 'FINANCE',\n",
              "       'FOOD_AND_DRINK', 'HEALTH_AND_FITNESS', 'HOUSE_AND_HOME',\n",
              "       'LIBRARIES_AND_DEMO', 'LIFESTYLE', 'GAME', 'FAMILY', 'MEDICAL',\n",
              "       'SOCIAL', 'SHOPPING', 'PHOTOGRAPHY', 'SPORTS', 'TRAVEL_AND_LOCAL',\n",
              "       'TOOLS', 'PERSONALIZATION', 'PRODUCTIVITY', 'PARENTING', 'WEATHER',\n",
              "       'VIDEO_PLAYERS', 'NEWS_AND_MAGAZINES', 'MAPS_AND_NAVIGATION',\n",
              "       '1.9'], dtype=object)"
            ]
          },
          "metadata": {},
          "execution_count": 116
        }
      ]
    },
    {
      "cell_type": "markdown",
      "metadata": {
        "id": "SKJTIT4W52_S"
      },
      "source": [
        "These are all the unique categories of application that we are having in our data."
      ]
    },
    {
      "cell_type": "code",
      "metadata": {
        "colab": {
          "base_uri": "https://localhost:8080/"
        },
        "id": "AvOUIo5j2jEj",
        "outputId": "08d1cc29-4f9d-40ba-ff6c-9f1b748053af"
      },
      "source": [
        "play_store_df.Rating.isnull().sum()"
      ],
      "execution_count": 117,
      "outputs": [
        {
          "output_type": "execute_result",
          "data": {
            "text/plain": [
              "1465"
            ]
          },
          "metadata": {},
          "execution_count": 117
        }
      ]
    },
    {
      "cell_type": "markdown",
      "metadata": {
        "id": "leWZuIbD6G87"
      },
      "source": [
        "We are having 1465 null values in rating column which we have to fill or drop out."
      ]
    },
    {
      "cell_type": "code",
      "metadata": {
        "colab": {
          "base_uri": "https://localhost:8080/"
        },
        "id": "3V3UYn3W6aVa",
        "outputId": "349945ab-febf-4cef-9937-f424d4711162"
      },
      "source": [
        "print(\"Minimum rating to an App given:\",min(play_store_df.Rating))\n",
        "print(\"Maximum rating to an App given:\",max(play_store_df.Rating))"
      ],
      "execution_count": 118,
      "outputs": [
        {
          "output_type": "stream",
          "name": "stdout",
          "text": [
            "Minimum rating to an App given: 1.0\n",
            "Maximum rating to an App given: 19.0\n"
          ]
        }
      ]
    },
    {
      "cell_type": "markdown",
      "metadata": {
        "id": "qXuXhrja61oM"
      },
      "source": [
        "Max rating of the App can be 5.0"
      ]
    },
    {
      "cell_type": "code",
      "metadata": {
        "colab": {
          "base_uri": "https://localhost:8080/",
          "height": 132
        },
        "id": "_VHcUWkx7KM4",
        "outputId": "a57e005f-ed51-4eb1-ac85-39c6e22925da"
      },
      "source": [
        "play_store_df[play_store_df.Rating>5]"
      ],
      "execution_count": 119,
      "outputs": [
        {
          "output_type": "execute_result",
          "data": {
            "text/html": [
              "<div>\n",
              "<style scoped>\n",
              "    .dataframe tbody tr th:only-of-type {\n",
              "        vertical-align: middle;\n",
              "    }\n",
              "\n",
              "    .dataframe tbody tr th {\n",
              "        vertical-align: top;\n",
              "    }\n",
              "\n",
              "    .dataframe thead th {\n",
              "        text-align: right;\n",
              "    }\n",
              "</style>\n",
              "<table border=\"1\" class=\"dataframe\">\n",
              "  <thead>\n",
              "    <tr style=\"text-align: right;\">\n",
              "      <th></th>\n",
              "      <th>App</th>\n",
              "      <th>Category</th>\n",
              "      <th>Rating</th>\n",
              "      <th>Reviews</th>\n",
              "      <th>Size</th>\n",
              "      <th>Installs</th>\n",
              "      <th>Type</th>\n",
              "      <th>Price</th>\n",
              "      <th>Content_Rating</th>\n",
              "      <th>Genres</th>\n",
              "      <th>Last_Updated</th>\n",
              "      <th>Current_Ver</th>\n",
              "      <th>Android_Ver</th>\n",
              "    </tr>\n",
              "  </thead>\n",
              "  <tbody>\n",
              "    <tr>\n",
              "      <th>10472</th>\n",
              "      <td>Life Made WI-Fi Touchscreen Photo Frame</td>\n",
              "      <td>1.9</td>\n",
              "      <td>19.0</td>\n",
              "      <td>3.0M</td>\n",
              "      <td>1,000+</td>\n",
              "      <td>Free</td>\n",
              "      <td>0</td>\n",
              "      <td>Everyone</td>\n",
              "      <td>NaN</td>\n",
              "      <td>February 11, 2018</td>\n",
              "      <td>1.0.19</td>\n",
              "      <td>4.0 and up</td>\n",
              "      <td>NaN</td>\n",
              "    </tr>\n",
              "  </tbody>\n",
              "</table>\n",
              "</div>"
            ],
            "text/plain": [
              "                                           App Category  ...  Current_Ver Android_Ver\n",
              "10472  Life Made WI-Fi Touchscreen Photo Frame      1.9  ...   4.0 and up         NaN\n",
              "\n",
              "[1 rows x 13 columns]"
            ]
          },
          "metadata": {},
          "execution_count": 119
        }
      ]
    },
    {
      "cell_type": "markdown",
      "metadata": {
        "id": "0ZMGI9Q07QHJ"
      },
      "source": [
        "We can see this record is manipulated as it has rating more than 5, price is everyone which should be some value, installs is free etc. so we will remove this record."
      ]
    },
    {
      "cell_type": "code",
      "metadata": {
        "id": "E9FB7djt2iIM"
      },
      "source": [
        "play_store_df.drop(play_store_df[play_store_df.Rating>5].index,inplace=True)"
      ],
      "execution_count": 120,
      "outputs": []
    },
    {
      "cell_type": "code",
      "metadata": {
        "colab": {
          "base_uri": "https://localhost:8080/"
        },
        "id": "sYdVPOQ17HrA",
        "outputId": "9d9a27c1-ae99-43c0-d097-97f5c69b13d4"
      },
      "source": [
        "print(\"Now maximum rating of an App is:\",max(play_store_df.Rating))"
      ],
      "execution_count": 121,
      "outputs": [
        {
          "output_type": "stream",
          "name": "stdout",
          "text": [
            "Now maximum rating of an App is: 5.0\n"
          ]
        }
      ]
    },
    {
      "cell_type": "code",
      "metadata": {
        "id": "33C5aj0o73ug"
      },
      "source": [
        "play_store_df.reset_index(drop=True,inplace=True)"
      ],
      "execution_count": 122,
      "outputs": []
    },
    {
      "cell_type": "code",
      "metadata": {
        "colab": {
          "base_uri": "https://localhost:8080/",
          "height": 554
        },
        "id": "U7SZbrKs8VCH",
        "outputId": "2fabd427-fb0e-49e5-c8c7-b360f62d3d8b"
      },
      "source": [
        "play_store_df.head()"
      ],
      "execution_count": 123,
      "outputs": [
        {
          "output_type": "execute_result",
          "data": {
            "text/html": [
              "<div>\n",
              "<style scoped>\n",
              "    .dataframe tbody tr th:only-of-type {\n",
              "        vertical-align: middle;\n",
              "    }\n",
              "\n",
              "    .dataframe tbody tr th {\n",
              "        vertical-align: top;\n",
              "    }\n",
              "\n",
              "    .dataframe thead th {\n",
              "        text-align: right;\n",
              "    }\n",
              "</style>\n",
              "<table border=\"1\" class=\"dataframe\">\n",
              "  <thead>\n",
              "    <tr style=\"text-align: right;\">\n",
              "      <th></th>\n",
              "      <th>App</th>\n",
              "      <th>Category</th>\n",
              "      <th>Rating</th>\n",
              "      <th>Reviews</th>\n",
              "      <th>Size</th>\n",
              "      <th>Installs</th>\n",
              "      <th>Type</th>\n",
              "      <th>Price</th>\n",
              "      <th>Content_Rating</th>\n",
              "      <th>Genres</th>\n",
              "      <th>Last_Updated</th>\n",
              "      <th>Current_Ver</th>\n",
              "      <th>Android_Ver</th>\n",
              "    </tr>\n",
              "  </thead>\n",
              "  <tbody>\n",
              "    <tr>\n",
              "      <th>0</th>\n",
              "      <td>Photo Editor &amp; Candy Camera &amp; Grid &amp; ScrapBook</td>\n",
              "      <td>ART_AND_DESIGN</td>\n",
              "      <td>4.1</td>\n",
              "      <td>159</td>\n",
              "      <td>19M</td>\n",
              "      <td>10,000+</td>\n",
              "      <td>Free</td>\n",
              "      <td>0</td>\n",
              "      <td>Everyone</td>\n",
              "      <td>Art &amp; Design</td>\n",
              "      <td>January 7, 2018</td>\n",
              "      <td>1.0.0</td>\n",
              "      <td>4.0.3 and up</td>\n",
              "    </tr>\n",
              "    <tr>\n",
              "      <th>1</th>\n",
              "      <td>Coloring book moana</td>\n",
              "      <td>ART_AND_DESIGN</td>\n",
              "      <td>3.9</td>\n",
              "      <td>967</td>\n",
              "      <td>14M</td>\n",
              "      <td>500,000+</td>\n",
              "      <td>Free</td>\n",
              "      <td>0</td>\n",
              "      <td>Everyone</td>\n",
              "      <td>Art &amp; Design;Pretend Play</td>\n",
              "      <td>January 15, 2018</td>\n",
              "      <td>2.0.0</td>\n",
              "      <td>4.0.3 and up</td>\n",
              "    </tr>\n",
              "    <tr>\n",
              "      <th>2</th>\n",
              "      <td>U Launcher Lite – FREE Live Cool Themes, Hide ...</td>\n",
              "      <td>ART_AND_DESIGN</td>\n",
              "      <td>4.7</td>\n",
              "      <td>87510</td>\n",
              "      <td>8.7M</td>\n",
              "      <td>5,000,000+</td>\n",
              "      <td>Free</td>\n",
              "      <td>0</td>\n",
              "      <td>Everyone</td>\n",
              "      <td>Art &amp; Design</td>\n",
              "      <td>August 1, 2018</td>\n",
              "      <td>1.2.4</td>\n",
              "      <td>4.0.3 and up</td>\n",
              "    </tr>\n",
              "    <tr>\n",
              "      <th>3</th>\n",
              "      <td>Sketch - Draw &amp; Paint</td>\n",
              "      <td>ART_AND_DESIGN</td>\n",
              "      <td>4.5</td>\n",
              "      <td>215644</td>\n",
              "      <td>25M</td>\n",
              "      <td>50,000,000+</td>\n",
              "      <td>Free</td>\n",
              "      <td>0</td>\n",
              "      <td>Teen</td>\n",
              "      <td>Art &amp; Design</td>\n",
              "      <td>June 8, 2018</td>\n",
              "      <td>Varies with device</td>\n",
              "      <td>4.2 and up</td>\n",
              "    </tr>\n",
              "    <tr>\n",
              "      <th>4</th>\n",
              "      <td>Pixel Draw - Number Art Coloring Book</td>\n",
              "      <td>ART_AND_DESIGN</td>\n",
              "      <td>4.3</td>\n",
              "      <td>967</td>\n",
              "      <td>2.8M</td>\n",
              "      <td>100,000+</td>\n",
              "      <td>Free</td>\n",
              "      <td>0</td>\n",
              "      <td>Everyone</td>\n",
              "      <td>Art &amp; Design;Creativity</td>\n",
              "      <td>June 20, 2018</td>\n",
              "      <td>1.1</td>\n",
              "      <td>4.4 and up</td>\n",
              "    </tr>\n",
              "  </tbody>\n",
              "</table>\n",
              "</div>"
            ],
            "text/plain": [
              "                                                 App  ...   Android_Ver\n",
              "0     Photo Editor & Candy Camera & Grid & ScrapBook  ...  4.0.3 and up\n",
              "1                                Coloring book moana  ...  4.0.3 and up\n",
              "2  U Launcher Lite – FREE Live Cool Themes, Hide ...  ...  4.0.3 and up\n",
              "3                              Sketch - Draw & Paint  ...    4.2 and up\n",
              "4              Pixel Draw - Number Art Coloring Book  ...    4.4 and up\n",
              "\n",
              "[5 rows x 13 columns]"
            ]
          },
          "metadata": {},
          "execution_count": 123
        }
      ]
    },
    {
      "cell_type": "code",
      "metadata": {
        "colab": {
          "base_uri": "https://localhost:8080/"
        },
        "id": "GxUwToWl8Z8o",
        "outputId": "a6b19775-32b4-4504-d87e-d92b1e5e28ab"
      },
      "source": [
        "play_store_df.Rating.isnull().sum()"
      ],
      "execution_count": 124,
      "outputs": [
        {
          "output_type": "execute_result",
          "data": {
            "text/plain": [
              "1465"
            ]
          },
          "metadata": {},
          "execution_count": 124
        }
      ]
    },
    {
      "cell_type": "markdown",
      "metadata": {
        "id": "o4Fy4GHh8j64"
      },
      "source": [
        "Still we are having 1465 number of null values in our Rating column."
      ]
    },
    {
      "cell_type": "code",
      "metadata": {
        "colab": {
          "base_uri": "https://localhost:8080/",
          "height": 822
        },
        "id": "9OkIBKDD8i1f",
        "outputId": "ef952048-6905-44af-b7f5-0403696187db"
      },
      "source": [
        "versions_of_app=play_store_df[play_store_df.App.duplicated(keep=False)].groupby(by=[\"App\"],as_index=False).apply(lambda x: x[:])\n",
        "versions_of_app"
      ],
      "execution_count": 125,
      "outputs": [
        {
          "output_type": "execute_result",
          "data": {
            "text/html": [
              "<div>\n",
              "<style scoped>\n",
              "    .dataframe tbody tr th:only-of-type {\n",
              "        vertical-align: middle;\n",
              "    }\n",
              "\n",
              "    .dataframe tbody tr th {\n",
              "        vertical-align: top;\n",
              "    }\n",
              "\n",
              "    .dataframe thead th {\n",
              "        text-align: right;\n",
              "    }\n",
              "</style>\n",
              "<table border=\"1\" class=\"dataframe\">\n",
              "  <thead>\n",
              "    <tr style=\"text-align: right;\">\n",
              "      <th></th>\n",
              "      <th></th>\n",
              "      <th>App</th>\n",
              "      <th>Category</th>\n",
              "      <th>Rating</th>\n",
              "      <th>Reviews</th>\n",
              "      <th>Size</th>\n",
              "      <th>Installs</th>\n",
              "      <th>Type</th>\n",
              "      <th>Price</th>\n",
              "      <th>Content_Rating</th>\n",
              "      <th>Genres</th>\n",
              "      <th>Last_Updated</th>\n",
              "      <th>Current_Ver</th>\n",
              "      <th>Android_Ver</th>\n",
              "    </tr>\n",
              "  </thead>\n",
              "  <tbody>\n",
              "    <tr>\n",
              "      <th rowspan=\"2\" valign=\"top\">0</th>\n",
              "      <th>2697</th>\n",
              "      <td>365Scores - Live Scores</td>\n",
              "      <td>SPORTS</td>\n",
              "      <td>4.6</td>\n",
              "      <td>666521</td>\n",
              "      <td>25M</td>\n",
              "      <td>10,000,000+</td>\n",
              "      <td>Free</td>\n",
              "      <td>0</td>\n",
              "      <td>Everyone</td>\n",
              "      <td>Sports</td>\n",
              "      <td>July 29, 2018</td>\n",
              "      <td>5.5.9</td>\n",
              "      <td>4.1 and up</td>\n",
              "    </tr>\n",
              "    <tr>\n",
              "      <th>4959</th>\n",
              "      <td>365Scores - Live Scores</td>\n",
              "      <td>SPORTS</td>\n",
              "      <td>4.6</td>\n",
              "      <td>666246</td>\n",
              "      <td>25M</td>\n",
              "      <td>10,000,000+</td>\n",
              "      <td>Free</td>\n",
              "      <td>0</td>\n",
              "      <td>Everyone</td>\n",
              "      <td>Sports</td>\n",
              "      <td>July 29, 2018</td>\n",
              "      <td>5.5.9</td>\n",
              "      <td>4.1 and up</td>\n",
              "    </tr>\n",
              "    <tr>\n",
              "      <th rowspan=\"3\" valign=\"top\">1</th>\n",
              "      <th>1468</th>\n",
              "      <td>8 Ball Pool</td>\n",
              "      <td>GAME</td>\n",
              "      <td>4.5</td>\n",
              "      <td>14198297</td>\n",
              "      <td>52M</td>\n",
              "      <td>100,000,000+</td>\n",
              "      <td>Free</td>\n",
              "      <td>0</td>\n",
              "      <td>Everyone</td>\n",
              "      <td>Sports</td>\n",
              "      <td>July 31, 2018</td>\n",
              "      <td>4.0.0</td>\n",
              "      <td>4.0.3 and up</td>\n",
              "    </tr>\n",
              "    <tr>\n",
              "      <th>1496</th>\n",
              "      <td>8 Ball Pool</td>\n",
              "      <td>GAME</td>\n",
              "      <td>4.5</td>\n",
              "      <td>14198602</td>\n",
              "      <td>52M</td>\n",
              "      <td>100,000,000+</td>\n",
              "      <td>Free</td>\n",
              "      <td>0</td>\n",
              "      <td>Everyone</td>\n",
              "      <td>Sports</td>\n",
              "      <td>July 31, 2018</td>\n",
              "      <td>4.0.0</td>\n",
              "      <td>4.0.3 and up</td>\n",
              "    </tr>\n",
              "    <tr>\n",
              "      <th>1544</th>\n",
              "      <td>8 Ball Pool</td>\n",
              "      <td>GAME</td>\n",
              "      <td>4.5</td>\n",
              "      <td>14200344</td>\n",
              "      <td>52M</td>\n",
              "      <td>100,000,000+</td>\n",
              "      <td>Free</td>\n",
              "      <td>0</td>\n",
              "      <td>Everyone</td>\n",
              "      <td>Sports</td>\n",
              "      <td>July 31, 2018</td>\n",
              "      <td>4.0.0</td>\n",
              "      <td>4.0.3 and up</td>\n",
              "    </tr>\n",
              "    <tr>\n",
              "      <th>...</th>\n",
              "      <th>...</th>\n",
              "      <td>...</td>\n",
              "      <td>...</td>\n",
              "      <td>...</td>\n",
              "      <td>...</td>\n",
              "      <td>...</td>\n",
              "      <td>...</td>\n",
              "      <td>...</td>\n",
              "      <td>...</td>\n",
              "      <td>...</td>\n",
              "      <td>...</td>\n",
              "      <td>...</td>\n",
              "      <td>...</td>\n",
              "      <td>...</td>\n",
              "    </tr>\n",
              "    <tr>\n",
              "      <th>520</th>\n",
              "      <th>2331</th>\n",
              "      <td>textPlus: Free Text &amp; Calls</td>\n",
              "      <td>SOCIAL</td>\n",
              "      <td>4.1</td>\n",
              "      <td>382121</td>\n",
              "      <td>28M</td>\n",
              "      <td>10,000,000+</td>\n",
              "      <td>Free</td>\n",
              "      <td>0</td>\n",
              "      <td>Everyone</td>\n",
              "      <td>Social</td>\n",
              "      <td>July 26, 2018</td>\n",
              "      <td>7.3.1</td>\n",
              "      <td>4.1 and up</td>\n",
              "    </tr>\n",
              "    <tr>\n",
              "      <th rowspan=\"2\" valign=\"top\">521</th>\n",
              "      <th>2602</th>\n",
              "      <td>theScore: Live Sports Scores, News, Stats &amp; Vi...</td>\n",
              "      <td>SPORTS</td>\n",
              "      <td>4.4</td>\n",
              "      <td>133825</td>\n",
              "      <td>34M</td>\n",
              "      <td>10,000,000+</td>\n",
              "      <td>Free</td>\n",
              "      <td>0</td>\n",
              "      <td>Everyone 10+</td>\n",
              "      <td>Sports</td>\n",
              "      <td>July 25, 2018</td>\n",
              "      <td>6.17.2</td>\n",
              "      <td>4.4 and up</td>\n",
              "    </tr>\n",
              "    <tr>\n",
              "      <th>2680</th>\n",
              "      <td>theScore: Live Sports Scores, News, Stats &amp; Vi...</td>\n",
              "      <td>SPORTS</td>\n",
              "      <td>4.4</td>\n",
              "      <td>133833</td>\n",
              "      <td>34M</td>\n",
              "      <td>10,000,000+</td>\n",
              "      <td>Free</td>\n",
              "      <td>0</td>\n",
              "      <td>Everyone 10+</td>\n",
              "      <td>Sports</td>\n",
              "      <td>July 25, 2018</td>\n",
              "      <td>6.17.2</td>\n",
              "      <td>4.4 and up</td>\n",
              "    </tr>\n",
              "    <tr>\n",
              "      <th rowspan=\"2\" valign=\"top\">522</th>\n",
              "      <th>3226</th>\n",
              "      <td>wetter.com - Weather and Radar</td>\n",
              "      <td>WEATHER</td>\n",
              "      <td>4.2</td>\n",
              "      <td>189313</td>\n",
              "      <td>38M</td>\n",
              "      <td>10,000,000+</td>\n",
              "      <td>Free</td>\n",
              "      <td>0</td>\n",
              "      <td>Everyone</td>\n",
              "      <td>Weather</td>\n",
              "      <td>August 6, 2018</td>\n",
              "      <td>Varies with device</td>\n",
              "      <td>Varies with device</td>\n",
              "    </tr>\n",
              "    <tr>\n",
              "      <th>7820</th>\n",
              "      <td>wetter.com - Weather and Radar</td>\n",
              "      <td>WEATHER</td>\n",
              "      <td>4.2</td>\n",
              "      <td>189310</td>\n",
              "      <td>38M</td>\n",
              "      <td>10,000,000+</td>\n",
              "      <td>Free</td>\n",
              "      <td>0</td>\n",
              "      <td>Everyone</td>\n",
              "      <td>Weather</td>\n",
              "      <td>August 6, 2018</td>\n",
              "      <td>Varies with device</td>\n",
              "      <td>Varies with device</td>\n",
              "    </tr>\n",
              "  </tbody>\n",
              "</table>\n",
              "<p>1221 rows × 13 columns</p>\n",
              "</div>"
            ],
            "text/plain": [
              "                                                        App  ...         Android_Ver\n",
              "0   2697                            365Scores - Live Scores  ...          4.1 and up\n",
              "    4959                            365Scores - Live Scores  ...          4.1 and up\n",
              "1   1468                                        8 Ball Pool  ...        4.0.3 and up\n",
              "    1496                                        8 Ball Pool  ...        4.0.3 and up\n",
              "    1544                                        8 Ball Pool  ...        4.0.3 and up\n",
              "...                                                     ...  ...                 ...\n",
              "520 2331                        textPlus: Free Text & Calls  ...          4.1 and up\n",
              "521 2602  theScore: Live Sports Scores, News, Stats & Vi...  ...          4.4 and up\n",
              "    2680  theScore: Live Sports Scores, News, Stats & Vi...  ...          4.4 and up\n",
              "522 3226                     wetter.com - Weather and Radar  ...  Varies with device\n",
              "    7820                     wetter.com - Weather and Radar  ...  Varies with device\n",
              "\n",
              "[1221 rows x 13 columns]"
            ]
          },
          "metadata": {},
          "execution_count": 125
        }
      ]
    },
    {
      "cell_type": "code",
      "metadata": {
        "colab": {
          "base_uri": "https://localhost:8080/",
          "height": 250
        },
        "id": "xsIOFh0Y9JUR",
        "outputId": "122bfa87-5c76-4ec9-dbed-89a989240144"
      },
      "source": [
        "versions_of_app[versions_of_app[\"Rating\"].isnull()]"
      ],
      "execution_count": 126,
      "outputs": [
        {
          "output_type": "execute_result",
          "data": {
            "text/html": [
              "<div>\n",
              "<style scoped>\n",
              "    .dataframe tbody tr th:only-of-type {\n",
              "        vertical-align: middle;\n",
              "    }\n",
              "\n",
              "    .dataframe tbody tr th {\n",
              "        vertical-align: top;\n",
              "    }\n",
              "\n",
              "    .dataframe thead th {\n",
              "        text-align: right;\n",
              "    }\n",
              "</style>\n",
              "<table border=\"1\" class=\"dataframe\">\n",
              "  <thead>\n",
              "    <tr style=\"text-align: right;\">\n",
              "      <th></th>\n",
              "      <th></th>\n",
              "      <th>App</th>\n",
              "      <th>Category</th>\n",
              "      <th>Rating</th>\n",
              "      <th>Reviews</th>\n",
              "      <th>Size</th>\n",
              "      <th>Installs</th>\n",
              "      <th>Type</th>\n",
              "      <th>Price</th>\n",
              "      <th>Content_Rating</th>\n",
              "      <th>Genres</th>\n",
              "      <th>Last_Updated</th>\n",
              "      <th>Current_Ver</th>\n",
              "      <th>Android_Ver</th>\n",
              "    </tr>\n",
              "  </thead>\n",
              "  <tbody>\n",
              "    <tr>\n",
              "      <th>48</th>\n",
              "      <th>2222</th>\n",
              "      <td>Blood Pressure</td>\n",
              "      <td>MEDICAL</td>\n",
              "      <td>NaN</td>\n",
              "      <td>10</td>\n",
              "      <td>2.4M</td>\n",
              "      <td>1,000+</td>\n",
              "      <td>Free</td>\n",
              "      <td>0</td>\n",
              "      <td>Everyone</td>\n",
              "      <td>Medical</td>\n",
              "      <td>March 14, 2015</td>\n",
              "      <td>1.0</td>\n",
              "      <td>2.3 and up</td>\n",
              "    </tr>\n",
              "    <tr>\n",
              "      <th rowspan=\"2\" valign=\"top\">282</th>\n",
              "      <th>23</th>\n",
              "      <td>Mcqueen Coloring pages</td>\n",
              "      <td>ART_AND_DESIGN</td>\n",
              "      <td>NaN</td>\n",
              "      <td>61</td>\n",
              "      <td>7.0M</td>\n",
              "      <td>100,000+</td>\n",
              "      <td>Free</td>\n",
              "      <td>0</td>\n",
              "      <td>Everyone</td>\n",
              "      <td>Art &amp; Design;Action &amp; Adventure</td>\n",
              "      <td>March 7, 2018</td>\n",
              "      <td>1.0.0</td>\n",
              "      <td>4.1 and up</td>\n",
              "    </tr>\n",
              "    <tr>\n",
              "      <th>1878</th>\n",
              "      <td>Mcqueen Coloring pages</td>\n",
              "      <td>FAMILY</td>\n",
              "      <td>NaN</td>\n",
              "      <td>65</td>\n",
              "      <td>7.0M</td>\n",
              "      <td>100,000+</td>\n",
              "      <td>Free</td>\n",
              "      <td>0</td>\n",
              "      <td>Everyone</td>\n",
              "      <td>Art &amp; Design;Action &amp; Adventure</td>\n",
              "      <td>March 7, 2018</td>\n",
              "      <td>1.0.0</td>\n",
              "      <td>4.1 and up</td>\n",
              "    </tr>\n",
              "  </tbody>\n",
              "</table>\n",
              "</div>"
            ],
            "text/plain": [
              "                             App        Category  ...  Current_Ver Android_Ver\n",
              "48  2222          Blood Pressure         MEDICAL  ...          1.0  2.3 and up\n",
              "282 23    Mcqueen Coloring pages  ART_AND_DESIGN  ...        1.0.0  4.1 and up\n",
              "    1878  Mcqueen Coloring pages          FAMILY  ...        1.0.0  4.1 and up\n",
              "\n",
              "[3 rows x 13 columns]"
            ]
          },
          "metadata": {},
          "execution_count": 126
        }
      ]
    },
    {
      "cell_type": "markdown",
      "metadata": {
        "id": "z8DuNNbS9PGn"
      },
      "source": [
        "Checking for the different versions and filling the rating of Applications with there mean."
      ]
    },
    {
      "cell_type": "code",
      "metadata": {
        "colab": {
          "base_uri": "https://localhost:8080/",
          "height": 112
        },
        "id": "lh_2NLNd9NSg",
        "outputId": "bb89e88a-164a-4072-a273-8c4cb1778893"
      },
      "source": [
        "play_store_df[play_store_df[\"App\"]=='Blood Pressure']"
      ],
      "execution_count": 127,
      "outputs": [
        {
          "output_type": "execute_result",
          "data": {
            "text/html": [
              "<div>\n",
              "<style scoped>\n",
              "    .dataframe tbody tr th:only-of-type {\n",
              "        vertical-align: middle;\n",
              "    }\n",
              "\n",
              "    .dataframe tbody tr th {\n",
              "        vertical-align: top;\n",
              "    }\n",
              "\n",
              "    .dataframe thead th {\n",
              "        text-align: right;\n",
              "    }\n",
              "</style>\n",
              "<table border=\"1\" class=\"dataframe\">\n",
              "  <thead>\n",
              "    <tr style=\"text-align: right;\">\n",
              "      <th></th>\n",
              "      <th>App</th>\n",
              "      <th>Category</th>\n",
              "      <th>Rating</th>\n",
              "      <th>Reviews</th>\n",
              "      <th>Size</th>\n",
              "      <th>Installs</th>\n",
              "      <th>Type</th>\n",
              "      <th>Price</th>\n",
              "      <th>Content_Rating</th>\n",
              "      <th>Genres</th>\n",
              "      <th>Last_Updated</th>\n",
              "      <th>Current_Ver</th>\n",
              "      <th>Android_Ver</th>\n",
              "    </tr>\n",
              "  </thead>\n",
              "  <tbody>\n",
              "    <tr>\n",
              "      <th>2052</th>\n",
              "      <td>Blood Pressure</td>\n",
              "      <td>MEDICAL</td>\n",
              "      <td>4.2</td>\n",
              "      <td>33033</td>\n",
              "      <td>7.4M</td>\n",
              "      <td>5,000,000+</td>\n",
              "      <td>Free</td>\n",
              "      <td>0</td>\n",
              "      <td>Everyone</td>\n",
              "      <td>Medical</td>\n",
              "      <td>July 24, 2018</td>\n",
              "      <td>3.27.3</td>\n",
              "      <td>4.1 and up</td>\n",
              "    </tr>\n",
              "    <tr>\n",
              "      <th>2222</th>\n",
              "      <td>Blood Pressure</td>\n",
              "      <td>MEDICAL</td>\n",
              "      <td>NaN</td>\n",
              "      <td>10</td>\n",
              "      <td>2.4M</td>\n",
              "      <td>1,000+</td>\n",
              "      <td>Free</td>\n",
              "      <td>0</td>\n",
              "      <td>Everyone</td>\n",
              "      <td>Medical</td>\n",
              "      <td>March 14, 2015</td>\n",
              "      <td>1.0</td>\n",
              "      <td>2.3 and up</td>\n",
              "    </tr>\n",
              "  </tbody>\n",
              "</table>\n",
              "</div>"
            ],
            "text/plain": [
              "                 App Category  Rating  ...    Last_Updated Current_Ver Android_Ver\n",
              "2052  Blood Pressure  MEDICAL     4.2  ...   July 24, 2018      3.27.3  4.1 and up\n",
              "2222  Blood Pressure  MEDICAL     NaN  ...  March 14, 2015         1.0  2.3 and up\n",
              "\n",
              "[2 rows x 13 columns]"
            ]
          },
          "metadata": {},
          "execution_count": 127
        }
      ]
    },
    {
      "cell_type": "markdown",
      "metadata": {
        "id": "fQWHyznH9zCl"
      },
      "source": [
        "Only 2 versions available so we can fill with the mean of category to which this app belongs."
      ]
    },
    {
      "cell_type": "code",
      "metadata": {
        "colab": {
          "base_uri": "https://localhost:8080/",
          "height": 201
        },
        "id": "VD4H0IQG9we_",
        "outputId": "8145fdfa-798c-448b-a8b9-5d14890a0878"
      },
      "source": [
        "play_store_df[play_store_df[\"App\"]=='Mcqueen Coloring pages']"
      ],
      "execution_count": 128,
      "outputs": [
        {
          "output_type": "execute_result",
          "data": {
            "text/html": [
              "<div>\n",
              "<style scoped>\n",
              "    .dataframe tbody tr th:only-of-type {\n",
              "        vertical-align: middle;\n",
              "    }\n",
              "\n",
              "    .dataframe tbody tr th {\n",
              "        vertical-align: top;\n",
              "    }\n",
              "\n",
              "    .dataframe thead th {\n",
              "        text-align: right;\n",
              "    }\n",
              "</style>\n",
              "<table border=\"1\" class=\"dataframe\">\n",
              "  <thead>\n",
              "    <tr style=\"text-align: right;\">\n",
              "      <th></th>\n",
              "      <th>App</th>\n",
              "      <th>Category</th>\n",
              "      <th>Rating</th>\n",
              "      <th>Reviews</th>\n",
              "      <th>Size</th>\n",
              "      <th>Installs</th>\n",
              "      <th>Type</th>\n",
              "      <th>Price</th>\n",
              "      <th>Content_Rating</th>\n",
              "      <th>Genres</th>\n",
              "      <th>Last_Updated</th>\n",
              "      <th>Current_Ver</th>\n",
              "      <th>Android_Ver</th>\n",
              "    </tr>\n",
              "  </thead>\n",
              "  <tbody>\n",
              "    <tr>\n",
              "      <th>23</th>\n",
              "      <td>Mcqueen Coloring pages</td>\n",
              "      <td>ART_AND_DESIGN</td>\n",
              "      <td>NaN</td>\n",
              "      <td>61</td>\n",
              "      <td>7.0M</td>\n",
              "      <td>100,000+</td>\n",
              "      <td>Free</td>\n",
              "      <td>0</td>\n",
              "      <td>Everyone</td>\n",
              "      <td>Art &amp; Design;Action &amp; Adventure</td>\n",
              "      <td>March 7, 2018</td>\n",
              "      <td>1.0.0</td>\n",
              "      <td>4.1 and up</td>\n",
              "    </tr>\n",
              "    <tr>\n",
              "      <th>1878</th>\n",
              "      <td>Mcqueen Coloring pages</td>\n",
              "      <td>FAMILY</td>\n",
              "      <td>NaN</td>\n",
              "      <td>65</td>\n",
              "      <td>7.0M</td>\n",
              "      <td>100,000+</td>\n",
              "      <td>Free</td>\n",
              "      <td>0</td>\n",
              "      <td>Everyone</td>\n",
              "      <td>Art &amp; Design;Action &amp; Adventure</td>\n",
              "      <td>March 7, 2018</td>\n",
              "      <td>1.0.0</td>\n",
              "      <td>4.1 and up</td>\n",
              "    </tr>\n",
              "  </tbody>\n",
              "</table>\n",
              "</div>"
            ],
            "text/plain": [
              "                         App        Category  ...  Current_Ver Android_Ver\n",
              "23    Mcqueen Coloring pages  ART_AND_DESIGN  ...        1.0.0  4.1 and up\n",
              "1878  Mcqueen Coloring pages          FAMILY  ...        1.0.0  4.1 and up\n",
              "\n",
              "[2 rows x 13 columns]"
            ]
          },
          "metadata": {},
          "execution_count": 128
        }
      ]
    },
    {
      "cell_type": "markdown",
      "metadata": {
        "id": "zhYCRS4Z-KrB"
      },
      "source": [
        "Here also only 2 applications are there and they are also present in the different category so we will put catgory wise mean in both.\n",
        "\n",
        "In rest of the records with null-values in rating column we will fill category wise mean because we don't have different versions of those applications."
      ]
    },
    {
      "cell_type": "code",
      "metadata": {
        "id": "tjn5P5Ls_MOx"
      },
      "source": [
        "play_store_df['Rating'].fillna(play_store_df.groupby('Category')['Rating'].transform('mean'), inplace=True)"
      ],
      "execution_count": 129,
      "outputs": []
    },
    {
      "cell_type": "code",
      "metadata": {
        "id": "ddVsWCyp_goo"
      },
      "source": [
        "# Checking the Reivew column\n",
        "play_store_df['Reviews']=play_store_df['Reviews'].astype('int')"
      ],
      "execution_count": 130,
      "outputs": []
    },
    {
      "cell_type": "code",
      "metadata": {
        "colab": {
          "base_uri": "https://localhost:8080/"
        },
        "id": "Cx-8ljyhAaZV",
        "outputId": "a3b55303-87fa-4e31-f48e-a222d017d83b"
      },
      "source": [
        "play_store_df['Size'].unique()[30:70]"
      ],
      "execution_count": 131,
      "outputs": [
        {
          "output_type": "execute_result",
          "data": {
            "text/plain": [
              "array(['9.4M', '15M', '10M', '1.2M', '26M', '8.0M', '7.9M', '56M', '57M',\n",
              "       '35M', '54M', '201k', '3.6M', '5.7M', '8.6M', '2.4M', '27M',\n",
              "       '2.5M', '16M', '3.4M', '8.9M', '3.9M', '2.9M', '38M', '32M',\n",
              "       '5.4M', '18M', '1.1M', '2.2M', '4.5M', '9.8M', '52M', '9.0M',\n",
              "       '6.7M', '30M', '2.6M', '7.1M', '3.7M', '22M', '7.4M'], dtype=object)"
            ]
          },
          "metadata": {},
          "execution_count": 131
        }
      ]
    },
    {
      "cell_type": "markdown",
      "metadata": {
        "id": "xPXvt6qvA0n3"
      },
      "source": [
        "As we can see we have size of the app in Mb's and Kb's we have to convert these into same unit and also remove the unwanted symbols."
      ]
    },
    {
      "cell_type": "code",
      "metadata": {
        "id": "XiUsyVge_hCp"
      },
      "source": [
        "play_store_df['Size'] = play_store_df['Size'].apply(lambda x: str(x).replace('Varies with device', 'NaN') if 'Varies with device' in str(x) else x)\n",
        "play_store_df['Size'] = play_store_df['Size'].apply(lambda x: str(x).replace('M', '') if 'M' in str(x) else x)\n",
        "play_store_df['Size'] = play_store_df['Size'].apply(lambda x: str(x).replace(',', '') if ',' in str(x) else x)\n",
        "play_store_df['Size'] = play_store_df['Size'].apply(lambda x: float(str(x).replace('k', '')) / 1024 if 'k' in str(x) else x)\n",
        "play_store_df['Size'] = play_store_df['Size'].apply(lambda x: str(x).replace('+','') if '+' in str(x) else x)"
      ],
      "execution_count": 132,
      "outputs": []
    },
    {
      "cell_type": "code",
      "metadata": {
        "colab": {
          "base_uri": "https://localhost:8080/"
        },
        "id": "BF0KpYztBWaG",
        "outputId": "ad0cab8d-a6c7-4b60-847f-91452bb02a19"
      },
      "source": [
        "play_store_df['Size'].dtype"
      ],
      "execution_count": 133,
      "outputs": [
        {
          "output_type": "execute_result",
          "data": {
            "text/plain": [
              "dtype('O')"
            ]
          },
          "metadata": {},
          "execution_count": 133
        }
      ]
    },
    {
      "cell_type": "code",
      "metadata": {
        "id": "Z0y9NC9GBYRd"
      },
      "source": [
        "# Type Casting the Size feature in float64 \n",
        "play_store_df.Size=play_store_df.Size.astype('float64')"
      ],
      "execution_count": 134,
      "outputs": []
    },
    {
      "cell_type": "code",
      "metadata": {
        "colab": {
          "base_uri": "https://localhost:8080/"
        },
        "id": "lottzjCUBpU9",
        "outputId": "0cc6029f-8d8c-45d5-ec20-0e5c9bdebf66"
      },
      "source": [
        "# Checking the data type\n",
        "play_store_df['Size'].dtype"
      ],
      "execution_count": 135,
      "outputs": [
        {
          "output_type": "execute_result",
          "data": {
            "text/plain": [
              "dtype('float64')"
            ]
          },
          "metadata": {},
          "execution_count": 135
        }
      ]
    },
    {
      "cell_type": "code",
      "metadata": {
        "colab": {
          "base_uri": "https://localhost:8080/"
        },
        "id": "qm9u2XQwCS1X",
        "outputId": "523b60f0-34af-41f9-a6c6-efacac9ea59f"
      },
      "source": [
        "play_store_df['Size'].isnull().sum()"
      ],
      "execution_count": 136,
      "outputs": [
        {
          "output_type": "execute_result",
          "data": {
            "text/plain": [
              "1526"
            ]
          },
          "metadata": {},
          "execution_count": 136
        }
      ]
    },
    {
      "cell_type": "markdown",
      "metadata": {
        "id": "uJrel8kFCXd9"
      },
      "source": [
        "We have 1526 null values filling them with category wise mean of the Size."
      ]
    },
    {
      "cell_type": "code",
      "metadata": {
        "id": "JashY2YkBq89"
      },
      "source": [
        "play_store_df['Size'].fillna(play_store_df.groupby('Category')['Size'].transform('mean'), inplace=True)"
      ],
      "execution_count": 137,
      "outputs": []
    },
    {
      "cell_type": "code",
      "metadata": {
        "colab": {
          "base_uri": "https://localhost:8080/"
        },
        "id": "P8r5bQKiClD-",
        "outputId": "56ad49a8-4951-4419-86b3-d66b65eaa3fa"
      },
      "source": [
        "# Checking for the Installs feature\n",
        "play_store_df.Installs.unique(),len(play_store_df.Installs.unique())"
      ],
      "execution_count": 138,
      "outputs": [
        {
          "output_type": "execute_result",
          "data": {
            "text/plain": [
              "(array(['10,000+', '500,000+', '5,000,000+', '50,000,000+', '100,000+',\n",
              "        '50,000+', '1,000,000+', '10,000,000+', '5,000+', '100,000,000+',\n",
              "        '1,000,000,000+', '1,000+', '500,000,000+', '50+', '100+', '500+',\n",
              "        '10+', '1+', '5+', '0+', '0'], dtype=object), 21)"
            ]
          },
          "metadata": {},
          "execution_count": 138
        }
      ]
    },
    {
      "cell_type": "markdown",
      "metadata": {
        "id": "X7CLnd2qCxKI"
      },
      "source": [
        "We can use the Installs columns category wise too and numerical wise too in our EDA section so we will not change it over here."
      ]
    },
    {
      "cell_type": "code",
      "metadata": {
        "colab": {
          "base_uri": "https://localhost:8080/"
        },
        "id": "dzSwi-saDeiV",
        "outputId": "882e45d6-5be1-497f-e172-2d0212ca3da7"
      },
      "source": [
        "play_store_df.Type.unique()"
      ],
      "execution_count": 139,
      "outputs": [
        {
          "output_type": "execute_result",
          "data": {
            "text/plain": [
              "array(['Free', 'Paid', nan], dtype=object)"
            ]
          },
          "metadata": {},
          "execution_count": 139
        }
      ]
    },
    {
      "cell_type": "code",
      "metadata": {
        "colab": {
          "base_uri": "https://localhost:8080/",
          "height": 115
        },
        "id": "qPwQgDmvDKZs",
        "outputId": "7c955870-6e5b-4924-81dc-90f9a1ae262b"
      },
      "source": [
        "# Type feature null values\n",
        "play_store_df[play_store_df.Type.isnull()]"
      ],
      "execution_count": 140,
      "outputs": [
        {
          "output_type": "execute_result",
          "data": {
            "text/html": [
              "<div>\n",
              "<style scoped>\n",
              "    .dataframe tbody tr th:only-of-type {\n",
              "        vertical-align: middle;\n",
              "    }\n",
              "\n",
              "    .dataframe tbody tr th {\n",
              "        vertical-align: top;\n",
              "    }\n",
              "\n",
              "    .dataframe thead th {\n",
              "        text-align: right;\n",
              "    }\n",
              "</style>\n",
              "<table border=\"1\" class=\"dataframe\">\n",
              "  <thead>\n",
              "    <tr style=\"text-align: right;\">\n",
              "      <th></th>\n",
              "      <th>App</th>\n",
              "      <th>Category</th>\n",
              "      <th>Rating</th>\n",
              "      <th>Reviews</th>\n",
              "      <th>Size</th>\n",
              "      <th>Installs</th>\n",
              "      <th>Type</th>\n",
              "      <th>Price</th>\n",
              "      <th>Content_Rating</th>\n",
              "      <th>Genres</th>\n",
              "      <th>Last_Updated</th>\n",
              "      <th>Current_Ver</th>\n",
              "      <th>Android_Ver</th>\n",
              "    </tr>\n",
              "  </thead>\n",
              "  <tbody>\n",
              "    <tr>\n",
              "      <th>8667</th>\n",
              "      <td>Command &amp; Conquer: Rivals</td>\n",
              "      <td>FAMILY</td>\n",
              "      <td>4.191153</td>\n",
              "      <td>0</td>\n",
              "      <td>27.930205</td>\n",
              "      <td>0</td>\n",
              "      <td>NaN</td>\n",
              "      <td>0</td>\n",
              "      <td>Everyone 10+</td>\n",
              "      <td>Strategy</td>\n",
              "      <td>June 28, 2018</td>\n",
              "      <td>Varies with device</td>\n",
              "      <td>Varies with device</td>\n",
              "    </tr>\n",
              "  </tbody>\n",
              "</table>\n",
              "</div>"
            ],
            "text/plain": [
              "                            App  ...         Android_Ver\n",
              "8667  Command & Conquer: Rivals  ...  Varies with device\n",
              "\n",
              "[1 rows x 13 columns]"
            ]
          },
          "metadata": {},
          "execution_count": 140
        }
      ]
    },
    {
      "cell_type": "markdown",
      "metadata": {
        "id": "KceqcfclDlTi"
      },
      "source": [
        "We have only single value so we will fill the Type in this record manually."
      ]
    },
    {
      "cell_type": "code",
      "metadata": {
        "colab": {
          "base_uri": "https://localhost:8080/"
        },
        "id": "prWPEMplECNI",
        "outputId": "fc83f362-d2a1-4b0e-a48e-245e539d1d6a"
      },
      "source": [
        "play_store_df['Price'].unique()[5:15]"
      ],
      "execution_count": 141,
      "outputs": [
        {
          "output_type": "execute_result",
          "data": {
            "text/plain": [
              "array(['$2.99', '$7.99', '$5.99', '$3.49', '$1.99', '$9.99', '$7.49',\n",
              "       '$0.99', '$9.00', '$5.49'], dtype=object)"
            ]
          },
          "metadata": {},
          "execution_count": 141
        }
      ]
    },
    {
      "cell_type": "markdown",
      "metadata": {
        "id": "hV2-7WpPESD8"
      },
      "source": [
        "Here we can see $ sign but to make Price column categorical we have to remove it and type cast it to float64."
      ]
    },
    {
      "cell_type": "code",
      "metadata": {
        "id": "24daJlp4DVK0"
      },
      "source": [
        "play_store_df['Price'] = play_store_df['Price'].apply(lambda x: float(str(x).replace('$', '')) if '$' in str(x) else float(x))"
      ],
      "execution_count": 142,
      "outputs": []
    },
    {
      "cell_type": "code",
      "metadata": {
        "colab": {
          "base_uri": "https://localhost:8080/",
          "height": 49
        },
        "id": "JMw_uGwyE5wI",
        "outputId": "1e881146-d896-4348-986e-ad32be4e23c3"
      },
      "source": [
        "# Checking for the rows where Price is 0 and Type is Paid.\n",
        "play_store_df[(play_store_df[\"Price\"]==0) & (play_store_df[\"Type\"]==\"Paid\")]"
      ],
      "execution_count": 143,
      "outputs": [
        {
          "output_type": "execute_result",
          "data": {
            "text/html": [
              "<div>\n",
              "<style scoped>\n",
              "    .dataframe tbody tr th:only-of-type {\n",
              "        vertical-align: middle;\n",
              "    }\n",
              "\n",
              "    .dataframe tbody tr th {\n",
              "        vertical-align: top;\n",
              "    }\n",
              "\n",
              "    .dataframe thead th {\n",
              "        text-align: right;\n",
              "    }\n",
              "</style>\n",
              "<table border=\"1\" class=\"dataframe\">\n",
              "  <thead>\n",
              "    <tr style=\"text-align: right;\">\n",
              "      <th></th>\n",
              "      <th>App</th>\n",
              "      <th>Category</th>\n",
              "      <th>Rating</th>\n",
              "      <th>Reviews</th>\n",
              "      <th>Size</th>\n",
              "      <th>Installs</th>\n",
              "      <th>Type</th>\n",
              "      <th>Price</th>\n",
              "      <th>Content_Rating</th>\n",
              "      <th>Genres</th>\n",
              "      <th>Last_Updated</th>\n",
              "      <th>Current_Ver</th>\n",
              "      <th>Android_Ver</th>\n",
              "    </tr>\n",
              "  </thead>\n",
              "  <tbody>\n",
              "  </tbody>\n",
              "</table>\n",
              "</div>"
            ],
            "text/plain": [
              "Empty DataFrame\n",
              "Columns: [App, Category, Rating, Reviews, Size, Installs, Type, Price, Content_Rating, Genres, Last_Updated, Current_Ver, Android_Ver]\n",
              "Index: []"
            ]
          },
          "metadata": {},
          "execution_count": 143
        }
      ]
    },
    {
      "cell_type": "markdown",
      "metadata": {
        "id": "-wNOZ7esFNcj"
      },
      "source": [
        "As we do not have any rows we will fill the single Type record with Nan value manually."
      ]
    },
    {
      "cell_type": "code",
      "metadata": {
        "id": "8fKPXq6MFLKk"
      },
      "source": [
        "play_store_df[\"Type\"].fillna('Free',inplace=True)"
      ],
      "execution_count": 144,
      "outputs": []
    },
    {
      "cell_type": "code",
      "metadata": {
        "id": "gg0JwfbNFmfq"
      },
      "source": [
        "# Type casting the Last_updated column into Date Time Format  \n",
        "from datetime import datetime\n",
        "play_store_df[\"Last_Updated\"]=play_store_df[\"Last_Updated\"].apply(lambda x: datetime.strptime(x, \"%B %d, %Y\"))"
      ],
      "execution_count": 145,
      "outputs": []
    },
    {
      "cell_type": "code",
      "metadata": {
        "colab": {
          "base_uri": "https://localhost:8080/"
        },
        "id": "2lyh2yxkFm5m",
        "outputId": "a58fc669-ed87-4267-ed12-effb28b6209a"
      },
      "source": [
        "print(list(play_store_df.Current_Ver.unique())[10:40])"
      ],
      "execution_count": 146,
      "outputs": [
        {
          "output_type": "stream",
          "name": "stdout",
          "text": [
            "['1.0.15', '3.8', '1.2.3', nan, '3.1', '2.2.5', '5.5.4', '4.0', '2.2.6.2', '1.1.3', '1.5', '1.0.8', '1.03', '6.0', '6.7.12.2018', '1.2', '2.20', '1.1.0', '1.6', '2.1', '1.0.9', '1.3', '1', '2.0.1', '1.46', '1.6.1', '11.0', '3.0', '1.7.1', '2.5.1']\n"
          ]
        }
      ]
    },
    {
      "cell_type": "markdown",
      "metadata": {
        "id": "TzyGjRUfF_9F"
      },
      "source": [
        "List of Current_ver unique values we can't fill the nan values in this column because Apps are having different values in versions too not in particular sequential increasing order."
      ]
    },
    {
      "cell_type": "code",
      "metadata": {
        "colab": {
          "base_uri": "https://localhost:8080/"
        },
        "id": "6sE5Q7qGF9Jd",
        "outputId": "4c72d498-85fd-44e1-8ea5-4653365f1fe7"
      },
      "source": [
        "current_version_nan=list(play_store_df[play_store_df[\"Current_Ver\"].isnull()][\"App\"])\n",
        "for i in range(len(current_version_nan)):\n",
        "  print(play_store_df[play_store_df['App']==current_version_nan[i]])"
      ],
      "execution_count": 147,
      "outputs": [
        {
          "output_type": "stream",
          "name": "stdout",
          "text": [
            "                                App        Category  ...  Current_Ver  Android_Ver\n",
            "15  Learn To Draw Kawaii Characters  ART_AND_DESIGN  ...          NaN   4.2 and up\n",
            "\n",
            "[1 rows x 13 columns]\n",
            "                       App            Category  ...  Current_Ver  Android_Ver\n",
            "1354  Market Update Helper  LIBRARIES_AND_DEMO  ...          NaN   1.5 and up\n",
            "\n",
            "[1 rows x 13 columns]\n",
            "                         App Category  ...  Current_Ver  Android_Ver\n",
            "5863  Virtual DJ Sound Mixer    TOOLS  ...          NaN   4.0 and up\n",
            "\n",
            "[1 rows x 13 columns]\n",
            "            App Category    Rating  ...  Last_Updated  Current_Ver Android_Ver\n",
            "6337  BT Master   FAMILY  4.191153  ...    2016-11-06          NaN  1.6 and up\n",
            "\n",
            "[1 rows x 13 columns]\n",
            "              App Category  Rating  ...  Last_Updated  Current_Ver Android_Ver\n",
            "6864  Dots puzzle   FAMILY     4.0  ...    2018-04-18          NaN  4.0 and up\n",
            "\n",
            "[1 rows x 13 columns]\n",
            "                  App Category    Rating  ...  Last_Updated  Current_Ver Android_Ver\n",
            "6938  Calculate My IQ   FAMILY  4.191153  ...    2017-04-03          NaN  2.3 and up\n",
            "\n",
            "[1 rows x 13 columns]\n",
            "         App Category    Rating  ...  Last_Updated  Current_Ver Android_Ver\n",
            "7260  UFO-CQ    TOOLS  4.047411  ...    2016-07-04          NaN  2.0 and up\n",
            "\n",
            "[1 rows x 13 columns]\n",
            "                 App             Category  ...  Current_Ver  Android_Ver\n",
            "9860  La Fe de Jesus  BOOKS_AND_REFERENCE  ...          NaN   3.0 and up\n",
            "\n",
            "[1 rows x 13 columns]\n"
          ]
        }
      ]
    },
    {
      "cell_type": "markdown",
      "metadata": {
        "id": "MSrbDUV4HrTL"
      },
      "source": [
        "Only 8 values are there so we will remove as this data is less than .001% of data."
      ]
    },
    {
      "cell_type": "code",
      "metadata": {
        "colab": {
          "base_uri": "https://localhost:8080/",
          "height": 166
        },
        "id": "7XsagptaIIf7",
        "outputId": "1930f262-dc97-47fe-8553-d4b9807bf127"
      },
      "source": [
        "# Checking null values in Android Version\n",
        "play_store_df[play_store_df.Android_Ver.isnull()]"
      ],
      "execution_count": 148,
      "outputs": [
        {
          "output_type": "execute_result",
          "data": {
            "text/html": [
              "<div>\n",
              "<style scoped>\n",
              "    .dataframe tbody tr th:only-of-type {\n",
              "        vertical-align: middle;\n",
              "    }\n",
              "\n",
              "    .dataframe tbody tr th {\n",
              "        vertical-align: top;\n",
              "    }\n",
              "\n",
              "    .dataframe thead th {\n",
              "        text-align: right;\n",
              "    }\n",
              "</style>\n",
              "<table border=\"1\" class=\"dataframe\">\n",
              "  <thead>\n",
              "    <tr style=\"text-align: right;\">\n",
              "      <th></th>\n",
              "      <th>App</th>\n",
              "      <th>Category</th>\n",
              "      <th>Rating</th>\n",
              "      <th>Reviews</th>\n",
              "      <th>Size</th>\n",
              "      <th>Installs</th>\n",
              "      <th>Type</th>\n",
              "      <th>Price</th>\n",
              "      <th>Content_Rating</th>\n",
              "      <th>Genres</th>\n",
              "      <th>Last_Updated</th>\n",
              "      <th>Current_Ver</th>\n",
              "      <th>Android_Ver</th>\n",
              "    </tr>\n",
              "  </thead>\n",
              "  <tbody>\n",
              "    <tr>\n",
              "      <th>3998</th>\n",
              "      <td>[substratum] Vacuum: P</td>\n",
              "      <td>PERSONALIZATION</td>\n",
              "      <td>4.4</td>\n",
              "      <td>230</td>\n",
              "      <td>11.0</td>\n",
              "      <td>1,000+</td>\n",
              "      <td>Paid</td>\n",
              "      <td>1.49</td>\n",
              "      <td>Everyone</td>\n",
              "      <td>Personalization</td>\n",
              "      <td>2018-07-20</td>\n",
              "      <td>4.4</td>\n",
              "      <td>NaN</td>\n",
              "    </tr>\n",
              "    <tr>\n",
              "      <th>4035</th>\n",
              "      <td>Pi Dark [substratum]</td>\n",
              "      <td>PERSONALIZATION</td>\n",
              "      <td>4.5</td>\n",
              "      <td>189</td>\n",
              "      <td>2.1</td>\n",
              "      <td>10,000+</td>\n",
              "      <td>Free</td>\n",
              "      <td>0.00</td>\n",
              "      <td>Everyone</td>\n",
              "      <td>Personalization</td>\n",
              "      <td>2018-03-27</td>\n",
              "      <td>1.1</td>\n",
              "      <td>NaN</td>\n",
              "    </tr>\n",
              "  </tbody>\n",
              "</table>\n",
              "</div>"
            ],
            "text/plain": [
              "                         App         Category  ...  Current_Ver  Android_Ver\n",
              "3998  [substratum] Vacuum: P  PERSONALIZATION  ...          4.4          NaN\n",
              "4035    Pi Dark [substratum]  PERSONALIZATION  ...          1.1          NaN\n",
              "\n",
              "[2 rows x 13 columns]"
            ]
          },
          "metadata": {},
          "execution_count": 148
        }
      ]
    },
    {
      "cell_type": "markdown",
      "metadata": {
        "id": "uKACsmevJHrT"
      },
      "source": [
        "Only 2 null values."
      ]
    },
    {
      "cell_type": "code",
      "metadata": {
        "colab": {
          "base_uri": "https://localhost:8080/",
          "height": 118
        },
        "id": "BO_O31y6IZlx",
        "outputId": "381ce98a-8639-4cc6-960d-3f88096f90ab"
      },
      "source": [
        "play_store_df[play_store_df.App==\"Pi Dark [substratum]\"]"
      ],
      "execution_count": 149,
      "outputs": [
        {
          "output_type": "execute_result",
          "data": {
            "text/html": [
              "<div>\n",
              "<style scoped>\n",
              "    .dataframe tbody tr th:only-of-type {\n",
              "        vertical-align: middle;\n",
              "    }\n",
              "\n",
              "    .dataframe tbody tr th {\n",
              "        vertical-align: top;\n",
              "    }\n",
              "\n",
              "    .dataframe thead th {\n",
              "        text-align: right;\n",
              "    }\n",
              "</style>\n",
              "<table border=\"1\" class=\"dataframe\">\n",
              "  <thead>\n",
              "    <tr style=\"text-align: right;\">\n",
              "      <th></th>\n",
              "      <th>App</th>\n",
              "      <th>Category</th>\n",
              "      <th>Rating</th>\n",
              "      <th>Reviews</th>\n",
              "      <th>Size</th>\n",
              "      <th>Installs</th>\n",
              "      <th>Type</th>\n",
              "      <th>Price</th>\n",
              "      <th>Content_Rating</th>\n",
              "      <th>Genres</th>\n",
              "      <th>Last_Updated</th>\n",
              "      <th>Current_Ver</th>\n",
              "      <th>Android_Ver</th>\n",
              "    </tr>\n",
              "  </thead>\n",
              "  <tbody>\n",
              "    <tr>\n",
              "      <th>4035</th>\n",
              "      <td>Pi Dark [substratum]</td>\n",
              "      <td>PERSONALIZATION</td>\n",
              "      <td>4.5</td>\n",
              "      <td>189</td>\n",
              "      <td>2.1</td>\n",
              "      <td>10,000+</td>\n",
              "      <td>Free</td>\n",
              "      <td>0.0</td>\n",
              "      <td>Everyone</td>\n",
              "      <td>Personalization</td>\n",
              "      <td>2018-03-27</td>\n",
              "      <td>1.1</td>\n",
              "      <td>NaN</td>\n",
              "    </tr>\n",
              "  </tbody>\n",
              "</table>\n",
              "</div>"
            ],
            "text/plain": [
              "                       App         Category  ...  Current_Ver  Android_Ver\n",
              "4035  Pi Dark [substratum]  PERSONALIZATION  ...          1.1          NaN\n",
              "\n",
              "[1 rows x 13 columns]"
            ]
          },
          "metadata": {},
          "execution_count": 149
        }
      ]
    },
    {
      "cell_type": "code",
      "metadata": {
        "colab": {
          "base_uri": "https://localhost:8080/",
          "height": 118
        },
        "id": "9KV37c1sJAbW",
        "outputId": "4fb36250-bab9-48e9-d146-55f9daae1cd0"
      },
      "source": [
        "play_store_df[play_store_df.App==\"[substratum] Vacuum: P\"]"
      ],
      "execution_count": 150,
      "outputs": [
        {
          "output_type": "execute_result",
          "data": {
            "text/html": [
              "<div>\n",
              "<style scoped>\n",
              "    .dataframe tbody tr th:only-of-type {\n",
              "        vertical-align: middle;\n",
              "    }\n",
              "\n",
              "    .dataframe tbody tr th {\n",
              "        vertical-align: top;\n",
              "    }\n",
              "\n",
              "    .dataframe thead th {\n",
              "        text-align: right;\n",
              "    }\n",
              "</style>\n",
              "<table border=\"1\" class=\"dataframe\">\n",
              "  <thead>\n",
              "    <tr style=\"text-align: right;\">\n",
              "      <th></th>\n",
              "      <th>App</th>\n",
              "      <th>Category</th>\n",
              "      <th>Rating</th>\n",
              "      <th>Reviews</th>\n",
              "      <th>Size</th>\n",
              "      <th>Installs</th>\n",
              "      <th>Type</th>\n",
              "      <th>Price</th>\n",
              "      <th>Content_Rating</th>\n",
              "      <th>Genres</th>\n",
              "      <th>Last_Updated</th>\n",
              "      <th>Current_Ver</th>\n",
              "      <th>Android_Ver</th>\n",
              "    </tr>\n",
              "  </thead>\n",
              "  <tbody>\n",
              "    <tr>\n",
              "      <th>3998</th>\n",
              "      <td>[substratum] Vacuum: P</td>\n",
              "      <td>PERSONALIZATION</td>\n",
              "      <td>4.4</td>\n",
              "      <td>230</td>\n",
              "      <td>11.0</td>\n",
              "      <td>1,000+</td>\n",
              "      <td>Paid</td>\n",
              "      <td>1.49</td>\n",
              "      <td>Everyone</td>\n",
              "      <td>Personalization</td>\n",
              "      <td>2018-07-20</td>\n",
              "      <td>4.4</td>\n",
              "      <td>NaN</td>\n",
              "    </tr>\n",
              "  </tbody>\n",
              "</table>\n",
              "</div>"
            ],
            "text/plain": [
              "                         App         Category  ...  Current_Ver  Android_Ver\n",
              "3998  [substratum] Vacuum: P  PERSONALIZATION  ...          4.4          NaN\n",
              "\n",
              "[1 rows x 13 columns]"
            ]
          },
          "metadata": {},
          "execution_count": 150
        }
      ]
    },
    {
      "cell_type": "markdown",
      "metadata": {
        "id": "Jz44fKCLJYoU"
      },
      "source": [
        "We don't have different versions of these application so we will fill them with most used android version in that particular Year manually."
      ]
    },
    {
      "cell_type": "code",
      "metadata": {
        "id": "qSTRIMW0JDN1"
      },
      "source": [
        "# Making a new column named Year\n",
        "play_store_df[\"Year\"]=play_store_df.Last_Updated.dt.year"
      ],
      "execution_count": 151,
      "outputs": []
    },
    {
      "cell_type": "code",
      "metadata": {
        "colab": {
          "base_uri": "https://localhost:8080/"
        },
        "id": "tY9fUSnIJ6La",
        "outputId": "42fd64da-72bd-43c2-9db2-d07522738d9d"
      },
      "source": [
        "play_store_df[play_store_df.Year==2018]['Android_Ver'].value_counts()"
      ],
      "execution_count": 152,
      "outputs": [
        {
          "output_type": "execute_result",
          "data": {
            "text/plain": [
              "4.1 and up            1876\n",
              "Varies with device    1056\n",
              "4.0.3 and up          1013\n",
              "4.0 and up             774\n",
              "4.4 and up             748\n",
              "5.0 and up             493\n",
              "4.2 and up             294\n",
              "2.3 and up             182\n",
              "4.3 and up             175\n",
              "3.0 and up              61\n",
              "2.3.3 and up            58\n",
              "6.0 and up              45\n",
              "7.0 and up              39\n",
              "2.1 and up              27\n",
              "2.2 and up              24\n",
              "5.1 and up              16\n",
              "3.2 and up              11\n",
              "1.6 and up              10\n",
              "4.4W and up              9\n",
              "8.0 and up               6\n",
              "2.0 and up               5\n",
              "7.1 and up               2\n",
              "4.0.3 - 7.1.1            2\n",
              "1.0 and up               1\n",
              "2.0.1 and up             1\n",
              "5.0 - 8.0                1\n",
              "5.0 - 7.1.1              1\n",
              "1.5 and up               1\n",
              "7.0 - 7.1.1              1\n",
              "Name: Android_Ver, dtype: int64"
            ]
          },
          "metadata": {},
          "execution_count": 152
        }
      ]
    },
    {
      "cell_type": "markdown",
      "metadata": {
        "id": "OM-Gwg0XJ_HM"
      },
      "source": [
        "Android version 4.0 and above is mostly used in Year 2018 so we will fill null values with \"4.1 and up\"."
      ]
    },
    {
      "cell_type": "code",
      "metadata": {
        "id": "YuN-WpaJJ9Ci"
      },
      "source": [
        "play_store_df['Android_Ver'].fillna(\"4.1 and up\", inplace=True)"
      ],
      "execution_count": 153,
      "outputs": []
    },
    {
      "cell_type": "code",
      "metadata": {
        "id": "QSa9vEmfKb4r"
      },
      "source": [
        "# Dropping all the records where null values are there \n",
        "play_store_df.dropna(inplace=True)"
      ],
      "execution_count": 154,
      "outputs": []
    },
    {
      "cell_type": "code",
      "metadata": {
        "colab": {
          "base_uri": "https://localhost:8080/"
        },
        "id": "jj4auXtQKieR",
        "outputId": "33acba6f-78ad-4521-dd47-6c766e8152f2"
      },
      "source": [
        "play_store_df.info()"
      ],
      "execution_count": 155,
      "outputs": [
        {
          "output_type": "stream",
          "name": "stdout",
          "text": [
            "<class 'pandas.core.frame.DataFrame'>\n",
            "Int64Index: 10349 entries, 0 to 10356\n",
            "Data columns (total 14 columns):\n",
            " #   Column          Non-Null Count  Dtype         \n",
            "---  ------          --------------  -----         \n",
            " 0   App             10349 non-null  object        \n",
            " 1   Category        10349 non-null  object        \n",
            " 2   Rating          10349 non-null  float64       \n",
            " 3   Reviews         10349 non-null  int64         \n",
            " 4   Size            10349 non-null  float64       \n",
            " 5   Installs        10349 non-null  object        \n",
            " 6   Type            10349 non-null  object        \n",
            " 7   Price           10349 non-null  float64       \n",
            " 8   Content_Rating  10349 non-null  object        \n",
            " 9   Genres          10349 non-null  object        \n",
            " 10  Last_Updated    10349 non-null  datetime64[ns]\n",
            " 11  Current_Ver     10349 non-null  object        \n",
            " 12  Android_Ver     10349 non-null  object        \n",
            " 13  Year            10349 non-null  int64         \n",
            "dtypes: datetime64[ns](1), float64(3), int64(2), object(8)\n",
            "memory usage: 1.2+ MB\n"
          ]
        }
      ]
    },
    {
      "cell_type": "markdown",
      "metadata": {
        "id": "bfnRS8suKlKw"
      },
      "source": [
        "No null values are there in our Dataframe."
      ]
    },
    {
      "cell_type": "code",
      "metadata": {
        "colab": {
          "base_uri": "https://localhost:8080/",
          "height": 527
        },
        "id": "Ywg_BuEMKkni",
        "outputId": "09593d63-9bf5-46a2-a990-45b6450ca49c"
      },
      "source": [
        "play_store_df.describe(include=\"all\")"
      ],
      "execution_count": 156,
      "outputs": [
        {
          "output_type": "execute_result",
          "data": {
            "text/html": [
              "<div>\n",
              "<style scoped>\n",
              "    .dataframe tbody tr th:only-of-type {\n",
              "        vertical-align: middle;\n",
              "    }\n",
              "\n",
              "    .dataframe tbody tr th {\n",
              "        vertical-align: top;\n",
              "    }\n",
              "\n",
              "    .dataframe thead th {\n",
              "        text-align: right;\n",
              "    }\n",
              "</style>\n",
              "<table border=\"1\" class=\"dataframe\">\n",
              "  <thead>\n",
              "    <tr style=\"text-align: right;\">\n",
              "      <th></th>\n",
              "      <th>App</th>\n",
              "      <th>Category</th>\n",
              "      <th>Rating</th>\n",
              "      <th>Reviews</th>\n",
              "      <th>Size</th>\n",
              "      <th>Installs</th>\n",
              "      <th>Type</th>\n",
              "      <th>Price</th>\n",
              "      <th>Content_Rating</th>\n",
              "      <th>Genres</th>\n",
              "      <th>Last_Updated</th>\n",
              "      <th>Current_Ver</th>\n",
              "      <th>Android_Ver</th>\n",
              "      <th>Year</th>\n",
              "    </tr>\n",
              "  </thead>\n",
              "  <tbody>\n",
              "    <tr>\n",
              "      <th>count</th>\n",
              "      <td>10349</td>\n",
              "      <td>10349</td>\n",
              "      <td>10349.000000</td>\n",
              "      <td>1.034900e+04</td>\n",
              "      <td>10349.000000</td>\n",
              "      <td>10349</td>\n",
              "      <td>10349</td>\n",
              "      <td>10349.000000</td>\n",
              "      <td>10349</td>\n",
              "      <td>10349</td>\n",
              "      <td>10349</td>\n",
              "      <td>10349</td>\n",
              "      <td>10349</td>\n",
              "      <td>10349.000000</td>\n",
              "    </tr>\n",
              "    <tr>\n",
              "      <th>unique</th>\n",
              "      <td>9651</td>\n",
              "      <td>33</td>\n",
              "      <td>NaN</td>\n",
              "      <td>NaN</td>\n",
              "      <td>NaN</td>\n",
              "      <td>21</td>\n",
              "      <td>2</td>\n",
              "      <td>NaN</td>\n",
              "      <td>6</td>\n",
              "      <td>119</td>\n",
              "      <td>1376</td>\n",
              "      <td>2831</td>\n",
              "      <td>33</td>\n",
              "      <td>NaN</td>\n",
              "    </tr>\n",
              "    <tr>\n",
              "      <th>top</th>\n",
              "      <td>ROBLOX</td>\n",
              "      <td>FAMILY</td>\n",
              "      <td>NaN</td>\n",
              "      <td>NaN</td>\n",
              "      <td>NaN</td>\n",
              "      <td>1,000,000+</td>\n",
              "      <td>Free</td>\n",
              "      <td>NaN</td>\n",
              "      <td>Everyone</td>\n",
              "      <td>Tools</td>\n",
              "      <td>2018-08-03 00:00:00</td>\n",
              "      <td>Varies with device</td>\n",
              "      <td>4.1 and up</td>\n",
              "      <td>NaN</td>\n",
              "    </tr>\n",
              "    <tr>\n",
              "      <th>freq</th>\n",
              "      <td>9</td>\n",
              "      <td>1940</td>\n",
              "      <td>NaN</td>\n",
              "      <td>NaN</td>\n",
              "      <td>NaN</td>\n",
              "      <td>1487</td>\n",
              "      <td>9586</td>\n",
              "      <td>NaN</td>\n",
              "      <td>8374</td>\n",
              "      <td>840</td>\n",
              "      <td>298</td>\n",
              "      <td>1302</td>\n",
              "      <td>2381</td>\n",
              "      <td>NaN</td>\n",
              "    </tr>\n",
              "    <tr>\n",
              "      <th>first</th>\n",
              "      <td>NaN</td>\n",
              "      <td>NaN</td>\n",
              "      <td>NaN</td>\n",
              "      <td>NaN</td>\n",
              "      <td>NaN</td>\n",
              "      <td>NaN</td>\n",
              "      <td>NaN</td>\n",
              "      <td>NaN</td>\n",
              "      <td>NaN</td>\n",
              "      <td>NaN</td>\n",
              "      <td>2010-05-21 00:00:00</td>\n",
              "      <td>NaN</td>\n",
              "      <td>NaN</td>\n",
              "      <td>NaN</td>\n",
              "    </tr>\n",
              "    <tr>\n",
              "      <th>last</th>\n",
              "      <td>NaN</td>\n",
              "      <td>NaN</td>\n",
              "      <td>NaN</td>\n",
              "      <td>NaN</td>\n",
              "      <td>NaN</td>\n",
              "      <td>NaN</td>\n",
              "      <td>NaN</td>\n",
              "      <td>NaN</td>\n",
              "      <td>NaN</td>\n",
              "      <td>NaN</td>\n",
              "      <td>2018-08-08 00:00:00</td>\n",
              "      <td>NaN</td>\n",
              "      <td>NaN</td>\n",
              "      <td>NaN</td>\n",
              "    </tr>\n",
              "    <tr>\n",
              "      <th>mean</th>\n",
              "      <td>NaN</td>\n",
              "      <td>NaN</td>\n",
              "      <td>4.186497</td>\n",
              "      <td>4.062160e+05</td>\n",
              "      <td>21.013128</td>\n",
              "      <td>NaN</td>\n",
              "      <td>NaN</td>\n",
              "      <td>1.031406</td>\n",
              "      <td>NaN</td>\n",
              "      <td>NaN</td>\n",
              "      <td>NaN</td>\n",
              "      <td>NaN</td>\n",
              "      <td>NaN</td>\n",
              "      <td>2017.383612</td>\n",
              "    </tr>\n",
              "    <tr>\n",
              "      <th>std</th>\n",
              "      <td>NaN</td>\n",
              "      <td>NaN</td>\n",
              "      <td>0.485328</td>\n",
              "      <td>2.697797e+06</td>\n",
              "      <td>21.112283</td>\n",
              "      <td>NaN</td>\n",
              "      <td>NaN</td>\n",
              "      <td>16.284898</td>\n",
              "      <td>NaN</td>\n",
              "      <td>NaN</td>\n",
              "      <td>NaN</td>\n",
              "      <td>NaN</td>\n",
              "      <td>NaN</td>\n",
              "      <td>1.112144</td>\n",
              "    </tr>\n",
              "    <tr>\n",
              "      <th>min</th>\n",
              "      <td>NaN</td>\n",
              "      <td>NaN</td>\n",
              "      <td>1.000000</td>\n",
              "      <td>0.000000e+00</td>\n",
              "      <td>0.008301</td>\n",
              "      <td>NaN</td>\n",
              "      <td>NaN</td>\n",
              "      <td>0.000000</td>\n",
              "      <td>NaN</td>\n",
              "      <td>NaN</td>\n",
              "      <td>NaN</td>\n",
              "      <td>NaN</td>\n",
              "      <td>NaN</td>\n",
              "      <td>2010.000000</td>\n",
              "    </tr>\n",
              "    <tr>\n",
              "      <th>25%</th>\n",
              "      <td>NaN</td>\n",
              "      <td>NaN</td>\n",
              "      <td>4.047411</td>\n",
              "      <td>3.200000e+01</td>\n",
              "      <td>5.700000</td>\n",
              "      <td>NaN</td>\n",
              "      <td>NaN</td>\n",
              "      <td>0.000000</td>\n",
              "      <td>NaN</td>\n",
              "      <td>NaN</td>\n",
              "      <td>NaN</td>\n",
              "      <td>NaN</td>\n",
              "      <td>NaN</td>\n",
              "      <td>2017.000000</td>\n",
              "    </tr>\n",
              "    <tr>\n",
              "      <th>50%</th>\n",
              "      <td>NaN</td>\n",
              "      <td>NaN</td>\n",
              "      <td>4.251485</td>\n",
              "      <td>1.686000e+03</td>\n",
              "      <td>14.000000</td>\n",
              "      <td>NaN</td>\n",
              "      <td>NaN</td>\n",
              "      <td>0.000000</td>\n",
              "      <td>NaN</td>\n",
              "      <td>NaN</td>\n",
              "      <td>NaN</td>\n",
              "      <td>NaN</td>\n",
              "      <td>NaN</td>\n",
              "      <td>2018.000000</td>\n",
              "    </tr>\n",
              "    <tr>\n",
              "      <th>75%</th>\n",
              "      <td>NaN</td>\n",
              "      <td>NaN</td>\n",
              "      <td>4.500000</td>\n",
              "      <td>4.653900e+04</td>\n",
              "      <td>27.930205</td>\n",
              "      <td>NaN</td>\n",
              "      <td>NaN</td>\n",
              "      <td>0.000000</td>\n",
              "      <td>NaN</td>\n",
              "      <td>NaN</td>\n",
              "      <td>NaN</td>\n",
              "      <td>NaN</td>\n",
              "      <td>NaN</td>\n",
              "      <td>2018.000000</td>\n",
              "    </tr>\n",
              "    <tr>\n",
              "      <th>max</th>\n",
              "      <td>NaN</td>\n",
              "      <td>NaN</td>\n",
              "      <td>5.000000</td>\n",
              "      <td>7.815831e+07</td>\n",
              "      <td>100.000000</td>\n",
              "      <td>NaN</td>\n",
              "      <td>NaN</td>\n",
              "      <td>400.000000</td>\n",
              "      <td>NaN</td>\n",
              "      <td>NaN</td>\n",
              "      <td>NaN</td>\n",
              "      <td>NaN</td>\n",
              "      <td>NaN</td>\n",
              "      <td>2018.000000</td>\n",
              "    </tr>\n",
              "  </tbody>\n",
              "</table>\n",
              "</div>"
            ],
            "text/plain": [
              "           App Category  ...  Android_Ver          Year\n",
              "count    10349    10349  ...        10349  10349.000000\n",
              "unique    9651       33  ...           33           NaN\n",
              "top     ROBLOX   FAMILY  ...   4.1 and up           NaN\n",
              "freq         9     1940  ...         2381           NaN\n",
              "first      NaN      NaN  ...          NaN           NaN\n",
              "last       NaN      NaN  ...          NaN           NaN\n",
              "mean       NaN      NaN  ...          NaN   2017.383612\n",
              "std        NaN      NaN  ...          NaN      1.112144\n",
              "min        NaN      NaN  ...          NaN   2010.000000\n",
              "25%        NaN      NaN  ...          NaN   2017.000000\n",
              "50%        NaN      NaN  ...          NaN   2018.000000\n",
              "75%        NaN      NaN  ...          NaN   2018.000000\n",
              "max        NaN      NaN  ...          NaN   2018.000000\n",
              "\n",
              "[13 rows x 14 columns]"
            ]
          },
          "metadata": {},
          "execution_count": 156
        }
      ]
    },
    {
      "cell_type": "markdown",
      "metadata": {
        "id": "PkfQWxJAURjk"
      },
      "source": [
        "### 1.3.2 Cleaning the user reviews dataframe"
      ]
    },
    {
      "cell_type": "code",
      "metadata": {
        "colab": {
          "base_uri": "https://localhost:8080/"
        },
        "id": "2oTr73XlK2Qz",
        "outputId": "ade18a44-3257-41c9-e479-98b4fe0d7393"
      },
      "source": [
        "# Cleaning user reviews dataframe\n",
        "user_reviews_df.info()"
      ],
      "execution_count": 157,
      "outputs": [
        {
          "output_type": "stream",
          "name": "stdout",
          "text": [
            "<class 'pandas.core.frame.DataFrame'>\n",
            "RangeIndex: 64295 entries, 0 to 64294\n",
            "Data columns (total 5 columns):\n",
            " #   Column                  Non-Null Count  Dtype  \n",
            "---  ------                  --------------  -----  \n",
            " 0   App                     64295 non-null  object \n",
            " 1   Translated_Review       37427 non-null  object \n",
            " 2   Sentiment               37432 non-null  object \n",
            " 3   Sentiment_Polarity      37432 non-null  float64\n",
            " 4   Sentiment_Subjectivity  37432 non-null  float64\n",
            "dtypes: float64(2), object(3)\n",
            "memory usage: 2.5+ MB\n"
          ]
        }
      ]
    },
    {
      "cell_type": "code",
      "metadata": {
        "colab": {
          "base_uri": "https://localhost:8080/"
        },
        "id": "n1HNhXVmKwXk",
        "outputId": "4c618f5b-9a44-4af8-e8c4-579cc4ade418"
      },
      "source": [
        "user_reviews_df.isnull().sum()"
      ],
      "execution_count": 158,
      "outputs": [
        {
          "output_type": "execute_result",
          "data": {
            "text/plain": [
              "App                           0\n",
              "Translated_Review         26868\n",
              "Sentiment                 26863\n",
              "Sentiment_Polarity        26863\n",
              "Sentiment_Subjectivity    26863\n",
              "dtype: int64"
            ]
          },
          "metadata": {},
          "execution_count": 158
        }
      ]
    },
    {
      "cell_type": "markdown",
      "metadata": {
        "id": "jihVla9rMHB7"
      },
      "source": [
        "We will check for the null values wether they have common index or not and removing those null values."
      ]
    },
    {
      "cell_type": "code",
      "metadata": {
        "id": "L23t364rK0Ti"
      },
      "source": [
        "sentiment_isnull_index=user_reviews_df[user_reviews_df.Sentiment.isnull()].index\n",
        "sentiment_polarity_isnull_index=user_reviews_df[user_reviews_df.Sentiment_Polarity.isnull()].index\n",
        "sentiment_subjectivity_isnull_index=user_reviews_df[user_reviews_df.Sentiment_Subjectivity.isnull()].index"
      ],
      "execution_count": 159,
      "outputs": []
    },
    {
      "cell_type": "code",
      "metadata": {
        "colab": {
          "base_uri": "https://localhost:8080/"
        },
        "id": "R8ZPcId3LkRY",
        "outputId": "87d38068-a8a2-42d7-c087-92bc2d054eeb"
      },
      "source": [
        "if sentiment_isnull_index.all() == sentiment_polarity_isnull_index.all():\n",
        "  print(\"All indexs are common in sentiment_isnull_index and sentiment_polarity_isnull_index\")\n",
        "if sentiment_isnull_index.all() == sentiment_subjectivity_isnull_index.all():\n",
        "  print(\"All indexs are common in sentiment_isnull_index and sentiment_subjectivity_isnull_index\")"
      ],
      "execution_count": 160,
      "outputs": [
        {
          "output_type": "stream",
          "name": "stdout",
          "text": [
            "All indexs are common in sentiment_isnull_index and sentiment_polarity_isnull_index\n",
            "All indexs are common in sentiment_isnull_index and sentiment_subjectivity_isnull_index\n"
          ]
        }
      ]
    },
    {
      "cell_type": "code",
      "metadata": {
        "id": "vIErPA5VL6Lx"
      },
      "source": [
        "user_reviews_df.drop(sentiment_subjectivity_isnull_index, inplace=True)"
      ],
      "execution_count": 161,
      "outputs": []
    },
    {
      "cell_type": "code",
      "metadata": {
        "colab": {
          "base_uri": "https://localhost:8080/",
          "height": 393
        },
        "id": "WzZw9rFlNEfy",
        "outputId": "cd517563-b5fd-441a-fce7-1a3569f1269f"
      },
      "source": [
        "user_reviews_df.describe(include=\"all\")"
      ],
      "execution_count": 162,
      "outputs": [
        {
          "output_type": "execute_result",
          "data": {
            "text/html": [
              "<div>\n",
              "<style scoped>\n",
              "    .dataframe tbody tr th:only-of-type {\n",
              "        vertical-align: middle;\n",
              "    }\n",
              "\n",
              "    .dataframe tbody tr th {\n",
              "        vertical-align: top;\n",
              "    }\n",
              "\n",
              "    .dataframe thead th {\n",
              "        text-align: right;\n",
              "    }\n",
              "</style>\n",
              "<table border=\"1\" class=\"dataframe\">\n",
              "  <thead>\n",
              "    <tr style=\"text-align: right;\">\n",
              "      <th></th>\n",
              "      <th>App</th>\n",
              "      <th>Translated_Review</th>\n",
              "      <th>Sentiment</th>\n",
              "      <th>Sentiment_Polarity</th>\n",
              "      <th>Sentiment_Subjectivity</th>\n",
              "    </tr>\n",
              "  </thead>\n",
              "  <tbody>\n",
              "    <tr>\n",
              "      <th>count</th>\n",
              "      <td>37432</td>\n",
              "      <td>37427</td>\n",
              "      <td>37432</td>\n",
              "      <td>37432.000000</td>\n",
              "      <td>37432.000000</td>\n",
              "    </tr>\n",
              "    <tr>\n",
              "      <th>unique</th>\n",
              "      <td>865</td>\n",
              "      <td>27994</td>\n",
              "      <td>3</td>\n",
              "      <td>NaN</td>\n",
              "      <td>NaN</td>\n",
              "    </tr>\n",
              "    <tr>\n",
              "      <th>top</th>\n",
              "      <td>Bowmasters</td>\n",
              "      <td>Good</td>\n",
              "      <td>Positive</td>\n",
              "      <td>NaN</td>\n",
              "      <td>NaN</td>\n",
              "    </tr>\n",
              "    <tr>\n",
              "      <th>freq</th>\n",
              "      <td>312</td>\n",
              "      <td>247</td>\n",
              "      <td>23998</td>\n",
              "      <td>NaN</td>\n",
              "      <td>NaN</td>\n",
              "    </tr>\n",
              "    <tr>\n",
              "      <th>mean</th>\n",
              "      <td>NaN</td>\n",
              "      <td>NaN</td>\n",
              "      <td>NaN</td>\n",
              "      <td>0.182146</td>\n",
              "      <td>0.492704</td>\n",
              "    </tr>\n",
              "    <tr>\n",
              "      <th>std</th>\n",
              "      <td>NaN</td>\n",
              "      <td>NaN</td>\n",
              "      <td>NaN</td>\n",
              "      <td>0.351301</td>\n",
              "      <td>0.259949</td>\n",
              "    </tr>\n",
              "    <tr>\n",
              "      <th>min</th>\n",
              "      <td>NaN</td>\n",
              "      <td>NaN</td>\n",
              "      <td>NaN</td>\n",
              "      <td>-1.000000</td>\n",
              "      <td>0.000000</td>\n",
              "    </tr>\n",
              "    <tr>\n",
              "      <th>25%</th>\n",
              "      <td>NaN</td>\n",
              "      <td>NaN</td>\n",
              "      <td>NaN</td>\n",
              "      <td>0.000000</td>\n",
              "      <td>0.357143</td>\n",
              "    </tr>\n",
              "    <tr>\n",
              "      <th>50%</th>\n",
              "      <td>NaN</td>\n",
              "      <td>NaN</td>\n",
              "      <td>NaN</td>\n",
              "      <td>0.150000</td>\n",
              "      <td>0.514286</td>\n",
              "    </tr>\n",
              "    <tr>\n",
              "      <th>75%</th>\n",
              "      <td>NaN</td>\n",
              "      <td>NaN</td>\n",
              "      <td>NaN</td>\n",
              "      <td>0.400000</td>\n",
              "      <td>0.650000</td>\n",
              "    </tr>\n",
              "    <tr>\n",
              "      <th>max</th>\n",
              "      <td>NaN</td>\n",
              "      <td>NaN</td>\n",
              "      <td>NaN</td>\n",
              "      <td>1.000000</td>\n",
              "      <td>1.000000</td>\n",
              "    </tr>\n",
              "  </tbody>\n",
              "</table>\n",
              "</div>"
            ],
            "text/plain": [
              "               App  ... Sentiment_Subjectivity\n",
              "count        37432  ...           37432.000000\n",
              "unique         865  ...                    NaN\n",
              "top     Bowmasters  ...                    NaN\n",
              "freq           312  ...                    NaN\n",
              "mean           NaN  ...               0.492704\n",
              "std            NaN  ...               0.259949\n",
              "min            NaN  ...               0.000000\n",
              "25%            NaN  ...               0.357143\n",
              "50%            NaN  ...               0.514286\n",
              "75%            NaN  ...               0.650000\n",
              "max            NaN  ...               1.000000\n",
              "\n",
              "[11 rows x 5 columns]"
            ]
          },
          "metadata": {},
          "execution_count": 162
        }
      ]
    },
    {
      "cell_type": "markdown",
      "metadata": {
        "id": "ppy4mbOxMYTD"
      },
      "source": [
        "Dropped the common indexes.\n",
        "Now our both the data frames are cleaned handling of NaN/ Null/ Missing Values is completed."
      ]
    },
    {
      "cell_type": "markdown",
      "metadata": {
        "id": "J09UxF4pWYor"
      },
      "source": [
        "# 1.4 Extraction of features information\n",
        "Here all the features with the information they are providing present in our original dataframe is there."
      ]
    },
    {
      "cell_type": "markdown",
      "metadata": {
        "id": "BysgtIxUMfEb"
      },
      "source": [
        "### Play Store dataset contains following columns and their information:\n",
        "1. App: Application name\n",
        "2. Category: Category to which the app belongs (34 available)\n",
        "3. Rating: Rating of the app (0 - 5)\n",
        "4. Reviews: Number of reviews of the app available (Discrete)\n",
        "5. Size: Size of the app in MB (Discrete)\n",
        "6. Installs: Number of times the app has installed (Multi categorical)\n",
        "7. Type: Free or Paid\n",
        "8. Price: Price of the app\n",
        "9. Content Rating: Whether it is for adults, teenagers etc. based on age(6 available)\n",
        "10. Generes: Genere of the app\n",
        "11. Last Updated: Last Update date\n",
        "12. Current Ver: Current version of the application in playstore\n",
        "13. Android Ver: Android version of the application\n",
        "\n",
        "### User Reviews dataset contains following columns and their information:\n",
        "1. App: Application name (duplicates present depending upon number of reviews present).\n",
        "2. Translated_Review: Translated Reviews of that application.\n",
        "3. Sentiment: Sentiment of the Review whether positive, negative or neutral.\n",
        "4. Sentiment_Polarity: Polarity of the sentiment -ve vs +ve (-1 to +1).\n",
        "5. Sentiment_Subjectivity: Sentiment is near to application subject subjective vs objective(0 - 1)."
      ]
    },
    {
      "cell_type": "markdown",
      "metadata": {
        "id": "H1zS99xiWu-u"
      },
      "source": [
        "### Adding description about the sentiment analysis\n",
        "**A sentiment is defined by its semantic orientation and the intensity of each word in the sentence.** This requires a pre-defined dictionary classifying negative and positive words. Generally, a text message will be represented by bag of words. After assigning individual scores to all the words, final sentiment is calculated by some pooling operation like taking an average of all the sentiments.\n",
        "\n",
        "TextBlob returns polarity and subjectivity of a sentence. Polarity lies between [-1,1], -1 defines a negative sentiment and 1 defines a positive sentiment. Negation words reverse the polarity. TextBlob has semantic labels that help with fine-grained analysis. \n",
        "\n",
        "**Subjectivity quantifies the amount of personal opinion and factual information contained in the text. The higher subjectivity means that the text contains personal opinion rather than factual information.** TextBlob has one more parameter — intensity. TextBlob calculates subjectivity by looking at the ‘intensity’. Intensity determines if a word modifies the next word. For English, adverbs are used as modifiers (‘very good’).\n",
        "\n",
        "For example: We calculated polarity and subjectivity for “I do not like this example at all, it is too boring”. For this particular example, polarity = -1 and subjectivity is 1, which is fair.\n",
        "\n",
        "However, for the sentence “This was a helpful example but I would prefer another one”. It returns 0.0 for both subjectivity and polarity which is not the finest answer we’d expect."
      ]
    },
    {
      "cell_type": "code",
      "metadata": {
        "colab": {
          "base_uri": "https://localhost:8080/"
        },
        "id": "KMTblcE9MDti",
        "outputId": "f6c7fcd1-9ebb-43ab-dff8-fa62ee40b6b9"
      },
      "source": [
        "print(\"Play store dataframe shape:\",play_store_df.shape,\"\\nUser reviews dataframe shape:\",user_reviews_df.shape)"
      ],
      "execution_count": 163,
      "outputs": [
        {
          "output_type": "stream",
          "name": "stdout",
          "text": [
            "Play store dataframe shape: (10349, 14) \n",
            "User reviews dataframe shape: (37432, 5)\n"
          ]
        }
      ]
    },
    {
      "cell_type": "markdown",
      "metadata": {
        "id": "kqsZ9WLKYsMO"
      },
      "source": [
        "# 1.5 Exploratory Data Analysis (EDA)\n",
        "\n",
        "Trying to get some conclusion from data, correlation, trends which make sense and accomplishing milestones given in the problem statement by using visualization.\n",
        "\n",
        "For each visualization we will create a new dataframe.\n"
      ]
    },
    {
      "cell_type": "code",
      "metadata": {
        "id": "la_K8ZWtNm7f"
      },
      "source": [
        "df1=play_store_df[[\"Year\",\"Category\"]].groupby([\"Year\",\"Category\"],as_index=False).size()"
      ],
      "execution_count": 164,
      "outputs": []
    },
    {
      "cell_type": "code",
      "metadata": {
        "colab": {
          "base_uri": "https://localhost:8080/",
          "height": 542
        },
        "id": "UjKzu5FuZcik",
        "outputId": "b46117be-c346-49be-a601-75c97f0c1ae1"
      },
      "source": [
        "fig = px.pie(df1, values='size', names='Category', hole = 0.4, title='Number of Apps present in dataframe according to Category')\n",
        "fig.add_annotation(text = '2010-2018', font = dict(size=20, color='black'), showarrow = False)\n",
        "fig.show()"
      ],
      "execution_count": 165,
      "outputs": [
        {
          "output_type": "display_data",
          "data": {
            "text/html": [
              "<html>\n",
              "<head><meta charset=\"utf-8\" /></head>\n",
              "<body>\n",
              "    <div>\n",
              "            <script src=\"https://cdnjs.cloudflare.com/ajax/libs/mathjax/2.7.5/MathJax.js?config=TeX-AMS-MML_SVG\"></script><script type=\"text/javascript\">if (window.MathJax) {MathJax.Hub.Config({SVG: {font: \"STIX-Web\"}});}</script>\n",
              "                <script type=\"text/javascript\">window.PlotlyConfig = {MathJaxConfig: 'local'};</script>\n",
              "        <script src=\"https://cdn.plot.ly/plotly-latest.min.js\"></script>    \n",
              "            <div id=\"2607ade9-63a1-46b1-9f18-aeff468c128f\" class=\"plotly-graph-div\" style=\"height:525px; width:100%;\"></div>\n",
              "            <script type=\"text/javascript\">\n",
              "                \n",
              "                    window.PLOTLYENV=window.PLOTLYENV || {};\n",
              "                    \n",
              "                if (document.getElementById(\"2607ade9-63a1-46b1-9f18-aeff468c128f\")) {\n",
              "                    Plotly.newPlot(\n",
              "                        '2607ade9-63a1-46b1-9f18-aeff468c128f',\n",
              "                        [{\"domain\": {\"x\": [0.0, 1.0], \"y\": [0.0, 1.0]}, \"hole\": 0.4, \"hoverlabel\": {\"namelength\": 0}, \"hovertemplate\": \"Category=%{label}<br>size=%{value}\", \"labels\": [\"FAMILY\", \"BOOKS_AND_REFERENCE\", \"BUSINESS\", \"FAMILY\", \"GAME\", \"LIBRARIES_AND_DEMO\", \"LIFESTYLE\", \"TOOLS\", \"BUSINESS\", \"COMMUNICATION\", \"FAMILY\", \"FINANCE\", \"GAME\", \"HEALTH_AND_FITNESS\", \"LIBRARIES_AND_DEMO\", \"MEDICAL\", \"PHOTOGRAPHY\", \"PRODUCTIVITY\", \"SHOPPING\", \"TOOLS\", \"BOOKS_AND_REFERENCE\", \"BUSINESS\", \"COMMUNICATION\", \"EDUCATION\", \"FAMILY\", \"FINANCE\", \"GAME\", \"HEALTH_AND_FITNESS\", \"HOUSE_AND_HOME\", \"LIBRARIES_AND_DEMO\", \"LIFESTYLE\", \"MAPS_AND_NAVIGATION\", \"MEDICAL\", \"PERSONALIZATION\", \"PRODUCTIVITY\", \"SHOPPING\", \"SOCIAL\", \"SPORTS\", \"TOOLS\", \"TRAVEL_AND_LOCAL\", \"VIDEO_PLAYERS\", \"WEATHER\", \"AUTO_AND_VEHICLES\", \"BOOKS_AND_REFERENCE\", \"BUSINESS\", \"COMMUNICATION\", \"EDUCATION\", \"FAMILY\", \"GAME\", \"HEALTH_AND_FITNESS\", \"LIBRARIES_AND_DEMO\", \"LIFESTYLE\", \"MAPS_AND_NAVIGATION\", \"MEDICAL\", \"NEWS_AND_MAGAZINES\", \"PERSONALIZATION\", \"PHOTOGRAPHY\", \"PRODUCTIVITY\", \"SOCIAL\", \"SPORTS\", \"TOOLS\", \"TRAVEL_AND_LOCAL\", \"VIDEO_PLAYERS\", \"WEATHER\", \"BOOKS_AND_REFERENCE\", \"BUSINESS\", \"COMICS\", \"COMMUNICATION\", \"EDUCATION\", \"ENTERTAINMENT\", \"FAMILY\", \"FINANCE\", \"GAME\", \"HEALTH_AND_FITNESS\", \"HOUSE_AND_HOME\", \"LIBRARIES_AND_DEMO\", \"LIFESTYLE\", \"MAPS_AND_NAVIGATION\", \"MEDICAL\", \"NEWS_AND_MAGAZINES\", \"PERSONALIZATION\", \"PHOTOGRAPHY\", \"PRODUCTIVITY\", \"SHOPPING\", \"SOCIAL\", \"SPORTS\", \"TOOLS\", \"TRAVEL_AND_LOCAL\", \"VIDEO_PLAYERS\", \"WEATHER\", \"AUTO_AND_VEHICLES\", \"BEAUTY\", \"BOOKS_AND_REFERENCE\", \"BUSINESS\", \"COMICS\", \"COMMUNICATION\", \"DATING\", \"EDUCATION\", \"ENTERTAINMENT\", \"EVENTS\", \"FAMILY\", \"FINANCE\", \"FOOD_AND_DRINK\", \"GAME\", \"HEALTH_AND_FITNESS\", \"HOUSE_AND_HOME\", \"LIBRARIES_AND_DEMO\", \"LIFESTYLE\", \"MAPS_AND_NAVIGATION\", \"MEDICAL\", \"NEWS_AND_MAGAZINES\", \"PARENTING\", \"PERSONALIZATION\", \"PHOTOGRAPHY\", \"PRODUCTIVITY\", \"SHOPPING\", \"SOCIAL\", \"SPORTS\", \"TOOLS\", \"TRAVEL_AND_LOCAL\", \"VIDEO_PLAYERS\", \"WEATHER\", \"ART_AND_DESIGN\", \"AUTO_AND_VEHICLES\", \"BEAUTY\", \"BOOKS_AND_REFERENCE\", \"BUSINESS\", \"COMICS\", \"COMMUNICATION\", \"DATING\", \"EDUCATION\", \"ENTERTAINMENT\", \"EVENTS\", \"FAMILY\", \"FINANCE\", \"FOOD_AND_DRINK\", \"GAME\", \"HEALTH_AND_FITNESS\", \"HOUSE_AND_HOME\", \"LIBRARIES_AND_DEMO\", \"LIFESTYLE\", \"MAPS_AND_NAVIGATION\", \"MEDICAL\", \"NEWS_AND_MAGAZINES\", \"PARENTING\", \"PERSONALIZATION\", \"PHOTOGRAPHY\", \"PRODUCTIVITY\", \"SHOPPING\", \"SOCIAL\", \"SPORTS\", \"TOOLS\", \"TRAVEL_AND_LOCAL\", \"VIDEO_PLAYERS\", \"WEATHER\", \"ART_AND_DESIGN\", \"AUTO_AND_VEHICLES\", \"BEAUTY\", \"BOOKS_AND_REFERENCE\", \"BUSINESS\", \"COMICS\", \"COMMUNICATION\", \"DATING\", \"EDUCATION\", \"ENTERTAINMENT\", \"EVENTS\", \"FAMILY\", \"FINANCE\", \"FOOD_AND_DRINK\", \"GAME\", \"HEALTH_AND_FITNESS\", \"HOUSE_AND_HOME\", \"LIBRARIES_AND_DEMO\", \"LIFESTYLE\", \"MAPS_AND_NAVIGATION\", \"MEDICAL\", \"NEWS_AND_MAGAZINES\", \"PARENTING\", \"PERSONALIZATION\", \"PHOTOGRAPHY\", \"PRODUCTIVITY\", \"SHOPPING\", \"SOCIAL\", \"SPORTS\", \"TOOLS\", \"TRAVEL_AND_LOCAL\", \"VIDEO_PLAYERS\", \"WEATHER\"], \"legendgroup\": \"\", \"name\": \"\", \"showlegend\": true, \"type\": \"pie\", \"values\": [1, 1, 1, 1, 4, 1, 1, 6, 1, 1, 9, 1, 2, 2, 1, 3, 1, 1, 1, 3, 3, 4, 3, 1, 16, 3, 18, 1, 1, 1, 3, 3, 6, 16, 5, 1, 2, 4, 10, 1, 4, 1, 1, 9, 7, 10, 3, 40, 26, 3, 1, 6, 1, 12, 5, 17, 5, 12, 4, 4, 26, 2, 4, 6, 23, 24, 1, 20, 5, 3, 102, 5, 62, 8, 7, 2, 18, 3, 17, 6, 24, 14, 20, 3, 9, 9, 49, 6, 12, 2, 3, 1, 27, 38, 1, 23, 3, 9, 2, 2, 205, 14, 5, 80, 15, 1, 7, 38, 5, 20, 15, 2, 61, 23, 37, 7, 17, 17, 74, 19, 14, 2, 12, 7, 12, 50, 82, 8, 56, 15, 26, 2, 16, 447, 48, 8, 184, 32, 10, 35, 86, 21, 77, 34, 7, 56, 69, 65, 19, 37, 55, 179, 30, 28, 10, 52, 74, 40, 116, 270, 50, 253, 178, 86, 104, 46, 1119, 289, 111, 745, 245, 61, 36, 221, 104, 273, 204, 51, 214, 210, 267, 193, 211, 262, 494, 179, 113, 61]}],\n",
              "                        {\"annotations\": [{\"font\": {\"color\": \"black\", \"size\": 20}, \"showarrow\": false, \"text\": \"2010-2018\"}], \"legend\": {\"tracegroupgap\": 0}, \"template\": {\"data\": {\"bar\": [{\"error_x\": {\"color\": \"#2a3f5f\"}, \"error_y\": {\"color\": \"#2a3f5f\"}, \"marker\": {\"line\": {\"color\": \"#E5ECF6\", \"width\": 0.5}}, \"type\": \"bar\"}], \"barpolar\": [{\"marker\": {\"line\": {\"color\": \"#E5ECF6\", \"width\": 0.5}}, \"type\": \"barpolar\"}], \"carpet\": [{\"aaxis\": {\"endlinecolor\": \"#2a3f5f\", \"gridcolor\": \"white\", \"linecolor\": \"white\", \"minorgridcolor\": \"white\", \"startlinecolor\": \"#2a3f5f\"}, \"baxis\": {\"endlinecolor\": \"#2a3f5f\", \"gridcolor\": \"white\", \"linecolor\": \"white\", \"minorgridcolor\": \"white\", \"startlinecolor\": \"#2a3f5f\"}, \"type\": \"carpet\"}], \"choropleth\": [{\"colorbar\": {\"outlinewidth\": 0, \"ticks\": \"\"}, \"type\": \"choropleth\"}], \"contour\": [{\"colorbar\": {\"outlinewidth\": 0, \"ticks\": \"\"}, \"colorscale\": [[0.0, \"#0d0887\"], [0.1111111111111111, \"#46039f\"], [0.2222222222222222, \"#7201a8\"], [0.3333333333333333, \"#9c179e\"], [0.4444444444444444, \"#bd3786\"], [0.5555555555555556, \"#d8576b\"], [0.6666666666666666, \"#ed7953\"], [0.7777777777777778, \"#fb9f3a\"], [0.8888888888888888, \"#fdca26\"], [1.0, \"#f0f921\"]], \"type\": \"contour\"}], \"contourcarpet\": [{\"colorbar\": {\"outlinewidth\": 0, \"ticks\": \"\"}, \"type\": \"contourcarpet\"}], \"heatmap\": [{\"colorbar\": {\"outlinewidth\": 0, \"ticks\": \"\"}, \"colorscale\": [[0.0, \"#0d0887\"], [0.1111111111111111, \"#46039f\"], [0.2222222222222222, \"#7201a8\"], [0.3333333333333333, \"#9c179e\"], [0.4444444444444444, \"#bd3786\"], [0.5555555555555556, \"#d8576b\"], [0.6666666666666666, \"#ed7953\"], [0.7777777777777778, \"#fb9f3a\"], [0.8888888888888888, \"#fdca26\"], [1.0, \"#f0f921\"]], \"type\": \"heatmap\"}], \"heatmapgl\": [{\"colorbar\": {\"outlinewidth\": 0, \"ticks\": \"\"}, \"colorscale\": [[0.0, \"#0d0887\"], [0.1111111111111111, \"#46039f\"], [0.2222222222222222, \"#7201a8\"], [0.3333333333333333, \"#9c179e\"], [0.4444444444444444, \"#bd3786\"], [0.5555555555555556, \"#d8576b\"], [0.6666666666666666, \"#ed7953\"], [0.7777777777777778, \"#fb9f3a\"], [0.8888888888888888, \"#fdca26\"], [1.0, \"#f0f921\"]], \"type\": \"heatmapgl\"}], \"histogram\": [{\"marker\": {\"colorbar\": {\"outlinewidth\": 0, \"ticks\": \"\"}}, \"type\": \"histogram\"}], \"histogram2d\": [{\"colorbar\": {\"outlinewidth\": 0, \"ticks\": \"\"}, \"colorscale\": [[0.0, \"#0d0887\"], [0.1111111111111111, \"#46039f\"], [0.2222222222222222, \"#7201a8\"], [0.3333333333333333, \"#9c179e\"], [0.4444444444444444, \"#bd3786\"], [0.5555555555555556, \"#d8576b\"], [0.6666666666666666, \"#ed7953\"], [0.7777777777777778, \"#fb9f3a\"], [0.8888888888888888, \"#fdca26\"], [1.0, \"#f0f921\"]], \"type\": \"histogram2d\"}], \"histogram2dcontour\": [{\"colorbar\": {\"outlinewidth\": 0, \"ticks\": \"\"}, \"colorscale\": [[0.0, \"#0d0887\"], [0.1111111111111111, \"#46039f\"], [0.2222222222222222, \"#7201a8\"], [0.3333333333333333, \"#9c179e\"], [0.4444444444444444, \"#bd3786\"], [0.5555555555555556, \"#d8576b\"], [0.6666666666666666, \"#ed7953\"], [0.7777777777777778, \"#fb9f3a\"], [0.8888888888888888, \"#fdca26\"], [1.0, \"#f0f921\"]], \"type\": \"histogram2dcontour\"}], \"mesh3d\": [{\"colorbar\": {\"outlinewidth\": 0, \"ticks\": \"\"}, \"type\": \"mesh3d\"}], \"parcoords\": [{\"line\": {\"colorbar\": {\"outlinewidth\": 0, \"ticks\": \"\"}}, \"type\": \"parcoords\"}], \"pie\": [{\"automargin\": true, \"type\": \"pie\"}], \"scatter\": [{\"marker\": {\"colorbar\": {\"outlinewidth\": 0, \"ticks\": \"\"}}, \"type\": \"scatter\"}], \"scatter3d\": [{\"line\": {\"colorbar\": {\"outlinewidth\": 0, \"ticks\": \"\"}}, \"marker\": {\"colorbar\": {\"outlinewidth\": 0, \"ticks\": \"\"}}, \"type\": \"scatter3d\"}], \"scattercarpet\": [{\"marker\": {\"colorbar\": {\"outlinewidth\": 0, \"ticks\": \"\"}}, \"type\": \"scattercarpet\"}], \"scattergeo\": [{\"marker\": {\"colorbar\": {\"outlinewidth\": 0, \"ticks\": \"\"}}, \"type\": \"scattergeo\"}], \"scattergl\": [{\"marker\": {\"colorbar\": {\"outlinewidth\": 0, \"ticks\": \"\"}}, \"type\": \"scattergl\"}], \"scattermapbox\": [{\"marker\": {\"colorbar\": {\"outlinewidth\": 0, \"ticks\": \"\"}}, \"type\": \"scattermapbox\"}], \"scatterpolar\": [{\"marker\": {\"colorbar\": {\"outlinewidth\": 0, \"ticks\": \"\"}}, \"type\": \"scatterpolar\"}], \"scatterpolargl\": [{\"marker\": {\"colorbar\": {\"outlinewidth\": 0, \"ticks\": \"\"}}, \"type\": \"scatterpolargl\"}], \"scatterternary\": [{\"marker\": {\"colorbar\": {\"outlinewidth\": 0, \"ticks\": \"\"}}, \"type\": \"scatterternary\"}], \"surface\": [{\"colorbar\": {\"outlinewidth\": 0, \"ticks\": \"\"}, \"colorscale\": [[0.0, \"#0d0887\"], [0.1111111111111111, \"#46039f\"], [0.2222222222222222, \"#7201a8\"], [0.3333333333333333, \"#9c179e\"], [0.4444444444444444, \"#bd3786\"], [0.5555555555555556, \"#d8576b\"], [0.6666666666666666, \"#ed7953\"], [0.7777777777777778, \"#fb9f3a\"], [0.8888888888888888, \"#fdca26\"], [1.0, \"#f0f921\"]], \"type\": \"surface\"}], \"table\": [{\"cells\": {\"fill\": {\"color\": \"#EBF0F8\"}, \"line\": {\"color\": \"white\"}}, \"header\": {\"fill\": {\"color\": \"#C8D4E3\"}, \"line\": {\"color\": \"white\"}}, \"type\": \"table\"}]}, \"layout\": {\"annotationdefaults\": {\"arrowcolor\": \"#2a3f5f\", \"arrowhead\": 0, \"arrowwidth\": 1}, \"coloraxis\": {\"colorbar\": {\"outlinewidth\": 0, \"ticks\": \"\"}}, \"colorscale\": {\"diverging\": [[0, \"#8e0152\"], [0.1, \"#c51b7d\"], [0.2, \"#de77ae\"], [0.3, \"#f1b6da\"], [0.4, \"#fde0ef\"], [0.5, \"#f7f7f7\"], [0.6, \"#e6f5d0\"], [0.7, \"#b8e186\"], [0.8, \"#7fbc41\"], [0.9, \"#4d9221\"], [1, \"#276419\"]], \"sequential\": [[0.0, \"#0d0887\"], [0.1111111111111111, \"#46039f\"], [0.2222222222222222, \"#7201a8\"], [0.3333333333333333, \"#9c179e\"], [0.4444444444444444, \"#bd3786\"], [0.5555555555555556, \"#d8576b\"], [0.6666666666666666, \"#ed7953\"], [0.7777777777777778, \"#fb9f3a\"], [0.8888888888888888, \"#fdca26\"], [1.0, \"#f0f921\"]], \"sequentialminus\": [[0.0, \"#0d0887\"], [0.1111111111111111, \"#46039f\"], [0.2222222222222222, \"#7201a8\"], [0.3333333333333333, \"#9c179e\"], [0.4444444444444444, \"#bd3786\"], [0.5555555555555556, \"#d8576b\"], [0.6666666666666666, \"#ed7953\"], [0.7777777777777778, \"#fb9f3a\"], [0.8888888888888888, \"#fdca26\"], [1.0, \"#f0f921\"]]}, \"colorway\": [\"#636efa\", \"#EF553B\", \"#00cc96\", \"#ab63fa\", \"#FFA15A\", \"#19d3f3\", \"#FF6692\", \"#B6E880\", \"#FF97FF\", \"#FECB52\"], \"font\": {\"color\": \"#2a3f5f\"}, \"geo\": {\"bgcolor\": \"white\", \"lakecolor\": \"white\", \"landcolor\": \"#E5ECF6\", \"showlakes\": true, \"showland\": true, \"subunitcolor\": \"white\"}, \"hoverlabel\": {\"align\": \"left\"}, \"hovermode\": \"closest\", \"mapbox\": {\"style\": \"light\"}, \"paper_bgcolor\": \"white\", \"plot_bgcolor\": \"#E5ECF6\", \"polar\": {\"angularaxis\": {\"gridcolor\": \"white\", \"linecolor\": \"white\", \"ticks\": \"\"}, \"bgcolor\": \"#E5ECF6\", \"radialaxis\": {\"gridcolor\": \"white\", \"linecolor\": \"white\", \"ticks\": \"\"}}, \"scene\": {\"xaxis\": {\"backgroundcolor\": \"#E5ECF6\", \"gridcolor\": \"white\", \"gridwidth\": 2, \"linecolor\": \"white\", \"showbackground\": true, \"ticks\": \"\", \"zerolinecolor\": \"white\"}, \"yaxis\": {\"backgroundcolor\": \"#E5ECF6\", \"gridcolor\": \"white\", \"gridwidth\": 2, \"linecolor\": \"white\", \"showbackground\": true, \"ticks\": \"\", \"zerolinecolor\": \"white\"}, \"zaxis\": {\"backgroundcolor\": \"#E5ECF6\", \"gridcolor\": \"white\", \"gridwidth\": 2, \"linecolor\": \"white\", \"showbackground\": true, \"ticks\": \"\", \"zerolinecolor\": \"white\"}}, \"shapedefaults\": {\"line\": {\"color\": \"#2a3f5f\"}}, \"ternary\": {\"aaxis\": {\"gridcolor\": \"white\", \"linecolor\": \"white\", \"ticks\": \"\"}, \"baxis\": {\"gridcolor\": \"white\", \"linecolor\": \"white\", \"ticks\": \"\"}, \"bgcolor\": \"#E5ECF6\", \"caxis\": {\"gridcolor\": \"white\", \"linecolor\": \"white\", \"ticks\": \"\"}}, \"title\": {\"x\": 0.05}, \"xaxis\": {\"automargin\": true, \"gridcolor\": \"white\", \"linecolor\": \"white\", \"ticks\": \"\", \"title\": {\"standoff\": 15}, \"zerolinecolor\": \"white\", \"zerolinewidth\": 2}, \"yaxis\": {\"automargin\": true, \"gridcolor\": \"white\", \"linecolor\": \"white\", \"ticks\": \"\", \"title\": {\"standoff\": 15}, \"zerolinecolor\": \"white\", \"zerolinewidth\": 2}}}, \"title\": {\"text\": \"Number of Apps present in dataframe according to Category\"}},\n",
              "                        {\"responsive\": true}\n",
              "                    ).then(function(){\n",
              "                            \n",
              "var gd = document.getElementById('2607ade9-63a1-46b1-9f18-aeff468c128f');\n",
              "var x = new MutationObserver(function (mutations, observer) {{\n",
              "        var display = window.getComputedStyle(gd).display;\n",
              "        if (!display || display === 'none') {{\n",
              "            console.log([gd, 'removed!']);\n",
              "            Plotly.purge(gd);\n",
              "            observer.disconnect();\n",
              "        }}\n",
              "}});\n",
              "\n",
              "// Listen for the removal of the full notebook cells\n",
              "var notebookContainer = gd.closest('#notebook-container');\n",
              "if (notebookContainer) {{\n",
              "    x.observe(notebookContainer, {childList: true});\n",
              "}}\n",
              "\n",
              "// Listen for the clearing of the current output cell\n",
              "var outputEl = gd.closest('.output');\n",
              "if (outputEl) {{\n",
              "    x.observe(outputEl, {childList: true});\n",
              "}}\n",
              "\n",
              "                        })\n",
              "                };\n",
              "                \n",
              "            </script>\n",
              "        </div>\n",
              "</body>\n",
              "</html>"
            ]
          },
          "metadata": {}
        }
      ]
    },
    {
      "cell_type": "markdown",
      "metadata": {
        "id": "JsCKHOabgHHq"
      },
      "source": [
        "Here we are able to see percentage of apps in each category."
      ]
    },
    {
      "cell_type": "code",
      "metadata": {
        "id": "88pCr5a0fGrT"
      },
      "source": [
        "# Making a new column name Month\n",
        "play_store_df[\"Month\"]=play_store_df.Last_Updated.dt.month"
      ],
      "execution_count": 166,
      "outputs": []
    },
    {
      "cell_type": "code",
      "metadata": {
        "colab": {
          "base_uri": "https://localhost:8080/",
          "height": 422
        },
        "id": "EExlz74Tfirb",
        "outputId": "e8601c95-1d06-473a-ae7d-18ebc7334c85"
      },
      "source": [
        "play_store_df[['Month','Year']]"
      ],
      "execution_count": 167,
      "outputs": [
        {
          "output_type": "execute_result",
          "data": {
            "text/html": [
              "<div>\n",
              "<style scoped>\n",
              "    .dataframe tbody tr th:only-of-type {\n",
              "        vertical-align: middle;\n",
              "    }\n",
              "\n",
              "    .dataframe tbody tr th {\n",
              "        vertical-align: top;\n",
              "    }\n",
              "\n",
              "    .dataframe thead th {\n",
              "        text-align: right;\n",
              "    }\n",
              "</style>\n",
              "<table border=\"1\" class=\"dataframe\">\n",
              "  <thead>\n",
              "    <tr style=\"text-align: right;\">\n",
              "      <th></th>\n",
              "      <th>Month</th>\n",
              "      <th>Year</th>\n",
              "    </tr>\n",
              "  </thead>\n",
              "  <tbody>\n",
              "    <tr>\n",
              "      <th>0</th>\n",
              "      <td>1</td>\n",
              "      <td>2018</td>\n",
              "    </tr>\n",
              "    <tr>\n",
              "      <th>1</th>\n",
              "      <td>1</td>\n",
              "      <td>2018</td>\n",
              "    </tr>\n",
              "    <tr>\n",
              "      <th>2</th>\n",
              "      <td>8</td>\n",
              "      <td>2018</td>\n",
              "    </tr>\n",
              "    <tr>\n",
              "      <th>3</th>\n",
              "      <td>6</td>\n",
              "      <td>2018</td>\n",
              "    </tr>\n",
              "    <tr>\n",
              "      <th>4</th>\n",
              "      <td>6</td>\n",
              "      <td>2018</td>\n",
              "    </tr>\n",
              "    <tr>\n",
              "      <th>...</th>\n",
              "      <td>...</td>\n",
              "      <td>...</td>\n",
              "    </tr>\n",
              "    <tr>\n",
              "      <th>10352</th>\n",
              "      <td>7</td>\n",
              "      <td>2017</td>\n",
              "    </tr>\n",
              "    <tr>\n",
              "      <th>10353</th>\n",
              "      <td>7</td>\n",
              "      <td>2018</td>\n",
              "    </tr>\n",
              "    <tr>\n",
              "      <th>10354</th>\n",
              "      <td>1</td>\n",
              "      <td>2017</td>\n",
              "    </tr>\n",
              "    <tr>\n",
              "      <th>10355</th>\n",
              "      <td>1</td>\n",
              "      <td>2015</td>\n",
              "    </tr>\n",
              "    <tr>\n",
              "      <th>10356</th>\n",
              "      <td>7</td>\n",
              "      <td>2018</td>\n",
              "    </tr>\n",
              "  </tbody>\n",
              "</table>\n",
              "<p>10349 rows × 2 columns</p>\n",
              "</div>"
            ],
            "text/plain": [
              "       Month  Year\n",
              "0          1  2018\n",
              "1          1  2018\n",
              "2          8  2018\n",
              "3          6  2018\n",
              "4          6  2018\n",
              "...      ...   ...\n",
              "10352      7  2017\n",
              "10353      7  2018\n",
              "10354      1  2017\n",
              "10355      1  2015\n",
              "10356      7  2018\n",
              "\n",
              "[10349 rows x 2 columns]"
            ]
          },
          "metadata": {},
          "execution_count": 167
        }
      ]
    },
    {
      "cell_type": "code",
      "metadata": {
        "id": "ZWxeez5tfiZ7"
      },
      "source": [
        "# Converting numerical month to textual months\n",
        "import calendar\n",
        "play_store_df['Month'] = play_store_df['Month'].apply(lambda x: calendar.month_name[x])"
      ],
      "execution_count": 168,
      "outputs": []
    },
    {
      "cell_type": "code",
      "metadata": {
        "colab": {
          "base_uri": "https://localhost:8080/",
          "height": 422
        },
        "id": "bpq85Z7XfpUL",
        "outputId": "8efb4ea9-a813-4129-aa0b-67555fc4f96d"
      },
      "source": [
        "play_store_df[['Month','Year']]"
      ],
      "execution_count": 169,
      "outputs": [
        {
          "output_type": "execute_result",
          "data": {
            "text/html": [
              "<div>\n",
              "<style scoped>\n",
              "    .dataframe tbody tr th:only-of-type {\n",
              "        vertical-align: middle;\n",
              "    }\n",
              "\n",
              "    .dataframe tbody tr th {\n",
              "        vertical-align: top;\n",
              "    }\n",
              "\n",
              "    .dataframe thead th {\n",
              "        text-align: right;\n",
              "    }\n",
              "</style>\n",
              "<table border=\"1\" class=\"dataframe\">\n",
              "  <thead>\n",
              "    <tr style=\"text-align: right;\">\n",
              "      <th></th>\n",
              "      <th>Month</th>\n",
              "      <th>Year</th>\n",
              "    </tr>\n",
              "  </thead>\n",
              "  <tbody>\n",
              "    <tr>\n",
              "      <th>0</th>\n",
              "      <td>January</td>\n",
              "      <td>2018</td>\n",
              "    </tr>\n",
              "    <tr>\n",
              "      <th>1</th>\n",
              "      <td>January</td>\n",
              "      <td>2018</td>\n",
              "    </tr>\n",
              "    <tr>\n",
              "      <th>2</th>\n",
              "      <td>August</td>\n",
              "      <td>2018</td>\n",
              "    </tr>\n",
              "    <tr>\n",
              "      <th>3</th>\n",
              "      <td>June</td>\n",
              "      <td>2018</td>\n",
              "    </tr>\n",
              "    <tr>\n",
              "      <th>4</th>\n",
              "      <td>June</td>\n",
              "      <td>2018</td>\n",
              "    </tr>\n",
              "    <tr>\n",
              "      <th>...</th>\n",
              "      <td>...</td>\n",
              "      <td>...</td>\n",
              "    </tr>\n",
              "    <tr>\n",
              "      <th>10352</th>\n",
              "      <td>July</td>\n",
              "      <td>2017</td>\n",
              "    </tr>\n",
              "    <tr>\n",
              "      <th>10353</th>\n",
              "      <td>July</td>\n",
              "      <td>2018</td>\n",
              "    </tr>\n",
              "    <tr>\n",
              "      <th>10354</th>\n",
              "      <td>January</td>\n",
              "      <td>2017</td>\n",
              "    </tr>\n",
              "    <tr>\n",
              "      <th>10355</th>\n",
              "      <td>January</td>\n",
              "      <td>2015</td>\n",
              "    </tr>\n",
              "    <tr>\n",
              "      <th>10356</th>\n",
              "      <td>July</td>\n",
              "      <td>2018</td>\n",
              "    </tr>\n",
              "  </tbody>\n",
              "</table>\n",
              "<p>10349 rows × 2 columns</p>\n",
              "</div>"
            ],
            "text/plain": [
              "         Month  Year\n",
              "0      January  2018\n",
              "1      January  2018\n",
              "2       August  2018\n",
              "3         June  2018\n",
              "4         June  2018\n",
              "...        ...   ...\n",
              "10352     July  2017\n",
              "10353     July  2018\n",
              "10354  January  2017\n",
              "10355  January  2015\n",
              "10356     July  2018\n",
              "\n",
              "[10349 rows x 2 columns]"
            ]
          },
          "metadata": {},
          "execution_count": 169
        }
      ]
    },
    {
      "cell_type": "code",
      "metadata": {
        "id": "giKX1-1SgBn-"
      },
      "source": [
        "df2=play_store_df[[\"Category\",\"Year\",\"Month\"]].groupby([\"Year\",\"Month\",\"Category\"], as_index=False).size()\n",
        "df2.rename(columns={\"size\":\"NumberOfApps\"},inplace=True)"
      ],
      "execution_count": 170,
      "outputs": []
    },
    {
      "cell_type": "code",
      "metadata": {
        "colab": {
          "base_uri": "https://localhost:8080/",
          "height": 205
        },
        "id": "lMP0L66NgBlM",
        "outputId": "65739ac7-2aba-406f-8f0f-ed3f95f70cdd"
      },
      "source": [
        "df2.head()"
      ],
      "execution_count": 171,
      "outputs": [
        {
          "output_type": "execute_result",
          "data": {
            "text/html": [
              "<div>\n",
              "<style scoped>\n",
              "    .dataframe tbody tr th:only-of-type {\n",
              "        vertical-align: middle;\n",
              "    }\n",
              "\n",
              "    .dataframe tbody tr th {\n",
              "        vertical-align: top;\n",
              "    }\n",
              "\n",
              "    .dataframe thead th {\n",
              "        text-align: right;\n",
              "    }\n",
              "</style>\n",
              "<table border=\"1\" class=\"dataframe\">\n",
              "  <thead>\n",
              "    <tr style=\"text-align: right;\">\n",
              "      <th></th>\n",
              "      <th>Year</th>\n",
              "      <th>Month</th>\n",
              "      <th>Category</th>\n",
              "      <th>NumberOfApps</th>\n",
              "    </tr>\n",
              "  </thead>\n",
              "  <tbody>\n",
              "    <tr>\n",
              "      <th>0</th>\n",
              "      <td>2010</td>\n",
              "      <td>May</td>\n",
              "      <td>FAMILY</td>\n",
              "      <td>1</td>\n",
              "    </tr>\n",
              "    <tr>\n",
              "      <th>1</th>\n",
              "      <td>2011</td>\n",
              "      <td>April</td>\n",
              "      <td>FAMILY</td>\n",
              "      <td>1</td>\n",
              "    </tr>\n",
              "    <tr>\n",
              "      <th>2</th>\n",
              "      <td>2011</td>\n",
              "      <td>April</td>\n",
              "      <td>GAME</td>\n",
              "      <td>2</td>\n",
              "    </tr>\n",
              "    <tr>\n",
              "      <th>3</th>\n",
              "      <td>2011</td>\n",
              "      <td>December</td>\n",
              "      <td>GAME</td>\n",
              "      <td>1</td>\n",
              "    </tr>\n",
              "    <tr>\n",
              "      <th>4</th>\n",
              "      <td>2011</td>\n",
              "      <td>December</td>\n",
              "      <td>LIFESTYLE</td>\n",
              "      <td>1</td>\n",
              "    </tr>\n",
              "  </tbody>\n",
              "</table>\n",
              "</div>"
            ],
            "text/plain": [
              "   Year     Month   Category  NumberOfApps\n",
              "0  2010       May     FAMILY             1\n",
              "1  2011     April     FAMILY             1\n",
              "2  2011     April       GAME             2\n",
              "3  2011  December       GAME             1\n",
              "4  2011  December  LIFESTYLE             1"
            ]
          },
          "metadata": {},
          "execution_count": 171
        }
      ]
    },
    {
      "cell_type": "code",
      "metadata": {
        "id": "juJDrggVgBiM"
      },
      "source": [
        "month=[\"January\", \"February\", \"March\", \"April\", \"May\", \"June\", \n",
        "      \"July\", \"August\", \"September\", \"October\", \"November\", \"December\"]"
      ],
      "execution_count": 172,
      "outputs": []
    },
    {
      "cell_type": "code",
      "metadata": {
        "colab": {
          "base_uri": "https://localhost:8080/",
          "height": 1000
        },
        "id": "1PUHS83egBdr",
        "outputId": "58c525d8-e246-4c95-f6e7-1690c1b3cb0a"
      },
      "source": [
        "fig = px.bar(df2[df2['Year']==2018], x = 'Month', y = \"NumberOfApps\", color=\"Category\", title='2018 Monthly Category Trend', category_orders={\"Month\": month})\n",
        "fig.show()\n",
        "fig = px.bar(df2[df2['Year']==2017], x = 'Month', y = \"NumberOfApps\", color=\"Category\", title='2017 Monthly Category Trend', category_orders={\"Month\": month})\n",
        "fig.show()\n",
        "fig = px.bar(df2[df2['Year']==2016], x = 'Month', y = \"NumberOfApps\", color=\"Category\", title='2016 Monthly Category Trend', category_orders={\"Month\": month})\n",
        "fig.show()\n",
        "fig = px.bar(df2[df2['Year']==2015], x = 'Month', y = \"NumberOfApps\", color=\"Category\", title='2015 Monthly Category Trend', category_orders={\"Month\": month})\n",
        "fig.show()\n",
        "fig = px.bar(df2[df2['Year']==2014], x = 'Month', y = \"NumberOfApps\", color=\"Category\", title='2014 Monthly Category Trend', category_orders={\"Month\": month})\n",
        "fig.show()\n",
        "fig = px.bar(df2[df2['Year']==2013], x = 'Month', y = \"NumberOfApps\", color=\"Category\", title='2013 Monthly Category Trend', category_orders={\"Month\": month})\n",
        "fig.show()\n",
        "fig = px.bar(df2[df2['Year']==2012], x = 'Month', y = \"NumberOfApps\", color=\"Category\", title='2012 Monthly Category Trend', category_orders={\"Month\": month})\n",
        "fig.show()\n",
        "fig = px.bar(df2[df2['Year']==2011], x = 'Month', y = \"NumberOfApps\", color=\"Category\", title='2011 Monthly Category Trend', category_orders={\"Month\": month})\n",
        "fig.show()\n",
        "fig = px.bar(df2[df2['Year']==2010], x = 'Month', y = \"NumberOfApps\", color=\"Category\", title='2010 Monthly Category Trend', category_orders={\"Month\": month})\n",
        "fig.show()"
      ],
      "execution_count": 173,
      "outputs": [
        {
          "output_type": "display_data",
          "data": {
            "text/html": [
              "<html>\n",
              "<head><meta charset=\"utf-8\" /></head>\n",
              "<body>\n",
              "    <div>\n",
              "            <script src=\"https://cdnjs.cloudflare.com/ajax/libs/mathjax/2.7.5/MathJax.js?config=TeX-AMS-MML_SVG\"></script><script type=\"text/javascript\">if (window.MathJax) {MathJax.Hub.Config({SVG: {font: \"STIX-Web\"}});}</script>\n",
              "                <script type=\"text/javascript\">window.PlotlyConfig = {MathJaxConfig: 'local'};</script>\n",
              "        <script src=\"https://cdn.plot.ly/plotly-latest.min.js\"></script>    \n",
              "            <div id=\"04682738-9dcb-41d2-94d6-e56c25fdf3bb\" class=\"plotly-graph-div\" style=\"height:525px; width:100%;\"></div>\n",
              "            <script type=\"text/javascript\">\n",
              "                \n",
              "                    window.PLOTLYENV=window.PLOTLYENV || {};\n",
              "                    \n",
              "                if (document.getElementById(\"04682738-9dcb-41d2-94d6-e56c25fdf3bb\")) {\n",
              "                    Plotly.newPlot(\n",
              "                        '04682738-9dcb-41d2-94d6-e56c25fdf3bb',\n",
              "                        [{\"alignmentgroup\": \"True\", \"hoverlabel\": {\"namelength\": 0}, \"hovertemplate\": \"Category=ART_AND_DESIGN<br>Month=%{x}<br>NumberOfApps=%{y}\", \"legendgroup\": \"Category=ART_AND_DESIGN\", \"marker\": {\"color\": \"#636efa\"}, \"name\": \"Category=ART_AND_DESIGN\", \"offsetgroup\": \"Category=ART_AND_DESIGN\", \"orientation\": \"v\", \"showlegend\": true, \"textposition\": \"auto\", \"type\": \"bar\", \"x\": [\"April\", \"August\", \"January\", \"July\", \"June\", \"March\", \"May\"], \"xaxis\": \"x\", \"y\": [8, 5, 5, 19, 5, 7, 3], \"yaxis\": \"y\"}, {\"alignmentgroup\": \"True\", \"hoverlabel\": {\"namelength\": 0}, \"hovertemplate\": \"Category=AUTO_AND_VEHICLES<br>Month=%{x}<br>NumberOfApps=%{y}\", \"legendgroup\": \"Category=AUTO_AND_VEHICLES\", \"marker\": {\"color\": \"#EF553B\"}, \"name\": \"Category=AUTO_AND_VEHICLES\", \"offsetgroup\": \"Category=AUTO_AND_VEHICLES\", \"orientation\": \"v\", \"showlegend\": true, \"textposition\": \"auto\", \"type\": \"bar\", \"x\": [\"April\", \"August\", \"February\", \"January\", \"July\", \"June\", \"March\", \"May\"], \"xaxis\": \"x\", \"y\": [3, 10, 3, 1, 35, 10, 4, 8], \"yaxis\": \"y\"}, {\"alignmentgroup\": \"True\", \"hoverlabel\": {\"namelength\": 0}, \"hovertemplate\": \"Category=BEAUTY<br>Month=%{x}<br>NumberOfApps=%{y}\", \"legendgroup\": \"Category=BEAUTY\", \"marker\": {\"color\": \"#00cc96\"}, \"name\": \"Category=BEAUTY\", \"offsetgroup\": \"Category=BEAUTY\", \"orientation\": \"v\", \"showlegend\": true, \"textposition\": \"auto\", \"type\": \"bar\", \"x\": [\"April\", \"August\", \"February\", \"January\", \"July\", \"June\", \"March\", \"May\"], \"xaxis\": \"x\", \"y\": [5, 2, 1, 1, 11, 7, 5, 8], \"yaxis\": \"y\"}, {\"alignmentgroup\": \"True\", \"hoverlabel\": {\"namelength\": 0}, \"hovertemplate\": \"Category=BOOKS_AND_REFERENCE<br>Month=%{x}<br>NumberOfApps=%{y}\", \"legendgroup\": \"Category=BOOKS_AND_REFERENCE\", \"marker\": {\"color\": \"#ab63fa\"}, \"name\": \"Category=BOOKS_AND_REFERENCE\", \"offsetgroup\": \"Category=BOOKS_AND_REFERENCE\", \"orientation\": \"v\", \"showlegend\": true, \"textposition\": \"auto\", \"type\": \"bar\", \"x\": [\"April\", \"August\", \"February\", \"January\", \"July\", \"June\", \"March\", \"May\"], \"xaxis\": \"x\", \"y\": [14, 13, 8, 4, 25, 15, 13, 24], \"yaxis\": \"y\"}, {\"alignmentgroup\": \"True\", \"hoverlabel\": {\"namelength\": 0}, \"hovertemplate\": \"Category=BUSINESS<br>Month=%{x}<br>NumberOfApps=%{y}\", \"legendgroup\": \"Category=BUSINESS\", \"marker\": {\"color\": \"#FFA15A\"}, \"name\": \"Category=BUSINESS\", \"offsetgroup\": \"Category=BUSINESS\", \"orientation\": \"v\", \"showlegend\": true, \"textposition\": \"auto\", \"type\": \"bar\", \"x\": [\"April\", \"August\", \"February\", \"January\", \"July\", \"June\", \"March\", \"May\"], \"xaxis\": \"x\", \"y\": [30, 35, 21, 13, 79, 46, 20, 26], \"yaxis\": \"y\"}, {\"alignmentgroup\": \"True\", \"hoverlabel\": {\"namelength\": 0}, \"hovertemplate\": \"Category=COMMUNICATION<br>Month=%{x}<br>NumberOfApps=%{y}\", \"legendgroup\": \"Category=COMMUNICATION\", \"marker\": {\"color\": \"#19d3f3\"}, \"name\": \"Category=COMMUNICATION\", \"offsetgroup\": \"Category=COMMUNICATION\", \"orientation\": \"v\", \"showlegend\": true, \"textposition\": \"auto\", \"type\": \"bar\", \"x\": [\"April\", \"August\", \"February\", \"January\", \"July\", \"June\", \"March\", \"May\"], \"xaxis\": \"x\", \"y\": [13, 47, 6, 15, 121, 22, 12, 17], \"yaxis\": \"y\"}, {\"alignmentgroup\": \"True\", \"hoverlabel\": {\"namelength\": 0}, \"hovertemplate\": \"Category=DATING<br>Month=%{x}<br>NumberOfApps=%{y}\", \"legendgroup\": \"Category=DATING\", \"marker\": {\"color\": \"#FF6692\"}, \"name\": \"Category=DATING\", \"offsetgroup\": \"Category=DATING\", \"orientation\": \"v\", \"showlegend\": true, \"textposition\": \"auto\", \"type\": \"bar\", \"x\": [\"April\", \"August\", \"February\", \"July\", \"June\", \"March\", \"May\"], \"xaxis\": \"x\", \"y\": [4, 31, 2, 117, 14, 3, 7], \"yaxis\": \"y\"}, {\"alignmentgroup\": \"True\", \"hoverlabel\": {\"namelength\": 0}, \"hovertemplate\": \"Category=EDUCATION<br>Month=%{x}<br>NumberOfApps=%{y}\", \"legendgroup\": \"Category=EDUCATION\", \"marker\": {\"color\": \"#B6E880\"}, \"name\": \"Category=EDUCATION\", \"offsetgroup\": \"Category=EDUCATION\", \"orientation\": \"v\", \"showlegend\": true, \"textposition\": \"auto\", \"type\": \"bar\", \"x\": [\"April\", \"August\", \"February\", \"July\", \"June\", \"March\", \"May\"], \"xaxis\": \"x\", \"y\": [2, 17, 3, 39, 11, 4, 10], \"yaxis\": \"y\"}, {\"alignmentgroup\": \"True\", \"hoverlabel\": {\"namelength\": 0}, \"hovertemplate\": \"Category=ENTERTAINMENT<br>Month=%{x}<br>NumberOfApps=%{y}\", \"legendgroup\": \"Category=ENTERTAINMENT\", \"marker\": {\"color\": \"#FF97FF\"}, \"name\": \"Category=ENTERTAINMENT\", \"offsetgroup\": \"Category=ENTERTAINMENT\", \"orientation\": \"v\", \"showlegend\": true, \"textposition\": \"auto\", \"type\": \"bar\", \"x\": [\"April\", \"August\", \"February\", \"January\", \"July\", \"June\", \"March\", \"May\"], \"xaxis\": \"x\", \"y\": [1, 20, 2, 4, 54, 15, 3, 5], \"yaxis\": \"y\"}, {\"alignmentgroup\": \"True\", \"hoverlabel\": {\"namelength\": 0}, \"hovertemplate\": \"Category=EVENTS<br>Month=%{x}<br>NumberOfApps=%{y}\", \"legendgroup\": \"Category=EVENTS\", \"marker\": {\"color\": \"#FECB52\"}, \"name\": \"Category=EVENTS\", \"offsetgroup\": \"Category=EVENTS\", \"orientation\": \"v\", \"showlegend\": true, \"textposition\": \"auto\", \"type\": \"bar\", \"x\": [\"April\", \"August\", \"January\", \"July\", \"June\", \"May\"], \"xaxis\": \"x\", \"y\": [1, 5, 1, 20, 11, 8], \"yaxis\": \"y\"}, {\"alignmentgroup\": \"True\", \"hoverlabel\": {\"namelength\": 0}, \"hovertemplate\": \"Category=FAMILY<br>Month=%{x}<br>NumberOfApps=%{y}\", \"legendgroup\": \"Category=FAMILY\", \"marker\": {\"color\": \"#636efa\"}, \"name\": \"Category=FAMILY\", \"offsetgroup\": \"Category=FAMILY\", \"orientation\": \"v\", \"showlegend\": true, \"textposition\": \"auto\", \"type\": \"bar\", \"x\": [\"April\", \"August\", \"February\", \"January\", \"July\", \"June\", \"March\", \"May\"], \"xaxis\": \"x\", \"y\": [75, 137, 67, 74, 349, 194, 95, 128], \"yaxis\": \"y\"}, {\"alignmentgroup\": \"True\", \"hoverlabel\": {\"namelength\": 0}, \"hovertemplate\": \"Category=FINANCE<br>Month=%{x}<br>NumberOfApps=%{y}\", \"legendgroup\": \"Category=FINANCE\", \"marker\": {\"color\": \"#EF553B\"}, \"name\": \"Category=FINANCE\", \"offsetgroup\": \"Category=FINANCE\", \"orientation\": \"v\", \"showlegend\": true, \"textposition\": \"auto\", \"type\": \"bar\", \"x\": [\"April\", \"August\", \"February\", \"January\", \"July\", \"June\", \"March\", \"May\"], \"xaxis\": \"x\", \"y\": [14, 43, 17, 11, 114, 41, 17, 32], \"yaxis\": \"y\"}, {\"alignmentgroup\": \"True\", \"hoverlabel\": {\"namelength\": 0}, \"hovertemplate\": \"Category=FOOD_AND_DRINK<br>Month=%{x}<br>NumberOfApps=%{y}\", \"legendgroup\": \"Category=FOOD_AND_DRINK\", \"marker\": {\"color\": \"#00cc96\"}, \"name\": \"Category=FOOD_AND_DRINK\", \"offsetgroup\": \"Category=FOOD_AND_DRINK\", \"orientation\": \"v\", \"showlegend\": true, \"textposition\": \"auto\", \"type\": \"bar\", \"x\": [\"April\", \"August\", \"February\", \"January\", \"July\", \"June\", \"March\", \"May\"], \"xaxis\": \"x\", \"y\": [8, 23, 2, 5, 46, 16, 4, 7], \"yaxis\": \"y\"}, {\"alignmentgroup\": \"True\", \"hoverlabel\": {\"namelength\": 0}, \"hovertemplate\": \"Category=GAME<br>Month=%{x}<br>NumberOfApps=%{y}\", \"legendgroup\": \"Category=GAME\", \"marker\": {\"color\": \"#ab63fa\"}, \"name\": \"Category=GAME\", \"offsetgroup\": \"Category=GAME\", \"orientation\": \"v\", \"showlegend\": true, \"textposition\": \"auto\", \"type\": \"bar\", \"x\": [\"April\", \"August\", \"February\", \"January\", \"July\", \"June\", \"March\", \"May\"], \"xaxis\": \"x\", \"y\": [33, 110, 23, 29, 327, 100, 31, 92], \"yaxis\": \"y\"}, {\"alignmentgroup\": \"True\", \"hoverlabel\": {\"namelength\": 0}, \"hovertemplate\": \"Category=HEALTH_AND_FITNESS<br>Month=%{x}<br>NumberOfApps=%{y}\", \"legendgroup\": \"Category=HEALTH_AND_FITNESS\", \"marker\": {\"color\": \"#FFA15A\"}, \"name\": \"Category=HEALTH_AND_FITNESS\", \"offsetgroup\": \"Category=HEALTH_AND_FITNESS\", \"orientation\": \"v\", \"showlegend\": true, \"textposition\": \"auto\", \"type\": \"bar\", \"x\": [\"April\", \"August\", \"February\", \"January\", \"July\", \"June\", \"March\", \"May\"], \"xaxis\": \"x\", \"y\": [9, 34, 9, 7, 125, 34, 10, 17], \"yaxis\": \"y\"}, {\"alignmentgroup\": \"True\", \"hoverlabel\": {\"namelength\": 0}, \"hovertemplate\": \"Category=HOUSE_AND_HOME<br>Month=%{x}<br>NumberOfApps=%{y}\", \"legendgroup\": \"Category=HOUSE_AND_HOME\", \"marker\": {\"color\": \"#19d3f3\"}, \"name\": \"Category=HOUSE_AND_HOME\", \"offsetgroup\": \"Category=HOUSE_AND_HOME\", \"orientation\": \"v\", \"showlegend\": true, \"textposition\": \"auto\", \"type\": \"bar\", \"x\": [\"April\", \"August\", \"February\", \"July\", \"June\", \"May\"], \"xaxis\": \"x\", \"y\": [2, 16, 3, 31, 7, 2], \"yaxis\": \"y\"}, {\"alignmentgroup\": \"True\", \"hoverlabel\": {\"namelength\": 0}, \"hovertemplate\": \"Category=LIBRARIES_AND_DEMO<br>Month=%{x}<br>NumberOfApps=%{y}\", \"legendgroup\": \"Category=LIBRARIES_AND_DEMO\", \"marker\": {\"color\": \"#FF6692\"}, \"name\": \"Category=LIBRARIES_AND_DEMO\", \"offsetgroup\": \"Category=LIBRARIES_AND_DEMO\", \"orientation\": \"v\", \"showlegend\": true, \"textposition\": \"auto\", \"type\": \"bar\", \"x\": [\"April\", \"August\", \"February\", \"January\", \"July\", \"June\", \"March\", \"May\"], \"xaxis\": \"x\", \"y\": [3, 3, 4, 3, 10, 6, 4, 3], \"yaxis\": \"y\"}, {\"alignmentgroup\": \"True\", \"hoverlabel\": {\"namelength\": 0}, \"hovertemplate\": \"Category=LIFESTYLE<br>Month=%{x}<br>NumberOfApps=%{y}\", \"legendgroup\": \"Category=LIFESTYLE\", \"marker\": {\"color\": \"#B6E880\"}, \"name\": \"Category=LIFESTYLE\", \"offsetgroup\": \"Category=LIFESTYLE\", \"orientation\": \"v\", \"showlegend\": true, \"textposition\": \"auto\", \"type\": \"bar\", \"x\": [\"April\", \"August\", \"February\", \"January\", \"July\", \"June\", \"March\", \"May\"], \"xaxis\": \"x\", \"y\": [11, 22, 11, 10, 78, 49, 18, 22], \"yaxis\": \"y\"}, {\"alignmentgroup\": \"True\", \"hoverlabel\": {\"namelength\": 0}, \"hovertemplate\": \"Category=MAPS_AND_NAVIGATION<br>Month=%{x}<br>NumberOfApps=%{y}\", \"legendgroup\": \"Category=MAPS_AND_NAVIGATION\", \"marker\": {\"color\": \"#FF97FF\"}, \"name\": \"Category=MAPS_AND_NAVIGATION\", \"offsetgroup\": \"Category=MAPS_AND_NAVIGATION\", \"orientation\": \"v\", \"showlegend\": true, \"textposition\": \"auto\", \"type\": \"bar\", \"x\": [\"April\", \"August\", \"February\", \"January\", \"July\", \"June\", \"March\", \"May\"], \"xaxis\": \"x\", \"y\": [4, 28, 2, 5, 38, 9, 5, 13], \"yaxis\": \"y\"}, {\"alignmentgroup\": \"True\", \"hoverlabel\": {\"namelength\": 0}, \"hovertemplate\": \"Category=MEDICAL<br>Month=%{x}<br>NumberOfApps=%{y}\", \"legendgroup\": \"Category=MEDICAL\", \"marker\": {\"color\": \"#FECB52\"}, \"name\": \"Category=MEDICAL\", \"offsetgroup\": \"Category=MEDICAL\", \"orientation\": \"v\", \"showlegend\": true, \"textposition\": \"auto\", \"type\": \"bar\", \"x\": [\"April\", \"August\", \"February\", \"January\", \"July\", \"June\", \"March\", \"May\"], \"xaxis\": \"x\", \"y\": [21, 32, 7, 18, 126, 24, 19, 26], \"yaxis\": \"y\"}, {\"alignmentgroup\": \"True\", \"hoverlabel\": {\"namelength\": 0}, \"hovertemplate\": \"Category=NEWS_AND_MAGAZINES<br>Month=%{x}<br>NumberOfApps=%{y}\", \"legendgroup\": \"Category=NEWS_AND_MAGAZINES\", \"marker\": {\"color\": \"#636efa\"}, \"name\": \"Category=NEWS_AND_MAGAZINES\", \"offsetgroup\": \"Category=NEWS_AND_MAGAZINES\", \"orientation\": \"v\", \"showlegend\": true, \"textposition\": \"auto\", \"type\": \"bar\", \"x\": [\"April\", \"August\", \"February\", \"January\", \"July\", \"June\", \"March\", \"May\"], \"xaxis\": \"x\", \"y\": [12, 46, 8, 3, 76, 33, 8, 18], \"yaxis\": \"y\"}, {\"alignmentgroup\": \"True\", \"hoverlabel\": {\"namelength\": 0}, \"hovertemplate\": \"Category=PARENTING<br>Month=%{x}<br>NumberOfApps=%{y}\", \"legendgroup\": \"Category=PARENTING\", \"marker\": {\"color\": \"#EF553B\"}, \"name\": \"Category=PARENTING\", \"offsetgroup\": \"Category=PARENTING\", \"orientation\": \"v\", \"showlegend\": true, \"textposition\": \"auto\", \"type\": \"bar\", \"x\": [\"April\", \"August\", \"January\", \"July\", \"June\", \"March\", \"May\"], \"xaxis\": \"x\", \"y\": [3, 8, 1, 15, 9, 5, 10], \"yaxis\": \"y\"}, {\"alignmentgroup\": \"True\", \"hoverlabel\": {\"namelength\": 0}, \"hovertemplate\": \"Category=PERSONALIZATION<br>Month=%{x}<br>NumberOfApps=%{y}\", \"legendgroup\": \"Category=PERSONALIZATION\", \"marker\": {\"color\": \"#00cc96\"}, \"name\": \"Category=PERSONALIZATION\", \"offsetgroup\": \"Category=PERSONALIZATION\", \"orientation\": \"v\", \"showlegend\": true, \"textposition\": \"auto\", \"type\": \"bar\", \"x\": [\"April\", \"August\", \"February\", \"January\", \"July\", \"June\", \"March\", \"May\"], \"xaxis\": \"x\", \"y\": [25, 25, 9, 8, 62, 31, 15, 39], \"yaxis\": \"y\"}, {\"alignmentgroup\": \"True\", \"hoverlabel\": {\"namelength\": 0}, \"hovertemplate\": \"Category=PHOTOGRAPHY<br>Month=%{x}<br>NumberOfApps=%{y}\", \"legendgroup\": \"Category=PHOTOGRAPHY\", \"marker\": {\"color\": \"#ab63fa\"}, \"name\": \"Category=PHOTOGRAPHY\", \"offsetgroup\": \"Category=PHOTOGRAPHY\", \"orientation\": \"v\", \"showlegend\": true, \"textposition\": \"auto\", \"type\": \"bar\", \"x\": [\"April\", \"August\", \"February\", \"January\", \"July\", \"June\", \"March\", \"May\"], \"xaxis\": \"x\", \"y\": [11, 43, 15, 9, 77, 26, 11, 18], \"yaxis\": \"y\"}, {\"alignmentgroup\": \"True\", \"hoverlabel\": {\"namelength\": 0}, \"hovertemplate\": \"Category=PRODUCTIVITY<br>Month=%{x}<br>NumberOfApps=%{y}\", \"legendgroup\": \"Category=PRODUCTIVITY\", \"marker\": {\"color\": \"#FFA15A\"}, \"name\": \"Category=PRODUCTIVITY\", \"offsetgroup\": \"Category=PRODUCTIVITY\", \"orientation\": \"v\", \"showlegend\": true, \"textposition\": \"auto\", \"type\": \"bar\", \"x\": [\"April\", \"August\", \"February\", \"January\", \"July\", \"June\", \"March\", \"May\"], \"xaxis\": \"x\", \"y\": [14, 54, 8, 12, 102, 36, 20, 21], \"yaxis\": \"y\"}, {\"alignmentgroup\": \"True\", \"hoverlabel\": {\"namelength\": 0}, \"hovertemplate\": \"Category=SHOPPING<br>Month=%{x}<br>NumberOfApps=%{y}\", \"legendgroup\": \"Category=SHOPPING\", \"marker\": {\"color\": \"#19d3f3\"}, \"name\": \"Category=SHOPPING\", \"offsetgroup\": \"Category=SHOPPING\", \"orientation\": \"v\", \"showlegend\": true, \"textposition\": \"auto\", \"type\": \"bar\", \"x\": [\"April\", \"August\", \"February\", \"January\", \"July\", \"June\", \"March\", \"May\"], \"xaxis\": \"x\", \"y\": [5, 67, 7, 3, 78, 17, 7, 9], \"yaxis\": \"y\"}, {\"alignmentgroup\": \"True\", \"hoverlabel\": {\"namelength\": 0}, \"hovertemplate\": \"Category=SOCIAL<br>Month=%{x}<br>NumberOfApps=%{y}\", \"legendgroup\": \"Category=SOCIAL\", \"marker\": {\"color\": \"#FF6692\"}, \"name\": \"Category=SOCIAL\", \"offsetgroup\": \"Category=SOCIAL\", \"orientation\": \"v\", \"showlegend\": true, \"textposition\": \"auto\", \"type\": \"bar\", \"x\": [\"April\", \"August\", \"February\", \"January\", \"July\", \"June\", \"March\", \"May\"], \"xaxis\": \"x\", \"y\": [5, 58, 5, 7, 81, 24, 11, 20], \"yaxis\": \"y\"}, {\"alignmentgroup\": \"True\", \"hoverlabel\": {\"namelength\": 0}, \"hovertemplate\": \"Category=SPORTS<br>Month=%{x}<br>NumberOfApps=%{y}\", \"legendgroup\": \"Category=SPORTS\", \"marker\": {\"color\": \"#B6E880\"}, \"name\": \"Category=SPORTS\", \"offsetgroup\": \"Category=SPORTS\", \"orientation\": \"v\", \"showlegend\": true, \"textposition\": \"auto\", \"type\": \"bar\", \"x\": [\"April\", \"August\", \"February\", \"January\", \"July\", \"June\", \"March\", \"May\"], \"xaxis\": \"x\", \"y\": [12, 52, 27, 9, 89, 35, 13, 25], \"yaxis\": \"y\"}, {\"alignmentgroup\": \"True\", \"hoverlabel\": {\"namelength\": 0}, \"hovertemplate\": \"Category=TOOLS<br>Month=%{x}<br>NumberOfApps=%{y}\", \"legendgroup\": \"Category=TOOLS\", \"marker\": {\"color\": \"#FF97FF\"}, \"name\": \"Category=TOOLS\", \"offsetgroup\": \"Category=TOOLS\", \"orientation\": \"v\", \"showlegend\": true, \"textposition\": \"auto\", \"type\": \"bar\", \"x\": [\"April\", \"August\", \"February\", \"January\", \"July\", \"June\", \"March\", \"May\"], \"xaxis\": \"x\", \"y\": [37, 71, 32, 26, 159, 64, 36, 69], \"yaxis\": \"y\"}, {\"alignmentgroup\": \"True\", \"hoverlabel\": {\"namelength\": 0}, \"hovertemplate\": \"Category=TRAVEL_AND_LOCAL<br>Month=%{x}<br>NumberOfApps=%{y}\", \"legendgroup\": \"Category=TRAVEL_AND_LOCAL\", \"marker\": {\"color\": \"#FECB52\"}, \"name\": \"Category=TRAVEL_AND_LOCAL\", \"offsetgroup\": \"Category=TRAVEL_AND_LOCAL\", \"orientation\": \"v\", \"showlegend\": true, \"textposition\": \"auto\", \"type\": \"bar\", \"x\": [\"April\", \"August\", \"February\", \"January\", \"July\", \"June\", \"March\", \"May\"], \"xaxis\": \"x\", \"y\": [12, 43, 1, 8, 68, 23, 9, 15], \"yaxis\": \"y\"}, {\"alignmentgroup\": \"True\", \"hoverlabel\": {\"namelength\": 0}, \"hovertemplate\": \"Category=VIDEO_PLAYERS<br>Month=%{x}<br>NumberOfApps=%{y}\", \"legendgroup\": \"Category=VIDEO_PLAYERS\", \"marker\": {\"color\": \"#636efa\"}, \"name\": \"Category=VIDEO_PLAYERS\", \"offsetgroup\": \"Category=VIDEO_PLAYERS\", \"orientation\": \"v\", \"showlegend\": true, \"textposition\": \"auto\", \"type\": \"bar\", \"x\": [\"April\", \"August\", \"July\", \"June\", \"March\", \"May\"], \"xaxis\": \"x\", \"y\": [10, 31, 37, 15, 7, 13], \"yaxis\": \"y\"}, {\"alignmentgroup\": \"True\", \"hoverlabel\": {\"namelength\": 0}, \"hovertemplate\": \"Category=WEATHER<br>Month=%{x}<br>NumberOfApps=%{y}\", \"legendgroup\": \"Category=WEATHER\", \"marker\": {\"color\": \"#EF553B\"}, \"name\": \"Category=WEATHER\", \"offsetgroup\": \"Category=WEATHER\", \"orientation\": \"v\", \"showlegend\": true, \"textposition\": \"auto\", \"type\": \"bar\", \"x\": [\"April\", \"August\", \"February\", \"January\", \"July\", \"June\", \"March\", \"May\"], \"xaxis\": \"x\", \"y\": [7, 20, 1, 2, 18, 9, 1, 3], \"yaxis\": \"y\"}, {\"alignmentgroup\": \"True\", \"hoverlabel\": {\"namelength\": 0}, \"hovertemplate\": \"Category=COMICS<br>Month=%{x}<br>NumberOfApps=%{y}\", \"legendgroup\": \"Category=COMICS\", \"marker\": {\"color\": \"#00cc96\"}, \"name\": \"Category=COMICS\", \"offsetgroup\": \"Category=COMICS\", \"orientation\": \"v\", \"showlegend\": true, \"textposition\": \"auto\", \"type\": \"bar\", \"x\": [\"August\", \"January\", \"July\", \"June\", \"March\", \"May\"], \"xaxis\": \"x\", \"y\": [6, 1, 27, 7, 2, 7], \"yaxis\": \"y\"}],\n",
              "                        {\"barmode\": \"relative\", \"legend\": {\"tracegroupgap\": 0}, \"template\": {\"data\": {\"bar\": [{\"error_x\": {\"color\": \"#2a3f5f\"}, \"error_y\": {\"color\": \"#2a3f5f\"}, \"marker\": {\"line\": {\"color\": \"#E5ECF6\", \"width\": 0.5}}, \"type\": \"bar\"}], \"barpolar\": [{\"marker\": {\"line\": {\"color\": \"#E5ECF6\", \"width\": 0.5}}, \"type\": \"barpolar\"}], \"carpet\": [{\"aaxis\": {\"endlinecolor\": \"#2a3f5f\", \"gridcolor\": \"white\", \"linecolor\": \"white\", \"minorgridcolor\": \"white\", \"startlinecolor\": \"#2a3f5f\"}, \"baxis\": {\"endlinecolor\": \"#2a3f5f\", \"gridcolor\": \"white\", \"linecolor\": \"white\", \"minorgridcolor\": \"white\", \"startlinecolor\": \"#2a3f5f\"}, \"type\": \"carpet\"}], \"choropleth\": [{\"colorbar\": {\"outlinewidth\": 0, \"ticks\": \"\"}, \"type\": \"choropleth\"}], \"contour\": [{\"colorbar\": {\"outlinewidth\": 0, \"ticks\": \"\"}, \"colorscale\": [[0.0, \"#0d0887\"], [0.1111111111111111, \"#46039f\"], [0.2222222222222222, \"#7201a8\"], [0.3333333333333333, \"#9c179e\"], [0.4444444444444444, \"#bd3786\"], [0.5555555555555556, \"#d8576b\"], [0.6666666666666666, \"#ed7953\"], [0.7777777777777778, \"#fb9f3a\"], [0.8888888888888888, \"#fdca26\"], [1.0, \"#f0f921\"]], \"type\": \"contour\"}], \"contourcarpet\": [{\"colorbar\": {\"outlinewidth\": 0, \"ticks\": \"\"}, \"type\": \"contourcarpet\"}], \"heatmap\": [{\"colorbar\": {\"outlinewidth\": 0, \"ticks\": \"\"}, \"colorscale\": [[0.0, \"#0d0887\"], [0.1111111111111111, \"#46039f\"], [0.2222222222222222, \"#7201a8\"], [0.3333333333333333, \"#9c179e\"], [0.4444444444444444, \"#bd3786\"], [0.5555555555555556, \"#d8576b\"], [0.6666666666666666, \"#ed7953\"], [0.7777777777777778, \"#fb9f3a\"], [0.8888888888888888, \"#fdca26\"], [1.0, \"#f0f921\"]], \"type\": \"heatmap\"}], \"heatmapgl\": [{\"colorbar\": {\"outlinewidth\": 0, \"ticks\": \"\"}, \"colorscale\": [[0.0, \"#0d0887\"], [0.1111111111111111, \"#46039f\"], [0.2222222222222222, \"#7201a8\"], [0.3333333333333333, \"#9c179e\"], [0.4444444444444444, \"#bd3786\"], [0.5555555555555556, \"#d8576b\"], [0.6666666666666666, \"#ed7953\"], [0.7777777777777778, \"#fb9f3a\"], [0.8888888888888888, \"#fdca26\"], [1.0, \"#f0f921\"]], \"type\": \"heatmapgl\"}], \"histogram\": [{\"marker\": {\"colorbar\": {\"outlinewidth\": 0, \"ticks\": \"\"}}, \"type\": \"histogram\"}], \"histogram2d\": [{\"colorbar\": {\"outlinewidth\": 0, \"ticks\": \"\"}, \"colorscale\": [[0.0, \"#0d0887\"], [0.1111111111111111, \"#46039f\"], [0.2222222222222222, \"#7201a8\"], [0.3333333333333333, \"#9c179e\"], [0.4444444444444444, \"#bd3786\"], [0.5555555555555556, \"#d8576b\"], [0.6666666666666666, \"#ed7953\"], [0.7777777777777778, \"#fb9f3a\"], [0.8888888888888888, \"#fdca26\"], [1.0, \"#f0f921\"]], \"type\": \"histogram2d\"}], \"histogram2dcontour\": [{\"colorbar\": {\"outlinewidth\": 0, \"ticks\": \"\"}, \"colorscale\": [[0.0, \"#0d0887\"], [0.1111111111111111, \"#46039f\"], [0.2222222222222222, \"#7201a8\"], [0.3333333333333333, \"#9c179e\"], [0.4444444444444444, \"#bd3786\"], [0.5555555555555556, \"#d8576b\"], [0.6666666666666666, \"#ed7953\"], [0.7777777777777778, \"#fb9f3a\"], [0.8888888888888888, \"#fdca26\"], [1.0, \"#f0f921\"]], \"type\": \"histogram2dcontour\"}], \"mesh3d\": [{\"colorbar\": {\"outlinewidth\": 0, \"ticks\": \"\"}, \"type\": \"mesh3d\"}], \"parcoords\": [{\"line\": {\"colorbar\": {\"outlinewidth\": 0, \"ticks\": \"\"}}, \"type\": \"parcoords\"}], \"pie\": [{\"automargin\": true, \"type\": \"pie\"}], \"scatter\": [{\"marker\": {\"colorbar\": {\"outlinewidth\": 0, \"ticks\": \"\"}}, \"type\": \"scatter\"}], \"scatter3d\": [{\"line\": {\"colorbar\": {\"outlinewidth\": 0, \"ticks\": \"\"}}, \"marker\": {\"colorbar\": {\"outlinewidth\": 0, \"ticks\": \"\"}}, \"type\": \"scatter3d\"}], \"scattercarpet\": [{\"marker\": {\"colorbar\": {\"outlinewidth\": 0, \"ticks\": \"\"}}, \"type\": \"scattercarpet\"}], \"scattergeo\": [{\"marker\": {\"colorbar\": {\"outlinewidth\": 0, \"ticks\": \"\"}}, \"type\": \"scattergeo\"}], \"scattergl\": [{\"marker\": {\"colorbar\": {\"outlinewidth\": 0, \"ticks\": \"\"}}, \"type\": \"scattergl\"}], \"scattermapbox\": [{\"marker\": {\"colorbar\": {\"outlinewidth\": 0, \"ticks\": \"\"}}, \"type\": \"scattermapbox\"}], \"scatterpolar\": [{\"marker\": {\"colorbar\": {\"outlinewidth\": 0, \"ticks\": \"\"}}, \"type\": \"scatterpolar\"}], \"scatterpolargl\": [{\"marker\": {\"colorbar\": {\"outlinewidth\": 0, \"ticks\": \"\"}}, \"type\": \"scatterpolargl\"}], \"scatterternary\": [{\"marker\": {\"colorbar\": {\"outlinewidth\": 0, \"ticks\": \"\"}}, \"type\": \"scatterternary\"}], \"surface\": [{\"colorbar\": {\"outlinewidth\": 0, \"ticks\": \"\"}, \"colorscale\": [[0.0, \"#0d0887\"], [0.1111111111111111, \"#46039f\"], [0.2222222222222222, \"#7201a8\"], [0.3333333333333333, \"#9c179e\"], [0.4444444444444444, \"#bd3786\"], [0.5555555555555556, \"#d8576b\"], [0.6666666666666666, \"#ed7953\"], [0.7777777777777778, \"#fb9f3a\"], [0.8888888888888888, \"#fdca26\"], [1.0, \"#f0f921\"]], \"type\": \"surface\"}], \"table\": [{\"cells\": {\"fill\": {\"color\": \"#EBF0F8\"}, \"line\": {\"color\": \"white\"}}, \"header\": {\"fill\": {\"color\": \"#C8D4E3\"}, \"line\": {\"color\": \"white\"}}, \"type\": \"table\"}]}, \"layout\": {\"annotationdefaults\": {\"arrowcolor\": \"#2a3f5f\", \"arrowhead\": 0, \"arrowwidth\": 1}, \"coloraxis\": {\"colorbar\": {\"outlinewidth\": 0, \"ticks\": \"\"}}, \"colorscale\": {\"diverging\": [[0, \"#8e0152\"], [0.1, \"#c51b7d\"], [0.2, \"#de77ae\"], [0.3, \"#f1b6da\"], [0.4, \"#fde0ef\"], [0.5, \"#f7f7f7\"], [0.6, \"#e6f5d0\"], [0.7, \"#b8e186\"], [0.8, \"#7fbc41\"], [0.9, \"#4d9221\"], [1, \"#276419\"]], \"sequential\": [[0.0, \"#0d0887\"], [0.1111111111111111, \"#46039f\"], [0.2222222222222222, \"#7201a8\"], [0.3333333333333333, \"#9c179e\"], [0.4444444444444444, \"#bd3786\"], [0.5555555555555556, \"#d8576b\"], [0.6666666666666666, \"#ed7953\"], [0.7777777777777778, \"#fb9f3a\"], [0.8888888888888888, \"#fdca26\"], [1.0, \"#f0f921\"]], \"sequentialminus\": [[0.0, \"#0d0887\"], [0.1111111111111111, \"#46039f\"], [0.2222222222222222, \"#7201a8\"], [0.3333333333333333, \"#9c179e\"], [0.4444444444444444, \"#bd3786\"], [0.5555555555555556, \"#d8576b\"], [0.6666666666666666, \"#ed7953\"], [0.7777777777777778, \"#fb9f3a\"], [0.8888888888888888, \"#fdca26\"], [1.0, \"#f0f921\"]]}, \"colorway\": [\"#636efa\", \"#EF553B\", \"#00cc96\", \"#ab63fa\", \"#FFA15A\", \"#19d3f3\", \"#FF6692\", \"#B6E880\", \"#FF97FF\", \"#FECB52\"], \"font\": {\"color\": \"#2a3f5f\"}, \"geo\": {\"bgcolor\": \"white\", \"lakecolor\": \"white\", \"landcolor\": \"#E5ECF6\", \"showlakes\": true, \"showland\": true, \"subunitcolor\": \"white\"}, \"hoverlabel\": {\"align\": \"left\"}, \"hovermode\": \"closest\", \"mapbox\": {\"style\": \"light\"}, \"paper_bgcolor\": \"white\", \"plot_bgcolor\": \"#E5ECF6\", \"polar\": {\"angularaxis\": {\"gridcolor\": \"white\", \"linecolor\": \"white\", \"ticks\": \"\"}, \"bgcolor\": \"#E5ECF6\", \"radialaxis\": {\"gridcolor\": \"white\", \"linecolor\": \"white\", \"ticks\": \"\"}}, \"scene\": {\"xaxis\": {\"backgroundcolor\": \"#E5ECF6\", \"gridcolor\": \"white\", \"gridwidth\": 2, \"linecolor\": \"white\", \"showbackground\": true, \"ticks\": \"\", \"zerolinecolor\": \"white\"}, \"yaxis\": {\"backgroundcolor\": \"#E5ECF6\", \"gridcolor\": \"white\", \"gridwidth\": 2, \"linecolor\": \"white\", \"showbackground\": true, \"ticks\": \"\", \"zerolinecolor\": \"white\"}, \"zaxis\": {\"backgroundcolor\": \"#E5ECF6\", \"gridcolor\": \"white\", \"gridwidth\": 2, \"linecolor\": \"white\", \"showbackground\": true, \"ticks\": \"\", \"zerolinecolor\": \"white\"}}, \"shapedefaults\": {\"line\": {\"color\": \"#2a3f5f\"}}, \"ternary\": {\"aaxis\": {\"gridcolor\": \"white\", \"linecolor\": \"white\", \"ticks\": \"\"}, \"baxis\": {\"gridcolor\": \"white\", \"linecolor\": \"white\", \"ticks\": \"\"}, \"bgcolor\": \"#E5ECF6\", \"caxis\": {\"gridcolor\": \"white\", \"linecolor\": \"white\", \"ticks\": \"\"}}, \"title\": {\"x\": 0.05}, \"xaxis\": {\"automargin\": true, \"gridcolor\": \"white\", \"linecolor\": \"white\", \"ticks\": \"\", \"title\": {\"standoff\": 15}, \"zerolinecolor\": \"white\", \"zerolinewidth\": 2}, \"yaxis\": {\"automargin\": true, \"gridcolor\": \"white\", \"linecolor\": \"white\", \"ticks\": \"\", \"title\": {\"standoff\": 15}, \"zerolinecolor\": \"white\", \"zerolinewidth\": 2}}}, \"title\": {\"text\": \"2018 Monthly Category Trend\"}, \"xaxis\": {\"anchor\": \"y\", \"categoryarray\": [\"January\", \"February\", \"March\", \"April\", \"May\", \"June\", \"July\", \"August\", \"September\", \"October\", \"November\", \"December\"], \"categoryorder\": \"array\", \"domain\": [0.0, 1.0], \"title\": {\"text\": \"Month\"}}, \"yaxis\": {\"anchor\": \"x\", \"domain\": [0.0, 1.0], \"title\": {\"text\": \"NumberOfApps\"}}},\n",
              "                        {\"responsive\": true}\n",
              "                    ).then(function(){\n",
              "                            \n",
              "var gd = document.getElementById('04682738-9dcb-41d2-94d6-e56c25fdf3bb');\n",
              "var x = new MutationObserver(function (mutations, observer) {{\n",
              "        var display = window.getComputedStyle(gd).display;\n",
              "        if (!display || display === 'none') {{\n",
              "            console.log([gd, 'removed!']);\n",
              "            Plotly.purge(gd);\n",
              "            observer.disconnect();\n",
              "        }}\n",
              "}});\n",
              "\n",
              "// Listen for the removal of the full notebook cells\n",
              "var notebookContainer = gd.closest('#notebook-container');\n",
              "if (notebookContainer) {{\n",
              "    x.observe(notebookContainer, {childList: true});\n",
              "}}\n",
              "\n",
              "// Listen for the clearing of the current output cell\n",
              "var outputEl = gd.closest('.output');\n",
              "if (outputEl) {{\n",
              "    x.observe(outputEl, {childList: true});\n",
              "}}\n",
              "\n",
              "                        })\n",
              "                };\n",
              "                \n",
              "            </script>\n",
              "        </div>\n",
              "</body>\n",
              "</html>"
            ]
          },
          "metadata": {}
        },
        {
          "output_type": "display_data",
          "data": {
            "text/html": [
              "<html>\n",
              "<head><meta charset=\"utf-8\" /></head>\n",
              "<body>\n",
              "    <div>\n",
              "            <script src=\"https://cdnjs.cloudflare.com/ajax/libs/mathjax/2.7.5/MathJax.js?config=TeX-AMS-MML_SVG\"></script><script type=\"text/javascript\">if (window.MathJax) {MathJax.Hub.Config({SVG: {font: \"STIX-Web\"}});}</script>\n",
              "                <script type=\"text/javascript\">window.PlotlyConfig = {MathJaxConfig: 'local'};</script>\n",
              "        <script src=\"https://cdn.plot.ly/plotly-latest.min.js\"></script>    \n",
              "            <div id=\"1e0aab60-d0aa-433d-835b-15ec4bafcabc\" class=\"plotly-graph-div\" style=\"height:525px; width:100%;\"></div>\n",
              "            <script type=\"text/javascript\">\n",
              "                \n",
              "                    window.PLOTLYENV=window.PLOTLYENV || {};\n",
              "                    \n",
              "                if (document.getElementById(\"1e0aab60-d0aa-433d-835b-15ec4bafcabc\")) {\n",
              "                    Plotly.newPlot(\n",
              "                        '1e0aab60-d0aa-433d-835b-15ec4bafcabc',\n",
              "                        [{\"alignmentgroup\": \"True\", \"hoverlabel\": {\"namelength\": 0}, \"hovertemplate\": \"Category=BOOKS_AND_REFERENCE<br>Month=%{x}<br>NumberOfApps=%{y}\", \"legendgroup\": \"Category=BOOKS_AND_REFERENCE\", \"marker\": {\"color\": \"#636efa\"}, \"name\": \"Category=BOOKS_AND_REFERENCE\", \"offsetgroup\": \"Category=BOOKS_AND_REFERENCE\", \"orientation\": \"v\", \"showlegend\": true, \"textposition\": \"auto\", \"type\": \"bar\", \"x\": [\"April\", \"August\", \"December\", \"February\", \"January\", \"July\", \"June\", \"March\", \"May\", \"November\", \"October\", \"September\"], \"xaxis\": \"x\", \"y\": [1, 7, 5, 4, 4, 5, 3, 3, 3, 8, 5, 2], \"yaxis\": \"y\"}, {\"alignmentgroup\": \"True\", \"hoverlabel\": {\"namelength\": 0}, \"hovertemplate\": \"Category=BUSINESS<br>Month=%{x}<br>NumberOfApps=%{y}\", \"legendgroup\": \"Category=BUSINESS\", \"marker\": {\"color\": \"#EF553B\"}, \"name\": \"Category=BUSINESS\", \"offsetgroup\": \"Category=BUSINESS\", \"orientation\": \"v\", \"showlegend\": true, \"textposition\": \"auto\", \"type\": \"bar\", \"x\": [\"April\", \"August\", \"December\", \"February\", \"January\", \"July\", \"June\", \"March\", \"May\", \"November\", \"October\", \"September\"], \"xaxis\": \"x\", \"y\": [4, 9, 10, 4, 5, 4, 6, 3, 7, 7, 11, 12], \"yaxis\": \"y\"}, {\"alignmentgroup\": \"True\", \"hoverlabel\": {\"namelength\": 0}, \"hovertemplate\": \"Category=COMMUNICATION<br>Month=%{x}<br>NumberOfApps=%{y}\", \"legendgroup\": \"Category=COMMUNICATION\", \"marker\": {\"color\": \"#00cc96\"}, \"name\": \"Category=COMMUNICATION\", \"offsetgroup\": \"Category=COMMUNICATION\", \"orientation\": \"v\", \"showlegend\": true, \"textposition\": \"auto\", \"type\": \"bar\", \"x\": [\"April\", \"August\", \"December\", \"February\", \"January\", \"July\", \"March\", \"May\", \"November\", \"October\", \"September\"], \"xaxis\": \"x\", \"y\": [5, 5, 9, 5, 2, 1, 6, 3, 9, 5, 6], \"yaxis\": \"y\"}, {\"alignmentgroup\": \"True\", \"hoverlabel\": {\"namelength\": 0}, \"hovertemplate\": \"Category=DATING<br>Month=%{x}<br>NumberOfApps=%{y}\", \"legendgroup\": \"Category=DATING\", \"marker\": {\"color\": \"#ab63fa\"}, \"name\": \"Category=DATING\", \"offsetgroup\": \"Category=DATING\", \"orientation\": \"v\", \"showlegend\": true, \"textposition\": \"auto\", \"type\": \"bar\", \"x\": [\"April\", \"December\", \"February\", \"January\", \"July\", \"June\", \"November\", \"October\", \"September\"], \"xaxis\": \"x\", \"y\": [1, 2, 2, 4, 2, 1, 1, 1, 1], \"yaxis\": \"y\"}, {\"alignmentgroup\": \"True\", \"hoverlabel\": {\"namelength\": 0}, \"hovertemplate\": \"Category=EVENTS<br>Month=%{x}<br>NumberOfApps=%{y}\", \"legendgroup\": \"Category=EVENTS\", \"marker\": {\"color\": \"#FFA15A\"}, \"name\": \"Category=EVENTS\", \"offsetgroup\": \"Category=EVENTS\", \"orientation\": \"v\", \"showlegend\": true, \"textposition\": \"auto\", \"type\": \"bar\", \"x\": [\"April\", \"August\", \"December\", \"July\", \"November\", \"October\", \"September\"], \"xaxis\": \"x\", \"y\": [1, 1, 6, 1, 2, 4, 1], \"yaxis\": \"y\"}, {\"alignmentgroup\": \"True\", \"hoverlabel\": {\"namelength\": 0}, \"hovertemplate\": \"Category=FAMILY<br>Month=%{x}<br>NumberOfApps=%{y}\", \"legendgroup\": \"Category=FAMILY\", \"marker\": {\"color\": \"#19d3f3\"}, \"name\": \"Category=FAMILY\", \"offsetgroup\": \"Category=FAMILY\", \"orientation\": \"v\", \"showlegend\": true, \"textposition\": \"auto\", \"type\": \"bar\", \"x\": [\"April\", \"August\", \"December\", \"February\", \"January\", \"July\", \"June\", \"March\", \"May\", \"November\", \"October\", \"September\"], \"xaxis\": \"x\", \"y\": [25, 38, 58, 19, 25, 44, 31, 34, 31, 53, 52, 37], \"yaxis\": \"y\"}, {\"alignmentgroup\": \"True\", \"hoverlabel\": {\"namelength\": 0}, \"hovertemplate\": \"Category=FINANCE<br>Month=%{x}<br>NumberOfApps=%{y}\", \"legendgroup\": \"Category=FINANCE\", \"marker\": {\"color\": \"#FF6692\"}, \"name\": \"Category=FINANCE\", \"offsetgroup\": \"Category=FINANCE\", \"orientation\": \"v\", \"showlegend\": true, \"textposition\": \"auto\", \"type\": \"bar\", \"x\": [\"April\", \"August\", \"December\", \"February\", \"January\", \"July\", \"June\", \"March\", \"May\", \"November\", \"October\", \"September\"], \"xaxis\": \"x\", \"y\": [3, 4, 3, 1, 2, 6, 8, 1, 4, 5, 7, 4], \"yaxis\": \"y\"}, {\"alignmentgroup\": \"True\", \"hoverlabel\": {\"namelength\": 0}, \"hovertemplate\": \"Category=GAME<br>Month=%{x}<br>NumberOfApps=%{y}\", \"legendgroup\": \"Category=GAME\", \"marker\": {\"color\": \"#B6E880\"}, \"name\": \"Category=GAME\", \"offsetgroup\": \"Category=GAME\", \"orientation\": \"v\", \"showlegend\": true, \"textposition\": \"auto\", \"type\": \"bar\", \"x\": [\"April\", \"August\", \"December\", \"February\", \"January\", \"July\", \"June\", \"March\", \"May\", \"November\", \"October\", \"September\"], \"xaxis\": \"x\", \"y\": [15, 10, 27, 13, 7, 14, 10, 17, 14, 20, 20, 17], \"yaxis\": \"y\"}, {\"alignmentgroup\": \"True\", \"hoverlabel\": {\"namelength\": 0}, \"hovertemplate\": \"Category=HEALTH_AND_FITNESS<br>Month=%{x}<br>NumberOfApps=%{y}\", \"legendgroup\": \"Category=HEALTH_AND_FITNESS\", \"marker\": {\"color\": \"#FF97FF\"}, \"name\": \"Category=HEALTH_AND_FITNESS\", \"offsetgroup\": \"Category=HEALTH_AND_FITNESS\", \"orientation\": \"v\", \"showlegend\": true, \"textposition\": \"auto\", \"type\": \"bar\", \"x\": [\"April\", \"August\", \"December\", \"February\", \"January\", \"July\", \"June\", \"March\", \"May\", \"November\", \"October\"], \"xaxis\": \"x\", \"y\": [2, 5, 5, 3, 1, 3, 1, 1, 1, 6, 4], \"yaxis\": \"y\"}, {\"alignmentgroup\": \"True\", \"hoverlabel\": {\"namelength\": 0}, \"hovertemplate\": \"Category=LIBRARIES_AND_DEMO<br>Month=%{x}<br>NumberOfApps=%{y}\", \"legendgroup\": \"Category=LIBRARIES_AND_DEMO\", \"marker\": {\"color\": \"#FECB52\"}, \"name\": \"Category=LIBRARIES_AND_DEMO\", \"offsetgroup\": \"Category=LIBRARIES_AND_DEMO\", \"orientation\": \"v\", \"showlegend\": true, \"textposition\": \"auto\", \"type\": \"bar\", \"x\": [\"April\", \"August\", \"December\", \"February\", \"January\", \"June\", \"March\", \"November\", \"September\"], \"xaxis\": \"x\", \"y\": [1, 1, 3, 22, 3, 1, 1, 2, 1], \"yaxis\": \"y\"}, {\"alignmentgroup\": \"True\", \"hoverlabel\": {\"namelength\": 0}, \"hovertemplate\": \"Category=LIFESTYLE<br>Month=%{x}<br>NumberOfApps=%{y}\", \"legendgroup\": \"Category=LIFESTYLE\", \"marker\": {\"color\": \"#636efa\"}, \"name\": \"Category=LIFESTYLE\", \"offsetgroup\": \"Category=LIFESTYLE\", \"orientation\": \"v\", \"showlegend\": true, \"textposition\": \"auto\", \"type\": \"bar\", \"x\": [\"April\", \"August\", \"December\", \"February\", \"January\", \"July\", \"June\", \"March\", \"May\", \"November\", \"October\", \"September\"], \"xaxis\": \"x\", \"y\": [1, 10, 13, 5, 9, 5, 7, 8, 6, 5, 7, 10], \"yaxis\": \"y\"}, {\"alignmentgroup\": \"True\", \"hoverlabel\": {\"namelength\": 0}, \"hovertemplate\": \"Category=MAPS_AND_NAVIGATION<br>Month=%{x}<br>NumberOfApps=%{y}\", \"legendgroup\": \"Category=MAPS_AND_NAVIGATION\", \"marker\": {\"color\": \"#EF553B\"}, \"name\": \"Category=MAPS_AND_NAVIGATION\", \"offsetgroup\": \"Category=MAPS_AND_NAVIGATION\", \"orientation\": \"v\", \"showlegend\": true, \"textposition\": \"auto\", \"type\": \"bar\", \"x\": [\"April\", \"August\", \"December\", \"July\", \"May\", \"November\", \"October\", \"September\"], \"xaxis\": \"x\", \"y\": [1, 2, 5, 1, 3, 3, 2, 4], \"yaxis\": \"y\"}, {\"alignmentgroup\": \"True\", \"hoverlabel\": {\"namelength\": 0}, \"hovertemplate\": \"Category=MEDICAL<br>Month=%{x}<br>NumberOfApps=%{y}\", \"legendgroup\": \"Category=MEDICAL\", \"marker\": {\"color\": \"#00cc96\"}, \"name\": \"Category=MEDICAL\", \"offsetgroup\": \"Category=MEDICAL\", \"orientation\": \"v\", \"showlegend\": true, \"textposition\": \"auto\", \"type\": \"bar\", \"x\": [\"April\", \"August\", \"December\", \"February\", \"January\", \"July\", \"June\", \"March\", \"May\", \"November\", \"October\", \"September\"], \"xaxis\": \"x\", \"y\": [11, 2, 7, 2, 4, 4, 7, 5, 9, 7, 11, 8], \"yaxis\": \"y\"}, {\"alignmentgroup\": \"True\", \"hoverlabel\": {\"namelength\": 0}, \"hovertemplate\": \"Category=NEWS_AND_MAGAZINES<br>Month=%{x}<br>NumberOfApps=%{y}\", \"legendgroup\": \"Category=NEWS_AND_MAGAZINES\", \"marker\": {\"color\": \"#ab63fa\"}, \"name\": \"Category=NEWS_AND_MAGAZINES\", \"offsetgroup\": \"Category=NEWS_AND_MAGAZINES\", \"orientation\": \"v\", \"showlegend\": true, \"textposition\": \"auto\", \"type\": \"bar\", \"x\": [\"April\", \"August\", \"December\", \"February\", \"January\", \"July\", \"June\", \"March\", \"May\", \"November\", \"October\", \"September\"], \"xaxis\": \"x\", \"y\": [1, 3, 2, 4, 2, 1, 3, 3, 7, 3, 4, 1], \"yaxis\": \"y\"}, {\"alignmentgroup\": \"True\", \"hoverlabel\": {\"namelength\": 0}, \"hovertemplate\": \"Category=PERSONALIZATION<br>Month=%{x}<br>NumberOfApps=%{y}\", \"legendgroup\": \"Category=PERSONALIZATION\", \"marker\": {\"color\": \"#FFA15A\"}, \"name\": \"Category=PERSONALIZATION\", \"offsetgroup\": \"Category=PERSONALIZATION\", \"orientation\": \"v\", \"showlegend\": true, \"textposition\": \"auto\", \"type\": \"bar\", \"x\": [\"April\", \"August\", \"December\", \"February\", \"January\", \"July\", \"June\", \"March\", \"May\", \"November\", \"October\", \"September\"], \"xaxis\": \"x\", \"y\": [4, 6, 12, 2, 3, 2, 2, 7, 2, 3, 8, 5], \"yaxis\": \"y\"}, {\"alignmentgroup\": \"True\", \"hoverlabel\": {\"namelength\": 0}, \"hovertemplate\": \"Category=PHOTOGRAPHY<br>Month=%{x}<br>NumberOfApps=%{y}\", \"legendgroup\": \"Category=PHOTOGRAPHY\", \"marker\": {\"color\": \"#19d3f3\"}, \"name\": \"Category=PHOTOGRAPHY\", \"offsetgroup\": \"Category=PHOTOGRAPHY\", \"orientation\": \"v\", \"showlegend\": true, \"textposition\": \"auto\", \"type\": \"bar\", \"x\": [\"April\", \"August\", \"December\", \"February\", \"January\", \"July\", \"June\", \"March\", \"May\", \"November\", \"October\", \"September\"], \"xaxis\": \"x\", \"y\": [2, 4, 5, 6, 4, 6, 5, 7, 2, 10, 8, 10], \"yaxis\": \"y\"}, {\"alignmentgroup\": \"True\", \"hoverlabel\": {\"namelength\": 0}, \"hovertemplate\": \"Category=PRODUCTIVITY<br>Month=%{x}<br>NumberOfApps=%{y}\", \"legendgroup\": \"Category=PRODUCTIVITY\", \"marker\": {\"color\": \"#FF6692\"}, \"name\": \"Category=PRODUCTIVITY\", \"offsetgroup\": \"Category=PRODUCTIVITY\", \"orientation\": \"v\", \"showlegend\": true, \"textposition\": \"auto\", \"type\": \"bar\", \"x\": [\"April\", \"August\", \"December\", \"February\", \"January\", \"July\", \"June\", \"March\", \"May\", \"November\", \"October\", \"September\"], \"xaxis\": \"x\", \"y\": [3, 7, 10, 4, 3, 3, 2, 4, 4, 12, 10, 3], \"yaxis\": \"y\"}, {\"alignmentgroup\": \"True\", \"hoverlabel\": {\"namelength\": 0}, \"hovertemplate\": \"Category=SOCIAL<br>Month=%{x}<br>NumberOfApps=%{y}\", \"legendgroup\": \"Category=SOCIAL\", \"marker\": {\"color\": \"#B6E880\"}, \"name\": \"Category=SOCIAL\", \"offsetgroup\": \"Category=SOCIAL\", \"orientation\": \"v\", \"showlegend\": true, \"textposition\": \"auto\", \"type\": \"bar\", \"x\": [\"April\", \"August\", \"December\", \"February\", \"January\", \"July\", \"June\", \"March\", \"May\", \"November\", \"October\", \"September\"], \"xaxis\": \"x\", \"y\": [1, 2, 4, 2, 1, 5, 2, 2, 5, 4, 6, 3], \"yaxis\": \"y\"}, {\"alignmentgroup\": \"True\", \"hoverlabel\": {\"namelength\": 0}, \"hovertemplate\": \"Category=TOOLS<br>Month=%{x}<br>NumberOfApps=%{y}\", \"legendgroup\": \"Category=TOOLS\", \"marker\": {\"color\": \"#FF97FF\"}, \"name\": \"Category=TOOLS\", \"offsetgroup\": \"Category=TOOLS\", \"orientation\": \"v\", \"showlegend\": true, \"textposition\": \"auto\", \"type\": \"bar\", \"x\": [\"April\", \"August\", \"December\", \"February\", \"January\", \"July\", \"June\", \"March\", \"May\", \"November\", \"October\", \"September\"], \"xaxis\": \"x\", \"y\": [7, 16, 24, 15, 4, 15, 15, 10, 11, 21, 25, 16], \"yaxis\": \"y\"}, {\"alignmentgroup\": \"True\", \"hoverlabel\": {\"namelength\": 0}, \"hovertemplate\": \"Category=TRAVEL_AND_LOCAL<br>Month=%{x}<br>NumberOfApps=%{y}\", \"legendgroup\": \"Category=TRAVEL_AND_LOCAL\", \"marker\": {\"color\": \"#FECB52\"}, \"name\": \"Category=TRAVEL_AND_LOCAL\", \"offsetgroup\": \"Category=TRAVEL_AND_LOCAL\", \"orientation\": \"v\", \"showlegend\": true, \"textposition\": \"auto\", \"type\": \"bar\", \"x\": [\"April\", \"August\", \"December\", \"February\", \"January\", \"June\", \"March\", \"May\", \"November\", \"October\", \"September\"], \"xaxis\": \"x\", \"y\": [3, 4, 1, 2, 3, 2, 2, 1, 6, 4, 2], \"yaxis\": \"y\"}, {\"alignmentgroup\": \"True\", \"hoverlabel\": {\"namelength\": 0}, \"hovertemplate\": \"Category=ART_AND_DESIGN<br>Month=%{x}<br>NumberOfApps=%{y}\", \"legendgroup\": \"Category=ART_AND_DESIGN\", \"marker\": {\"color\": \"#636efa\"}, \"name\": \"Category=ART_AND_DESIGN\", \"offsetgroup\": \"Category=ART_AND_DESIGN\", \"orientation\": \"v\", \"showlegend\": true, \"textposition\": \"auto\", \"type\": \"bar\", \"x\": [\"August\", \"December\", \"March\", \"May\", \"November\", \"October\", \"September\"], \"xaxis\": \"x\", \"y\": [1, 1, 2, 1, 4, 2, 1], \"yaxis\": \"y\"}, {\"alignmentgroup\": \"True\", \"hoverlabel\": {\"namelength\": 0}, \"hovertemplate\": \"Category=AUTO_AND_VEHICLES<br>Month=%{x}<br>NumberOfApps=%{y}\", \"legendgroup\": \"Category=AUTO_AND_VEHICLES\", \"marker\": {\"color\": \"#EF553B\"}, \"name\": \"Category=AUTO_AND_VEHICLES\", \"offsetgroup\": \"Category=AUTO_AND_VEHICLES\", \"orientation\": \"v\", \"showlegend\": true, \"textposition\": \"auto\", \"type\": \"bar\", \"x\": [\"August\", \"December\", \"February\", \"July\", \"June\", \"November\"], \"xaxis\": \"x\", \"y\": [1, 1, 1, 1, 1, 2], \"yaxis\": \"y\"}, {\"alignmentgroup\": \"True\", \"hoverlabel\": {\"namelength\": 0}, \"hovertemplate\": \"Category=BEAUTY<br>Month=%{x}<br>NumberOfApps=%{y}\", \"legendgroup\": \"Category=BEAUTY\", \"marker\": {\"color\": \"#00cc96\"}, \"name\": \"Category=BEAUTY\", \"offsetgroup\": \"Category=BEAUTY\", \"orientation\": \"v\", \"showlegend\": true, \"textposition\": \"auto\", \"type\": \"bar\", \"x\": [\"August\", \"December\", \"February\", \"March\", \"November\", \"October\", \"September\"], \"xaxis\": \"x\", \"y\": [4, 1, 1, 1, 2, 1, 2], \"yaxis\": \"y\"}, {\"alignmentgroup\": \"True\", \"hoverlabel\": {\"namelength\": 0}, \"hovertemplate\": \"Category=EDUCATION<br>Month=%{x}<br>NumberOfApps=%{y}\", \"legendgroup\": \"Category=EDUCATION\", \"marker\": {\"color\": \"#ab63fa\"}, \"name\": \"Category=EDUCATION\", \"offsetgroup\": \"Category=EDUCATION\", \"orientation\": \"v\", \"showlegend\": true, \"textposition\": \"auto\", \"type\": \"bar\", \"x\": [\"August\", \"December\", \"February\", \"January\", \"July\", \"June\", \"November\", \"October\", \"September\"], \"xaxis\": \"x\", \"y\": [1, 8, 1, 2, 2, 1, 3, 6, 2], \"yaxis\": \"y\"}, {\"alignmentgroup\": \"True\", \"hoverlabel\": {\"namelength\": 0}, \"hovertemplate\": \"Category=FOOD_AND_DRINK<br>Month=%{x}<br>NumberOfApps=%{y}\", \"legendgroup\": \"Category=FOOD_AND_DRINK\", \"marker\": {\"color\": \"#FFA15A\"}, \"name\": \"Category=FOOD_AND_DRINK\", \"offsetgroup\": \"Category=FOOD_AND_DRINK\", \"orientation\": \"v\", \"showlegend\": true, \"textposition\": \"auto\", \"type\": \"bar\", \"x\": [\"August\", \"February\", \"March\", \"November\", \"October\", \"September\"], \"xaxis\": \"x\", \"y\": [1, 1, 2, 1, 2, 1], \"yaxis\": \"y\"}, {\"alignmentgroup\": \"True\", \"hoverlabel\": {\"namelength\": 0}, \"hovertemplate\": \"Category=HOUSE_AND_HOME<br>Month=%{x}<br>NumberOfApps=%{y}\", \"legendgroup\": \"Category=HOUSE_AND_HOME\", \"marker\": {\"color\": \"#19d3f3\"}, \"name\": \"Category=HOUSE_AND_HOME\", \"offsetgroup\": \"Category=HOUSE_AND_HOME\", \"orientation\": \"v\", \"showlegend\": true, \"textposition\": \"auto\", \"type\": \"bar\", \"x\": [\"August\", \"December\", \"July\", \"March\", \"May\", \"November\", \"September\"], \"xaxis\": \"x\", \"y\": [3, 1, 1, 1, 1, 1, 2], \"yaxis\": \"y\"}, {\"alignmentgroup\": \"True\", \"hoverlabel\": {\"namelength\": 0}, \"hovertemplate\": \"Category=SHOPPING<br>Month=%{x}<br>NumberOfApps=%{y}\", \"legendgroup\": \"Category=SHOPPING\", \"marker\": {\"color\": \"#FF6692\"}, \"name\": \"Category=SHOPPING\", \"offsetgroup\": \"Category=SHOPPING\", \"orientation\": \"v\", \"showlegend\": true, \"textposition\": \"auto\", \"type\": \"bar\", \"x\": [\"August\", \"December\", \"February\", \"January\", \"July\", \"March\", \"May\", \"November\", \"October\"], \"xaxis\": \"x\", \"y\": [5, 3, 1, 2, 2, 1, 1, 2, 2], \"yaxis\": \"y\"}, {\"alignmentgroup\": \"True\", \"hoverlabel\": {\"namelength\": 0}, \"hovertemplate\": \"Category=SPORTS<br>Month=%{x}<br>NumberOfApps=%{y}\", \"legendgroup\": \"Category=SPORTS\", \"marker\": {\"color\": \"#B6E880\"}, \"name\": \"Category=SPORTS\", \"offsetgroup\": \"Category=SPORTS\", \"orientation\": \"v\", \"showlegend\": true, \"textposition\": \"auto\", \"type\": \"bar\", \"x\": [\"August\", \"December\", \"February\", \"January\", \"July\", \"June\", \"March\", \"May\", \"November\", \"October\", \"September\"], \"xaxis\": \"x\", \"y\": [7, 11, 4, 4, 3, 2, 4, 2, 7, 6, 5], \"yaxis\": \"y\"}, {\"alignmentgroup\": \"True\", \"hoverlabel\": {\"namelength\": 0}, \"hovertemplate\": \"Category=VIDEO_PLAYERS<br>Month=%{x}<br>NumberOfApps=%{y}\", \"legendgroup\": \"Category=VIDEO_PLAYERS\", \"marker\": {\"color\": \"#FF97FF\"}, \"name\": \"Category=VIDEO_PLAYERS\", \"offsetgroup\": \"Category=VIDEO_PLAYERS\", \"orientation\": \"v\", \"showlegend\": true, \"textposition\": \"auto\", \"type\": \"bar\", \"x\": [\"August\", \"December\", \"February\", \"January\", \"July\", \"March\", \"May\", \"November\", \"October\", \"September\"], \"xaxis\": \"x\", \"y\": [3, 7, 1, 2, 2, 4, 2, 2, 2, 3], \"yaxis\": \"y\"}, {\"alignmentgroup\": \"True\", \"hoverlabel\": {\"namelength\": 0}, \"hovertemplate\": \"Category=WEATHER<br>Month=%{x}<br>NumberOfApps=%{y}\", \"legendgroup\": \"Category=WEATHER\", \"marker\": {\"color\": \"#FECB52\"}, \"name\": \"Category=WEATHER\", \"offsetgroup\": \"Category=WEATHER\", \"orientation\": \"v\", \"showlegend\": true, \"textposition\": \"auto\", \"type\": \"bar\", \"x\": [\"August\", \"December\", \"February\", \"July\", \"June\", \"November\"], \"xaxis\": \"x\", \"y\": [1, 1, 2, 2, 3, 1], \"yaxis\": \"y\"}, {\"alignmentgroup\": \"True\", \"hoverlabel\": {\"namelength\": 0}, \"hovertemplate\": \"Category=COMICS<br>Month=%{x}<br>NumberOfApps=%{y}\", \"legendgroup\": \"Category=COMICS\", \"marker\": {\"color\": \"#636efa\"}, \"name\": \"Category=COMICS\", \"offsetgroup\": \"Category=COMICS\", \"orientation\": \"v\", \"showlegend\": true, \"textposition\": \"auto\", \"type\": \"bar\", \"x\": [\"December\", \"March\", \"May\", \"November\", \"October\"], \"xaxis\": \"x\", \"y\": [2, 1, 1, 3, 1], \"yaxis\": \"y\"}, {\"alignmentgroup\": \"True\", \"hoverlabel\": {\"namelength\": 0}, \"hovertemplate\": \"Category=ENTERTAINMENT<br>Month=%{x}<br>NumberOfApps=%{y}\", \"legendgroup\": \"Category=ENTERTAINMENT\", \"marker\": {\"color\": \"#EF553B\"}, \"name\": \"Category=ENTERTAINMENT\", \"offsetgroup\": \"Category=ENTERTAINMENT\", \"orientation\": \"v\", \"showlegend\": true, \"textposition\": \"auto\", \"type\": \"bar\", \"x\": [\"December\", \"July\"], \"xaxis\": \"x\", \"y\": [1, 1], \"yaxis\": \"y\"}, {\"alignmentgroup\": \"True\", \"hoverlabel\": {\"namelength\": 0}, \"hovertemplate\": \"Category=PARENTING<br>Month=%{x}<br>NumberOfApps=%{y}\", \"legendgroup\": \"Category=PARENTING\", \"marker\": {\"color\": \"#00cc96\"}, \"name\": \"Category=PARENTING\", \"offsetgroup\": \"Category=PARENTING\", \"orientation\": \"v\", \"showlegend\": true, \"textposition\": \"auto\", \"type\": \"bar\", \"x\": [\"December\", \"January\", \"July\", \"October\"], \"xaxis\": \"x\", \"y\": [2, 2, 1, 2], \"yaxis\": \"y\"}],\n",
              "                        {\"barmode\": \"relative\", \"legend\": {\"tracegroupgap\": 0}, \"template\": {\"data\": {\"bar\": [{\"error_x\": {\"color\": \"#2a3f5f\"}, \"error_y\": {\"color\": \"#2a3f5f\"}, \"marker\": {\"line\": {\"color\": \"#E5ECF6\", \"width\": 0.5}}, \"type\": \"bar\"}], \"barpolar\": [{\"marker\": {\"line\": {\"color\": \"#E5ECF6\", \"width\": 0.5}}, \"type\": \"barpolar\"}], \"carpet\": [{\"aaxis\": {\"endlinecolor\": \"#2a3f5f\", \"gridcolor\": \"white\", \"linecolor\": \"white\", \"minorgridcolor\": \"white\", \"startlinecolor\": \"#2a3f5f\"}, \"baxis\": {\"endlinecolor\": \"#2a3f5f\", \"gridcolor\": \"white\", \"linecolor\": \"white\", \"minorgridcolor\": \"white\", \"startlinecolor\": \"#2a3f5f\"}, \"type\": \"carpet\"}], \"choropleth\": [{\"colorbar\": {\"outlinewidth\": 0, \"ticks\": \"\"}, \"type\": \"choropleth\"}], \"contour\": [{\"colorbar\": {\"outlinewidth\": 0, \"ticks\": \"\"}, \"colorscale\": [[0.0, \"#0d0887\"], [0.1111111111111111, \"#46039f\"], [0.2222222222222222, \"#7201a8\"], [0.3333333333333333, \"#9c179e\"], [0.4444444444444444, \"#bd3786\"], [0.5555555555555556, \"#d8576b\"], [0.6666666666666666, \"#ed7953\"], [0.7777777777777778, \"#fb9f3a\"], [0.8888888888888888, \"#fdca26\"], [1.0, \"#f0f921\"]], \"type\": \"contour\"}], \"contourcarpet\": [{\"colorbar\": {\"outlinewidth\": 0, \"ticks\": \"\"}, \"type\": \"contourcarpet\"}], \"heatmap\": [{\"colorbar\": {\"outlinewidth\": 0, \"ticks\": \"\"}, \"colorscale\": [[0.0, \"#0d0887\"], [0.1111111111111111, \"#46039f\"], [0.2222222222222222, \"#7201a8\"], [0.3333333333333333, \"#9c179e\"], [0.4444444444444444, \"#bd3786\"], [0.5555555555555556, \"#d8576b\"], [0.6666666666666666, \"#ed7953\"], [0.7777777777777778, \"#fb9f3a\"], [0.8888888888888888, \"#fdca26\"], [1.0, \"#f0f921\"]], \"type\": \"heatmap\"}], \"heatmapgl\": [{\"colorbar\": {\"outlinewidth\": 0, \"ticks\": \"\"}, \"colorscale\": [[0.0, \"#0d0887\"], [0.1111111111111111, \"#46039f\"], [0.2222222222222222, \"#7201a8\"], [0.3333333333333333, \"#9c179e\"], [0.4444444444444444, \"#bd3786\"], [0.5555555555555556, \"#d8576b\"], [0.6666666666666666, \"#ed7953\"], [0.7777777777777778, \"#fb9f3a\"], [0.8888888888888888, \"#fdca26\"], [1.0, \"#f0f921\"]], \"type\": \"heatmapgl\"}], \"histogram\": [{\"marker\": {\"colorbar\": {\"outlinewidth\": 0, \"ticks\": \"\"}}, \"type\": \"histogram\"}], \"histogram2d\": [{\"colorbar\": {\"outlinewidth\": 0, \"ticks\": \"\"}, \"colorscale\": [[0.0, \"#0d0887\"], [0.1111111111111111, \"#46039f\"], [0.2222222222222222, \"#7201a8\"], [0.3333333333333333, \"#9c179e\"], [0.4444444444444444, \"#bd3786\"], [0.5555555555555556, \"#d8576b\"], [0.6666666666666666, \"#ed7953\"], [0.7777777777777778, \"#fb9f3a\"], [0.8888888888888888, \"#fdca26\"], [1.0, \"#f0f921\"]], \"type\": \"histogram2d\"}], \"histogram2dcontour\": [{\"colorbar\": {\"outlinewidth\": 0, \"ticks\": \"\"}, \"colorscale\": [[0.0, \"#0d0887\"], [0.1111111111111111, \"#46039f\"], [0.2222222222222222, \"#7201a8\"], [0.3333333333333333, \"#9c179e\"], [0.4444444444444444, \"#bd3786\"], [0.5555555555555556, \"#d8576b\"], [0.6666666666666666, \"#ed7953\"], [0.7777777777777778, \"#fb9f3a\"], [0.8888888888888888, \"#fdca26\"], [1.0, \"#f0f921\"]], \"type\": \"histogram2dcontour\"}], \"mesh3d\": [{\"colorbar\": {\"outlinewidth\": 0, \"ticks\": \"\"}, \"type\": \"mesh3d\"}], \"parcoords\": [{\"line\": {\"colorbar\": {\"outlinewidth\": 0, \"ticks\": \"\"}}, \"type\": \"parcoords\"}], \"pie\": [{\"automargin\": true, \"type\": \"pie\"}], \"scatter\": [{\"marker\": {\"colorbar\": {\"outlinewidth\": 0, \"ticks\": \"\"}}, \"type\": \"scatter\"}], \"scatter3d\": [{\"line\": {\"colorbar\": {\"outlinewidth\": 0, \"ticks\": \"\"}}, \"marker\": {\"colorbar\": {\"outlinewidth\": 0, \"ticks\": \"\"}}, \"type\": \"scatter3d\"}], \"scattercarpet\": [{\"marker\": {\"colorbar\": {\"outlinewidth\": 0, \"ticks\": \"\"}}, \"type\": \"scattercarpet\"}], \"scattergeo\": [{\"marker\": {\"colorbar\": {\"outlinewidth\": 0, \"ticks\": \"\"}}, \"type\": \"scattergeo\"}], \"scattergl\": [{\"marker\": {\"colorbar\": {\"outlinewidth\": 0, \"ticks\": \"\"}}, \"type\": \"scattergl\"}], \"scattermapbox\": [{\"marker\": {\"colorbar\": {\"outlinewidth\": 0, \"ticks\": \"\"}}, \"type\": \"scattermapbox\"}], \"scatterpolar\": [{\"marker\": {\"colorbar\": {\"outlinewidth\": 0, \"ticks\": \"\"}}, \"type\": \"scatterpolar\"}], \"scatterpolargl\": [{\"marker\": {\"colorbar\": {\"outlinewidth\": 0, \"ticks\": \"\"}}, \"type\": \"scatterpolargl\"}], \"scatterternary\": [{\"marker\": {\"colorbar\": {\"outlinewidth\": 0, \"ticks\": \"\"}}, \"type\": \"scatterternary\"}], \"surface\": [{\"colorbar\": {\"outlinewidth\": 0, \"ticks\": \"\"}, \"colorscale\": [[0.0, \"#0d0887\"], [0.1111111111111111, \"#46039f\"], [0.2222222222222222, \"#7201a8\"], [0.3333333333333333, \"#9c179e\"], [0.4444444444444444, \"#bd3786\"], [0.5555555555555556, \"#d8576b\"], [0.6666666666666666, \"#ed7953\"], [0.7777777777777778, \"#fb9f3a\"], [0.8888888888888888, \"#fdca26\"], [1.0, \"#f0f921\"]], \"type\": \"surface\"}], \"table\": [{\"cells\": {\"fill\": {\"color\": \"#EBF0F8\"}, \"line\": {\"color\": \"white\"}}, \"header\": {\"fill\": {\"color\": \"#C8D4E3\"}, \"line\": {\"color\": \"white\"}}, \"type\": \"table\"}]}, \"layout\": {\"annotationdefaults\": {\"arrowcolor\": \"#2a3f5f\", \"arrowhead\": 0, \"arrowwidth\": 1}, \"coloraxis\": {\"colorbar\": {\"outlinewidth\": 0, \"ticks\": \"\"}}, \"colorscale\": {\"diverging\": [[0, \"#8e0152\"], [0.1, \"#c51b7d\"], [0.2, \"#de77ae\"], [0.3, \"#f1b6da\"], [0.4, \"#fde0ef\"], [0.5, \"#f7f7f7\"], [0.6, \"#e6f5d0\"], [0.7, \"#b8e186\"], [0.8, \"#7fbc41\"], [0.9, \"#4d9221\"], [1, \"#276419\"]], \"sequential\": [[0.0, \"#0d0887\"], [0.1111111111111111, \"#46039f\"], [0.2222222222222222, \"#7201a8\"], [0.3333333333333333, \"#9c179e\"], [0.4444444444444444, \"#bd3786\"], [0.5555555555555556, \"#d8576b\"], [0.6666666666666666, \"#ed7953\"], [0.7777777777777778, \"#fb9f3a\"], [0.8888888888888888, \"#fdca26\"], [1.0, \"#f0f921\"]], \"sequentialminus\": [[0.0, \"#0d0887\"], [0.1111111111111111, \"#46039f\"], [0.2222222222222222, \"#7201a8\"], [0.3333333333333333, \"#9c179e\"], [0.4444444444444444, \"#bd3786\"], [0.5555555555555556, \"#d8576b\"], [0.6666666666666666, \"#ed7953\"], [0.7777777777777778, \"#fb9f3a\"], [0.8888888888888888, \"#fdca26\"], [1.0, \"#f0f921\"]]}, \"colorway\": [\"#636efa\", \"#EF553B\", \"#00cc96\", \"#ab63fa\", \"#FFA15A\", \"#19d3f3\", \"#FF6692\", \"#B6E880\", \"#FF97FF\", \"#FECB52\"], \"font\": {\"color\": \"#2a3f5f\"}, \"geo\": {\"bgcolor\": \"white\", \"lakecolor\": \"white\", \"landcolor\": \"#E5ECF6\", \"showlakes\": true, \"showland\": true, \"subunitcolor\": \"white\"}, \"hoverlabel\": {\"align\": \"left\"}, \"hovermode\": \"closest\", \"mapbox\": {\"style\": \"light\"}, \"paper_bgcolor\": \"white\", \"plot_bgcolor\": \"#E5ECF6\", \"polar\": {\"angularaxis\": {\"gridcolor\": \"white\", \"linecolor\": \"white\", \"ticks\": \"\"}, \"bgcolor\": \"#E5ECF6\", \"radialaxis\": {\"gridcolor\": \"white\", \"linecolor\": \"white\", \"ticks\": \"\"}}, \"scene\": {\"xaxis\": {\"backgroundcolor\": \"#E5ECF6\", \"gridcolor\": \"white\", \"gridwidth\": 2, \"linecolor\": \"white\", \"showbackground\": true, \"ticks\": \"\", \"zerolinecolor\": \"white\"}, \"yaxis\": {\"backgroundcolor\": \"#E5ECF6\", \"gridcolor\": \"white\", \"gridwidth\": 2, \"linecolor\": \"white\", \"showbackground\": true, \"ticks\": \"\", \"zerolinecolor\": \"white\"}, \"zaxis\": {\"backgroundcolor\": \"#E5ECF6\", \"gridcolor\": \"white\", \"gridwidth\": 2, \"linecolor\": \"white\", \"showbackground\": true, \"ticks\": \"\", \"zerolinecolor\": \"white\"}}, \"shapedefaults\": {\"line\": {\"color\": \"#2a3f5f\"}}, \"ternary\": {\"aaxis\": {\"gridcolor\": \"white\", \"linecolor\": \"white\", \"ticks\": \"\"}, \"baxis\": {\"gridcolor\": \"white\", \"linecolor\": \"white\", \"ticks\": \"\"}, \"bgcolor\": \"#E5ECF6\", \"caxis\": {\"gridcolor\": \"white\", \"linecolor\": \"white\", \"ticks\": \"\"}}, \"title\": {\"x\": 0.05}, \"xaxis\": {\"automargin\": true, \"gridcolor\": \"white\", \"linecolor\": \"white\", \"ticks\": \"\", \"title\": {\"standoff\": 15}, \"zerolinecolor\": \"white\", \"zerolinewidth\": 2}, \"yaxis\": {\"automargin\": true, \"gridcolor\": \"white\", \"linecolor\": \"white\", \"ticks\": \"\", \"title\": {\"standoff\": 15}, \"zerolinecolor\": \"white\", \"zerolinewidth\": 2}}}, \"title\": {\"text\": \"2017 Monthly Category Trend\"}, \"xaxis\": {\"anchor\": \"y\", \"categoryarray\": [\"January\", \"February\", \"March\", \"April\", \"May\", \"June\", \"July\", \"August\", \"September\", \"October\", \"November\", \"December\"], \"categoryorder\": \"array\", \"domain\": [0.0, 1.0], \"title\": {\"text\": \"Month\"}}, \"yaxis\": {\"anchor\": \"x\", \"domain\": [0.0, 1.0], \"title\": {\"text\": \"NumberOfApps\"}}},\n",
              "                        {\"responsive\": true}\n",
              "                    ).then(function(){\n",
              "                            \n",
              "var gd = document.getElementById('1e0aab60-d0aa-433d-835b-15ec4bafcabc');\n",
              "var x = new MutationObserver(function (mutations, observer) {{\n",
              "        var display = window.getComputedStyle(gd).display;\n",
              "        if (!display || display === 'none') {{\n",
              "            console.log([gd, 'removed!']);\n",
              "            Plotly.purge(gd);\n",
              "            observer.disconnect();\n",
              "        }}\n",
              "}});\n",
              "\n",
              "// Listen for the removal of the full notebook cells\n",
              "var notebookContainer = gd.closest('#notebook-container');\n",
              "if (notebookContainer) {{\n",
              "    x.observe(notebookContainer, {childList: true});\n",
              "}}\n",
              "\n",
              "// Listen for the clearing of the current output cell\n",
              "var outputEl = gd.closest('.output');\n",
              "if (outputEl) {{\n",
              "    x.observe(outputEl, {childList: true});\n",
              "}}\n",
              "\n",
              "                        })\n",
              "                };\n",
              "                \n",
              "            </script>\n",
              "        </div>\n",
              "</body>\n",
              "</html>"
            ]
          },
          "metadata": {}
        },
        {
          "output_type": "display_data",
          "data": {
            "text/html": [
              "<html>\n",
              "<head><meta charset=\"utf-8\" /></head>\n",
              "<body>\n",
              "    <div>\n",
              "            <script src=\"https://cdnjs.cloudflare.com/ajax/libs/mathjax/2.7.5/MathJax.js?config=TeX-AMS-MML_SVG\"></script><script type=\"text/javascript\">if (window.MathJax) {MathJax.Hub.Config({SVG: {font: \"STIX-Web\"}});}</script>\n",
              "                <script type=\"text/javascript\">window.PlotlyConfig = {MathJaxConfig: 'local'};</script>\n",
              "        <script src=\"https://cdn.plot.ly/plotly-latest.min.js\"></script>    \n",
              "            <div id=\"d9792388-5685-4c75-a15c-0e5de112d193\" class=\"plotly-graph-div\" style=\"height:525px; width:100%;\"></div>\n",
              "            <script type=\"text/javascript\">\n",
              "                \n",
              "                    window.PLOTLYENV=window.PLOTLYENV || {};\n",
              "                    \n",
              "                if (document.getElementById(\"d9792388-5685-4c75-a15c-0e5de112d193\")) {\n",
              "                    Plotly.newPlot(\n",
              "                        'd9792388-5685-4c75-a15c-0e5de112d193',\n",
              "                        [{\"alignmentgroup\": \"True\", \"hoverlabel\": {\"namelength\": 0}, \"hovertemplate\": \"Category=BOOKS_AND_REFERENCE<br>Month=%{x}<br>NumberOfApps=%{y}\", \"legendgroup\": \"Category=BOOKS_AND_REFERENCE\", \"marker\": {\"color\": \"#636efa\"}, \"name\": \"Category=BOOKS_AND_REFERENCE\", \"offsetgroup\": \"Category=BOOKS_AND_REFERENCE\", \"orientation\": \"v\", \"showlegend\": true, \"textposition\": \"auto\", \"type\": \"bar\", \"x\": [\"April\", \"August\", \"December\", \"January\", \"July\", \"June\", \"March\", \"May\", \"November\", \"October\", \"September\"], \"xaxis\": \"x\", \"y\": [2, 2, 3, 1, 2, 5, 2, 1, 2, 6, 1], \"yaxis\": \"y\"}, {\"alignmentgroup\": \"True\", \"hoverlabel\": {\"namelength\": 0}, \"hovertemplate\": \"Category=BUSINESS<br>Month=%{x}<br>NumberOfApps=%{y}\", \"legendgroup\": \"Category=BUSINESS\", \"marker\": {\"color\": \"#EF553B\"}, \"name\": \"Category=BUSINESS\", \"offsetgroup\": \"Category=BUSINESS\", \"orientation\": \"v\", \"showlegend\": true, \"textposition\": \"auto\", \"type\": \"bar\", \"x\": [\"April\", \"December\", \"February\", \"January\", \"July\", \"March\", \"May\", \"November\", \"October\", \"September\"], \"xaxis\": \"x\", \"y\": [3, 6, 2, 2, 4, 3, 2, 7, 6, 3], \"yaxis\": \"y\"}, {\"alignmentgroup\": \"True\", \"hoverlabel\": {\"namelength\": 0}, \"hovertemplate\": \"Category=COMMUNICATION<br>Month=%{x}<br>NumberOfApps=%{y}\", \"legendgroup\": \"Category=COMMUNICATION\", \"marker\": {\"color\": \"#00cc96\"}, \"name\": \"Category=COMMUNICATION\", \"offsetgroup\": \"Category=COMMUNICATION\", \"orientation\": \"v\", \"showlegend\": true, \"textposition\": \"auto\", \"type\": \"bar\", \"x\": [\"April\", \"August\", \"December\", \"February\", \"July\", \"June\", \"May\", \"November\", \"October\", \"September\"], \"xaxis\": \"x\", \"y\": [4, 2, 1, 1, 5, 1, 1, 5, 1, 2], \"yaxis\": \"y\"}, {\"alignmentgroup\": \"True\", \"hoverlabel\": {\"namelength\": 0}, \"hovertemplate\": \"Category=ENTERTAINMENT<br>Month=%{x}<br>NumberOfApps=%{y}\", \"legendgroup\": \"Category=ENTERTAINMENT\", \"marker\": {\"color\": \"#ab63fa\"}, \"name\": \"Category=ENTERTAINMENT\", \"offsetgroup\": \"Category=ENTERTAINMENT\", \"orientation\": \"v\", \"showlegend\": true, \"textposition\": \"auto\", \"type\": \"bar\", \"x\": [\"April\", \"September\"], \"xaxis\": \"x\", \"y\": [1, 1], \"yaxis\": \"y\"}, {\"alignmentgroup\": \"True\", \"hoverlabel\": {\"namelength\": 0}, \"hovertemplate\": \"Category=FAMILY<br>Month=%{x}<br>NumberOfApps=%{y}\", \"legendgroup\": \"Category=FAMILY\", \"marker\": {\"color\": \"#FFA15A\"}, \"name\": \"Category=FAMILY\", \"offsetgroup\": \"Category=FAMILY\", \"orientation\": \"v\", \"showlegend\": true, \"textposition\": \"auto\", \"type\": \"bar\", \"x\": [\"April\", \"August\", \"December\", \"February\", \"January\", \"July\", \"June\", \"March\", \"May\", \"November\", \"October\", \"September\"], \"xaxis\": \"x\", \"y\": [10, 15, 24, 12, 12, 21, 23, 12, 10, 27, 17, 22], \"yaxis\": \"y\"}, {\"alignmentgroup\": \"True\", \"hoverlabel\": {\"namelength\": 0}, \"hovertemplate\": \"Category=GAME<br>Month=%{x}<br>NumberOfApps=%{y}\", \"legendgroup\": \"Category=GAME\", \"marker\": {\"color\": \"#19d3f3\"}, \"name\": \"Category=GAME\", \"offsetgroup\": \"Category=GAME\", \"orientation\": \"v\", \"showlegend\": true, \"textposition\": \"auto\", \"type\": \"bar\", \"x\": [\"April\", \"August\", \"December\", \"February\", \"January\", \"July\", \"June\", \"March\", \"May\", \"November\", \"October\", \"September\"], \"xaxis\": \"x\", \"y\": [6, 5, 13, 4, 3, 11, 4, 9, 3, 7, 9, 6], \"yaxis\": \"y\"}, {\"alignmentgroup\": \"True\", \"hoverlabel\": {\"namelength\": 0}, \"hovertemplate\": \"Category=HEALTH_AND_FITNESS<br>Month=%{x}<br>NumberOfApps=%{y}\", \"legendgroup\": \"Category=HEALTH_AND_FITNESS\", \"marker\": {\"color\": \"#FF6692\"}, \"name\": \"Category=HEALTH_AND_FITNESS\", \"offsetgroup\": \"Category=HEALTH_AND_FITNESS\", \"orientation\": \"v\", \"showlegend\": true, \"textposition\": \"auto\", \"type\": \"bar\", \"x\": [\"April\", \"August\", \"December\", \"February\", \"January\", \"July\", \"June\", \"March\", \"November\", \"October\", \"September\"], \"xaxis\": \"x\", \"y\": [2, 1, 1, 1, 1, 2, 1, 2, 1, 1, 2], \"yaxis\": \"y\"}, {\"alignmentgroup\": \"True\", \"hoverlabel\": {\"namelength\": 0}, \"hovertemplate\": \"Category=LIFESTYLE<br>Month=%{x}<br>NumberOfApps=%{y}\", \"legendgroup\": \"Category=LIFESTYLE\", \"marker\": {\"color\": \"#B6E880\"}, \"name\": \"Category=LIFESTYLE\", \"offsetgroup\": \"Category=LIFESTYLE\", \"orientation\": \"v\", \"showlegend\": true, \"textposition\": \"auto\", \"type\": \"bar\", \"x\": [\"April\", \"August\", \"December\", \"February\", \"January\", \"July\", \"June\", \"March\", \"May\", \"November\", \"October\", \"September\"], \"xaxis\": \"x\", \"y\": [4, 1, 5, 2, 2, 3, 3, 2, 5, 5, 1, 5], \"yaxis\": \"y\"}, {\"alignmentgroup\": \"True\", \"hoverlabel\": {\"namelength\": 0}, \"hovertemplate\": \"Category=PERSONALIZATION<br>Month=%{x}<br>NumberOfApps=%{y}\", \"legendgroup\": \"Category=PERSONALIZATION\", \"marker\": {\"color\": \"#FF97FF\"}, \"name\": \"Category=PERSONALIZATION\", \"offsetgroup\": \"Category=PERSONALIZATION\", \"orientation\": \"v\", \"showlegend\": true, \"textposition\": \"auto\", \"type\": \"bar\", \"x\": [\"April\", \"August\", \"December\", \"February\", \"January\", \"July\", \"June\", \"March\", \"May\", \"November\", \"October\", \"September\"], \"xaxis\": \"x\", \"y\": [3, 3, 6, 4, 3, 3, 14, 1, 6, 6, 10, 2], \"yaxis\": \"y\"}, {\"alignmentgroup\": \"True\", \"hoverlabel\": {\"namelength\": 0}, \"hovertemplate\": \"Category=PHOTOGRAPHY<br>Month=%{x}<br>NumberOfApps=%{y}\", \"legendgroup\": \"Category=PHOTOGRAPHY\", \"marker\": {\"color\": \"#FECB52\"}, \"name\": \"Category=PHOTOGRAPHY\", \"offsetgroup\": \"Category=PHOTOGRAPHY\", \"orientation\": \"v\", \"showlegend\": true, \"textposition\": \"auto\", \"type\": \"bar\", \"x\": [\"April\", \"August\", \"December\", \"January\", \"July\", \"June\", \"March\", \"May\", \"November\", \"October\", \"September\"], \"xaxis\": \"x\", \"y\": [2, 3, 1, 2, 3, 1, 2, 1, 2, 4, 2], \"yaxis\": \"y\"}, {\"alignmentgroup\": \"True\", \"hoverlabel\": {\"namelength\": 0}, \"hovertemplate\": \"Category=PRODUCTIVITY<br>Month=%{x}<br>NumberOfApps=%{y}\", \"legendgroup\": \"Category=PRODUCTIVITY\", \"marker\": {\"color\": \"#636efa\"}, \"name\": \"Category=PRODUCTIVITY\", \"offsetgroup\": \"Category=PRODUCTIVITY\", \"orientation\": \"v\", \"showlegend\": true, \"textposition\": \"auto\", \"type\": \"bar\", \"x\": [\"April\", \"August\", \"December\", \"February\", \"January\", \"July\", \"June\", \"March\", \"November\", \"October\", \"September\"], \"xaxis\": \"x\", \"y\": [4, 3, 7, 1, 3, 3, 2, 1, 3, 7, 3], \"yaxis\": \"y\"}, {\"alignmentgroup\": \"True\", \"hoverlabel\": {\"namelength\": 0}, \"hovertemplate\": \"Category=SHOPPING<br>Month=%{x}<br>NumberOfApps=%{y}\", \"legendgroup\": \"Category=SHOPPING\", \"marker\": {\"color\": \"#EF553B\"}, \"name\": \"Category=SHOPPING\", \"offsetgroup\": \"Category=SHOPPING\", \"orientation\": \"v\", \"showlegend\": true, \"textposition\": \"auto\", \"type\": \"bar\", \"x\": [\"April\", \"August\", \"July\", \"May\", \"November\", \"September\"], \"xaxis\": \"x\", \"y\": [1, 1, 1, 1, 1, 2], \"yaxis\": \"y\"}, {\"alignmentgroup\": \"True\", \"hoverlabel\": {\"namelength\": 0}, \"hovertemplate\": \"Category=SOCIAL<br>Month=%{x}<br>NumberOfApps=%{y}\", \"legendgroup\": \"Category=SOCIAL\", \"marker\": {\"color\": \"#00cc96\"}, \"name\": \"Category=SOCIAL\", \"offsetgroup\": \"Category=SOCIAL\", \"orientation\": \"v\", \"showlegend\": true, \"textposition\": \"auto\", \"type\": \"bar\", \"x\": [\"April\", \"December\", \"February\", \"July\", \"June\", \"May\", \"November\", \"October\"], \"xaxis\": \"x\", \"y\": [1, 3, 1, 2, 4, 2, 2, 2], \"yaxis\": \"y\"}, {\"alignmentgroup\": \"True\", \"hoverlabel\": {\"namelength\": 0}, \"hovertemplate\": \"Category=SPORTS<br>Month=%{x}<br>NumberOfApps=%{y}\", \"legendgroup\": \"Category=SPORTS\", \"marker\": {\"color\": \"#ab63fa\"}, \"name\": \"Category=SPORTS\", \"offsetgroup\": \"Category=SPORTS\", \"orientation\": \"v\", \"showlegend\": true, \"textposition\": \"auto\", \"type\": \"bar\", \"x\": [\"April\", \"August\", \"December\", \"February\", \"January\", \"July\", \"June\", \"March\", \"May\", \"October\"], \"xaxis\": \"x\", \"y\": [1, 5, 1, 1, 2, 1, 2, 1, 1, 2], \"yaxis\": \"y\"}, {\"alignmentgroup\": \"True\", \"hoverlabel\": {\"namelength\": 0}, \"hovertemplate\": \"Category=TOOLS<br>Month=%{x}<br>NumberOfApps=%{y}\", \"legendgroup\": \"Category=TOOLS\", \"marker\": {\"color\": \"#FFA15A\"}, \"name\": \"Category=TOOLS\", \"offsetgroup\": \"Category=TOOLS\", \"orientation\": \"v\", \"showlegend\": true, \"textposition\": \"auto\", \"type\": \"bar\", \"x\": [\"April\", \"August\", \"December\", \"February\", \"January\", \"July\", \"June\", \"March\", \"May\", \"November\", \"October\", \"September\"], \"xaxis\": \"x\", \"y\": [7, 5, 9, 8, 3, 9, 4, 4, 6, 2, 7, 10], \"yaxis\": \"y\"}, {\"alignmentgroup\": \"True\", \"hoverlabel\": {\"namelength\": 0}, \"hovertemplate\": \"Category=EVENTS<br>Month=%{x}<br>NumberOfApps=%{y}\", \"legendgroup\": \"Category=EVENTS\", \"marker\": {\"color\": \"#19d3f3\"}, \"name\": \"Category=EVENTS\", \"offsetgroup\": \"Category=EVENTS\", \"orientation\": \"v\", \"showlegend\": true, \"textposition\": \"auto\", \"type\": \"bar\", \"x\": [\"August\", \"November\"], \"xaxis\": \"x\", \"y\": [1, 1], \"yaxis\": \"y\"}, {\"alignmentgroup\": \"True\", \"hoverlabel\": {\"namelength\": 0}, \"hovertemplate\": \"Category=FOOD_AND_DRINK<br>Month=%{x}<br>NumberOfApps=%{y}\", \"legendgroup\": \"Category=FOOD_AND_DRINK\", \"marker\": {\"color\": \"#FF6692\"}, \"name\": \"Category=FOOD_AND_DRINK\", \"offsetgroup\": \"Category=FOOD_AND_DRINK\", \"orientation\": \"v\", \"showlegend\": true, \"textposition\": \"auto\", \"type\": \"bar\", \"x\": [\"August\", \"November\", \"October\"], \"xaxis\": \"x\", \"y\": [2, 2, 1], \"yaxis\": \"y\"}, {\"alignmentgroup\": \"True\", \"hoverlabel\": {\"namelength\": 0}, \"hovertemplate\": \"Category=LIBRARIES_AND_DEMO<br>Month=%{x}<br>NumberOfApps=%{y}\", \"legendgroup\": \"Category=LIBRARIES_AND_DEMO\", \"marker\": {\"color\": \"#B6E880\"}, \"name\": \"Category=LIBRARIES_AND_DEMO\", \"offsetgroup\": \"Category=LIBRARIES_AND_DEMO\", \"orientation\": \"v\", \"showlegend\": true, \"textposition\": \"auto\", \"type\": \"bar\", \"x\": [\"August\", \"July\", \"June\", \"March\", \"November\"], \"xaxis\": \"x\", \"y\": [1, 1, 1, 2, 2], \"yaxis\": \"y\"}, {\"alignmentgroup\": \"True\", \"hoverlabel\": {\"namelength\": 0}, \"hovertemplate\": \"Category=MAPS_AND_NAVIGATION<br>Month=%{x}<br>NumberOfApps=%{y}\", \"legendgroup\": \"Category=MAPS_AND_NAVIGATION\", \"marker\": {\"color\": \"#FF97FF\"}, \"name\": \"Category=MAPS_AND_NAVIGATION\", \"offsetgroup\": \"Category=MAPS_AND_NAVIGATION\", \"orientation\": \"v\", \"showlegend\": true, \"textposition\": \"auto\", \"type\": \"bar\", \"x\": [\"August\", \"February\", \"October\"], \"xaxis\": \"x\", \"y\": [2, 2, 1], \"yaxis\": \"y\"}, {\"alignmentgroup\": \"True\", \"hoverlabel\": {\"namelength\": 0}, \"hovertemplate\": \"Category=PARENTING<br>Month=%{x}<br>NumberOfApps=%{y}\", \"legendgroup\": \"Category=PARENTING\", \"marker\": {\"color\": \"#FECB52\"}, \"name\": \"Category=PARENTING\", \"offsetgroup\": \"Category=PARENTING\", \"orientation\": \"v\", \"showlegend\": true, \"textposition\": \"auto\", \"type\": \"bar\", \"x\": [\"August\", \"June\"], \"xaxis\": \"x\", \"y\": [1, 1], \"yaxis\": \"y\"}, {\"alignmentgroup\": \"True\", \"hoverlabel\": {\"namelength\": 0}, \"hovertemplate\": \"Category=TRAVEL_AND_LOCAL<br>Month=%{x}<br>NumberOfApps=%{y}\", \"legendgroup\": \"Category=TRAVEL_AND_LOCAL\", \"marker\": {\"color\": \"#636efa\"}, \"name\": \"Category=TRAVEL_AND_LOCAL\", \"offsetgroup\": \"Category=TRAVEL_AND_LOCAL\", \"orientation\": \"v\", \"showlegend\": true, \"textposition\": \"auto\", \"type\": \"bar\", \"x\": [\"August\", \"December\", \"January\", \"July\", \"March\", \"May\", \"November\", \"October\"], \"xaxis\": \"x\", \"y\": [4, 1, 2, 4, 2, 2, 1, 3], \"yaxis\": \"y\"}, {\"alignmentgroup\": \"True\", \"hoverlabel\": {\"namelength\": 0}, \"hovertemplate\": \"Category=WEATHER<br>Month=%{x}<br>NumberOfApps=%{y}\", \"legendgroup\": \"Category=WEATHER\", \"marker\": {\"color\": \"#EF553B\"}, \"name\": \"Category=WEATHER\", \"offsetgroup\": \"Category=WEATHER\", \"orientation\": \"v\", \"showlegend\": true, \"textposition\": \"auto\", \"type\": \"bar\", \"x\": [\"August\", \"March\"], \"xaxis\": \"x\", \"y\": [1, 1], \"yaxis\": \"y\"}, {\"alignmentgroup\": \"True\", \"hoverlabel\": {\"namelength\": 0}, \"hovertemplate\": \"Category=EDUCATION<br>Month=%{x}<br>NumberOfApps=%{y}\", \"legendgroup\": \"Category=EDUCATION\", \"marker\": {\"color\": \"#00cc96\"}, \"name\": \"Category=EDUCATION\", \"offsetgroup\": \"Category=EDUCATION\", \"orientation\": \"v\", \"showlegend\": true, \"textposition\": \"auto\", \"type\": \"bar\", \"x\": [\"December\", \"July\", \"June\", \"May\", \"November\", \"October\", \"September\"], \"xaxis\": \"x\", \"y\": [2, 2, 1, 1, 1, 1, 1], \"yaxis\": \"y\"}, {\"alignmentgroup\": \"True\", \"hoverlabel\": {\"namelength\": 0}, \"hovertemplate\": \"Category=FINANCE<br>Month=%{x}<br>NumberOfApps=%{y}\", \"legendgroup\": \"Category=FINANCE\", \"marker\": {\"color\": \"#ab63fa\"}, \"name\": \"Category=FINANCE\", \"offsetgroup\": \"Category=FINANCE\", \"orientation\": \"v\", \"showlegend\": true, \"textposition\": \"auto\", \"type\": \"bar\", \"x\": [\"December\", \"February\", \"June\", \"March\", \"May\", \"November\", \"October\", \"September\"], \"xaxis\": \"x\", \"y\": [1, 4, 1, 1, 2, 1, 3, 1], \"yaxis\": \"y\"}, {\"alignmentgroup\": \"True\", \"hoverlabel\": {\"namelength\": 0}, \"hovertemplate\": \"Category=MEDICAL<br>Month=%{x}<br>NumberOfApps=%{y}\", \"legendgroup\": \"Category=MEDICAL\", \"marker\": {\"color\": \"#FFA15A\"}, \"name\": \"Category=MEDICAL\", \"offsetgroup\": \"Category=MEDICAL\", \"orientation\": \"v\", \"showlegend\": true, \"textposition\": \"auto\", \"type\": \"bar\", \"x\": [\"December\", \"January\", \"July\", \"June\", \"May\", \"November\", \"October\", \"September\"], \"xaxis\": \"x\", \"y\": [2, 3, 3, 2, 2, 1, 5, 2], \"yaxis\": \"y\"}, {\"alignmentgroup\": \"True\", \"hoverlabel\": {\"namelength\": 0}, \"hovertemplate\": \"Category=NEWS_AND_MAGAZINES<br>Month=%{x}<br>NumberOfApps=%{y}\", \"legendgroup\": \"Category=NEWS_AND_MAGAZINES\", \"marker\": {\"color\": \"#19d3f3\"}, \"name\": \"Category=NEWS_AND_MAGAZINES\", \"offsetgroup\": \"Category=NEWS_AND_MAGAZINES\", \"orientation\": \"v\", \"showlegend\": true, \"textposition\": \"auto\", \"type\": \"bar\", \"x\": [\"December\", \"February\", \"July\", \"June\", \"March\", \"May\", \"November\", \"September\"], \"xaxis\": \"x\", \"y\": [1, 3, 2, 3, 1, 3, 1, 1], \"yaxis\": \"y\"}, {\"alignmentgroup\": \"True\", \"hoverlabel\": {\"namelength\": 0}, \"hovertemplate\": \"Category=VIDEO_PLAYERS<br>Month=%{x}<br>NumberOfApps=%{y}\", \"legendgroup\": \"Category=VIDEO_PLAYERS\", \"marker\": {\"color\": \"#FF6692\"}, \"name\": \"Category=VIDEO_PLAYERS\", \"offsetgroup\": \"Category=VIDEO_PLAYERS\", \"orientation\": \"v\", \"showlegend\": true, \"textposition\": \"auto\", \"type\": \"bar\", \"x\": [\"December\", \"January\", \"July\", \"June\", \"March\", \"October\", \"September\"], \"xaxis\": \"x\", \"y\": [2, 1, 2, 3, 3, 1, 2], \"yaxis\": \"y\"}, {\"alignmentgroup\": \"True\", \"hoverlabel\": {\"namelength\": 0}, \"hovertemplate\": \"Category=DATING<br>Month=%{x}<br>NumberOfApps=%{y}\", \"legendgroup\": \"Category=DATING\", \"marker\": {\"color\": \"#B6E880\"}, \"name\": \"Category=DATING\", \"offsetgroup\": \"Category=DATING\", \"orientation\": \"v\", \"showlegend\": true, \"textposition\": \"auto\", \"type\": \"bar\", \"x\": [\"February\", \"November\"], \"xaxis\": \"x\", \"y\": [2, 1], \"yaxis\": \"y\"}, {\"alignmentgroup\": \"True\", \"hoverlabel\": {\"namelength\": 0}, \"hovertemplate\": \"Category=COMICS<br>Month=%{x}<br>NumberOfApps=%{y}\", \"legendgroup\": \"Category=COMICS\", \"marker\": {\"color\": \"#FF97FF\"}, \"name\": \"Category=COMICS\", \"offsetgroup\": \"Category=COMICS\", \"orientation\": \"v\", \"showlegend\": true, \"textposition\": \"auto\", \"type\": \"bar\", \"x\": [\"January\"], \"xaxis\": \"x\", \"y\": [1], \"yaxis\": \"y\"}, {\"alignmentgroup\": \"True\", \"hoverlabel\": {\"namelength\": 0}, \"hovertemplate\": \"Category=HOUSE_AND_HOME<br>Month=%{x}<br>NumberOfApps=%{y}\", \"legendgroup\": \"Category=HOUSE_AND_HOME\", \"marker\": {\"color\": \"#FECB52\"}, \"name\": \"Category=HOUSE_AND_HOME\", \"offsetgroup\": \"Category=HOUSE_AND_HOME\", \"orientation\": \"v\", \"showlegend\": true, \"textposition\": \"auto\", \"type\": \"bar\", \"x\": [\"March\"], \"xaxis\": \"x\", \"y\": [1], \"yaxis\": \"y\"}, {\"alignmentgroup\": \"True\", \"hoverlabel\": {\"namelength\": 0}, \"hovertemplate\": \"Category=AUTO_AND_VEHICLES<br>Month=%{x}<br>NumberOfApps=%{y}\", \"legendgroup\": \"Category=AUTO_AND_VEHICLES\", \"marker\": {\"color\": \"#636efa\"}, \"name\": \"Category=AUTO_AND_VEHICLES\", \"offsetgroup\": \"Category=AUTO_AND_VEHICLES\", \"orientation\": \"v\", \"showlegend\": true, \"textposition\": \"auto\", \"type\": \"bar\", \"x\": [\"November\", \"October\"], \"xaxis\": \"x\", \"y\": [1, 2], \"yaxis\": \"y\"}, {\"alignmentgroup\": \"True\", \"hoverlabel\": {\"namelength\": 0}, \"hovertemplate\": \"Category=BEAUTY<br>Month=%{x}<br>NumberOfApps=%{y}\", \"legendgroup\": \"Category=BEAUTY\", \"marker\": {\"color\": \"#EF553B\"}, \"name\": \"Category=BEAUTY\", \"offsetgroup\": \"Category=BEAUTY\", \"orientation\": \"v\", \"showlegend\": true, \"textposition\": \"auto\", \"type\": \"bar\", \"x\": [\"October\"], \"xaxis\": \"x\", \"y\": [1], \"yaxis\": \"y\"}],\n",
              "                        {\"barmode\": \"relative\", \"legend\": {\"tracegroupgap\": 0}, \"template\": {\"data\": {\"bar\": [{\"error_x\": {\"color\": \"#2a3f5f\"}, \"error_y\": {\"color\": \"#2a3f5f\"}, \"marker\": {\"line\": {\"color\": \"#E5ECF6\", \"width\": 0.5}}, \"type\": \"bar\"}], \"barpolar\": [{\"marker\": {\"line\": {\"color\": \"#E5ECF6\", \"width\": 0.5}}, \"type\": \"barpolar\"}], \"carpet\": [{\"aaxis\": {\"endlinecolor\": \"#2a3f5f\", \"gridcolor\": \"white\", \"linecolor\": \"white\", \"minorgridcolor\": \"white\", \"startlinecolor\": \"#2a3f5f\"}, \"baxis\": {\"endlinecolor\": \"#2a3f5f\", \"gridcolor\": \"white\", \"linecolor\": \"white\", \"minorgridcolor\": \"white\", \"startlinecolor\": \"#2a3f5f\"}, \"type\": \"carpet\"}], \"choropleth\": [{\"colorbar\": {\"outlinewidth\": 0, \"ticks\": \"\"}, \"type\": \"choropleth\"}], \"contour\": [{\"colorbar\": {\"outlinewidth\": 0, \"ticks\": \"\"}, \"colorscale\": [[0.0, \"#0d0887\"], [0.1111111111111111, \"#46039f\"], [0.2222222222222222, \"#7201a8\"], [0.3333333333333333, \"#9c179e\"], [0.4444444444444444, \"#bd3786\"], [0.5555555555555556, \"#d8576b\"], [0.6666666666666666, \"#ed7953\"], [0.7777777777777778, \"#fb9f3a\"], [0.8888888888888888, \"#fdca26\"], [1.0, \"#f0f921\"]], \"type\": \"contour\"}], \"contourcarpet\": [{\"colorbar\": {\"outlinewidth\": 0, \"ticks\": \"\"}, \"type\": \"contourcarpet\"}], \"heatmap\": [{\"colorbar\": {\"outlinewidth\": 0, \"ticks\": \"\"}, \"colorscale\": [[0.0, \"#0d0887\"], [0.1111111111111111, \"#46039f\"], [0.2222222222222222, \"#7201a8\"], [0.3333333333333333, \"#9c179e\"], [0.4444444444444444, \"#bd3786\"], [0.5555555555555556, \"#d8576b\"], [0.6666666666666666, \"#ed7953\"], [0.7777777777777778, \"#fb9f3a\"], [0.8888888888888888, \"#fdca26\"], [1.0, \"#f0f921\"]], \"type\": \"heatmap\"}], \"heatmapgl\": [{\"colorbar\": {\"outlinewidth\": 0, \"ticks\": \"\"}, \"colorscale\": [[0.0, \"#0d0887\"], [0.1111111111111111, \"#46039f\"], [0.2222222222222222, \"#7201a8\"], [0.3333333333333333, \"#9c179e\"], [0.4444444444444444, \"#bd3786\"], [0.5555555555555556, \"#d8576b\"], [0.6666666666666666, \"#ed7953\"], [0.7777777777777778, \"#fb9f3a\"], [0.8888888888888888, \"#fdca26\"], [1.0, \"#f0f921\"]], \"type\": \"heatmapgl\"}], \"histogram\": [{\"marker\": {\"colorbar\": {\"outlinewidth\": 0, \"ticks\": \"\"}}, \"type\": \"histogram\"}], \"histogram2d\": [{\"colorbar\": {\"outlinewidth\": 0, \"ticks\": \"\"}, \"colorscale\": [[0.0, \"#0d0887\"], [0.1111111111111111, \"#46039f\"], [0.2222222222222222, \"#7201a8\"], [0.3333333333333333, \"#9c179e\"], [0.4444444444444444, \"#bd3786\"], [0.5555555555555556, \"#d8576b\"], [0.6666666666666666, \"#ed7953\"], [0.7777777777777778, \"#fb9f3a\"], [0.8888888888888888, \"#fdca26\"], [1.0, \"#f0f921\"]], \"type\": \"histogram2d\"}], \"histogram2dcontour\": [{\"colorbar\": {\"outlinewidth\": 0, \"ticks\": \"\"}, \"colorscale\": [[0.0, \"#0d0887\"], [0.1111111111111111, \"#46039f\"], [0.2222222222222222, \"#7201a8\"], [0.3333333333333333, \"#9c179e\"], [0.4444444444444444, \"#bd3786\"], [0.5555555555555556, \"#d8576b\"], [0.6666666666666666, \"#ed7953\"], [0.7777777777777778, \"#fb9f3a\"], [0.8888888888888888, \"#fdca26\"], [1.0, \"#f0f921\"]], \"type\": \"histogram2dcontour\"}], \"mesh3d\": [{\"colorbar\": {\"outlinewidth\": 0, \"ticks\": \"\"}, \"type\": \"mesh3d\"}], \"parcoords\": [{\"line\": {\"colorbar\": {\"outlinewidth\": 0, \"ticks\": \"\"}}, \"type\": \"parcoords\"}], \"pie\": [{\"automargin\": true, \"type\": \"pie\"}], \"scatter\": [{\"marker\": {\"colorbar\": {\"outlinewidth\": 0, \"ticks\": \"\"}}, \"type\": \"scatter\"}], \"scatter3d\": [{\"line\": {\"colorbar\": {\"outlinewidth\": 0, \"ticks\": \"\"}}, \"marker\": {\"colorbar\": {\"outlinewidth\": 0, \"ticks\": \"\"}}, \"type\": \"scatter3d\"}], \"scattercarpet\": [{\"marker\": {\"colorbar\": {\"outlinewidth\": 0, \"ticks\": \"\"}}, \"type\": \"scattercarpet\"}], \"scattergeo\": [{\"marker\": {\"colorbar\": {\"outlinewidth\": 0, \"ticks\": \"\"}}, \"type\": \"scattergeo\"}], \"scattergl\": [{\"marker\": {\"colorbar\": {\"outlinewidth\": 0, \"ticks\": \"\"}}, \"type\": \"scattergl\"}], \"scattermapbox\": [{\"marker\": {\"colorbar\": {\"outlinewidth\": 0, \"ticks\": \"\"}}, \"type\": \"scattermapbox\"}], \"scatterpolar\": [{\"marker\": {\"colorbar\": {\"outlinewidth\": 0, \"ticks\": \"\"}}, \"type\": \"scatterpolar\"}], \"scatterpolargl\": [{\"marker\": {\"colorbar\": {\"outlinewidth\": 0, \"ticks\": \"\"}}, \"type\": \"scatterpolargl\"}], \"scatterternary\": [{\"marker\": {\"colorbar\": {\"outlinewidth\": 0, \"ticks\": \"\"}}, \"type\": \"scatterternary\"}], \"surface\": [{\"colorbar\": {\"outlinewidth\": 0, \"ticks\": \"\"}, \"colorscale\": [[0.0, \"#0d0887\"], [0.1111111111111111, \"#46039f\"], [0.2222222222222222, \"#7201a8\"], [0.3333333333333333, \"#9c179e\"], [0.4444444444444444, \"#bd3786\"], [0.5555555555555556, \"#d8576b\"], [0.6666666666666666, \"#ed7953\"], [0.7777777777777778, \"#fb9f3a\"], [0.8888888888888888, \"#fdca26\"], [1.0, \"#f0f921\"]], \"type\": \"surface\"}], \"table\": [{\"cells\": {\"fill\": {\"color\": \"#EBF0F8\"}, \"line\": {\"color\": \"white\"}}, \"header\": {\"fill\": {\"color\": \"#C8D4E3\"}, \"line\": {\"color\": \"white\"}}, \"type\": \"table\"}]}, \"layout\": {\"annotationdefaults\": {\"arrowcolor\": \"#2a3f5f\", \"arrowhead\": 0, \"arrowwidth\": 1}, \"coloraxis\": {\"colorbar\": {\"outlinewidth\": 0, \"ticks\": \"\"}}, \"colorscale\": {\"diverging\": [[0, \"#8e0152\"], [0.1, \"#c51b7d\"], [0.2, \"#de77ae\"], [0.3, \"#f1b6da\"], [0.4, \"#fde0ef\"], [0.5, \"#f7f7f7\"], [0.6, \"#e6f5d0\"], [0.7, \"#b8e186\"], [0.8, \"#7fbc41\"], [0.9, \"#4d9221\"], [1, \"#276419\"]], \"sequential\": [[0.0, \"#0d0887\"], [0.1111111111111111, \"#46039f\"], [0.2222222222222222, \"#7201a8\"], [0.3333333333333333, \"#9c179e\"], [0.4444444444444444, \"#bd3786\"], [0.5555555555555556, \"#d8576b\"], [0.6666666666666666, \"#ed7953\"], [0.7777777777777778, \"#fb9f3a\"], [0.8888888888888888, \"#fdca26\"], [1.0, \"#f0f921\"]], \"sequentialminus\": [[0.0, \"#0d0887\"], [0.1111111111111111, \"#46039f\"], [0.2222222222222222, \"#7201a8\"], [0.3333333333333333, \"#9c179e\"], [0.4444444444444444, \"#bd3786\"], [0.5555555555555556, \"#d8576b\"], [0.6666666666666666, \"#ed7953\"], [0.7777777777777778, \"#fb9f3a\"], [0.8888888888888888, \"#fdca26\"], [1.0, \"#f0f921\"]]}, \"colorway\": [\"#636efa\", \"#EF553B\", \"#00cc96\", \"#ab63fa\", \"#FFA15A\", \"#19d3f3\", \"#FF6692\", \"#B6E880\", \"#FF97FF\", \"#FECB52\"], \"font\": {\"color\": \"#2a3f5f\"}, \"geo\": {\"bgcolor\": \"white\", \"lakecolor\": \"white\", \"landcolor\": \"#E5ECF6\", \"showlakes\": true, \"showland\": true, \"subunitcolor\": \"white\"}, \"hoverlabel\": {\"align\": \"left\"}, \"hovermode\": \"closest\", \"mapbox\": {\"style\": \"light\"}, \"paper_bgcolor\": \"white\", \"plot_bgcolor\": \"#E5ECF6\", \"polar\": {\"angularaxis\": {\"gridcolor\": \"white\", \"linecolor\": \"white\", \"ticks\": \"\"}, \"bgcolor\": \"#E5ECF6\", \"radialaxis\": {\"gridcolor\": \"white\", \"linecolor\": \"white\", \"ticks\": \"\"}}, \"scene\": {\"xaxis\": {\"backgroundcolor\": \"#E5ECF6\", \"gridcolor\": \"white\", \"gridwidth\": 2, \"linecolor\": \"white\", \"showbackground\": true, \"ticks\": \"\", \"zerolinecolor\": \"white\"}, \"yaxis\": {\"backgroundcolor\": \"#E5ECF6\", \"gridcolor\": \"white\", \"gridwidth\": 2, \"linecolor\": \"white\", \"showbackground\": true, \"ticks\": \"\", \"zerolinecolor\": \"white\"}, \"zaxis\": {\"backgroundcolor\": \"#E5ECF6\", \"gridcolor\": \"white\", \"gridwidth\": 2, \"linecolor\": \"white\", \"showbackground\": true, \"ticks\": \"\", \"zerolinecolor\": \"white\"}}, \"shapedefaults\": {\"line\": {\"color\": \"#2a3f5f\"}}, \"ternary\": {\"aaxis\": {\"gridcolor\": \"white\", \"linecolor\": \"white\", \"ticks\": \"\"}, \"baxis\": {\"gridcolor\": \"white\", \"linecolor\": \"white\", \"ticks\": \"\"}, \"bgcolor\": \"#E5ECF6\", \"caxis\": {\"gridcolor\": \"white\", \"linecolor\": \"white\", \"ticks\": \"\"}}, \"title\": {\"x\": 0.05}, \"xaxis\": {\"automargin\": true, \"gridcolor\": \"white\", \"linecolor\": \"white\", \"ticks\": \"\", \"title\": {\"standoff\": 15}, \"zerolinecolor\": \"white\", \"zerolinewidth\": 2}, \"yaxis\": {\"automargin\": true, \"gridcolor\": \"white\", \"linecolor\": \"white\", \"ticks\": \"\", \"title\": {\"standoff\": 15}, \"zerolinecolor\": \"white\", \"zerolinewidth\": 2}}}, \"title\": {\"text\": \"2016 Monthly Category Trend\"}, \"xaxis\": {\"anchor\": \"y\", \"categoryarray\": [\"January\", \"February\", \"March\", \"April\", \"May\", \"June\", \"July\", \"August\", \"September\", \"October\", \"November\", \"December\"], \"categoryorder\": \"array\", \"domain\": [0.0, 1.0], \"title\": {\"text\": \"Month\"}}, \"yaxis\": {\"anchor\": \"x\", \"domain\": [0.0, 1.0], \"title\": {\"text\": \"NumberOfApps\"}}},\n",
              "                        {\"responsive\": true}\n",
              "                    ).then(function(){\n",
              "                            \n",
              "var gd = document.getElementById('d9792388-5685-4c75-a15c-0e5de112d193');\n",
              "var x = new MutationObserver(function (mutations, observer) {{\n",
              "        var display = window.getComputedStyle(gd).display;\n",
              "        if (!display || display === 'none') {{\n",
              "            console.log([gd, 'removed!']);\n",
              "            Plotly.purge(gd);\n",
              "            observer.disconnect();\n",
              "        }}\n",
              "}});\n",
              "\n",
              "// Listen for the removal of the full notebook cells\n",
              "var notebookContainer = gd.closest('#notebook-container');\n",
              "if (notebookContainer) {{\n",
              "    x.observe(notebookContainer, {childList: true});\n",
              "}}\n",
              "\n",
              "// Listen for the clearing of the current output cell\n",
              "var outputEl = gd.closest('.output');\n",
              "if (outputEl) {{\n",
              "    x.observe(outputEl, {childList: true});\n",
              "}}\n",
              "\n",
              "                        })\n",
              "                };\n",
              "                \n",
              "            </script>\n",
              "        </div>\n",
              "</body>\n",
              "</html>"
            ]
          },
          "metadata": {}
        },
        {
          "output_type": "display_data",
          "data": {
            "text/html": [
              "<html>\n",
              "<head><meta charset=\"utf-8\" /></head>\n",
              "<body>\n",
              "    <div>\n",
              "            <script src=\"https://cdnjs.cloudflare.com/ajax/libs/mathjax/2.7.5/MathJax.js?config=TeX-AMS-MML_SVG\"></script><script type=\"text/javascript\">if (window.MathJax) {MathJax.Hub.Config({SVG: {font: \"STIX-Web\"}});}</script>\n",
              "                <script type=\"text/javascript\">window.PlotlyConfig = {MathJaxConfig: 'local'};</script>\n",
              "        <script src=\"https://cdn.plot.ly/plotly-latest.min.js\"></script>    \n",
              "            <div id=\"838465b8-62e2-485a-891c-3e5e51d1ccaf\" class=\"plotly-graph-div\" style=\"height:525px; width:100%;\"></div>\n",
              "            <script type=\"text/javascript\">\n",
              "                \n",
              "                    window.PLOTLYENV=window.PLOTLYENV || {};\n",
              "                    \n",
              "                if (document.getElementById(\"838465b8-62e2-485a-891c-3e5e51d1ccaf\")) {\n",
              "                    Plotly.newPlot(\n",
              "                        '838465b8-62e2-485a-891c-3e5e51d1ccaf',\n",
              "                        [{\"alignmentgroup\": \"True\", \"hoverlabel\": {\"namelength\": 0}, \"hovertemplate\": \"Category=EDUCATION<br>Month=%{x}<br>NumberOfApps=%{y}\", \"legendgroup\": \"Category=EDUCATION\", \"marker\": {\"color\": \"#636efa\"}, \"name\": \"Category=EDUCATION\", \"offsetgroup\": \"Category=EDUCATION\", \"orientation\": \"v\", \"showlegend\": true, \"textposition\": \"auto\", \"type\": \"bar\", \"x\": [\"April\", \"August\", \"January\", \"July\", \"June\"], \"xaxis\": \"x\", \"y\": [1, 1, 1, 1, 1], \"yaxis\": \"y\"}, {\"alignmentgroup\": \"True\", \"hoverlabel\": {\"namelength\": 0}, \"hovertemplate\": \"Category=FAMILY<br>Month=%{x}<br>NumberOfApps=%{y}\", \"legendgroup\": \"Category=FAMILY\", \"marker\": {\"color\": \"#EF553B\"}, \"name\": \"Category=FAMILY\", \"offsetgroup\": \"Category=FAMILY\", \"orientation\": \"v\", \"showlegend\": true, \"textposition\": \"auto\", \"type\": \"bar\", \"x\": [\"April\", \"August\", \"December\", \"February\", \"January\", \"July\", \"June\", \"March\", \"May\", \"November\", \"October\", \"September\"], \"xaxis\": \"x\", \"y\": [6, 13, 7, 4, 6, 6, 20, 2, 8, 8, 11, 11], \"yaxis\": \"y\"}, {\"alignmentgroup\": \"True\", \"hoverlabel\": {\"namelength\": 0}, \"hovertemplate\": \"Category=GAME<br>Month=%{x}<br>NumberOfApps=%{y}\", \"legendgroup\": \"Category=GAME\", \"marker\": {\"color\": \"#00cc96\"}, \"name\": \"Category=GAME\", \"offsetgroup\": \"Category=GAME\", \"orientation\": \"v\", \"showlegend\": true, \"textposition\": \"auto\", \"type\": \"bar\", \"x\": [\"April\", \"August\", \"December\", \"February\", \"January\", \"July\", \"June\", \"March\", \"May\", \"November\", \"October\", \"September\"], \"xaxis\": \"x\", \"y\": [5, 8, 6, 4, 1, 10, 3, 3, 4, 8, 4, 6], \"yaxis\": \"y\"}, {\"alignmentgroup\": \"True\", \"hoverlabel\": {\"namelength\": 0}, \"hovertemplate\": \"Category=HOUSE_AND_HOME<br>Month=%{x}<br>NumberOfApps=%{y}\", \"legendgroup\": \"Category=HOUSE_AND_HOME\", \"marker\": {\"color\": \"#ab63fa\"}, \"name\": \"Category=HOUSE_AND_HOME\", \"offsetgroup\": \"Category=HOUSE_AND_HOME\", \"orientation\": \"v\", \"showlegend\": true, \"textposition\": \"auto\", \"type\": \"bar\", \"x\": [\"April\", \"March\", \"May\"], \"xaxis\": \"x\", \"y\": [1, 5, 1], \"yaxis\": \"y\"}, {\"alignmentgroup\": \"True\", \"hoverlabel\": {\"namelength\": 0}, \"hovertemplate\": \"Category=LIFESTYLE<br>Month=%{x}<br>NumberOfApps=%{y}\", \"legendgroup\": \"Category=LIFESTYLE\", \"marker\": {\"color\": \"#FFA15A\"}, \"name\": \"Category=LIFESTYLE\", \"offsetgroup\": \"Category=LIFESTYLE\", \"orientation\": \"v\", \"showlegend\": true, \"textposition\": \"auto\", \"type\": \"bar\", \"x\": [\"April\", \"August\", \"December\", \"July\", \"June\", \"March\", \"May\", \"November\", \"October\", \"September\"], \"xaxis\": \"x\", \"y\": [1, 2, 3, 1, 1, 3, 1, 1, 2, 3], \"yaxis\": \"y\"}, {\"alignmentgroup\": \"True\", \"hoverlabel\": {\"namelength\": 0}, \"hovertemplate\": \"Category=MAPS_AND_NAVIGATION<br>Month=%{x}<br>NumberOfApps=%{y}\", \"legendgroup\": \"Category=MAPS_AND_NAVIGATION\", \"marker\": {\"color\": \"#19d3f3\"}, \"name\": \"Category=MAPS_AND_NAVIGATION\", \"offsetgroup\": \"Category=MAPS_AND_NAVIGATION\", \"orientation\": \"v\", \"showlegend\": true, \"textposition\": \"auto\", \"type\": \"bar\", \"x\": [\"April\", \"August\", \"January\"], \"xaxis\": \"x\", \"y\": [1, 1, 1], \"yaxis\": \"y\"}, {\"alignmentgroup\": \"True\", \"hoverlabel\": {\"namelength\": 0}, \"hovertemplate\": \"Category=PERSONALIZATION<br>Month=%{x}<br>NumberOfApps=%{y}\", \"legendgroup\": \"Category=PERSONALIZATION\", \"marker\": {\"color\": \"#FF6692\"}, \"name\": \"Category=PERSONALIZATION\", \"offsetgroup\": \"Category=PERSONALIZATION\", \"orientation\": \"v\", \"showlegend\": true, \"textposition\": \"auto\", \"type\": \"bar\", \"x\": [\"April\", \"August\", \"December\", \"January\", \"July\", \"June\", \"March\", \"November\", \"October\", \"September\"], \"xaxis\": \"x\", \"y\": [1, 3, 2, 3, 1, 1, 7, 1, 2, 3], \"yaxis\": \"y\"}, {\"alignmentgroup\": \"True\", \"hoverlabel\": {\"namelength\": 0}, \"hovertemplate\": \"Category=SOCIAL<br>Month=%{x}<br>NumberOfApps=%{y}\", \"legendgroup\": \"Category=SOCIAL\", \"marker\": {\"color\": \"#B6E880\"}, \"name\": \"Category=SOCIAL\", \"offsetgroup\": \"Category=SOCIAL\", \"orientation\": \"v\", \"showlegend\": true, \"textposition\": \"auto\", \"type\": \"bar\", \"x\": [\"April\", \"July\", \"June\", \"March\", \"May\", \"October\", \"September\"], \"xaxis\": \"x\", \"y\": [1, 1, 1, 1, 2, 2, 1], \"yaxis\": \"y\"}, {\"alignmentgroup\": \"True\", \"hoverlabel\": {\"namelength\": 0}, \"hovertemplate\": \"Category=TOOLS<br>Month=%{x}<br>NumberOfApps=%{y}\", \"legendgroup\": \"Category=TOOLS\", \"marker\": {\"color\": \"#FF97FF\"}, \"name\": \"Category=TOOLS\", \"offsetgroup\": \"Category=TOOLS\", \"orientation\": \"v\", \"showlegend\": true, \"textposition\": \"auto\", \"type\": \"bar\", \"x\": [\"April\", \"August\", \"December\", \"February\", \"January\", \"July\", \"June\", \"March\", \"May\", \"November\", \"October\", \"September\"], \"xaxis\": \"x\", \"y\": [1, 3, 5, 3, 3, 1, 2, 14, 4, 6, 6, 1], \"yaxis\": \"y\"}, {\"alignmentgroup\": \"True\", \"hoverlabel\": {\"namelength\": 0}, \"hovertemplate\": \"Category=VIDEO_PLAYERS<br>Month=%{x}<br>NumberOfApps=%{y}\", \"legendgroup\": \"Category=VIDEO_PLAYERS\", \"marker\": {\"color\": \"#FECB52\"}, \"name\": \"Category=VIDEO_PLAYERS\", \"offsetgroup\": \"Category=VIDEO_PLAYERS\", \"orientation\": \"v\", \"showlegend\": true, \"textposition\": \"auto\", \"type\": \"bar\", \"x\": [\"April\", \"August\", \"December\", \"February\", \"June\", \"November\", \"October\"], \"xaxis\": \"x\", \"y\": [1, 1, 1, 2, 2, 3, 2], \"yaxis\": \"y\"}, {\"alignmentgroup\": \"True\", \"hoverlabel\": {\"namelength\": 0}, \"hovertemplate\": \"Category=BOOKS_AND_REFERENCE<br>Month=%{x}<br>NumberOfApps=%{y}\", \"legendgroup\": \"Category=BOOKS_AND_REFERENCE\", \"marker\": {\"color\": \"#636efa\"}, \"name\": \"Category=BOOKS_AND_REFERENCE\", \"offsetgroup\": \"Category=BOOKS_AND_REFERENCE\", \"orientation\": \"v\", \"showlegend\": true, \"textposition\": \"auto\", \"type\": \"bar\", \"x\": [\"August\", \"December\", \"February\", \"January\", \"July\", \"June\", \"March\", \"May\", \"October\", \"September\"], \"xaxis\": \"x\", \"y\": [2, 3, 1, 2, 1, 3, 1, 1, 1, 8], \"yaxis\": \"y\"}, {\"alignmentgroup\": \"True\", \"hoverlabel\": {\"namelength\": 0}, \"hovertemplate\": \"Category=BUSINESS<br>Month=%{x}<br>NumberOfApps=%{y}\", \"legendgroup\": \"Category=BUSINESS\", \"marker\": {\"color\": \"#EF553B\"}, \"name\": \"Category=BUSINESS\", \"offsetgroup\": \"Category=BUSINESS\", \"orientation\": \"v\", \"showlegend\": true, \"textposition\": \"auto\", \"type\": \"bar\", \"x\": [\"August\", \"December\", \"February\", \"January\", \"July\", \"June\", \"March\", \"May\", \"November\", \"October\", \"September\"], \"xaxis\": \"x\", \"y\": [1, 2, 1, 1, 3, 2, 3, 2, 2, 5, 2], \"yaxis\": \"y\"}, {\"alignmentgroup\": \"True\", \"hoverlabel\": {\"namelength\": 0}, \"hovertemplate\": \"Category=COMMUNICATION<br>Month=%{x}<br>NumberOfApps=%{y}\", \"legendgroup\": \"Category=COMMUNICATION\", \"marker\": {\"color\": \"#00cc96\"}, \"name\": \"Category=COMMUNICATION\", \"offsetgroup\": \"Category=COMMUNICATION\", \"orientation\": \"v\", \"showlegend\": true, \"textposition\": \"auto\", \"type\": \"bar\", \"x\": [\"August\", \"December\", \"February\", \"January\", \"July\", \"March\", \"May\", \"November\", \"October\", \"September\"], \"xaxis\": \"x\", \"y\": [3, 2, 3, 1, 1, 1, 3, 1, 2, 3], \"yaxis\": \"y\"}, {\"alignmentgroup\": \"True\", \"hoverlabel\": {\"namelength\": 0}, \"hovertemplate\": \"Category=HEALTH_AND_FITNESS<br>Month=%{x}<br>NumberOfApps=%{y}\", \"legendgroup\": \"Category=HEALTH_AND_FITNESS\", \"marker\": {\"color\": \"#ab63fa\"}, \"name\": \"Category=HEALTH_AND_FITNESS\", \"offsetgroup\": \"Category=HEALTH_AND_FITNESS\", \"orientation\": \"v\", \"showlegend\": true, \"textposition\": \"auto\", \"type\": \"bar\", \"x\": [\"August\", \"December\", \"January\", \"June\", \"October\", \"September\"], \"xaxis\": \"x\", \"y\": [1, 1, 1, 1, 3, 1], \"yaxis\": \"y\"}, {\"alignmentgroup\": \"True\", \"hoverlabel\": {\"namelength\": 0}, \"hovertemplate\": \"Category=MEDICAL<br>Month=%{x}<br>NumberOfApps=%{y}\", \"legendgroup\": \"Category=MEDICAL\", \"marker\": {\"color\": \"#FFA15A\"}, \"name\": \"Category=MEDICAL\", \"offsetgroup\": \"Category=MEDICAL\", \"orientation\": \"v\", \"showlegend\": true, \"textposition\": \"auto\", \"type\": \"bar\", \"x\": [\"August\", \"December\", \"February\", \"January\", \"July\", \"March\", \"May\", \"November\", \"October\"], \"xaxis\": \"x\", \"y\": [2, 2, 1, 2, 2, 1, 5, 1, 1], \"yaxis\": \"y\"}, {\"alignmentgroup\": \"True\", \"hoverlabel\": {\"namelength\": 0}, \"hovertemplate\": \"Category=PHOTOGRAPHY<br>Month=%{x}<br>NumberOfApps=%{y}\", \"legendgroup\": \"Category=PHOTOGRAPHY\", \"marker\": {\"color\": \"#19d3f3\"}, \"name\": \"Category=PHOTOGRAPHY\", \"offsetgroup\": \"Category=PHOTOGRAPHY\", \"orientation\": \"v\", \"showlegend\": true, \"textposition\": \"auto\", \"type\": \"bar\", \"x\": [\"August\", \"February\", \"July\", \"June\", \"October\", \"September\"], \"xaxis\": \"x\", \"y\": [3, 3, 2, 2, 1, 3], \"yaxis\": \"y\"}, {\"alignmentgroup\": \"True\", \"hoverlabel\": {\"namelength\": 0}, \"hovertemplate\": \"Category=SPORTS<br>Month=%{x}<br>NumberOfApps=%{y}\", \"legendgroup\": \"Category=SPORTS\", \"marker\": {\"color\": \"#FF6692\"}, \"name\": \"Category=SPORTS\", \"offsetgroup\": \"Category=SPORTS\", \"orientation\": \"v\", \"showlegend\": true, \"textposition\": \"auto\", \"type\": \"bar\", \"x\": [\"August\", \"December\", \"February\", \"January\", \"May\", \"September\"], \"xaxis\": \"x\", \"y\": [1, 1, 1, 1, 2, 3], \"yaxis\": \"y\"}, {\"alignmentgroup\": \"True\", \"hoverlabel\": {\"namelength\": 0}, \"hovertemplate\": \"Category=TRAVEL_AND_LOCAL<br>Month=%{x}<br>NumberOfApps=%{y}\", \"legendgroup\": \"Category=TRAVEL_AND_LOCAL\", \"marker\": {\"color\": \"#B6E880\"}, \"name\": \"Category=TRAVEL_AND_LOCAL\", \"offsetgroup\": \"Category=TRAVEL_AND_LOCAL\", \"orientation\": \"v\", \"showlegend\": true, \"textposition\": \"auto\", \"type\": \"bar\", \"x\": [\"August\", \"December\", \"July\", \"October\"], \"xaxis\": \"x\", \"y\": [1, 1, 2, 2], \"yaxis\": \"y\"}, {\"alignmentgroup\": \"True\", \"hoverlabel\": {\"namelength\": 0}, \"hovertemplate\": \"Category=FINANCE<br>Month=%{x}<br>NumberOfApps=%{y}\", \"legendgroup\": \"Category=FINANCE\", \"marker\": {\"color\": \"#FF97FF\"}, \"name\": \"Category=FINANCE\", \"offsetgroup\": \"Category=FINANCE\", \"orientation\": \"v\", \"showlegend\": true, \"textposition\": \"auto\", \"type\": \"bar\", \"x\": [\"December\", \"January\", \"June\", \"November\"], \"xaxis\": \"x\", \"y\": [2, 1, 1, 1], \"yaxis\": \"y\"}, {\"alignmentgroup\": \"True\", \"hoverlabel\": {\"namelength\": 0}, \"hovertemplate\": \"Category=NEWS_AND_MAGAZINES<br>Month=%{x}<br>NumberOfApps=%{y}\", \"legendgroup\": \"Category=NEWS_AND_MAGAZINES\", \"marker\": {\"color\": \"#FECB52\"}, \"name\": \"Category=NEWS_AND_MAGAZINES\", \"offsetgroup\": \"Category=NEWS_AND_MAGAZINES\", \"orientation\": \"v\", \"showlegend\": true, \"textposition\": \"auto\", \"type\": \"bar\", \"x\": [\"December\", \"July\", \"October\"], \"xaxis\": \"x\", \"y\": [3, 2, 1], \"yaxis\": \"y\"}, {\"alignmentgroup\": \"True\", \"hoverlabel\": {\"namelength\": 0}, \"hovertemplate\": \"Category=PRODUCTIVITY<br>Month=%{x}<br>NumberOfApps=%{y}\", \"legendgroup\": \"Category=PRODUCTIVITY\", \"marker\": {\"color\": \"#636efa\"}, \"name\": \"Category=PRODUCTIVITY\", \"offsetgroup\": \"Category=PRODUCTIVITY\", \"orientation\": \"v\", \"showlegend\": true, \"textposition\": \"auto\", \"type\": \"bar\", \"x\": [\"December\", \"July\", \"June\", \"March\", \"May\", \"November\", \"October\", \"September\"], \"xaxis\": \"x\", \"y\": [5, 1, 2, 1, 6, 2, 2, 1], \"yaxis\": \"y\"}, {\"alignmentgroup\": \"True\", \"hoverlabel\": {\"namelength\": 0}, \"hovertemplate\": \"Category=SHOPPING<br>Month=%{x}<br>NumberOfApps=%{y}\", \"legendgroup\": \"Category=SHOPPING\", \"marker\": {\"color\": \"#EF553B\"}, \"name\": \"Category=SHOPPING\", \"offsetgroup\": \"Category=SHOPPING\", \"orientation\": \"v\", \"showlegend\": true, \"textposition\": \"auto\", \"type\": \"bar\", \"x\": [\"February\", \"July\", \"June\"], \"xaxis\": \"x\", \"y\": [1, 1, 1], \"yaxis\": \"y\"}, {\"alignmentgroup\": \"True\", \"hoverlabel\": {\"namelength\": 0}, \"hovertemplate\": \"Category=ENTERTAINMENT<br>Month=%{x}<br>NumberOfApps=%{y}\", \"legendgroup\": \"Category=ENTERTAINMENT\", \"marker\": {\"color\": \"#00cc96\"}, \"name\": \"Category=ENTERTAINMENT\", \"offsetgroup\": \"Category=ENTERTAINMENT\", \"orientation\": \"v\", \"showlegend\": true, \"textposition\": \"auto\", \"type\": \"bar\", \"x\": [\"July\", \"September\"], \"xaxis\": \"x\", \"y\": [1, 2], \"yaxis\": \"y\"}, {\"alignmentgroup\": \"True\", \"hoverlabel\": {\"namelength\": 0}, \"hovertemplate\": \"Category=WEATHER<br>Month=%{x}<br>NumberOfApps=%{y}\", \"legendgroup\": \"Category=WEATHER\", \"marker\": {\"color\": \"#ab63fa\"}, \"name\": \"Category=WEATHER\", \"offsetgroup\": \"Category=WEATHER\", \"orientation\": \"v\", \"showlegend\": true, \"textposition\": \"auto\", \"type\": \"bar\", \"x\": [\"May\"], \"xaxis\": \"x\", \"y\": [2], \"yaxis\": \"y\"}, {\"alignmentgroup\": \"True\", \"hoverlabel\": {\"namelength\": 0}, \"hovertemplate\": \"Category=LIBRARIES_AND_DEMO<br>Month=%{x}<br>NumberOfApps=%{y}\", \"legendgroup\": \"Category=LIBRARIES_AND_DEMO\", \"marker\": {\"color\": \"#FFA15A\"}, \"name\": \"Category=LIBRARIES_AND_DEMO\", \"offsetgroup\": \"Category=LIBRARIES_AND_DEMO\", \"orientation\": \"v\", \"showlegend\": true, \"textposition\": \"auto\", \"type\": \"bar\", \"x\": [\"October\", \"September\"], \"xaxis\": \"x\", \"y\": [1, 1], \"yaxis\": \"y\"}, {\"alignmentgroup\": \"True\", \"hoverlabel\": {\"namelength\": 0}, \"hovertemplate\": \"Category=COMICS<br>Month=%{x}<br>NumberOfApps=%{y}\", \"legendgroup\": \"Category=COMICS\", \"marker\": {\"color\": \"#19d3f3\"}, \"name\": \"Category=COMICS\", \"offsetgroup\": \"Category=COMICS\", \"orientation\": \"v\", \"showlegend\": true, \"textposition\": \"auto\", \"type\": \"bar\", \"x\": [\"September\"], \"xaxis\": \"x\", \"y\": [1], \"yaxis\": \"y\"}],\n",
              "                        {\"barmode\": \"relative\", \"legend\": {\"tracegroupgap\": 0}, \"template\": {\"data\": {\"bar\": [{\"error_x\": {\"color\": \"#2a3f5f\"}, \"error_y\": {\"color\": \"#2a3f5f\"}, \"marker\": {\"line\": {\"color\": \"#E5ECF6\", \"width\": 0.5}}, \"type\": \"bar\"}], \"barpolar\": [{\"marker\": {\"line\": {\"color\": \"#E5ECF6\", \"width\": 0.5}}, \"type\": \"barpolar\"}], \"carpet\": [{\"aaxis\": {\"endlinecolor\": \"#2a3f5f\", \"gridcolor\": \"white\", \"linecolor\": \"white\", \"minorgridcolor\": \"white\", \"startlinecolor\": \"#2a3f5f\"}, \"baxis\": {\"endlinecolor\": \"#2a3f5f\", \"gridcolor\": \"white\", \"linecolor\": \"white\", \"minorgridcolor\": \"white\", \"startlinecolor\": \"#2a3f5f\"}, \"type\": \"carpet\"}], \"choropleth\": [{\"colorbar\": {\"outlinewidth\": 0, \"ticks\": \"\"}, \"type\": \"choropleth\"}], \"contour\": [{\"colorbar\": {\"outlinewidth\": 0, \"ticks\": \"\"}, \"colorscale\": [[0.0, \"#0d0887\"], [0.1111111111111111, \"#46039f\"], [0.2222222222222222, \"#7201a8\"], [0.3333333333333333, \"#9c179e\"], [0.4444444444444444, \"#bd3786\"], [0.5555555555555556, \"#d8576b\"], [0.6666666666666666, \"#ed7953\"], [0.7777777777777778, \"#fb9f3a\"], [0.8888888888888888, \"#fdca26\"], [1.0, \"#f0f921\"]], \"type\": \"contour\"}], \"contourcarpet\": [{\"colorbar\": {\"outlinewidth\": 0, \"ticks\": \"\"}, \"type\": \"contourcarpet\"}], \"heatmap\": [{\"colorbar\": {\"outlinewidth\": 0, \"ticks\": \"\"}, \"colorscale\": [[0.0, \"#0d0887\"], [0.1111111111111111, \"#46039f\"], [0.2222222222222222, \"#7201a8\"], [0.3333333333333333, \"#9c179e\"], [0.4444444444444444, \"#bd3786\"], [0.5555555555555556, \"#d8576b\"], [0.6666666666666666, \"#ed7953\"], [0.7777777777777778, \"#fb9f3a\"], [0.8888888888888888, \"#fdca26\"], [1.0, \"#f0f921\"]], \"type\": \"heatmap\"}], \"heatmapgl\": [{\"colorbar\": {\"outlinewidth\": 0, \"ticks\": \"\"}, \"colorscale\": [[0.0, \"#0d0887\"], [0.1111111111111111, \"#46039f\"], [0.2222222222222222, \"#7201a8\"], [0.3333333333333333, \"#9c179e\"], [0.4444444444444444, \"#bd3786\"], [0.5555555555555556, \"#d8576b\"], [0.6666666666666666, \"#ed7953\"], [0.7777777777777778, \"#fb9f3a\"], [0.8888888888888888, \"#fdca26\"], [1.0, \"#f0f921\"]], \"type\": \"heatmapgl\"}], \"histogram\": [{\"marker\": {\"colorbar\": {\"outlinewidth\": 0, \"ticks\": \"\"}}, \"type\": \"histogram\"}], \"histogram2d\": [{\"colorbar\": {\"outlinewidth\": 0, \"ticks\": \"\"}, \"colorscale\": [[0.0, \"#0d0887\"], [0.1111111111111111, \"#46039f\"], [0.2222222222222222, \"#7201a8\"], [0.3333333333333333, \"#9c179e\"], [0.4444444444444444, \"#bd3786\"], [0.5555555555555556, \"#d8576b\"], [0.6666666666666666, \"#ed7953\"], [0.7777777777777778, \"#fb9f3a\"], [0.8888888888888888, \"#fdca26\"], [1.0, \"#f0f921\"]], \"type\": \"histogram2d\"}], \"histogram2dcontour\": [{\"colorbar\": {\"outlinewidth\": 0, \"ticks\": \"\"}, \"colorscale\": [[0.0, \"#0d0887\"], [0.1111111111111111, \"#46039f\"], [0.2222222222222222, \"#7201a8\"], [0.3333333333333333, \"#9c179e\"], [0.4444444444444444, \"#bd3786\"], [0.5555555555555556, \"#d8576b\"], [0.6666666666666666, \"#ed7953\"], [0.7777777777777778, \"#fb9f3a\"], [0.8888888888888888, \"#fdca26\"], [1.0, \"#f0f921\"]], \"type\": \"histogram2dcontour\"}], \"mesh3d\": [{\"colorbar\": {\"outlinewidth\": 0, \"ticks\": \"\"}, \"type\": \"mesh3d\"}], \"parcoords\": [{\"line\": {\"colorbar\": {\"outlinewidth\": 0, \"ticks\": \"\"}}, \"type\": \"parcoords\"}], \"pie\": [{\"automargin\": true, \"type\": \"pie\"}], \"scatter\": [{\"marker\": {\"colorbar\": {\"outlinewidth\": 0, \"ticks\": \"\"}}, \"type\": \"scatter\"}], \"scatter3d\": [{\"line\": {\"colorbar\": {\"outlinewidth\": 0, \"ticks\": \"\"}}, \"marker\": {\"colorbar\": {\"outlinewidth\": 0, \"ticks\": \"\"}}, \"type\": \"scatter3d\"}], \"scattercarpet\": [{\"marker\": {\"colorbar\": {\"outlinewidth\": 0, \"ticks\": \"\"}}, \"type\": \"scattercarpet\"}], \"scattergeo\": [{\"marker\": {\"colorbar\": {\"outlinewidth\": 0, \"ticks\": \"\"}}, \"type\": \"scattergeo\"}], \"scattergl\": [{\"marker\": {\"colorbar\": {\"outlinewidth\": 0, \"ticks\": \"\"}}, \"type\": \"scattergl\"}], \"scattermapbox\": [{\"marker\": {\"colorbar\": {\"outlinewidth\": 0, \"ticks\": \"\"}}, \"type\": \"scattermapbox\"}], \"scatterpolar\": [{\"marker\": {\"colorbar\": {\"outlinewidth\": 0, \"ticks\": \"\"}}, \"type\": \"scatterpolar\"}], \"scatterpolargl\": [{\"marker\": {\"colorbar\": {\"outlinewidth\": 0, \"ticks\": \"\"}}, \"type\": \"scatterpolargl\"}], \"scatterternary\": [{\"marker\": {\"colorbar\": {\"outlinewidth\": 0, \"ticks\": \"\"}}, \"type\": \"scatterternary\"}], \"surface\": [{\"colorbar\": {\"outlinewidth\": 0, \"ticks\": \"\"}, \"colorscale\": [[0.0, \"#0d0887\"], [0.1111111111111111, \"#46039f\"], [0.2222222222222222, \"#7201a8\"], [0.3333333333333333, \"#9c179e\"], [0.4444444444444444, \"#bd3786\"], [0.5555555555555556, \"#d8576b\"], [0.6666666666666666, \"#ed7953\"], [0.7777777777777778, \"#fb9f3a\"], [0.8888888888888888, \"#fdca26\"], [1.0, \"#f0f921\"]], \"type\": \"surface\"}], \"table\": [{\"cells\": {\"fill\": {\"color\": \"#EBF0F8\"}, \"line\": {\"color\": \"white\"}}, \"header\": {\"fill\": {\"color\": \"#C8D4E3\"}, \"line\": {\"color\": \"white\"}}, \"type\": \"table\"}]}, \"layout\": {\"annotationdefaults\": {\"arrowcolor\": \"#2a3f5f\", \"arrowhead\": 0, \"arrowwidth\": 1}, \"coloraxis\": {\"colorbar\": {\"outlinewidth\": 0, \"ticks\": \"\"}}, \"colorscale\": {\"diverging\": [[0, \"#8e0152\"], [0.1, \"#c51b7d\"], [0.2, \"#de77ae\"], [0.3, \"#f1b6da\"], [0.4, \"#fde0ef\"], [0.5, \"#f7f7f7\"], [0.6, \"#e6f5d0\"], [0.7, \"#b8e186\"], [0.8, \"#7fbc41\"], [0.9, \"#4d9221\"], [1, \"#276419\"]], \"sequential\": [[0.0, \"#0d0887\"], [0.1111111111111111, \"#46039f\"], [0.2222222222222222, \"#7201a8\"], [0.3333333333333333, \"#9c179e\"], [0.4444444444444444, \"#bd3786\"], [0.5555555555555556, \"#d8576b\"], [0.6666666666666666, \"#ed7953\"], [0.7777777777777778, \"#fb9f3a\"], [0.8888888888888888, \"#fdca26\"], [1.0, \"#f0f921\"]], \"sequentialminus\": [[0.0, \"#0d0887\"], [0.1111111111111111, \"#46039f\"], [0.2222222222222222, \"#7201a8\"], [0.3333333333333333, \"#9c179e\"], [0.4444444444444444, \"#bd3786\"], [0.5555555555555556, \"#d8576b\"], [0.6666666666666666, \"#ed7953\"], [0.7777777777777778, \"#fb9f3a\"], [0.8888888888888888, \"#fdca26\"], [1.0, \"#f0f921\"]]}, \"colorway\": [\"#636efa\", \"#EF553B\", \"#00cc96\", \"#ab63fa\", \"#FFA15A\", \"#19d3f3\", \"#FF6692\", \"#B6E880\", \"#FF97FF\", \"#FECB52\"], \"font\": {\"color\": \"#2a3f5f\"}, \"geo\": {\"bgcolor\": \"white\", \"lakecolor\": \"white\", \"landcolor\": \"#E5ECF6\", \"showlakes\": true, \"showland\": true, \"subunitcolor\": \"white\"}, \"hoverlabel\": {\"align\": \"left\"}, \"hovermode\": \"closest\", \"mapbox\": {\"style\": \"light\"}, \"paper_bgcolor\": \"white\", \"plot_bgcolor\": \"#E5ECF6\", \"polar\": {\"angularaxis\": {\"gridcolor\": \"white\", \"linecolor\": \"white\", \"ticks\": \"\"}, \"bgcolor\": \"#E5ECF6\", \"radialaxis\": {\"gridcolor\": \"white\", \"linecolor\": \"white\", \"ticks\": \"\"}}, \"scene\": {\"xaxis\": {\"backgroundcolor\": \"#E5ECF6\", \"gridcolor\": \"white\", \"gridwidth\": 2, \"linecolor\": \"white\", \"showbackground\": true, \"ticks\": \"\", \"zerolinecolor\": \"white\"}, \"yaxis\": {\"backgroundcolor\": \"#E5ECF6\", \"gridcolor\": \"white\", \"gridwidth\": 2, \"linecolor\": \"white\", \"showbackground\": true, \"ticks\": \"\", \"zerolinecolor\": \"white\"}, \"zaxis\": {\"backgroundcolor\": \"#E5ECF6\", \"gridcolor\": \"white\", \"gridwidth\": 2, \"linecolor\": \"white\", \"showbackground\": true, \"ticks\": \"\", \"zerolinecolor\": \"white\"}}, \"shapedefaults\": {\"line\": {\"color\": \"#2a3f5f\"}}, \"ternary\": {\"aaxis\": {\"gridcolor\": \"white\", \"linecolor\": \"white\", \"ticks\": \"\"}, \"baxis\": {\"gridcolor\": \"white\", \"linecolor\": \"white\", \"ticks\": \"\"}, \"bgcolor\": \"#E5ECF6\", \"caxis\": {\"gridcolor\": \"white\", \"linecolor\": \"white\", \"ticks\": \"\"}}, \"title\": {\"x\": 0.05}, \"xaxis\": {\"automargin\": true, \"gridcolor\": \"white\", \"linecolor\": \"white\", \"ticks\": \"\", \"title\": {\"standoff\": 15}, \"zerolinecolor\": \"white\", \"zerolinewidth\": 2}, \"yaxis\": {\"automargin\": true, \"gridcolor\": \"white\", \"linecolor\": \"white\", \"ticks\": \"\", \"title\": {\"standoff\": 15}, \"zerolinecolor\": \"white\", \"zerolinewidth\": 2}}}, \"title\": {\"text\": \"2015 Monthly Category Trend\"}, \"xaxis\": {\"anchor\": \"y\", \"categoryarray\": [\"January\", \"February\", \"March\", \"April\", \"May\", \"June\", \"July\", \"August\", \"September\", \"October\", \"November\", \"December\"], \"categoryorder\": \"array\", \"domain\": [0.0, 1.0], \"title\": {\"text\": \"Month\"}}, \"yaxis\": {\"anchor\": \"x\", \"domain\": [0.0, 1.0], \"title\": {\"text\": \"NumberOfApps\"}}},\n",
              "                        {\"responsive\": true}\n",
              "                    ).then(function(){\n",
              "                            \n",
              "var gd = document.getElementById('838465b8-62e2-485a-891c-3e5e51d1ccaf');\n",
              "var x = new MutationObserver(function (mutations, observer) {{\n",
              "        var display = window.getComputedStyle(gd).display;\n",
              "        if (!display || display === 'none') {{\n",
              "            console.log([gd, 'removed!']);\n",
              "            Plotly.purge(gd);\n",
              "            observer.disconnect();\n",
              "        }}\n",
              "}});\n",
              "\n",
              "// Listen for the removal of the full notebook cells\n",
              "var notebookContainer = gd.closest('#notebook-container');\n",
              "if (notebookContainer) {{\n",
              "    x.observe(notebookContainer, {childList: true});\n",
              "}}\n",
              "\n",
              "// Listen for the clearing of the current output cell\n",
              "var outputEl = gd.closest('.output');\n",
              "if (outputEl) {{\n",
              "    x.observe(outputEl, {childList: true});\n",
              "}}\n",
              "\n",
              "                        })\n",
              "                };\n",
              "                \n",
              "            </script>\n",
              "        </div>\n",
              "</body>\n",
              "</html>"
            ]
          },
          "metadata": {}
        },
        {
          "output_type": "display_data",
          "data": {
            "text/html": [
              "<html>\n",
              "<head><meta charset=\"utf-8\" /></head>\n",
              "<body>\n",
              "    <div>\n",
              "            <script src=\"https://cdnjs.cloudflare.com/ajax/libs/mathjax/2.7.5/MathJax.js?config=TeX-AMS-MML_SVG\"></script><script type=\"text/javascript\">if (window.MathJax) {MathJax.Hub.Config({SVG: {font: \"STIX-Web\"}});}</script>\n",
              "                <script type=\"text/javascript\">window.PlotlyConfig = {MathJaxConfig: 'local'};</script>\n",
              "        <script src=\"https://cdn.plot.ly/plotly-latest.min.js\"></script>    \n",
              "            <div id=\"2007a4e9-d1fa-46e5-a65b-b31deb37722d\" class=\"plotly-graph-div\" style=\"height:525px; width:100%;\"></div>\n",
              "            <script type=\"text/javascript\">\n",
              "                \n",
              "                    window.PLOTLYENV=window.PLOTLYENV || {};\n",
              "                    \n",
              "                if (document.getElementById(\"2007a4e9-d1fa-46e5-a65b-b31deb37722d\")) {\n",
              "                    Plotly.newPlot(\n",
              "                        '2007a4e9-d1fa-46e5-a65b-b31deb37722d',\n",
              "                        [{\"alignmentgroup\": \"True\", \"hoverlabel\": {\"namelength\": 0}, \"hovertemplate\": \"Category=FAMILY<br>Month=%{x}<br>NumberOfApps=%{y}\", \"legendgroup\": \"Category=FAMILY\", \"marker\": {\"color\": \"#636efa\"}, \"name\": \"Category=FAMILY\", \"offsetgroup\": \"Category=FAMILY\", \"orientation\": \"v\", \"showlegend\": true, \"textposition\": \"auto\", \"type\": \"bar\", \"x\": [\"April\", \"August\", \"December\", \"February\", \"January\", \"July\", \"June\", \"March\", \"May\", \"November\", \"October\", \"September\"], \"xaxis\": \"x\", \"y\": [1, 2, 5, 4, 3, 2, 5, 3, 4, 8, 1, 2], \"yaxis\": \"y\"}, {\"alignmentgroup\": \"True\", \"hoverlabel\": {\"namelength\": 0}, \"hovertemplate\": \"Category=GAME<br>Month=%{x}<br>NumberOfApps=%{y}\", \"legendgroup\": \"Category=GAME\", \"marker\": {\"color\": \"#EF553B\"}, \"name\": \"Category=GAME\", \"offsetgroup\": \"Category=GAME\", \"orientation\": \"v\", \"showlegend\": true, \"textposition\": \"auto\", \"type\": \"bar\", \"x\": [\"April\", \"August\", \"December\", \"February\", \"January\", \"July\", \"June\", \"May\", \"November\", \"October\", \"September\"], \"xaxis\": \"x\", \"y\": [2, 1, 7, 1, 3, 1, 1, 3, 2, 3, 2], \"yaxis\": \"y\"}, {\"alignmentgroup\": \"True\", \"hoverlabel\": {\"namelength\": 0}, \"hovertemplate\": \"Category=LIFESTYLE<br>Month=%{x}<br>NumberOfApps=%{y}\", \"legendgroup\": \"Category=LIFESTYLE\", \"marker\": {\"color\": \"#00cc96\"}, \"name\": \"Category=LIFESTYLE\", \"offsetgroup\": \"Category=LIFESTYLE\", \"orientation\": \"v\", \"showlegend\": true, \"textposition\": \"auto\", \"type\": \"bar\", \"x\": [\"April\", \"March\", \"November\", \"October\", \"September\"], \"xaxis\": \"x\", \"y\": [1, 1, 2, 1, 1], \"yaxis\": \"y\"}, {\"alignmentgroup\": \"True\", \"hoverlabel\": {\"namelength\": 0}, \"hovertemplate\": \"Category=PERSONALIZATION<br>Month=%{x}<br>NumberOfApps=%{y}\", \"legendgroup\": \"Category=PERSONALIZATION\", \"marker\": {\"color\": \"#ab63fa\"}, \"name\": \"Category=PERSONALIZATION\", \"offsetgroup\": \"Category=PERSONALIZATION\", \"orientation\": \"v\", \"showlegend\": true, \"textposition\": \"auto\", \"type\": \"bar\", \"x\": [\"April\", \"August\", \"December\", \"February\", \"January\", \"July\", \"June\", \"May\", \"November\", \"October\"], \"xaxis\": \"x\", \"y\": [1, 1, 2, 2, 2, 1, 2, 2, 1, 3], \"yaxis\": \"y\"}, {\"alignmentgroup\": \"True\", \"hoverlabel\": {\"namelength\": 0}, \"hovertemplate\": \"Category=PHOTOGRAPHY<br>Month=%{x}<br>NumberOfApps=%{y}\", \"legendgroup\": \"Category=PHOTOGRAPHY\", \"marker\": {\"color\": \"#FFA15A\"}, \"name\": \"Category=PHOTOGRAPHY\", \"offsetgroup\": \"Category=PHOTOGRAPHY\", \"orientation\": \"v\", \"showlegend\": true, \"textposition\": \"auto\", \"type\": \"bar\", \"x\": [\"April\", \"February\", \"March\", \"November\"], \"xaxis\": \"x\", \"y\": [1, 1, 1, 2], \"yaxis\": \"y\"}, {\"alignmentgroup\": \"True\", \"hoverlabel\": {\"namelength\": 0}, \"hovertemplate\": \"Category=SOCIAL<br>Month=%{x}<br>NumberOfApps=%{y}\", \"legendgroup\": \"Category=SOCIAL\", \"marker\": {\"color\": \"#19d3f3\"}, \"name\": \"Category=SOCIAL\", \"offsetgroup\": \"Category=SOCIAL\", \"orientation\": \"v\", \"showlegend\": true, \"textposition\": \"auto\", \"type\": \"bar\", \"x\": [\"April\", \"December\", \"June\", \"November\"], \"xaxis\": \"x\", \"y\": [1, 1, 1, 1], \"yaxis\": \"y\"}, {\"alignmentgroup\": \"True\", \"hoverlabel\": {\"namelength\": 0}, \"hovertemplate\": \"Category=TOOLS<br>Month=%{x}<br>NumberOfApps=%{y}\", \"legendgroup\": \"Category=TOOLS\", \"marker\": {\"color\": \"#FF6692\"}, \"name\": \"Category=TOOLS\", \"offsetgroup\": \"Category=TOOLS\", \"orientation\": \"v\", \"showlegend\": true, \"textposition\": \"auto\", \"type\": \"bar\", \"x\": [\"April\", \"August\", \"December\", \"February\", \"July\", \"June\", \"March\", \"November\", \"October\", \"September\"], \"xaxis\": \"x\", \"y\": [5, 1, 1, 1, 4, 3, 1, 4, 4, 2], \"yaxis\": \"y\"}, {\"alignmentgroup\": \"True\", \"hoverlabel\": {\"namelength\": 0}, \"hovertemplate\": \"Category=VIDEO_PLAYERS<br>Month=%{x}<br>NumberOfApps=%{y}\", \"legendgroup\": \"Category=VIDEO_PLAYERS\", \"marker\": {\"color\": \"#B6E880\"}, \"name\": \"Category=VIDEO_PLAYERS\", \"offsetgroup\": \"Category=VIDEO_PLAYERS\", \"orientation\": \"v\", \"showlegend\": true, \"textposition\": \"auto\", \"type\": \"bar\", \"x\": [\"April\", \"July\", \"October\", \"September\"], \"xaxis\": \"x\", \"y\": [1, 1, 1, 1], \"yaxis\": \"y\"}, {\"alignmentgroup\": \"True\", \"hoverlabel\": {\"namelength\": 0}, \"hovertemplate\": \"Category=AUTO_AND_VEHICLES<br>Month=%{x}<br>NumberOfApps=%{y}\", \"legendgroup\": \"Category=AUTO_AND_VEHICLES\", \"marker\": {\"color\": \"#FF97FF\"}, \"name\": \"Category=AUTO_AND_VEHICLES\", \"offsetgroup\": \"Category=AUTO_AND_VEHICLES\", \"orientation\": \"v\", \"showlegend\": true, \"textposition\": \"auto\", \"type\": \"bar\", \"x\": [\"August\"], \"xaxis\": \"x\", \"y\": [1], \"yaxis\": \"y\"}, {\"alignmentgroup\": \"True\", \"hoverlabel\": {\"namelength\": 0}, \"hovertemplate\": \"Category=BOOKS_AND_REFERENCE<br>Month=%{x}<br>NumberOfApps=%{y}\", \"legendgroup\": \"Category=BOOKS_AND_REFERENCE\", \"marker\": {\"color\": \"#FECB52\"}, \"name\": \"Category=BOOKS_AND_REFERENCE\", \"offsetgroup\": \"Category=BOOKS_AND_REFERENCE\", \"orientation\": \"v\", \"showlegend\": true, \"textposition\": \"auto\", \"type\": \"bar\", \"x\": [\"August\", \"January\", \"July\", \"March\", \"November\", \"October\"], \"xaxis\": \"x\", \"y\": [3, 1, 2, 1, 1, 1], \"yaxis\": \"y\"}, {\"alignmentgroup\": \"True\", \"hoverlabel\": {\"namelength\": 0}, \"hovertemplate\": \"Category=BUSINESS<br>Month=%{x}<br>NumberOfApps=%{y}\", \"legendgroup\": \"Category=BUSINESS\", \"marker\": {\"color\": \"#636efa\"}, \"name\": \"Category=BUSINESS\", \"offsetgroup\": \"Category=BUSINESS\", \"orientation\": \"v\", \"showlegend\": true, \"textposition\": \"auto\", \"type\": \"bar\", \"x\": [\"August\", \"February\", \"July\", \"June\", \"May\", \"October\"], \"xaxis\": \"x\", \"y\": [2, 1, 1, 1, 1, 1], \"yaxis\": \"y\"}, {\"alignmentgroup\": \"True\", \"hoverlabel\": {\"namelength\": 0}, \"hovertemplate\": \"Category=COMMUNICATION<br>Month=%{x}<br>NumberOfApps=%{y}\", \"legendgroup\": \"Category=COMMUNICATION\", \"marker\": {\"color\": \"#EF553B\"}, \"name\": \"Category=COMMUNICATION\", \"offsetgroup\": \"Category=COMMUNICATION\", \"orientation\": \"v\", \"showlegend\": true, \"textposition\": \"auto\", \"type\": \"bar\", \"x\": [\"August\", \"January\", \"July\", \"March\", \"November\", \"October\"], \"xaxis\": \"x\", \"y\": [3, 1, 3, 1, 1, 1], \"yaxis\": \"y\"}, {\"alignmentgroup\": \"True\", \"hoverlabel\": {\"namelength\": 0}, \"hovertemplate\": \"Category=EDUCATION<br>Month=%{x}<br>NumberOfApps=%{y}\", \"legendgroup\": \"Category=EDUCATION\", \"marker\": {\"color\": \"#00cc96\"}, \"name\": \"Category=EDUCATION\", \"offsetgroup\": \"Category=EDUCATION\", \"orientation\": \"v\", \"showlegend\": true, \"textposition\": \"auto\", \"type\": \"bar\", \"x\": [\"August\", \"July\"], \"xaxis\": \"x\", \"y\": [1, 2], \"yaxis\": \"y\"}, {\"alignmentgroup\": \"True\", \"hoverlabel\": {\"namelength\": 0}, \"hovertemplate\": \"Category=MEDICAL<br>Month=%{x}<br>NumberOfApps=%{y}\", \"legendgroup\": \"Category=MEDICAL\", \"marker\": {\"color\": \"#ab63fa\"}, \"name\": \"Category=MEDICAL\", \"offsetgroup\": \"Category=MEDICAL\", \"orientation\": \"v\", \"showlegend\": true, \"textposition\": \"auto\", \"type\": \"bar\", \"x\": [\"August\", \"December\", \"January\", \"July\", \"March\", \"November\", \"October\", \"September\"], \"xaxis\": \"x\", \"y\": [2, 2, 3, 1, 1, 1, 1, 1], \"yaxis\": \"y\"}, {\"alignmentgroup\": \"True\", \"hoverlabel\": {\"namelength\": 0}, \"hovertemplate\": \"Category=PRODUCTIVITY<br>Month=%{x}<br>NumberOfApps=%{y}\", \"legendgroup\": \"Category=PRODUCTIVITY\", \"marker\": {\"color\": \"#FFA15A\"}, \"name\": \"Category=PRODUCTIVITY\", \"offsetgroup\": \"Category=PRODUCTIVITY\", \"orientation\": \"v\", \"showlegend\": true, \"textposition\": \"auto\", \"type\": \"bar\", \"x\": [\"August\", \"February\", \"January\", \"June\", \"May\", \"November\", \"September\"], \"xaxis\": \"x\", \"y\": [1, 1, 2, 1, 3, 3, 1], \"yaxis\": \"y\"}, {\"alignmentgroup\": \"True\", \"hoverlabel\": {\"namelength\": 0}, \"hovertemplate\": \"Category=SPORTS<br>Month=%{x}<br>NumberOfApps=%{y}\", \"legendgroup\": \"Category=SPORTS\", \"marker\": {\"color\": \"#19d3f3\"}, \"name\": \"Category=SPORTS\", \"offsetgroup\": \"Category=SPORTS\", \"orientation\": \"v\", \"showlegend\": true, \"textposition\": \"auto\", \"type\": \"bar\", \"x\": [\"August\", \"February\", \"March\"], \"xaxis\": \"x\", \"y\": [1, 1, 2], \"yaxis\": \"y\"}, {\"alignmentgroup\": \"True\", \"hoverlabel\": {\"namelength\": 0}, \"hovertemplate\": \"Category=WEATHER<br>Month=%{x}<br>NumberOfApps=%{y}\", \"legendgroup\": \"Category=WEATHER\", \"marker\": {\"color\": \"#FF6692\"}, \"name\": \"Category=WEATHER\", \"offsetgroup\": \"Category=WEATHER\", \"orientation\": \"v\", \"showlegend\": true, \"textposition\": \"auto\", \"type\": \"bar\", \"x\": [\"August\", \"December\", \"February\", \"July\", \"March\"], \"xaxis\": \"x\", \"y\": [2, 1, 1, 1, 1], \"yaxis\": \"y\"}, {\"alignmentgroup\": \"True\", \"hoverlabel\": {\"namelength\": 0}, \"hovertemplate\": \"Category=MAPS_AND_NAVIGATION<br>Month=%{x}<br>NumberOfApps=%{y}\", \"legendgroup\": \"Category=MAPS_AND_NAVIGATION\", \"marker\": {\"color\": \"#B6E880\"}, \"name\": \"Category=MAPS_AND_NAVIGATION\", \"offsetgroup\": \"Category=MAPS_AND_NAVIGATION\", \"orientation\": \"v\", \"showlegend\": true, \"textposition\": \"auto\", \"type\": \"bar\", \"x\": [\"December\"], \"xaxis\": \"x\", \"y\": [1], \"yaxis\": \"y\"}, {\"alignmentgroup\": \"True\", \"hoverlabel\": {\"namelength\": 0}, \"hovertemplate\": \"Category=NEWS_AND_MAGAZINES<br>Month=%{x}<br>NumberOfApps=%{y}\", \"legendgroup\": \"Category=NEWS_AND_MAGAZINES\", \"marker\": {\"color\": \"#FF97FF\"}, \"name\": \"Category=NEWS_AND_MAGAZINES\", \"offsetgroup\": \"Category=NEWS_AND_MAGAZINES\", \"orientation\": \"v\", \"showlegend\": true, \"textposition\": \"auto\", \"type\": \"bar\", \"x\": [\"December\", \"January\", \"July\", \"March\", \"September\"], \"xaxis\": \"x\", \"y\": [1, 1, 1, 1, 1], \"yaxis\": \"y\"}, {\"alignmentgroup\": \"True\", \"hoverlabel\": {\"namelength\": 0}, \"hovertemplate\": \"Category=TRAVEL_AND_LOCAL<br>Month=%{x}<br>NumberOfApps=%{y}\", \"legendgroup\": \"Category=TRAVEL_AND_LOCAL\", \"marker\": {\"color\": \"#FECB52\"}, \"name\": \"Category=TRAVEL_AND_LOCAL\", \"offsetgroup\": \"Category=TRAVEL_AND_LOCAL\", \"orientation\": \"v\", \"showlegend\": true, \"textposition\": \"auto\", \"type\": \"bar\", \"x\": [\"February\", \"October\"], \"xaxis\": \"x\", \"y\": [1, 1], \"yaxis\": \"y\"}, {\"alignmentgroup\": \"True\", \"hoverlabel\": {\"namelength\": 0}, \"hovertemplate\": \"Category=HEALTH_AND_FITNESS<br>Month=%{x}<br>NumberOfApps=%{y}\", \"legendgroup\": \"Category=HEALTH_AND_FITNESS\", \"marker\": {\"color\": \"#636efa\"}, \"name\": \"Category=HEALTH_AND_FITNESS\", \"offsetgroup\": \"Category=HEALTH_AND_FITNESS\", \"orientation\": \"v\", \"showlegend\": true, \"textposition\": \"auto\", \"type\": \"bar\", \"x\": [\"July\"], \"xaxis\": \"x\", \"y\": [3], \"yaxis\": \"y\"}, {\"alignmentgroup\": \"True\", \"hoverlabel\": {\"namelength\": 0}, \"hovertemplate\": \"Category=LIBRARIES_AND_DEMO<br>Month=%{x}<br>NumberOfApps=%{y}\", \"legendgroup\": \"Category=LIBRARIES_AND_DEMO\", \"marker\": {\"color\": \"#EF553B\"}, \"name\": \"Category=LIBRARIES_AND_DEMO\", \"offsetgroup\": \"Category=LIBRARIES_AND_DEMO\", \"orientation\": \"v\", \"showlegend\": true, \"textposition\": \"auto\", \"type\": \"bar\", \"x\": [\"October\"], \"xaxis\": \"x\", \"y\": [1], \"yaxis\": \"y\"}],\n",
              "                        {\"barmode\": \"relative\", \"legend\": {\"tracegroupgap\": 0}, \"template\": {\"data\": {\"bar\": [{\"error_x\": {\"color\": \"#2a3f5f\"}, \"error_y\": {\"color\": \"#2a3f5f\"}, \"marker\": {\"line\": {\"color\": \"#E5ECF6\", \"width\": 0.5}}, \"type\": \"bar\"}], \"barpolar\": [{\"marker\": {\"line\": {\"color\": \"#E5ECF6\", \"width\": 0.5}}, \"type\": \"barpolar\"}], \"carpet\": [{\"aaxis\": {\"endlinecolor\": \"#2a3f5f\", \"gridcolor\": \"white\", \"linecolor\": \"white\", \"minorgridcolor\": \"white\", \"startlinecolor\": \"#2a3f5f\"}, \"baxis\": {\"endlinecolor\": \"#2a3f5f\", \"gridcolor\": \"white\", \"linecolor\": \"white\", \"minorgridcolor\": \"white\", \"startlinecolor\": \"#2a3f5f\"}, \"type\": \"carpet\"}], \"choropleth\": [{\"colorbar\": {\"outlinewidth\": 0, \"ticks\": \"\"}, \"type\": \"choropleth\"}], \"contour\": [{\"colorbar\": {\"outlinewidth\": 0, \"ticks\": \"\"}, \"colorscale\": [[0.0, \"#0d0887\"], [0.1111111111111111, \"#46039f\"], [0.2222222222222222, \"#7201a8\"], [0.3333333333333333, \"#9c179e\"], [0.4444444444444444, \"#bd3786\"], [0.5555555555555556, \"#d8576b\"], [0.6666666666666666, \"#ed7953\"], [0.7777777777777778, \"#fb9f3a\"], [0.8888888888888888, \"#fdca26\"], [1.0, \"#f0f921\"]], \"type\": \"contour\"}], \"contourcarpet\": [{\"colorbar\": {\"outlinewidth\": 0, \"ticks\": \"\"}, \"type\": \"contourcarpet\"}], \"heatmap\": [{\"colorbar\": {\"outlinewidth\": 0, \"ticks\": \"\"}, \"colorscale\": [[0.0, \"#0d0887\"], [0.1111111111111111, \"#46039f\"], [0.2222222222222222, \"#7201a8\"], [0.3333333333333333, \"#9c179e\"], [0.4444444444444444, \"#bd3786\"], [0.5555555555555556, \"#d8576b\"], [0.6666666666666666, \"#ed7953\"], [0.7777777777777778, \"#fb9f3a\"], [0.8888888888888888, \"#fdca26\"], [1.0, \"#f0f921\"]], \"type\": \"heatmap\"}], \"heatmapgl\": [{\"colorbar\": {\"outlinewidth\": 0, \"ticks\": \"\"}, \"colorscale\": [[0.0, \"#0d0887\"], [0.1111111111111111, \"#46039f\"], [0.2222222222222222, \"#7201a8\"], [0.3333333333333333, \"#9c179e\"], [0.4444444444444444, \"#bd3786\"], [0.5555555555555556, \"#d8576b\"], [0.6666666666666666, \"#ed7953\"], [0.7777777777777778, \"#fb9f3a\"], [0.8888888888888888, \"#fdca26\"], [1.0, \"#f0f921\"]], \"type\": \"heatmapgl\"}], \"histogram\": [{\"marker\": {\"colorbar\": {\"outlinewidth\": 0, \"ticks\": \"\"}}, \"type\": \"histogram\"}], \"histogram2d\": [{\"colorbar\": {\"outlinewidth\": 0, \"ticks\": \"\"}, \"colorscale\": [[0.0, \"#0d0887\"], [0.1111111111111111, \"#46039f\"], [0.2222222222222222, \"#7201a8\"], [0.3333333333333333, \"#9c179e\"], [0.4444444444444444, \"#bd3786\"], [0.5555555555555556, \"#d8576b\"], [0.6666666666666666, \"#ed7953\"], [0.7777777777777778, \"#fb9f3a\"], [0.8888888888888888, \"#fdca26\"], [1.0, \"#f0f921\"]], \"type\": \"histogram2d\"}], \"histogram2dcontour\": [{\"colorbar\": {\"outlinewidth\": 0, \"ticks\": \"\"}, \"colorscale\": [[0.0, \"#0d0887\"], [0.1111111111111111, \"#46039f\"], [0.2222222222222222, \"#7201a8\"], [0.3333333333333333, \"#9c179e\"], [0.4444444444444444, \"#bd3786\"], [0.5555555555555556, \"#d8576b\"], [0.6666666666666666, \"#ed7953\"], [0.7777777777777778, \"#fb9f3a\"], [0.8888888888888888, \"#fdca26\"], [1.0, \"#f0f921\"]], \"type\": \"histogram2dcontour\"}], \"mesh3d\": [{\"colorbar\": {\"outlinewidth\": 0, \"ticks\": \"\"}, \"type\": \"mesh3d\"}], \"parcoords\": [{\"line\": {\"colorbar\": {\"outlinewidth\": 0, \"ticks\": \"\"}}, \"type\": \"parcoords\"}], \"pie\": [{\"automargin\": true, \"type\": \"pie\"}], \"scatter\": [{\"marker\": {\"colorbar\": {\"outlinewidth\": 0, \"ticks\": \"\"}}, \"type\": \"scatter\"}], \"scatter3d\": [{\"line\": {\"colorbar\": {\"outlinewidth\": 0, \"ticks\": \"\"}}, \"marker\": {\"colorbar\": {\"outlinewidth\": 0, \"ticks\": \"\"}}, \"type\": \"scatter3d\"}], \"scattercarpet\": [{\"marker\": {\"colorbar\": {\"outlinewidth\": 0, \"ticks\": \"\"}}, \"type\": \"scattercarpet\"}], \"scattergeo\": [{\"marker\": {\"colorbar\": {\"outlinewidth\": 0, \"ticks\": \"\"}}, \"type\": \"scattergeo\"}], \"scattergl\": [{\"marker\": {\"colorbar\": {\"outlinewidth\": 0, \"ticks\": \"\"}}, \"type\": \"scattergl\"}], \"scattermapbox\": [{\"marker\": {\"colorbar\": {\"outlinewidth\": 0, \"ticks\": \"\"}}, \"type\": \"scattermapbox\"}], \"scatterpolar\": [{\"marker\": {\"colorbar\": {\"outlinewidth\": 0, \"ticks\": \"\"}}, \"type\": \"scatterpolar\"}], \"scatterpolargl\": [{\"marker\": {\"colorbar\": {\"outlinewidth\": 0, \"ticks\": \"\"}}, \"type\": \"scatterpolargl\"}], \"scatterternary\": [{\"marker\": {\"colorbar\": {\"outlinewidth\": 0, \"ticks\": \"\"}}, \"type\": \"scatterternary\"}], \"surface\": [{\"colorbar\": {\"outlinewidth\": 0, \"ticks\": \"\"}, \"colorscale\": [[0.0, \"#0d0887\"], [0.1111111111111111, \"#46039f\"], [0.2222222222222222, \"#7201a8\"], [0.3333333333333333, \"#9c179e\"], [0.4444444444444444, \"#bd3786\"], [0.5555555555555556, \"#d8576b\"], [0.6666666666666666, \"#ed7953\"], [0.7777777777777778, \"#fb9f3a\"], [0.8888888888888888, \"#fdca26\"], [1.0, \"#f0f921\"]], \"type\": \"surface\"}], \"table\": [{\"cells\": {\"fill\": {\"color\": \"#EBF0F8\"}, \"line\": {\"color\": \"white\"}}, \"header\": {\"fill\": {\"color\": \"#C8D4E3\"}, \"line\": {\"color\": \"white\"}}, \"type\": \"table\"}]}, \"layout\": {\"annotationdefaults\": {\"arrowcolor\": \"#2a3f5f\", \"arrowhead\": 0, \"arrowwidth\": 1}, \"coloraxis\": {\"colorbar\": {\"outlinewidth\": 0, \"ticks\": \"\"}}, \"colorscale\": {\"diverging\": [[0, \"#8e0152\"], [0.1, \"#c51b7d\"], [0.2, \"#de77ae\"], [0.3, \"#f1b6da\"], [0.4, \"#fde0ef\"], [0.5, \"#f7f7f7\"], [0.6, \"#e6f5d0\"], [0.7, \"#b8e186\"], [0.8, \"#7fbc41\"], [0.9, \"#4d9221\"], [1, \"#276419\"]], \"sequential\": [[0.0, \"#0d0887\"], [0.1111111111111111, \"#46039f\"], [0.2222222222222222, \"#7201a8\"], [0.3333333333333333, \"#9c179e\"], [0.4444444444444444, \"#bd3786\"], [0.5555555555555556, \"#d8576b\"], [0.6666666666666666, \"#ed7953\"], [0.7777777777777778, \"#fb9f3a\"], [0.8888888888888888, \"#fdca26\"], [1.0, \"#f0f921\"]], \"sequentialminus\": [[0.0, \"#0d0887\"], [0.1111111111111111, \"#46039f\"], [0.2222222222222222, \"#7201a8\"], [0.3333333333333333, \"#9c179e\"], [0.4444444444444444, \"#bd3786\"], [0.5555555555555556, \"#d8576b\"], [0.6666666666666666, \"#ed7953\"], [0.7777777777777778, \"#fb9f3a\"], [0.8888888888888888, \"#fdca26\"], [1.0, \"#f0f921\"]]}, \"colorway\": [\"#636efa\", \"#EF553B\", \"#00cc96\", \"#ab63fa\", \"#FFA15A\", \"#19d3f3\", \"#FF6692\", \"#B6E880\", \"#FF97FF\", \"#FECB52\"], \"font\": {\"color\": \"#2a3f5f\"}, \"geo\": {\"bgcolor\": \"white\", \"lakecolor\": \"white\", \"landcolor\": \"#E5ECF6\", \"showlakes\": true, \"showland\": true, \"subunitcolor\": \"white\"}, \"hoverlabel\": {\"align\": \"left\"}, \"hovermode\": \"closest\", \"mapbox\": {\"style\": \"light\"}, \"paper_bgcolor\": \"white\", \"plot_bgcolor\": \"#E5ECF6\", \"polar\": {\"angularaxis\": {\"gridcolor\": \"white\", \"linecolor\": \"white\", \"ticks\": \"\"}, \"bgcolor\": \"#E5ECF6\", \"radialaxis\": {\"gridcolor\": \"white\", \"linecolor\": \"white\", \"ticks\": \"\"}}, \"scene\": {\"xaxis\": {\"backgroundcolor\": \"#E5ECF6\", \"gridcolor\": \"white\", \"gridwidth\": 2, \"linecolor\": \"white\", \"showbackground\": true, \"ticks\": \"\", \"zerolinecolor\": \"white\"}, \"yaxis\": {\"backgroundcolor\": \"#E5ECF6\", \"gridcolor\": \"white\", \"gridwidth\": 2, \"linecolor\": \"white\", \"showbackground\": true, \"ticks\": \"\", \"zerolinecolor\": \"white\"}, \"zaxis\": {\"backgroundcolor\": \"#E5ECF6\", \"gridcolor\": \"white\", \"gridwidth\": 2, \"linecolor\": \"white\", \"showbackground\": true, \"ticks\": \"\", \"zerolinecolor\": \"white\"}}, \"shapedefaults\": {\"line\": {\"color\": \"#2a3f5f\"}}, \"ternary\": {\"aaxis\": {\"gridcolor\": \"white\", \"linecolor\": \"white\", \"ticks\": \"\"}, \"baxis\": {\"gridcolor\": \"white\", \"linecolor\": \"white\", \"ticks\": \"\"}, \"bgcolor\": \"#E5ECF6\", \"caxis\": {\"gridcolor\": \"white\", \"linecolor\": \"white\", \"ticks\": \"\"}}, \"title\": {\"x\": 0.05}, \"xaxis\": {\"automargin\": true, \"gridcolor\": \"white\", \"linecolor\": \"white\", \"ticks\": \"\", \"title\": {\"standoff\": 15}, \"zerolinecolor\": \"white\", \"zerolinewidth\": 2}, \"yaxis\": {\"automargin\": true, \"gridcolor\": \"white\", \"linecolor\": \"white\", \"ticks\": \"\", \"title\": {\"standoff\": 15}, \"zerolinecolor\": \"white\", \"zerolinewidth\": 2}}}, \"title\": {\"text\": \"2014 Monthly Category Trend\"}, \"xaxis\": {\"anchor\": \"y\", \"categoryarray\": [\"January\", \"February\", \"March\", \"April\", \"May\", \"June\", \"July\", \"August\", \"September\", \"October\", \"November\", \"December\"], \"categoryorder\": \"array\", \"domain\": [0.0, 1.0], \"title\": {\"text\": \"Month\"}}, \"yaxis\": {\"anchor\": \"x\", \"domain\": [0.0, 1.0], \"title\": {\"text\": \"NumberOfApps\"}}},\n",
              "                        {\"responsive\": true}\n",
              "                    ).then(function(){\n",
              "                            \n",
              "var gd = document.getElementById('2007a4e9-d1fa-46e5-a65b-b31deb37722d');\n",
              "var x = new MutationObserver(function (mutations, observer) {{\n",
              "        var display = window.getComputedStyle(gd).display;\n",
              "        if (!display || display === 'none') {{\n",
              "            console.log([gd, 'removed!']);\n",
              "            Plotly.purge(gd);\n",
              "            observer.disconnect();\n",
              "        }}\n",
              "}});\n",
              "\n",
              "// Listen for the removal of the full notebook cells\n",
              "var notebookContainer = gd.closest('#notebook-container');\n",
              "if (notebookContainer) {{\n",
              "    x.observe(notebookContainer, {childList: true});\n",
              "}}\n",
              "\n",
              "// Listen for the clearing of the current output cell\n",
              "var outputEl = gd.closest('.output');\n",
              "if (outputEl) {{\n",
              "    x.observe(outputEl, {childList: true});\n",
              "}}\n",
              "\n",
              "                        })\n",
              "                };\n",
              "                \n",
              "            </script>\n",
              "        </div>\n",
              "</body>\n",
              "</html>"
            ]
          },
          "metadata": {}
        },
        {
          "output_type": "display_data",
          "data": {
            "text/html": [
              "<html>\n",
              "<head><meta charset=\"utf-8\" /></head>\n",
              "<body>\n",
              "    <div>\n",
              "            <script src=\"https://cdnjs.cloudflare.com/ajax/libs/mathjax/2.7.5/MathJax.js?config=TeX-AMS-MML_SVG\"></script><script type=\"text/javascript\">if (window.MathJax) {MathJax.Hub.Config({SVG: {font: \"STIX-Web\"}});}</script>\n",
              "                <script type=\"text/javascript\">window.PlotlyConfig = {MathJaxConfig: 'local'};</script>\n",
              "        <script src=\"https://cdn.plot.ly/plotly-latest.min.js\"></script>    \n",
              "            <div id=\"cb783c52-1bbf-43b1-89c7-27e5a6329505\" class=\"plotly-graph-div\" style=\"height:525px; width:100%;\"></div>\n",
              "            <script type=\"text/javascript\">\n",
              "                \n",
              "                    window.PLOTLYENV=window.PLOTLYENV || {};\n",
              "                    \n",
              "                if (document.getElementById(\"cb783c52-1bbf-43b1-89c7-27e5a6329505\")) {\n",
              "                    Plotly.newPlot(\n",
              "                        'cb783c52-1bbf-43b1-89c7-27e5a6329505',\n",
              "                        [{\"alignmentgroup\": \"True\", \"hoverlabel\": {\"namelength\": 0}, \"hovertemplate\": \"Category=BUSINESS<br>Month=%{x}<br>NumberOfApps=%{y}\", \"legendgroup\": \"Category=BUSINESS\", \"marker\": {\"color\": \"#636efa\"}, \"name\": \"Category=BUSINESS\", \"offsetgroup\": \"Category=BUSINESS\", \"orientation\": \"v\", \"showlegend\": true, \"textposition\": \"auto\", \"type\": \"bar\", \"x\": [\"April\", \"February\", \"May\"], \"xaxis\": \"x\", \"y\": [1, 1, 2], \"yaxis\": \"y\"}, {\"alignmentgroup\": \"True\", \"hoverlabel\": {\"namelength\": 0}, \"hovertemplate\": \"Category=FAMILY<br>Month=%{x}<br>NumberOfApps=%{y}\", \"legendgroup\": \"Category=FAMILY\", \"marker\": {\"color\": \"#EF553B\"}, \"name\": \"Category=FAMILY\", \"offsetgroup\": \"Category=FAMILY\", \"orientation\": \"v\", \"showlegend\": true, \"textposition\": \"auto\", \"type\": \"bar\", \"x\": [\"April\", \"August\", \"December\", \"February\", \"May\", \"November\", \"October\", \"September\"], \"xaxis\": \"x\", \"y\": [1, 6, 2, 2, 2, 1, 1, 1], \"yaxis\": \"y\"}, {\"alignmentgroup\": \"True\", \"hoverlabel\": {\"namelength\": 0}, \"hovertemplate\": \"Category=SPORTS<br>Month=%{x}<br>NumberOfApps=%{y}\", \"legendgroup\": \"Category=SPORTS\", \"marker\": {\"color\": \"#00cc96\"}, \"name\": \"Category=SPORTS\", \"offsetgroup\": \"Category=SPORTS\", \"orientation\": \"v\", \"showlegend\": true, \"textposition\": \"auto\", \"type\": \"bar\", \"x\": [\"April\", \"August\", \"May\", \"November\"], \"xaxis\": \"x\", \"y\": [1, 1, 1, 1], \"yaxis\": \"y\"}, {\"alignmentgroup\": \"True\", \"hoverlabel\": {\"namelength\": 0}, \"hovertemplate\": \"Category=VIDEO_PLAYERS<br>Month=%{x}<br>NumberOfApps=%{y}\", \"legendgroup\": \"Category=VIDEO_PLAYERS\", \"marker\": {\"color\": \"#ab63fa\"}, \"name\": \"Category=VIDEO_PLAYERS\", \"offsetgroup\": \"Category=VIDEO_PLAYERS\", \"orientation\": \"v\", \"showlegend\": true, \"textposition\": \"auto\", \"type\": \"bar\", \"x\": [\"April\", \"July\", \"November\", \"September\"], \"xaxis\": \"x\", \"y\": [1, 1, 1, 1], \"yaxis\": \"y\"}, {\"alignmentgroup\": \"True\", \"hoverlabel\": {\"namelength\": 0}, \"hovertemplate\": \"Category=BOOKS_AND_REFERENCE<br>Month=%{x}<br>NumberOfApps=%{y}\", \"legendgroup\": \"Category=BOOKS_AND_REFERENCE\", \"marker\": {\"color\": \"#FFA15A\"}, \"name\": \"Category=BOOKS_AND_REFERENCE\", \"offsetgroup\": \"Category=BOOKS_AND_REFERENCE\", \"orientation\": \"v\", \"showlegend\": true, \"textposition\": \"auto\", \"type\": \"bar\", \"x\": [\"August\", \"November\", \"October\"], \"xaxis\": \"x\", \"y\": [1, 1, 1], \"yaxis\": \"y\"}, {\"alignmentgroup\": \"True\", \"hoverlabel\": {\"namelength\": 0}, \"hovertemplate\": \"Category=COMMUNICATION<br>Month=%{x}<br>NumberOfApps=%{y}\", \"legendgroup\": \"Category=COMMUNICATION\", \"marker\": {\"color\": \"#19d3f3\"}, \"name\": \"Category=COMMUNICATION\", \"offsetgroup\": \"Category=COMMUNICATION\", \"orientation\": \"v\", \"showlegend\": true, \"textposition\": \"auto\", \"type\": \"bar\", \"x\": [\"August\", \"June\"], \"xaxis\": \"x\", \"y\": [2, 1], \"yaxis\": \"y\"}, {\"alignmentgroup\": \"True\", \"hoverlabel\": {\"namelength\": 0}, \"hovertemplate\": \"Category=GAME<br>Month=%{x}<br>NumberOfApps=%{y}\", \"legendgroup\": \"Category=GAME\", \"marker\": {\"color\": \"#FF6692\"}, \"name\": \"Category=GAME\", \"offsetgroup\": \"Category=GAME\", \"orientation\": \"v\", \"showlegend\": true, \"textposition\": \"auto\", \"type\": \"bar\", \"x\": [\"August\", \"December\", \"July\", \"June\", \"November\", \"October\", \"September\"], \"xaxis\": \"x\", \"y\": [2, 4, 3, 3, 1, 2, 3], \"yaxis\": \"y\"}, {\"alignmentgroup\": \"True\", \"hoverlabel\": {\"namelength\": 0}, \"hovertemplate\": \"Category=PERSONALIZATION<br>Month=%{x}<br>NumberOfApps=%{y}\", \"legendgroup\": \"Category=PERSONALIZATION\", \"marker\": {\"color\": \"#B6E880\"}, \"name\": \"Category=PERSONALIZATION\", \"offsetgroup\": \"Category=PERSONALIZATION\", \"orientation\": \"v\", \"showlegend\": true, \"textposition\": \"auto\", \"type\": \"bar\", \"x\": [\"August\", \"February\", \"July\", \"May\", \"November\", \"October\", \"September\"], \"xaxis\": \"x\", \"y\": [3, 1, 3, 3, 2, 1, 3], \"yaxis\": \"y\"}, {\"alignmentgroup\": \"True\", \"hoverlabel\": {\"namelength\": 0}, \"hovertemplate\": \"Category=PRODUCTIVITY<br>Month=%{x}<br>NumberOfApps=%{y}\", \"legendgroup\": \"Category=PRODUCTIVITY\", \"marker\": {\"color\": \"#FF97FF\"}, \"name\": \"Category=PRODUCTIVITY\", \"offsetgroup\": \"Category=PRODUCTIVITY\", \"orientation\": \"v\", \"showlegend\": true, \"textposition\": \"auto\", \"type\": \"bar\", \"x\": [\"August\", \"September\"], \"xaxis\": \"x\", \"y\": [2, 3], \"yaxis\": \"y\"}, {\"alignmentgroup\": \"True\", \"hoverlabel\": {\"namelength\": 0}, \"hovertemplate\": \"Category=TOOLS<br>Month=%{x}<br>NumberOfApps=%{y}\", \"legendgroup\": \"Category=TOOLS\", \"marker\": {\"color\": \"#FECB52\"}, \"name\": \"Category=TOOLS\", \"offsetgroup\": \"Category=TOOLS\", \"orientation\": \"v\", \"showlegend\": true, \"textposition\": \"auto\", \"type\": \"bar\", \"x\": [\"August\", \"December\", \"July\", \"November\", \"October\", \"September\"], \"xaxis\": \"x\", \"y\": [1, 2, 2, 1, 2, 2], \"yaxis\": \"y\"}, {\"alignmentgroup\": \"True\", \"hoverlabel\": {\"namelength\": 0}, \"hovertemplate\": \"Category=EDUCATION<br>Month=%{x}<br>NumberOfApps=%{y}\", \"legendgroup\": \"Category=EDUCATION\", \"marker\": {\"color\": \"#636efa\"}, \"name\": \"Category=EDUCATION\", \"offsetgroup\": \"Category=EDUCATION\", \"orientation\": \"v\", \"showlegend\": true, \"textposition\": \"auto\", \"type\": \"bar\", \"x\": [\"December\"], \"xaxis\": \"x\", \"y\": [1], \"yaxis\": \"y\"}, {\"alignmentgroup\": \"True\", \"hoverlabel\": {\"namelength\": 0}, \"hovertemplate\": \"Category=MAPS_AND_NAVIGATION<br>Month=%{x}<br>NumberOfApps=%{y}\", \"legendgroup\": \"Category=MAPS_AND_NAVIGATION\", \"marker\": {\"color\": \"#EF553B\"}, \"name\": \"Category=MAPS_AND_NAVIGATION\", \"offsetgroup\": \"Category=MAPS_AND_NAVIGATION\", \"orientation\": \"v\", \"showlegend\": true, \"textposition\": \"auto\", \"type\": \"bar\", \"x\": [\"December\", \"February\", \"September\"], \"xaxis\": \"x\", \"y\": [1, 1, 1], \"yaxis\": \"y\"}, {\"alignmentgroup\": \"True\", \"hoverlabel\": {\"namelength\": 0}, \"hovertemplate\": \"Category=MEDICAL<br>Month=%{x}<br>NumberOfApps=%{y}\", \"legendgroup\": \"Category=MEDICAL\", \"marker\": {\"color\": \"#00cc96\"}, \"name\": \"Category=MEDICAL\", \"offsetgroup\": \"Category=MEDICAL\", \"orientation\": \"v\", \"showlegend\": true, \"textposition\": \"auto\", \"type\": \"bar\", \"x\": [\"December\", \"January\", \"July\", \"November\", \"October\"], \"xaxis\": \"x\", \"y\": [2, 1, 1, 1, 1], \"yaxis\": \"y\"}, {\"alignmentgroup\": \"True\", \"hoverlabel\": {\"namelength\": 0}, \"hovertemplate\": \"Category=LIFESTYLE<br>Month=%{x}<br>NumberOfApps=%{y}\", \"legendgroup\": \"Category=LIFESTYLE\", \"marker\": {\"color\": \"#ab63fa\"}, \"name\": \"Category=LIFESTYLE\", \"offsetgroup\": \"Category=LIFESTYLE\", \"orientation\": \"v\", \"showlegend\": true, \"textposition\": \"auto\", \"type\": \"bar\", \"x\": [\"February\", \"July\", \"September\"], \"xaxis\": \"x\", \"y\": [1, 1, 1], \"yaxis\": \"y\"}, {\"alignmentgroup\": \"True\", \"hoverlabel\": {\"namelength\": 0}, \"hovertemplate\": \"Category=TRAVEL_AND_LOCAL<br>Month=%{x}<br>NumberOfApps=%{y}\", \"legendgroup\": \"Category=TRAVEL_AND_LOCAL\", \"marker\": {\"color\": \"#FFA15A\"}, \"name\": \"Category=TRAVEL_AND_LOCAL\", \"offsetgroup\": \"Category=TRAVEL_AND_LOCAL\", \"orientation\": \"v\", \"showlegend\": true, \"textposition\": \"auto\", \"type\": \"bar\", \"x\": [\"July\"], \"xaxis\": \"x\", \"y\": [1], \"yaxis\": \"y\"}, {\"alignmentgroup\": \"True\", \"hoverlabel\": {\"namelength\": 0}, \"hovertemplate\": \"Category=FINANCE<br>Month=%{x}<br>NumberOfApps=%{y}\", \"legendgroup\": \"Category=FINANCE\", \"marker\": {\"color\": \"#19d3f3\"}, \"name\": \"Category=FINANCE\", \"offsetgroup\": \"Category=FINANCE\", \"orientation\": \"v\", \"showlegend\": true, \"textposition\": \"auto\", \"type\": \"bar\", \"x\": [\"June\", \"October\", \"September\"], \"xaxis\": \"x\", \"y\": [1, 1, 1], \"yaxis\": \"y\"}, {\"alignmentgroup\": \"True\", \"hoverlabel\": {\"namelength\": 0}, \"hovertemplate\": \"Category=HEALTH_AND_FITNESS<br>Month=%{x}<br>NumberOfApps=%{y}\", \"legendgroup\": \"Category=HEALTH_AND_FITNESS\", \"marker\": {\"color\": \"#FF6692\"}, \"name\": \"Category=HEALTH_AND_FITNESS\", \"offsetgroup\": \"Category=HEALTH_AND_FITNESS\", \"orientation\": \"v\", \"showlegend\": true, \"textposition\": \"auto\", \"type\": \"bar\", \"x\": [\"June\"], \"xaxis\": \"x\", \"y\": [1], \"yaxis\": \"y\"}, {\"alignmentgroup\": \"True\", \"hoverlabel\": {\"namelength\": 0}, \"hovertemplate\": \"Category=SHOPPING<br>Month=%{x}<br>NumberOfApps=%{y}\", \"legendgroup\": \"Category=SHOPPING\", \"marker\": {\"color\": \"#B6E880\"}, \"name\": \"Category=SHOPPING\", \"offsetgroup\": \"Category=SHOPPING\", \"orientation\": \"v\", \"showlegend\": true, \"textposition\": \"auto\", \"type\": \"bar\", \"x\": [\"June\"], \"xaxis\": \"x\", \"y\": [1], \"yaxis\": \"y\"}, {\"alignmentgroup\": \"True\", \"hoverlabel\": {\"namelength\": 0}, \"hovertemplate\": \"Category=LIBRARIES_AND_DEMO<br>Month=%{x}<br>NumberOfApps=%{y}\", \"legendgroup\": \"Category=LIBRARIES_AND_DEMO\", \"marker\": {\"color\": \"#FF97FF\"}, \"name\": \"Category=LIBRARIES_AND_DEMO\", \"offsetgroup\": \"Category=LIBRARIES_AND_DEMO\", \"orientation\": \"v\", \"showlegend\": true, \"textposition\": \"auto\", \"type\": \"bar\", \"x\": [\"March\"], \"xaxis\": \"x\", \"y\": [1], \"yaxis\": \"y\"}, {\"alignmentgroup\": \"True\", \"hoverlabel\": {\"namelength\": 0}, \"hovertemplate\": \"Category=SOCIAL<br>Month=%{x}<br>NumberOfApps=%{y}\", \"legendgroup\": \"Category=SOCIAL\", \"marker\": {\"color\": \"#FECB52\"}, \"name\": \"Category=SOCIAL\", \"offsetgroup\": \"Category=SOCIAL\", \"orientation\": \"v\", \"showlegend\": true, \"textposition\": \"auto\", \"type\": \"bar\", \"x\": [\"May\"], \"xaxis\": \"x\", \"y\": [2], \"yaxis\": \"y\"}, {\"alignmentgroup\": \"True\", \"hoverlabel\": {\"namelength\": 0}, \"hovertemplate\": \"Category=HOUSE_AND_HOME<br>Month=%{x}<br>NumberOfApps=%{y}\", \"legendgroup\": \"Category=HOUSE_AND_HOME\", \"marker\": {\"color\": \"#636efa\"}, \"name\": \"Category=HOUSE_AND_HOME\", \"offsetgroup\": \"Category=HOUSE_AND_HOME\", \"orientation\": \"v\", \"showlegend\": true, \"textposition\": \"auto\", \"type\": \"bar\", \"x\": [\"November\"], \"xaxis\": \"x\", \"y\": [1], \"yaxis\": \"y\"}, {\"alignmentgroup\": \"True\", \"hoverlabel\": {\"namelength\": 0}, \"hovertemplate\": \"Category=WEATHER<br>Month=%{x}<br>NumberOfApps=%{y}\", \"legendgroup\": \"Category=WEATHER\", \"marker\": {\"color\": \"#EF553B\"}, \"name\": \"Category=WEATHER\", \"offsetgroup\": \"Category=WEATHER\", \"orientation\": \"v\", \"showlegend\": true, \"textposition\": \"auto\", \"type\": \"bar\", \"x\": [\"November\"], \"xaxis\": \"x\", \"y\": [1], \"yaxis\": \"y\"}],\n",
              "                        {\"barmode\": \"relative\", \"legend\": {\"tracegroupgap\": 0}, \"template\": {\"data\": {\"bar\": [{\"error_x\": {\"color\": \"#2a3f5f\"}, \"error_y\": {\"color\": \"#2a3f5f\"}, \"marker\": {\"line\": {\"color\": \"#E5ECF6\", \"width\": 0.5}}, \"type\": \"bar\"}], \"barpolar\": [{\"marker\": {\"line\": {\"color\": \"#E5ECF6\", \"width\": 0.5}}, \"type\": \"barpolar\"}], \"carpet\": [{\"aaxis\": {\"endlinecolor\": \"#2a3f5f\", \"gridcolor\": \"white\", \"linecolor\": \"white\", \"minorgridcolor\": \"white\", \"startlinecolor\": \"#2a3f5f\"}, \"baxis\": {\"endlinecolor\": \"#2a3f5f\", \"gridcolor\": \"white\", \"linecolor\": \"white\", \"minorgridcolor\": \"white\", \"startlinecolor\": \"#2a3f5f\"}, \"type\": \"carpet\"}], \"choropleth\": [{\"colorbar\": {\"outlinewidth\": 0, \"ticks\": \"\"}, \"type\": \"choropleth\"}], \"contour\": [{\"colorbar\": {\"outlinewidth\": 0, \"ticks\": \"\"}, \"colorscale\": [[0.0, \"#0d0887\"], [0.1111111111111111, \"#46039f\"], [0.2222222222222222, \"#7201a8\"], [0.3333333333333333, \"#9c179e\"], [0.4444444444444444, \"#bd3786\"], [0.5555555555555556, \"#d8576b\"], [0.6666666666666666, \"#ed7953\"], [0.7777777777777778, \"#fb9f3a\"], [0.8888888888888888, \"#fdca26\"], [1.0, \"#f0f921\"]], \"type\": \"contour\"}], \"contourcarpet\": [{\"colorbar\": {\"outlinewidth\": 0, \"ticks\": \"\"}, \"type\": \"contourcarpet\"}], \"heatmap\": [{\"colorbar\": {\"outlinewidth\": 0, \"ticks\": \"\"}, \"colorscale\": [[0.0, \"#0d0887\"], [0.1111111111111111, \"#46039f\"], [0.2222222222222222, \"#7201a8\"], [0.3333333333333333, \"#9c179e\"], [0.4444444444444444, \"#bd3786\"], [0.5555555555555556, \"#d8576b\"], [0.6666666666666666, \"#ed7953\"], [0.7777777777777778, \"#fb9f3a\"], [0.8888888888888888, \"#fdca26\"], [1.0, \"#f0f921\"]], \"type\": \"heatmap\"}], \"heatmapgl\": [{\"colorbar\": {\"outlinewidth\": 0, \"ticks\": \"\"}, \"colorscale\": [[0.0, \"#0d0887\"], [0.1111111111111111, \"#46039f\"], [0.2222222222222222, \"#7201a8\"], [0.3333333333333333, \"#9c179e\"], [0.4444444444444444, \"#bd3786\"], [0.5555555555555556, \"#d8576b\"], [0.6666666666666666, \"#ed7953\"], [0.7777777777777778, \"#fb9f3a\"], [0.8888888888888888, \"#fdca26\"], [1.0, \"#f0f921\"]], \"type\": \"heatmapgl\"}], \"histogram\": [{\"marker\": {\"colorbar\": {\"outlinewidth\": 0, \"ticks\": \"\"}}, \"type\": \"histogram\"}], \"histogram2d\": [{\"colorbar\": {\"outlinewidth\": 0, \"ticks\": \"\"}, \"colorscale\": [[0.0, \"#0d0887\"], [0.1111111111111111, \"#46039f\"], [0.2222222222222222, \"#7201a8\"], [0.3333333333333333, \"#9c179e\"], [0.4444444444444444, \"#bd3786\"], [0.5555555555555556, \"#d8576b\"], [0.6666666666666666, \"#ed7953\"], [0.7777777777777778, \"#fb9f3a\"], [0.8888888888888888, \"#fdca26\"], [1.0, \"#f0f921\"]], \"type\": \"histogram2d\"}], \"histogram2dcontour\": [{\"colorbar\": {\"outlinewidth\": 0, \"ticks\": \"\"}, \"colorscale\": [[0.0, \"#0d0887\"], [0.1111111111111111, \"#46039f\"], [0.2222222222222222, \"#7201a8\"], [0.3333333333333333, \"#9c179e\"], [0.4444444444444444, \"#bd3786\"], [0.5555555555555556, \"#d8576b\"], [0.6666666666666666, \"#ed7953\"], [0.7777777777777778, \"#fb9f3a\"], [0.8888888888888888, \"#fdca26\"], [1.0, \"#f0f921\"]], \"type\": \"histogram2dcontour\"}], \"mesh3d\": [{\"colorbar\": {\"outlinewidth\": 0, \"ticks\": \"\"}, \"type\": \"mesh3d\"}], \"parcoords\": [{\"line\": {\"colorbar\": {\"outlinewidth\": 0, \"ticks\": \"\"}}, \"type\": \"parcoords\"}], \"pie\": [{\"automargin\": true, \"type\": \"pie\"}], \"scatter\": [{\"marker\": {\"colorbar\": {\"outlinewidth\": 0, \"ticks\": \"\"}}, \"type\": \"scatter\"}], \"scatter3d\": [{\"line\": {\"colorbar\": {\"outlinewidth\": 0, \"ticks\": \"\"}}, \"marker\": {\"colorbar\": {\"outlinewidth\": 0, \"ticks\": \"\"}}, \"type\": \"scatter3d\"}], \"scattercarpet\": [{\"marker\": {\"colorbar\": {\"outlinewidth\": 0, \"ticks\": \"\"}}, \"type\": \"scattercarpet\"}], \"scattergeo\": [{\"marker\": {\"colorbar\": {\"outlinewidth\": 0, \"ticks\": \"\"}}, \"type\": \"scattergeo\"}], \"scattergl\": [{\"marker\": {\"colorbar\": {\"outlinewidth\": 0, \"ticks\": \"\"}}, \"type\": \"scattergl\"}], \"scattermapbox\": [{\"marker\": {\"colorbar\": {\"outlinewidth\": 0, \"ticks\": \"\"}}, \"type\": \"scattermapbox\"}], \"scatterpolar\": [{\"marker\": {\"colorbar\": {\"outlinewidth\": 0, \"ticks\": \"\"}}, \"type\": \"scatterpolar\"}], \"scatterpolargl\": [{\"marker\": {\"colorbar\": {\"outlinewidth\": 0, \"ticks\": \"\"}}, \"type\": \"scatterpolargl\"}], \"scatterternary\": [{\"marker\": {\"colorbar\": {\"outlinewidth\": 0, \"ticks\": \"\"}}, \"type\": \"scatterternary\"}], \"surface\": [{\"colorbar\": {\"outlinewidth\": 0, \"ticks\": \"\"}, \"colorscale\": [[0.0, \"#0d0887\"], [0.1111111111111111, \"#46039f\"], [0.2222222222222222, \"#7201a8\"], [0.3333333333333333, \"#9c179e\"], [0.4444444444444444, \"#bd3786\"], [0.5555555555555556, \"#d8576b\"], [0.6666666666666666, \"#ed7953\"], [0.7777777777777778, \"#fb9f3a\"], [0.8888888888888888, \"#fdca26\"], [1.0, \"#f0f921\"]], \"type\": \"surface\"}], \"table\": [{\"cells\": {\"fill\": {\"color\": \"#EBF0F8\"}, \"line\": {\"color\": \"white\"}}, \"header\": {\"fill\": {\"color\": \"#C8D4E3\"}, \"line\": {\"color\": \"white\"}}, \"type\": \"table\"}]}, \"layout\": {\"annotationdefaults\": {\"arrowcolor\": \"#2a3f5f\", \"arrowhead\": 0, \"arrowwidth\": 1}, \"coloraxis\": {\"colorbar\": {\"outlinewidth\": 0, \"ticks\": \"\"}}, \"colorscale\": {\"diverging\": [[0, \"#8e0152\"], [0.1, \"#c51b7d\"], [0.2, \"#de77ae\"], [0.3, \"#f1b6da\"], [0.4, \"#fde0ef\"], [0.5, \"#f7f7f7\"], [0.6, \"#e6f5d0\"], [0.7, \"#b8e186\"], [0.8, \"#7fbc41\"], [0.9, \"#4d9221\"], [1, \"#276419\"]], \"sequential\": [[0.0, \"#0d0887\"], [0.1111111111111111, \"#46039f\"], [0.2222222222222222, \"#7201a8\"], [0.3333333333333333, \"#9c179e\"], [0.4444444444444444, \"#bd3786\"], [0.5555555555555556, \"#d8576b\"], [0.6666666666666666, \"#ed7953\"], [0.7777777777777778, \"#fb9f3a\"], [0.8888888888888888, \"#fdca26\"], [1.0, \"#f0f921\"]], \"sequentialminus\": [[0.0, \"#0d0887\"], [0.1111111111111111, \"#46039f\"], [0.2222222222222222, \"#7201a8\"], [0.3333333333333333, \"#9c179e\"], [0.4444444444444444, \"#bd3786\"], [0.5555555555555556, \"#d8576b\"], [0.6666666666666666, \"#ed7953\"], [0.7777777777777778, \"#fb9f3a\"], [0.8888888888888888, \"#fdca26\"], [1.0, \"#f0f921\"]]}, \"colorway\": [\"#636efa\", \"#EF553B\", \"#00cc96\", \"#ab63fa\", \"#FFA15A\", \"#19d3f3\", \"#FF6692\", \"#B6E880\", \"#FF97FF\", \"#FECB52\"], \"font\": {\"color\": \"#2a3f5f\"}, \"geo\": {\"bgcolor\": \"white\", \"lakecolor\": \"white\", \"landcolor\": \"#E5ECF6\", \"showlakes\": true, \"showland\": true, \"subunitcolor\": \"white\"}, \"hoverlabel\": {\"align\": \"left\"}, \"hovermode\": \"closest\", \"mapbox\": {\"style\": \"light\"}, \"paper_bgcolor\": \"white\", \"plot_bgcolor\": \"#E5ECF6\", \"polar\": {\"angularaxis\": {\"gridcolor\": \"white\", \"linecolor\": \"white\", \"ticks\": \"\"}, \"bgcolor\": \"#E5ECF6\", \"radialaxis\": {\"gridcolor\": \"white\", \"linecolor\": \"white\", \"ticks\": \"\"}}, \"scene\": {\"xaxis\": {\"backgroundcolor\": \"#E5ECF6\", \"gridcolor\": \"white\", \"gridwidth\": 2, \"linecolor\": \"white\", \"showbackground\": true, \"ticks\": \"\", \"zerolinecolor\": \"white\"}, \"yaxis\": {\"backgroundcolor\": \"#E5ECF6\", \"gridcolor\": \"white\", \"gridwidth\": 2, \"linecolor\": \"white\", \"showbackground\": true, \"ticks\": \"\", \"zerolinecolor\": \"white\"}, \"zaxis\": {\"backgroundcolor\": \"#E5ECF6\", \"gridcolor\": \"white\", \"gridwidth\": 2, \"linecolor\": \"white\", \"showbackground\": true, \"ticks\": \"\", \"zerolinecolor\": \"white\"}}, \"shapedefaults\": {\"line\": {\"color\": \"#2a3f5f\"}}, \"ternary\": {\"aaxis\": {\"gridcolor\": \"white\", \"linecolor\": \"white\", \"ticks\": \"\"}, \"baxis\": {\"gridcolor\": \"white\", \"linecolor\": \"white\", \"ticks\": \"\"}, \"bgcolor\": \"#E5ECF6\", \"caxis\": {\"gridcolor\": \"white\", \"linecolor\": \"white\", \"ticks\": \"\"}}, \"title\": {\"x\": 0.05}, \"xaxis\": {\"automargin\": true, \"gridcolor\": \"white\", \"linecolor\": \"white\", \"ticks\": \"\", \"title\": {\"standoff\": 15}, \"zerolinecolor\": \"white\", \"zerolinewidth\": 2}, \"yaxis\": {\"automargin\": true, \"gridcolor\": \"white\", \"linecolor\": \"white\", \"ticks\": \"\", \"title\": {\"standoff\": 15}, \"zerolinecolor\": \"white\", \"zerolinewidth\": 2}}}, \"title\": {\"text\": \"2013 Monthly Category Trend\"}, \"xaxis\": {\"anchor\": \"y\", \"categoryarray\": [\"January\", \"February\", \"March\", \"April\", \"May\", \"June\", \"July\", \"August\", \"September\", \"October\", \"November\", \"December\"], \"categoryorder\": \"array\", \"domain\": [0.0, 1.0], \"title\": {\"text\": \"Month\"}}, \"yaxis\": {\"anchor\": \"x\", \"domain\": [0.0, 1.0], \"title\": {\"text\": \"NumberOfApps\"}}},\n",
              "                        {\"responsive\": true}\n",
              "                    ).then(function(){\n",
              "                            \n",
              "var gd = document.getElementById('cb783c52-1bbf-43b1-89c7-27e5a6329505');\n",
              "var x = new MutationObserver(function (mutations, observer) {{\n",
              "        var display = window.getComputedStyle(gd).display;\n",
              "        if (!display || display === 'none') {{\n",
              "            console.log([gd, 'removed!']);\n",
              "            Plotly.purge(gd);\n",
              "            observer.disconnect();\n",
              "        }}\n",
              "}});\n",
              "\n",
              "// Listen for the removal of the full notebook cells\n",
              "var notebookContainer = gd.closest('#notebook-container');\n",
              "if (notebookContainer) {{\n",
              "    x.observe(notebookContainer, {childList: true});\n",
              "}}\n",
              "\n",
              "// Listen for the clearing of the current output cell\n",
              "var outputEl = gd.closest('.output');\n",
              "if (outputEl) {{\n",
              "    x.observe(outputEl, {childList: true});\n",
              "}}\n",
              "\n",
              "                        })\n",
              "                };\n",
              "                \n",
              "            </script>\n",
              "        </div>\n",
              "</body>\n",
              "</html>"
            ]
          },
          "metadata": {}
        },
        {
          "output_type": "display_data",
          "data": {
            "text/html": [
              "<html>\n",
              "<head><meta charset=\"utf-8\" /></head>\n",
              "<body>\n",
              "    <div>\n",
              "            <script src=\"https://cdnjs.cloudflare.com/ajax/libs/mathjax/2.7.5/MathJax.js?config=TeX-AMS-MML_SVG\"></script><script type=\"text/javascript\">if (window.MathJax) {MathJax.Hub.Config({SVG: {font: \"STIX-Web\"}});}</script>\n",
              "                <script type=\"text/javascript\">window.PlotlyConfig = {MathJaxConfig: 'local'};</script>\n",
              "        <script src=\"https://cdn.plot.ly/plotly-latest.min.js\"></script>    \n",
              "            <div id=\"f278e646-cff6-45e5-8004-9ca1e0b65abb\" class=\"plotly-graph-div\" style=\"height:525px; width:100%;\"></div>\n",
              "            <script type=\"text/javascript\">\n",
              "                \n",
              "                    window.PLOTLYENV=window.PLOTLYENV || {};\n",
              "                    \n",
              "                if (document.getElementById(\"f278e646-cff6-45e5-8004-9ca1e0b65abb\")) {\n",
              "                    Plotly.newPlot(\n",
              "                        'f278e646-cff6-45e5-8004-9ca1e0b65abb',\n",
              "                        [{\"alignmentgroup\": \"True\", \"hoverlabel\": {\"namelength\": 0}, \"hovertemplate\": \"Category=FAMILY<br>Month=%{x}<br>NumberOfApps=%{y}\", \"legendgroup\": \"Category=FAMILY\", \"marker\": {\"color\": \"#636efa\"}, \"name\": \"Category=FAMILY\", \"offsetgroup\": \"Category=FAMILY\", \"orientation\": \"v\", \"showlegend\": true, \"textposition\": \"auto\", \"type\": \"bar\", \"x\": [\"April\", \"August\", \"December\", \"February\", \"January\", \"June\", \"November\", \"September\"], \"xaxis\": \"x\", \"y\": [2, 1, 1, 1, 1, 1, 1, 1], \"yaxis\": \"y\"}, {\"alignmentgroup\": \"True\", \"hoverlabel\": {\"namelength\": 0}, \"hovertemplate\": \"Category=GAME<br>Month=%{x}<br>NumberOfApps=%{y}\", \"legendgroup\": \"Category=GAME\", \"marker\": {\"color\": \"#EF553B\"}, \"name\": \"Category=GAME\", \"offsetgroup\": \"Category=GAME\", \"orientation\": \"v\", \"showlegend\": true, \"textposition\": \"auto\", \"type\": \"bar\", \"x\": [\"August\", \"November\"], \"xaxis\": \"x\", \"y\": [1, 1], \"yaxis\": \"y\"}, {\"alignmentgroup\": \"True\", \"hoverlabel\": {\"namelength\": 0}, \"hovertemplate\": \"Category=TOOLS<br>Month=%{x}<br>NumberOfApps=%{y}\", \"legendgroup\": \"Category=TOOLS\", \"marker\": {\"color\": \"#00cc96\"}, \"name\": \"Category=TOOLS\", \"offsetgroup\": \"Category=TOOLS\", \"orientation\": \"v\", \"showlegend\": true, \"textposition\": \"auto\", \"type\": \"bar\", \"x\": [\"August\", \"February\", \"June\"], \"xaxis\": \"x\", \"y\": [1, 1, 1], \"yaxis\": \"y\"}, {\"alignmentgroup\": \"True\", \"hoverlabel\": {\"namelength\": 0}, \"hovertemplate\": \"Category=MEDICAL<br>Month=%{x}<br>NumberOfApps=%{y}\", \"legendgroup\": \"Category=MEDICAL\", \"marker\": {\"color\": \"#ab63fa\"}, \"name\": \"Category=MEDICAL\", \"offsetgroup\": \"Category=MEDICAL\", \"orientation\": \"v\", \"showlegend\": true, \"textposition\": \"auto\", \"type\": \"bar\", \"x\": [\"February\", \"July\", \"November\"], \"xaxis\": \"x\", \"y\": [1, 1, 1], \"yaxis\": \"y\"}, {\"alignmentgroup\": \"True\", \"hoverlabel\": {\"namelength\": 0}, \"hovertemplate\": \"Category=BUSINESS<br>Month=%{x}<br>NumberOfApps=%{y}\", \"legendgroup\": \"Category=BUSINESS\", \"marker\": {\"color\": \"#FFA15A\"}, \"name\": \"Category=BUSINESS\", \"offsetgroup\": \"Category=BUSINESS\", \"orientation\": \"v\", \"showlegend\": true, \"textposition\": \"auto\", \"type\": \"bar\", \"x\": [\"January\"], \"xaxis\": \"x\", \"y\": [1], \"yaxis\": \"y\"}, {\"alignmentgroup\": \"True\", \"hoverlabel\": {\"namelength\": 0}, \"hovertemplate\": \"Category=LIBRARIES_AND_DEMO<br>Month=%{x}<br>NumberOfApps=%{y}\", \"legendgroup\": \"Category=LIBRARIES_AND_DEMO\", \"marker\": {\"color\": \"#19d3f3\"}, \"name\": \"Category=LIBRARIES_AND_DEMO\", \"offsetgroup\": \"Category=LIBRARIES_AND_DEMO\", \"orientation\": \"v\", \"showlegend\": true, \"textposition\": \"auto\", \"type\": \"bar\", \"x\": [\"January\"], \"xaxis\": \"x\", \"y\": [1], \"yaxis\": \"y\"}, {\"alignmentgroup\": \"True\", \"hoverlabel\": {\"namelength\": 0}, \"hovertemplate\": \"Category=FINANCE<br>Month=%{x}<br>NumberOfApps=%{y}\", \"legendgroup\": \"Category=FINANCE\", \"marker\": {\"color\": \"#FF6692\"}, \"name\": \"Category=FINANCE\", \"offsetgroup\": \"Category=FINANCE\", \"orientation\": \"v\", \"showlegend\": true, \"textposition\": \"auto\", \"type\": \"bar\", \"x\": [\"July\"], \"xaxis\": \"x\", \"y\": [1], \"yaxis\": \"y\"}, {\"alignmentgroup\": \"True\", \"hoverlabel\": {\"namelength\": 0}, \"hovertemplate\": \"Category=COMMUNICATION<br>Month=%{x}<br>NumberOfApps=%{y}\", \"legendgroup\": \"Category=COMMUNICATION\", \"marker\": {\"color\": \"#B6E880\"}, \"name\": \"Category=COMMUNICATION\", \"offsetgroup\": \"Category=COMMUNICATION\", \"orientation\": \"v\", \"showlegend\": true, \"textposition\": \"auto\", \"type\": \"bar\", \"x\": [\"June\"], \"xaxis\": \"x\", \"y\": [1], \"yaxis\": \"y\"}, {\"alignmentgroup\": \"True\", \"hoverlabel\": {\"namelength\": 0}, \"hovertemplate\": \"Category=HEALTH_AND_FITNESS<br>Month=%{x}<br>NumberOfApps=%{y}\", \"legendgroup\": \"Category=HEALTH_AND_FITNESS\", \"marker\": {\"color\": \"#FF97FF\"}, \"name\": \"Category=HEALTH_AND_FITNESS\", \"offsetgroup\": \"Category=HEALTH_AND_FITNESS\", \"orientation\": \"v\", \"showlegend\": true, \"textposition\": \"auto\", \"type\": \"bar\", \"x\": [\"June\", \"October\"], \"xaxis\": \"x\", \"y\": [1, 1], \"yaxis\": \"y\"}, {\"alignmentgroup\": \"True\", \"hoverlabel\": {\"namelength\": 0}, \"hovertemplate\": \"Category=PHOTOGRAPHY<br>Month=%{x}<br>NumberOfApps=%{y}\", \"legendgroup\": \"Category=PHOTOGRAPHY\", \"marker\": {\"color\": \"#FECB52\"}, \"name\": \"Category=PHOTOGRAPHY\", \"offsetgroup\": \"Category=PHOTOGRAPHY\", \"orientation\": \"v\", \"showlegend\": true, \"textposition\": \"auto\", \"type\": \"bar\", \"x\": [\"November\"], \"xaxis\": \"x\", \"y\": [1], \"yaxis\": \"y\"}, {\"alignmentgroup\": \"True\", \"hoverlabel\": {\"namelength\": 0}, \"hovertemplate\": \"Category=SHOPPING<br>Month=%{x}<br>NumberOfApps=%{y}\", \"legendgroup\": \"Category=SHOPPING\", \"marker\": {\"color\": \"#636efa\"}, \"name\": \"Category=SHOPPING\", \"offsetgroup\": \"Category=SHOPPING\", \"orientation\": \"v\", \"showlegend\": true, \"textposition\": \"auto\", \"type\": \"bar\", \"x\": [\"November\"], \"xaxis\": \"x\", \"y\": [1], \"yaxis\": \"y\"}, {\"alignmentgroup\": \"True\", \"hoverlabel\": {\"namelength\": 0}, \"hovertemplate\": \"Category=PRODUCTIVITY<br>Month=%{x}<br>NumberOfApps=%{y}\", \"legendgroup\": \"Category=PRODUCTIVITY\", \"marker\": {\"color\": \"#EF553B\"}, \"name\": \"Category=PRODUCTIVITY\", \"offsetgroup\": \"Category=PRODUCTIVITY\", \"orientation\": \"v\", \"showlegend\": true, \"textposition\": \"auto\", \"type\": \"bar\", \"x\": [\"September\"], \"xaxis\": \"x\", \"y\": [1], \"yaxis\": \"y\"}],\n",
              "                        {\"barmode\": \"relative\", \"legend\": {\"tracegroupgap\": 0}, \"template\": {\"data\": {\"bar\": [{\"error_x\": {\"color\": \"#2a3f5f\"}, \"error_y\": {\"color\": \"#2a3f5f\"}, \"marker\": {\"line\": {\"color\": \"#E5ECF6\", \"width\": 0.5}}, \"type\": \"bar\"}], \"barpolar\": [{\"marker\": {\"line\": {\"color\": \"#E5ECF6\", \"width\": 0.5}}, \"type\": \"barpolar\"}], \"carpet\": [{\"aaxis\": {\"endlinecolor\": \"#2a3f5f\", \"gridcolor\": \"white\", \"linecolor\": \"white\", \"minorgridcolor\": \"white\", \"startlinecolor\": \"#2a3f5f\"}, \"baxis\": {\"endlinecolor\": \"#2a3f5f\", \"gridcolor\": \"white\", \"linecolor\": \"white\", \"minorgridcolor\": \"white\", \"startlinecolor\": \"#2a3f5f\"}, \"type\": \"carpet\"}], \"choropleth\": [{\"colorbar\": {\"outlinewidth\": 0, \"ticks\": \"\"}, \"type\": \"choropleth\"}], \"contour\": [{\"colorbar\": {\"outlinewidth\": 0, \"ticks\": \"\"}, \"colorscale\": [[0.0, \"#0d0887\"], [0.1111111111111111, \"#46039f\"], [0.2222222222222222, \"#7201a8\"], [0.3333333333333333, \"#9c179e\"], [0.4444444444444444, \"#bd3786\"], [0.5555555555555556, \"#d8576b\"], [0.6666666666666666, \"#ed7953\"], [0.7777777777777778, \"#fb9f3a\"], [0.8888888888888888, \"#fdca26\"], [1.0, \"#f0f921\"]], \"type\": \"contour\"}], \"contourcarpet\": [{\"colorbar\": {\"outlinewidth\": 0, \"ticks\": \"\"}, \"type\": \"contourcarpet\"}], \"heatmap\": [{\"colorbar\": {\"outlinewidth\": 0, \"ticks\": \"\"}, \"colorscale\": [[0.0, \"#0d0887\"], [0.1111111111111111, \"#46039f\"], [0.2222222222222222, \"#7201a8\"], [0.3333333333333333, \"#9c179e\"], [0.4444444444444444, \"#bd3786\"], [0.5555555555555556, \"#d8576b\"], [0.6666666666666666, \"#ed7953\"], [0.7777777777777778, \"#fb9f3a\"], [0.8888888888888888, \"#fdca26\"], [1.0, \"#f0f921\"]], \"type\": \"heatmap\"}], \"heatmapgl\": [{\"colorbar\": {\"outlinewidth\": 0, \"ticks\": \"\"}, \"colorscale\": [[0.0, \"#0d0887\"], [0.1111111111111111, \"#46039f\"], [0.2222222222222222, \"#7201a8\"], [0.3333333333333333, \"#9c179e\"], [0.4444444444444444, \"#bd3786\"], [0.5555555555555556, \"#d8576b\"], [0.6666666666666666, \"#ed7953\"], [0.7777777777777778, \"#fb9f3a\"], [0.8888888888888888, \"#fdca26\"], [1.0, \"#f0f921\"]], \"type\": \"heatmapgl\"}], \"histogram\": [{\"marker\": {\"colorbar\": {\"outlinewidth\": 0, \"ticks\": \"\"}}, \"type\": \"histogram\"}], \"histogram2d\": [{\"colorbar\": {\"outlinewidth\": 0, \"ticks\": \"\"}, \"colorscale\": [[0.0, \"#0d0887\"], [0.1111111111111111, \"#46039f\"], [0.2222222222222222, \"#7201a8\"], [0.3333333333333333, \"#9c179e\"], [0.4444444444444444, \"#bd3786\"], [0.5555555555555556, \"#d8576b\"], [0.6666666666666666, \"#ed7953\"], [0.7777777777777778, \"#fb9f3a\"], [0.8888888888888888, \"#fdca26\"], [1.0, \"#f0f921\"]], \"type\": \"histogram2d\"}], \"histogram2dcontour\": [{\"colorbar\": {\"outlinewidth\": 0, \"ticks\": \"\"}, \"colorscale\": [[0.0, \"#0d0887\"], [0.1111111111111111, \"#46039f\"], [0.2222222222222222, \"#7201a8\"], [0.3333333333333333, \"#9c179e\"], [0.4444444444444444, \"#bd3786\"], [0.5555555555555556, \"#d8576b\"], [0.6666666666666666, \"#ed7953\"], [0.7777777777777778, \"#fb9f3a\"], [0.8888888888888888, \"#fdca26\"], [1.0, \"#f0f921\"]], \"type\": \"histogram2dcontour\"}], \"mesh3d\": [{\"colorbar\": {\"outlinewidth\": 0, \"ticks\": \"\"}, \"type\": \"mesh3d\"}], \"parcoords\": [{\"line\": {\"colorbar\": {\"outlinewidth\": 0, \"ticks\": \"\"}}, \"type\": \"parcoords\"}], \"pie\": [{\"automargin\": true, \"type\": \"pie\"}], \"scatter\": [{\"marker\": {\"colorbar\": {\"outlinewidth\": 0, \"ticks\": \"\"}}, \"type\": \"scatter\"}], \"scatter3d\": [{\"line\": {\"colorbar\": {\"outlinewidth\": 0, \"ticks\": \"\"}}, \"marker\": {\"colorbar\": {\"outlinewidth\": 0, \"ticks\": \"\"}}, \"type\": \"scatter3d\"}], \"scattercarpet\": [{\"marker\": {\"colorbar\": {\"outlinewidth\": 0, \"ticks\": \"\"}}, \"type\": \"scattercarpet\"}], \"scattergeo\": [{\"marker\": {\"colorbar\": {\"outlinewidth\": 0, \"ticks\": \"\"}}, \"type\": \"scattergeo\"}], \"scattergl\": [{\"marker\": {\"colorbar\": {\"outlinewidth\": 0, \"ticks\": \"\"}}, \"type\": \"scattergl\"}], \"scattermapbox\": [{\"marker\": {\"colorbar\": {\"outlinewidth\": 0, \"ticks\": \"\"}}, \"type\": \"scattermapbox\"}], \"scatterpolar\": [{\"marker\": {\"colorbar\": {\"outlinewidth\": 0, \"ticks\": \"\"}}, \"type\": \"scatterpolar\"}], \"scatterpolargl\": [{\"marker\": {\"colorbar\": {\"outlinewidth\": 0, \"ticks\": \"\"}}, \"type\": \"scatterpolargl\"}], \"scatterternary\": [{\"marker\": {\"colorbar\": {\"outlinewidth\": 0, \"ticks\": \"\"}}, \"type\": \"scatterternary\"}], \"surface\": [{\"colorbar\": {\"outlinewidth\": 0, \"ticks\": \"\"}, \"colorscale\": [[0.0, \"#0d0887\"], [0.1111111111111111, \"#46039f\"], [0.2222222222222222, \"#7201a8\"], [0.3333333333333333, \"#9c179e\"], [0.4444444444444444, \"#bd3786\"], [0.5555555555555556, \"#d8576b\"], [0.6666666666666666, \"#ed7953\"], [0.7777777777777778, \"#fb9f3a\"], [0.8888888888888888, \"#fdca26\"], [1.0, \"#f0f921\"]], \"type\": \"surface\"}], \"table\": [{\"cells\": {\"fill\": {\"color\": \"#EBF0F8\"}, \"line\": {\"color\": \"white\"}}, \"header\": {\"fill\": {\"color\": \"#C8D4E3\"}, \"line\": {\"color\": \"white\"}}, \"type\": \"table\"}]}, \"layout\": {\"annotationdefaults\": {\"arrowcolor\": \"#2a3f5f\", \"arrowhead\": 0, \"arrowwidth\": 1}, \"coloraxis\": {\"colorbar\": {\"outlinewidth\": 0, \"ticks\": \"\"}}, \"colorscale\": {\"diverging\": [[0, \"#8e0152\"], [0.1, \"#c51b7d\"], [0.2, \"#de77ae\"], [0.3, \"#f1b6da\"], [0.4, \"#fde0ef\"], [0.5, \"#f7f7f7\"], [0.6, \"#e6f5d0\"], [0.7, \"#b8e186\"], [0.8, \"#7fbc41\"], [0.9, \"#4d9221\"], [1, \"#276419\"]], \"sequential\": [[0.0, \"#0d0887\"], [0.1111111111111111, \"#46039f\"], [0.2222222222222222, \"#7201a8\"], [0.3333333333333333, \"#9c179e\"], [0.4444444444444444, \"#bd3786\"], [0.5555555555555556, \"#d8576b\"], [0.6666666666666666, \"#ed7953\"], [0.7777777777777778, \"#fb9f3a\"], [0.8888888888888888, \"#fdca26\"], [1.0, \"#f0f921\"]], \"sequentialminus\": [[0.0, \"#0d0887\"], [0.1111111111111111, \"#46039f\"], [0.2222222222222222, \"#7201a8\"], [0.3333333333333333, \"#9c179e\"], [0.4444444444444444, \"#bd3786\"], [0.5555555555555556, \"#d8576b\"], [0.6666666666666666, \"#ed7953\"], [0.7777777777777778, \"#fb9f3a\"], [0.8888888888888888, \"#fdca26\"], [1.0, \"#f0f921\"]]}, \"colorway\": [\"#636efa\", \"#EF553B\", \"#00cc96\", \"#ab63fa\", \"#FFA15A\", \"#19d3f3\", \"#FF6692\", \"#B6E880\", \"#FF97FF\", \"#FECB52\"], \"font\": {\"color\": \"#2a3f5f\"}, \"geo\": {\"bgcolor\": \"white\", \"lakecolor\": \"white\", \"landcolor\": \"#E5ECF6\", \"showlakes\": true, \"showland\": true, \"subunitcolor\": \"white\"}, \"hoverlabel\": {\"align\": \"left\"}, \"hovermode\": \"closest\", \"mapbox\": {\"style\": \"light\"}, \"paper_bgcolor\": \"white\", \"plot_bgcolor\": \"#E5ECF6\", \"polar\": {\"angularaxis\": {\"gridcolor\": \"white\", \"linecolor\": \"white\", \"ticks\": \"\"}, \"bgcolor\": \"#E5ECF6\", \"radialaxis\": {\"gridcolor\": \"white\", \"linecolor\": \"white\", \"ticks\": \"\"}}, \"scene\": {\"xaxis\": {\"backgroundcolor\": \"#E5ECF6\", \"gridcolor\": \"white\", \"gridwidth\": 2, \"linecolor\": \"white\", \"showbackground\": true, \"ticks\": \"\", \"zerolinecolor\": \"white\"}, \"yaxis\": {\"backgroundcolor\": \"#E5ECF6\", \"gridcolor\": \"white\", \"gridwidth\": 2, \"linecolor\": \"white\", \"showbackground\": true, \"ticks\": \"\", \"zerolinecolor\": \"white\"}, \"zaxis\": {\"backgroundcolor\": \"#E5ECF6\", \"gridcolor\": \"white\", \"gridwidth\": 2, \"linecolor\": \"white\", \"showbackground\": true, \"ticks\": \"\", \"zerolinecolor\": \"white\"}}, \"shapedefaults\": {\"line\": {\"color\": \"#2a3f5f\"}}, \"ternary\": {\"aaxis\": {\"gridcolor\": \"white\", \"linecolor\": \"white\", \"ticks\": \"\"}, \"baxis\": {\"gridcolor\": \"white\", \"linecolor\": \"white\", \"ticks\": \"\"}, \"bgcolor\": \"#E5ECF6\", \"caxis\": {\"gridcolor\": \"white\", \"linecolor\": \"white\", \"ticks\": \"\"}}, \"title\": {\"x\": 0.05}, \"xaxis\": {\"automargin\": true, \"gridcolor\": \"white\", \"linecolor\": \"white\", \"ticks\": \"\", \"title\": {\"standoff\": 15}, \"zerolinecolor\": \"white\", \"zerolinewidth\": 2}, \"yaxis\": {\"automargin\": true, \"gridcolor\": \"white\", \"linecolor\": \"white\", \"ticks\": \"\", \"title\": {\"standoff\": 15}, \"zerolinecolor\": \"white\", \"zerolinewidth\": 2}}}, \"title\": {\"text\": \"2012 Monthly Category Trend\"}, \"xaxis\": {\"anchor\": \"y\", \"categoryarray\": [\"January\", \"February\", \"March\", \"April\", \"May\", \"June\", \"July\", \"August\", \"September\", \"October\", \"November\", \"December\"], \"categoryorder\": \"array\", \"domain\": [0.0, 1.0], \"title\": {\"text\": \"Month\"}}, \"yaxis\": {\"anchor\": \"x\", \"domain\": [0.0, 1.0], \"title\": {\"text\": \"NumberOfApps\"}}},\n",
              "                        {\"responsive\": true}\n",
              "                    ).then(function(){\n",
              "                            \n",
              "var gd = document.getElementById('f278e646-cff6-45e5-8004-9ca1e0b65abb');\n",
              "var x = new MutationObserver(function (mutations, observer) {{\n",
              "        var display = window.getComputedStyle(gd).display;\n",
              "        if (!display || display === 'none') {{\n",
              "            console.log([gd, 'removed!']);\n",
              "            Plotly.purge(gd);\n",
              "            observer.disconnect();\n",
              "        }}\n",
              "}});\n",
              "\n",
              "// Listen for the removal of the full notebook cells\n",
              "var notebookContainer = gd.closest('#notebook-container');\n",
              "if (notebookContainer) {{\n",
              "    x.observe(notebookContainer, {childList: true});\n",
              "}}\n",
              "\n",
              "// Listen for the clearing of the current output cell\n",
              "var outputEl = gd.closest('.output');\n",
              "if (outputEl) {{\n",
              "    x.observe(outputEl, {childList: true});\n",
              "}}\n",
              "\n",
              "                        })\n",
              "                };\n",
              "                \n",
              "            </script>\n",
              "        </div>\n",
              "</body>\n",
              "</html>"
            ]
          },
          "metadata": {}
        },
        {
          "output_type": "display_data",
          "data": {
            "text/html": [
              "<html>\n",
              "<head><meta charset=\"utf-8\" /></head>\n",
              "<body>\n",
              "    <div>\n",
              "            <script src=\"https://cdnjs.cloudflare.com/ajax/libs/mathjax/2.7.5/MathJax.js?config=TeX-AMS-MML_SVG\"></script><script type=\"text/javascript\">if (window.MathJax) {MathJax.Hub.Config({SVG: {font: \"STIX-Web\"}});}</script>\n",
              "                <script type=\"text/javascript\">window.PlotlyConfig = {MathJaxConfig: 'local'};</script>\n",
              "        <script src=\"https://cdn.plot.ly/plotly-latest.min.js\"></script>    \n",
              "            <div id=\"f53734f3-c65c-438b-a5b1-676f19222979\" class=\"plotly-graph-div\" style=\"height:525px; width:100%;\"></div>\n",
              "            <script type=\"text/javascript\">\n",
              "                \n",
              "                    window.PLOTLYENV=window.PLOTLYENV || {};\n",
              "                    \n",
              "                if (document.getElementById(\"f53734f3-c65c-438b-a5b1-676f19222979\")) {\n",
              "                    Plotly.newPlot(\n",
              "                        'f53734f3-c65c-438b-a5b1-676f19222979',\n",
              "                        [{\"alignmentgroup\": \"True\", \"hoverlabel\": {\"namelength\": 0}, \"hovertemplate\": \"Category=FAMILY<br>Month=%{x}<br>NumberOfApps=%{y}\", \"legendgroup\": \"Category=FAMILY\", \"marker\": {\"color\": \"#636efa\"}, \"name\": \"Category=FAMILY\", \"offsetgroup\": \"Category=FAMILY\", \"orientation\": \"v\", \"showlegend\": true, \"textposition\": \"auto\", \"type\": \"bar\", \"x\": [\"April\"], \"xaxis\": \"x\", \"y\": [1], \"yaxis\": \"y\"}, {\"alignmentgroup\": \"True\", \"hoverlabel\": {\"namelength\": 0}, \"hovertemplate\": \"Category=GAME<br>Month=%{x}<br>NumberOfApps=%{y}\", \"legendgroup\": \"Category=GAME\", \"marker\": {\"color\": \"#EF553B\"}, \"name\": \"Category=GAME\", \"offsetgroup\": \"Category=GAME\", \"orientation\": \"v\", \"showlegend\": true, \"textposition\": \"auto\", \"type\": \"bar\", \"x\": [\"April\", \"December\", \"January\"], \"xaxis\": \"x\", \"y\": [2, 1, 1], \"yaxis\": \"y\"}, {\"alignmentgroup\": \"True\", \"hoverlabel\": {\"namelength\": 0}, \"hovertemplate\": \"Category=LIFESTYLE<br>Month=%{x}<br>NumberOfApps=%{y}\", \"legendgroup\": \"Category=LIFESTYLE\", \"marker\": {\"color\": \"#00cc96\"}, \"name\": \"Category=LIFESTYLE\", \"offsetgroup\": \"Category=LIFESTYLE\", \"orientation\": \"v\", \"showlegend\": true, \"textposition\": \"auto\", \"type\": \"bar\", \"x\": [\"December\"], \"xaxis\": \"x\", \"y\": [1], \"yaxis\": \"y\"}, {\"alignmentgroup\": \"True\", \"hoverlabel\": {\"namelength\": 0}, \"hovertemplate\": \"Category=TOOLS<br>Month=%{x}<br>NumberOfApps=%{y}\", \"legendgroup\": \"Category=TOOLS\", \"marker\": {\"color\": \"#ab63fa\"}, \"name\": \"Category=TOOLS\", \"offsetgroup\": \"Category=TOOLS\", \"orientation\": \"v\", \"showlegend\": true, \"textposition\": \"auto\", \"type\": \"bar\", \"x\": [\"July\", \"June\", \"March\", \"May\", \"September\"], \"xaxis\": \"x\", \"y\": [1, 2, 1, 1, 1], \"yaxis\": \"y\"}, {\"alignmentgroup\": \"True\", \"hoverlabel\": {\"namelength\": 0}, \"hovertemplate\": \"Category=LIBRARIES_AND_DEMO<br>Month=%{x}<br>NumberOfApps=%{y}\", \"legendgroup\": \"Category=LIBRARIES_AND_DEMO\", \"marker\": {\"color\": \"#FFA15A\"}, \"name\": \"Category=LIBRARIES_AND_DEMO\", \"offsetgroup\": \"Category=LIBRARIES_AND_DEMO\", \"orientation\": \"v\", \"showlegend\": true, \"textposition\": \"auto\", \"type\": \"bar\", \"x\": [\"June\"], \"xaxis\": \"x\", \"y\": [1], \"yaxis\": \"y\"}, {\"alignmentgroup\": \"True\", \"hoverlabel\": {\"namelength\": 0}, \"hovertemplate\": \"Category=BUSINESS<br>Month=%{x}<br>NumberOfApps=%{y}\", \"legendgroup\": \"Category=BUSINESS\", \"marker\": {\"color\": \"#19d3f3\"}, \"name\": \"Category=BUSINESS\", \"offsetgroup\": \"Category=BUSINESS\", \"orientation\": \"v\", \"showlegend\": true, \"textposition\": \"auto\", \"type\": \"bar\", \"x\": [\"October\"], \"xaxis\": \"x\", \"y\": [1], \"yaxis\": \"y\"}, {\"alignmentgroup\": \"True\", \"hoverlabel\": {\"namelength\": 0}, \"hovertemplate\": \"Category=BOOKS_AND_REFERENCE<br>Month=%{x}<br>NumberOfApps=%{y}\", \"legendgroup\": \"Category=BOOKS_AND_REFERENCE\", \"marker\": {\"color\": \"#FF6692\"}, \"name\": \"Category=BOOKS_AND_REFERENCE\", \"offsetgroup\": \"Category=BOOKS_AND_REFERENCE\", \"orientation\": \"v\", \"showlegend\": true, \"textposition\": \"auto\", \"type\": \"bar\", \"x\": [\"September\"], \"xaxis\": \"x\", \"y\": [1], \"yaxis\": \"y\"}],\n",
              "                        {\"barmode\": \"relative\", \"legend\": {\"tracegroupgap\": 0}, \"template\": {\"data\": {\"bar\": [{\"error_x\": {\"color\": \"#2a3f5f\"}, \"error_y\": {\"color\": \"#2a3f5f\"}, \"marker\": {\"line\": {\"color\": \"#E5ECF6\", \"width\": 0.5}}, \"type\": \"bar\"}], \"barpolar\": [{\"marker\": {\"line\": {\"color\": \"#E5ECF6\", \"width\": 0.5}}, \"type\": \"barpolar\"}], \"carpet\": [{\"aaxis\": {\"endlinecolor\": \"#2a3f5f\", \"gridcolor\": \"white\", \"linecolor\": \"white\", \"minorgridcolor\": \"white\", \"startlinecolor\": \"#2a3f5f\"}, \"baxis\": {\"endlinecolor\": \"#2a3f5f\", \"gridcolor\": \"white\", \"linecolor\": \"white\", \"minorgridcolor\": \"white\", \"startlinecolor\": \"#2a3f5f\"}, \"type\": \"carpet\"}], \"choropleth\": [{\"colorbar\": {\"outlinewidth\": 0, \"ticks\": \"\"}, \"type\": \"choropleth\"}], \"contour\": [{\"colorbar\": {\"outlinewidth\": 0, \"ticks\": \"\"}, \"colorscale\": [[0.0, \"#0d0887\"], [0.1111111111111111, \"#46039f\"], [0.2222222222222222, \"#7201a8\"], [0.3333333333333333, \"#9c179e\"], [0.4444444444444444, \"#bd3786\"], [0.5555555555555556, \"#d8576b\"], [0.6666666666666666, \"#ed7953\"], [0.7777777777777778, \"#fb9f3a\"], [0.8888888888888888, \"#fdca26\"], [1.0, \"#f0f921\"]], \"type\": \"contour\"}], \"contourcarpet\": [{\"colorbar\": {\"outlinewidth\": 0, \"ticks\": \"\"}, \"type\": \"contourcarpet\"}], \"heatmap\": [{\"colorbar\": {\"outlinewidth\": 0, \"ticks\": \"\"}, \"colorscale\": [[0.0, \"#0d0887\"], [0.1111111111111111, \"#46039f\"], [0.2222222222222222, \"#7201a8\"], [0.3333333333333333, \"#9c179e\"], [0.4444444444444444, \"#bd3786\"], [0.5555555555555556, \"#d8576b\"], [0.6666666666666666, \"#ed7953\"], [0.7777777777777778, \"#fb9f3a\"], [0.8888888888888888, \"#fdca26\"], [1.0, \"#f0f921\"]], \"type\": \"heatmap\"}], \"heatmapgl\": [{\"colorbar\": {\"outlinewidth\": 0, \"ticks\": \"\"}, \"colorscale\": [[0.0, \"#0d0887\"], [0.1111111111111111, \"#46039f\"], [0.2222222222222222, \"#7201a8\"], [0.3333333333333333, \"#9c179e\"], [0.4444444444444444, \"#bd3786\"], [0.5555555555555556, \"#d8576b\"], [0.6666666666666666, \"#ed7953\"], [0.7777777777777778, \"#fb9f3a\"], [0.8888888888888888, \"#fdca26\"], [1.0, \"#f0f921\"]], \"type\": \"heatmapgl\"}], \"histogram\": [{\"marker\": {\"colorbar\": {\"outlinewidth\": 0, \"ticks\": \"\"}}, \"type\": \"histogram\"}], \"histogram2d\": [{\"colorbar\": {\"outlinewidth\": 0, \"ticks\": \"\"}, \"colorscale\": [[0.0, \"#0d0887\"], [0.1111111111111111, \"#46039f\"], [0.2222222222222222, \"#7201a8\"], [0.3333333333333333, \"#9c179e\"], [0.4444444444444444, \"#bd3786\"], [0.5555555555555556, \"#d8576b\"], [0.6666666666666666, \"#ed7953\"], [0.7777777777777778, \"#fb9f3a\"], [0.8888888888888888, \"#fdca26\"], [1.0, \"#f0f921\"]], \"type\": \"histogram2d\"}], \"histogram2dcontour\": [{\"colorbar\": {\"outlinewidth\": 0, \"ticks\": \"\"}, \"colorscale\": [[0.0, \"#0d0887\"], [0.1111111111111111, \"#46039f\"], [0.2222222222222222, \"#7201a8\"], [0.3333333333333333, \"#9c179e\"], [0.4444444444444444, \"#bd3786\"], [0.5555555555555556, \"#d8576b\"], [0.6666666666666666, \"#ed7953\"], [0.7777777777777778, \"#fb9f3a\"], [0.8888888888888888, \"#fdca26\"], [1.0, \"#f0f921\"]], \"type\": \"histogram2dcontour\"}], \"mesh3d\": [{\"colorbar\": {\"outlinewidth\": 0, \"ticks\": \"\"}, \"type\": \"mesh3d\"}], \"parcoords\": [{\"line\": {\"colorbar\": {\"outlinewidth\": 0, \"ticks\": \"\"}}, \"type\": \"parcoords\"}], \"pie\": [{\"automargin\": true, \"type\": \"pie\"}], \"scatter\": [{\"marker\": {\"colorbar\": {\"outlinewidth\": 0, \"ticks\": \"\"}}, \"type\": \"scatter\"}], \"scatter3d\": [{\"line\": {\"colorbar\": {\"outlinewidth\": 0, \"ticks\": \"\"}}, \"marker\": {\"colorbar\": {\"outlinewidth\": 0, \"ticks\": \"\"}}, \"type\": \"scatter3d\"}], \"scattercarpet\": [{\"marker\": {\"colorbar\": {\"outlinewidth\": 0, \"ticks\": \"\"}}, \"type\": \"scattercarpet\"}], \"scattergeo\": [{\"marker\": {\"colorbar\": {\"outlinewidth\": 0, \"ticks\": \"\"}}, \"type\": \"scattergeo\"}], \"scattergl\": [{\"marker\": {\"colorbar\": {\"outlinewidth\": 0, \"ticks\": \"\"}}, \"type\": \"scattergl\"}], \"scattermapbox\": [{\"marker\": {\"colorbar\": {\"outlinewidth\": 0, \"ticks\": \"\"}}, \"type\": \"scattermapbox\"}], \"scatterpolar\": [{\"marker\": {\"colorbar\": {\"outlinewidth\": 0, \"ticks\": \"\"}}, \"type\": \"scatterpolar\"}], \"scatterpolargl\": [{\"marker\": {\"colorbar\": {\"outlinewidth\": 0, \"ticks\": \"\"}}, \"type\": \"scatterpolargl\"}], \"scatterternary\": [{\"marker\": {\"colorbar\": {\"outlinewidth\": 0, \"ticks\": \"\"}}, \"type\": \"scatterternary\"}], \"surface\": [{\"colorbar\": {\"outlinewidth\": 0, \"ticks\": \"\"}, \"colorscale\": [[0.0, \"#0d0887\"], [0.1111111111111111, \"#46039f\"], [0.2222222222222222, \"#7201a8\"], [0.3333333333333333, \"#9c179e\"], [0.4444444444444444, \"#bd3786\"], [0.5555555555555556, \"#d8576b\"], [0.6666666666666666, \"#ed7953\"], [0.7777777777777778, \"#fb9f3a\"], [0.8888888888888888, \"#fdca26\"], [1.0, \"#f0f921\"]], \"type\": \"surface\"}], \"table\": [{\"cells\": {\"fill\": {\"color\": \"#EBF0F8\"}, \"line\": {\"color\": \"white\"}}, \"header\": {\"fill\": {\"color\": \"#C8D4E3\"}, \"line\": {\"color\": \"white\"}}, \"type\": \"table\"}]}, \"layout\": {\"annotationdefaults\": {\"arrowcolor\": \"#2a3f5f\", \"arrowhead\": 0, \"arrowwidth\": 1}, \"coloraxis\": {\"colorbar\": {\"outlinewidth\": 0, \"ticks\": \"\"}}, \"colorscale\": {\"diverging\": [[0, \"#8e0152\"], [0.1, \"#c51b7d\"], [0.2, \"#de77ae\"], [0.3, \"#f1b6da\"], [0.4, \"#fde0ef\"], [0.5, \"#f7f7f7\"], [0.6, \"#e6f5d0\"], [0.7, \"#b8e186\"], [0.8, \"#7fbc41\"], [0.9, \"#4d9221\"], [1, \"#276419\"]], \"sequential\": [[0.0, \"#0d0887\"], [0.1111111111111111, \"#46039f\"], [0.2222222222222222, \"#7201a8\"], [0.3333333333333333, \"#9c179e\"], [0.4444444444444444, \"#bd3786\"], [0.5555555555555556, \"#d8576b\"], [0.6666666666666666, \"#ed7953\"], [0.7777777777777778, \"#fb9f3a\"], [0.8888888888888888, \"#fdca26\"], [1.0, \"#f0f921\"]], \"sequentialminus\": [[0.0, \"#0d0887\"], [0.1111111111111111, \"#46039f\"], [0.2222222222222222, \"#7201a8\"], [0.3333333333333333, \"#9c179e\"], [0.4444444444444444, \"#bd3786\"], [0.5555555555555556, \"#d8576b\"], [0.6666666666666666, \"#ed7953\"], [0.7777777777777778, \"#fb9f3a\"], [0.8888888888888888, \"#fdca26\"], [1.0, \"#f0f921\"]]}, \"colorway\": [\"#636efa\", \"#EF553B\", \"#00cc96\", \"#ab63fa\", \"#FFA15A\", \"#19d3f3\", \"#FF6692\", \"#B6E880\", \"#FF97FF\", \"#FECB52\"], \"font\": {\"color\": \"#2a3f5f\"}, \"geo\": {\"bgcolor\": \"white\", \"lakecolor\": \"white\", \"landcolor\": \"#E5ECF6\", \"showlakes\": true, \"showland\": true, \"subunitcolor\": \"white\"}, \"hoverlabel\": {\"align\": \"left\"}, \"hovermode\": \"closest\", \"mapbox\": {\"style\": \"light\"}, \"paper_bgcolor\": \"white\", \"plot_bgcolor\": \"#E5ECF6\", \"polar\": {\"angularaxis\": {\"gridcolor\": \"white\", \"linecolor\": \"white\", \"ticks\": \"\"}, \"bgcolor\": \"#E5ECF6\", \"radialaxis\": {\"gridcolor\": \"white\", \"linecolor\": \"white\", \"ticks\": \"\"}}, \"scene\": {\"xaxis\": {\"backgroundcolor\": \"#E5ECF6\", \"gridcolor\": \"white\", \"gridwidth\": 2, \"linecolor\": \"white\", \"showbackground\": true, \"ticks\": \"\", \"zerolinecolor\": \"white\"}, \"yaxis\": {\"backgroundcolor\": \"#E5ECF6\", \"gridcolor\": \"white\", \"gridwidth\": 2, \"linecolor\": \"white\", \"showbackground\": true, \"ticks\": \"\", \"zerolinecolor\": \"white\"}, \"zaxis\": {\"backgroundcolor\": \"#E5ECF6\", \"gridcolor\": \"white\", \"gridwidth\": 2, \"linecolor\": \"white\", \"showbackground\": true, \"ticks\": \"\", \"zerolinecolor\": \"white\"}}, \"shapedefaults\": {\"line\": {\"color\": \"#2a3f5f\"}}, \"ternary\": {\"aaxis\": {\"gridcolor\": \"white\", \"linecolor\": \"white\", \"ticks\": \"\"}, \"baxis\": {\"gridcolor\": \"white\", \"linecolor\": \"white\", \"ticks\": \"\"}, \"bgcolor\": \"#E5ECF6\", \"caxis\": {\"gridcolor\": \"white\", \"linecolor\": \"white\", \"ticks\": \"\"}}, \"title\": {\"x\": 0.05}, \"xaxis\": {\"automargin\": true, \"gridcolor\": \"white\", \"linecolor\": \"white\", \"ticks\": \"\", \"title\": {\"standoff\": 15}, \"zerolinecolor\": \"white\", \"zerolinewidth\": 2}, \"yaxis\": {\"automargin\": true, \"gridcolor\": \"white\", \"linecolor\": \"white\", \"ticks\": \"\", \"title\": {\"standoff\": 15}, \"zerolinecolor\": \"white\", \"zerolinewidth\": 2}}}, \"title\": {\"text\": \"2011 Monthly Category Trend\"}, \"xaxis\": {\"anchor\": \"y\", \"categoryarray\": [\"January\", \"February\", \"March\", \"April\", \"May\", \"June\", \"July\", \"August\", \"September\", \"October\", \"November\", \"December\"], \"categoryorder\": \"array\", \"domain\": [0.0, 1.0], \"title\": {\"text\": \"Month\"}}, \"yaxis\": {\"anchor\": \"x\", \"domain\": [0.0, 1.0], \"title\": {\"text\": \"NumberOfApps\"}}},\n",
              "                        {\"responsive\": true}\n",
              "                    ).then(function(){\n",
              "                            \n",
              "var gd = document.getElementById('f53734f3-c65c-438b-a5b1-676f19222979');\n",
              "var x = new MutationObserver(function (mutations, observer) {{\n",
              "        var display = window.getComputedStyle(gd).display;\n",
              "        if (!display || display === 'none') {{\n",
              "            console.log([gd, 'removed!']);\n",
              "            Plotly.purge(gd);\n",
              "            observer.disconnect();\n",
              "        }}\n",
              "}});\n",
              "\n",
              "// Listen for the removal of the full notebook cells\n",
              "var notebookContainer = gd.closest('#notebook-container');\n",
              "if (notebookContainer) {{\n",
              "    x.observe(notebookContainer, {childList: true});\n",
              "}}\n",
              "\n",
              "// Listen for the clearing of the current output cell\n",
              "var outputEl = gd.closest('.output');\n",
              "if (outputEl) {{\n",
              "    x.observe(outputEl, {childList: true});\n",
              "}}\n",
              "\n",
              "                        })\n",
              "                };\n",
              "                \n",
              "            </script>\n",
              "        </div>\n",
              "</body>\n",
              "</html>"
            ]
          },
          "metadata": {}
        },
        {
          "output_type": "display_data",
          "data": {
            "text/html": [
              "<html>\n",
              "<head><meta charset=\"utf-8\" /></head>\n",
              "<body>\n",
              "    <div>\n",
              "            <script src=\"https://cdnjs.cloudflare.com/ajax/libs/mathjax/2.7.5/MathJax.js?config=TeX-AMS-MML_SVG\"></script><script type=\"text/javascript\">if (window.MathJax) {MathJax.Hub.Config({SVG: {font: \"STIX-Web\"}});}</script>\n",
              "                <script type=\"text/javascript\">window.PlotlyConfig = {MathJaxConfig: 'local'};</script>\n",
              "        <script src=\"https://cdn.plot.ly/plotly-latest.min.js\"></script>    \n",
              "            <div id=\"60ed3613-55c2-4203-be56-f019f7066c72\" class=\"plotly-graph-div\" style=\"height:525px; width:100%;\"></div>\n",
              "            <script type=\"text/javascript\">\n",
              "                \n",
              "                    window.PLOTLYENV=window.PLOTLYENV || {};\n",
              "                    \n",
              "                if (document.getElementById(\"60ed3613-55c2-4203-be56-f019f7066c72\")) {\n",
              "                    Plotly.newPlot(\n",
              "                        '60ed3613-55c2-4203-be56-f019f7066c72',\n",
              "                        [{\"alignmentgroup\": \"True\", \"hoverlabel\": {\"namelength\": 0}, \"hovertemplate\": \"Category=FAMILY<br>Month=%{x}<br>NumberOfApps=%{y}\", \"legendgroup\": \"Category=FAMILY\", \"marker\": {\"color\": \"#636efa\"}, \"name\": \"Category=FAMILY\", \"offsetgroup\": \"Category=FAMILY\", \"orientation\": \"v\", \"showlegend\": true, \"textposition\": \"auto\", \"type\": \"bar\", \"x\": [\"May\"], \"xaxis\": \"x\", \"y\": [1], \"yaxis\": \"y\"}],\n",
              "                        {\"barmode\": \"relative\", \"legend\": {\"tracegroupgap\": 0}, \"template\": {\"data\": {\"bar\": [{\"error_x\": {\"color\": \"#2a3f5f\"}, \"error_y\": {\"color\": \"#2a3f5f\"}, \"marker\": {\"line\": {\"color\": \"#E5ECF6\", \"width\": 0.5}}, \"type\": \"bar\"}], \"barpolar\": [{\"marker\": {\"line\": {\"color\": \"#E5ECF6\", \"width\": 0.5}}, \"type\": \"barpolar\"}], \"carpet\": [{\"aaxis\": {\"endlinecolor\": \"#2a3f5f\", \"gridcolor\": \"white\", \"linecolor\": \"white\", \"minorgridcolor\": \"white\", \"startlinecolor\": \"#2a3f5f\"}, \"baxis\": {\"endlinecolor\": \"#2a3f5f\", \"gridcolor\": \"white\", \"linecolor\": \"white\", \"minorgridcolor\": \"white\", \"startlinecolor\": \"#2a3f5f\"}, \"type\": \"carpet\"}], \"choropleth\": [{\"colorbar\": {\"outlinewidth\": 0, \"ticks\": \"\"}, \"type\": \"choropleth\"}], \"contour\": [{\"colorbar\": {\"outlinewidth\": 0, \"ticks\": \"\"}, \"colorscale\": [[0.0, \"#0d0887\"], [0.1111111111111111, \"#46039f\"], [0.2222222222222222, \"#7201a8\"], [0.3333333333333333, \"#9c179e\"], [0.4444444444444444, \"#bd3786\"], [0.5555555555555556, \"#d8576b\"], [0.6666666666666666, \"#ed7953\"], [0.7777777777777778, \"#fb9f3a\"], [0.8888888888888888, \"#fdca26\"], [1.0, \"#f0f921\"]], \"type\": \"contour\"}], \"contourcarpet\": [{\"colorbar\": {\"outlinewidth\": 0, \"ticks\": \"\"}, \"type\": \"contourcarpet\"}], \"heatmap\": [{\"colorbar\": {\"outlinewidth\": 0, \"ticks\": \"\"}, \"colorscale\": [[0.0, \"#0d0887\"], [0.1111111111111111, \"#46039f\"], [0.2222222222222222, \"#7201a8\"], [0.3333333333333333, \"#9c179e\"], [0.4444444444444444, \"#bd3786\"], [0.5555555555555556, \"#d8576b\"], [0.6666666666666666, \"#ed7953\"], [0.7777777777777778, \"#fb9f3a\"], [0.8888888888888888, \"#fdca26\"], [1.0, \"#f0f921\"]], \"type\": \"heatmap\"}], \"heatmapgl\": [{\"colorbar\": {\"outlinewidth\": 0, \"ticks\": \"\"}, \"colorscale\": [[0.0, \"#0d0887\"], [0.1111111111111111, \"#46039f\"], [0.2222222222222222, \"#7201a8\"], [0.3333333333333333, \"#9c179e\"], [0.4444444444444444, \"#bd3786\"], [0.5555555555555556, \"#d8576b\"], [0.6666666666666666, \"#ed7953\"], [0.7777777777777778, \"#fb9f3a\"], [0.8888888888888888, \"#fdca26\"], [1.0, \"#f0f921\"]], \"type\": \"heatmapgl\"}], \"histogram\": [{\"marker\": {\"colorbar\": {\"outlinewidth\": 0, \"ticks\": \"\"}}, \"type\": \"histogram\"}], \"histogram2d\": [{\"colorbar\": {\"outlinewidth\": 0, \"ticks\": \"\"}, \"colorscale\": [[0.0, \"#0d0887\"], [0.1111111111111111, \"#46039f\"], [0.2222222222222222, \"#7201a8\"], [0.3333333333333333, \"#9c179e\"], [0.4444444444444444, \"#bd3786\"], [0.5555555555555556, \"#d8576b\"], [0.6666666666666666, \"#ed7953\"], [0.7777777777777778, \"#fb9f3a\"], [0.8888888888888888, \"#fdca26\"], [1.0, \"#f0f921\"]], \"type\": \"histogram2d\"}], \"histogram2dcontour\": [{\"colorbar\": {\"outlinewidth\": 0, \"ticks\": \"\"}, \"colorscale\": [[0.0, \"#0d0887\"], [0.1111111111111111, \"#46039f\"], [0.2222222222222222, \"#7201a8\"], [0.3333333333333333, \"#9c179e\"], [0.4444444444444444, \"#bd3786\"], [0.5555555555555556, \"#d8576b\"], [0.6666666666666666, \"#ed7953\"], [0.7777777777777778, \"#fb9f3a\"], [0.8888888888888888, \"#fdca26\"], [1.0, \"#f0f921\"]], \"type\": \"histogram2dcontour\"}], \"mesh3d\": [{\"colorbar\": {\"outlinewidth\": 0, \"ticks\": \"\"}, \"type\": \"mesh3d\"}], \"parcoords\": [{\"line\": {\"colorbar\": {\"outlinewidth\": 0, \"ticks\": \"\"}}, \"type\": \"parcoords\"}], \"pie\": [{\"automargin\": true, \"type\": \"pie\"}], \"scatter\": [{\"marker\": {\"colorbar\": {\"outlinewidth\": 0, \"ticks\": \"\"}}, \"type\": \"scatter\"}], \"scatter3d\": [{\"line\": {\"colorbar\": {\"outlinewidth\": 0, \"ticks\": \"\"}}, \"marker\": {\"colorbar\": {\"outlinewidth\": 0, \"ticks\": \"\"}}, \"type\": \"scatter3d\"}], \"scattercarpet\": [{\"marker\": {\"colorbar\": {\"outlinewidth\": 0, \"ticks\": \"\"}}, \"type\": \"scattercarpet\"}], \"scattergeo\": [{\"marker\": {\"colorbar\": {\"outlinewidth\": 0, \"ticks\": \"\"}}, \"type\": \"scattergeo\"}], \"scattergl\": [{\"marker\": {\"colorbar\": {\"outlinewidth\": 0, \"ticks\": \"\"}}, \"type\": \"scattergl\"}], \"scattermapbox\": [{\"marker\": {\"colorbar\": {\"outlinewidth\": 0, \"ticks\": \"\"}}, \"type\": \"scattermapbox\"}], \"scatterpolar\": [{\"marker\": {\"colorbar\": {\"outlinewidth\": 0, \"ticks\": \"\"}}, \"type\": \"scatterpolar\"}], \"scatterpolargl\": [{\"marker\": {\"colorbar\": {\"outlinewidth\": 0, \"ticks\": \"\"}}, \"type\": \"scatterpolargl\"}], \"scatterternary\": [{\"marker\": {\"colorbar\": {\"outlinewidth\": 0, \"ticks\": \"\"}}, \"type\": \"scatterternary\"}], \"surface\": [{\"colorbar\": {\"outlinewidth\": 0, \"ticks\": \"\"}, \"colorscale\": [[0.0, \"#0d0887\"], [0.1111111111111111, \"#46039f\"], [0.2222222222222222, \"#7201a8\"], [0.3333333333333333, \"#9c179e\"], [0.4444444444444444, \"#bd3786\"], [0.5555555555555556, \"#d8576b\"], [0.6666666666666666, \"#ed7953\"], [0.7777777777777778, \"#fb9f3a\"], [0.8888888888888888, \"#fdca26\"], [1.0, \"#f0f921\"]], \"type\": \"surface\"}], \"table\": [{\"cells\": {\"fill\": {\"color\": \"#EBF0F8\"}, \"line\": {\"color\": \"white\"}}, \"header\": {\"fill\": {\"color\": \"#C8D4E3\"}, \"line\": {\"color\": \"white\"}}, \"type\": \"table\"}]}, \"layout\": {\"annotationdefaults\": {\"arrowcolor\": \"#2a3f5f\", \"arrowhead\": 0, \"arrowwidth\": 1}, \"coloraxis\": {\"colorbar\": {\"outlinewidth\": 0, \"ticks\": \"\"}}, \"colorscale\": {\"diverging\": [[0, \"#8e0152\"], [0.1, \"#c51b7d\"], [0.2, \"#de77ae\"], [0.3, \"#f1b6da\"], [0.4, \"#fde0ef\"], [0.5, \"#f7f7f7\"], [0.6, \"#e6f5d0\"], [0.7, \"#b8e186\"], [0.8, \"#7fbc41\"], [0.9, \"#4d9221\"], [1, \"#276419\"]], \"sequential\": [[0.0, \"#0d0887\"], [0.1111111111111111, \"#46039f\"], [0.2222222222222222, \"#7201a8\"], [0.3333333333333333, \"#9c179e\"], [0.4444444444444444, \"#bd3786\"], [0.5555555555555556, \"#d8576b\"], [0.6666666666666666, \"#ed7953\"], [0.7777777777777778, \"#fb9f3a\"], [0.8888888888888888, \"#fdca26\"], [1.0, \"#f0f921\"]], \"sequentialminus\": [[0.0, \"#0d0887\"], [0.1111111111111111, \"#46039f\"], [0.2222222222222222, \"#7201a8\"], [0.3333333333333333, \"#9c179e\"], [0.4444444444444444, \"#bd3786\"], [0.5555555555555556, \"#d8576b\"], [0.6666666666666666, \"#ed7953\"], [0.7777777777777778, \"#fb9f3a\"], [0.8888888888888888, \"#fdca26\"], [1.0, \"#f0f921\"]]}, \"colorway\": [\"#636efa\", \"#EF553B\", \"#00cc96\", \"#ab63fa\", \"#FFA15A\", \"#19d3f3\", \"#FF6692\", \"#B6E880\", \"#FF97FF\", \"#FECB52\"], \"font\": {\"color\": \"#2a3f5f\"}, \"geo\": {\"bgcolor\": \"white\", \"lakecolor\": \"white\", \"landcolor\": \"#E5ECF6\", \"showlakes\": true, \"showland\": true, \"subunitcolor\": \"white\"}, \"hoverlabel\": {\"align\": \"left\"}, \"hovermode\": \"closest\", \"mapbox\": {\"style\": \"light\"}, \"paper_bgcolor\": \"white\", \"plot_bgcolor\": \"#E5ECF6\", \"polar\": {\"angularaxis\": {\"gridcolor\": \"white\", \"linecolor\": \"white\", \"ticks\": \"\"}, \"bgcolor\": \"#E5ECF6\", \"radialaxis\": {\"gridcolor\": \"white\", \"linecolor\": \"white\", \"ticks\": \"\"}}, \"scene\": {\"xaxis\": {\"backgroundcolor\": \"#E5ECF6\", \"gridcolor\": \"white\", \"gridwidth\": 2, \"linecolor\": \"white\", \"showbackground\": true, \"ticks\": \"\", \"zerolinecolor\": \"white\"}, \"yaxis\": {\"backgroundcolor\": \"#E5ECF6\", \"gridcolor\": \"white\", \"gridwidth\": 2, \"linecolor\": \"white\", \"showbackground\": true, \"ticks\": \"\", \"zerolinecolor\": \"white\"}, \"zaxis\": {\"backgroundcolor\": \"#E5ECF6\", \"gridcolor\": \"white\", \"gridwidth\": 2, \"linecolor\": \"white\", \"showbackground\": true, \"ticks\": \"\", \"zerolinecolor\": \"white\"}}, \"shapedefaults\": {\"line\": {\"color\": \"#2a3f5f\"}}, \"ternary\": {\"aaxis\": {\"gridcolor\": \"white\", \"linecolor\": \"white\", \"ticks\": \"\"}, \"baxis\": {\"gridcolor\": \"white\", \"linecolor\": \"white\", \"ticks\": \"\"}, \"bgcolor\": \"#E5ECF6\", \"caxis\": {\"gridcolor\": \"white\", \"linecolor\": \"white\", \"ticks\": \"\"}}, \"title\": {\"x\": 0.05}, \"xaxis\": {\"automargin\": true, \"gridcolor\": \"white\", \"linecolor\": \"white\", \"ticks\": \"\", \"title\": {\"standoff\": 15}, \"zerolinecolor\": \"white\", \"zerolinewidth\": 2}, \"yaxis\": {\"automargin\": true, \"gridcolor\": \"white\", \"linecolor\": \"white\", \"ticks\": \"\", \"title\": {\"standoff\": 15}, \"zerolinecolor\": \"white\", \"zerolinewidth\": 2}}}, \"title\": {\"text\": \"2010 Monthly Category Trend\"}, \"xaxis\": {\"anchor\": \"y\", \"categoryarray\": [\"January\", \"February\", \"March\", \"April\", \"May\", \"June\", \"July\", \"August\", \"September\", \"October\", \"November\", \"December\"], \"categoryorder\": \"array\", \"domain\": [0.0, 1.0], \"title\": {\"text\": \"Month\"}}, \"yaxis\": {\"anchor\": \"x\", \"domain\": [0.0, 1.0], \"title\": {\"text\": \"NumberOfApps\"}}},\n",
              "                        {\"responsive\": true}\n",
              "                    ).then(function(){\n",
              "                            \n",
              "var gd = document.getElementById('60ed3613-55c2-4203-be56-f019f7066c72');\n",
              "var x = new MutationObserver(function (mutations, observer) {{\n",
              "        var display = window.getComputedStyle(gd).display;\n",
              "        if (!display || display === 'none') {{\n",
              "            console.log([gd, 'removed!']);\n",
              "            Plotly.purge(gd);\n",
              "            observer.disconnect();\n",
              "        }}\n",
              "}});\n",
              "\n",
              "// Listen for the removal of the full notebook cells\n",
              "var notebookContainer = gd.closest('#notebook-container');\n",
              "if (notebookContainer) {{\n",
              "    x.observe(notebookContainer, {childList: true});\n",
              "}}\n",
              "\n",
              "// Listen for the clearing of the current output cell\n",
              "var outputEl = gd.closest('.output');\n",
              "if (outputEl) {{\n",
              "    x.observe(outputEl, {childList: true});\n",
              "}}\n",
              "\n",
              "                        })\n",
              "                };\n",
              "                \n",
              "            </script>\n",
              "        </div>\n",
              "</body>\n",
              "</html>"
            ]
          },
          "metadata": {}
        }
      ]
    },
    {
      "cell_type": "markdown",
      "metadata": {
        "id": "5kpdM7VqiTCB"
      },
      "source": [
        "Here we can see monthly trend of category of applications.\n",
        "We can find out in which month which type of applications are mostly released in each year(2010-2018)."
      ]
    },
    {
      "cell_type": "code",
      "metadata": {
        "colab": {
          "base_uri": "https://localhost:8080/",
          "height": 422
        },
        "id": "peHr5uMEgBVL",
        "outputId": "dc3a3d1d-acb2-4f0a-8475-cf6d69e83bc2"
      },
      "source": [
        "df3=play_store_df[[\"Installs\",\"Last_Updated\",\"Year\",\"Month\",\"Category\"]].groupby([\"Year\",\"Month\",\"Installs\",\"Category\",\"Last_Updated\"], as_index=False).size()\n",
        "df3"
      ],
      "execution_count": 174,
      "outputs": [
        {
          "output_type": "execute_result",
          "data": {
            "text/html": [
              "<div>\n",
              "<style scoped>\n",
              "    .dataframe tbody tr th:only-of-type {\n",
              "        vertical-align: middle;\n",
              "    }\n",
              "\n",
              "    .dataframe tbody tr th {\n",
              "        vertical-align: top;\n",
              "    }\n",
              "\n",
              "    .dataframe thead th {\n",
              "        text-align: right;\n",
              "    }\n",
              "</style>\n",
              "<table border=\"1\" class=\"dataframe\">\n",
              "  <thead>\n",
              "    <tr style=\"text-align: right;\">\n",
              "      <th></th>\n",
              "      <th>Year</th>\n",
              "      <th>Month</th>\n",
              "      <th>Installs</th>\n",
              "      <th>Category</th>\n",
              "      <th>Last_Updated</th>\n",
              "      <th>size</th>\n",
              "    </tr>\n",
              "  </thead>\n",
              "  <tbody>\n",
              "    <tr>\n",
              "      <th>0</th>\n",
              "      <td>2010</td>\n",
              "      <td>May</td>\n",
              "      <td>100,000+</td>\n",
              "      <td>FAMILY</td>\n",
              "      <td>2010-05-21</td>\n",
              "      <td>1</td>\n",
              "    </tr>\n",
              "    <tr>\n",
              "      <th>1</th>\n",
              "      <td>2011</td>\n",
              "      <td>April</td>\n",
              "      <td>5,000,000+</td>\n",
              "      <td>GAME</td>\n",
              "      <td>2011-04-11</td>\n",
              "      <td>1</td>\n",
              "    </tr>\n",
              "    <tr>\n",
              "      <th>2</th>\n",
              "      <td>2011</td>\n",
              "      <td>April</td>\n",
              "      <td>50,000+</td>\n",
              "      <td>FAMILY</td>\n",
              "      <td>2011-04-18</td>\n",
              "      <td>1</td>\n",
              "    </tr>\n",
              "    <tr>\n",
              "      <th>3</th>\n",
              "      <td>2011</td>\n",
              "      <td>April</td>\n",
              "      <td>50,000+</td>\n",
              "      <td>GAME</td>\n",
              "      <td>2011-04-16</td>\n",
              "      <td>1</td>\n",
              "    </tr>\n",
              "    <tr>\n",
              "      <th>4</th>\n",
              "      <td>2011</td>\n",
              "      <td>December</td>\n",
              "      <td>100,000+</td>\n",
              "      <td>LIFESTYLE</td>\n",
              "      <td>2011-12-03</td>\n",
              "      <td>1</td>\n",
              "    </tr>\n",
              "    <tr>\n",
              "      <th>...</th>\n",
              "      <td>...</td>\n",
              "      <td>...</td>\n",
              "      <td>...</td>\n",
              "      <td>...</td>\n",
              "      <td>...</td>\n",
              "      <td>...</td>\n",
              "    </tr>\n",
              "    <tr>\n",
              "      <th>8421</th>\n",
              "      <td>2018</td>\n",
              "      <td>May</td>\n",
              "      <td>500,000+</td>\n",
              "      <td>TRAVEL_AND_LOCAL</td>\n",
              "      <td>2018-05-23</td>\n",
              "      <td>1</td>\n",
              "    </tr>\n",
              "    <tr>\n",
              "      <th>8422</th>\n",
              "      <td>2018</td>\n",
              "      <td>May</td>\n",
              "      <td>500,000+</td>\n",
              "      <td>TRAVEL_AND_LOCAL</td>\n",
              "      <td>2018-05-29</td>\n",
              "      <td>1</td>\n",
              "    </tr>\n",
              "    <tr>\n",
              "      <th>8423</th>\n",
              "      <td>2018</td>\n",
              "      <td>May</td>\n",
              "      <td>500,000,000+</td>\n",
              "      <td>FAMILY</td>\n",
              "      <td>2018-05-25</td>\n",
              "      <td>1</td>\n",
              "    </tr>\n",
              "    <tr>\n",
              "      <th>8424</th>\n",
              "      <td>2018</td>\n",
              "      <td>May</td>\n",
              "      <td>500,000,000+</td>\n",
              "      <td>GAME</td>\n",
              "      <td>2018-05-25</td>\n",
              "      <td>3</td>\n",
              "    </tr>\n",
              "    <tr>\n",
              "      <th>8425</th>\n",
              "      <td>2018</td>\n",
              "      <td>May</td>\n",
              "      <td>500,000,000+</td>\n",
              "      <td>PRODUCTIVITY</td>\n",
              "      <td>2018-05-23</td>\n",
              "      <td>1</td>\n",
              "    </tr>\n",
              "  </tbody>\n",
              "</table>\n",
              "<p>8426 rows × 6 columns</p>\n",
              "</div>"
            ],
            "text/plain": [
              "      Year     Month      Installs          Category Last_Updated  size\n",
              "0     2010       May      100,000+            FAMILY   2010-05-21     1\n",
              "1     2011     April    5,000,000+              GAME   2011-04-11     1\n",
              "2     2011     April       50,000+            FAMILY   2011-04-18     1\n",
              "3     2011     April       50,000+              GAME   2011-04-16     1\n",
              "4     2011  December      100,000+         LIFESTYLE   2011-12-03     1\n",
              "...    ...       ...           ...               ...          ...   ...\n",
              "8421  2018       May      500,000+  TRAVEL_AND_LOCAL   2018-05-23     1\n",
              "8422  2018       May      500,000+  TRAVEL_AND_LOCAL   2018-05-29     1\n",
              "8423  2018       May  500,000,000+            FAMILY   2018-05-25     1\n",
              "8424  2018       May  500,000,000+              GAME   2018-05-25     3\n",
              "8425  2018       May  500,000,000+      PRODUCTIVITY   2018-05-23     1\n",
              "\n",
              "[8426 rows x 6 columns]"
            ]
          },
          "metadata": {},
          "execution_count": 174
        }
      ]
    },
    {
      "cell_type": "code",
      "metadata": {
        "id": "Ndsp3qVIjLQY"
      },
      "source": [
        "# Here we are converting our Installs into numerical column\n",
        "df3['Installs'] = df3['Installs'].apply(lambda x: str(x).replace('+','') if '+' in str(x) else x)\n",
        "df3['Installs'] = df3['Installs'].apply(lambda x: str(x).replace(',', '') if ',' in str(x) else x)\n",
        "df3['Installs']=df3['Installs'].astype('int')"
      ],
      "execution_count": 175,
      "outputs": []
    },
    {
      "cell_type": "code",
      "metadata": {
        "colab": {
          "base_uri": "https://localhost:8080/",
          "height": 1000
        },
        "id": "f6AubsTwjRNg",
        "outputId": "35e95cd8-5607-4a8b-ba67-50b3738fe68f"
      },
      "source": [
        "fig = px.bar(df3[df3['Year']==2018], x = \"Month\", y = \"Installs\", color=\"Category\", title='2018 Monthly installation Trend', category_orders={\"Month\": month})\n",
        "fig.show()\n",
        "fig = px.bar(df3[df3['Year']==2017], x = 'Month', y = \"Installs\", color=\"Category\", title='2017 Monthly installation Trend', category_orders={\"Month\": month})\n",
        "fig.show()\n",
        "fig = px.bar(df3[df3['Year']==2016], x = 'Month', y = \"Installs\", color=\"Category\", title='2016 Monthly installation Trend', category_orders={\"Month\": month})\n",
        "fig.show()\n",
        "fig = px.bar(df3[df3['Year']==2015], x = 'Month', y = \"Installs\", color=\"Category\", title='2015 Monthly installation Trend', category_orders={\"Month\": month})\n",
        "fig.show()\n",
        "fig = px.bar(df3[df3['Year']==2014], x = 'Month', y = \"Installs\", color=\"Category\", title='2014 Monthly installation Trend', category_orders={\"Month\": month})\n",
        "fig.show()\n",
        "fig = px.bar(df3[df3['Year']==2013], x = 'Month', y = \"Installs\", color=\"Category\", title='2013 Monthly installation Trend', category_orders={\"Month\": month})\n",
        "fig.show()\n",
        "fig = px.bar(df3[df3['Year']==2012], x = 'Month', y = \"Installs\", color=\"Category\", title='2012 Monthly installation Trend', category_orders={\"Month\": month})\n",
        "fig.show()\n",
        "fig = px.bar(df3[df3['Year']==2011], x = 'Month', y = \"Installs\", color=\"Category\", title='2011 Monthly installation Trend', category_orders={\"Month\": month})\n",
        "fig.show()\n",
        "fig = px.bar(df3[df3['Year']==2010], x = 'Month', y = \"Installs\", color=\"Category\", title='2010 Monthly installation Trend', category_orders={\"Month\": month})\n",
        "fig.show()"
      ],
      "execution_count": 176,
      "outputs": [
        {
          "output_type": "display_data",
          "data": {
            "text/html": [
              "<html>\n",
              "<head><meta charset=\"utf-8\" /></head>\n",
              "<body>\n",
              "    <div>\n",
              "            <script src=\"https://cdnjs.cloudflare.com/ajax/libs/mathjax/2.7.5/MathJax.js?config=TeX-AMS-MML_SVG\"></script><script type=\"text/javascript\">if (window.MathJax) {MathJax.Hub.Config({SVG: {font: \"STIX-Web\"}});}</script>\n",
              "                <script type=\"text/javascript\">window.PlotlyConfig = {MathJaxConfig: 'local'};</script>\n",
              "        <script src=\"https://cdn.plot.ly/plotly-latest.min.js\"></script>    \n",
              "            <div id=\"7a3eb3a3-716a-419e-8259-6b57336b2290\" class=\"plotly-graph-div\" style=\"height:525px; width:100%;\"></div>\n",
              "            <script type=\"text/javascript\">\n",
              "                \n",
              "                    window.PLOTLYENV=window.PLOTLYENV || {};\n",
              "                    \n",
              "                if (document.getElementById(\"7a3eb3a3-716a-419e-8259-6b57336b2290\")) {\n",
              "                    Plotly.newPlot(\n",
              "                        '7a3eb3a3-716a-419e-8259-6b57336b2290',\n",
              "                        [{\"alignmentgroup\": \"True\", \"hoverlabel\": {\"namelength\": 0}, \"hovertemplate\": \"Category=BUSINESS<br>Month=%{x}<br>Installs=%{y}\", \"legendgroup\": \"Category=BUSINESS\", \"marker\": {\"color\": \"#636efa\"}, \"name\": \"Category=BUSINESS\", \"offsetgroup\": \"Category=BUSINESS\", \"orientation\": \"v\", \"showlegend\": true, \"textposition\": \"auto\", \"type\": \"bar\", \"x\": [\"April\", \"April\", \"April\", \"April\", \"April\", \"April\", \"April\", \"April\", \"April\", \"April\", \"April\", \"April\", \"April\", \"April\", \"April\", \"April\", \"April\", \"April\", \"April\", \"April\", \"April\", \"April\", \"April\", \"April\", \"April\", \"April\", \"April\", \"April\", \"August\", \"August\", \"August\", \"August\", \"August\", \"August\", \"August\", \"August\", \"August\", \"August\", \"August\", \"August\", \"August\", \"August\", \"August\", \"August\", \"August\", \"August\", \"August\", \"August\", \"August\", \"August\", \"August\", \"February\", \"February\", \"February\", \"February\", \"February\", \"February\", \"February\", \"February\", \"February\", \"February\", \"February\", \"February\", \"February\", \"February\", \"February\", \"February\", \"February\", \"February\", \"January\", \"January\", \"January\", \"January\", \"January\", \"January\", \"January\", \"January\", \"January\", \"January\", \"January\", \"July\", \"July\", \"July\", \"July\", \"July\", \"July\", \"July\", \"July\", \"July\", \"July\", \"July\", \"July\", \"July\", \"July\", \"July\", \"July\", \"July\", \"July\", \"July\", \"July\", \"July\", \"July\", \"July\", \"July\", \"July\", \"July\", \"July\", \"July\", \"July\", \"July\", \"July\", \"July\", \"July\", \"July\", \"July\", \"July\", \"July\", \"July\", \"July\", \"July\", \"July\", \"July\", \"July\", \"July\", \"July\", \"July\", \"July\", \"July\", \"July\", \"July\", \"July\", \"July\", \"July\", \"July\", \"July\", \"July\", \"July\", \"July\", \"July\", \"July\", \"July\", \"July\", \"July\", \"July\", \"July\", \"June\", \"June\", \"June\", \"June\", \"June\", \"June\", \"June\", \"June\", \"June\", \"June\", \"June\", \"June\", \"June\", \"June\", \"June\", \"June\", \"June\", \"June\", \"June\", \"June\", \"June\", \"June\", \"June\", \"June\", \"June\", \"June\", \"June\", \"June\", \"June\", \"June\", \"June\", \"June\", \"June\", \"June\", \"June\", \"June\", \"June\", \"June\", \"June\", \"June\", \"June\", \"June\", \"June\", \"March\", \"March\", \"March\", \"March\", \"March\", \"March\", \"March\", \"March\", \"March\", \"March\", \"March\", \"March\", \"March\", \"March\", \"March\", \"March\", \"March\", \"March\", \"March\", \"May\", \"May\", \"May\", \"May\", \"May\", \"May\", \"May\", \"May\", \"May\", \"May\", \"May\", \"May\", \"May\", \"May\", \"May\", \"May\", \"May\", \"May\", \"May\", \"May\", \"May\", \"May\", \"May\", \"May\", \"May\", \"May\"], \"xaxis\": \"x\", \"y\": [1, 1000, 1000, 1000, 1000, 10, 10, 10000, 10000, 10000, 10000, 10000, 100, 100, 100, 100, 100, 100, 100000, 100000, 100000, 5, 5, 5000, 50, 50, 50000000, 500, 0, 1000, 1000, 1000000, 1000000, 10, 10, 10000, 10000000, 10000000, 100, 100000, 100000, 100000, 100000000, 5, 5, 5000000, 5000000, 50, 50000, 50000000, 50000000, 1, 1000000, 1000000, 10, 10, 10, 10, 10000, 100, 100, 100, 100, 5000000, 5000000, 50, 50, 50, 50, 1000000, 10, 10, 10000, 10000, 10000000, 100, 100, 5000, 50000000, 500, 1000, 1000, 1000, 1000000, 1000000, 1000000, 1000000, 1000000, 1000000, 1000000, 1000000, 1000000, 1000000, 1000000, 1000000, 1000000, 10, 10, 10, 10, 10000, 10000, 10000, 10000, 10000, 10000, 10000000, 10000000, 10000000, 10000000, 10000000, 10000000, 100, 100, 100, 100, 100, 100, 100, 100, 100, 100, 100000, 100000, 100000, 100000, 100000, 100000, 5, 5000, 5000, 5000000, 5000000, 5000000, 5000000, 5000000, 5000000, 50, 50, 50000, 500, 500000, 500000, 500000, 500000, 1, 1000, 1000000, 1000000, 10, 10, 10, 10, 10000, 10000, 10000, 10000, 10000, 10000, 10000, 10000000, 100, 100, 100, 100, 100, 100000, 100000, 100000, 100000, 100000, 5, 5, 5, 5000, 5000, 5000, 5000000, 5000000, 5000000, 50, 50, 50000, 50000, 50000, 500, 500, 500000, 1000, 1000, 1000, 1000000, 1000000, 10, 10000, 100, 100, 100, 100, 100000, 100000, 5, 5000, 50, 50000, 500, 500, 1000, 1000, 1000, 1000000, 1000000, 10, 10, 100, 100, 100, 100, 100, 100, 100000, 5, 5, 5000, 5000, 5000, 50, 50, 50000, 50000000, 500, 500, 500], \"yaxis\": \"y\"}, {\"alignmentgroup\": \"True\", \"hoverlabel\": {\"namelength\": 0}, \"hovertemplate\": \"Category=FAMILY<br>Month=%{x}<br>Installs=%{y}\", \"legendgroup\": \"Category=FAMILY\", \"marker\": {\"color\": \"#EF553B\"}, \"name\": \"Category=FAMILY\", \"offsetgroup\": \"Category=FAMILY\", \"orientation\": \"v\", \"showlegend\": true, \"textposition\": \"auto\", \"type\": \"bar\", \"x\": [\"April\", \"April\", \"April\", \"April\", \"April\", \"April\", \"April\", \"April\", \"April\", \"April\", \"April\", \"April\", \"April\", \"April\", \"April\", \"April\", \"April\", \"April\", \"April\", \"April\", \"April\", \"April\", \"April\", \"April\", \"April\", \"April\", \"April\", \"April\", \"April\", \"April\", \"April\", \"April\", \"April\", \"April\", \"April\", \"April\", \"April\", \"April\", \"April\", \"April\", \"April\", \"April\", \"April\", \"April\", \"April\", \"April\", \"April\", \"April\", \"April\", \"April\", \"April\", \"April\", \"April\", \"April\", \"April\", \"April\", \"April\", \"April\", \"April\", \"April\", \"April\", \"April\", \"April\", \"April\", \"April\", \"April\", \"August\", \"August\", \"August\", \"August\", \"August\", \"August\", \"August\", \"August\", \"August\", \"August\", \"August\", \"August\", \"August\", \"August\", \"August\", \"August\", \"August\", \"August\", \"August\", \"August\", \"August\", \"August\", \"August\", \"August\", \"August\", \"August\", \"August\", \"August\", \"August\", \"August\", \"August\", \"August\", \"August\", \"August\", \"August\", \"August\", \"August\", \"August\", \"August\", \"August\", \"August\", \"August\", \"August\", \"August\", \"August\", \"August\", \"August\", \"August\", \"August\", \"August\", \"August\", \"August\", \"August\", \"February\", \"February\", \"February\", \"February\", \"February\", \"February\", \"February\", \"February\", \"February\", \"February\", \"February\", \"February\", \"February\", \"February\", \"February\", \"February\", \"February\", \"February\", \"February\", \"February\", \"February\", \"February\", \"February\", \"February\", \"February\", \"February\", \"February\", \"February\", \"February\", \"February\", \"February\", \"February\", \"February\", \"February\", \"February\", \"February\", \"February\", \"February\", \"February\", \"February\", \"February\", \"February\", \"February\", \"February\", \"February\", \"February\", \"February\", \"February\", \"February\", \"February\", \"February\", \"February\", \"February\", \"February\", \"February\", \"February\", \"February\", \"February\", \"January\", \"January\", \"January\", \"January\", \"January\", \"January\", \"January\", \"January\", \"January\", \"January\", \"January\", \"January\", \"January\", \"January\", \"January\", \"January\", \"January\", \"January\", \"January\", \"January\", \"January\", \"January\", \"January\", \"January\", \"January\", \"January\", \"January\", \"January\", \"January\", \"January\", \"January\", \"January\", \"January\", \"January\", \"January\", \"January\", \"January\", \"January\", \"January\", \"January\", \"January\", \"January\", \"January\", \"January\", \"January\", \"January\", \"January\", \"January\", \"January\", \"January\", \"January\", \"January\", \"January\", \"January\", \"January\", \"January\", \"January\", \"January\", \"January\", \"January\", \"January\", \"January\", \"January\", \"January\", \"January\", \"January\", \"January\", \"July\", \"July\", \"July\", \"July\", \"July\", \"July\", \"July\", \"July\", \"July\", \"July\", \"July\", \"July\", \"July\", \"July\", \"July\", \"July\", \"July\", \"July\", \"July\", \"July\", \"July\", \"July\", \"July\", \"July\", \"July\", \"July\", \"July\", \"July\", \"July\", \"July\", \"July\", \"July\", \"July\", \"July\", \"July\", \"July\", \"July\", \"July\", \"July\", \"July\", \"July\", \"July\", \"July\", \"July\", \"July\", \"July\", \"July\", \"July\", \"July\", \"July\", \"July\", \"July\", \"July\", \"July\", \"July\", \"July\", \"July\", \"July\", \"July\", \"July\", \"July\", \"July\", \"July\", \"July\", \"July\", \"July\", \"July\", \"July\", \"July\", \"July\", \"July\", \"July\", \"July\", \"July\", \"July\", \"July\", \"July\", \"July\", \"July\", \"July\", \"July\", \"July\", \"July\", \"July\", \"July\", \"July\", \"July\", \"July\", \"July\", \"July\", \"July\", \"July\", \"July\", \"July\", \"July\", \"July\", \"July\", \"July\", \"July\", \"July\", \"July\", \"July\", \"July\", \"July\", \"July\", \"July\", \"July\", \"July\", \"July\", \"July\", \"July\", \"July\", \"July\", \"July\", \"July\", \"July\", \"July\", \"July\", \"July\", \"July\", \"July\", \"July\", \"July\", \"July\", \"July\", \"July\", \"July\", \"July\", \"July\", \"July\", \"July\", \"July\", \"July\", \"July\", \"July\", \"July\", \"July\", \"July\", \"July\", \"July\", \"July\", \"July\", \"July\", \"July\", \"July\", \"July\", \"July\", \"July\", \"July\", \"July\", \"July\", \"July\", \"July\", \"July\", \"July\", \"July\", \"July\", \"July\", \"July\", \"July\", \"July\", \"July\", \"July\", \"July\", \"July\", \"July\", \"July\", \"July\", \"July\", \"July\", \"July\", \"July\", \"July\", \"July\", \"July\", \"July\", \"July\", \"July\", \"July\", \"July\", \"July\", \"July\", \"July\", \"July\", \"July\", \"July\", \"July\", \"July\", \"July\", \"July\", \"July\", \"July\", \"July\", \"July\", \"July\", \"July\", \"July\", \"July\", \"July\", \"July\", \"July\", \"July\", \"July\", \"July\", \"June\", \"June\", \"June\", \"June\", \"June\", \"June\", \"June\", \"June\", \"June\", \"June\", \"June\", \"June\", \"June\", \"June\", \"June\", \"June\", \"June\", \"June\", \"June\", \"June\", \"June\", \"June\", \"June\", \"June\", \"June\", \"June\", \"June\", \"June\", \"June\", \"June\", \"June\", \"June\", \"June\", \"June\", \"June\", \"June\", \"June\", \"June\", \"June\", \"June\", \"June\", \"June\", \"June\", \"June\", \"June\", \"June\", \"June\", \"June\", \"June\", \"June\", \"June\", \"June\", \"June\", \"June\", \"June\", \"June\", \"June\", \"June\", \"June\", \"June\", \"June\", \"June\", \"June\", \"June\", \"June\", \"June\", \"June\", \"June\", \"June\", \"June\", \"June\", \"June\", \"June\", \"June\", \"June\", \"June\", \"June\", \"June\", \"June\", \"June\", \"June\", \"June\", \"June\", \"June\", \"June\", \"June\", \"June\", \"June\", \"June\", \"June\", \"June\", \"June\", \"June\", \"June\", \"June\", \"June\", \"June\", \"June\", \"June\", \"June\", \"June\", \"June\", \"June\", \"June\", \"June\", \"June\", \"June\", \"June\", \"June\", \"June\", \"June\", \"June\", \"June\", \"June\", \"June\", \"June\", \"June\", \"June\", \"June\", \"June\", \"June\", \"June\", \"June\", \"June\", \"June\", \"June\", \"June\", \"June\", \"June\", \"June\", \"June\", \"June\", \"June\", \"June\", \"June\", \"June\", \"June\", \"June\", \"June\", \"March\", \"March\", \"March\", \"March\", \"March\", \"March\", \"March\", \"March\", \"March\", \"March\", \"March\", \"March\", \"March\", \"March\", \"March\", \"March\", \"March\", \"March\", \"March\", \"March\", \"March\", \"March\", \"March\", \"March\", \"March\", \"March\", \"March\", \"March\", \"March\", \"March\", \"March\", \"March\", \"March\", \"March\", \"March\", \"March\", \"March\", \"March\", \"March\", \"March\", \"March\", \"March\", \"March\", \"March\", \"March\", \"March\", \"March\", \"March\", \"March\", \"March\", \"March\", \"March\", \"March\", \"March\", \"March\", \"March\", \"March\", \"March\", \"March\", \"March\", \"March\", \"March\", \"March\", \"March\", \"March\", \"March\", \"March\", \"March\", \"March\", \"March\", \"March\", \"March\", \"March\", \"March\", \"March\", \"March\", \"March\", \"March\", \"March\", \"March\", \"March\", \"March\", \"March\", \"May\", \"May\", \"May\", \"May\", \"May\", \"May\", \"May\", \"May\", \"May\", \"May\", \"May\", \"May\", \"May\", \"May\", \"May\", \"May\", \"May\", \"May\", \"May\", \"May\", \"May\", \"May\", \"May\", \"May\", \"May\", \"May\", \"May\", \"May\", \"May\", \"May\", \"May\", \"May\", \"May\", \"May\", \"May\", \"May\", \"May\", \"May\", \"May\", \"May\", \"May\", \"May\", \"May\", \"May\", \"May\", \"May\", \"May\", \"May\", \"May\", \"May\", \"May\", \"May\", \"May\", \"May\", \"May\", \"May\", \"May\", \"May\", \"May\", \"May\", \"May\", \"May\", \"May\", \"May\", \"May\", \"May\", \"May\", \"May\", \"May\", \"May\", \"May\", \"May\", \"May\", \"May\", \"May\", \"May\", \"May\", \"May\", \"May\", \"May\", \"May\", \"May\", \"May\", \"May\", \"May\", \"May\", \"May\", \"May\", \"May\", \"May\", \"May\", \"May\"], \"xaxis\": \"x\", \"y\": [1, 1000, 1000, 1000, 1000, 1000, 1000, 1000, 1000, 1000, 1000, 1000000, 1000000, 1000000, 1000000, 1000000, 1000000, 10, 10, 10000, 10000, 10000, 10000, 10000, 10000000, 10000000, 10000000, 10000000, 100, 100, 100, 100, 100, 100, 100, 100, 100000, 100000, 100000, 100000, 100000, 100000, 100000000, 100000000, 5000, 5000, 5000, 5000, 5000, 5000000, 5000000, 5000000, 50, 50, 50, 50, 50000, 50000, 50000, 50000000, 50000000, 500, 500000, 500000, 500000, 500000, 1, 1000, 1000000, 1000000, 1000000, 1000000, 1000000, 1000000, 1000000, 10, 10, 10, 10000, 10000, 10000, 10000000, 10000000, 10000000, 10000000, 10000000, 10000000, 100, 100, 100, 100, 100000, 100000, 100000, 100000, 100000, 100000000, 100000000, 100000000, 5000, 5000, 5000, 5000, 5000000, 5000000, 5000000, 5000000, 5000000, 50, 50000, 50000000, 50000000, 50000000, 500000, 500000, 500000, 500000, 500000, 500000, 1, 1000, 1000, 1000, 1000, 1000, 1000, 1000, 1000000, 1000000, 1000000, 1000000, 1000000, 10, 10, 10, 10000, 10000, 10000, 10000, 10000, 10000, 10000, 10000, 10000000, 100, 100, 100, 100000, 100000, 100000, 100000, 100000, 100000, 100000, 100000, 100000, 5, 5000, 5000000, 5000000, 5000000, 5000000, 5000000, 5000000, 50, 50, 50000, 50000, 50000, 50000, 50000, 50000, 500000, 500000, 500000, 500000, 500000, 1000, 1000, 1000, 1000, 1000, 1000, 1000, 1000, 1000, 1000, 1000, 1000, 1000, 1000000, 1000000, 1000000, 1000000, 1000000, 1000000, 10, 10, 10, 10000, 10000, 10000, 10000, 10000, 10000, 10000000, 10000000, 10000000, 10000000, 10000000, 10000000, 100, 100, 100, 100, 100000, 100000, 100000, 100000, 100000, 100000, 100000, 100000, 100000, 5000, 5000, 5000, 5000, 5000, 5000000, 5000000, 5000000, 5000000, 50, 50000, 50000000, 500, 500, 500, 500, 500, 500000, 500000, 500000, 1, 1, 1, 1000, 1000, 1000, 1000, 1000, 1000, 1000, 1000, 1000, 1000, 1000, 1000, 1000000, 1000000, 1000000, 1000000, 1000000, 1000000, 1000000, 1000000, 1000000, 1000000, 1000000, 1000000, 1000000, 1000000, 1000000, 1000000, 1000000, 1000000, 1000000, 1000000, 1000000, 1000000, 1000000, 1000000, 1000000000, 10, 10, 10, 10, 10, 10, 10, 10, 10, 10000, 10000, 10000, 10000, 10000, 10000, 10000, 10000, 10000, 10000, 10000, 10000, 10000, 10000, 10000, 10000, 10000000, 10000000, 10000000, 10000000, 10000000, 10000000, 10000000, 10000000, 10000000, 10000000, 10000000, 10000000, 10000000, 10000000, 10000000, 10000000, 10000000, 10000000, 10000000, 10000000, 100, 100, 100, 100, 100, 100, 100, 100, 100, 100, 100, 100000, 100000, 100000, 100000, 100000, 100000, 100000, 100000, 100000, 100000, 100000, 100000, 100000, 100000, 100000, 100000, 100000, 100000, 100000, 100000, 100000, 100000, 100000, 100000, 100000000, 100000000, 100000000, 100000000, 100000000, 100000000, 100000000, 100000000, 100000000, 5000, 5000, 5000, 5000, 5000, 5000, 5000, 5000, 5000, 5000, 5000000, 5000000, 5000000, 5000000, 5000000, 5000000, 5000000, 5000000, 5000000, 5000000, 5000000, 5000000, 5000000, 5000000, 5000000, 5000000, 5000000, 50, 50, 50, 50000, 50000, 50000, 50000, 50000, 50000, 50000, 50000, 50000, 50000, 50000000, 50000000, 50000000, 50000000, 50000000, 50000000, 50000000, 50000000, 500, 500, 500, 500, 500, 500, 500, 500, 500, 500, 500000, 500000, 500000, 500000, 500000, 500000, 500000, 500000, 500000, 500000, 500000, 500000, 500000, 500000, 500000, 500000000, 500000000, 0, 1000, 1000, 1000, 1000, 1000, 1000, 1000, 1000, 1000, 1000, 1000, 1000000, 1000000, 1000000, 1000000, 1000000, 1000000, 1000000, 1000000, 1000000, 1000000, 1000000, 1000000, 1000000, 1000000, 1000000, 1000000, 1000000, 1000000, 10, 10, 10, 10, 10, 10000, 10000, 10000, 10000, 10000, 10000, 10000, 10000, 10000, 10000, 10000, 10000, 10000, 10000, 10000, 10000000, 10000000, 10000000, 10000000, 10000000, 10000000, 10000000, 10000000, 10000000, 10000000, 10000000, 10000000, 10000000, 10000000, 10000000, 10000000, 100, 100, 100, 100, 100, 100, 100, 100000, 100000, 100000, 100000, 100000, 100000, 100000, 100000, 100000, 100000, 100000, 100000, 100000, 100000, 100000, 100000, 100000000, 100000000, 5, 5, 5, 5000, 5000, 5000, 5000, 5000, 5000, 5000, 5000, 5000, 5000000, 5000000, 5000000, 5000000, 5000000, 5000000, 5000000, 5000000, 5000000, 50, 50, 50, 50000, 50000, 50000, 50000, 50000, 50000, 50000000, 50000000, 50000000, 50000000, 50000000, 500, 500, 500, 500, 500, 500000, 500000, 500000, 500000, 500000, 500000, 500000, 500000, 1000, 1000, 1000, 1000, 1000, 1000, 1000, 1000, 1000, 1000, 1000, 1000, 1000, 1000, 1000, 1000000, 1000000, 1000000, 1000000, 1000000, 1000000, 1000000, 1000000, 1000000, 10, 10, 10, 10, 10, 10, 10, 10000, 10000, 10000, 10000, 10000, 10000, 10000, 10000, 10000, 10000, 10000, 10000000, 10000000, 10000000, 10000000, 100, 100, 100, 100, 100, 100000, 100000, 100000, 100000, 100000, 100000, 100000, 100000, 100000, 100000, 5000, 5000, 5000, 5000, 5000, 5000000, 5000000, 5000000, 5000000, 5000000, 50, 50, 50000, 50000, 50000, 50000, 50000, 50000000, 500, 500, 500000, 500000, 1000, 1000, 1000, 1000, 1000, 1000, 1000, 1000, 1000, 1000, 1000, 1000000, 1000000, 1000000, 1000000, 1000000, 1000000, 1000000, 1000000, 1000000, 1000000, 1000000, 1000000, 1000000, 1000000, 1000000, 1000000, 1000000, 10, 10, 10, 10000, 10000, 10000, 10000, 10000, 10000, 10000, 10000, 10000, 10000000, 10000000, 10000000, 10000000, 10000000, 10000000, 10000000, 10000000, 100, 100, 100, 100, 100000, 100000, 100000, 100000, 100000, 100000, 100000, 100000, 100000, 100000, 100000, 5000, 5000, 5000, 5000000, 5000000, 5000000, 5000000, 5000000, 5000000, 5000000, 5000000, 5000000, 50, 50, 50000, 50000, 50000, 50000, 50000, 50000, 50000000, 500, 500000, 500000, 500000, 500000, 500000, 500000, 500000000], \"yaxis\": \"y\"}, {\"alignmentgroup\": \"True\", \"hoverlabel\": {\"namelength\": 0}, \"hovertemplate\": \"Category=HOUSE_AND_HOME<br>Month=%{x}<br>Installs=%{y}\", \"legendgroup\": \"Category=HOUSE_AND_HOME\", \"marker\": {\"color\": \"#00cc96\"}, \"name\": \"Category=HOUSE_AND_HOME\", \"offsetgroup\": \"Category=HOUSE_AND_HOME\", \"orientation\": \"v\", \"showlegend\": true, \"textposition\": \"auto\", \"type\": \"bar\", \"x\": [\"April\", \"April\", \"August\", \"August\", \"August\", \"August\", \"August\", \"August\", \"August\", \"August\", \"August\", \"August\", \"February\", \"February\", \"February\", \"July\", \"July\", \"July\", \"July\", \"July\", \"July\", \"July\", \"July\", \"July\", \"July\", \"July\", \"July\", \"July\", \"July\", \"July\", \"July\", \"July\", \"July\", \"July\", \"July\", \"July\", \"July\", \"July\", \"July\", \"June\", \"June\", \"June\", \"June\", \"June\", \"May\", \"May\"], \"xaxis\": \"x\", \"y\": [1, 100, 1000, 1000000, 1000000, 10000, 10000000, 100000, 100000, 100000, 100000, 500000, 10000, 50000, 50000, 1000000, 1000000, 1000000, 1000000, 1000000, 1000000, 1000000, 1000000, 10000, 10000, 10000000, 10000000, 100000, 100000, 100000, 5000, 5000000, 5000000, 5000000, 5000000, 50000, 500000, 500000, 500000, 1000, 1000000, 1000000, 10000000, 500000, 100000, 50000], \"yaxis\": \"y\"}, {\"alignmentgroup\": \"True\", \"hoverlabel\": {\"namelength\": 0}, \"hovertemplate\": \"Category=PERSONALIZATION<br>Month=%{x}<br>Installs=%{y}\", \"legendgroup\": \"Category=PERSONALIZATION\", \"marker\": {\"color\": \"#ab63fa\"}, \"name\": \"Category=PERSONALIZATION\", \"offsetgroup\": \"Category=PERSONALIZATION\", \"orientation\": \"v\", \"showlegend\": true, \"textposition\": \"auto\", \"type\": \"bar\", \"x\": [\"April\", \"April\", \"April\", \"April\", \"April\", \"April\", \"April\", \"April\", \"April\", \"April\", \"April\", \"April\", \"April\", \"April\", \"April\", \"April\", \"April\", \"April\", \"April\", \"April\", \"April\", \"April\", \"April\", \"April\", \"August\", \"August\", \"August\", \"August\", \"August\", \"August\", \"August\", \"August\", \"August\", \"August\", \"August\", \"August\", \"August\", \"August\", \"August\", \"February\", \"February\", \"February\", \"February\", \"February\", \"February\", \"February\", \"February\", \"February\", \"January\", \"January\", \"January\", \"January\", \"January\", \"January\", \"January\", \"January\", \"July\", \"July\", \"July\", \"July\", \"July\", \"July\", \"July\", \"July\", \"July\", \"July\", \"July\", \"July\", \"July\", \"July\", \"July\", \"July\", \"July\", \"July\", \"July\", \"July\", \"July\", \"July\", \"July\", \"July\", \"July\", \"July\", \"July\", \"July\", \"July\", \"July\", \"July\", \"July\", \"July\", \"July\", \"July\", \"July\", \"July\", \"July\", \"July\", \"July\", \"July\", \"July\", \"July\", \"July\", \"July\", \"July\", \"July\", \"July\", \"July\", \"July\", \"July\", \"July\", \"June\", \"June\", \"June\", \"June\", \"June\", \"June\", \"June\", \"June\", \"June\", \"June\", \"June\", \"June\", \"June\", \"June\", \"June\", \"June\", \"June\", \"June\", \"June\", \"June\", \"June\", \"June\", \"June\", \"June\", \"June\", \"June\", \"June\", \"June\", \"June\", \"March\", \"March\", \"March\", \"March\", \"March\", \"March\", \"March\", \"March\", \"March\", \"March\", \"March\", \"March\", \"March\", \"March\", \"March\", \"May\", \"May\", \"May\", \"May\", \"May\", \"May\", \"May\", \"May\", \"May\", \"May\", \"May\", \"May\", \"May\", \"May\", \"May\", \"May\", \"May\", \"May\", \"May\", \"May\", \"May\", \"May\", \"May\", \"May\", \"May\", \"May\", \"May\", \"May\", \"May\", \"May\", \"May\", \"May\", \"May\", \"May\", \"May\", \"May\"], \"xaxis\": \"x\", \"y\": [1, 1000, 10, 10, 10, 10, 10, 10000, 100, 100, 100, 100, 100, 100000, 5, 5, 5000000, 50, 50, 50, 50000, 500, 500, 500000, 1, 1000, 1000, 1000, 1000000, 10000000, 10000000, 10000000, 10000000, 100000, 100000000, 100000000, 100000000, 5000000, 5000000, 1000000, 10, 10000, 10000000, 100, 100, 100000, 5000, 500, 1000, 1000, 1000, 1000, 1000000, 10000000, 10000000, 50000, 0, 1, 1, 1, 1000, 1000, 1000, 1000, 1000, 1000000, 1000000, 1000000, 1000000, 1000000, 1000000, 1000000, 1000000, 1000000, 10, 10, 10, 10000, 10000, 10000, 10000, 10000000, 10000000, 10000000, 10000000, 10000000, 10000000, 10000000, 10000000, 100, 100, 100, 100, 100000000, 100000000, 5000, 5000000, 5000000, 50000, 50000000, 50000000, 50000000, 500, 500000, 500000, 500000, 500000, 500000, 1000, 1000, 1000000, 1000000, 1000000, 10000, 10000, 10000, 10000, 10000, 10000000, 10000000, 10000000, 100, 100, 100000, 100000, 100000, 5000, 5000, 5000000, 5000000, 5000000, 5000000, 50, 50000, 500, 500, 500000, 1000000, 1000000, 10000, 10000, 10000, 10000000, 100, 100000, 100000, 100000, 5000, 50000, 500, 500, 500000, 1000, 1000, 1000, 1000000, 1000000, 1000000, 1000000, 10, 10, 10, 10, 10, 10000, 10000, 10000, 10000, 10000000, 10000000, 100, 100, 100, 100, 100, 100000, 100000, 100000000, 5000, 5000, 5000000, 5000000, 5000000, 50000000, 500, 500000, 500000, 500000], \"yaxis\": \"y\"}, {\"alignmentgroup\": \"True\", \"hoverlabel\": {\"namelength\": 0}, \"hovertemplate\": \"Category=BOOKS_AND_REFERENCE<br>Month=%{x}<br>Installs=%{y}\", \"legendgroup\": \"Category=BOOKS_AND_REFERENCE\", \"marker\": {\"color\": \"#FFA15A\"}, \"name\": \"Category=BOOKS_AND_REFERENCE\", \"offsetgroup\": \"Category=BOOKS_AND_REFERENCE\", \"orientation\": \"v\", \"showlegend\": true, \"textposition\": \"auto\", \"type\": \"bar\", \"x\": [\"April\", \"April\", \"April\", \"April\", \"April\", \"April\", \"April\", \"April\", \"April\", \"April\", \"August\", \"August\", \"August\", \"August\", \"August\", \"August\", \"August\", \"August\", \"August\", \"August\", \"August\", \"February\", \"February\", \"February\", \"February\", \"February\", \"February\", \"February\", \"January\", \"January\", \"January\", \"January\", \"July\", \"July\", \"July\", \"July\", \"July\", \"July\", \"July\", \"July\", \"July\", \"July\", \"July\", \"July\", \"July\", \"July\", \"July\", \"July\", \"July\", \"July\", \"July\", \"July\", \"July\", \"July\", \"July\", \"June\", \"June\", \"June\", \"June\", \"June\", \"June\", \"June\", \"June\", \"June\", \"June\", \"June\", \"June\", \"June\", \"June\", \"June\", \"March\", \"March\", \"March\", \"March\", \"March\", \"March\", \"March\", \"March\", \"March\", \"March\", \"May\", \"May\", \"May\", \"May\", \"May\", \"May\", \"May\", \"May\", \"May\", \"May\", \"May\", \"May\", \"May\", \"May\", \"May\", \"May\", \"May\", \"May\", \"May\", \"May\", \"May\"], \"xaxis\": \"x\", \"y\": [1000, 1000000, 1000000, 10, 10000000, 100000, 5000, 50000, 500000, 500000, 1000000, 1000000, 1000000000, 10000000, 10000000, 100000000, 100000000, 50000, 50000, 500000, 500000, 100000, 100000, 5, 5000, 500, 500, 500000, 10000, 10000, 5000, 500000, 1000, 1000000, 1000000, 1000000, 1000000, 1000000, 10, 10000, 10000000, 10000000, 100000, 100000, 100000, 100000000, 5, 5000, 5000000, 50, 50000, 500, 500000, 500000, 500000, 1000000, 1000000, 1000000, 10, 10000, 10000000, 10000000, 10000000, 10000000, 100000, 5000, 5000000, 5000000, 50000, 500000, 1000, 1000, 1000, 10000, 10000, 10000, 10000000, 100000, 100000, 5000, 1000000, 10000, 10000, 10000, 10000000, 10000000, 10000000, 10000000, 10000000, 10000000, 100000, 5, 5, 5000, 5000, 5000000, 5000000, 5000000, 5000000, 500000, 500000], \"yaxis\": \"y\"}, {\"alignmentgroup\": \"True\", \"hoverlabel\": {\"namelength\": 0}, \"hovertemplate\": \"Category=COMMUNICATION<br>Month=%{x}<br>Installs=%{y}\", \"legendgroup\": \"Category=COMMUNICATION\", \"marker\": {\"color\": \"#19d3f3\"}, \"name\": \"Category=COMMUNICATION\", \"offsetgroup\": \"Category=COMMUNICATION\", \"orientation\": \"v\", \"showlegend\": true, \"textposition\": \"auto\", \"type\": \"bar\", \"x\": [\"April\", \"April\", \"April\", \"April\", \"April\", \"April\", \"April\", \"April\", \"April\", \"April\", \"April\", \"April\", \"April\", \"August\", \"August\", \"August\", \"August\", \"August\", \"August\", \"August\", \"August\", \"August\", \"August\", \"August\", \"August\", \"August\", \"August\", \"August\", \"August\", \"August\", \"August\", \"August\", \"August\", \"August\", \"August\", \"August\", \"February\", \"February\", \"February\", \"February\", \"February\", \"February\", \"January\", \"January\", \"January\", \"January\", \"January\", \"January\", \"January\", \"January\", \"January\", \"January\", \"January\", \"January\", \"January\", \"July\", \"July\", \"July\", \"July\", \"July\", \"July\", \"July\", \"July\", \"July\", \"July\", \"July\", \"July\", \"July\", \"July\", \"July\", \"July\", \"July\", \"July\", \"July\", \"July\", \"July\", \"July\", \"July\", \"July\", \"July\", \"July\", \"July\", \"July\", \"July\", \"July\", \"July\", \"July\", \"July\", \"July\", \"July\", \"July\", \"July\", \"July\", \"July\", \"July\", \"July\", \"July\", \"July\", \"July\", \"July\", \"July\", \"July\", \"July\", \"July\", \"July\", \"July\", \"July\", \"July\", \"July\", \"July\", \"July\", \"July\", \"July\", \"July\", \"July\", \"July\", \"July\", \"July\", \"July\", \"July\", \"July\", \"July\", \"July\", \"July\", \"July\", \"July\", \"July\", \"July\", \"June\", \"June\", \"June\", \"June\", \"June\", \"June\", \"June\", \"June\", \"June\", \"June\", \"June\", \"June\", \"June\", \"June\", \"June\", \"June\", \"June\", \"June\", \"March\", \"March\", \"March\", \"March\", \"March\", \"March\", \"March\", \"March\", \"March\", \"March\", \"March\", \"March\", \"May\", \"May\", \"May\", \"May\", \"May\", \"May\", \"May\", \"May\", \"May\", \"May\", \"May\", \"May\", \"May\", \"May\", \"May\", \"May\", \"May\"], \"xaxis\": \"x\", \"y\": [1000, 1000, 1000000, 1000000, 1000000, 10, 10000, 10000, 5000, 5000000, 50, 50, 500, 1000000, 1000000, 1000000, 1000000, 1000000000, 1000000000, 1000000000, 10000, 10000000, 10000000, 10000000, 100, 100000000, 100000000, 100000000, 5000000, 5000000, 5000000, 5000000, 50000, 50000000, 500000, 500000000, 10, 10, 10000, 100, 100000, 5000, 1, 1000, 1000, 1000000, 1000000, 1000000, 10000, 10000, 10000000, 100, 100000, 5000000, 500000, 1000, 1000, 1000, 1000, 1000, 1000, 1000, 1000000, 1000000, 1000000, 1000000, 1000000, 1000000, 1000000, 1000000, 1000000000, 10, 10, 10, 10, 10, 10, 10000, 10000, 10000, 10000, 10000, 10000000, 10000000, 10000000, 10000000, 10000000, 10000000, 10000000, 10000000, 10000000, 10000000, 10000000, 10000000, 10000000, 10000000, 100, 100000, 100000, 100000, 100000, 100000, 100000000, 100000000, 100000000, 100000000, 100000000, 100000000, 5, 5000, 5000000, 5000000, 5000000, 5000000, 5000000, 50000, 50000000, 50000000, 50000000, 50000000, 50000000, 500, 500000, 500000, 500000, 500000000, 500000000, 500000000, 1000000, 1000000, 1000000, 1000000, 10000000, 10000000, 10000000, 100000, 100000000, 5000, 5000000, 5000000, 5000000, 5000000, 5000000, 5000000, 50000000, 500000000, 1000000, 1000000, 10, 10, 10000, 10000000, 100, 100, 100, 100, 100, 100000, 1000, 1000000, 1000000, 10, 10000000, 10000000, 10000000, 100, 100, 100000, 5000, 5000, 5000000, 5000000, 5000000, 50, 500], \"yaxis\": \"y\"}, {\"alignmentgroup\": \"True\", \"hoverlabel\": {\"namelength\": 0}, \"hovertemplate\": \"Category=FINANCE<br>Month=%{x}<br>Installs=%{y}\", \"legendgroup\": \"Category=FINANCE\", \"marker\": {\"color\": \"#FF6692\"}, \"name\": \"Category=FINANCE\", \"offsetgroup\": \"Category=FINANCE\", \"orientation\": \"v\", \"showlegend\": true, \"textposition\": \"auto\", \"type\": \"bar\", \"x\": [\"April\", \"April\", \"April\", \"April\", \"April\", \"April\", \"April\", \"April\", \"April\", \"April\", \"April\", \"April\", \"April\", \"August\", \"August\", \"August\", \"August\", \"August\", \"August\", \"August\", \"August\", \"August\", \"August\", \"August\", \"August\", \"August\", \"August\", \"August\", \"August\", \"August\", \"August\", \"August\", \"August\", \"August\", \"August\", \"August\", \"August\", \"February\", \"February\", \"February\", \"February\", \"February\", \"February\", \"February\", \"February\", \"February\", \"February\", \"February\", \"February\", \"February\", \"February\", \"February\", \"February\", \"January\", \"January\", \"January\", \"January\", \"January\", \"January\", \"January\", \"January\", \"January\", \"January\", \"January\", \"July\", \"July\", \"July\", \"July\", \"July\", \"July\", \"July\", \"July\", \"July\", \"July\", \"July\", \"July\", \"July\", \"July\", \"July\", \"July\", \"July\", \"July\", \"July\", \"July\", \"July\", \"July\", \"July\", \"July\", \"July\", \"July\", \"July\", \"July\", \"July\", \"July\", \"July\", \"July\", \"July\", \"July\", \"July\", \"July\", \"July\", \"July\", \"July\", \"July\", \"July\", \"July\", \"July\", \"July\", \"July\", \"July\", \"July\", \"July\", \"July\", \"July\", \"July\", \"July\", \"July\", \"July\", \"July\", \"July\", \"July\", \"July\", \"July\", \"July\", \"July\", \"July\", \"July\", \"July\", \"July\", \"July\", \"July\", \"July\", \"July\", \"July\", \"July\", \"July\", \"July\", \"July\", \"June\", \"June\", \"June\", \"June\", \"June\", \"June\", \"June\", \"June\", \"June\", \"June\", \"June\", \"June\", \"June\", \"June\", \"June\", \"June\", \"June\", \"June\", \"June\", \"June\", \"June\", \"June\", \"June\", \"June\", \"June\", \"June\", \"June\", \"June\", \"June\", \"June\", \"June\", \"June\", \"June\", \"March\", \"March\", \"March\", \"March\", \"March\", \"March\", \"March\", \"March\", \"March\", \"March\", \"March\", \"March\", \"March\", \"March\", \"March\", \"March\", \"March\", \"May\", \"May\", \"May\", \"May\", \"May\", \"May\", \"May\", \"May\", \"May\", \"May\", \"May\", \"May\", \"May\", \"May\", \"May\", \"May\", \"May\", \"May\", \"May\", \"May\", \"May\", \"May\", \"May\", \"May\", \"May\", \"May\", \"May\", \"May\"], \"xaxis\": \"x\", \"y\": [1000, 1000, 1000, 1000, 1000, 1000, 10000, 10000, 100, 100, 100000, 5000, 50000, 1000, 1000, 1000, 1000000, 1000000, 1000000, 10000, 10000, 10000, 10000000, 10000000, 10000000, 100, 100000, 100000, 100000, 5000, 5000000, 5000000, 5000000, 50000, 500, 500000, 500000, 1000, 1000, 1000, 10000, 10000, 10000, 10000, 100, 100, 100000, 100000, 100000, 5000, 50000, 500, 500, 0, 1000, 1000, 1000, 10000, 10000, 10000, 10000, 100, 5000, 50000, 0, 1, 1, 1, 1, 1000, 1000, 1000, 1000, 1000000, 1000000, 1000000, 1000000, 1000000, 1000000, 1000000, 1000000, 1000000, 1000000, 1000000, 1000000, 1000000, 1000000, 1000000, 10, 10000, 10000, 10000, 10000, 10000, 10000, 10000, 10000000, 10000000, 10000000, 10000000, 100, 100, 100, 100000, 100000, 100000, 100000, 100000, 100000, 100000, 100000, 100000000, 5000, 5000, 5000000, 5000000, 5000000, 5000000, 5000000, 5000000, 5000000, 5000000, 5000000, 50, 50000, 50000, 50000, 50000000, 500, 500000, 500000, 500000, 500000, 500000, 500000, 500000, 500000, 500000, 1000, 1000, 1000, 1000, 1000000, 1000000, 1000000, 1000000, 1000000, 1000000, 10000, 10000, 10000, 10000, 10000, 10000, 10000, 10000, 10000, 10000000, 100, 100000, 100000, 100000, 5000, 5000, 5000000, 50000, 50000, 50000, 50000, 500, 500000, 1000, 1000, 10000, 10000, 10000, 100, 100, 100, 100, 100, 100000, 100000, 5000, 5000, 50000, 500, 500000, 1000, 1000, 1000000, 1000000, 1000000, 1000000, 1000000, 10, 10000, 10000, 10000, 10000, 10000, 10000, 10000000, 100000, 100000, 100000, 100000, 5000, 5000, 5000, 5000000, 50, 50, 50, 50000, 50000], \"yaxis\": \"y\"}, {\"alignmentgroup\": \"True\", \"hoverlabel\": {\"namelength\": 0}, \"hovertemplate\": \"Category=GAME<br>Month=%{x}<br>Installs=%{y}\", \"legendgroup\": \"Category=GAME\", \"marker\": {\"color\": \"#B6E880\"}, \"name\": \"Category=GAME\", \"offsetgroup\": \"Category=GAME\", \"orientation\": \"v\", \"showlegend\": true, \"textposition\": \"auto\", \"type\": \"bar\", \"x\": [\"April\", \"April\", \"April\", \"April\", \"April\", \"April\", \"April\", \"April\", \"April\", \"April\", \"April\", \"April\", \"April\", \"April\", \"April\", \"April\", \"April\", \"April\", \"April\", \"April\", \"April\", \"April\", \"April\", \"April\", \"August\", \"August\", \"August\", \"August\", \"August\", \"August\", \"August\", \"August\", \"August\", \"August\", \"August\", \"August\", \"August\", \"August\", \"August\", \"August\", \"August\", \"August\", \"August\", \"August\", \"August\", \"August\", \"August\", \"August\", \"August\", \"August\", \"August\", \"August\", \"August\", \"August\", \"August\", \"August\", \"August\", \"August\", \"February\", \"February\", \"February\", \"February\", \"February\", \"February\", \"February\", \"February\", \"February\", \"February\", \"February\", \"February\", \"February\", \"February\", \"February\", \"February\", \"February\", \"February\", \"February\", \"February\", \"February\", \"February\", \"January\", \"January\", \"January\", \"January\", \"January\", \"January\", \"January\", \"January\", \"January\", \"January\", \"January\", \"January\", \"January\", \"January\", \"January\", \"January\", \"January\", \"January\", \"January\", \"January\", \"January\", \"January\", \"January\", \"January\", \"July\", \"July\", \"July\", \"July\", \"July\", \"July\", \"July\", \"July\", \"July\", \"July\", \"July\", \"July\", \"July\", \"July\", \"July\", \"July\", \"July\", \"July\", \"July\", \"July\", \"July\", \"July\", \"July\", \"July\", \"July\", \"July\", \"July\", \"July\", \"July\", \"July\", \"July\", \"July\", \"July\", \"July\", \"July\", \"July\", \"July\", \"July\", \"July\", \"July\", \"July\", \"July\", \"July\", \"July\", \"July\", \"July\", \"July\", \"July\", \"July\", \"July\", \"July\", \"July\", \"July\", \"July\", \"July\", \"July\", \"July\", \"July\", \"July\", \"July\", \"July\", \"July\", \"July\", \"July\", \"July\", \"July\", \"July\", \"July\", \"July\", \"July\", \"July\", \"July\", \"July\", \"July\", \"July\", \"July\", \"July\", \"July\", \"July\", \"July\", \"July\", \"July\", \"July\", \"July\", \"July\", \"July\", \"July\", \"July\", \"July\", \"July\", \"July\", \"July\", \"July\", \"July\", \"July\", \"July\", \"July\", \"July\", \"July\", \"July\", \"July\", \"July\", \"July\", \"July\", \"July\", \"July\", \"July\", \"July\", \"July\", \"July\", \"July\", \"July\", \"July\", \"July\", \"July\", \"July\", \"July\", \"July\", \"July\", \"July\", \"July\", \"July\", \"July\", \"July\", \"July\", \"July\", \"July\", \"July\", \"July\", \"July\", \"July\", \"July\", \"July\", \"July\", \"July\", \"July\", \"July\", \"July\", \"July\", \"July\", \"July\", \"July\", \"July\", \"June\", \"June\", \"June\", \"June\", \"June\", \"June\", \"June\", \"June\", \"June\", \"June\", \"June\", \"June\", \"June\", \"June\", \"June\", \"June\", \"June\", \"June\", \"June\", \"June\", \"June\", \"June\", \"June\", \"June\", \"June\", \"June\", \"June\", \"June\", \"June\", \"June\", \"June\", \"June\", \"June\", \"June\", \"June\", \"June\", \"June\", \"June\", \"June\", \"June\", \"June\", \"June\", \"June\", \"June\", \"June\", \"June\", \"June\", \"June\", \"June\", \"June\", \"June\", \"June\", \"June\", \"June\", \"June\", \"June\", \"June\", \"June\", \"June\", \"June\", \"June\", \"June\", \"June\", \"June\", \"June\", \"June\", \"June\", \"June\", \"March\", \"March\", \"March\", \"March\", \"March\", \"March\", \"March\", \"March\", \"March\", \"March\", \"March\", \"March\", \"March\", \"March\", \"March\", \"March\", \"March\", \"March\", \"March\", \"March\", \"March\", \"March\", \"March\", \"March\", \"March\", \"March\", \"March\", \"May\", \"May\", \"May\", \"May\", \"May\", \"May\", \"May\", \"May\", \"May\", \"May\", \"May\", \"May\", \"May\", \"May\", \"May\", \"May\", \"May\", \"May\", \"May\", \"May\", \"May\", \"May\", \"May\", \"May\", \"May\", \"May\", \"May\", \"May\", \"May\", \"May\", \"May\", \"May\", \"May\", \"May\", \"May\", \"May\", \"May\", \"May\", \"May\", \"May\", \"May\", \"May\", \"May\", \"May\", \"May\", \"May\", \"May\", \"May\", \"May\", \"May\", \"May\", \"May\", \"May\", \"May\", \"May\", \"May\", \"May\", \"May\", \"May\", \"May\", \"May\", \"May\", \"May\", \"May\", \"May\"], \"xaxis\": \"x\", \"y\": [1000, 1000000, 1000000, 1000000, 10, 10, 10, 10000, 10000, 100, 100, 100000, 100000, 100000, 100000, 100000000, 100000000, 5000000, 5000000, 50, 50000000, 50000000, 500000, 500000, 1000000, 1000000, 1000000, 1000000, 1000000, 1000000, 10, 10000000, 10000000, 10000000, 10000000, 10000000, 10000000, 100, 100000, 100000, 100000, 100000000, 100000000, 100000000, 5000000, 5000000, 5000000, 5000000, 5000000, 5000000, 50000, 50000000, 50000000, 50000000, 50000000, 500000, 500000, 500000, 1000, 1000000, 1000000, 1000000, 1000000, 1000000, 1000000, 1000000, 10000, 10000000, 10000000, 100, 100000, 100000, 100000, 100000, 100000000, 100000000, 5000000, 5000000, 50000, 500000, 1000000, 1000000, 1000000, 1000000, 1000000, 1000000, 1000000, 10000, 10000000, 10000000, 10000000, 10000000, 10000000, 100000, 100000, 100000, 5000000, 5000000, 5000000, 50000, 50000, 50000000, 500000, 500000, 1, 1000, 1000, 1000, 1000, 1000000, 1000000, 1000000, 1000000, 1000000, 1000000, 1000000, 1000000, 1000000, 1000000, 1000000, 1000000, 1000000, 1000000, 1000000, 1000000, 1000000, 1000000000, 10000, 10000, 10000, 10000, 10000, 10000, 10000, 10000, 10000, 10000, 10000, 10000000, 10000000, 10000000, 10000000, 10000000, 10000000, 10000000, 10000000, 10000000, 10000000, 10000000, 10000000, 10000000, 10000000, 10000000, 10000000, 10000000, 10000000, 10000000, 10000000, 10000000, 10000000, 10000000, 100, 100000, 100000, 100000, 100000, 100000, 100000, 100000, 100000, 100000, 100000, 100000, 100000000, 100000000, 100000000, 100000000, 100000000, 100000000, 100000000, 100000000, 100000000, 100000000, 100000000, 100000000, 100000000, 100000000, 100000000, 100000000, 5, 5, 5000, 5000, 5000, 5000000, 5000000, 5000000, 5000000, 5000000, 5000000, 5000000, 5000000, 5000000, 5000000, 5000000, 5000000, 5000000, 5000000, 5000000, 5000000, 5000000, 50, 50000, 50000, 50000000, 50000000, 50000000, 50000000, 50000000, 50000000, 50000000, 50000000, 50000000, 50000000, 50000000, 50000000, 50000000, 50000000, 50000000, 50000000, 50000000, 50000000, 50000000, 500000, 500000, 500000, 500000, 500000, 500000, 500000, 500000, 500000, 500000, 500000, 500000, 500000000, 500000000, 1000000, 1000000, 1000000, 1000000, 1000000, 1000000, 1000000, 1000000, 1000000, 1000000, 1000000, 10, 10, 10000, 10000, 10000000, 10000000, 10000000, 10000000, 10000000, 10000000, 10000000, 10000000, 10000000, 10000000, 10000000, 10000000, 10000000, 10000000, 10000000, 10000000, 10000000, 100, 100, 100, 100000, 100000, 100000, 100000, 100000, 100000000, 100000000, 100000000, 100000000, 100000000, 5000, 5000, 5000000, 5000000, 5000000, 5000000, 5000000, 5000000, 5000000, 50, 50, 50000, 50000, 50000, 50000, 50000000, 50000000, 50000000, 50000000, 50000000, 500, 500000, 500000, 1000, 1000, 1000, 1000000, 1000000, 1000000, 10, 10, 10000000, 10000000, 100000, 100000, 100000, 100000, 100000, 100000, 100000000, 5000000, 5000000, 50, 50000, 50000, 50000, 50000000, 50000000, 500000, 500000, 1000, 1000, 1000, 1000, 1000, 1000000, 1000000, 1000000, 1000000, 1000000, 1000000, 10, 10000, 10000, 10000, 10000, 10000, 10000, 10000000, 10000000, 10000000, 10000000, 10000000, 10000000, 10000000, 10000000, 10000000, 100, 100, 100000, 100000, 100000, 100000, 100000, 100000, 100000000, 100000000, 100000000, 100000000, 5000, 5000, 5000000, 5000000, 5000000, 5000000, 5000000, 5000000, 5000000, 5000000, 50, 50000, 50000, 50000000, 50000000, 50000000, 50000000, 50000000, 500, 500, 500, 500, 500000, 500000, 500000, 500000000], \"yaxis\": \"y\"}, {\"alignmentgroup\": \"True\", \"hoverlabel\": {\"namelength\": 0}, \"hovertemplate\": \"Category=HEALTH_AND_FITNESS<br>Month=%{x}<br>Installs=%{y}\", \"legendgroup\": \"Category=HEALTH_AND_FITNESS\", \"marker\": {\"color\": \"#FF97FF\"}, \"name\": \"Category=HEALTH_AND_FITNESS\", \"offsetgroup\": \"Category=HEALTH_AND_FITNESS\", \"orientation\": \"v\", \"showlegend\": true, \"textposition\": \"auto\", \"type\": \"bar\", \"x\": [\"April\", \"April\", \"April\", \"April\", \"April\", \"April\", \"April\", \"April\", \"April\", \"August\", \"August\", \"August\", \"August\", \"August\", \"August\", \"August\", \"August\", \"August\", \"August\", \"August\", \"August\", \"August\", \"August\", \"August\", \"August\", \"August\", \"August\", \"August\", \"August\", \"August\", \"February\", \"February\", \"February\", \"February\", \"February\", \"February\", \"February\", \"February\", \"February\", \"January\", \"January\", \"January\", \"January\", \"January\", \"January\", \"January\", \"July\", \"July\", \"July\", \"July\", \"July\", \"July\", \"July\", \"July\", \"July\", \"July\", \"July\", \"July\", \"July\", \"July\", \"July\", \"July\", \"July\", \"July\", \"July\", \"July\", \"July\", \"July\", \"July\", \"July\", \"July\", \"July\", \"July\", \"July\", \"July\", \"July\", \"July\", \"July\", \"July\", \"July\", \"July\", \"July\", \"July\", \"July\", \"July\", \"July\", \"July\", \"July\", \"July\", \"July\", \"July\", \"July\", \"July\", \"July\", \"July\", \"July\", \"July\", \"July\", \"July\", \"July\", \"July\", \"July\", \"July\", \"July\", \"July\", \"July\", \"July\", \"July\", \"July\", \"July\", \"July\", \"July\", \"July\", \"July\", \"July\", \"July\", \"July\", \"July\", \"July\", \"July\", \"June\", \"June\", \"June\", \"June\", \"June\", \"June\", \"June\", \"June\", \"June\", \"June\", \"June\", \"June\", \"June\", \"June\", \"June\", \"June\", \"June\", \"June\", \"June\", \"June\", \"June\", \"June\", \"June\", \"June\", \"June\", \"June\", \"June\", \"June\", \"June\", \"June\", \"June\", \"March\", \"March\", \"March\", \"March\", \"March\", \"March\", \"March\", \"March\", \"March\", \"May\", \"May\", \"May\", \"May\", \"May\", \"May\", \"May\", \"May\", \"May\", \"May\", \"May\", \"May\", \"May\", \"May\", \"May\", \"May\", \"May\"], \"xaxis\": \"x\", \"y\": [1000, 1000000, 100, 100000, 5000000, 50, 50, 50000, 500000, 1000, 1000, 1000000, 1000000, 1000000, 10, 10, 10000, 10000000, 10000000, 10000000, 100, 100000, 100000, 100000000, 5000, 5000000, 5000000, 5000000, 5000000, 50000, 1000, 1000000, 10, 10000, 100, 100, 100000, 5000000, 500000, 1000, 1000000, 1000000, 100, 100000, 100000, 100000, 1, 1000, 1000, 1000, 1000000, 1000000, 1000000, 1000000, 1000000, 1000000, 1000000, 1000000, 1000000, 1000000, 1000000, 1000000, 10, 10000, 10000, 10000, 10000, 10000000, 10000000, 10000000, 10000000, 10000000, 10000000, 10000000, 10000000, 10000000, 10000000, 10000000, 100, 100, 100, 100000, 100000, 100000, 100000, 100000, 100000, 100000, 100000, 5000, 5000000, 5000000, 5000000, 5000000, 5000000, 5000000, 5000000, 5000000, 5000000, 5000000, 50, 50, 50000, 50000, 50000, 50000, 50000, 50000000, 500, 500, 500000, 500000, 500000, 500000, 500000, 500000, 500000, 500000, 500000, 500000000, 1000, 1000, 1000, 1000000, 1000000, 1000000, 1000000, 1000000, 1000000, 1000000, 10, 10, 10000, 10000, 10000000, 10000000, 10000000, 10000000, 10000000, 10000000, 10000000, 100, 100000, 5, 5000000, 50, 50000, 500, 500000, 500000, 500000, 1000, 1000000, 1000000, 1000000, 10, 100, 100000, 50, 500, 1000, 1000000, 1000000, 1000000, 10, 10000, 10000, 10000, 10000, 10000000, 100, 100000, 5000000, 5000000, 50, 50000, 500000], \"yaxis\": \"y\"}, {\"alignmentgroup\": \"True\", \"hoverlabel\": {\"namelength\": 0}, \"hovertemplate\": \"Category=LIBRARIES_AND_DEMO<br>Month=%{x}<br>Installs=%{y}\", \"legendgroup\": \"Category=LIBRARIES_AND_DEMO\", \"marker\": {\"color\": \"#FECB52\"}, \"name\": \"Category=LIBRARIES_AND_DEMO\", \"offsetgroup\": \"Category=LIBRARIES_AND_DEMO\", \"orientation\": \"v\", \"showlegend\": true, \"textposition\": \"auto\", \"type\": \"bar\", \"x\": [\"April\", \"April\", \"April\", \"August\", \"August\", \"August\", \"February\", \"February\", \"February\", \"February\", \"January\", \"January\", \"July\", \"July\", \"July\", \"July\", \"July\", \"July\", \"July\", \"July\", \"July\", \"July\", \"June\", \"June\", \"June\", \"June\", \"June\", \"June\", \"March\", \"March\", \"March\", \"March\", \"May\", \"May\", \"May\"], \"xaxis\": \"x\", \"y\": [1000, 1000000, 10000000, 10000, 100000, 50000, 10000, 10000, 100000, 50000, 100000, 500000, 1000000, 1000000, 10000, 10000, 100000, 5000, 50000, 50000, 500000, 500000, 10000, 10000, 100000, 100000, 50000, 50000, 100, 100000, 100000, 5000, 1000, 1000, 100000], \"yaxis\": \"y\"}, {\"alignmentgroup\": \"True\", \"hoverlabel\": {\"namelength\": 0}, \"hovertemplate\": \"Category=LIFESTYLE<br>Month=%{x}<br>Installs=%{y}\", \"legendgroup\": \"Category=LIFESTYLE\", \"marker\": {\"color\": \"#636efa\"}, \"name\": \"Category=LIFESTYLE\", \"offsetgroup\": \"Category=LIFESTYLE\", \"orientation\": \"v\", \"showlegend\": true, \"textposition\": \"auto\", \"type\": \"bar\", \"x\": [\"April\", \"April\", \"April\", \"April\", \"April\", \"April\", \"April\", \"April\", \"April\", \"April\", \"April\", \"August\", \"August\", \"August\", \"August\", \"August\", \"August\", \"August\", \"August\", \"August\", \"August\", \"August\", \"August\", \"August\", \"August\", \"August\", \"August\", \"August\", \"August\", \"August\", \"February\", \"February\", \"February\", \"February\", \"February\", \"February\", \"February\", \"February\", \"February\", \"February\", \"February\", \"January\", \"January\", \"January\", \"January\", \"January\", \"January\", \"January\", \"January\", \"January\", \"January\", \"July\", \"July\", \"July\", \"July\", \"July\", \"July\", \"July\", \"July\", \"July\", \"July\", \"July\", \"July\", \"July\", \"July\", \"July\", \"July\", \"July\", \"July\", \"July\", \"July\", \"July\", \"July\", \"July\", \"July\", \"July\", \"July\", \"July\", \"July\", \"July\", \"July\", \"July\", \"July\", \"July\", \"July\", \"July\", \"July\", \"July\", \"July\", \"July\", \"July\", \"July\", \"July\", \"July\", \"July\", \"July\", \"July\", \"July\", \"July\", \"July\", \"July\", \"July\", \"July\", \"July\", \"July\", \"July\", \"July\", \"July\", \"June\", \"June\", \"June\", \"June\", \"June\", \"June\", \"June\", \"June\", \"June\", \"June\", \"June\", \"June\", \"June\", \"June\", \"June\", \"June\", \"June\", \"June\", \"June\", \"June\", \"June\", \"June\", \"June\", \"June\", \"June\", \"June\", \"June\", \"June\", \"June\", \"June\", \"June\", \"June\", \"June\", \"June\", \"June\", \"June\", \"June\", \"June\", \"June\", \"June\", \"June\", \"June\", \"June\", \"June\", \"March\", \"March\", \"March\", \"March\", \"March\", \"March\", \"March\", \"March\", \"March\", \"March\", \"March\", \"March\", \"March\", \"March\", \"March\", \"March\", \"March\", \"May\", \"May\", \"May\", \"May\", \"May\", \"May\", \"May\", \"May\", \"May\", \"May\", \"May\", \"May\", \"May\", \"May\", \"May\", \"May\", \"May\", \"May\", \"May\", \"May\", \"May\", \"May\"], \"xaxis\": \"x\", \"y\": [1000, 1000000, 10, 100, 100000, 5000, 5000000, 5000000, 50000, 500, 500000, 1, 1000, 1000000, 1000000, 1000000, 1000000, 1000000, 10000, 10000000, 100, 100000, 100000, 100000000, 5000000, 5000000, 500000, 500000, 500000, 500000, 1000, 1000, 1000000, 10, 10000, 100, 100, 100000, 5000, 500, 500, 1000, 1000, 1000000, 10000, 100000, 100000, 100000, 50, 50000, 500000, 1, 1, 1000, 1000, 1000, 1000, 1000, 1000, 1000000, 1000000, 1000000, 1000000, 1000000, 1000000, 1000000, 1000000, 1000000, 10, 10000, 10000, 10000, 10000, 10000, 10000000, 10000000, 10000000, 10000000, 10000000, 10000000, 10000000, 100, 100, 100000, 100000, 100000, 100000, 100000, 100000, 5000, 5000, 5000, 5000, 5000000, 5000000, 5000000, 50, 50000, 50000, 50000, 50000, 50000000, 500, 500, 500000, 500000, 500000, 500000, 1000, 1000, 1000, 1000, 1000, 1000000, 1000000, 1000000, 1000000, 1000000, 1000000, 1000000, 1000000, 1000000, 10, 10000, 10000, 10000000, 10000000, 10000000, 10000000, 10000000, 100, 100, 100, 100, 100, 100, 100000, 100000, 100000, 100000, 100000, 5000, 5000, 5000, 50, 50000, 50000, 50000, 50000, 500, 500, 500000, 1000, 1000, 1000000, 1000000, 10000, 10000, 10000, 10000, 10000, 100000, 100000, 100000, 100000, 5000, 50, 500, 500, 1000, 1000, 1000000, 1000000, 10, 10, 10000, 100, 100, 100000, 5, 5000000, 5000000, 5000000, 50, 50, 50000, 50000, 50000, 50000, 500, 500000], \"yaxis\": \"y\"}, {\"alignmentgroup\": \"True\", \"hoverlabel\": {\"namelength\": 0}, \"hovertemplate\": \"Category=MEDICAL<br>Month=%{x}<br>Installs=%{y}\", \"legendgroup\": \"Category=MEDICAL\", \"marker\": {\"color\": \"#EF553B\"}, \"name\": \"Category=MEDICAL\", \"offsetgroup\": \"Category=MEDICAL\", \"orientation\": \"v\", \"showlegend\": true, \"textposition\": \"auto\", \"type\": \"bar\", \"x\": [\"April\", \"April\", \"April\", \"April\", \"April\", \"April\", \"April\", \"April\", \"April\", \"April\", \"April\", \"April\", \"April\", \"April\", \"April\", \"April\", \"April\", \"April\", \"April\", \"August\", \"August\", \"August\", \"August\", \"August\", \"August\", \"August\", \"August\", \"August\", \"August\", \"August\", \"August\", \"August\", \"August\", \"August\", \"August\", \"August\", \"August\", \"August\", \"August\", \"August\", \"August\", \"August\", \"August\", \"February\", \"February\", \"February\", \"February\", \"February\", \"February\", \"February\", \"January\", \"January\", \"January\", \"January\", \"January\", \"January\", \"January\", \"January\", \"January\", \"January\", \"January\", \"January\", \"January\", \"January\", \"July\", \"July\", \"July\", \"July\", \"July\", \"July\", \"July\", \"July\", \"July\", \"July\", \"July\", \"July\", \"July\", \"July\", \"July\", \"July\", \"July\", \"July\", \"July\", \"July\", \"July\", \"July\", \"July\", \"July\", \"July\", \"July\", \"July\", \"July\", \"July\", \"July\", \"July\", \"July\", \"July\", \"July\", \"July\", \"July\", \"July\", \"July\", \"July\", \"July\", \"July\", \"July\", \"July\", \"July\", \"July\", \"July\", \"July\", \"July\", \"July\", \"July\", \"July\", \"July\", \"July\", \"July\", \"July\", \"July\", \"July\", \"July\", \"July\", \"July\", \"July\", \"July\", \"July\", \"July\", \"July\", \"July\", \"July\", \"July\", \"July\", \"July\", \"July\", \"July\", \"July\", \"July\", \"July\", \"July\", \"July\", \"July\", \"July\", \"July\", \"July\", \"July\", \"July\", \"July\", \"July\", \"July\", \"July\", \"July\", \"July\", \"July\", \"July\", \"July\", \"July\", \"July\", \"July\", \"July\", \"July\", \"June\", \"June\", \"June\", \"June\", \"June\", \"June\", \"June\", \"June\", \"June\", \"June\", \"June\", \"June\", \"June\", \"June\", \"June\", \"June\", \"June\", \"June\", \"June\", \"June\", \"June\", \"June\", \"June\", \"March\", \"March\", \"March\", \"March\", \"March\", \"March\", \"March\", \"March\", \"March\", \"March\", \"March\", \"March\", \"March\", \"March\", \"March\", \"May\", \"May\", \"May\", \"May\", \"May\", \"May\", \"May\", \"May\", \"May\", \"May\", \"May\", \"May\", \"May\", \"May\", \"May\", \"May\", \"May\", \"May\", \"May\", \"May\", \"May\", \"May\", \"May\", \"May\"], \"xaxis\": \"x\", \"y\": [1000, 10, 10, 10000, 10000, 10000, 10000, 10000, 10000, 10000, 100, 100, 100, 100000, 100000, 5000, 5000, 500, 500000, 1, 1, 1000, 1000, 1000000, 1000000, 1000000, 10, 10, 10000, 10000, 100, 100, 100, 100000, 100000, 5, 5, 5000000, 50, 50000, 50000, 500, 500000, 1, 100, 100, 100, 100000, 50, 50, 1000, 1000, 10000, 10000, 100, 100, 100000, 50, 50000, 50000, 500, 500, 500, 500000, 1, 1, 1, 1000, 1000, 1000, 1000, 1000, 1000000, 1000000, 1000000, 1000000, 1000000, 1000000, 1000000, 1000000, 1000000, 10, 10, 10, 10, 10, 10, 10, 10, 10, 10, 10, 10, 10000, 10000, 10000, 10000, 100, 100, 100, 100, 100, 100, 100, 100, 100, 100, 100, 100000, 100000, 100000, 100000, 100000, 100000, 100000, 100000, 100000, 100000, 100000, 100000, 100000, 100000, 5, 5, 5, 5, 5, 5000, 5000, 5000, 5000, 5000, 5000, 5000, 5000, 5000000, 50, 50, 50, 50, 50, 50, 50, 50, 50000, 50000, 50000, 50000, 50000, 50000, 50000, 50000, 500, 500, 500, 500, 500000, 500000, 500000, 500000, 500000, 1, 1000, 1000, 1000, 1000, 1000, 1000, 1000000, 10, 10000, 10000, 10000, 10000, 10000, 10000, 100, 100, 100000, 50, 50, 50000, 50000, 500000, 1000, 1000, 1000, 10, 10000, 100, 100, 100, 100000, 5000, 5000, 5000, 5000, 50000, 500, 1000, 1000, 1000, 1000, 1000, 1000, 1000, 1000000, 1000000, 10000, 10000, 10000, 10000, 100, 100000, 100000, 5000, 5000, 50, 50, 50000, 50000, 500, 500000], \"yaxis\": \"y\"}, {\"alignmentgroup\": \"True\", \"hoverlabel\": {\"namelength\": 0}, \"hovertemplate\": \"Category=NEWS_AND_MAGAZINES<br>Month=%{x}<br>Installs=%{y}\", \"legendgroup\": \"Category=NEWS_AND_MAGAZINES\", \"marker\": {\"color\": \"#00cc96\"}, \"name\": \"Category=NEWS_AND_MAGAZINES\", \"offsetgroup\": \"Category=NEWS_AND_MAGAZINES\", \"orientation\": \"v\", \"showlegend\": true, \"textposition\": \"auto\", \"type\": \"bar\", \"x\": [\"April\", \"April\", \"April\", \"April\", \"April\", \"April\", \"April\", \"April\", \"April\", \"April\", \"April\", \"August\", \"August\", \"August\", \"August\", \"August\", \"August\", \"August\", \"August\", \"August\", \"August\", \"August\", \"August\", \"August\", \"August\", \"August\", \"August\", \"August\", \"August\", \"August\", \"August\", \"August\", \"August\", \"August\", \"February\", \"February\", \"February\", \"February\", \"February\", \"February\", \"February\", \"February\", \"January\", \"January\", \"January\", \"July\", \"July\", \"July\", \"July\", \"July\", \"July\", \"July\", \"July\", \"July\", \"July\", \"July\", \"July\", \"July\", \"July\", \"July\", \"July\", \"July\", \"July\", \"July\", \"July\", \"July\", \"July\", \"July\", \"July\", \"July\", \"July\", \"July\", \"July\", \"July\", \"July\", \"July\", \"July\", \"July\", \"July\", \"July\", \"July\", \"July\", \"July\", \"July\", \"July\", \"July\", \"July\", \"July\", \"July\", \"July\", \"July\", \"July\", \"July\", \"July\", \"July\", \"July\", \"July\", \"July\", \"July\", \"July\", \"July\", \"July\", \"July\", \"July\", \"July\", \"July\", \"July\", \"June\", \"June\", \"June\", \"June\", \"June\", \"June\", \"June\", \"June\", \"June\", \"June\", \"June\", \"June\", \"June\", \"June\", \"June\", \"June\", \"June\", \"June\", \"June\", \"June\", \"June\", \"June\", \"June\", \"June\", \"June\", \"June\", \"March\", \"March\", \"March\", \"March\", \"March\", \"March\", \"March\", \"March\", \"May\", \"May\", \"May\", \"May\", \"May\", \"May\", \"May\", \"May\", \"May\", \"May\", \"May\", \"May\", \"May\", \"May\", \"May\", \"May\"], \"xaxis\": \"x\", \"y\": [1000, 1000, 1000000, 1000000, 10, 10000, 100, 100000, 100000, 5000, 500000, 1000, 1000000, 1000000, 1000000, 1000000, 1000000, 1000000000, 10000, 10000000, 10000000, 10000000, 10000000, 10000000, 10000000, 100000, 100000, 5000000, 5000000, 5000000, 50000, 50000, 500000000, 500000000, 10, 100000, 100000, 5000, 5000, 5000, 5000000, 500, 1000000, 10000, 100000, 0, 1000, 1000, 1000, 1000000, 1000000, 1000000, 1000000, 1000000, 1000000, 1000000, 1000000, 1000000, 1000000, 10, 10, 10, 10000, 10000, 10000, 10000, 10000, 10000, 10000000, 10000000, 10000000, 10000000, 10000000, 10000000, 10000000, 10000000, 10000000, 10000000, 100, 100, 100, 100, 100, 100, 100000, 100000, 100000, 100000, 5000, 5000, 5000, 5000, 5000000, 5000000, 5000000, 5000000, 5000000, 5000000, 50, 50000, 50000, 50000, 50000, 50000000, 500000, 500000, 500000000, 1000, 1000, 1000, 1000, 1000000, 1000000, 1000000, 1000000, 1000000, 10000, 10000, 10000, 10000, 100, 100, 100, 100000, 100000, 5, 5000, 5000000, 50, 500, 500000, 500000, 500000, 1000, 1000000, 1000000, 100, 100, 100000, 5000, 50000, 1000, 1000000, 10, 10000, 10000, 10000, 10000, 10000000, 100, 100000, 5000, 50, 50, 50000, 500, 500], \"yaxis\": \"y\"}, {\"alignmentgroup\": \"True\", \"hoverlabel\": {\"namelength\": 0}, \"hovertemplate\": \"Category=SPORTS<br>Month=%{x}<br>Installs=%{y}\", \"legendgroup\": \"Category=SPORTS\", \"marker\": {\"color\": \"#ab63fa\"}, \"name\": \"Category=SPORTS\", \"offsetgroup\": \"Category=SPORTS\", \"orientation\": \"v\", \"showlegend\": true, \"textposition\": \"auto\", \"type\": \"bar\", \"x\": [\"April\", \"April\", \"April\", \"April\", \"April\", \"April\", \"April\", \"April\", \"April\", \"April\", \"April\", \"August\", \"August\", \"August\", \"August\", \"August\", \"August\", \"August\", \"August\", \"August\", \"August\", \"August\", \"August\", \"August\", \"August\", \"August\", \"August\", \"August\", \"August\", \"August\", \"August\", \"August\", \"August\", \"August\", \"August\", \"August\", \"August\", \"August\", \"August\", \"August\", \"August\", \"February\", \"February\", \"February\", \"February\", \"February\", \"February\", \"February\", \"February\", \"February\", \"February\", \"February\", \"February\", \"February\", \"February\", \"February\", \"February\", \"February\", \"February\", \"January\", \"January\", \"January\", \"January\", \"January\", \"January\", \"January\", \"January\", \"January\", \"July\", \"July\", \"July\", \"July\", \"July\", \"July\", \"July\", \"July\", \"July\", \"July\", \"July\", \"July\", \"July\", \"July\", \"July\", \"July\", \"July\", \"July\", \"July\", \"July\", \"July\", \"July\", \"July\", \"July\", \"July\", \"July\", \"July\", \"July\", \"July\", \"July\", \"July\", \"July\", \"July\", \"July\", \"July\", \"July\", \"July\", \"July\", \"July\", \"July\", \"July\", \"July\", \"July\", \"July\", \"July\", \"July\", \"July\", \"July\", \"July\", \"July\", \"July\", \"July\", \"July\", \"July\", \"July\", \"July\", \"July\", \"July\", \"July\", \"July\", \"July\", \"June\", \"June\", \"June\", \"June\", \"June\", \"June\", \"June\", \"June\", \"June\", \"June\", \"June\", \"June\", \"June\", \"June\", \"June\", \"June\", \"June\", \"June\", \"June\", \"June\", \"June\", \"June\", \"June\", \"June\", \"June\", \"June\", \"June\", \"June\", \"June\", \"June\", \"June\", \"March\", \"March\", \"March\", \"March\", \"March\", \"March\", \"March\", \"March\", \"March\", \"March\", \"March\", \"March\", \"May\", \"May\", \"May\", \"May\", \"May\", \"May\", \"May\", \"May\", \"May\", \"May\", \"May\", \"May\", \"May\", \"May\", \"May\", \"May\", \"May\", \"May\", \"May\", \"May\", \"May\", \"May\", \"May\", \"May\"], \"xaxis\": \"x\", \"y\": [1000, 1000000, 1000000, 10000000, 100, 100000, 5, 5000, 50000, 500000, 500000, 1000, 1000, 1000000, 1000000, 1000000, 1000000, 1000000, 1000000, 10, 10000, 10000, 10000, 10000, 10000000, 10000000, 10000000, 10000000, 100, 100000, 5000, 5000000, 5000000, 5000000, 5000000, 5000000, 5000000, 50000, 50000, 50000000, 500000, 1, 1000, 1000, 10, 10, 10, 10, 10, 10, 10000000, 100, 100000, 5, 5, 5, 50, 50, 50000, 1000, 10000, 100000, 100000, 100000000, 5000000, 5000000, 50000, 500000, 1000, 1000, 1000000, 1000000, 1000000, 1000000, 1000000, 1000000, 1000000, 10, 10000, 10000, 10000, 10000, 10000, 10000, 10000, 10000000, 10000000, 10000000, 10000000, 10000000, 10000000, 10000000, 10000000, 10000000, 10000000, 10000000, 10000000, 100, 100, 100, 100000, 100000, 100000, 100000, 100000, 100000, 100000, 100000, 100000000, 100000000, 5, 5000, 5000000, 5000000, 5000000, 5000000, 5000000, 5000000, 5000000, 50000, 50000, 50000, 50000000, 50000000, 500000, 500000, 500000, 500000, 500000, 1000, 1000, 1000000, 1000000, 1000000, 1000000, 1000000, 1000000, 10000, 10000, 10000000, 10000000, 10000000, 10000000, 100, 100, 100000, 100000, 100000, 100000, 100000, 5000, 5000, 5000000, 5000000, 5000000, 5000000, 50, 50, 50000, 500, 1, 10, 10000, 100, 100, 100000, 100000, 5000, 5000000, 50, 50000, 500, 1, 1000, 1000, 1000000, 1000000, 1000000, 1000000, 10000, 10000, 100, 100, 100000, 100000, 100000, 100000, 100000, 100000, 5, 5000000, 50000000, 50000000, 500000, 500000, 500000], \"yaxis\": \"y\"}, {\"alignmentgroup\": \"True\", \"hoverlabel\": {\"namelength\": 0}, \"hovertemplate\": \"Category=TOOLS<br>Month=%{x}<br>Installs=%{y}\", \"legendgroup\": \"Category=TOOLS\", \"marker\": {\"color\": \"#FFA15A\"}, \"name\": \"Category=TOOLS\", \"offsetgroup\": \"Category=TOOLS\", \"orientation\": \"v\", \"showlegend\": true, \"textposition\": \"auto\", \"type\": \"bar\", \"x\": [\"April\", \"April\", \"April\", \"April\", \"April\", \"April\", \"April\", \"April\", \"April\", \"April\", \"April\", \"April\", \"April\", \"April\", \"April\", \"April\", \"April\", \"April\", \"April\", \"April\", \"April\", \"April\", \"April\", \"April\", \"April\", \"April\", \"April\", \"April\", \"April\", \"April\", \"April\", \"April\", \"April\", \"April\", \"April\", \"April\", \"August\", \"August\", \"August\", \"August\", \"August\", \"August\", \"August\", \"August\", \"August\", \"August\", \"August\", \"August\", \"August\", \"August\", \"August\", \"August\", \"August\", \"August\", \"August\", \"August\", \"August\", \"August\", \"August\", \"August\", \"August\", \"August\", \"August\", \"August\", \"August\", \"August\", \"August\", \"August\", \"August\", \"August\", \"August\", \"August\", \"August\", \"August\", \"August\", \"August\", \"August\", \"August\", \"August\", \"February\", \"February\", \"February\", \"February\", \"February\", \"February\", \"February\", \"February\", \"February\", \"February\", \"February\", \"February\", \"February\", \"February\", \"February\", \"February\", \"February\", \"February\", \"February\", \"February\", \"February\", \"February\", \"February\", \"February\", \"February\", \"February\", \"February\", \"February\", \"February\", \"February\", \"February\", \"January\", \"January\", \"January\", \"January\", \"January\", \"January\", \"January\", \"January\", \"January\", \"January\", \"January\", \"January\", \"January\", \"January\", \"January\", \"January\", \"January\", \"January\", \"January\", \"January\", \"January\", \"January\", \"January\", \"January\", \"July\", \"July\", \"July\", \"July\", \"July\", \"July\", \"July\", \"July\", \"July\", \"July\", \"July\", \"July\", \"July\", \"July\", \"July\", \"July\", \"July\", \"July\", \"July\", \"July\", \"July\", \"July\", \"July\", \"July\", \"July\", \"July\", \"July\", \"July\", \"July\", \"July\", \"July\", \"July\", \"July\", \"July\", \"July\", \"July\", \"July\", \"July\", \"July\", \"July\", \"July\", \"July\", \"July\", \"July\", \"July\", \"July\", \"July\", \"July\", \"July\", \"July\", \"July\", \"July\", \"July\", \"July\", \"July\", \"July\", \"July\", \"July\", \"July\", \"July\", \"July\", \"July\", \"July\", \"July\", \"July\", \"July\", \"July\", \"July\", \"July\", \"July\", \"July\", \"July\", \"July\", \"July\", \"July\", \"July\", \"July\", \"July\", \"July\", \"July\", \"July\", \"July\", \"July\", \"July\", \"July\", \"July\", \"July\", \"July\", \"July\", \"July\", \"July\", \"July\", \"July\", \"July\", \"July\", \"July\", \"July\", \"July\", \"July\", \"July\", \"July\", \"July\", \"July\", \"July\", \"July\", \"July\", \"July\", \"July\", \"July\", \"July\", \"July\", \"July\", \"July\", \"July\", \"July\", \"July\", \"July\", \"July\", \"July\", \"July\", \"July\", \"July\", \"July\", \"July\", \"July\", \"July\", \"June\", \"June\", \"June\", \"June\", \"June\", \"June\", \"June\", \"June\", \"June\", \"June\", \"June\", \"June\", \"June\", \"June\", \"June\", \"June\", \"June\", \"June\", \"June\", \"June\", \"June\", \"June\", \"June\", \"June\", \"June\", \"June\", \"June\", \"June\", \"June\", \"June\", \"June\", \"June\", \"June\", \"June\", \"June\", \"June\", \"June\", \"June\", \"June\", \"June\", \"June\", \"June\", \"June\", \"June\", \"June\", \"June\", \"June\", \"June\", \"June\", \"June\", \"June\", \"June\", \"June\", \"June\", \"June\", \"June\", \"March\", \"March\", \"March\", \"March\", \"March\", \"March\", \"March\", \"March\", \"March\", \"March\", \"March\", \"March\", \"March\", \"March\", \"March\", \"March\", \"March\", \"March\", \"March\", \"March\", \"March\", \"March\", \"March\", \"March\", \"March\", \"March\", \"March\", \"March\", \"March\", \"March\", \"March\", \"May\", \"May\", \"May\", \"May\", \"May\", \"May\", \"May\", \"May\", \"May\", \"May\", \"May\", \"May\", \"May\", \"May\", \"May\", \"May\", \"May\", \"May\", \"May\", \"May\", \"May\", \"May\", \"May\", \"May\", \"May\", \"May\", \"May\", \"May\", \"May\", \"May\", \"May\", \"May\", \"May\", \"May\", \"May\", \"May\", \"May\", \"May\", \"May\", \"May\", \"May\", \"May\", \"May\", \"May\", \"May\", \"May\", \"May\", \"May\", \"May\", \"May\", \"May\", \"May\", \"May\", \"May\", \"May\", \"May\", \"May\", \"May\", \"May\", \"May\", \"May\", \"May\"], \"xaxis\": \"x\", \"y\": [1000, 1000, 1000, 1000, 1000000, 1000000, 1000000, 1000000, 1000000, 1000000, 10, 10, 10000, 10000, 10000, 10000, 10000000, 10000000, 10000000, 10000000, 10000000, 100, 100, 100, 100, 100000, 100000, 100000, 100000, 5000, 5000000, 50000, 50000000, 500, 500, 500, 1000, 1000, 1000, 1000, 1000000, 1000000, 1000000, 1000000, 1000000, 1000000000, 10000, 10000000, 10000000, 10000000, 10000000, 10000000, 10000000, 100, 100, 100000, 100000, 100000, 100000, 100000, 100000000, 100000000, 100000000, 100000000, 5, 5000, 5000, 5000, 5000000, 5000000, 50000, 50000000, 50000000, 50000000, 50000000, 500, 500000, 500000000, 500000000, 1000, 1000, 1000, 1000, 1000000, 1000000, 1000000, 1000000, 10, 10, 10000, 10000, 10000, 10000, 10000, 10000000, 10000000, 10000000, 100, 100, 100000, 100000, 100000, 100000, 5, 5000000, 50000, 50000, 50000000, 500, 500, 1000, 1000, 1000, 1000000, 1000000, 1000000, 1000000, 1000000, 10, 10, 10000, 10000, 10000000, 10000000, 10000000, 100, 100000, 100000, 5000, 5000000, 5000000, 5000000, 50000, 500000, 1, 1, 1, 1000, 1000, 1000, 1000, 1000000, 1000000, 1000000, 1000000, 1000000, 1000000, 1000000, 1000000, 1000000, 1000000, 1000000, 1000000, 1000000, 1000000, 1000000, 10, 10, 10, 10, 10, 10, 10, 10, 10000, 10000, 10000, 10000, 10000, 10000, 10000, 10000, 10000, 10000, 10000, 10000, 10000, 10000, 10000000, 10000000, 10000000, 10000000, 10000000, 10000000, 10000000, 10000000, 10000000, 10000000, 10000000, 10000000, 10000000, 10000000, 10000000, 10000000, 100, 100, 100, 100, 100, 100, 100000, 100000, 100000, 100000, 100000, 100000, 100000, 100000, 100000000, 100000000, 100000000, 100000000, 100000000, 100000000, 100000000, 100000000, 5, 5000, 5000, 5000, 5000, 5000, 5000000, 5000000, 5000000, 5000000, 5000000, 5000000, 5000000, 5000000, 5000000, 5000000, 50, 50, 50, 50, 50000, 50000, 50000, 50000, 50000, 50000000, 50000000, 50000000, 50000000, 50000000, 50000000, 50000000, 500, 500, 500000, 500000, 500000, 500000, 500000, 500000, 500000, 500000, 500000000, 500000000, 1000, 1000, 1000, 1000, 1000, 1000000, 1000000, 1000000, 1000000, 1000000, 1000000, 10, 10, 10000, 10000, 10000, 10000, 10000, 10000, 10000000, 10000000, 10000000, 10000000, 10000000, 10000000, 10000000, 10000000, 10000000, 100, 100, 100, 100, 100000, 100000, 100000, 100000, 100000, 100000000, 100000000, 100000000, 100000000, 5, 5000, 5000, 5000, 5000, 5000000, 5000000, 50, 50, 50000, 50000, 50000, 50000000, 500, 500, 1, 1000, 1000, 1000000, 1000000, 10000, 10000000, 10000000, 100, 100, 100000, 100000, 100000, 100000, 100000, 100000, 5000, 5000, 5000, 5000, 5000000, 50, 50000, 50000, 50000, 50000, 50000, 50000, 500, 500, 500, 1000, 1000, 1000, 1000, 1000, 1000, 1000, 1000, 1000000, 1000000, 1000000, 1000000, 1000000, 1000000, 10, 10, 10, 10000, 10000, 10000, 10000, 10000, 10000000, 10000000, 10000000, 10000000, 10000000, 10000000, 100, 100, 100, 100, 100000, 100000, 100000, 100000, 100000, 100000, 100000, 5, 5000, 5000, 5000, 5000000, 5000000, 5000000, 5000000, 5000000, 50, 50, 50000, 50000, 50000, 50000, 50000, 500, 500, 500, 500, 500000, 500000, 500000], \"yaxis\": \"y\"}, {\"alignmentgroup\": \"True\", \"hoverlabel\": {\"namelength\": 0}, \"hovertemplate\": \"Category=TRAVEL_AND_LOCAL<br>Month=%{x}<br>Installs=%{y}\", \"legendgroup\": \"Category=TRAVEL_AND_LOCAL\", \"marker\": {\"color\": \"#19d3f3\"}, \"name\": \"Category=TRAVEL_AND_LOCAL\", \"offsetgroup\": \"Category=TRAVEL_AND_LOCAL\", \"orientation\": \"v\", \"showlegend\": true, \"textposition\": \"auto\", \"type\": \"bar\", \"x\": [\"April\", \"April\", \"April\", \"April\", \"April\", \"April\", \"April\", \"April\", \"April\", \"April\", \"April\", \"April\", \"August\", \"August\", \"August\", \"August\", \"August\", \"August\", \"August\", \"August\", \"August\", \"August\", \"August\", \"August\", \"August\", \"August\", \"August\", \"August\", \"August\", \"August\", \"August\", \"August\", \"August\", \"August\", \"August\", \"August\", \"August\", \"August\", \"February\", \"January\", \"January\", \"January\", \"January\", \"January\", \"January\", \"January\", \"January\", \"July\", \"July\", \"July\", \"July\", \"July\", \"July\", \"July\", \"July\", \"July\", \"July\", \"July\", \"July\", \"July\", \"July\", \"July\", \"July\", \"July\", \"July\", \"July\", \"July\", \"July\", \"July\", \"July\", \"July\", \"July\", \"July\", \"July\", \"July\", \"July\", \"July\", \"July\", \"July\", \"July\", \"July\", \"July\", \"July\", \"July\", \"July\", \"July\", \"July\", \"July\", \"July\", \"July\", \"July\", \"July\", \"June\", \"June\", \"June\", \"June\", \"June\", \"June\", \"June\", \"June\", \"June\", \"June\", \"June\", \"June\", \"June\", \"June\", \"June\", \"June\", \"June\", \"June\", \"June\", \"March\", \"March\", \"March\", \"March\", \"March\", \"March\", \"March\", \"March\", \"March\", \"May\", \"May\", \"May\", \"May\", \"May\", \"May\", \"May\", \"May\", \"May\", \"May\", \"May\", \"May\", \"May\", \"May\", \"May\"], \"xaxis\": \"x\", \"y\": [1000, 1000, 1000, 1000, 10000, 10000, 10000000, 100, 100000, 100000, 5, 5000000, 1, 1000000, 1000000, 1000000, 1000000, 1000000000, 10000000, 10000000, 10000000, 10000000, 10000000, 10000000, 100000, 100000, 100000, 100000, 100000000, 100000000, 5000, 5000, 5000000, 5000000, 50000, 50000000, 500000, 500000, 10000, 1000000, 10000, 100, 5000000, 5000000, 50000, 50000000, 500000, 1000, 1000, 1000, 1000000, 1000000, 1000000, 1000000, 1000000, 1000000, 1000000, 1000000, 1000000, 1000000, 1000000, 1000000, 1000000, 1000000, 1000000, 1000000000, 10000, 10000, 10000, 10000000, 10000000, 10000000, 10000000, 10000000, 10000000, 10000000, 100000, 100000, 5000, 5000000, 5000000, 5000000, 5000000, 5000000, 5000000, 5000000, 50, 50000, 50000, 50000000, 50000000, 500000, 1000, 1000, 1000000, 1000000, 10, 10000, 10000, 10000, 10000, 10000, 10000000, 100, 100000, 100000000, 5, 5000, 5000, 5000000, 5000000, 1000, 10000, 10000, 100000, 5000000, 50000, 500, 500000, 500000, 1000, 1000000, 1000000, 1000000, 10, 10000, 10000, 10000, 10000, 100, 100000, 5000, 500000, 500000, 500000], \"yaxis\": \"y\"}, {\"alignmentgroup\": \"True\", \"hoverlabel\": {\"namelength\": 0}, \"hovertemplate\": \"Category=VIDEO_PLAYERS<br>Month=%{x}<br>Installs=%{y}\", \"legendgroup\": \"Category=VIDEO_PLAYERS\", \"marker\": {\"color\": \"#FF6692\"}, \"name\": \"Category=VIDEO_PLAYERS\", \"offsetgroup\": \"Category=VIDEO_PLAYERS\", \"orientation\": \"v\", \"showlegend\": true, \"textposition\": \"auto\", \"type\": \"bar\", \"x\": [\"April\", \"April\", \"April\", \"April\", \"April\", \"April\", \"April\", \"April\", \"April\", \"August\", \"August\", \"August\", \"August\", \"August\", \"August\", \"August\", \"August\", \"August\", \"August\", \"August\", \"August\", \"August\", \"August\", \"August\", \"August\", \"August\", \"July\", \"July\", \"July\", \"July\", \"July\", \"July\", \"July\", \"July\", \"July\", \"July\", \"July\", \"July\", \"July\", \"July\", \"July\", \"July\", \"July\", \"July\", \"July\", \"July\", \"July\", \"July\", \"July\", \"July\", \"July\", \"July\", \"July\", \"July\", \"July\", \"July\", \"July\", \"July\", \"July\", \"June\", \"June\", \"June\", \"June\", \"June\", \"June\", \"June\", \"June\", \"June\", \"June\", \"June\", \"June\", \"June\", \"June\", \"March\", \"March\", \"March\", \"March\", \"March\", \"March\", \"March\", \"May\", \"May\", \"May\", \"May\", \"May\", \"May\", \"May\", \"May\", \"May\", \"May\", \"May\", \"May\"], \"xaxis\": \"x\", \"y\": [1000, 1000000, 1000000, 1000000, 10000000, 10000000, 100, 100, 5000, 1000, 1000000, 1000000, 1000000, 1000000, 1000000, 1000000000, 1000000000, 10000000, 10000000, 10000000, 100000000, 5000000, 50000000, 50000000, 500000000, 500000000, 1000, 1000000, 1000000, 1000000, 1000000, 1000000, 1000000, 1000000, 1000000, 1000000, 1000000, 1000000, 10, 10000, 10000, 10000000, 10000000, 10000000, 10000000, 10000000, 100000, 100000, 100000, 100000000, 100000000, 5000, 5000, 5000000, 50000, 50000000, 500, 500, 500000, 1000, 1000000, 1000000, 10000, 10000, 10000000, 10000000, 10000000, 100, 100, 100000, 5000000, 5000000, 500000, 1000, 1000000, 1000000, 100000, 100000, 5000, 50000, 1000000, 1000000, 100000, 100000000, 100000000, 5000, 5000, 5000, 5000, 50000, 50000000, 50000000], \"yaxis\": \"y\"}, {\"alignmentgroup\": \"True\", \"hoverlabel\": {\"namelength\": 0}, \"hovertemplate\": \"Category=DATING<br>Month=%{x}<br>Installs=%{y}\", \"legendgroup\": \"Category=DATING\", \"marker\": {\"color\": \"#B6E880\"}, \"name\": \"Category=DATING\", \"offsetgroup\": \"Category=DATING\", \"orientation\": \"v\", \"showlegend\": true, \"textposition\": \"auto\", \"type\": \"bar\", \"x\": [\"April\", \"April\", \"April\", \"April\", \"August\", \"August\", \"August\", \"August\", \"August\", \"August\", \"August\", \"August\", \"August\", \"August\", \"August\", \"August\", \"August\", \"August\", \"August\", \"August\", \"August\", \"August\", \"August\", \"August\", \"August\", \"February\", \"February\", \"July\", \"July\", \"July\", \"July\", \"July\", \"July\", \"July\", \"July\", \"July\", \"July\", \"July\", \"July\", \"July\", \"July\", \"July\", \"July\", \"July\", \"July\", \"July\", \"July\", \"July\", \"July\", \"July\", \"July\", \"July\", \"July\", \"July\", \"July\", \"July\", \"July\", \"July\", \"July\", \"July\", \"July\", \"July\", \"July\", \"July\", \"July\", \"July\", \"July\", \"July\", \"July\", \"July\", \"July\", \"July\", \"July\", \"July\", \"July\", \"July\", \"July\", \"July\", \"July\", \"July\", \"July\", \"July\", \"July\", \"July\", \"July\", \"July\", \"July\", \"July\", \"July\", \"July\", \"July\", \"July\", \"July\", \"July\", \"July\", \"July\", \"July\", \"July\", \"July\", \"July\", \"July\", \"July\", \"July\", \"July\", \"July\", \"July\", \"July\", \"July\", \"June\", \"June\", \"June\", \"June\", \"June\", \"June\", \"June\", \"June\", \"June\", \"June\", \"June\", \"June\", \"March\", \"March\", \"May\", \"May\", \"May\", \"May\", \"May\", \"May\"], \"xaxis\": \"x\", \"y\": [1000000, 50000, 50000, 500000, 1000, 1000000, 1000000, 10000, 10000, 10000000, 10000000, 100, 100, 100000, 100000, 100000, 100000, 5000, 5000, 5000000, 5000000, 50, 50, 500, 500000, 10000, 100000, 1, 1, 1000, 1000, 1000, 1000, 1000, 1000, 1000, 1000, 1000, 1000, 1000000, 1000000, 1000000, 1000000, 1000000, 1000000, 10, 10, 10, 10, 10, 10, 10, 10, 10000, 10000, 10000, 10000, 10000, 10000, 10000, 10000, 10000, 10000000, 10000000, 10000000, 10000000, 100, 100, 100, 100, 100, 100, 100, 100, 100000, 100000, 100000, 100000, 100000, 100000, 100000, 5, 5000, 5000, 5000, 5000, 5000000, 5000000, 5000000, 50, 50, 50, 50000, 500, 500, 500, 500, 500, 500, 500, 500, 500, 500000, 500000, 500000, 500000, 500000, 500000, 1000000, 1000000, 10000, 10000, 100000, 5000, 50000, 50000, 500000, 500000, 500000, 500000, 10000, 100000, 1000000, 1000000, 10000, 10000, 10000000, 5000000], \"yaxis\": \"y\"}, {\"alignmentgroup\": \"True\", \"hoverlabel\": {\"namelength\": 0}, \"hovertemplate\": \"Category=FOOD_AND_DRINK<br>Month=%{x}<br>Installs=%{y}\", \"legendgroup\": \"Category=FOOD_AND_DRINK\", \"marker\": {\"color\": \"#FF97FF\"}, \"name\": \"Category=FOOD_AND_DRINK\", \"offsetgroup\": \"Category=FOOD_AND_DRINK\", \"orientation\": \"v\", \"showlegend\": true, \"textposition\": \"auto\", \"type\": \"bar\", \"x\": [\"April\", \"April\", \"April\", \"April\", \"April\", \"April\", \"April\", \"August\", \"August\", \"August\", \"August\", \"August\", \"August\", \"August\", \"August\", \"August\", \"August\", \"August\", \"August\", \"August\", \"February\", \"February\", \"January\", \"January\", \"January\", \"January\", \"July\", \"July\", \"July\", \"July\", \"July\", \"July\", \"July\", \"July\", \"July\", \"July\", \"July\", \"July\", \"July\", \"July\", \"July\", \"July\", \"July\", \"July\", \"July\", \"July\", \"July\", \"July\", \"July\", \"July\", \"July\", \"July\", \"July\", \"July\", \"July\", \"July\", \"July\", \"July\", \"July\", \"July\", \"July\", \"July\", \"July\", \"July\", \"July\", \"July\", \"July\", \"June\", \"June\", \"June\", \"June\", \"June\", \"June\", \"June\", \"June\", \"June\", \"June\", \"June\", \"June\", \"June\", \"June\", \"June\", \"March\", \"March\", \"March\", \"March\", \"May\", \"May\", \"May\", \"May\", \"May\", \"May\", \"May\"], \"xaxis\": \"x\", \"y\": [1000000, 10000, 100, 100000, 5000000, 500000, 500000, 1, 1000000, 1000000, 1000000, 1000000, 1000000, 10000000, 10000000, 10000000, 5000000, 5000000, 5000000, 500000, 100000, 500000, 10, 100, 100000, 50000, 1000000, 1000000, 1000000, 1000000, 1000000, 1000000, 1000000, 1000000, 1000000, 1000000, 10, 10000, 10000000, 10000000, 10000000, 10000000, 10000000, 10000000, 100, 100000, 100000, 100000, 100000, 100000, 100000, 5, 5000000, 5000000, 5000000, 5000000, 5000000, 5000000, 50, 50, 50000, 50000, 50000, 50000, 500, 500000, 500000, 1000, 1000000, 1000000, 1000000, 1000000, 10000, 10000, 10000, 10000000, 100000, 100000, 100000, 100000, 50000, 500000, 1000, 100000, 5, 50, 1000000, 1000000, 10000, 100, 100000, 100000, 50000], \"yaxis\": \"y\"}, {\"alignmentgroup\": \"True\", \"hoverlabel\": {\"namelength\": 0}, \"hovertemplate\": \"Category=MAPS_AND_NAVIGATION<br>Month=%{x}<br>Installs=%{y}\", \"legendgroup\": \"Category=MAPS_AND_NAVIGATION\", \"marker\": {\"color\": \"#FECB52\"}, \"name\": \"Category=MAPS_AND_NAVIGATION\", \"offsetgroup\": \"Category=MAPS_AND_NAVIGATION\", \"orientation\": \"v\", \"showlegend\": true, \"textposition\": \"auto\", \"type\": \"bar\", \"x\": [\"April\", \"April\", \"April\", \"April\", \"August\", \"August\", \"August\", \"August\", \"August\", \"August\", \"August\", \"August\", \"August\", \"August\", \"August\", \"August\", \"August\", \"August\", \"August\", \"August\", \"August\", \"August\", \"August\", \"August\", \"August\", \"February\", \"February\", \"January\", \"January\", \"January\", \"January\", \"July\", \"July\", \"July\", \"July\", \"July\", \"July\", \"July\", \"July\", \"July\", \"July\", \"July\", \"July\", \"July\", \"July\", \"July\", \"July\", \"July\", \"July\", \"July\", \"July\", \"July\", \"July\", \"July\", \"July\", \"July\", \"July\", \"July\", \"July\", \"July\", \"July\", \"July\", \"June\", \"June\", \"June\", \"June\", \"June\", \"June\", \"June\", \"June\", \"March\", \"March\", \"March\", \"March\", \"March\", \"May\", \"May\", \"May\", \"May\", \"May\", \"May\", \"May\", \"May\", \"May\", \"May\", \"May\", \"May\", \"May\"], \"xaxis\": \"x\", \"y\": [1000000, 1000000, 10000, 500000, 1000, 1000000, 1000000, 1000000, 1000000, 10000000, 100, 100, 100000, 100000, 100000000, 100000000, 5000, 5000000, 5000000, 5000000, 5000000, 5000000, 5000000, 50000, 500, 1000000, 5000, 1000, 10, 10, 100000, 1000, 1000, 1000000, 1000000, 1000000, 1000000, 1000000, 10, 10000, 10000, 10000, 10000, 10000000, 10000000, 10000000, 10000000, 10000000, 100000, 100000, 100000000, 5000, 5000000, 5000000, 5000000, 5000000, 5000000, 5000000, 50, 50000, 50000000, 500000, 1000, 1000000, 1000000, 100, 100000, 100000, 5000, 50000000, 1000, 1000000, 10000, 100, 100000, 1000, 1000, 1000000, 1000000, 10000, 10000, 10000000, 10000000, 100000, 100000, 5000, 5000000, 50000], \"yaxis\": \"y\"}, {\"alignmentgroup\": \"True\", \"hoverlabel\": {\"namelength\": 0}, \"hovertemplate\": \"Category=PHOTOGRAPHY<br>Month=%{x}<br>Installs=%{y}\", \"legendgroup\": \"Category=PHOTOGRAPHY\", \"marker\": {\"color\": \"#636efa\"}, \"name\": \"Category=PHOTOGRAPHY\", \"offsetgroup\": \"Category=PHOTOGRAPHY\", \"orientation\": \"v\", \"showlegend\": true, \"textposition\": \"auto\", \"type\": \"bar\", \"x\": [\"April\", \"April\", \"April\", \"April\", \"April\", \"April\", \"April\", \"April\", \"April\", \"August\", \"August\", \"August\", \"August\", \"August\", \"August\", \"August\", \"August\", \"August\", \"August\", \"August\", \"August\", \"August\", \"August\", \"August\", \"August\", \"August\", \"August\", \"August\", \"August\", \"February\", \"February\", \"February\", \"February\", \"February\", \"February\", \"February\", \"February\", \"February\", \"February\", \"February\", \"February\", \"January\", \"January\", \"January\", \"January\", \"January\", \"January\", \"January\", \"January\", \"January\", \"July\", \"July\", \"July\", \"July\", \"July\", \"July\", \"July\", \"July\", \"July\", \"July\", \"July\", \"July\", \"July\", \"July\", \"July\", \"July\", \"July\", \"July\", \"July\", \"July\", \"July\", \"July\", \"July\", \"July\", \"July\", \"July\", \"July\", \"July\", \"July\", \"July\", \"July\", \"July\", \"July\", \"July\", \"July\", \"July\", \"July\", \"July\", \"July\", \"July\", \"July\", \"July\", \"July\", \"July\", \"July\", \"July\", \"July\", \"July\", \"July\", \"July\", \"July\", \"July\", \"June\", \"June\", \"June\", \"June\", \"June\", \"June\", \"June\", \"June\", \"June\", \"June\", \"June\", \"June\", \"June\", \"June\", \"June\", \"June\", \"June\", \"June\", \"June\", \"June\", \"June\", \"June\", \"June\", \"June\", \"March\", \"March\", \"March\", \"March\", \"March\", \"March\", \"March\", \"March\", \"March\", \"March\", \"May\", \"May\", \"May\", \"May\", \"May\", \"May\", \"May\", \"May\", \"May\", \"May\", \"May\", \"May\", \"May\", \"May\", \"May\"], \"xaxis\": \"x\", \"y\": [1000000, 1000000, 10, 10000, 10000000, 100000, 5000000, 50000000, 500000, 1000, 1000000, 1000000, 1000000, 1000000000, 1000000000, 10000, 10000000, 10000000, 10000000, 10000000, 100000, 100000000, 100000000, 5000, 5000000, 5000000, 50000000, 50000000, 500000, 1000, 1000, 1000, 1000000, 10000, 10000000, 10000000, 10000000, 10000000, 100000000, 5000000, 50000000, 1000, 1000000, 10000000, 100, 100, 500, 500, 500000, 500000, 1000, 1000000, 1000000, 1000000, 1000000, 1000000, 1000000, 1000000, 1000000, 1000000, 1000000, 1000000, 1000000, 1000000, 10000000, 10000000, 10000000, 10000000, 10000000, 10000000, 10000000, 10000000, 100, 100, 100000, 100000, 100000, 100000000, 100000000, 100000000, 100000000, 100000000, 5, 5000, 5000000, 5000000, 5000000, 5000000, 5000000, 5000000, 50000, 50000000, 50000000, 50000000, 50000000, 50000000, 50000000, 50000000, 50000000, 50000000, 500, 500000, 1000, 1000, 1000, 1000000, 1000000, 1000000, 1000000, 1000000, 10000000, 10000000, 10000000, 10000000, 10000000, 10000000, 100000, 100000, 100000000, 5000000, 5000000, 50000, 50000000, 50000000, 500, 500000, 1000000, 1000000, 1000000, 10000000, 10000000, 100000, 100000000, 5000000, 5000000, 5000000, 1000, 1000000, 1000000, 1000000, 10000, 10000000, 10000000, 10000000, 10000000, 100, 100000, 5000000, 50000000, 500000, 500000], \"yaxis\": \"y\"}, {\"alignmentgroup\": \"True\", \"hoverlabel\": {\"namelength\": 0}, \"hovertemplate\": \"Category=PRODUCTIVITY<br>Month=%{x}<br>Installs=%{y}\", \"legendgroup\": \"Category=PRODUCTIVITY\", \"marker\": {\"color\": \"#EF553B\"}, \"name\": \"Category=PRODUCTIVITY\", \"offsetgroup\": \"Category=PRODUCTIVITY\", \"orientation\": \"v\", \"showlegend\": true, \"textposition\": \"auto\", \"type\": \"bar\", \"x\": [\"April\", \"April\", \"April\", \"April\", \"April\", \"April\", \"April\", \"April\", \"April\", \"April\", \"August\", \"August\", \"August\", \"August\", \"August\", \"August\", \"August\", \"August\", \"August\", \"August\", \"August\", \"August\", \"August\", \"August\", \"August\", \"August\", \"August\", \"August\", \"August\", \"August\", \"August\", \"August\", \"August\", \"August\", \"August\", \"August\", \"February\", \"February\", \"February\", \"February\", \"February\", \"February\", \"February\", \"February\", \"January\", \"January\", \"January\", \"January\", \"January\", \"January\", \"January\", \"January\", \"January\", \"January\", \"January\", \"January\", \"July\", \"July\", \"July\", \"July\", \"July\", \"July\", \"July\", \"July\", \"July\", \"July\", \"July\", \"July\", \"July\", \"July\", \"July\", \"July\", \"July\", \"July\", \"July\", \"July\", \"July\", \"July\", \"July\", \"July\", \"July\", \"July\", \"July\", \"July\", \"July\", \"July\", \"July\", \"July\", \"July\", \"July\", \"July\", \"July\", \"July\", \"July\", \"July\", \"July\", \"July\", \"July\", \"July\", \"July\", \"July\", \"July\", \"July\", \"July\", \"July\", \"July\", \"July\", \"July\", \"July\", \"July\", \"July\", \"July\", \"July\", \"July\", \"July\", \"July\", \"July\", \"July\", \"July\", \"July\", \"July\", \"July\", \"July\", \"July\", \"July\", \"July\", \"July\", \"July\", \"July\", \"July\", \"July\", \"July\", \"July\", \"July\", \"July\", \"July\", \"June\", \"June\", \"June\", \"June\", \"June\", \"June\", \"June\", \"June\", \"June\", \"June\", \"June\", \"June\", \"June\", \"June\", \"June\", \"June\", \"June\", \"June\", \"June\", \"June\", \"June\", \"June\", \"June\", \"June\", \"June\", \"June\", \"June\", \"June\", \"June\", \"June\", \"June\", \"June\", \"June\", \"June\", \"June\", \"March\", \"March\", \"March\", \"March\", \"March\", \"March\", \"March\", \"March\", \"March\", \"March\", \"March\", \"March\", \"March\", \"March\", \"March\", \"March\", \"March\", \"March\", \"May\", \"May\", \"May\", \"May\", \"May\", \"May\", \"May\", \"May\", \"May\", \"May\", \"May\", \"May\", \"May\", \"May\", \"May\", \"May\", \"May\", \"May\", \"May\", \"May\"], \"xaxis\": \"x\", \"y\": [1000000, 10000, 10000000, 10000000, 100, 100000, 100000000, 5000000, 50000, 50000000, 1000, 1000, 1000, 1000000, 1000000, 1000000, 1000000000, 10, 10000, 10000000, 10000000, 10000000, 10000000, 10000000, 100000, 100000000, 100000000, 100000000, 100000000, 5000000, 50, 50000000, 50000000, 500000, 500000000, 500000000, 1000000, 10000, 100000, 100000, 100000, 5000000, 50, 50000, 1000000, 1000000, 1000000, 10, 10000, 10000, 100000, 100000000, 5, 50000, 500000, 500000, 1, 1, 1000, 1000, 1000, 1000000, 1000000, 1000000, 1000000, 1000000, 1000000, 1000000, 1000000, 1000000, 1000000, 1000000, 1000000, 1000000000, 10, 10, 10, 10, 10, 10, 10000, 10000, 10000, 10000, 10000000, 10000000, 10000000, 10000000, 10000000, 10000000, 10000000, 10000000, 10000000, 10000000, 100, 100, 100, 100, 100, 100, 100000, 100000000, 100000000, 100000000, 100000000, 100000000, 5000, 5000, 5000, 5000, 5000000, 5000000, 5000000, 5000000, 5000000, 5000000, 5000000, 50, 50000, 50000, 50000, 50000, 50000, 50000000, 50000000, 50000000, 50000000, 500, 500, 500, 500, 500000, 500000, 500000, 500000, 500000000, 1000, 1000, 10, 10, 10, 10000000, 10000000, 10000000, 10000000, 10000000, 100, 100, 100, 100, 100, 100, 100000, 100000, 100000, 100000, 100000, 100000, 100000, 100000, 100000000, 5, 5000000, 5000000, 50, 50, 50, 50000, 50000000, 500, 500, 1000000, 1000000, 1000000, 1000000, 10000000, 10000000, 100, 100, 100, 100, 100000, 100000, 100000, 5000, 5000000, 5000000, 500000, 500000, 1000, 1000000, 1000000, 1000000, 1000000, 10, 10, 10, 10000, 10000000, 10000000, 100, 100, 100, 100000, 5000000, 5000000, 50, 50000000, 500000000], \"yaxis\": \"y\"}, {\"alignmentgroup\": \"True\", \"hoverlabel\": {\"namelength\": 0}, \"hovertemplate\": \"Category=SOCIAL<br>Month=%{x}<br>Installs=%{y}\", \"legendgroup\": \"Category=SOCIAL\", \"marker\": {\"color\": \"#00cc96\"}, \"name\": \"Category=SOCIAL\", \"offsetgroup\": \"Category=SOCIAL\", \"orientation\": \"v\", \"showlegend\": true, \"textposition\": \"auto\", \"type\": \"bar\", \"x\": [\"April\", \"April\", \"April\", \"April\", \"April\", \"August\", \"August\", \"August\", \"August\", \"August\", \"August\", \"August\", \"August\", \"August\", \"August\", \"August\", \"August\", \"August\", \"August\", \"August\", \"August\", \"August\", \"August\", \"August\", \"August\", \"August\", \"August\", \"August\", \"August\", \"August\", \"August\", \"August\", \"February\", \"February\", \"February\", \"February\", \"February\", \"January\", \"January\", \"January\", \"January\", \"January\", \"January\", \"January\", \"July\", \"July\", \"July\", \"July\", \"July\", \"July\", \"July\", \"July\", \"July\", \"July\", \"July\", \"July\", \"July\", \"July\", \"July\", \"July\", \"July\", \"July\", \"July\", \"July\", \"July\", \"July\", \"July\", \"July\", \"July\", \"July\", \"July\", \"July\", \"July\", \"July\", \"July\", \"July\", \"July\", \"July\", \"July\", \"July\", \"July\", \"July\", \"July\", \"July\", \"July\", \"July\", \"July\", \"July\", \"July\", \"July\", \"July\", \"July\", \"July\", \"July\", \"July\", \"June\", \"June\", \"June\", \"June\", \"June\", \"June\", \"June\", \"June\", \"June\", \"June\", \"June\", \"June\", \"June\", \"June\", \"June\", \"June\", \"June\", \"June\", \"June\", \"June\", \"March\", \"March\", \"March\", \"March\", \"March\", \"March\", \"March\", \"March\", \"March\", \"March\", \"March\", \"May\", \"May\", \"May\", \"May\", \"May\", \"May\", \"May\", \"May\", \"May\", \"May\", \"May\", \"May\", \"May\", \"May\", \"May\", \"May\", \"May\", \"May\", \"May\"], \"xaxis\": \"x\", \"y\": [1000000, 10000, 10000000, 100000, 5000, 1000, 1000000, 1000000, 1000000, 1000000, 1000000, 1000000000, 10000000, 10000000, 10000000, 10000000, 100000, 100000, 100000000, 100000000, 100000000, 5, 5000, 5000000, 5000000, 5000000, 5000000, 50000000, 50000000, 500000, 500000, 500000000, 1000, 100, 100, 100000, 5000, 1000, 1000, 1000, 10000, 100000, 5000, 500000, 0, 1000, 1000, 1000, 1000, 1000, 1000000, 1000000, 1000000, 1000000, 1000000, 1000000, 1000000000, 1000000000, 10, 10, 10000, 10000, 10000, 10000000, 10000000, 10000000, 10000000, 10000000, 10000000, 10000000, 10000000, 100, 100, 100, 100, 100000, 100000, 100000000, 5, 5000, 5000000, 5000000, 5000000, 5000000, 5000000, 50, 50, 50000, 50000, 50000, 50000000, 50000000, 500000, 500000, 500000000, 1000, 1000, 1000000, 1000000, 1000000, 1000000, 1000000, 1000000, 10, 10000, 10000000, 10000000, 10000000, 10000000, 10000000, 100, 100000, 5000000, 5000000, 50000, 1, 1000, 1000000, 10, 10, 100000, 100000, 5000, 5000000, 50000, 500, 1000, 1000, 1000, 1000000, 1000000, 1000000, 1000000, 10000, 10000, 10000000, 100, 100000, 100000, 100000, 100000, 5000000, 500000, 500000, 500000], \"yaxis\": \"y\"}, {\"alignmentgroup\": \"True\", \"hoverlabel\": {\"namelength\": 0}, \"hovertemplate\": \"Category=WEATHER<br>Month=%{x}<br>Installs=%{y}\", \"legendgroup\": \"Category=WEATHER\", \"marker\": {\"color\": \"#ab63fa\"}, \"name\": \"Category=WEATHER\", \"offsetgroup\": \"Category=WEATHER\", \"orientation\": \"v\", \"showlegend\": true, \"textposition\": \"auto\", \"type\": \"bar\", \"x\": [\"April\", \"April\", \"April\", \"April\", \"April\", \"April\", \"April\", \"August\", \"August\", \"August\", \"August\", \"August\", \"August\", \"August\", \"August\", \"August\", \"August\", \"August\", \"August\", \"August\", \"August\", \"August\", \"August\", \"August\", \"February\", \"January\", \"January\", \"July\", \"July\", \"July\", \"July\", \"July\", \"July\", \"July\", \"July\", \"July\", \"July\", \"July\", \"July\", \"July\", \"July\", \"July\", \"July\", \"June\", \"June\", \"June\", \"June\", \"June\", \"June\", \"June\", \"June\", \"June\", \"March\", \"May\", \"May\", \"May\"], \"xaxis\": \"x\", \"y\": [1000000, 1000000, 10, 10, 100000, 5000, 500, 1000000, 1000000, 10000, 10000000, 10000000, 10000000, 10000000, 100000, 100000, 5000000, 5000000, 50000000, 50000000, 50000000, 50000000, 500000, 500000, 5000000, 1000000, 500, 1000000, 1000000, 1000000, 10000, 10000000, 10000000, 10000000, 100000, 100000, 100000, 100000, 100000, 5000000, 5000000, 500000, 500000, 1000, 1000000, 1000000, 10000000, 100000, 100000, 100000, 5000000, 50000000, 1000000, 1000000, 1000000, 10000000], \"yaxis\": \"y\"}, {\"alignmentgroup\": \"True\", \"hoverlabel\": {\"namelength\": 0}, \"hovertemplate\": \"Category=ART_AND_DESIGN<br>Month=%{x}<br>Installs=%{y}\", \"legendgroup\": \"Category=ART_AND_DESIGN\", \"marker\": {\"color\": \"#FFA15A\"}, \"name\": \"Category=ART_AND_DESIGN\", \"offsetgroup\": \"Category=ART_AND_DESIGN\", \"orientation\": \"v\", \"showlegend\": true, \"textposition\": \"auto\", \"type\": \"bar\", \"x\": [\"April\", \"April\", \"April\", \"April\", \"April\", \"April\", \"April\", \"April\", \"August\", \"August\", \"August\", \"August\", \"August\", \"January\", \"January\", \"January\", \"January\", \"January\", \"July\", \"July\", \"July\", \"July\", \"July\", \"July\", \"July\", \"July\", \"July\", \"July\", \"July\", \"July\", \"July\", \"July\", \"July\", \"July\", \"July\", \"June\", \"June\", \"June\", \"June\", \"June\", \"March\", \"March\", \"March\", \"March\", \"March\", \"March\", \"March\", \"May\", \"May\", \"May\"], \"xaxis\": \"x\", \"y\": [10000, 10000, 10000000, 100, 100000, 100000, 100000, 50000, 100000, 5000, 5000000, 5000000, 500000, 10000, 10000, 10000, 100000, 500000, 1000, 1000000, 10000, 10000, 10000, 10000000, 10000000, 100000, 100000, 100000, 100000, 100000, 5000, 5000000, 50000, 500000, 500000, 1000000, 10000, 100000, 100000, 50000000, 1000, 1000, 100000, 100000, 100000, 5000, 500000, 100000, 5000, 50000], \"yaxis\": \"y\"}, {\"alignmentgroup\": \"True\", \"hoverlabel\": {\"namelength\": 0}, \"hovertemplate\": \"Category=BEAUTY<br>Month=%{x}<br>Installs=%{y}\", \"legendgroup\": \"Category=BEAUTY\", \"marker\": {\"color\": \"#19d3f3\"}, \"name\": \"Category=BEAUTY\", \"offsetgroup\": \"Category=BEAUTY\", \"orientation\": \"v\", \"showlegend\": true, \"textposition\": \"auto\", \"type\": \"bar\", \"x\": [\"April\", \"April\", \"April\", \"April\", \"August\", \"August\", \"February\", \"January\", \"July\", \"July\", \"July\", \"July\", \"July\", \"July\", \"July\", \"July\", \"July\", \"July\", \"June\", \"June\", \"June\", \"June\", \"June\", \"June\", \"June\", \"March\", \"March\", \"March\", \"March\", \"March\", \"May\", \"May\", \"May\", \"May\", \"May\", \"May\", \"May\", \"May\"], \"xaxis\": \"x\", \"y\": [10000, 10000, 10000, 100, 100000, 500000, 500000, 10000, 1000000, 1000000, 10000, 10000, 100000, 100000, 5000000, 50000, 50000, 500000, 1000000, 10000, 100, 100000, 5000, 5000, 50000, 10000, 100, 100, 5000, 500, 1000, 1000000, 10000, 10000, 100000, 100000, 500000, 500000], \"yaxis\": \"y\"}, {\"alignmentgroup\": \"True\", \"hoverlabel\": {\"namelength\": 0}, \"hovertemplate\": \"Category=PARENTING<br>Month=%{x}<br>Installs=%{y}\", \"legendgroup\": \"Category=PARENTING\", \"marker\": {\"color\": \"#FF6692\"}, \"name\": \"Category=PARENTING\", \"offsetgroup\": \"Category=PARENTING\", \"orientation\": \"v\", \"showlegend\": true, \"textposition\": \"auto\", \"type\": \"bar\", \"x\": [\"April\", \"April\", \"April\", \"August\", \"August\", \"August\", \"August\", \"August\", \"August\", \"August\", \"August\", \"January\", \"July\", \"July\", \"July\", \"July\", \"July\", \"July\", \"July\", \"July\", \"July\", \"July\", \"July\", \"July\", \"July\", \"July\", \"July\", \"June\", \"June\", \"June\", \"June\", \"June\", \"June\", \"June\", \"June\", \"March\", \"March\", \"March\", \"March\", \"March\", \"May\", \"May\", \"May\", \"May\", \"May\", \"May\", \"May\", \"May\"], \"xaxis\": \"x\", \"y\": [10000, 10000, 50000, 1000000, 1000000, 10000, 10000, 100000, 100000, 500000, 500000, 10, 1000000, 1000000, 10000, 10000, 10000, 10000, 100000, 100000, 100000, 100000, 5000, 50000, 50000, 50000, 500000, 1000000, 1000000, 1000000, 1000000, 10000, 10000, 100000, 100000, 1000000, 10000, 100000, 100000, 100000, 1000000, 10000, 10000, 10000000, 100000, 100000, 5000, 5000000], \"yaxis\": \"y\"}, {\"alignmentgroup\": \"True\", \"hoverlabel\": {\"namelength\": 0}, \"hovertemplate\": \"Category=ENTERTAINMENT<br>Month=%{x}<br>Installs=%{y}\", \"legendgroup\": \"Category=ENTERTAINMENT\", \"marker\": {\"color\": \"#B6E880\"}, \"name\": \"Category=ENTERTAINMENT\", \"offsetgroup\": \"Category=ENTERTAINMENT\", \"orientation\": \"v\", \"showlegend\": true, \"textposition\": \"auto\", \"type\": \"bar\", \"x\": [\"April\", \"August\", \"August\", \"August\", \"August\", \"August\", \"August\", \"August\", \"August\", \"August\", \"August\", \"August\", \"August\", \"February\", \"February\", \"January\", \"January\", \"January\", \"January\", \"July\", \"July\", \"July\", \"July\", \"July\", \"July\", \"July\", \"July\", \"July\", \"July\", \"July\", \"July\", \"July\", \"July\", \"July\", \"July\", \"July\", \"July\", \"July\", \"July\", \"July\", \"July\", \"July\", \"July\", \"July\", \"July\", \"July\", \"July\", \"July\", \"July\", \"July\", \"July\", \"July\", \"July\", \"July\", \"July\", \"July\", \"July\", \"June\", \"June\", \"June\", \"June\", \"June\", \"June\", \"June\", \"June\", \"June\", \"June\", \"June\", \"June\", \"March\", \"March\", \"May\", \"May\", \"May\", \"May\", \"May\"], \"xaxis\": \"x\", \"y\": [10000000, 1000000, 1000000, 1000000, 10000000, 10000000, 10000000, 100000, 100000, 100000000, 5000000, 50000000, 50000000, 100000, 100000, 1000000, 1000000, 10000000, 10000000, 1000000, 1000000, 1000000, 1000000, 1000000, 1000000, 1000000, 1000000, 1000000, 1000000, 1000000, 1000000000, 10000000, 10000000, 10000000, 10000000, 10000000, 10000000, 10000000, 10000000, 100000, 100000, 100000, 100000000, 100000000, 100000000, 100000000, 5000000, 5000000, 5000000, 5000000, 5000000, 5000000, 50000000, 50000000, 50000000, 500000, 500000, 1000000, 1000000, 1000000, 10000000, 10000000, 100000, 100000, 5000000, 5000000, 5000000, 5000000, 50000, 10000000, 100000, 1000000, 1000000, 10000000, 5000000, 500000], \"yaxis\": \"y\"}, {\"alignmentgroup\": \"True\", \"hoverlabel\": {\"namelength\": 0}, \"hovertemplate\": \"Category=SHOPPING<br>Month=%{x}<br>Installs=%{y}\", \"legendgroup\": \"Category=SHOPPING\", \"marker\": {\"color\": \"#FF97FF\"}, \"name\": \"Category=SHOPPING\", \"offsetgroup\": \"Category=SHOPPING\", \"orientation\": \"v\", \"showlegend\": true, \"textposition\": \"auto\", \"type\": \"bar\", \"x\": [\"April\", \"April\", \"April\", \"August\", \"August\", \"August\", \"August\", \"August\", \"August\", \"August\", \"August\", \"August\", \"August\", \"August\", \"August\", \"August\", \"August\", \"August\", \"August\", \"August\", \"August\", \"August\", \"August\", \"August\", \"August\", \"August\", \"August\", \"August\", \"August\", \"August\", \"August\", \"February\", \"February\", \"February\", \"February\", \"February\", \"February\", \"February\", \"January\", \"January\", \"January\", \"July\", \"July\", \"July\", \"July\", \"July\", \"July\", \"July\", \"July\", \"July\", \"July\", \"July\", \"July\", \"July\", \"July\", \"July\", \"July\", \"July\", \"July\", \"July\", \"July\", \"July\", \"July\", \"July\", \"July\", \"July\", \"July\", \"July\", \"July\", \"July\", \"July\", \"July\", \"July\", \"July\", \"July\", \"July\", \"July\", \"July\", \"July\", \"July\", \"July\", \"July\", \"July\", \"July\", \"July\", \"July\", \"July\", \"July\", \"July\", \"July\", \"July\", \"July\", \"July\", \"June\", \"June\", \"June\", \"June\", \"June\", \"June\", \"June\", \"June\", \"June\", \"June\", \"June\", \"June\", \"June\", \"March\", \"March\", \"March\", \"March\", \"March\", \"March\", \"March\", \"May\", \"May\", \"May\", \"May\", \"May\", \"May\", \"May\", \"May\", \"May\"], \"xaxis\": \"x\", \"y\": [10000000, 100000, 500, 1000000, 1000000, 1000000, 1000000, 1000000, 1000000, 10000, 10000000, 10000000, 10000000, 10000000, 10000000, 10000000, 100000, 100000, 100000000, 100000000, 100000000, 100000000, 5000, 5000000, 5000000, 5000000, 5000000, 50000000, 50000000, 50000000, 500000, 10000, 10000, 100, 100000, 500, 500000, 500000, 1000000, 10000, 500, 1000, 1000, 1000000, 1000000, 1000000, 1000000, 1000000, 1000000, 1000000, 1000000, 10, 10, 10000, 10000, 10000000, 10000000, 10000000, 10000000, 10000000, 10000000, 10000000, 10000000, 10000000, 100, 100, 100000, 100000, 100000, 100000, 100000, 100000, 100000, 100000000, 100000000, 5000000, 5000000, 5000000, 5000000, 5000000, 5000000, 50000000, 50000000, 500000, 500000, 500000, 500000, 500000, 500000, 500000, 500000, 500000, 500000, 1000000, 1000000, 1000000, 1000000, 1000000, 10, 10, 10000000, 100000, 5000, 5000000, 50000, 50000, 1000, 10000, 100, 100000, 100000, 500, 500, 1000, 1000000, 1000000, 10000, 100, 100, 100000, 500000, 500000], \"yaxis\": \"y\"}, {\"alignmentgroup\": \"True\", \"hoverlabel\": {\"namelength\": 0}, \"hovertemplate\": \"Category=AUTO_AND_VEHICLES<br>Month=%{x}<br>Installs=%{y}\", \"legendgroup\": \"Category=AUTO_AND_VEHICLES\", \"marker\": {\"color\": \"#FECB52\"}, \"name\": \"Category=AUTO_AND_VEHICLES\", \"offsetgroup\": \"Category=AUTO_AND_VEHICLES\", \"orientation\": \"v\", \"showlegend\": true, \"textposition\": \"auto\", \"type\": \"bar\", \"x\": [\"April\", \"April\", \"April\", \"August\", \"August\", \"August\", \"August\", \"August\", \"August\", \"August\", \"August\", \"August\", \"February\", \"February\", \"February\", \"January\", \"July\", \"July\", \"July\", \"July\", \"July\", \"July\", \"July\", \"July\", \"July\", \"July\", \"July\", \"July\", \"July\", \"July\", \"July\", \"July\", \"July\", \"July\", \"July\", \"July\", \"July\", \"July\", \"July\", \"July\", \"July\", \"July\", \"July\", \"July\", \"July\", \"July\", \"June\", \"June\", \"June\", \"June\", \"June\", \"June\", \"June\", \"June\", \"June\", \"June\", \"March\", \"March\", \"March\", \"March\", \"May\", \"May\", \"May\", \"May\", \"May\", \"May\", \"May\"], \"xaxis\": \"x\", \"y\": [100000, 100000, 5, 1000000, 1000000, 1000000, 10, 10000, 10000000, 100000, 5000000, 500000, 1000, 500, 500, 1000, 1000, 1000000, 1000000, 1000000, 1000000, 1000000, 1000000, 1000000, 1000000, 10000, 10000, 10000, 10000000, 100, 100, 100000, 100000, 100000, 100000, 100000, 100000, 100000, 5, 5000, 5000000, 5000000, 50000, 50000, 500000, 500000, 1000, 1000, 10, 100, 100, 100000, 100000, 50, 50000, 500000, 1, 100, 100000, 500000, 1000, 10, 100000, 100000, 100000, 5000, 50000], \"yaxis\": \"y\"}, {\"alignmentgroup\": \"True\", \"hoverlabel\": {\"namelength\": 0}, \"hovertemplate\": \"Category=EDUCATION<br>Month=%{x}<br>Installs=%{y}\", \"legendgroup\": \"Category=EDUCATION\", \"marker\": {\"color\": \"#636efa\"}, \"name\": \"Category=EDUCATION\", \"offsetgroup\": \"Category=EDUCATION\", \"orientation\": \"v\", \"showlegend\": true, \"textposition\": \"auto\", \"type\": \"bar\", \"x\": [\"April\", \"April\", \"August\", \"August\", \"August\", \"August\", \"August\", \"August\", \"August\", \"August\", \"February\", \"February\", \"February\", \"July\", \"July\", \"July\", \"July\", \"July\", \"July\", \"July\", \"July\", \"July\", \"July\", \"July\", \"July\", \"July\", \"July\", \"July\", \"July\", \"July\", \"July\", \"July\", \"July\", \"July\", \"July\", \"July\", \"July\", \"July\", \"July\", \"July\", \"July\", \"June\", \"June\", \"June\", \"June\", \"June\", \"June\", \"June\", \"June\", \"June\", \"March\", \"March\", \"March\", \"March\", \"May\", \"May\", \"May\", \"May\", \"May\", \"May\", \"May\", \"May\", \"May\"], \"xaxis\": \"x\", \"y\": [100000, 5000000, 1000000, 1000000, 1000000, 10000000, 10000000, 10000000, 100000, 100000000, 1000000, 5000000, 500000, 1000000, 1000000, 1000000, 1000000, 1000000, 1000000, 1000000, 1000000, 1000000, 1000000, 1000000, 10000000, 10000000, 10000000, 10000000, 10000000, 100000, 100000, 100000, 5000000, 5000000, 5000000, 5000000, 5000000, 500000, 500000, 500000, 500000, 1000000, 100000, 100000, 100000, 5000000, 5000000, 50000, 500000, 500000, 1000000, 100000, 500000, 500000, 1000000, 1000000, 10000000, 100000, 100000, 5000000, 5000000, 50000, 500000], \"yaxis\": \"y\"}, {\"alignmentgroup\": \"True\", \"hoverlabel\": {\"namelength\": 0}, \"hovertemplate\": \"Category=EVENTS<br>Month=%{x}<br>Installs=%{y}\", \"legendgroup\": \"Category=EVENTS\", \"marker\": {\"color\": \"#EF553B\"}, \"name\": \"Category=EVENTS\", \"offsetgroup\": \"Category=EVENTS\", \"orientation\": \"v\", \"showlegend\": true, \"textposition\": \"auto\", \"type\": \"bar\", \"x\": [\"April\", \"August\", \"August\", \"August\", \"August\", \"August\", \"January\", \"July\", \"July\", \"July\", \"July\", \"July\", \"July\", \"July\", \"July\", \"July\", \"July\", \"July\", \"July\", \"July\", \"July\", \"July\", \"July\", \"July\", \"July\", \"July\", \"June\", \"June\", \"June\", \"June\", \"June\", \"June\", \"June\", \"June\", \"June\", \"June\", \"May\", \"May\", \"May\", \"May\", \"May\", \"May\", \"May\", \"May\"], \"xaxis\": \"x\", \"y\": [5000, 1000000, 100, 100000, 100000, 5000000, 500, 1000, 1000, 1000000, 1000000, 1000000, 10000, 10000, 100, 100, 100, 100, 100, 100, 100000, 100000, 5000, 5000000, 500, 500, 1000, 1000, 10, 100, 100000, 100000, 5000, 50000, 500, 500000, 1000, 1000, 10, 10, 10000, 100000, 5000, 500], \"yaxis\": \"y\"}, {\"alignmentgroup\": \"True\", \"hoverlabel\": {\"namelength\": 0}, \"hovertemplate\": \"Category=COMICS<br>Month=%{x}<br>Installs=%{y}\", \"legendgroup\": \"Category=COMICS\", \"marker\": {\"color\": \"#00cc96\"}, \"name\": \"Category=COMICS\", \"offsetgroup\": \"Category=COMICS\", \"orientation\": \"v\", \"showlegend\": true, \"textposition\": \"auto\", \"type\": \"bar\", \"x\": [\"August\", \"August\", \"August\", \"August\", \"August\", \"January\", \"July\", \"July\", \"July\", \"July\", \"July\", \"July\", \"July\", \"July\", \"July\", \"July\", \"July\", \"July\", \"July\", \"July\", \"July\", \"July\", \"July\", \"July\", \"July\", \"July\", \"July\", \"July\", \"July\", \"June\", \"June\", \"June\", \"June\", \"June\", \"June\", \"March\", \"March\", \"May\", \"May\", \"May\", \"May\", \"May\", \"May\"], \"xaxis\": \"x\", \"y\": [100000, 5000000, 50000, 50000, 500000, 10000, 1000000, 1000000, 1000000, 1000000, 1000000, 1000000, 1000000, 1000000, 10000, 10000, 10000, 10000, 10000000, 100000, 5000, 5000, 5000000, 5000000, 50000, 50000, 50000, 500000, 500000, 1000, 1000000, 10000, 100000, 50, 500000, 100000, 5000, 1000000, 10000, 100000, 100000, 100000, 5000000], \"yaxis\": \"y\"}],\n",
              "                        {\"barmode\": \"relative\", \"legend\": {\"tracegroupgap\": 0}, \"template\": {\"data\": {\"bar\": [{\"error_x\": {\"color\": \"#2a3f5f\"}, \"error_y\": {\"color\": \"#2a3f5f\"}, \"marker\": {\"line\": {\"color\": \"#E5ECF6\", \"width\": 0.5}}, \"type\": \"bar\"}], \"barpolar\": [{\"marker\": {\"line\": {\"color\": \"#E5ECF6\", \"width\": 0.5}}, \"type\": \"barpolar\"}], \"carpet\": [{\"aaxis\": {\"endlinecolor\": \"#2a3f5f\", \"gridcolor\": \"white\", \"linecolor\": \"white\", \"minorgridcolor\": \"white\", \"startlinecolor\": \"#2a3f5f\"}, \"baxis\": {\"endlinecolor\": \"#2a3f5f\", \"gridcolor\": \"white\", \"linecolor\": \"white\", \"minorgridcolor\": \"white\", \"startlinecolor\": \"#2a3f5f\"}, \"type\": \"carpet\"}], \"choropleth\": [{\"colorbar\": {\"outlinewidth\": 0, \"ticks\": \"\"}, \"type\": \"choropleth\"}], \"contour\": [{\"colorbar\": {\"outlinewidth\": 0, \"ticks\": \"\"}, \"colorscale\": [[0.0, \"#0d0887\"], [0.1111111111111111, \"#46039f\"], [0.2222222222222222, \"#7201a8\"], [0.3333333333333333, \"#9c179e\"], [0.4444444444444444, \"#bd3786\"], [0.5555555555555556, \"#d8576b\"], [0.6666666666666666, \"#ed7953\"], [0.7777777777777778, \"#fb9f3a\"], [0.8888888888888888, \"#fdca26\"], [1.0, \"#f0f921\"]], \"type\": \"contour\"}], \"contourcarpet\": [{\"colorbar\": {\"outlinewidth\": 0, \"ticks\": \"\"}, \"type\": \"contourcarpet\"}], \"heatmap\": [{\"colorbar\": {\"outlinewidth\": 0, \"ticks\": \"\"}, \"colorscale\": [[0.0, \"#0d0887\"], [0.1111111111111111, \"#46039f\"], [0.2222222222222222, \"#7201a8\"], [0.3333333333333333, \"#9c179e\"], [0.4444444444444444, \"#bd3786\"], [0.5555555555555556, \"#d8576b\"], [0.6666666666666666, \"#ed7953\"], [0.7777777777777778, \"#fb9f3a\"], [0.8888888888888888, \"#fdca26\"], [1.0, \"#f0f921\"]], \"type\": \"heatmap\"}], \"heatmapgl\": [{\"colorbar\": {\"outlinewidth\": 0, \"ticks\": \"\"}, \"colorscale\": [[0.0, \"#0d0887\"], [0.1111111111111111, \"#46039f\"], [0.2222222222222222, \"#7201a8\"], [0.3333333333333333, \"#9c179e\"], [0.4444444444444444, \"#bd3786\"], [0.5555555555555556, \"#d8576b\"], [0.6666666666666666, \"#ed7953\"], [0.7777777777777778, \"#fb9f3a\"], [0.8888888888888888, \"#fdca26\"], [1.0, \"#f0f921\"]], \"type\": \"heatmapgl\"}], \"histogram\": [{\"marker\": {\"colorbar\": {\"outlinewidth\": 0, \"ticks\": \"\"}}, \"type\": \"histogram\"}], \"histogram2d\": [{\"colorbar\": {\"outlinewidth\": 0, \"ticks\": \"\"}, \"colorscale\": [[0.0, \"#0d0887\"], [0.1111111111111111, \"#46039f\"], [0.2222222222222222, \"#7201a8\"], [0.3333333333333333, \"#9c179e\"], [0.4444444444444444, \"#bd3786\"], [0.5555555555555556, \"#d8576b\"], [0.6666666666666666, \"#ed7953\"], [0.7777777777777778, \"#fb9f3a\"], [0.8888888888888888, \"#fdca26\"], [1.0, \"#f0f921\"]], \"type\": \"histogram2d\"}], \"histogram2dcontour\": [{\"colorbar\": {\"outlinewidth\": 0, \"ticks\": \"\"}, \"colorscale\": [[0.0, \"#0d0887\"], [0.1111111111111111, \"#46039f\"], [0.2222222222222222, \"#7201a8\"], [0.3333333333333333, \"#9c179e\"], [0.4444444444444444, \"#bd3786\"], [0.5555555555555556, \"#d8576b\"], [0.6666666666666666, \"#ed7953\"], [0.7777777777777778, \"#fb9f3a\"], [0.8888888888888888, \"#fdca26\"], [1.0, \"#f0f921\"]], \"type\": \"histogram2dcontour\"}], \"mesh3d\": [{\"colorbar\": {\"outlinewidth\": 0, \"ticks\": \"\"}, \"type\": \"mesh3d\"}], \"parcoords\": [{\"line\": {\"colorbar\": {\"outlinewidth\": 0, \"ticks\": \"\"}}, \"type\": \"parcoords\"}], \"pie\": [{\"automargin\": true, \"type\": \"pie\"}], \"scatter\": [{\"marker\": {\"colorbar\": {\"outlinewidth\": 0, \"ticks\": \"\"}}, \"type\": \"scatter\"}], \"scatter3d\": [{\"line\": {\"colorbar\": {\"outlinewidth\": 0, \"ticks\": \"\"}}, \"marker\": {\"colorbar\": {\"outlinewidth\": 0, \"ticks\": \"\"}}, \"type\": \"scatter3d\"}], \"scattercarpet\": [{\"marker\": {\"colorbar\": {\"outlinewidth\": 0, \"ticks\": \"\"}}, \"type\": \"scattercarpet\"}], \"scattergeo\": [{\"marker\": {\"colorbar\": {\"outlinewidth\": 0, \"ticks\": \"\"}}, \"type\": \"scattergeo\"}], \"scattergl\": [{\"marker\": {\"colorbar\": {\"outlinewidth\": 0, \"ticks\": \"\"}}, \"type\": \"scattergl\"}], \"scattermapbox\": [{\"marker\": {\"colorbar\": {\"outlinewidth\": 0, \"ticks\": \"\"}}, \"type\": \"scattermapbox\"}], \"scatterpolar\": [{\"marker\": {\"colorbar\": {\"outlinewidth\": 0, \"ticks\": \"\"}}, \"type\": \"scatterpolar\"}], \"scatterpolargl\": [{\"marker\": {\"colorbar\": {\"outlinewidth\": 0, \"ticks\": \"\"}}, \"type\": \"scatterpolargl\"}], \"scatterternary\": [{\"marker\": {\"colorbar\": {\"outlinewidth\": 0, \"ticks\": \"\"}}, \"type\": \"scatterternary\"}], \"surface\": [{\"colorbar\": {\"outlinewidth\": 0, \"ticks\": \"\"}, \"colorscale\": [[0.0, \"#0d0887\"], [0.1111111111111111, \"#46039f\"], [0.2222222222222222, \"#7201a8\"], [0.3333333333333333, \"#9c179e\"], [0.4444444444444444, \"#bd3786\"], [0.5555555555555556, \"#d8576b\"], [0.6666666666666666, \"#ed7953\"], [0.7777777777777778, \"#fb9f3a\"], [0.8888888888888888, \"#fdca26\"], [1.0, \"#f0f921\"]], \"type\": \"surface\"}], \"table\": [{\"cells\": {\"fill\": {\"color\": \"#EBF0F8\"}, \"line\": {\"color\": \"white\"}}, \"header\": {\"fill\": {\"color\": \"#C8D4E3\"}, \"line\": {\"color\": \"white\"}}, \"type\": \"table\"}]}, \"layout\": {\"annotationdefaults\": {\"arrowcolor\": \"#2a3f5f\", \"arrowhead\": 0, \"arrowwidth\": 1}, \"coloraxis\": {\"colorbar\": {\"outlinewidth\": 0, \"ticks\": \"\"}}, \"colorscale\": {\"diverging\": [[0, \"#8e0152\"], [0.1, \"#c51b7d\"], [0.2, \"#de77ae\"], [0.3, \"#f1b6da\"], [0.4, \"#fde0ef\"], [0.5, \"#f7f7f7\"], [0.6, \"#e6f5d0\"], [0.7, \"#b8e186\"], [0.8, \"#7fbc41\"], [0.9, \"#4d9221\"], [1, \"#276419\"]], \"sequential\": [[0.0, \"#0d0887\"], [0.1111111111111111, \"#46039f\"], [0.2222222222222222, \"#7201a8\"], [0.3333333333333333, \"#9c179e\"], [0.4444444444444444, \"#bd3786\"], [0.5555555555555556, \"#d8576b\"], [0.6666666666666666, \"#ed7953\"], [0.7777777777777778, \"#fb9f3a\"], [0.8888888888888888, \"#fdca26\"], [1.0, \"#f0f921\"]], \"sequentialminus\": [[0.0, \"#0d0887\"], [0.1111111111111111, \"#46039f\"], [0.2222222222222222, \"#7201a8\"], [0.3333333333333333, \"#9c179e\"], [0.4444444444444444, \"#bd3786\"], [0.5555555555555556, \"#d8576b\"], [0.6666666666666666, \"#ed7953\"], [0.7777777777777778, \"#fb9f3a\"], [0.8888888888888888, \"#fdca26\"], [1.0, \"#f0f921\"]]}, \"colorway\": [\"#636efa\", \"#EF553B\", \"#00cc96\", \"#ab63fa\", \"#FFA15A\", \"#19d3f3\", \"#FF6692\", \"#B6E880\", \"#FF97FF\", \"#FECB52\"], \"font\": {\"color\": \"#2a3f5f\"}, \"geo\": {\"bgcolor\": \"white\", \"lakecolor\": \"white\", \"landcolor\": \"#E5ECF6\", \"showlakes\": true, \"showland\": true, \"subunitcolor\": \"white\"}, \"hoverlabel\": {\"align\": \"left\"}, \"hovermode\": \"closest\", \"mapbox\": {\"style\": \"light\"}, \"paper_bgcolor\": \"white\", \"plot_bgcolor\": \"#E5ECF6\", \"polar\": {\"angularaxis\": {\"gridcolor\": \"white\", \"linecolor\": \"white\", \"ticks\": \"\"}, \"bgcolor\": \"#E5ECF6\", \"radialaxis\": {\"gridcolor\": \"white\", \"linecolor\": \"white\", \"ticks\": \"\"}}, \"scene\": {\"xaxis\": {\"backgroundcolor\": \"#E5ECF6\", \"gridcolor\": \"white\", \"gridwidth\": 2, \"linecolor\": \"white\", \"showbackground\": true, \"ticks\": \"\", \"zerolinecolor\": \"white\"}, \"yaxis\": {\"backgroundcolor\": \"#E5ECF6\", \"gridcolor\": \"white\", \"gridwidth\": 2, \"linecolor\": \"white\", \"showbackground\": true, \"ticks\": \"\", \"zerolinecolor\": \"white\"}, \"zaxis\": {\"backgroundcolor\": \"#E5ECF6\", \"gridcolor\": \"white\", \"gridwidth\": 2, \"linecolor\": \"white\", \"showbackground\": true, \"ticks\": \"\", \"zerolinecolor\": \"white\"}}, \"shapedefaults\": {\"line\": {\"color\": \"#2a3f5f\"}}, \"ternary\": {\"aaxis\": {\"gridcolor\": \"white\", \"linecolor\": \"white\", \"ticks\": \"\"}, \"baxis\": {\"gridcolor\": \"white\", \"linecolor\": \"white\", \"ticks\": \"\"}, \"bgcolor\": \"#E5ECF6\", \"caxis\": {\"gridcolor\": \"white\", \"linecolor\": \"white\", \"ticks\": \"\"}}, \"title\": {\"x\": 0.05}, \"xaxis\": {\"automargin\": true, \"gridcolor\": \"white\", \"linecolor\": \"white\", \"ticks\": \"\", \"title\": {\"standoff\": 15}, \"zerolinecolor\": \"white\", \"zerolinewidth\": 2}, \"yaxis\": {\"automargin\": true, \"gridcolor\": \"white\", \"linecolor\": \"white\", \"ticks\": \"\", \"title\": {\"standoff\": 15}, \"zerolinecolor\": \"white\", \"zerolinewidth\": 2}}}, \"title\": {\"text\": \"2018 Monthly installation Trend\"}, \"xaxis\": {\"anchor\": \"y\", \"categoryarray\": [\"January\", \"February\", \"March\", \"April\", \"May\", \"June\", \"July\", \"August\", \"September\", \"October\", \"November\", \"December\"], \"categoryorder\": \"array\", \"domain\": [0.0, 1.0], \"title\": {\"text\": \"Month\"}}, \"yaxis\": {\"anchor\": \"x\", \"domain\": [0.0, 1.0], \"title\": {\"text\": \"Installs\"}}},\n",
              "                        {\"responsive\": true}\n",
              "                    ).then(function(){\n",
              "                            \n",
              "var gd = document.getElementById('7a3eb3a3-716a-419e-8259-6b57336b2290');\n",
              "var x = new MutationObserver(function (mutations, observer) {{\n",
              "        var display = window.getComputedStyle(gd).display;\n",
              "        if (!display || display === 'none') {{\n",
              "            console.log([gd, 'removed!']);\n",
              "            Plotly.purge(gd);\n",
              "            observer.disconnect();\n",
              "        }}\n",
              "}});\n",
              "\n",
              "// Listen for the removal of the full notebook cells\n",
              "var notebookContainer = gd.closest('#notebook-container');\n",
              "if (notebookContainer) {{\n",
              "    x.observe(notebookContainer, {childList: true});\n",
              "}}\n",
              "\n",
              "// Listen for the clearing of the current output cell\n",
              "var outputEl = gd.closest('.output');\n",
              "if (outputEl) {{\n",
              "    x.observe(outputEl, {childList: true});\n",
              "}}\n",
              "\n",
              "                        })\n",
              "                };\n",
              "                \n",
              "            </script>\n",
              "        </div>\n",
              "</body>\n",
              "</html>"
            ]
          },
          "metadata": {}
        },
        {
          "output_type": "display_data",
          "data": {
            "text/html": [
              "<html>\n",
              "<head><meta charset=\"utf-8\" /></head>\n",
              "<body>\n",
              "    <div>\n",
              "            <script src=\"https://cdnjs.cloudflare.com/ajax/libs/mathjax/2.7.5/MathJax.js?config=TeX-AMS-MML_SVG\"></script><script type=\"text/javascript\">if (window.MathJax) {MathJax.Hub.Config({SVG: {font: \"STIX-Web\"}});}</script>\n",
              "                <script type=\"text/javascript\">window.PlotlyConfig = {MathJaxConfig: 'local'};</script>\n",
              "        <script src=\"https://cdn.plot.ly/plotly-latest.min.js\"></script>    \n",
              "            <div id=\"249d87f5-0762-475e-a4d0-6e8b7f5afb74\" class=\"plotly-graph-div\" style=\"height:525px; width:100%;\"></div>\n",
              "            <script type=\"text/javascript\">\n",
              "                \n",
              "                    window.PLOTLYENV=window.PLOTLYENV || {};\n",
              "                    \n",
              "                if (document.getElementById(\"249d87f5-0762-475e-a4d0-6e8b7f5afb74\")) {\n",
              "                    Plotly.newPlot(\n",
              "                        '249d87f5-0762-475e-a4d0-6e8b7f5afb74',\n",
              "                        [{\"alignmentgroup\": \"True\", \"hoverlabel\": {\"namelength\": 0}, \"hovertemplate\": \"Category=FAMILY<br>Month=%{x}<br>Installs=%{y}\", \"legendgroup\": \"Category=FAMILY\", \"marker\": {\"color\": \"#636efa\"}, \"name\": \"Category=FAMILY\", \"offsetgroup\": \"Category=FAMILY\", \"orientation\": \"v\", \"showlegend\": true, \"textposition\": \"auto\", \"type\": \"bar\", \"x\": [\"April\", \"April\", \"April\", \"April\", \"April\", \"April\", \"April\", \"April\", \"April\", \"April\", \"April\", \"April\", \"April\", \"April\", \"April\", \"April\", \"April\", \"April\", \"April\", \"April\", \"April\", \"April\", \"April\", \"April\", \"August\", \"August\", \"August\", \"August\", \"August\", \"August\", \"August\", \"August\", \"August\", \"August\", \"August\", \"August\", \"August\", \"August\", \"August\", \"August\", \"August\", \"August\", \"August\", \"August\", \"August\", \"August\", \"August\", \"August\", \"August\", \"August\", \"August\", \"August\", \"August\", \"August\", \"August\", \"August\", \"August\", \"August\", \"August\", \"August\", \"December\", \"December\", \"December\", \"December\", \"December\", \"December\", \"December\", \"December\", \"December\", \"December\", \"December\", \"December\", \"December\", \"December\", \"December\", \"December\", \"December\", \"December\", \"December\", \"December\", \"December\", \"December\", \"December\", \"December\", \"December\", \"December\", \"December\", \"December\", \"December\", \"December\", \"December\", \"December\", \"December\", \"December\", \"December\", \"December\", \"December\", \"December\", \"December\", \"December\", \"December\", \"December\", \"December\", \"December\", \"December\", \"December\", \"December\", \"December\", \"December\", \"December\", \"December\", \"December\", \"December\", \"February\", \"February\", \"February\", \"February\", \"February\", \"February\", \"February\", \"February\", \"February\", \"February\", \"February\", \"February\", \"February\", \"February\", \"February\", \"February\", \"February\", \"February\", \"January\", \"January\", \"January\", \"January\", \"January\", \"January\", \"January\", \"January\", \"January\", \"January\", \"January\", \"January\", \"January\", \"January\", \"January\", \"January\", \"January\", \"January\", \"January\", \"January\", \"January\", \"January\", \"January\", \"January\", \"January\", \"July\", \"July\", \"July\", \"July\", \"July\", \"July\", \"July\", \"July\", \"July\", \"July\", \"July\", \"July\", \"July\", \"July\", \"July\", \"July\", \"July\", \"July\", \"July\", \"July\", \"July\", \"July\", \"July\", \"July\", \"July\", \"July\", \"July\", \"July\", \"July\", \"July\", \"July\", \"July\", \"July\", \"July\", \"July\", \"July\", \"July\", \"July\", \"June\", \"June\", \"June\", \"June\", \"June\", \"June\", \"June\", \"June\", \"June\", \"June\", \"June\", \"June\", \"June\", \"June\", \"June\", \"June\", \"June\", \"June\", \"June\", \"June\", \"June\", \"June\", \"June\", \"June\", \"June\", \"June\", \"June\", \"June\", \"March\", \"March\", \"March\", \"March\", \"March\", \"March\", \"March\", \"March\", \"March\", \"March\", \"March\", \"March\", \"March\", \"March\", \"March\", \"March\", \"March\", \"March\", \"March\", \"March\", \"March\", \"March\", \"March\", \"March\", \"March\", \"March\", \"March\", \"March\", \"March\", \"March\", \"May\", \"May\", \"May\", \"May\", \"May\", \"May\", \"May\", \"May\", \"May\", \"May\", \"May\", \"May\", \"May\", \"May\", \"May\", \"May\", \"May\", \"May\", \"May\", \"May\", \"May\", \"May\", \"May\", \"May\", \"May\", \"May\", \"May\", \"May\", \"May\", \"May\", \"November\", \"November\", \"November\", \"November\", \"November\", \"November\", \"November\", \"November\", \"November\", \"November\", \"November\", \"November\", \"November\", \"November\", \"November\", \"November\", \"November\", \"November\", \"November\", \"November\", \"November\", \"November\", \"November\", \"November\", \"November\", \"November\", \"November\", \"November\", \"November\", \"November\", \"November\", \"November\", \"November\", \"November\", \"November\", \"November\", \"November\", \"November\", \"November\", \"November\", \"November\", \"November\", \"November\", \"November\", \"November\", \"November\", \"October\", \"October\", \"October\", \"October\", \"October\", \"October\", \"October\", \"October\", \"October\", \"October\", \"October\", \"October\", \"October\", \"October\", \"October\", \"October\", \"October\", \"October\", \"October\", \"October\", \"October\", \"October\", \"October\", \"October\", \"October\", \"October\", \"October\", \"October\", \"October\", \"October\", \"October\", \"October\", \"October\", \"October\", \"October\", \"October\", \"October\", \"October\", \"October\", \"October\", \"October\", \"October\", \"October\", \"October\", \"September\", \"September\", \"September\", \"September\", \"September\", \"September\", \"September\", \"September\", \"September\", \"September\", \"September\", \"September\", \"September\", \"September\", \"September\", \"September\", \"September\", \"September\", \"September\", \"September\", \"September\", \"September\", \"September\", \"September\", \"September\", \"September\", \"September\", \"September\", \"September\", \"September\", \"September\", \"September\", \"September\", \"September\", \"September\", \"September\"], \"xaxis\": \"x\", \"y\": [1000, 1000, 1000000, 1000000, 1000000, 10, 10000, 10000, 10000000, 100, 100000, 100000, 100000, 100000, 5000, 5000, 5000, 5000000, 5000000, 50000, 50000, 50000, 500, 500000, 1000, 1000, 1000, 1000, 1000, 1000, 1000000, 1000000, 1000000, 1000000, 1000000, 10, 10, 10000, 10000, 10000000, 100, 100, 100, 100, 100000, 100000, 100000, 100000, 100000, 100000, 5000, 5000, 5000, 5000000, 5000000, 50000, 500, 500000, 500000, 500000, 1, 1000, 1000, 1000, 1000, 1000, 1000, 1000, 1000, 1000, 1000000, 1000000, 1000000, 1000000, 1000000, 1000000, 10, 10, 10, 10000, 10000, 10000, 10000, 10000, 10000, 10000000, 100, 100, 100, 100, 100, 100, 100000, 100000, 100000, 100000, 100000, 100000, 5000, 5000, 5000, 5000000, 5000000, 5000000, 5000000, 50, 50000, 50000, 50000, 500, 500, 500000, 500000, 1000, 1000, 1000, 1000, 1000000, 10000, 10000, 10000, 10000, 10000, 10000, 100, 100000, 100000, 100000, 5000, 500, 500000, 1000, 1000, 1000, 1000000, 1000000, 1000000, 1000000, 1000000, 1000000, 10000, 10000, 10000000, 10000000, 100, 100, 100, 100000, 100000, 5000, 5000, 50000, 50000, 500000, 500000, 500000, 0, 1000, 1000, 1000, 1000, 1000, 1000, 1000, 1000, 1000, 1000000, 1000000, 1000000, 1000000, 1000000, 1000000, 10, 10, 10000, 10000, 10000000, 100, 100, 100, 100000, 100000, 100000, 5000, 5000, 50000, 500, 500, 500, 500, 500, 500, 500000, 500000, 1000, 1000, 1000, 1000000, 1000000, 10000, 10000, 10000, 10000, 10000, 10000000, 100, 100000, 100000, 100000, 100000, 5000, 5000, 5000, 50, 50000, 50000, 50000, 50000, 50000000, 500, 500, 500000, 1000, 1000, 1000, 1000, 1000, 1000000, 1000000, 1000000, 1000000, 1000000, 10000, 10000, 10000, 10000, 10000, 100, 100, 100, 100, 100000, 100000, 100000, 5000, 5000, 5000, 50, 50000, 50000000, 500000, 500000, 1, 1000, 1000, 1000, 1000, 1000, 1000000, 1000000, 1000000, 1000000, 10, 10000, 10000, 10000000, 10000000, 100, 100, 100, 100000, 100000, 5000, 5000, 5000, 5000, 50, 50000, 50000000, 500, 500, 500, 1000, 1000, 1000, 1000, 1000, 1000, 1000000, 1000000, 1000000, 1000000, 1000000, 10, 10, 10000, 10000, 10000, 10000, 10000, 10000, 10000, 10000, 10000000, 10000000, 100, 100, 100000, 100000000, 5000, 5000, 5000, 5000000, 5000000, 5000000, 5000000, 50000, 50000, 50000, 50000, 50000, 50000000, 500, 500, 500, 500, 500000, 500000, 1000, 1000000, 1000000, 1000000, 10, 10000, 10000, 10000, 10000, 10000, 10000, 10000, 10000000, 10000000, 10000000, 10000000, 100, 100, 100, 100, 100000, 100000, 100000, 100000, 100000, 100000, 100000, 100000, 100000, 100000, 5000, 5000, 5000, 5000, 50, 50000, 50000, 50000000, 500, 500, 500000, 500000, 500000, 500000, 1000, 1000, 1000, 1000, 1000, 1000000, 1000000, 1000000, 1000000, 10, 10000, 10000, 10000, 10000, 10000, 10000, 10000000, 10000000, 100, 100, 100, 100000, 100000, 100000, 100000, 100000, 100000, 100000, 100000, 100000, 5000, 5000, 5000000, 5000000, 50000, 500000], \"yaxis\": \"y\"}, {\"alignmentgroup\": \"True\", \"hoverlabel\": {\"namelength\": 0}, \"hovertemplate\": \"Category=GAME<br>Month=%{x}<br>Installs=%{y}\", \"legendgroup\": \"Category=GAME\", \"marker\": {\"color\": \"#EF553B\"}, \"name\": \"Category=GAME\", \"offsetgroup\": \"Category=GAME\", \"orientation\": \"v\", \"showlegend\": true, \"textposition\": \"auto\", \"type\": \"bar\", \"x\": [\"April\", \"April\", \"April\", \"April\", \"April\", \"April\", \"April\", \"April\", \"April\", \"April\", \"April\", \"April\", \"August\", \"August\", \"August\", \"August\", \"August\", \"August\", \"August\", \"August\", \"August\", \"August\", \"December\", \"December\", \"December\", \"December\", \"December\", \"December\", \"December\", \"December\", \"December\", \"December\", \"December\", \"December\", \"December\", \"December\", \"December\", \"December\", \"December\", \"December\", \"December\", \"December\", \"December\", \"December\", \"December\", \"December\", \"December\", \"February\", \"February\", \"February\", \"February\", \"February\", \"February\", \"February\", \"February\", \"February\", \"February\", \"February\", \"February\", \"January\", \"January\", \"January\", \"January\", \"January\", \"January\", \"January\", \"July\", \"July\", \"July\", \"July\", \"July\", \"July\", \"July\", \"July\", \"July\", \"July\", \"July\", \"July\", \"July\", \"June\", \"June\", \"June\", \"June\", \"June\", \"June\", \"June\", \"June\", \"June\", \"June\", \"March\", \"March\", \"March\", \"March\", \"March\", \"March\", \"March\", \"March\", \"March\", \"March\", \"March\", \"March\", \"March\", \"March\", \"March\", \"March\", \"May\", \"May\", \"May\", \"May\", \"May\", \"May\", \"May\", \"May\", \"May\", \"May\", \"May\", \"May\", \"May\", \"May\", \"November\", \"November\", \"November\", \"November\", \"November\", \"November\", \"November\", \"November\", \"November\", \"November\", \"November\", \"November\", \"November\", \"November\", \"November\", \"November\", \"October\", \"October\", \"October\", \"October\", \"October\", \"October\", \"October\", \"October\", \"October\", \"October\", \"October\", \"October\", \"October\", \"October\", \"October\", \"October\", \"October\", \"October\", \"October\", \"October\", \"September\", \"September\", \"September\", \"September\", \"September\", \"September\", \"September\", \"September\", \"September\", \"September\", \"September\", \"September\", \"September\", \"September\", \"September\", \"September\"], \"xaxis\": \"x\", \"y\": [1000, 1000000, 1000000, 10000, 10000000, 100000, 100000, 100000, 50000, 50000000, 500000, 500000, 1000, 10000, 10000, 100000, 100000, 100000, 5000000, 5000000, 500, 500000, 1000, 1000, 1000, 1000000, 1000000, 1000000, 1000000, 1000000, 1000000, 1000000, 1000000, 10000000, 10000000, 10000000, 10000000, 100, 100000, 100000, 100000, 100000000, 5000000, 5000000, 5000000, 50, 50000000, 1, 1000, 1000000, 1000000, 1000000, 10000, 10000, 10000000, 100000, 100000, 100000, 500000, 1000000, 1000000, 10, 10000, 100000, 100000, 500000, 1, 1000000, 1000000, 10000000, 10000000, 100, 100, 100000, 100000, 100000, 50, 50, 500000, 10000, 10000000, 100, 100, 5000, 5000000, 50000, 500, 500, 500000, 1, 1000, 1000000, 1000000, 1000000, 1000000, 10, 10000, 10000, 10000000, 100000, 100000, 50000, 500, 500000, 500000, 1000, 1000000, 1000000, 1000000, 10000, 10000000, 100, 100000, 5000, 5000000, 5000000, 50000, 500000, 500000, 1000, 1000000, 10000, 10000, 10000, 10000000, 10000000, 100000, 100000, 100000, 100000000, 50000, 50000, 50000000, 500000, 500000, 1000, 1000, 1000000, 1000000, 1000000, 1000000, 10000, 10000000, 10000000, 10000000, 100, 100000, 100000, 5000, 50000, 50000, 50000, 500000, 500000, 500000, 1000, 1000, 1000000, 10, 10000000, 10000000, 100, 100, 100000, 100000, 100000000, 5000, 5000000, 50000000, 500000, 500000], \"yaxis\": \"y\"}, {\"alignmentgroup\": \"True\", \"hoverlabel\": {\"namelength\": 0}, \"hovertemplate\": \"Category=HEALTH_AND_FITNESS<br>Month=%{x}<br>Installs=%{y}\", \"legendgroup\": \"Category=HEALTH_AND_FITNESS\", \"marker\": {\"color\": \"#00cc96\"}, \"name\": \"Category=HEALTH_AND_FITNESS\", \"offsetgroup\": \"Category=HEALTH_AND_FITNESS\", \"orientation\": \"v\", \"showlegend\": true, \"textposition\": \"auto\", \"type\": \"bar\", \"x\": [\"April\", \"April\", \"August\", \"August\", \"August\", \"August\", \"August\", \"December\", \"December\", \"December\", \"December\", \"December\", \"February\", \"February\", \"February\", \"January\", \"July\", \"July\", \"July\", \"June\", \"March\", \"May\", \"November\", \"November\", \"November\", \"November\", \"November\", \"November\", \"October\", \"October\", \"October\", \"October\"], \"xaxis\": \"x\", \"y\": [1000, 1000000, 1000000, 100000, 5, 50000, 500000, 1000000, 10, 100, 50, 50000, 1000000, 500000, 500000, 500000, 100, 50000, 500000, 1, 100000, 5000, 1000, 1000000, 10, 100, 50, 500, 100, 50, 50000, 500], \"yaxis\": \"y\"}, {\"alignmentgroup\": \"True\", \"hoverlabel\": {\"namelength\": 0}, \"hovertemplate\": \"Category=LIBRARIES_AND_DEMO<br>Month=%{x}<br>Installs=%{y}\", \"legendgroup\": \"Category=LIBRARIES_AND_DEMO\", \"marker\": {\"color\": \"#ab63fa\"}, \"name\": \"Category=LIBRARIES_AND_DEMO\", \"offsetgroup\": \"Category=LIBRARIES_AND_DEMO\", \"orientation\": \"v\", \"showlegend\": true, \"textposition\": \"auto\", \"type\": \"bar\", \"x\": [\"April\", \"August\", \"December\", \"December\", \"December\", \"February\", \"February\", \"February\", \"January\", \"January\", \"January\", \"June\", \"March\", \"November\", \"November\", \"September\"], \"xaxis\": \"x\", \"y\": [1000, 100, 10000, 100, 500000, 1000, 10000, 5000, 1000, 100000, 500000, 100000, 1000000, 10000, 100000, 50000], \"yaxis\": \"y\"}, {\"alignmentgroup\": \"True\", \"hoverlabel\": {\"namelength\": 0}, \"hovertemplate\": \"Category=LIFESTYLE<br>Month=%{x}<br>Installs=%{y}\", \"legendgroup\": \"Category=LIFESTYLE\", \"marker\": {\"color\": \"#FFA15A\"}, \"name\": \"Category=LIFESTYLE\", \"offsetgroup\": \"Category=LIFESTYLE\", \"orientation\": \"v\", \"showlegend\": true, \"textposition\": \"auto\", \"type\": \"bar\", \"x\": [\"April\", \"August\", \"August\", \"August\", \"August\", \"August\", \"August\", \"August\", \"August\", \"August\", \"August\", \"December\", \"December\", \"December\", \"December\", \"December\", \"December\", \"December\", \"December\", \"December\", \"December\", \"December\", \"December\", \"February\", \"February\", \"February\", \"February\", \"February\", \"January\", \"January\", \"January\", \"January\", \"January\", \"January\", \"January\", \"January\", \"January\", \"July\", \"July\", \"July\", \"July\", \"July\", \"June\", \"June\", \"June\", \"June\", \"June\", \"June\", \"June\", \"March\", \"March\", \"March\", \"March\", \"March\", \"March\", \"March\", \"March\", \"May\", \"May\", \"May\", \"May\", \"May\", \"May\", \"November\", \"November\", \"November\", \"November\", \"November\", \"October\", \"October\", \"October\", \"October\", \"October\", \"October\", \"October\", \"September\", \"September\", \"September\", \"September\", \"September\", \"September\", \"September\", \"September\", \"September\", \"September\"], \"xaxis\": \"x\", \"y\": [1000, 1000, 1000000, 10, 10000, 100, 100, 100, 100000, 100000, 5000000, 0, 1000, 1000, 1000, 1000000, 10000, 10000, 100, 100000, 5000, 50000, 50000, 100, 50, 50000, 500, 500000, 1000, 10, 10000, 100, 100000, 5000000, 50000, 500, 500000, 1000, 10000, 10000, 50000, 500000, 1000, 1000000, 10, 100, 100000, 500, 500000, 10000, 10000000, 100, 100, 100000, 100000, 50000, 50000, 1000, 10, 10000, 5000, 5000, 50, 10, 100000, 100000, 5000000, 500, 1, 1000, 1000000, 10, 10000, 100, 5000, 10000, 10000000, 100, 5000, 5000, 5000, 50, 50000, 50000, 500], \"yaxis\": \"y\"}, {\"alignmentgroup\": \"True\", \"hoverlabel\": {\"namelength\": 0}, \"hovertemplate\": \"Category=MEDICAL<br>Month=%{x}<br>Installs=%{y}\", \"legendgroup\": \"Category=MEDICAL\", \"marker\": {\"color\": \"#19d3f3\"}, \"name\": \"Category=MEDICAL\", \"offsetgroup\": \"Category=MEDICAL\", \"orientation\": \"v\", \"showlegend\": true, \"textposition\": \"auto\", \"type\": \"bar\", \"x\": [\"April\", \"April\", \"April\", \"April\", \"April\", \"April\", \"April\", \"April\", \"April\", \"April\", \"April\", \"August\", \"August\", \"December\", \"December\", \"December\", \"December\", \"December\", \"December\", \"December\", \"February\", \"February\", \"January\", \"January\", \"January\", \"January\", \"July\", \"July\", \"July\", \"July\", \"June\", \"June\", \"June\", \"June\", \"June\", \"June\", \"June\", \"March\", \"March\", \"March\", \"March\", \"March\", \"May\", \"May\", \"May\", \"May\", \"May\", \"May\", \"May\", \"May\", \"May\", \"November\", \"November\", \"November\", \"November\", \"November\", \"November\", \"November\", \"October\", \"October\", \"October\", \"October\", \"October\", \"October\", \"October\", \"October\", \"October\", \"September\", \"September\", \"September\", \"September\", \"September\", \"September\"], \"xaxis\": \"x\", \"y\": [1000, 10, 10000, 10000, 100, 100, 100, 100, 5000, 500, 500000, 10000, 5000, 1000, 10000, 10000, 100, 100, 5000, 50000, 10000, 100, 1000, 1000, 10000, 10000, 10000, 10000, 100, 100000, 1000, 1000, 10000, 100, 100, 100000, 50, 1000, 1000, 10000, 100, 5000, 100, 100, 100, 100000, 50, 50, 500, 500, 500, 1000, 1000, 10, 100, 5000, 5000, 50, 1000, 1000, 100, 100000, 5000, 50, 50, 50, 500, 1000, 1000, 1000, 10000, 10000, 100], \"yaxis\": \"y\"}, {\"alignmentgroup\": \"True\", \"hoverlabel\": {\"namelength\": 0}, \"hovertemplate\": \"Category=PERSONALIZATION<br>Month=%{x}<br>Installs=%{y}\", \"legendgroup\": \"Category=PERSONALIZATION\", \"marker\": {\"color\": \"#FF6692\"}, \"name\": \"Category=PERSONALIZATION\", \"offsetgroup\": \"Category=PERSONALIZATION\", \"orientation\": \"v\", \"showlegend\": true, \"textposition\": \"auto\", \"type\": \"bar\", \"x\": [\"April\", \"April\", \"April\", \"April\", \"August\", \"August\", \"August\", \"August\", \"August\", \"August\", \"December\", \"December\", \"December\", \"December\", \"December\", \"December\", \"December\", \"December\", \"December\", \"December\", \"December\", \"December\", \"February\", \"February\", \"January\", \"January\", \"January\", \"July\", \"July\", \"June\", \"June\", \"March\", \"March\", \"March\", \"March\", \"March\", \"March\", \"March\", \"May\", \"May\", \"November\", \"November\", \"November\", \"October\", \"October\", \"October\", \"October\", \"October\", \"October\", \"October\", \"October\", \"September\", \"September\", \"September\", \"September\", \"September\"], \"xaxis\": \"x\", \"y\": [1000, 10, 100, 50000, 1, 1000, 10, 10, 10000000, 5000, 1, 10, 10000, 10000000, 10000000, 100, 100, 100, 100, 5000000, 50000, 500, 100, 5000, 1000, 10000, 100000, 10000, 100, 10000, 5000000, 1000, 1000, 1000000, 10000, 100, 100000, 100000, 5000, 50000, 10000000, 100000, 5000000, 1000000, 1000000, 10, 10000, 10000000, 5000, 5000, 50000, 1000000, 10000, 100, 5000000, 500], \"yaxis\": \"y\"}, {\"alignmentgroup\": \"True\", \"hoverlabel\": {\"namelength\": 0}, \"hovertemplate\": \"Category=PRODUCTIVITY<br>Month=%{x}<br>Installs=%{y}\", \"legendgroup\": \"Category=PRODUCTIVITY\", \"marker\": {\"color\": \"#B6E880\"}, \"name\": \"Category=PRODUCTIVITY\", \"offsetgroup\": \"Category=PRODUCTIVITY\", \"orientation\": \"v\", \"showlegend\": true, \"textposition\": \"auto\", \"type\": \"bar\", \"x\": [\"April\", \"April\", \"April\", \"August\", \"August\", \"August\", \"August\", \"August\", \"August\", \"August\", \"December\", \"December\", \"December\", \"December\", \"December\", \"December\", \"December\", \"December\", \"December\", \"February\", \"February\", \"February\", \"February\", \"January\", \"January\", \"January\", \"July\", \"July\", \"July\", \"June\", \"June\", \"March\", \"March\", \"March\", \"March\", \"May\", \"May\", \"May\", \"May\", \"November\", \"November\", \"November\", \"November\", \"November\", \"November\", \"November\", \"November\", \"November\", \"November\", \"November\", \"November\", \"October\", \"October\", \"October\", \"October\", \"October\", \"October\", \"October\", \"October\", \"September\", \"September\", \"September\"], \"xaxis\": \"x\", \"y\": [1000, 10, 10000000, 1000, 1000000, 10000000, 100000, 50, 50, 500, 1000, 1000000, 1000000, 10, 10, 10000000, 10000000, 5000, 50, 1000, 1000, 1000, 10000, 1000000, 10000, 50000, 1000, 100, 500, 1000, 1000000, 1000, 10000, 100, 500000, 1000, 1000000, 10000, 100, 0, 1, 1000, 1000, 1000000, 10, 100, 100000, 5000000, 5000000, 50000, 500, 1000, 1000000, 10, 10000, 10000000, 100000, 50000, 500, 1000, 10000000, 50], \"yaxis\": \"y\"}, {\"alignmentgroup\": \"True\", \"hoverlabel\": {\"namelength\": 0}, \"hovertemplate\": \"Category=TOOLS<br>Month=%{x}<br>Installs=%{y}\", \"legendgroup\": \"Category=TOOLS\", \"marker\": {\"color\": \"#FF97FF\"}, \"name\": \"Category=TOOLS\", \"offsetgroup\": \"Category=TOOLS\", \"orientation\": \"v\", \"showlegend\": true, \"textposition\": \"auto\", \"type\": \"bar\", \"x\": [\"April\", \"April\", \"April\", \"April\", \"April\", \"April\", \"April\", \"August\", \"August\", \"August\", \"August\", \"August\", \"August\", \"August\", \"August\", \"August\", \"August\", \"August\", \"August\", \"August\", \"August\", \"August\", \"August\", \"December\", \"December\", \"December\", \"December\", \"December\", \"December\", \"December\", \"December\", \"December\", \"December\", \"December\", \"December\", \"December\", \"December\", \"December\", \"December\", \"December\", \"December\", \"December\", \"December\", \"December\", \"December\", \"December\", \"December\", \"February\", \"February\", \"February\", \"February\", \"February\", \"February\", \"February\", \"February\", \"February\", \"February\", \"February\", \"February\", \"February\", \"February\", \"February\", \"January\", \"January\", \"January\", \"January\", \"July\", \"July\", \"July\", \"July\", \"July\", \"July\", \"July\", \"July\", \"July\", \"July\", \"July\", \"July\", \"July\", \"July\", \"July\", \"June\", \"June\", \"June\", \"June\", \"June\", \"June\", \"June\", \"June\", \"June\", \"June\", \"June\", \"June\", \"June\", \"June\", \"March\", \"March\", \"March\", \"March\", \"March\", \"March\", \"March\", \"March\", \"March\", \"May\", \"May\", \"May\", \"May\", \"May\", \"May\", \"May\", \"May\", \"May\", \"May\", \"May\", \"November\", \"November\", \"November\", \"November\", \"November\", \"November\", \"November\", \"November\", \"November\", \"November\", \"November\", \"November\", \"November\", \"November\", \"November\", \"November\", \"November\", \"November\", \"November\", \"November\", \"November\", \"October\", \"October\", \"October\", \"October\", \"October\", \"October\", \"October\", \"October\", \"October\", \"October\", \"October\", \"October\", \"October\", \"October\", \"October\", \"October\", \"October\", \"October\", \"October\", \"October\", \"October\", \"October\", \"October\", \"October\", \"September\", \"September\", \"September\", \"September\", \"September\", \"September\", \"September\", \"September\", \"September\", \"September\", \"September\", \"September\", \"September\", \"September\", \"September\"], \"xaxis\": \"x\", \"y\": [1000, 1000, 10000, 10000, 10000000, 100, 50000, 1000000, 1000000, 1000000, 1000000, 1000000, 1000000, 10, 10000, 10000, 100, 100000, 5000, 50000, 50000, 500, 500, 1000, 1000, 1000, 1000, 1000, 1000000, 1000000, 1000000, 10000, 10000, 10000, 10000000, 10000000, 100, 100, 100000, 100000, 100000, 100000000, 5000000, 50, 50000000, 500, 500, 1000, 1000000, 1000000, 10, 10000, 10000, 100, 100000, 100000, 100000, 5000000, 50000, 50000, 500000, 500000, 1000, 1000000, 10000000, 5000, 1000, 1000000, 1000000, 10, 10000, 10000, 10000, 10000000, 100000, 100000, 100000, 100000, 100000, 5000000, 5000000, 1000000, 1000000, 10000, 10000, 10000, 10000, 10000000, 100000, 5000, 5000, 5000, 50000, 500, 500, 1000, 1000000, 1000000, 10000, 10000, 10000000, 100, 50000, 500, 1000, 1000, 1000000, 10000000, 100000, 100000, 100000, 50, 50000, 500, 500000, 1000, 1000, 1000000, 1000000, 1000000, 1000000, 1000000, 10, 10000, 10000000, 10000000, 100, 100, 100, 100000, 100000, 100000000, 50, 50000, 50000, 500, 1, 1000, 1000, 1000, 1000, 1000, 1000000, 10000, 10000, 10000, 10000, 10000000, 100, 100, 100000, 100000, 5, 5000, 5000, 5000000, 50, 50000, 50000000, 500, 1000, 1000, 1000, 1000, 1000, 1000, 1000, 100, 100000, 100000, 5000, 5000, 5000, 50000, 500000], \"yaxis\": \"y\"}, {\"alignmentgroup\": \"True\", \"hoverlabel\": {\"namelength\": 0}, \"hovertemplate\": \"Category=BOOKS_AND_REFERENCE<br>Month=%{x}<br>Installs=%{y}\", \"legendgroup\": \"Category=BOOKS_AND_REFERENCE\", \"marker\": {\"color\": \"#FECB52\"}, \"name\": \"Category=BOOKS_AND_REFERENCE\", \"offsetgroup\": \"Category=BOOKS_AND_REFERENCE\", \"orientation\": \"v\", \"showlegend\": true, \"textposition\": \"auto\", \"type\": \"bar\", \"x\": [\"April\", \"August\", \"August\", \"August\", \"August\", \"August\", \"August\", \"August\", \"December\", \"December\", \"December\", \"December\", \"December\", \"February\", \"February\", \"February\", \"February\", \"January\", \"January\", \"January\", \"January\", \"July\", \"July\", \"July\", \"July\", \"July\", \"June\", \"June\", \"June\", \"March\", \"March\", \"March\", \"May\", \"May\", \"May\", \"November\", \"November\", \"November\", \"November\", \"November\", \"November\", \"November\", \"November\", \"October\", \"October\", \"October\", \"October\", \"October\", \"September\", \"September\"], \"xaxis\": \"x\", \"y\": [1000000, 10, 10, 10000, 10000000, 5, 5000, 500, 1000, 1000000, 10000, 100000, 100000, 1000, 1000, 1000, 100000, 1000, 1000, 10000, 50, 1000, 1000, 100, 100, 100000, 1000, 5000000, 50000, 1000, 10, 100000, 1000, 1000, 100000, 1000, 1000000, 1000000, 1000000, 1000000, 5000, 50000, 500000, 1000, 1000, 10000, 100, 500000, 1000, 10000], \"yaxis\": \"y\"}, {\"alignmentgroup\": \"True\", \"hoverlabel\": {\"namelength\": 0}, \"hovertemplate\": \"Category=COMMUNICATION<br>Month=%{x}<br>Installs=%{y}\", \"legendgroup\": \"Category=COMMUNICATION\", \"marker\": {\"color\": \"#636efa\"}, \"name\": \"Category=COMMUNICATION\", \"offsetgroup\": \"Category=COMMUNICATION\", \"orientation\": \"v\", \"showlegend\": true, \"textposition\": \"auto\", \"type\": \"bar\", \"x\": [\"April\", \"April\", \"April\", \"April\", \"April\", \"August\", \"August\", \"August\", \"August\", \"August\", \"December\", \"December\", \"December\", \"December\", \"December\", \"December\", \"December\", \"December\", \"February\", \"February\", \"February\", \"February\", \"February\", \"January\", \"January\", \"July\", \"March\", \"March\", \"March\", \"March\", \"March\", \"March\", \"May\", \"May\", \"May\", \"November\", \"November\", \"November\", \"November\", \"November\", \"November\", \"November\", \"November\", \"November\", \"October\", \"October\", \"October\", \"October\", \"October\", \"September\", \"September\", \"September\", \"September\", \"September\", \"September\"], \"xaxis\": \"x\", \"y\": [1000000, 10, 10, 10000, 100000, 1000000, 100, 5, 5000, 500000, 1000000, 10, 100, 100, 100, 100, 50000, 50000, 1000, 10000, 10000, 50000, 500, 1000, 5000, 500000, 10000000, 100, 100000, 5000, 5000, 500, 10, 100, 5000, 1000, 1000, 10, 10000, 100, 100, 100, 5000000, 50, 10, 100, 100, 5000, 500, 10000, 10000, 100, 100, 50000, 500000], \"yaxis\": \"y\"}, {\"alignmentgroup\": \"True\", \"hoverlabel\": {\"namelength\": 0}, \"hovertemplate\": \"Category=FINANCE<br>Month=%{x}<br>Installs=%{y}\", \"legendgroup\": \"Category=FINANCE\", \"marker\": {\"color\": \"#EF553B\"}, \"name\": \"Category=FINANCE\", \"offsetgroup\": \"Category=FINANCE\", \"orientation\": \"v\", \"showlegend\": true, \"textposition\": \"auto\", \"type\": \"bar\", \"x\": [\"April\", \"April\", \"April\", \"August\", \"August\", \"August\", \"August\", \"December\", \"December\", \"December\", \"February\", \"January\", \"January\", \"July\", \"July\", \"July\", \"July\", \"July\", \"July\", \"June\", \"June\", \"June\", \"June\", \"June\", \"June\", \"June\", \"June\", \"March\", \"May\", \"May\", \"May\", \"May\", \"November\", \"November\", \"November\", \"November\", \"November\", \"October\", \"October\", \"October\", \"October\", \"October\", \"October\", \"October\", \"September\", \"September\", \"September\", \"September\"], \"xaxis\": \"x\", \"y\": [10, 5000, 50, 1000000, 10000, 100000, 5000, 1000, 1000, 5000, 10000, 10000, 10000, 1000, 10000, 10000, 10000, 100000, 500, 10000, 10000, 10000, 10000, 10000, 5000, 5000, 50000, 10000, 1000, 1000, 5000, 500000, 1000, 10000, 100, 5000, 50000, 1000, 10000, 10000, 10000, 100, 50, 50000, 1000, 10000, 10000, 100], \"yaxis\": \"y\"}, {\"alignmentgroup\": \"True\", \"hoverlabel\": {\"namelength\": 0}, \"hovertemplate\": \"Category=BUSINESS<br>Month=%{x}<br>Installs=%{y}\", \"legendgroup\": \"Category=BUSINESS\", \"marker\": {\"color\": \"#00cc96\"}, \"name\": \"Category=BUSINESS\", \"offsetgroup\": \"Category=BUSINESS\", \"orientation\": \"v\", \"showlegend\": true, \"textposition\": \"auto\", \"type\": \"bar\", \"x\": [\"April\", \"April\", \"April\", \"April\", \"August\", \"August\", \"August\", \"August\", \"August\", \"August\", \"August\", \"August\", \"August\", \"December\", \"December\", \"December\", \"December\", \"December\", \"December\", \"December\", \"December\", \"December\", \"December\", \"February\", \"February\", \"February\", \"February\", \"January\", \"January\", \"January\", \"January\", \"January\", \"July\", \"July\", \"July\", \"July\", \"June\", \"June\", \"June\", \"June\", \"June\", \"June\", \"March\", \"March\", \"March\", \"May\", \"May\", \"May\", \"May\", \"May\", \"May\", \"May\", \"November\", \"November\", \"November\", \"November\", \"November\", \"November\", \"October\", \"October\", \"October\", \"October\", \"October\", \"October\", \"October\", \"October\", \"October\", \"October\", \"October\", \"September\", \"September\", \"September\", \"September\", \"September\", \"September\", \"September\", \"September\", \"September\", \"September\", \"September\", \"September\"], \"xaxis\": \"x\", \"y\": [10000, 100, 100, 100000, 1000, 1000, 10, 100, 100000, 100000, 50, 500, 500, 1000, 1000, 1000000, 10, 10000, 100, 5, 5000, 50, 500000, 1000, 1000, 10, 100, 1000, 1000, 100, 100, 100, 10000, 100, 100, 5, 1000, 10000, 10000, 100000, 5, 500, 10, 100, 50000, 1000, 1000, 10, 10000, 10000000, 100, 5, 1000, 10, 10, 100, 5000, 500000, 1, 1000, 1000, 1000, 10000, 100, 5000, 50, 50, 500, 500, 1000, 1000000, 10, 100, 100, 100, 100, 50, 50000, 500, 500, 500], \"yaxis\": \"y\"}, {\"alignmentgroup\": \"True\", \"hoverlabel\": {\"namelength\": 0}, \"hovertemplate\": \"Category=MAPS_AND_NAVIGATION<br>Month=%{x}<br>Installs=%{y}\", \"legendgroup\": \"Category=MAPS_AND_NAVIGATION\", \"marker\": {\"color\": \"#ab63fa\"}, \"name\": \"Category=MAPS_AND_NAVIGATION\", \"offsetgroup\": \"Category=MAPS_AND_NAVIGATION\", \"orientation\": \"v\", \"showlegend\": true, \"textposition\": \"auto\", \"type\": \"bar\", \"x\": [\"April\", \"August\", \"August\", \"December\", \"December\", \"December\", \"December\", \"December\", \"July\", \"May\", \"May\", \"May\", \"November\", \"November\", \"November\", \"October\", \"October\", \"September\", \"September\", \"September\", \"September\"], \"xaxis\": \"x\", \"y\": [10000, 1000, 100, 10000, 50000, 50000, 500, 500000, 5000, 1000, 10000, 5000, 1000000, 10000, 100000, 10000000, 100, 1000, 10000, 100000, 100000], \"yaxis\": \"y\"}, {\"alignmentgroup\": \"True\", \"hoverlabel\": {\"namelength\": 0}, \"hovertemplate\": \"Category=TRAVEL_AND_LOCAL<br>Month=%{x}<br>Installs=%{y}\", \"legendgroup\": \"Category=TRAVEL_AND_LOCAL\", \"marker\": {\"color\": \"#FFA15A\"}, \"name\": \"Category=TRAVEL_AND_LOCAL\", \"offsetgroup\": \"Category=TRAVEL_AND_LOCAL\", \"orientation\": \"v\", \"showlegend\": true, \"textposition\": \"auto\", \"type\": \"bar\", \"x\": [\"April\", \"April\", \"April\", \"August\", \"August\", \"August\", \"August\", \"December\", \"February\", \"February\", \"January\", \"January\", \"January\", \"June\", \"June\", \"March\", \"March\", \"May\", \"November\", \"November\", \"November\", \"November\", \"November\", \"November\", \"October\", \"October\", \"October\", \"October\", \"September\", \"September\"], \"xaxis\": \"x\", \"y\": [10000, 5000, 5000, 1000, 100, 100000, 500, 500, 1000, 5000, 0, 1000, 1000, 10000, 100, 10, 10000, 1000, 1000, 1000, 10000, 100, 5, 5000000, 10000, 100000, 50000, 500, 100, 50], \"yaxis\": \"y\"}, {\"alignmentgroup\": \"True\", \"hoverlabel\": {\"namelength\": 0}, \"hovertemplate\": \"Category=PHOTOGRAPHY<br>Month=%{x}<br>Installs=%{y}\", \"legendgroup\": \"Category=PHOTOGRAPHY\", \"marker\": {\"color\": \"#19d3f3\"}, \"name\": \"Category=PHOTOGRAPHY\", \"offsetgroup\": \"Category=PHOTOGRAPHY\", \"orientation\": \"v\", \"showlegend\": true, \"textposition\": \"auto\", \"type\": \"bar\", \"x\": [\"April\", \"April\", \"August\", \"August\", \"August\", \"August\", \"December\", \"December\", \"December\", \"February\", \"February\", \"February\", \"February\", \"February\", \"February\", \"January\", \"January\", \"January\", \"January\", \"July\", \"July\", \"July\", \"July\", \"July\", \"July\", \"June\", \"June\", \"June\", \"June\", \"June\", \"March\", \"March\", \"March\", \"March\", \"March\", \"March\", \"May\", \"May\", \"November\", \"November\", \"November\", \"November\", \"November\", \"November\", \"October\", \"October\", \"October\", \"October\", \"October\", \"October\", \"October\", \"October\", \"September\", \"September\", \"September\", \"September\", \"September\", \"September\", \"September\", \"September\", \"September\", \"September\"], \"xaxis\": \"x\", \"y\": [10000000, 5000000, 100000, 5000, 50000, 500000, 10000000, 100000000, 500000, 1000000, 10, 10, 10000, 100, 500000, 1000, 1000, 1000000, 100, 1000000, 10000000, 100000, 5000000, 50, 50000, 10000000, 10000000, 100, 5000000, 50000, 1000000, 1000000, 1000000, 10000, 10000000, 50000000, 10000, 100000, 1000, 10000000, 10000000, 100000, 100000, 50000, 1000, 10, 10000000, 100, 100, 5000, 5000000, 50000, 1000000, 1000000, 10000, 10000000, 100, 100, 100, 100000, 5000000, 500], \"yaxis\": \"y\"}, {\"alignmentgroup\": \"True\", \"hoverlabel\": {\"namelength\": 0}, \"hovertemplate\": \"Category=EVENTS<br>Month=%{x}<br>Installs=%{y}\", \"legendgroup\": \"Category=EVENTS\", \"marker\": {\"color\": \"#FF6692\"}, \"name\": \"Category=EVENTS\", \"offsetgroup\": \"Category=EVENTS\", \"orientation\": \"v\", \"showlegend\": true, \"textposition\": \"auto\", \"type\": \"bar\", \"x\": [\"April\", \"August\", \"December\", \"December\", \"December\", \"December\", \"December\", \"December\", \"July\", \"November\", \"November\", \"October\", \"October\", \"October\", \"October\", \"September\"], \"xaxis\": \"x\", \"y\": [100000, 1, 1000, 10, 100000, 50000, 50000, 50000, 500, 10, 10000, 10, 100, 100, 100000, 1000], \"yaxis\": \"y\"}, {\"alignmentgroup\": \"True\", \"hoverlabel\": {\"namelength\": 0}, \"hovertemplate\": \"Category=DATING<br>Month=%{x}<br>Installs=%{y}\", \"legendgroup\": \"Category=DATING\", \"marker\": {\"color\": \"#B6E880\"}, \"name\": \"Category=DATING\", \"offsetgroup\": \"Category=DATING\", \"orientation\": \"v\", \"showlegend\": true, \"textposition\": \"auto\", \"type\": \"bar\", \"x\": [\"April\", \"December\", \"December\", \"February\", \"February\", \"January\", \"January\", \"January\", \"January\", \"July\", \"July\", \"June\", \"November\", \"October\", \"September\"], \"xaxis\": \"x\", \"y\": [5000, 100000, 100000, 100000, 500000, 100, 100000, 100000, 100000, 100, 5000, 500000, 10000, 1000, 50], \"yaxis\": \"y\"}, {\"alignmentgroup\": \"True\", \"hoverlabel\": {\"namelength\": 0}, \"hovertemplate\": \"Category=SOCIAL<br>Month=%{x}<br>Installs=%{y}\", \"legendgroup\": \"Category=SOCIAL\", \"marker\": {\"color\": \"#FF97FF\"}, \"name\": \"Category=SOCIAL\", \"offsetgroup\": \"Category=SOCIAL\", \"orientation\": \"v\", \"showlegend\": true, \"textposition\": \"auto\", \"type\": \"bar\", \"x\": [\"April\", \"August\", \"August\", \"December\", \"December\", \"December\", \"December\", \"February\", \"February\", \"January\", \"July\", \"July\", \"July\", \"July\", \"July\", \"June\", \"June\", \"March\", \"March\", \"May\", \"May\", \"May\", \"May\", \"May\", \"November\", \"November\", \"November\", \"November\", \"October\", \"October\", \"October\", \"October\", \"October\", \"September\", \"September\", \"September\"], \"xaxis\": \"x\", \"y\": [5000, 1000000, 10000, 1000000, 500, 500000, 500000, 5000, 500, 1000, 0, 1, 10, 100, 500000, 10, 5000, 1000000, 500, 1000, 1000000, 5000, 5000, 500000, 10000, 100, 100000, 500000, 10000, 10000, 100, 5000000, 50000000, 100, 100000, 5000], \"yaxis\": \"y\"}, {\"alignmentgroup\": \"True\", \"hoverlabel\": {\"namelength\": 0}, \"hovertemplate\": \"Category=NEWS_AND_MAGAZINES<br>Month=%{x}<br>Installs=%{y}\", \"legendgroup\": \"Category=NEWS_AND_MAGAZINES\", \"marker\": {\"color\": \"#FECB52\"}, \"name\": \"Category=NEWS_AND_MAGAZINES\", \"offsetgroup\": \"Category=NEWS_AND_MAGAZINES\", \"orientation\": \"v\", \"showlegend\": true, \"textposition\": \"auto\", \"type\": \"bar\", \"x\": [\"April\", \"August\", \"August\", \"December\", \"December\", \"February\", \"February\", \"February\", \"February\", \"January\", \"January\", \"July\", \"June\", \"June\", \"June\", \"March\", \"March\", \"March\", \"May\", \"May\", \"May\", \"May\", \"May\", \"May\", \"November\", \"November\", \"November\", \"October\", \"October\", \"October\", \"October\", \"September\"], \"xaxis\": \"x\", \"y\": [50000, 5000, 50, 10, 5000, 10000, 10000, 100000, 100000, 1000, 100, 5000, 10000, 10000, 100, 1000, 10, 100, 1000, 1000, 1000, 1000, 1000000, 50, 10000, 5000, 50, 10000, 100, 50000, 50000, 1000000], \"yaxis\": \"y\"}, {\"alignmentgroup\": \"True\", \"hoverlabel\": {\"namelength\": 0}, \"hovertemplate\": \"Category=SHOPPING<br>Month=%{x}<br>Installs=%{y}\", \"legendgroup\": \"Category=SHOPPING\", \"marker\": {\"color\": \"#636efa\"}, \"name\": \"Category=SHOPPING\", \"offsetgroup\": \"Category=SHOPPING\", \"orientation\": \"v\", \"showlegend\": true, \"textposition\": \"auto\", \"type\": \"bar\", \"x\": [\"August\", \"August\", \"August\", \"August\", \"August\", \"December\", \"December\", \"December\", \"February\", \"January\", \"January\", \"July\", \"July\", \"March\", \"May\", \"November\", \"November\", \"October\", \"October\"], \"xaxis\": \"x\", \"y\": [1000, 10, 50000, 50000, 500, 10, 100000, 500000, 500, 1000, 10, 10000, 500, 10, 100, 1000000, 100, 100, 5], \"yaxis\": \"y\"}, {\"alignmentgroup\": \"True\", \"hoverlabel\": {\"namelength\": 0}, \"hovertemplate\": \"Category=EDUCATION<br>Month=%{x}<br>Installs=%{y}\", \"legendgroup\": \"Category=EDUCATION\", \"marker\": {\"color\": \"#EF553B\"}, \"name\": \"Category=EDUCATION\", \"offsetgroup\": \"Category=EDUCATION\", \"orientation\": \"v\", \"showlegend\": true, \"textposition\": \"auto\", \"type\": \"bar\", \"x\": [\"August\", \"December\", \"December\", \"December\", \"December\", \"February\", \"January\", \"January\", \"July\", \"July\", \"June\", \"November\", \"November\", \"November\", \"October\", \"October\", \"October\", \"October\", \"October\", \"October\", \"September\", \"September\"], \"xaxis\": \"x\", \"y\": [1000000, 1000000, 1000000, 100000, 100000, 50000, 1000000, 1000000, 1000, 1000, 1000000, 1000000, 1000000, 100000, 1000000, 1000000, 10000, 100000, 5000000, 500000, 1000000, 500000], \"yaxis\": \"y\"}, {\"alignmentgroup\": \"True\", \"hoverlabel\": {\"namelength\": 0}, \"hovertemplate\": \"Category=VIDEO_PLAYERS<br>Month=%{x}<br>Installs=%{y}\", \"legendgroup\": \"Category=VIDEO_PLAYERS\", \"marker\": {\"color\": \"#00cc96\"}, \"name\": \"Category=VIDEO_PLAYERS\", \"offsetgroup\": \"Category=VIDEO_PLAYERS\", \"orientation\": \"v\", \"showlegend\": true, \"textposition\": \"auto\", \"type\": \"bar\", \"x\": [\"August\", \"August\", \"August\", \"December\", \"December\", \"December\", \"December\", \"December\", \"December\", \"December\", \"February\", \"January\", \"January\", \"July\", \"July\", \"March\", \"March\", \"March\", \"March\", \"May\", \"May\", \"November\", \"November\", \"October\", \"October\", \"September\", \"September\", \"September\"], \"xaxis\": \"x\", \"y\": [1000000, 10000, 100, 1000000, 10000000, 10000000, 100000, 100000, 50000000, 500000, 10000, 10000, 5000, 1000, 100000, 1000000, 1000000, 5000, 50000, 5000, 5000000, 10000000, 500, 1000, 50000, 1000, 1000, 10000], \"yaxis\": \"y\"}, {\"alignmentgroup\": \"True\", \"hoverlabel\": {\"namelength\": 0}, \"hovertemplate\": \"Category=SPORTS<br>Month=%{x}<br>Installs=%{y}\", \"legendgroup\": \"Category=SPORTS\", \"marker\": {\"color\": \"#ab63fa\"}, \"name\": \"Category=SPORTS\", \"offsetgroup\": \"Category=SPORTS\", \"orientation\": \"v\", \"showlegend\": true, \"textposition\": \"auto\", \"type\": \"bar\", \"x\": [\"August\", \"August\", \"August\", \"August\", \"August\", \"August\", \"August\", \"December\", \"December\", \"December\", \"December\", \"December\", \"December\", \"December\", \"December\", \"December\", \"December\", \"December\", \"February\", \"February\", \"February\", \"February\", \"January\", \"January\", \"January\", \"January\", \"July\", \"July\", \"July\", \"June\", \"June\", \"March\", \"March\", \"March\", \"March\", \"May\", \"May\", \"November\", \"November\", \"November\", \"November\", \"November\", \"October\", \"October\", \"October\", \"October\", \"October\", \"October\", \"September\", \"September\", \"September\", \"September\", \"September\"], \"xaxis\": \"x\", \"y\": [10, 10, 10000, 10000, 100000, 5, 5000, 1000, 1000, 1000, 10000, 10000000, 100, 100, 5000000, 50, 50000000, 500, 1000, 100, 100000, 500000, 10000000, 100, 50000, 500, 10000, 100, 50000000, 10000, 100000, 100, 100000, 500, 500, 1000, 1000000, 1000000, 10000, 10000, 100000, 5000000, 1000, 1000000, 100000, 5000, 500, 500, 1000000, 10000000, 100, 100, 100000], \"yaxis\": \"y\"}, {\"alignmentgroup\": \"True\", \"hoverlabel\": {\"namelength\": 0}, \"hovertemplate\": \"Category=AUTO_AND_VEHICLES<br>Month=%{x}<br>Installs=%{y}\", \"legendgroup\": \"Category=AUTO_AND_VEHICLES\", \"marker\": {\"color\": \"#FFA15A\"}, \"name\": \"Category=AUTO_AND_VEHICLES\", \"offsetgroup\": \"Category=AUTO_AND_VEHICLES\", \"orientation\": \"v\", \"showlegend\": true, \"textposition\": \"auto\", \"type\": \"bar\", \"x\": [\"August\", \"December\", \"February\", \"July\", \"June\", \"November\", \"November\"], \"xaxis\": \"x\", \"y\": [10000, 10, 10, 100000, 1000, 10000, 500], \"yaxis\": \"y\"}, {\"alignmentgroup\": \"True\", \"hoverlabel\": {\"namelength\": 0}, \"hovertemplate\": \"Category=BEAUTY<br>Month=%{x}<br>Installs=%{y}\", \"legendgroup\": \"Category=BEAUTY\", \"marker\": {\"color\": \"#19d3f3\"}, \"name\": \"Category=BEAUTY\", \"offsetgroup\": \"Category=BEAUTY\", \"orientation\": \"v\", \"showlegend\": true, \"textposition\": \"auto\", \"type\": \"bar\", \"x\": [\"August\", \"August\", \"August\", \"August\", \"December\", \"February\", \"March\", \"November\", \"November\", \"October\", \"September\", \"September\"], \"xaxis\": \"x\", \"y\": [10000, 10000000, 100, 50000, 10000, 50, 100000, 1000000, 1000000, 50000, 1000000, 100000], \"yaxis\": \"y\"}, {\"alignmentgroup\": \"True\", \"hoverlabel\": {\"namelength\": 0}, \"hovertemplate\": \"Category=FOOD_AND_DRINK<br>Month=%{x}<br>Installs=%{y}\", \"legendgroup\": \"Category=FOOD_AND_DRINK\", \"marker\": {\"color\": \"#FF6692\"}, \"name\": \"Category=FOOD_AND_DRINK\", \"offsetgroup\": \"Category=FOOD_AND_DRINK\", \"orientation\": \"v\", \"showlegend\": true, \"textposition\": \"auto\", \"type\": \"bar\", \"x\": [\"August\", \"February\", \"March\", \"March\", \"November\", \"October\", \"October\", \"September\"], \"xaxis\": \"x\", \"y\": [10000, 10000, 10, 10000, 1000000, 10, 100000, 100000], \"yaxis\": \"y\"}, {\"alignmentgroup\": \"True\", \"hoverlabel\": {\"namelength\": 0}, \"hovertemplate\": \"Category=HOUSE_AND_HOME<br>Month=%{x}<br>Installs=%{y}\", \"legendgroup\": \"Category=HOUSE_AND_HOME\", \"marker\": {\"color\": \"#B6E880\"}, \"name\": \"Category=HOUSE_AND_HOME\", \"offsetgroup\": \"Category=HOUSE_AND_HOME\", \"orientation\": \"v\", \"showlegend\": true, \"textposition\": \"auto\", \"type\": \"bar\", \"x\": [\"August\", \"August\", \"August\", \"December\", \"July\", \"March\", \"May\", \"November\", \"September\", \"September\"], \"xaxis\": \"x\", \"y\": [10000, 100, 500000, 5000, 10, 1000000, 100, 100, 100000, 50], \"yaxis\": \"y\"}, {\"alignmentgroup\": \"True\", \"hoverlabel\": {\"namelength\": 0}, \"hovertemplate\": \"Category=WEATHER<br>Month=%{x}<br>Installs=%{y}\", \"legendgroup\": \"Category=WEATHER\", \"marker\": {\"color\": \"#FF97FF\"}, \"name\": \"Category=WEATHER\", \"offsetgroup\": \"Category=WEATHER\", \"orientation\": \"v\", \"showlegend\": true, \"textposition\": \"auto\", \"type\": \"bar\", \"x\": [\"August\", \"December\", \"February\", \"February\", \"July\", \"July\", \"June\", \"June\", \"June\", \"November\"], \"xaxis\": \"x\", \"y\": [10000000, 10000, 1000, 10000, 1000000, 1000000, 1000000, 1000000, 50000, 500000], \"yaxis\": \"y\"}, {\"alignmentgroup\": \"True\", \"hoverlabel\": {\"namelength\": 0}, \"hovertemplate\": \"Category=ART_AND_DESIGN<br>Month=%{x}<br>Installs=%{y}\", \"legendgroup\": \"Category=ART_AND_DESIGN\", \"marker\": {\"color\": \"#FECB52\"}, \"name\": \"Category=ART_AND_DESIGN\", \"offsetgroup\": \"Category=ART_AND_DESIGN\", \"orientation\": \"v\", \"showlegend\": true, \"textposition\": \"auto\", \"type\": \"bar\", \"x\": [\"August\", \"December\", \"March\", \"March\", \"May\", \"November\", \"November\", \"November\", \"November\", \"October\", \"October\", \"September\"], \"xaxis\": \"x\", \"y\": [100000, 100000, 0, 50000, 50000, 10000, 10000, 100000, 50000, 1000000, 500000, 1000000], \"yaxis\": \"y\"}, {\"alignmentgroup\": \"True\", \"hoverlabel\": {\"namelength\": 0}, \"hovertemplate\": \"Category=COMICS<br>Month=%{x}<br>Installs=%{y}\", \"legendgroup\": \"Category=COMICS\", \"marker\": {\"color\": \"#636efa\"}, \"name\": \"Category=COMICS\", \"offsetgroup\": \"Category=COMICS\", \"orientation\": \"v\", \"showlegend\": true, \"textposition\": \"auto\", \"type\": \"bar\", \"x\": [\"December\", \"December\", \"March\", \"May\", \"November\", \"November\", \"November\", \"October\"], \"xaxis\": \"x\", \"y\": [10000, 100000, 100000, 10000, 10000, 100, 500000, 100000], \"yaxis\": \"y\"}, {\"alignmentgroup\": \"True\", \"hoverlabel\": {\"namelength\": 0}, \"hovertemplate\": \"Category=ENTERTAINMENT<br>Month=%{x}<br>Installs=%{y}\", \"legendgroup\": \"Category=ENTERTAINMENT\", \"marker\": {\"color\": \"#EF553B\"}, \"name\": \"Category=ENTERTAINMENT\", \"offsetgroup\": \"Category=ENTERTAINMENT\", \"orientation\": \"v\", \"showlegend\": true, \"textposition\": \"auto\", \"type\": \"bar\", \"x\": [\"December\", \"July\"], \"xaxis\": \"x\", \"y\": [10000, 1000000], \"yaxis\": \"y\"}, {\"alignmentgroup\": \"True\", \"hoverlabel\": {\"namelength\": 0}, \"hovertemplate\": \"Category=PARENTING<br>Month=%{x}<br>Installs=%{y}\", \"legendgroup\": \"Category=PARENTING\", \"marker\": {\"color\": \"#00cc96\"}, \"name\": \"Category=PARENTING\", \"offsetgroup\": \"Category=PARENTING\", \"orientation\": \"v\", \"showlegend\": true, \"textposition\": \"auto\", \"type\": \"bar\", \"x\": [\"December\", \"December\", \"January\", \"January\", \"July\", \"October\", \"October\"], \"xaxis\": \"x\", \"y\": [100000, 100000, 10000, 100000, 10000, 1000, 10000], \"yaxis\": \"y\"}],\n",
              "                        {\"barmode\": \"relative\", \"legend\": {\"tracegroupgap\": 0}, \"template\": {\"data\": {\"bar\": [{\"error_x\": {\"color\": \"#2a3f5f\"}, \"error_y\": {\"color\": \"#2a3f5f\"}, \"marker\": {\"line\": {\"color\": \"#E5ECF6\", \"width\": 0.5}}, \"type\": \"bar\"}], \"barpolar\": [{\"marker\": {\"line\": {\"color\": \"#E5ECF6\", \"width\": 0.5}}, \"type\": \"barpolar\"}], \"carpet\": [{\"aaxis\": {\"endlinecolor\": \"#2a3f5f\", \"gridcolor\": \"white\", \"linecolor\": \"white\", \"minorgridcolor\": \"white\", \"startlinecolor\": \"#2a3f5f\"}, \"baxis\": {\"endlinecolor\": \"#2a3f5f\", \"gridcolor\": \"white\", \"linecolor\": \"white\", \"minorgridcolor\": \"white\", \"startlinecolor\": \"#2a3f5f\"}, \"type\": \"carpet\"}], \"choropleth\": [{\"colorbar\": {\"outlinewidth\": 0, \"ticks\": \"\"}, \"type\": \"choropleth\"}], \"contour\": [{\"colorbar\": {\"outlinewidth\": 0, \"ticks\": \"\"}, \"colorscale\": [[0.0, \"#0d0887\"], [0.1111111111111111, \"#46039f\"], [0.2222222222222222, \"#7201a8\"], [0.3333333333333333, \"#9c179e\"], [0.4444444444444444, \"#bd3786\"], [0.5555555555555556, \"#d8576b\"], [0.6666666666666666, \"#ed7953\"], [0.7777777777777778, \"#fb9f3a\"], [0.8888888888888888, \"#fdca26\"], [1.0, \"#f0f921\"]], \"type\": \"contour\"}], \"contourcarpet\": [{\"colorbar\": {\"outlinewidth\": 0, \"ticks\": \"\"}, \"type\": \"contourcarpet\"}], \"heatmap\": [{\"colorbar\": {\"outlinewidth\": 0, \"ticks\": \"\"}, \"colorscale\": [[0.0, \"#0d0887\"], [0.1111111111111111, \"#46039f\"], [0.2222222222222222, \"#7201a8\"], [0.3333333333333333, \"#9c179e\"], [0.4444444444444444, \"#bd3786\"], [0.5555555555555556, \"#d8576b\"], [0.6666666666666666, \"#ed7953\"], [0.7777777777777778, \"#fb9f3a\"], [0.8888888888888888, \"#fdca26\"], [1.0, \"#f0f921\"]], \"type\": \"heatmap\"}], \"heatmapgl\": [{\"colorbar\": {\"outlinewidth\": 0, \"ticks\": \"\"}, \"colorscale\": [[0.0, \"#0d0887\"], [0.1111111111111111, \"#46039f\"], [0.2222222222222222, \"#7201a8\"], [0.3333333333333333, \"#9c179e\"], [0.4444444444444444, \"#bd3786\"], [0.5555555555555556, \"#d8576b\"], [0.6666666666666666, \"#ed7953\"], [0.7777777777777778, \"#fb9f3a\"], [0.8888888888888888, \"#fdca26\"], [1.0, \"#f0f921\"]], \"type\": \"heatmapgl\"}], \"histogram\": [{\"marker\": {\"colorbar\": {\"outlinewidth\": 0, \"ticks\": \"\"}}, \"type\": \"histogram\"}], \"histogram2d\": [{\"colorbar\": {\"outlinewidth\": 0, \"ticks\": \"\"}, \"colorscale\": [[0.0, \"#0d0887\"], [0.1111111111111111, \"#46039f\"], [0.2222222222222222, \"#7201a8\"], [0.3333333333333333, \"#9c179e\"], [0.4444444444444444, \"#bd3786\"], [0.5555555555555556, \"#d8576b\"], [0.6666666666666666, \"#ed7953\"], [0.7777777777777778, \"#fb9f3a\"], [0.8888888888888888, \"#fdca26\"], [1.0, \"#f0f921\"]], \"type\": \"histogram2d\"}], \"histogram2dcontour\": [{\"colorbar\": {\"outlinewidth\": 0, \"ticks\": \"\"}, \"colorscale\": [[0.0, \"#0d0887\"], [0.1111111111111111, \"#46039f\"], [0.2222222222222222, \"#7201a8\"], [0.3333333333333333, \"#9c179e\"], [0.4444444444444444, \"#bd3786\"], [0.5555555555555556, \"#d8576b\"], [0.6666666666666666, \"#ed7953\"], [0.7777777777777778, \"#fb9f3a\"], [0.8888888888888888, \"#fdca26\"], [1.0, \"#f0f921\"]], \"type\": \"histogram2dcontour\"}], \"mesh3d\": [{\"colorbar\": {\"outlinewidth\": 0, \"ticks\": \"\"}, \"type\": \"mesh3d\"}], \"parcoords\": [{\"line\": {\"colorbar\": {\"outlinewidth\": 0, \"ticks\": \"\"}}, \"type\": \"parcoords\"}], \"pie\": [{\"automargin\": true, \"type\": \"pie\"}], \"scatter\": [{\"marker\": {\"colorbar\": {\"outlinewidth\": 0, \"ticks\": \"\"}}, \"type\": \"scatter\"}], \"scatter3d\": [{\"line\": {\"colorbar\": {\"outlinewidth\": 0, \"ticks\": \"\"}}, \"marker\": {\"colorbar\": {\"outlinewidth\": 0, \"ticks\": \"\"}}, \"type\": \"scatter3d\"}], \"scattercarpet\": [{\"marker\": {\"colorbar\": {\"outlinewidth\": 0, \"ticks\": \"\"}}, \"type\": \"scattercarpet\"}], \"scattergeo\": [{\"marker\": {\"colorbar\": {\"outlinewidth\": 0, \"ticks\": \"\"}}, \"type\": \"scattergeo\"}], \"scattergl\": [{\"marker\": {\"colorbar\": {\"outlinewidth\": 0, \"ticks\": \"\"}}, \"type\": \"scattergl\"}], \"scattermapbox\": [{\"marker\": {\"colorbar\": {\"outlinewidth\": 0, \"ticks\": \"\"}}, \"type\": \"scattermapbox\"}], \"scatterpolar\": [{\"marker\": {\"colorbar\": {\"outlinewidth\": 0, \"ticks\": \"\"}}, \"type\": \"scatterpolar\"}], \"scatterpolargl\": [{\"marker\": {\"colorbar\": {\"outlinewidth\": 0, \"ticks\": \"\"}}, \"type\": \"scatterpolargl\"}], \"scatterternary\": [{\"marker\": {\"colorbar\": {\"outlinewidth\": 0, \"ticks\": \"\"}}, \"type\": \"scatterternary\"}], \"surface\": [{\"colorbar\": {\"outlinewidth\": 0, \"ticks\": \"\"}, \"colorscale\": [[0.0, \"#0d0887\"], [0.1111111111111111, \"#46039f\"], [0.2222222222222222, \"#7201a8\"], [0.3333333333333333, \"#9c179e\"], [0.4444444444444444, \"#bd3786\"], [0.5555555555555556, \"#d8576b\"], [0.6666666666666666, \"#ed7953\"], [0.7777777777777778, \"#fb9f3a\"], [0.8888888888888888, \"#fdca26\"], [1.0, \"#f0f921\"]], \"type\": \"surface\"}], \"table\": [{\"cells\": {\"fill\": {\"color\": \"#EBF0F8\"}, \"line\": {\"color\": \"white\"}}, \"header\": {\"fill\": {\"color\": \"#C8D4E3\"}, \"line\": {\"color\": \"white\"}}, \"type\": \"table\"}]}, \"layout\": {\"annotationdefaults\": {\"arrowcolor\": \"#2a3f5f\", \"arrowhead\": 0, \"arrowwidth\": 1}, \"coloraxis\": {\"colorbar\": {\"outlinewidth\": 0, \"ticks\": \"\"}}, \"colorscale\": {\"diverging\": [[0, \"#8e0152\"], [0.1, \"#c51b7d\"], [0.2, \"#de77ae\"], [0.3, \"#f1b6da\"], [0.4, \"#fde0ef\"], [0.5, \"#f7f7f7\"], [0.6, \"#e6f5d0\"], [0.7, \"#b8e186\"], [0.8, \"#7fbc41\"], [0.9, \"#4d9221\"], [1, \"#276419\"]], \"sequential\": [[0.0, \"#0d0887\"], [0.1111111111111111, \"#46039f\"], [0.2222222222222222, \"#7201a8\"], [0.3333333333333333, \"#9c179e\"], [0.4444444444444444, \"#bd3786\"], [0.5555555555555556, \"#d8576b\"], [0.6666666666666666, \"#ed7953\"], [0.7777777777777778, \"#fb9f3a\"], [0.8888888888888888, \"#fdca26\"], [1.0, \"#f0f921\"]], \"sequentialminus\": [[0.0, \"#0d0887\"], [0.1111111111111111, \"#46039f\"], [0.2222222222222222, \"#7201a8\"], [0.3333333333333333, \"#9c179e\"], [0.4444444444444444, \"#bd3786\"], [0.5555555555555556, \"#d8576b\"], [0.6666666666666666, \"#ed7953\"], [0.7777777777777778, \"#fb9f3a\"], [0.8888888888888888, \"#fdca26\"], [1.0, \"#f0f921\"]]}, \"colorway\": [\"#636efa\", \"#EF553B\", \"#00cc96\", \"#ab63fa\", \"#FFA15A\", \"#19d3f3\", \"#FF6692\", \"#B6E880\", \"#FF97FF\", \"#FECB52\"], \"font\": {\"color\": \"#2a3f5f\"}, \"geo\": {\"bgcolor\": \"white\", \"lakecolor\": \"white\", \"landcolor\": \"#E5ECF6\", \"showlakes\": true, \"showland\": true, \"subunitcolor\": \"white\"}, \"hoverlabel\": {\"align\": \"left\"}, \"hovermode\": \"closest\", \"mapbox\": {\"style\": \"light\"}, \"paper_bgcolor\": \"white\", \"plot_bgcolor\": \"#E5ECF6\", \"polar\": {\"angularaxis\": {\"gridcolor\": \"white\", \"linecolor\": \"white\", \"ticks\": \"\"}, \"bgcolor\": \"#E5ECF6\", \"radialaxis\": {\"gridcolor\": \"white\", \"linecolor\": \"white\", \"ticks\": \"\"}}, \"scene\": {\"xaxis\": {\"backgroundcolor\": \"#E5ECF6\", \"gridcolor\": \"white\", \"gridwidth\": 2, \"linecolor\": \"white\", \"showbackground\": true, \"ticks\": \"\", \"zerolinecolor\": \"white\"}, \"yaxis\": {\"backgroundcolor\": \"#E5ECF6\", \"gridcolor\": \"white\", \"gridwidth\": 2, \"linecolor\": \"white\", \"showbackground\": true, \"ticks\": \"\", \"zerolinecolor\": \"white\"}, \"zaxis\": {\"backgroundcolor\": \"#E5ECF6\", \"gridcolor\": \"white\", \"gridwidth\": 2, \"linecolor\": \"white\", \"showbackground\": true, \"ticks\": \"\", \"zerolinecolor\": \"white\"}}, \"shapedefaults\": {\"line\": {\"color\": \"#2a3f5f\"}}, \"ternary\": {\"aaxis\": {\"gridcolor\": \"white\", \"linecolor\": \"white\", \"ticks\": \"\"}, \"baxis\": {\"gridcolor\": \"white\", \"linecolor\": \"white\", \"ticks\": \"\"}, \"bgcolor\": \"#E5ECF6\", \"caxis\": {\"gridcolor\": \"white\", \"linecolor\": \"white\", \"ticks\": \"\"}}, \"title\": {\"x\": 0.05}, \"xaxis\": {\"automargin\": true, \"gridcolor\": \"white\", \"linecolor\": \"white\", \"ticks\": \"\", \"title\": {\"standoff\": 15}, \"zerolinecolor\": \"white\", \"zerolinewidth\": 2}, \"yaxis\": {\"automargin\": true, \"gridcolor\": \"white\", \"linecolor\": \"white\", \"ticks\": \"\", \"title\": {\"standoff\": 15}, \"zerolinecolor\": \"white\", \"zerolinewidth\": 2}}}, \"title\": {\"text\": \"2017 Monthly installation Trend\"}, \"xaxis\": {\"anchor\": \"y\", \"categoryarray\": [\"January\", \"February\", \"March\", \"April\", \"May\", \"June\", \"July\", \"August\", \"September\", \"October\", \"November\", \"December\"], \"categoryorder\": \"array\", \"domain\": [0.0, 1.0], \"title\": {\"text\": \"Month\"}}, \"yaxis\": {\"anchor\": \"x\", \"domain\": [0.0, 1.0], \"title\": {\"text\": \"Installs\"}}},\n",
              "                        {\"responsive\": true}\n",
              "                    ).then(function(){\n",
              "                            \n",
              "var gd = document.getElementById('249d87f5-0762-475e-a4d0-6e8b7f5afb74');\n",
              "var x = new MutationObserver(function (mutations, observer) {{\n",
              "        var display = window.getComputedStyle(gd).display;\n",
              "        if (!display || display === 'none') {{\n",
              "            console.log([gd, 'removed!']);\n",
              "            Plotly.purge(gd);\n",
              "            observer.disconnect();\n",
              "        }}\n",
              "}});\n",
              "\n",
              "// Listen for the removal of the full notebook cells\n",
              "var notebookContainer = gd.closest('#notebook-container');\n",
              "if (notebookContainer) {{\n",
              "    x.observe(notebookContainer, {childList: true});\n",
              "}}\n",
              "\n",
              "// Listen for the clearing of the current output cell\n",
              "var outputEl = gd.closest('.output');\n",
              "if (outputEl) {{\n",
              "    x.observe(outputEl, {childList: true});\n",
              "}}\n",
              "\n",
              "                        })\n",
              "                };\n",
              "                \n",
              "            </script>\n",
              "        </div>\n",
              "</body>\n",
              "</html>"
            ]
          },
          "metadata": {}
        },
        {
          "output_type": "display_data",
          "data": {
            "text/html": [
              "<html>\n",
              "<head><meta charset=\"utf-8\" /></head>\n",
              "<body>\n",
              "    <div>\n",
              "            <script src=\"https://cdnjs.cloudflare.com/ajax/libs/mathjax/2.7.5/MathJax.js?config=TeX-AMS-MML_SVG\"></script><script type=\"text/javascript\">if (window.MathJax) {MathJax.Hub.Config({SVG: {font: \"STIX-Web\"}});}</script>\n",
              "                <script type=\"text/javascript\">window.PlotlyConfig = {MathJaxConfig: 'local'};</script>\n",
              "        <script src=\"https://cdn.plot.ly/plotly-latest.min.js\"></script>    \n",
              "            <div id=\"38c58a98-5f39-4058-b69b-7688b3dd680d\" class=\"plotly-graph-div\" style=\"height:525px; width:100%;\"></div>\n",
              "            <script type=\"text/javascript\">\n",
              "                \n",
              "                    window.PLOTLYENV=window.PLOTLYENV || {};\n",
              "                    \n",
              "                if (document.getElementById(\"38c58a98-5f39-4058-b69b-7688b3dd680d\")) {\n",
              "                    Plotly.newPlot(\n",
              "                        '38c58a98-5f39-4058-b69b-7688b3dd680d',\n",
              "                        [{\"alignmentgroup\": \"True\", \"hoverlabel\": {\"namelength\": 0}, \"hovertemplate\": \"Category=FAMILY<br>Month=%{x}<br>Installs=%{y}\", \"legendgroup\": \"Category=FAMILY\", \"marker\": {\"color\": \"#636efa\"}, \"name\": \"Category=FAMILY\", \"offsetgroup\": \"Category=FAMILY\", \"orientation\": \"v\", \"showlegend\": true, \"textposition\": \"auto\", \"type\": \"bar\", \"x\": [\"April\", \"April\", \"April\", \"April\", \"April\", \"April\", \"April\", \"April\", \"April\", \"April\", \"August\", \"August\", \"August\", \"August\", \"August\", \"August\", \"August\", \"August\", \"August\", \"August\", \"August\", \"August\", \"August\", \"August\", \"August\", \"December\", \"December\", \"December\", \"December\", \"December\", \"December\", \"December\", \"December\", \"December\", \"December\", \"December\", \"December\", \"December\", \"December\", \"December\", \"December\", \"December\", \"December\", \"December\", \"December\", \"December\", \"December\", \"December\", \"February\", \"February\", \"February\", \"February\", \"February\", \"February\", \"February\", \"February\", \"February\", \"February\", \"February\", \"February\", \"January\", \"January\", \"January\", \"January\", \"January\", \"January\", \"January\", \"January\", \"January\", \"January\", \"January\", \"January\", \"July\", \"July\", \"July\", \"July\", \"July\", \"July\", \"July\", \"July\", \"July\", \"July\", \"July\", \"July\", \"July\", \"July\", \"July\", \"July\", \"July\", \"July\", \"June\", \"June\", \"June\", \"June\", \"June\", \"June\", \"June\", \"June\", \"June\", \"June\", \"June\", \"June\", \"June\", \"June\", \"June\", \"June\", \"June\", \"June\", \"March\", \"March\", \"March\", \"March\", \"March\", \"March\", \"March\", \"March\", \"March\", \"March\", \"March\", \"March\", \"May\", \"May\", \"May\", \"May\", \"May\", \"May\", \"May\", \"May\", \"May\", \"May\", \"November\", \"November\", \"November\", \"November\", \"November\", \"November\", \"November\", \"November\", \"November\", \"November\", \"November\", \"November\", \"November\", \"November\", \"November\", \"November\", \"November\", \"November\", \"November\", \"November\", \"November\", \"November\", \"October\", \"October\", \"October\", \"October\", \"October\", \"October\", \"October\", \"October\", \"October\", \"October\", \"October\", \"October\", \"October\", \"October\", \"October\", \"October\", \"October\", \"September\", \"September\", \"September\", \"September\", \"September\", \"September\", \"September\", \"September\", \"September\", \"September\", \"September\", \"September\", \"September\", \"September\", \"September\", \"September\", \"September\", \"September\", \"September\", \"September\", \"September\"], \"xaxis\": \"x\", \"y\": [0, 1000, 1000000, 10000, 10000, 10000, 10000, 10000, 100000, 500, 1000, 1000000, 1000000, 10000, 10000, 10000000, 100, 100000, 100000, 5000000, 5000000, 5000000, 50000, 500, 500, 1000, 1000, 1000, 1000, 1000000, 1000000, 1000000, 1000000, 1000000, 1000000, 1000000, 1000000, 10000000, 10000000, 100, 100000, 100000, 5000, 5000, 5000000, 50000, 500, 500000, 1000000, 1000000, 1000000, 1000000, 10000, 10000, 10000, 10000, 100000, 100000, 100000, 50000, 1000, 1000, 1000, 1000000, 10, 10000, 100, 5000, 5000, 5000, 50, 500000, 1000, 1000, 1000, 1000000, 1000000, 1000000, 10000, 10000, 10000, 10000, 10000, 10000000, 100, 100000, 100000, 5000, 5000000, 5000000, 1000000, 1000000, 1000000, 1000000, 10000, 10000, 10000, 10000, 10000000, 100, 100000, 100000, 5000, 5000000, 50000, 50000, 500, 500000, 1000000, 10, 10000, 100, 100000, 5000, 50000, 50000, 500, 500, 500000, 500000, 1000, 1000000, 10000, 10000000, 100000, 5, 50, 50000, 500, 500, 1000, 1000, 1000, 1000, 1000000, 10, 10000, 10000, 10000, 10000, 100000, 100000, 100000, 100000, 5000, 5000000, 50000000, 500, 500, 500, 500, 500000, 1000, 1000, 1000, 1000, 1000000, 1000000, 1000000, 10, 10, 10000, 100, 5000, 5000000, 5000000, 50000, 50000, 50000, 1000, 1000, 1000000, 10000, 10000, 100, 100, 100, 100000, 100000, 100000, 5000, 50, 50000, 50000, 500, 500, 500, 500000, 500000, 500000], \"yaxis\": \"y\"}, {\"alignmentgroup\": \"True\", \"hoverlabel\": {\"namelength\": 0}, \"hovertemplate\": \"Category=GAME<br>Month=%{x}<br>Installs=%{y}\", \"legendgroup\": \"Category=GAME\", \"marker\": {\"color\": \"#EF553B\"}, \"name\": \"Category=GAME\", \"offsetgroup\": \"Category=GAME\", \"orientation\": \"v\", \"showlegend\": true, \"textposition\": \"auto\", \"type\": \"bar\", \"x\": [\"April\", \"April\", \"April\", \"April\", \"April\", \"April\", \"August\", \"August\", \"August\", \"August\", \"August\", \"December\", \"December\", \"December\", \"December\", \"December\", \"December\", \"December\", \"December\", \"December\", \"December\", \"December\", \"December\", \"December\", \"February\", \"February\", \"February\", \"February\", \"January\", \"January\", \"January\", \"July\", \"July\", \"July\", \"July\", \"July\", \"July\", \"July\", \"July\", \"July\", \"July\", \"July\", \"June\", \"June\", \"June\", \"June\", \"March\", \"March\", \"March\", \"March\", \"March\", \"March\", \"March\", \"March\", \"March\", \"May\", \"May\", \"May\", \"November\", \"November\", \"November\", \"November\", \"November\", \"November\", \"October\", \"October\", \"October\", \"October\", \"October\", \"October\", \"October\", \"October\", \"October\", \"September\", \"September\", \"September\", \"September\", \"September\", \"September\"], \"xaxis\": \"x\", \"y\": [1000, 1000, 10, 10000, 100000, 5000000, 1000000, 1000000, 10000, 5000000, 50000, 1000000, 10000, 10000, 10000, 10000000, 10000000, 100000, 100000, 5000000, 5000000, 50000, 500, 500000, 1000, 1000000, 10000, 10000000, 1000, 1000000, 1000000, 1, 1000000, 1000000, 1000000, 1000000, 10000, 10000000, 10000000, 100000, 100000000, 5000, 1000, 1000000, 100000, 100000, 1000, 1000000, 10, 10000, 10000000, 5000, 50000, 500, 500, 10000000, 50000, 500000, 1000000, 10000000, 100, 50000, 50000000, 500000, 1000, 1000000, 10000, 100, 100000, 100000, 5000000, 5000000, 500000, 1000, 1000000, 10000, 500000, 500000, 500000], \"yaxis\": \"y\"}, {\"alignmentgroup\": \"True\", \"hoverlabel\": {\"namelength\": 0}, \"hovertemplate\": \"Category=PERSONALIZATION<br>Month=%{x}<br>Installs=%{y}\", \"legendgroup\": \"Category=PERSONALIZATION\", \"marker\": {\"color\": \"#00cc96\"}, \"name\": \"Category=PERSONALIZATION\", \"offsetgroup\": \"Category=PERSONALIZATION\", \"orientation\": \"v\", \"showlegend\": true, \"textposition\": \"auto\", \"type\": \"bar\", \"x\": [\"April\", \"April\", \"April\", \"August\", \"August\", \"August\", \"December\", \"December\", \"December\", \"December\", \"December\", \"February\", \"February\", \"February\", \"February\", \"January\", \"January\", \"January\", \"July\", \"July\", \"July\", \"June\", \"June\", \"June\", \"June\", \"June\", \"June\", \"June\", \"June\", \"June\", \"June\", \"June\", \"June\", \"June\", \"March\", \"May\", \"May\", \"May\", \"May\", \"May\", \"May\", \"November\", \"November\", \"November\", \"November\", \"November\", \"November\", \"October\", \"October\", \"October\", \"October\", \"October\", \"October\", \"October\", \"September\", \"September\"], \"xaxis\": \"x\", \"y\": [1000, 10000, 100000, 1000000, 100, 5, 1000, 1000000, 1000000, 100, 50, 1000, 1000000, 1000000, 500000, 500, 500000, 500000, 1000, 100, 500000, 1000, 1000, 1000, 1000, 1000, 1000000, 10000, 10000, 100, 100, 5000, 500, 500000, 10000, 1000, 1000000, 1000000, 10000, 10000, 100, 1000, 10000, 10000000, 100000, 100000, 5000000, 1000000, 10000, 100, 100, 100, 5000, 50, 10000, 100], \"yaxis\": \"y\"}, {\"alignmentgroup\": \"True\", \"hoverlabel\": {\"namelength\": 0}, \"hovertemplate\": \"Category=PRODUCTIVITY<br>Month=%{x}<br>Installs=%{y}\", \"legendgroup\": \"Category=PRODUCTIVITY\", \"marker\": {\"color\": \"#ab63fa\"}, \"name\": \"Category=PRODUCTIVITY\", \"offsetgroup\": \"Category=PRODUCTIVITY\", \"orientation\": \"v\", \"showlegend\": true, \"textposition\": \"auto\", \"type\": \"bar\", \"x\": [\"April\", \"April\", \"April\", \"April\", \"August\", \"August\", \"August\", \"December\", \"December\", \"December\", \"December\", \"December\", \"December\", \"December\", \"February\", \"January\", \"January\", \"July\", \"July\", \"July\", \"June\", \"June\", \"March\", \"November\", \"November\", \"November\", \"October\", \"October\", \"October\", \"October\", \"October\", \"October\", \"October\", \"September\", \"September\", \"September\"], \"xaxis\": \"x\", \"y\": [1000, 1000000, 5000, 5000000, 100, 100000, 50000000, 1000000, 1000000, 10, 10, 10000000, 100000, 100000, 1000000, 10000000, 50000, 1000, 100, 50000, 10000, 100, 5000, 1000, 1000000, 500, 1000000, 1000000, 10000000, 100, 100000, 5000000, 500000, 100, 100000, 5000], \"yaxis\": \"y\"}, {\"alignmentgroup\": \"True\", \"hoverlabel\": {\"namelength\": 0}, \"hovertemplate\": \"Category=SHOPPING<br>Month=%{x}<br>Installs=%{y}\", \"legendgroup\": \"Category=SHOPPING\", \"marker\": {\"color\": \"#FFA15A\"}, \"name\": \"Category=SHOPPING\", \"offsetgroup\": \"Category=SHOPPING\", \"orientation\": \"v\", \"showlegend\": true, \"textposition\": \"auto\", \"type\": \"bar\", \"x\": [\"April\", \"August\", \"July\", \"May\", \"November\", \"September\", \"September\"], \"xaxis\": \"x\", \"y\": [1000, 100, 5000, 1000, 100000, 100, 5000], \"yaxis\": \"y\"}, {\"alignmentgroup\": \"True\", \"hoverlabel\": {\"namelength\": 0}, \"hovertemplate\": \"Category=TOOLS<br>Month=%{x}<br>Installs=%{y}\", \"legendgroup\": \"Category=TOOLS\", \"marker\": {\"color\": \"#19d3f3\"}, \"name\": \"Category=TOOLS\", \"offsetgroup\": \"Category=TOOLS\", \"orientation\": \"v\", \"showlegend\": true, \"textposition\": \"auto\", \"type\": \"bar\", \"x\": [\"April\", \"April\", \"April\", \"April\", \"April\", \"April\", \"April\", \"August\", \"August\", \"August\", \"August\", \"August\", \"December\", \"December\", \"December\", \"December\", \"December\", \"December\", \"December\", \"December\", \"December\", \"February\", \"February\", \"February\", \"February\", \"February\", \"February\", \"February\", \"February\", \"January\", \"January\", \"January\", \"July\", \"July\", \"July\", \"July\", \"July\", \"July\", \"July\", \"July\", \"July\", \"June\", \"June\", \"June\", \"June\", \"March\", \"March\", \"March\", \"March\", \"May\", \"May\", \"May\", \"May\", \"May\", \"May\", \"November\", \"November\", \"October\", \"October\", \"October\", \"October\", \"October\", \"October\", \"October\", \"September\", \"September\", \"September\", \"September\", \"September\", \"September\", \"September\", \"September\", \"September\"], \"xaxis\": \"x\", \"y\": [1000, 1000000, 10000, 10000, 100, 100000, 5000, 1000, 1000, 10000, 100, 100000, 1000, 1000000, 10000, 10000, 100, 5000, 5000000, 5000000, 500, 1000000, 10, 10000, 100000, 100000, 500000, 500000, 500000, 1000, 10000, 50000000, 1000, 1000000, 1000000, 10000, 10000, 10000, 100000000, 5000000, 500000, 1000000, 10000, 10000, 100000, 1000, 50000, 50000, 50000000, 1000000, 10000, 100, 5000, 5000, 5000000, 10000, 50000, 10000, 10000, 10000, 100, 100000, 5000000, 500, 1000, 1000, 10000, 10000, 10000000, 100000, 100000, 5000, 50000], \"yaxis\": \"y\"}, {\"alignmentgroup\": \"True\", \"hoverlabel\": {\"namelength\": 0}, \"hovertemplate\": \"Category=BUSINESS<br>Month=%{x}<br>Installs=%{y}\", \"legendgroup\": \"Category=BUSINESS\", \"marker\": {\"color\": \"#FF6692\"}, \"name\": \"Category=BUSINESS\", \"offsetgroup\": \"Category=BUSINESS\", \"orientation\": \"v\", \"showlegend\": true, \"textposition\": \"auto\", \"type\": \"bar\", \"x\": [\"April\", \"April\", \"April\", \"December\", \"December\", \"December\", \"December\", \"December\", \"December\", \"February\", \"February\", \"January\", \"January\", \"July\", \"July\", \"July\", \"July\", \"March\", \"March\", \"March\", \"May\", \"May\", \"November\", \"November\", \"November\", \"November\", \"November\", \"November\", \"November\", \"October\", \"October\", \"October\", \"October\", \"October\", \"October\", \"September\", \"September\", \"September\"], \"xaxis\": \"x\", \"y\": [1000000, 10, 10000, 1000, 1000, 10, 10, 10000, 100, 1000, 10000, 100, 50, 1000, 1000, 1000, 10000, 1000000, 10000, 100, 500, 500000, 1000, 10, 10000, 5, 5, 5000, 500, 1, 1000, 1000, 1000, 10000, 10000, 10, 10000, 500], \"yaxis\": \"y\"}, {\"alignmentgroup\": \"True\", \"hoverlabel\": {\"namelength\": 0}, \"hovertemplate\": \"Category=PHOTOGRAPHY<br>Month=%{x}<br>Installs=%{y}\", \"legendgroup\": \"Category=PHOTOGRAPHY\", \"marker\": {\"color\": \"#B6E880\"}, \"name\": \"Category=PHOTOGRAPHY\", \"offsetgroup\": \"Category=PHOTOGRAPHY\", \"orientation\": \"v\", \"showlegend\": true, \"textposition\": \"auto\", \"type\": \"bar\", \"x\": [\"April\", \"April\", \"August\", \"August\", \"August\", \"December\", \"January\", \"January\", \"July\", \"July\", \"July\", \"June\", \"March\", \"March\", \"May\", \"November\", \"November\", \"October\", \"October\", \"October\", \"October\", \"September\", \"September\"], \"xaxis\": \"x\", \"y\": [1000000, 10000, 10000, 100, 100000, 1000, 10000, 50000000, 10000000, 5000000, 500, 10000000, 10000000, 100000, 1000, 10000, 10000, 1000, 1000000, 5000000, 50, 1000, 1000000], \"yaxis\": \"y\"}, {\"alignmentgroup\": \"True\", \"hoverlabel\": {\"namelength\": 0}, \"hovertemplate\": \"Category=HEALTH_AND_FITNESS<br>Month=%{x}<br>Installs=%{y}\", \"legendgroup\": \"Category=HEALTH_AND_FITNESS\", \"marker\": {\"color\": \"#FF97FF\"}, \"name\": \"Category=HEALTH_AND_FITNESS\", \"offsetgroup\": \"Category=HEALTH_AND_FITNESS\", \"orientation\": \"v\", \"showlegend\": true, \"textposition\": \"auto\", \"type\": \"bar\", \"x\": [\"April\", \"April\", \"August\", \"December\", \"February\", \"January\", \"July\", \"July\", \"June\", \"March\", \"March\", \"November\", \"October\", \"September\", \"September\"], \"xaxis\": \"x\", \"y\": [10, 5000, 100000, 1000, 1000, 10000, 1000, 100000, 500000, 10000, 500000, 50, 500000, 10000, 5000], \"yaxis\": \"y\"}, {\"alignmentgroup\": \"True\", \"hoverlabel\": {\"namelength\": 0}, \"hovertemplate\": \"Category=LIFESTYLE<br>Month=%{x}<br>Installs=%{y}\", \"legendgroup\": \"Category=LIFESTYLE\", \"marker\": {\"color\": \"#FECB52\"}, \"name\": \"Category=LIFESTYLE\", \"offsetgroup\": \"Category=LIFESTYLE\", \"orientation\": \"v\", \"showlegend\": true, \"textposition\": \"auto\", \"type\": \"bar\", \"x\": [\"April\", \"April\", \"April\", \"April\", \"August\", \"December\", \"December\", \"December\", \"December\", \"December\", \"February\", \"February\", \"January\", \"January\", \"July\", \"July\", \"July\", \"June\", \"June\", \"June\", \"March\", \"March\", \"May\", \"May\", \"May\", \"May\", \"May\", \"November\", \"November\", \"November\", \"November\", \"November\", \"October\", \"September\", \"September\", \"September\", \"September\"], \"xaxis\": \"x\", \"y\": [10, 100, 100, 5000, 5000, 1000, 1000000, 10000, 100, 50000, 10, 500000, 1000, 500, 1000, 10, 100, 1000, 10000, 10000000, 1000, 500, 1000, 1000, 10, 10, 100, 1000, 1000000, 10000, 100, 50, 500, 1000, 10000, 100, 100000], \"yaxis\": \"y\"}, {\"alignmentgroup\": \"True\", \"hoverlabel\": {\"namelength\": 0}, \"hovertemplate\": \"Category=COMMUNICATION<br>Month=%{x}<br>Installs=%{y}\", \"legendgroup\": \"Category=COMMUNICATION\", \"marker\": {\"color\": \"#636efa\"}, \"name\": \"Category=COMMUNICATION\", \"offsetgroup\": \"Category=COMMUNICATION\", \"orientation\": \"v\", \"showlegend\": true, \"textposition\": \"auto\", \"type\": \"bar\", \"x\": [\"April\", \"April\", \"April\", \"August\", \"August\", \"December\", \"February\", \"July\", \"July\", \"July\", \"July\", \"July\", \"June\", \"May\", \"November\", \"November\", \"November\", \"November\", \"November\", \"October\", \"September\", \"September\"], \"xaxis\": \"x\", \"y\": [10000000, 100, 5000, 100, 50000, 100000, 10000, 10000, 100000, 5000, 500, 500, 1000000, 5000, 1000, 1000000, 10000000, 100, 500, 10000000, 1000000, 5000], \"yaxis\": \"y\"}, {\"alignmentgroup\": \"True\", \"hoverlabel\": {\"namelength\": 0}, \"hovertemplate\": \"Category=ENTERTAINMENT<br>Month=%{x}<br>Installs=%{y}\", \"legendgroup\": \"Category=ENTERTAINMENT\", \"marker\": {\"color\": \"#EF553B\"}, \"name\": \"Category=ENTERTAINMENT\", \"offsetgroup\": \"Category=ENTERTAINMENT\", \"orientation\": \"v\", \"showlegend\": true, \"textposition\": \"auto\", \"type\": \"bar\", \"x\": [\"April\", \"September\"], \"xaxis\": \"x\", \"y\": [10000000, 10000000], \"yaxis\": \"y\"}, {\"alignmentgroup\": \"True\", \"hoverlabel\": {\"namelength\": 0}, \"hovertemplate\": \"Category=SPORTS<br>Month=%{x}<br>Installs=%{y}\", \"legendgroup\": \"Category=SPORTS\", \"marker\": {\"color\": \"#00cc96\"}, \"name\": \"Category=SPORTS\", \"offsetgroup\": \"Category=SPORTS\", \"orientation\": \"v\", \"showlegend\": true, \"textposition\": \"auto\", \"type\": \"bar\", \"x\": [\"April\", \"August\", \"August\", \"August\", \"August\", \"August\", \"December\", \"February\", \"January\", \"January\", \"July\", \"June\", \"June\", \"March\", \"May\", \"October\", \"October\"], \"xaxis\": \"x\", \"y\": [100, 1000, 10000, 10000, 100, 500, 10000000, 10000, 1000000, 5000, 1000000, 100000, 5000, 5000, 5000000, 100, 50000], \"yaxis\": \"y\"}, {\"alignmentgroup\": \"True\", \"hoverlabel\": {\"namelength\": 0}, \"hovertemplate\": \"Category=BOOKS_AND_REFERENCE<br>Month=%{x}<br>Installs=%{y}\", \"legendgroup\": \"Category=BOOKS_AND_REFERENCE\", \"marker\": {\"color\": \"#ab63fa\"}, \"name\": \"Category=BOOKS_AND_REFERENCE\", \"offsetgroup\": \"Category=BOOKS_AND_REFERENCE\", \"orientation\": \"v\", \"showlegend\": true, \"textposition\": \"auto\", \"type\": \"bar\", \"x\": [\"April\", \"April\", \"August\", \"August\", \"December\", \"December\", \"December\", \"January\", \"July\", \"July\", \"June\", \"June\", \"June\", \"June\", \"June\", \"March\", \"March\", \"May\", \"November\", \"November\", \"October\", \"October\", \"October\", \"October\", \"October\", \"October\", \"September\"], \"xaxis\": \"x\", \"y\": [100000, 5000, 1000, 100000, 10000, 100, 500000, 1000, 1000, 10000, 10, 10000, 10000, 100, 50000, 50000, 500, 1000, 1, 10, 1000, 1000, 10000, 5000, 5000, 50000, 1000], \"yaxis\": \"y\"}, {\"alignmentgroup\": \"True\", \"hoverlabel\": {\"namelength\": 0}, \"hovertemplate\": \"Category=SOCIAL<br>Month=%{x}<br>Installs=%{y}\", \"legendgroup\": \"Category=SOCIAL\", \"marker\": {\"color\": \"#FFA15A\"}, \"name\": \"Category=SOCIAL\", \"offsetgroup\": \"Category=SOCIAL\", \"orientation\": \"v\", \"showlegend\": true, \"textposition\": \"auto\", \"type\": \"bar\", \"x\": [\"April\", \"December\", \"December\", \"December\", \"February\", \"July\", \"July\", \"June\", \"June\", \"June\", \"June\", \"May\", \"May\", \"November\", \"November\", \"October\", \"October\"], \"xaxis\": \"x\", \"y\": [50, 10000, 50, 50000, 5000000, 10000000, 500, 1000, 10000, 10000000, 500000, 1000, 5000000, 10, 100, 10000, 10000], \"yaxis\": \"y\"}, {\"alignmentgroup\": \"True\", \"hoverlabel\": {\"namelength\": 0}, \"hovertemplate\": \"Category=TRAVEL_AND_LOCAL<br>Month=%{x}<br>Installs=%{y}\", \"legendgroup\": \"Category=TRAVEL_AND_LOCAL\", \"marker\": {\"color\": \"#19d3f3\"}, \"name\": \"Category=TRAVEL_AND_LOCAL\", \"offsetgroup\": \"Category=TRAVEL_AND_LOCAL\", \"orientation\": \"v\", \"showlegend\": true, \"textposition\": \"auto\", \"type\": \"bar\", \"x\": [\"August\", \"August\", \"August\", \"August\", \"December\", \"January\", \"January\", \"July\", \"July\", \"July\", \"March\", \"March\", \"May\", \"May\", \"November\", \"October\", \"October\", \"October\"], \"xaxis\": \"x\", \"y\": [1000, 1000, 1000000, 100, 10000000, 10000, 100000, 100, 100000, 5000000, 10000, 100000, 1000, 5000, 100, 10000, 10000, 10000], \"yaxis\": \"y\"}, {\"alignmentgroup\": \"True\", \"hoverlabel\": {\"namelength\": 0}, \"hovertemplate\": \"Category=MAPS_AND_NAVIGATION<br>Month=%{x}<br>Installs=%{y}\", \"legendgroup\": \"Category=MAPS_AND_NAVIGATION\", \"marker\": {\"color\": \"#FF6692\"}, \"name\": \"Category=MAPS_AND_NAVIGATION\", \"offsetgroup\": \"Category=MAPS_AND_NAVIGATION\", \"orientation\": \"v\", \"showlegend\": true, \"textposition\": \"auto\", \"type\": \"bar\", \"x\": [\"August\", \"August\", \"February\", \"February\", \"October\"], \"xaxis\": \"x\", \"y\": [10000, 10000000, 100, 5000, 100], \"yaxis\": \"y\"}, {\"alignmentgroup\": \"True\", \"hoverlabel\": {\"namelength\": 0}, \"hovertemplate\": \"Category=EVENTS<br>Month=%{x}<br>Installs=%{y}\", \"legendgroup\": \"Category=EVENTS\", \"marker\": {\"color\": \"#B6E880\"}, \"name\": \"Category=EVENTS\", \"offsetgroup\": \"Category=EVENTS\", \"orientation\": \"v\", \"showlegend\": true, \"textposition\": \"auto\", \"type\": \"bar\", \"x\": [\"August\", \"November\"], \"xaxis\": \"x\", \"y\": [100, 100000], \"yaxis\": \"y\"}, {\"alignmentgroup\": \"True\", \"hoverlabel\": {\"namelength\": 0}, \"hovertemplate\": \"Category=LIBRARIES_AND_DEMO<br>Month=%{x}<br>Installs=%{y}\", \"legendgroup\": \"Category=LIBRARIES_AND_DEMO\", \"marker\": {\"color\": \"#FF97FF\"}, \"name\": \"Category=LIBRARIES_AND_DEMO\", \"offsetgroup\": \"Category=LIBRARIES_AND_DEMO\", \"orientation\": \"v\", \"showlegend\": true, \"textposition\": \"auto\", \"type\": \"bar\", \"x\": [\"August\", \"July\", \"June\", \"March\", \"November\", \"November\"], \"xaxis\": \"x\", \"y\": [100, 10, 500, 10000000, 100000, 5000000], \"yaxis\": \"y\"}, {\"alignmentgroup\": \"True\", \"hoverlabel\": {\"namelength\": 0}, \"hovertemplate\": \"Category=FOOD_AND_DRINK<br>Month=%{x}<br>Installs=%{y}\", \"legendgroup\": \"Category=FOOD_AND_DRINK\", \"marker\": {\"color\": \"#FECB52\"}, \"name\": \"Category=FOOD_AND_DRINK\", \"offsetgroup\": \"Category=FOOD_AND_DRINK\", \"orientation\": \"v\", \"showlegend\": true, \"textposition\": \"auto\", \"type\": \"bar\", \"x\": [\"August\", \"August\", \"November\", \"November\", \"October\"], \"xaxis\": \"x\", \"y\": [5000, 500, 100, 50, 1000000], \"yaxis\": \"y\"}, {\"alignmentgroup\": \"True\", \"hoverlabel\": {\"namelength\": 0}, \"hovertemplate\": \"Category=PARENTING<br>Month=%{x}<br>Installs=%{y}\", \"legendgroup\": \"Category=PARENTING\", \"marker\": {\"color\": \"#636efa\"}, \"name\": \"Category=PARENTING\", \"offsetgroup\": \"Category=PARENTING\", \"orientation\": \"v\", \"showlegend\": true, \"textposition\": \"auto\", \"type\": \"bar\", \"x\": [\"August\", \"June\"], \"xaxis\": \"x\", \"y\": [50000, 100], \"yaxis\": \"y\"}, {\"alignmentgroup\": \"True\", \"hoverlabel\": {\"namelength\": 0}, \"hovertemplate\": \"Category=WEATHER<br>Month=%{x}<br>Installs=%{y}\", \"legendgroup\": \"Category=WEATHER\", \"marker\": {\"color\": \"#EF553B\"}, \"name\": \"Category=WEATHER\", \"offsetgroup\": \"Category=WEATHER\", \"orientation\": \"v\", \"showlegend\": true, \"textposition\": \"auto\", \"type\": \"bar\", \"x\": [\"August\", \"March\"], \"xaxis\": \"x\", \"y\": [500, 1000], \"yaxis\": \"y\"}, {\"alignmentgroup\": \"True\", \"hoverlabel\": {\"namelength\": 0}, \"hovertemplate\": \"Category=MEDICAL<br>Month=%{x}<br>Installs=%{y}\", \"legendgroup\": \"Category=MEDICAL\", \"marker\": {\"color\": \"#00cc96\"}, \"name\": \"Category=MEDICAL\", \"offsetgroup\": \"Category=MEDICAL\", \"orientation\": \"v\", \"showlegend\": true, \"textposition\": \"auto\", \"type\": \"bar\", \"x\": [\"December\", \"December\", \"January\", \"January\", \"January\", \"July\", \"July\", \"July\", \"June\", \"June\", \"May\", \"May\", \"November\", \"October\", \"October\", \"October\", \"October\", \"October\", \"September\", \"September\"], \"xaxis\": \"x\", \"y\": [1000, 100, 1000, 500, 500, 1000, 100, 100, 1000, 1000, 10000, 500, 1000, 1000, 10000, 100000, 5000, 50000, 100000, 50000], \"yaxis\": \"y\"}, {\"alignmentgroup\": \"True\", \"hoverlabel\": {\"namelength\": 0}, \"hovertemplate\": \"Category=NEWS_AND_MAGAZINES<br>Month=%{x}<br>Installs=%{y}\", \"legendgroup\": \"Category=NEWS_AND_MAGAZINES\", \"marker\": {\"color\": \"#ab63fa\"}, \"name\": \"Category=NEWS_AND_MAGAZINES\", \"offsetgroup\": \"Category=NEWS_AND_MAGAZINES\", \"orientation\": \"v\", \"showlegend\": true, \"textposition\": \"auto\", \"type\": \"bar\", \"x\": [\"December\", \"February\", \"February\", \"February\", \"July\", \"July\", \"June\", \"June\", \"June\", \"March\", \"May\", \"May\", \"May\", \"November\", \"September\"], \"xaxis\": \"x\", \"y\": [100, 1000, 10000, 100000, 10, 10000, 1000, 10000, 100, 100000, 10000, 100, 100, 1000, 500], \"yaxis\": \"y\"}, {\"alignmentgroup\": \"True\", \"hoverlabel\": {\"namelength\": 0}, \"hovertemplate\": \"Category=EDUCATION<br>Month=%{x}<br>Installs=%{y}\", \"legendgroup\": \"Category=EDUCATION\", \"marker\": {\"color\": \"#FFA15A\"}, \"name\": \"Category=EDUCATION\", \"offsetgroup\": \"Category=EDUCATION\", \"orientation\": \"v\", \"showlegend\": true, \"textposition\": \"auto\", \"type\": \"bar\", \"x\": [\"December\", \"December\", \"July\", \"July\", \"June\", \"May\", \"November\", \"October\", \"September\"], \"xaxis\": \"x\", \"y\": [100000, 50000, 10000, 100000, 1000000, 500000, 100000, 1000000, 1000000], \"yaxis\": \"y\"}, {\"alignmentgroup\": \"True\", \"hoverlabel\": {\"namelength\": 0}, \"hovertemplate\": \"Category=VIDEO_PLAYERS<br>Month=%{x}<br>Installs=%{y}\", \"legendgroup\": \"Category=VIDEO_PLAYERS\", \"marker\": {\"color\": \"#19d3f3\"}, \"name\": \"Category=VIDEO_PLAYERS\", \"offsetgroup\": \"Category=VIDEO_PLAYERS\", \"orientation\": \"v\", \"showlegend\": true, \"textposition\": \"auto\", \"type\": \"bar\", \"x\": [\"December\", \"December\", \"January\", \"July\", \"July\", \"June\", \"June\", \"June\", \"March\", \"March\", \"March\", \"October\", \"September\", \"September\"], \"xaxis\": \"x\", \"y\": [5000, 50000000, 100000000, 10000, 10000, 10000, 10000000, 500, 1000000, 10000, 50000, 10000000, 10000, 5000], \"yaxis\": \"y\"}, {\"alignmentgroup\": \"True\", \"hoverlabel\": {\"namelength\": 0}, \"hovertemplate\": \"Category=FINANCE<br>Month=%{x}<br>Installs=%{y}\", \"legendgroup\": \"Category=FINANCE\", \"marker\": {\"color\": \"#FF6692\"}, \"name\": \"Category=FINANCE\", \"offsetgroup\": \"Category=FINANCE\", \"orientation\": \"v\", \"showlegend\": true, \"textposition\": \"auto\", \"type\": \"bar\", \"x\": [\"December\", \"February\", \"February\", \"February\", \"February\", \"June\", \"March\", \"May\", \"May\", \"November\", \"October\", \"October\", \"October\", \"September\"], \"xaxis\": \"x\", \"y\": [500, 100, 100, 500, 500, 1000, 100, 1000000, 10000, 1000, 10000, 500, 500000, 500], \"yaxis\": \"y\"}, {\"alignmentgroup\": \"True\", \"hoverlabel\": {\"namelength\": 0}, \"hovertemplate\": \"Category=DATING<br>Month=%{x}<br>Installs=%{y}\", \"legendgroup\": \"Category=DATING\", \"marker\": {\"color\": \"#B6E880\"}, \"name\": \"Category=DATING\", \"offsetgroup\": \"Category=DATING\", \"orientation\": \"v\", \"showlegend\": true, \"textposition\": \"auto\", \"type\": \"bar\", \"x\": [\"February\", \"November\"], \"xaxis\": \"x\", \"y\": [100000, 10000], \"yaxis\": \"y\"}, {\"alignmentgroup\": \"True\", \"hoverlabel\": {\"namelength\": 0}, \"hovertemplate\": \"Category=COMICS<br>Month=%{x}<br>Installs=%{y}\", \"legendgroup\": \"Category=COMICS\", \"marker\": {\"color\": \"#FF97FF\"}, \"name\": \"Category=COMICS\", \"offsetgroup\": \"Category=COMICS\", \"orientation\": \"v\", \"showlegend\": true, \"textposition\": \"auto\", \"type\": \"bar\", \"x\": [\"January\"], \"xaxis\": \"x\", \"y\": [5000], \"yaxis\": \"y\"}, {\"alignmentgroup\": \"True\", \"hoverlabel\": {\"namelength\": 0}, \"hovertemplate\": \"Category=HOUSE_AND_HOME<br>Month=%{x}<br>Installs=%{y}\", \"legendgroup\": \"Category=HOUSE_AND_HOME\", \"marker\": {\"color\": \"#FECB52\"}, \"name\": \"Category=HOUSE_AND_HOME\", \"offsetgroup\": \"Category=HOUSE_AND_HOME\", \"orientation\": \"v\", \"showlegend\": true, \"textposition\": \"auto\", \"type\": \"bar\", \"x\": [\"March\"], \"xaxis\": \"x\", \"y\": [500000], \"yaxis\": \"y\"}, {\"alignmentgroup\": \"True\", \"hoverlabel\": {\"namelength\": 0}, \"hovertemplate\": \"Category=AUTO_AND_VEHICLES<br>Month=%{x}<br>Installs=%{y}\", \"legendgroup\": \"Category=AUTO_AND_VEHICLES\", \"marker\": {\"color\": \"#636efa\"}, \"name\": \"Category=AUTO_AND_VEHICLES\", \"offsetgroup\": \"Category=AUTO_AND_VEHICLES\", \"orientation\": \"v\", \"showlegend\": true, \"textposition\": \"auto\", \"type\": \"bar\", \"x\": [\"November\", \"October\", \"October\"], \"xaxis\": \"x\", \"y\": [1000, 100, 50000], \"yaxis\": \"y\"}, {\"alignmentgroup\": \"True\", \"hoverlabel\": {\"namelength\": 0}, \"hovertemplate\": \"Category=BEAUTY<br>Month=%{x}<br>Installs=%{y}\", \"legendgroup\": \"Category=BEAUTY\", \"marker\": {\"color\": \"#EF553B\"}, \"name\": \"Category=BEAUTY\", \"offsetgroup\": \"Category=BEAUTY\", \"orientation\": \"v\", \"showlegend\": true, \"textposition\": \"auto\", \"type\": \"bar\", \"x\": [\"October\"], \"xaxis\": \"x\", \"y\": [1000000], \"yaxis\": \"y\"}],\n",
              "                        {\"barmode\": \"relative\", \"legend\": {\"tracegroupgap\": 0}, \"template\": {\"data\": {\"bar\": [{\"error_x\": {\"color\": \"#2a3f5f\"}, \"error_y\": {\"color\": \"#2a3f5f\"}, \"marker\": {\"line\": {\"color\": \"#E5ECF6\", \"width\": 0.5}}, \"type\": \"bar\"}], \"barpolar\": [{\"marker\": {\"line\": {\"color\": \"#E5ECF6\", \"width\": 0.5}}, \"type\": \"barpolar\"}], \"carpet\": [{\"aaxis\": {\"endlinecolor\": \"#2a3f5f\", \"gridcolor\": \"white\", \"linecolor\": \"white\", \"minorgridcolor\": \"white\", \"startlinecolor\": \"#2a3f5f\"}, \"baxis\": {\"endlinecolor\": \"#2a3f5f\", \"gridcolor\": \"white\", \"linecolor\": \"white\", \"minorgridcolor\": \"white\", \"startlinecolor\": \"#2a3f5f\"}, \"type\": \"carpet\"}], \"choropleth\": [{\"colorbar\": {\"outlinewidth\": 0, \"ticks\": \"\"}, \"type\": \"choropleth\"}], \"contour\": [{\"colorbar\": {\"outlinewidth\": 0, \"ticks\": \"\"}, \"colorscale\": [[0.0, \"#0d0887\"], [0.1111111111111111, \"#46039f\"], [0.2222222222222222, \"#7201a8\"], [0.3333333333333333, \"#9c179e\"], [0.4444444444444444, \"#bd3786\"], [0.5555555555555556, \"#d8576b\"], [0.6666666666666666, \"#ed7953\"], [0.7777777777777778, \"#fb9f3a\"], [0.8888888888888888, \"#fdca26\"], [1.0, \"#f0f921\"]], \"type\": \"contour\"}], \"contourcarpet\": [{\"colorbar\": {\"outlinewidth\": 0, \"ticks\": \"\"}, \"type\": \"contourcarpet\"}], \"heatmap\": [{\"colorbar\": {\"outlinewidth\": 0, \"ticks\": \"\"}, \"colorscale\": [[0.0, \"#0d0887\"], [0.1111111111111111, \"#46039f\"], [0.2222222222222222, \"#7201a8\"], [0.3333333333333333, \"#9c179e\"], [0.4444444444444444, \"#bd3786\"], [0.5555555555555556, \"#d8576b\"], [0.6666666666666666, \"#ed7953\"], [0.7777777777777778, \"#fb9f3a\"], [0.8888888888888888, \"#fdca26\"], [1.0, \"#f0f921\"]], \"type\": \"heatmap\"}], \"heatmapgl\": [{\"colorbar\": {\"outlinewidth\": 0, \"ticks\": \"\"}, \"colorscale\": [[0.0, \"#0d0887\"], [0.1111111111111111, \"#46039f\"], [0.2222222222222222, \"#7201a8\"], [0.3333333333333333, \"#9c179e\"], [0.4444444444444444, \"#bd3786\"], [0.5555555555555556, \"#d8576b\"], [0.6666666666666666, \"#ed7953\"], [0.7777777777777778, \"#fb9f3a\"], [0.8888888888888888, \"#fdca26\"], [1.0, \"#f0f921\"]], \"type\": \"heatmapgl\"}], \"histogram\": [{\"marker\": {\"colorbar\": {\"outlinewidth\": 0, \"ticks\": \"\"}}, \"type\": \"histogram\"}], \"histogram2d\": [{\"colorbar\": {\"outlinewidth\": 0, \"ticks\": \"\"}, \"colorscale\": [[0.0, \"#0d0887\"], [0.1111111111111111, \"#46039f\"], [0.2222222222222222, \"#7201a8\"], [0.3333333333333333, \"#9c179e\"], [0.4444444444444444, \"#bd3786\"], [0.5555555555555556, \"#d8576b\"], [0.6666666666666666, \"#ed7953\"], [0.7777777777777778, \"#fb9f3a\"], [0.8888888888888888, \"#fdca26\"], [1.0, \"#f0f921\"]], \"type\": \"histogram2d\"}], \"histogram2dcontour\": [{\"colorbar\": {\"outlinewidth\": 0, \"ticks\": \"\"}, \"colorscale\": [[0.0, \"#0d0887\"], [0.1111111111111111, \"#46039f\"], [0.2222222222222222, \"#7201a8\"], [0.3333333333333333, \"#9c179e\"], [0.4444444444444444, \"#bd3786\"], [0.5555555555555556, \"#d8576b\"], [0.6666666666666666, \"#ed7953\"], [0.7777777777777778, \"#fb9f3a\"], [0.8888888888888888, \"#fdca26\"], [1.0, \"#f0f921\"]], \"type\": \"histogram2dcontour\"}], \"mesh3d\": [{\"colorbar\": {\"outlinewidth\": 0, \"ticks\": \"\"}, \"type\": \"mesh3d\"}], \"parcoords\": [{\"line\": {\"colorbar\": {\"outlinewidth\": 0, \"ticks\": \"\"}}, \"type\": \"parcoords\"}], \"pie\": [{\"automargin\": true, \"type\": \"pie\"}], \"scatter\": [{\"marker\": {\"colorbar\": {\"outlinewidth\": 0, \"ticks\": \"\"}}, \"type\": \"scatter\"}], \"scatter3d\": [{\"line\": {\"colorbar\": {\"outlinewidth\": 0, \"ticks\": \"\"}}, \"marker\": {\"colorbar\": {\"outlinewidth\": 0, \"ticks\": \"\"}}, \"type\": \"scatter3d\"}], \"scattercarpet\": [{\"marker\": {\"colorbar\": {\"outlinewidth\": 0, \"ticks\": \"\"}}, \"type\": \"scattercarpet\"}], \"scattergeo\": [{\"marker\": {\"colorbar\": {\"outlinewidth\": 0, \"ticks\": \"\"}}, \"type\": \"scattergeo\"}], \"scattergl\": [{\"marker\": {\"colorbar\": {\"outlinewidth\": 0, \"ticks\": \"\"}}, \"type\": \"scattergl\"}], \"scattermapbox\": [{\"marker\": {\"colorbar\": {\"outlinewidth\": 0, \"ticks\": \"\"}}, \"type\": \"scattermapbox\"}], \"scatterpolar\": [{\"marker\": {\"colorbar\": {\"outlinewidth\": 0, \"ticks\": \"\"}}, \"type\": \"scatterpolar\"}], \"scatterpolargl\": [{\"marker\": {\"colorbar\": {\"outlinewidth\": 0, \"ticks\": \"\"}}, \"type\": \"scatterpolargl\"}], \"scatterternary\": [{\"marker\": {\"colorbar\": {\"outlinewidth\": 0, \"ticks\": \"\"}}, \"type\": \"scatterternary\"}], \"surface\": [{\"colorbar\": {\"outlinewidth\": 0, \"ticks\": \"\"}, \"colorscale\": [[0.0, \"#0d0887\"], [0.1111111111111111, \"#46039f\"], [0.2222222222222222, \"#7201a8\"], [0.3333333333333333, \"#9c179e\"], [0.4444444444444444, \"#bd3786\"], [0.5555555555555556, \"#d8576b\"], [0.6666666666666666, \"#ed7953\"], [0.7777777777777778, \"#fb9f3a\"], [0.8888888888888888, \"#fdca26\"], [1.0, \"#f0f921\"]], \"type\": \"surface\"}], \"table\": [{\"cells\": {\"fill\": {\"color\": \"#EBF0F8\"}, \"line\": {\"color\": \"white\"}}, \"header\": {\"fill\": {\"color\": \"#C8D4E3\"}, \"line\": {\"color\": \"white\"}}, \"type\": \"table\"}]}, \"layout\": {\"annotationdefaults\": {\"arrowcolor\": \"#2a3f5f\", \"arrowhead\": 0, \"arrowwidth\": 1}, \"coloraxis\": {\"colorbar\": {\"outlinewidth\": 0, \"ticks\": \"\"}}, \"colorscale\": {\"diverging\": [[0, \"#8e0152\"], [0.1, \"#c51b7d\"], [0.2, \"#de77ae\"], [0.3, \"#f1b6da\"], [0.4, \"#fde0ef\"], [0.5, \"#f7f7f7\"], [0.6, \"#e6f5d0\"], [0.7, \"#b8e186\"], [0.8, \"#7fbc41\"], [0.9, \"#4d9221\"], [1, \"#276419\"]], \"sequential\": [[0.0, \"#0d0887\"], [0.1111111111111111, \"#46039f\"], [0.2222222222222222, \"#7201a8\"], [0.3333333333333333, \"#9c179e\"], [0.4444444444444444, \"#bd3786\"], [0.5555555555555556, \"#d8576b\"], [0.6666666666666666, \"#ed7953\"], [0.7777777777777778, \"#fb9f3a\"], [0.8888888888888888, \"#fdca26\"], [1.0, \"#f0f921\"]], \"sequentialminus\": [[0.0, \"#0d0887\"], [0.1111111111111111, \"#46039f\"], [0.2222222222222222, \"#7201a8\"], [0.3333333333333333, \"#9c179e\"], [0.4444444444444444, \"#bd3786\"], [0.5555555555555556, \"#d8576b\"], [0.6666666666666666, \"#ed7953\"], [0.7777777777777778, \"#fb9f3a\"], [0.8888888888888888, \"#fdca26\"], [1.0, \"#f0f921\"]]}, \"colorway\": [\"#636efa\", \"#EF553B\", \"#00cc96\", \"#ab63fa\", \"#FFA15A\", \"#19d3f3\", \"#FF6692\", \"#B6E880\", \"#FF97FF\", \"#FECB52\"], \"font\": {\"color\": \"#2a3f5f\"}, \"geo\": {\"bgcolor\": \"white\", \"lakecolor\": \"white\", \"landcolor\": \"#E5ECF6\", \"showlakes\": true, \"showland\": true, \"subunitcolor\": \"white\"}, \"hoverlabel\": {\"align\": \"left\"}, \"hovermode\": \"closest\", \"mapbox\": {\"style\": \"light\"}, \"paper_bgcolor\": \"white\", \"plot_bgcolor\": \"#E5ECF6\", \"polar\": {\"angularaxis\": {\"gridcolor\": \"white\", \"linecolor\": \"white\", \"ticks\": \"\"}, \"bgcolor\": \"#E5ECF6\", \"radialaxis\": {\"gridcolor\": \"white\", \"linecolor\": \"white\", \"ticks\": \"\"}}, \"scene\": {\"xaxis\": {\"backgroundcolor\": \"#E5ECF6\", \"gridcolor\": \"white\", \"gridwidth\": 2, \"linecolor\": \"white\", \"showbackground\": true, \"ticks\": \"\", \"zerolinecolor\": \"white\"}, \"yaxis\": {\"backgroundcolor\": \"#E5ECF6\", \"gridcolor\": \"white\", \"gridwidth\": 2, \"linecolor\": \"white\", \"showbackground\": true, \"ticks\": \"\", \"zerolinecolor\": \"white\"}, \"zaxis\": {\"backgroundcolor\": \"#E5ECF6\", \"gridcolor\": \"white\", \"gridwidth\": 2, \"linecolor\": \"white\", \"showbackground\": true, \"ticks\": \"\", \"zerolinecolor\": \"white\"}}, \"shapedefaults\": {\"line\": {\"color\": \"#2a3f5f\"}}, \"ternary\": {\"aaxis\": {\"gridcolor\": \"white\", \"linecolor\": \"white\", \"ticks\": \"\"}, \"baxis\": {\"gridcolor\": \"white\", \"linecolor\": \"white\", \"ticks\": \"\"}, \"bgcolor\": \"#E5ECF6\", \"caxis\": {\"gridcolor\": \"white\", \"linecolor\": \"white\", \"ticks\": \"\"}}, \"title\": {\"x\": 0.05}, \"xaxis\": {\"automargin\": true, \"gridcolor\": \"white\", \"linecolor\": \"white\", \"ticks\": \"\", \"title\": {\"standoff\": 15}, \"zerolinecolor\": \"white\", \"zerolinewidth\": 2}, \"yaxis\": {\"automargin\": true, \"gridcolor\": \"white\", \"linecolor\": \"white\", \"ticks\": \"\", \"title\": {\"standoff\": 15}, \"zerolinecolor\": \"white\", \"zerolinewidth\": 2}}}, \"title\": {\"text\": \"2016 Monthly installation Trend\"}, \"xaxis\": {\"anchor\": \"y\", \"categoryarray\": [\"January\", \"February\", \"March\", \"April\", \"May\", \"June\", \"July\", \"August\", \"September\", \"October\", \"November\", \"December\"], \"categoryorder\": \"array\", \"domain\": [0.0, 1.0], \"title\": {\"text\": \"Month\"}}, \"yaxis\": {\"anchor\": \"x\", \"domain\": [0.0, 1.0], \"title\": {\"text\": \"Installs\"}}},\n",
              "                        {\"responsive\": true}\n",
              "                    ).then(function(){\n",
              "                            \n",
              "var gd = document.getElementById('38c58a98-5f39-4058-b69b-7688b3dd680d');\n",
              "var x = new MutationObserver(function (mutations, observer) {{\n",
              "        var display = window.getComputedStyle(gd).display;\n",
              "        if (!display || display === 'none') {{\n",
              "            console.log([gd, 'removed!']);\n",
              "            Plotly.purge(gd);\n",
              "            observer.disconnect();\n",
              "        }}\n",
              "}});\n",
              "\n",
              "// Listen for the removal of the full notebook cells\n",
              "var notebookContainer = gd.closest('#notebook-container');\n",
              "if (notebookContainer) {{\n",
              "    x.observe(notebookContainer, {childList: true});\n",
              "}}\n",
              "\n",
              "// Listen for the clearing of the current output cell\n",
              "var outputEl = gd.closest('.output');\n",
              "if (outputEl) {{\n",
              "    x.observe(outputEl, {childList: true});\n",
              "}}\n",
              "\n",
              "                        })\n",
              "                };\n",
              "                \n",
              "            </script>\n",
              "        </div>\n",
              "</body>\n",
              "</html>"
            ]
          },
          "metadata": {}
        },
        {
          "output_type": "display_data",
          "data": {
            "text/html": [
              "<html>\n",
              "<head><meta charset=\"utf-8\" /></head>\n",
              "<body>\n",
              "    <div>\n",
              "            <script src=\"https://cdnjs.cloudflare.com/ajax/libs/mathjax/2.7.5/MathJax.js?config=TeX-AMS-MML_SVG\"></script><script type=\"text/javascript\">if (window.MathJax) {MathJax.Hub.Config({SVG: {font: \"STIX-Web\"}});}</script>\n",
              "                <script type=\"text/javascript\">window.PlotlyConfig = {MathJaxConfig: 'local'};</script>\n",
              "        <script src=\"https://cdn.plot.ly/plotly-latest.min.js\"></script>    \n",
              "            <div id=\"17d890cf-3bf1-4451-ac3c-3e9eab179794\" class=\"plotly-graph-div\" style=\"height:525px; width:100%;\"></div>\n",
              "            <script type=\"text/javascript\">\n",
              "                \n",
              "                    window.PLOTLYENV=window.PLOTLYENV || {};\n",
              "                    \n",
              "                if (document.getElementById(\"17d890cf-3bf1-4451-ac3c-3e9eab179794\")) {\n",
              "                    Plotly.newPlot(\n",
              "                        '17d890cf-3bf1-4451-ac3c-3e9eab179794',\n",
              "                        [{\"alignmentgroup\": \"True\", \"hoverlabel\": {\"namelength\": 0}, \"hovertemplate\": \"Category=MAPS_AND_NAVIGATION<br>Month=%{x}<br>Installs=%{y}\", \"legendgroup\": \"Category=MAPS_AND_NAVIGATION\", \"marker\": {\"color\": \"#636efa\"}, \"name\": \"Category=MAPS_AND_NAVIGATION\", \"offsetgroup\": \"Category=MAPS_AND_NAVIGATION\", \"orientation\": \"v\", \"showlegend\": true, \"textposition\": \"auto\", \"type\": \"bar\", \"x\": [\"April\", \"August\", \"January\"], \"xaxis\": \"x\", \"y\": [1000, 10000, 10000], \"yaxis\": \"y\"}, {\"alignmentgroup\": \"True\", \"hoverlabel\": {\"namelength\": 0}, \"hovertemplate\": \"Category=PERSONALIZATION<br>Month=%{x}<br>Installs=%{y}\", \"legendgroup\": \"Category=PERSONALIZATION\", \"marker\": {\"color\": \"#EF553B\"}, \"name\": \"Category=PERSONALIZATION\", \"offsetgroup\": \"Category=PERSONALIZATION\", \"orientation\": \"v\", \"showlegend\": true, \"textposition\": \"auto\", \"type\": \"bar\", \"x\": [\"April\", \"August\", \"August\", \"December\", \"December\", \"January\", \"January\", \"January\", \"July\", \"June\", \"March\", \"March\", \"March\", \"March\", \"March\", \"March\", \"March\", \"November\", \"October\", \"September\", \"September\", \"September\"], \"xaxis\": \"x\", \"y\": [1000000, 1000, 100, 10000, 50000, 1000000, 10000, 5000000, 1000000, 100, 1000, 1000000, 1000000, 100, 50, 50000, 500000, 5000, 50000, 100000, 100000, 5000000], \"yaxis\": \"y\"}, {\"alignmentgroup\": \"True\", \"hoverlabel\": {\"namelength\": 0}, \"hovertemplate\": \"Category=LIFESTYLE<br>Month=%{x}<br>Installs=%{y}\", \"legendgroup\": \"Category=LIFESTYLE\", \"marker\": {\"color\": \"#00cc96\"}, \"name\": \"Category=LIFESTYLE\", \"offsetgroup\": \"Category=LIFESTYLE\", \"orientation\": \"v\", \"showlegend\": true, \"textposition\": \"auto\", \"type\": \"bar\", \"x\": [\"April\", \"August\", \"August\", \"December\", \"December\", \"December\", \"July\", \"June\", \"March\", \"March\", \"March\", \"May\", \"November\", \"October\", \"October\", \"September\", \"September\", \"September\"], \"xaxis\": \"x\", \"y\": [10, 100000, 500, 100000, 5000, 50, 5000, 10000, 1000, 5000, 5000, 100, 1000000, 100, 50000, 5000, 5000000, 500], \"yaxis\": \"y\"}, {\"alignmentgroup\": \"True\", \"hoverlabel\": {\"namelength\": 0}, \"hovertemplate\": \"Category=EDUCATION<br>Month=%{x}<br>Installs=%{y}\", \"legendgroup\": \"Category=EDUCATION\", \"marker\": {\"color\": \"#ab63fa\"}, \"name\": \"Category=EDUCATION\", \"offsetgroup\": \"Category=EDUCATION\", \"orientation\": \"v\", \"showlegend\": true, \"textposition\": \"auto\", \"type\": \"bar\", \"x\": [\"April\", \"August\", \"January\", \"July\", \"June\"], \"xaxis\": \"x\", \"y\": [10000, 1000000, 100000, 100000, 1000000], \"yaxis\": \"y\"}, {\"alignmentgroup\": \"True\", \"hoverlabel\": {\"namelength\": 0}, \"hovertemplate\": \"Category=FAMILY<br>Month=%{x}<br>Installs=%{y}\", \"legendgroup\": \"Category=FAMILY\", \"marker\": {\"color\": \"#FFA15A\"}, \"name\": \"Category=FAMILY\", \"offsetgroup\": \"Category=FAMILY\", \"orientation\": \"v\", \"showlegend\": true, \"textposition\": \"auto\", \"type\": \"bar\", \"x\": [\"April\", \"April\", \"April\", \"April\", \"April\", \"April\", \"August\", \"August\", \"August\", \"August\", \"August\", \"August\", \"August\", \"August\", \"August\", \"August\", \"August\", \"August\", \"August\", \"December\", \"December\", \"December\", \"December\", \"December\", \"December\", \"December\", \"February\", \"February\", \"February\", \"February\", \"January\", \"January\", \"January\", \"January\", \"January\", \"January\", \"July\", \"July\", \"July\", \"July\", \"July\", \"July\", \"June\", \"June\", \"June\", \"June\", \"June\", \"June\", \"June\", \"June\", \"June\", \"June\", \"June\", \"June\", \"June\", \"June\", \"June\", \"June\", \"June\", \"June\", \"March\", \"March\", \"May\", \"May\", \"May\", \"May\", \"May\", \"May\", \"May\", \"May\", \"November\", \"November\", \"November\", \"November\", \"November\", \"November\", \"October\", \"October\", \"October\", \"October\", \"October\", \"October\", \"October\", \"October\", \"October\", \"October\", \"October\", \"September\", \"September\", \"September\", \"September\", \"September\", \"September\", \"September\", \"September\", \"September\", \"September\", \"September\"], \"xaxis\": \"x\", \"y\": [10000, 100000, 100000, 5000, 50000, 500, 1000000, 1000000, 1000000, 1000000, 10000, 10000, 10000, 10000, 5, 5000, 5000, 5000000, 500000, 10, 10000, 100000, 100000, 100000, 100000, 5000, 1000000, 1000000, 10000, 100000, 1000, 1000, 1000000, 100000, 50, 500000, 100, 100, 100000, 100000, 5000, 5000000, 1000, 1000, 1000, 1000, 1000, 1000000, 1000000, 10000, 10000, 10000, 100, 100, 100000, 100000, 50000, 50000, 500, 500000, 5000, 50000, 1000000, 10000, 100, 100000, 5000, 5000, 50000, 500, 10000, 10000, 100, 100000, 50000, 500000, 1000, 1000000, 1000000, 10000, 10000000, 100, 100, 100000, 100000, 100000, 50, 1000, 1000, 1000, 1000, 1000000, 100, 100000, 100000, 5, 50, 500000], \"yaxis\": \"y\"}, {\"alignmentgroup\": \"True\", \"hoverlabel\": {\"namelength\": 0}, \"hovertemplate\": \"Category=GAME<br>Month=%{x}<br>Installs=%{y}\", \"legendgroup\": \"Category=GAME\", \"marker\": {\"color\": \"#19d3f3\"}, \"name\": \"Category=GAME\", \"offsetgroup\": \"Category=GAME\", \"orientation\": \"v\", \"showlegend\": true, \"textposition\": \"auto\", \"type\": \"bar\", \"x\": [\"April\", \"April\", \"April\", \"April\", \"April\", \"August\", \"August\", \"August\", \"August\", \"August\", \"August\", \"August\", \"August\", \"December\", \"December\", \"December\", \"December\", \"December\", \"December\", \"February\", \"February\", \"February\", \"February\", \"January\", \"July\", \"July\", \"July\", \"July\", \"July\", \"July\", \"July\", \"July\", \"July\", \"July\", \"June\", \"June\", \"June\", \"March\", \"March\", \"March\", \"May\", \"May\", \"May\", \"May\", \"November\", \"November\", \"November\", \"November\", \"November\", \"November\", \"November\", \"November\", \"October\", \"October\", \"October\", \"October\", \"September\", \"September\", \"September\", \"September\", \"September\", \"September\"], \"xaxis\": \"x\", \"y\": [10000000, 10000000, 100000, 100000, 100000, 1000000, 1000000, 1000000, 10000000, 100000, 50, 50000, 500000, 1000000, 10000, 5000000, 50000, 50000, 500000, 1000, 10000, 100, 5000000, 10000, 1000, 10000, 10000000, 10000000, 100, 100000, 5000, 5000000, 50000, 500000, 1000, 1000000, 10000, 1000000, 10000, 10000, 1000000, 1000000, 10000, 100, 10, 100, 100000, 100000, 100000, 100000, 100000000, 500000, 10000, 100000, 5000000, 5000000, 1000000, 10000000, 100000, 100000, 100000, 500000], \"yaxis\": \"y\"}, {\"alignmentgroup\": \"True\", \"hoverlabel\": {\"namelength\": 0}, \"hovertemplate\": \"Category=TOOLS<br>Month=%{x}<br>Installs=%{y}\", \"legendgroup\": \"Category=TOOLS\", \"marker\": {\"color\": \"#FF6692\"}, \"name\": \"Category=TOOLS\", \"offsetgroup\": \"Category=TOOLS\", \"orientation\": \"v\", \"showlegend\": true, \"textposition\": \"auto\", \"type\": \"bar\", \"x\": [\"April\", \"August\", \"August\", \"August\", \"December\", \"December\", \"December\", \"December\", \"December\", \"February\", \"February\", \"February\", \"January\", \"January\", \"January\", \"July\", \"June\", \"June\", \"March\", \"March\", \"March\", \"March\", \"March\", \"March\", \"March\", \"March\", \"March\", \"March\", \"March\", \"May\", \"May\", \"May\", \"May\", \"November\", \"November\", \"November\", \"November\", \"November\", \"October\", \"October\", \"October\", \"October\", \"October\", \"September\"], \"xaxis\": \"x\", \"y\": [10000000, 1000, 10000000, 100, 1000000, 10000, 100, 100, 100000, 100, 100, 500, 1000000, 10000, 10000, 500, 100, 500, 1000, 1000, 10, 10000, 100000, 100000, 5000, 5000, 5000, 5000, 500, 10000, 10000, 10000, 5000, 1000, 10000, 100000, 5000, 500, 1000000, 10, 100000, 5000000, 5000000, 100000], \"yaxis\": \"y\"}, {\"alignmentgroup\": \"True\", \"hoverlabel\": {\"namelength\": 0}, \"hovertemplate\": \"Category=SOCIAL<br>Month=%{x}<br>Installs=%{y}\", \"legendgroup\": \"Category=SOCIAL\", \"marker\": {\"color\": \"#B6E880\"}, \"name\": \"Category=SOCIAL\", \"offsetgroup\": \"Category=SOCIAL\", \"orientation\": \"v\", \"showlegend\": true, \"textposition\": \"auto\", \"type\": \"bar\", \"x\": [\"April\", \"July\", \"June\", \"March\", \"May\", \"May\", \"October\", \"October\", \"September\"], \"xaxis\": \"x\", \"y\": [100000, 1000000, 10000, 1000000, 1000, 100, 100, 500, 10], \"yaxis\": \"y\"}, {\"alignmentgroup\": \"True\", \"hoverlabel\": {\"namelength\": 0}, \"hovertemplate\": \"Category=VIDEO_PLAYERS<br>Month=%{x}<br>Installs=%{y}\", \"legendgroup\": \"Category=VIDEO_PLAYERS\", \"marker\": {\"color\": \"#FF97FF\"}, \"name\": \"Category=VIDEO_PLAYERS\", \"offsetgroup\": \"Category=VIDEO_PLAYERS\", \"orientation\": \"v\", \"showlegend\": true, \"textposition\": \"auto\", \"type\": \"bar\", \"x\": [\"April\", \"August\", \"December\", \"February\", \"February\", \"June\", \"June\", \"November\", \"November\", \"November\", \"October\", \"October\"], \"xaxis\": \"x\", \"y\": [5000, 100, 10000000, 5000000, 5000000, 10, 100000, 100000, 50000, 500, 100000, 500], \"yaxis\": \"y\"}, {\"alignmentgroup\": \"True\", \"hoverlabel\": {\"namelength\": 0}, \"hovertemplate\": \"Category=HOUSE_AND_HOME<br>Month=%{x}<br>Installs=%{y}\", \"legendgroup\": \"Category=HOUSE_AND_HOME\", \"marker\": {\"color\": \"#FECB52\"}, \"name\": \"Category=HOUSE_AND_HOME\", \"offsetgroup\": \"Category=HOUSE_AND_HOME\", \"orientation\": \"v\", \"showlegend\": true, \"textposition\": \"auto\", \"type\": \"bar\", \"x\": [\"April\", \"March\", \"March\", \"March\", \"March\", \"March\", \"May\"], \"xaxis\": \"x\", \"y\": [500000, 1000000, 1000000, 1000000, 100000, 500000, 50000], \"yaxis\": \"y\"}, {\"alignmentgroup\": \"True\", \"hoverlabel\": {\"namelength\": 0}, \"hovertemplate\": \"Category=COMMUNICATION<br>Month=%{x}<br>Installs=%{y}\", \"legendgroup\": \"Category=COMMUNICATION\", \"marker\": {\"color\": \"#636efa\"}, \"name\": \"Category=COMMUNICATION\", \"offsetgroup\": \"Category=COMMUNICATION\", \"orientation\": \"v\", \"showlegend\": true, \"textposition\": \"auto\", \"type\": \"bar\", \"x\": [\"August\", \"August\", \"August\", \"December\", \"December\", \"February\", \"February\", \"February\", \"January\", \"July\", \"March\", \"May\", \"May\", \"May\", \"November\", \"October\", \"October\", \"September\", \"September\"], \"xaxis\": \"x\", \"y\": [1000, 1000000, 1000000, 1000000, 10000, 1000, 5000, 500000, 100, 5000, 1000000, 100, 100000, 50000, 50000, 500, 500, 10000000, 50], \"yaxis\": \"y\"}, {\"alignmentgroup\": \"True\", \"hoverlabel\": {\"namelength\": 0}, \"hovertemplate\": \"Category=MEDICAL<br>Month=%{x}<br>Installs=%{y}\", \"legendgroup\": \"Category=MEDICAL\", \"marker\": {\"color\": \"#EF553B\"}, \"name\": \"Category=MEDICAL\", \"offsetgroup\": \"Category=MEDICAL\", \"orientation\": \"v\", \"showlegend\": true, \"textposition\": \"auto\", \"type\": \"bar\", \"x\": [\"August\", \"August\", \"December\", \"December\", \"February\", \"January\", \"January\", \"July\", \"July\", \"March\", \"May\", \"May\", \"May\", \"May\", \"May\", \"November\", \"October\"], \"xaxis\": \"x\", \"y\": [1000, 10000, 1000, 500, 100000, 10000, 100000, 0, 5000, 1000, 1000, 1000, 1000, 10000, 5000, 1000, 10000], \"yaxis\": \"y\"}, {\"alignmentgroup\": \"True\", \"hoverlabel\": {\"namelength\": 0}, \"hovertemplate\": \"Category=TRAVEL_AND_LOCAL<br>Month=%{x}<br>Installs=%{y}\", \"legendgroup\": \"Category=TRAVEL_AND_LOCAL\", \"marker\": {\"color\": \"#00cc96\"}, \"name\": \"Category=TRAVEL_AND_LOCAL\", \"offsetgroup\": \"Category=TRAVEL_AND_LOCAL\", \"orientation\": \"v\", \"showlegend\": true, \"textposition\": \"auto\", \"type\": \"bar\", \"x\": [\"August\", \"December\", \"July\", \"July\", \"October\", \"October\"], \"xaxis\": \"x\", \"y\": [1000, 100, 1000000, 100, 100, 500], \"yaxis\": \"y\"}, {\"alignmentgroup\": \"True\", \"hoverlabel\": {\"namelength\": 0}, \"hovertemplate\": \"Category=SPORTS<br>Month=%{x}<br>Installs=%{y}\", \"legendgroup\": \"Category=SPORTS\", \"marker\": {\"color\": \"#ab63fa\"}, \"name\": \"Category=SPORTS\", \"offsetgroup\": \"Category=SPORTS\", \"orientation\": \"v\", \"showlegend\": true, \"textposition\": \"auto\", \"type\": \"bar\", \"x\": [\"August\", \"December\", \"February\", \"January\", \"May\", \"May\", \"September\", \"September\", \"September\"], \"xaxis\": \"x\", \"y\": [1000000, 100000, 1000, 10000, 10, 10, 10000, 100000, 500000], \"yaxis\": \"y\"}, {\"alignmentgroup\": \"True\", \"hoverlabel\": {\"namelength\": 0}, \"hovertemplate\": \"Category=PHOTOGRAPHY<br>Month=%{x}<br>Installs=%{y}\", \"legendgroup\": \"Category=PHOTOGRAPHY\", \"marker\": {\"color\": \"#FFA15A\"}, \"name\": \"Category=PHOTOGRAPHY\", \"offsetgroup\": \"Category=PHOTOGRAPHY\", \"orientation\": \"v\", \"showlegend\": true, \"textposition\": \"auto\", \"type\": \"bar\", \"x\": [\"August\", \"August\", \"August\", \"February\", \"February\", \"July\", \"July\", \"June\", \"June\", \"October\", \"September\", \"September\", \"September\"], \"xaxis\": \"x\", \"y\": [10000, 100000, 5000000, 1000000, 1000000, 10000000, 100, 10000000, 500000, 10000000, 1000000, 100000, 5000], \"yaxis\": \"y\"}, {\"alignmentgroup\": \"True\", \"hoverlabel\": {\"namelength\": 0}, \"hovertemplate\": \"Category=BUSINESS<br>Month=%{x}<br>Installs=%{y}\", \"legendgroup\": \"Category=BUSINESS\", \"marker\": {\"color\": \"#19d3f3\"}, \"name\": \"Category=BUSINESS\", \"offsetgroup\": \"Category=BUSINESS\", \"orientation\": \"v\", \"showlegend\": true, \"textposition\": \"auto\", \"type\": \"bar\", \"x\": [\"August\", \"December\", \"December\", \"February\", \"January\", \"July\", \"July\", \"July\", \"June\", \"June\", \"March\", \"March\", \"March\", \"May\", \"May\", \"November\", \"November\", \"October\", \"October\", \"October\", \"October\", \"October\", \"September\", \"September\"], \"xaxis\": \"x\", \"y\": [100, 10000, 100, 1000, 100, 1000, 10, 50, 100, 100, 10, 100, 50, 1000, 10000, 10, 100, 1000, 10000, 50, 50000, 500, 100000, 5000], \"yaxis\": \"y\"}, {\"alignmentgroup\": \"True\", \"hoverlabel\": {\"namelength\": 0}, \"hovertemplate\": \"Category=BOOKS_AND_REFERENCE<br>Month=%{x}<br>Installs=%{y}\", \"legendgroup\": \"Category=BOOKS_AND_REFERENCE\", \"marker\": {\"color\": \"#FF6692\"}, \"name\": \"Category=BOOKS_AND_REFERENCE\", \"offsetgroup\": \"Category=BOOKS_AND_REFERENCE\", \"orientation\": \"v\", \"showlegend\": true, \"textposition\": \"auto\", \"type\": \"bar\", \"x\": [\"August\", \"August\", \"December\", \"December\", \"December\", \"February\", \"January\", \"January\", \"July\", \"June\", \"June\", \"June\", \"March\", \"May\", \"October\", \"September\", \"September\", \"September\", \"September\", \"September\"], \"xaxis\": \"x\", \"y\": [100000, 5000, 10000, 100, 500, 50000, 1000, 10000, 10000000, 1000, 100000, 5, 10, 10000, 50, 10, 10, 10, 10, 5000], \"yaxis\": \"y\"}, {\"alignmentgroup\": \"True\", \"hoverlabel\": {\"namelength\": 0}, \"hovertemplate\": \"Category=HEALTH_AND_FITNESS<br>Month=%{x}<br>Installs=%{y}\", \"legendgroup\": \"Category=HEALTH_AND_FITNESS\", \"marker\": {\"color\": \"#B6E880\"}, \"name\": \"Category=HEALTH_AND_FITNESS\", \"offsetgroup\": \"Category=HEALTH_AND_FITNESS\", \"orientation\": \"v\", \"showlegend\": true, \"textposition\": \"auto\", \"type\": \"bar\", \"x\": [\"August\", \"December\", \"January\", \"June\", \"October\", \"October\", \"October\", \"September\"], \"xaxis\": \"x\", \"y\": [100000, 100000, 1000, 500, 1000, 1000, 50000, 100], \"yaxis\": \"y\"}, {\"alignmentgroup\": \"True\", \"hoverlabel\": {\"namelength\": 0}, \"hovertemplate\": \"Category=PRODUCTIVITY<br>Month=%{x}<br>Installs=%{y}\", \"legendgroup\": \"Category=PRODUCTIVITY\", \"marker\": {\"color\": \"#FF97FF\"}, \"name\": \"Category=PRODUCTIVITY\", \"offsetgroup\": \"Category=PRODUCTIVITY\", \"orientation\": \"v\", \"showlegend\": true, \"textposition\": \"auto\", \"type\": \"bar\", \"x\": [\"December\", \"December\", \"December\", \"December\", \"December\", \"July\", \"June\", \"June\", \"March\", \"May\", \"May\", \"May\", \"May\", \"May\", \"November\", \"November\", \"October\", \"October\", \"September\"], \"xaxis\": \"x\", \"y\": [1000, 1000000, 100, 500000, 500000, 5000, 1000, 100000, 1000, 1000, 100000, 5000, 50000, 500, 5000, 500000, 10000, 100000, 100], \"yaxis\": \"y\"}, {\"alignmentgroup\": \"True\", \"hoverlabel\": {\"namelength\": 0}, \"hovertemplate\": \"Category=NEWS_AND_MAGAZINES<br>Month=%{x}<br>Installs=%{y}\", \"legendgroup\": \"Category=NEWS_AND_MAGAZINES\", \"marker\": {\"color\": \"#FECB52\"}, \"name\": \"Category=NEWS_AND_MAGAZINES\", \"offsetgroup\": \"Category=NEWS_AND_MAGAZINES\", \"orientation\": \"v\", \"showlegend\": true, \"textposition\": \"auto\", \"type\": \"bar\", \"x\": [\"December\", \"December\", \"December\", \"July\", \"July\", \"October\"], \"xaxis\": \"x\", \"y\": [1000000, 100000, 5000, 1000, 10, 500], \"yaxis\": \"y\"}, {\"alignmentgroup\": \"True\", \"hoverlabel\": {\"namelength\": 0}, \"hovertemplate\": \"Category=FINANCE<br>Month=%{x}<br>Installs=%{y}\", \"legendgroup\": \"Category=FINANCE\", \"marker\": {\"color\": \"#636efa\"}, \"name\": \"Category=FINANCE\", \"offsetgroup\": \"Category=FINANCE\", \"orientation\": \"v\", \"showlegend\": true, \"textposition\": \"auto\", \"type\": \"bar\", \"x\": [\"December\", \"December\", \"January\", \"June\", \"November\"], \"xaxis\": \"x\", \"y\": [10000, 100, 5000, 100000, 1000], \"yaxis\": \"y\"}, {\"alignmentgroup\": \"True\", \"hoverlabel\": {\"namelength\": 0}, \"hovertemplate\": \"Category=SHOPPING<br>Month=%{x}<br>Installs=%{y}\", \"legendgroup\": \"Category=SHOPPING\", \"marker\": {\"color\": \"#EF553B\"}, \"name\": \"Category=SHOPPING\", \"offsetgroup\": \"Category=SHOPPING\", \"orientation\": \"v\", \"showlegend\": true, \"textposition\": \"auto\", \"type\": \"bar\", \"x\": [\"February\", \"July\", \"June\"], \"xaxis\": \"x\", \"y\": [10000, 100000, 100], \"yaxis\": \"y\"}, {\"alignmentgroup\": \"True\", \"hoverlabel\": {\"namelength\": 0}, \"hovertemplate\": \"Category=ENTERTAINMENT<br>Month=%{x}<br>Installs=%{y}\", \"legendgroup\": \"Category=ENTERTAINMENT\", \"marker\": {\"color\": \"#00cc96\"}, \"name\": \"Category=ENTERTAINMENT\", \"offsetgroup\": \"Category=ENTERTAINMENT\", \"orientation\": \"v\", \"showlegend\": true, \"textposition\": \"auto\", \"type\": \"bar\", \"x\": [\"July\", \"September\", \"September\"], \"xaxis\": \"x\", \"y\": [10000000, 1000000, 1000000], \"yaxis\": \"y\"}, {\"alignmentgroup\": \"True\", \"hoverlabel\": {\"namelength\": 0}, \"hovertemplate\": \"Category=WEATHER<br>Month=%{x}<br>Installs=%{y}\", \"legendgroup\": \"Category=WEATHER\", \"marker\": {\"color\": \"#ab63fa\"}, \"name\": \"Category=WEATHER\", \"offsetgroup\": \"Category=WEATHER\", \"orientation\": \"v\", \"showlegend\": true, \"textposition\": \"auto\", \"type\": \"bar\", \"x\": [\"May\", \"May\"], \"xaxis\": \"x\", \"y\": [1000, 100000], \"yaxis\": \"y\"}, {\"alignmentgroup\": \"True\", \"hoverlabel\": {\"namelength\": 0}, \"hovertemplate\": \"Category=LIBRARIES_AND_DEMO<br>Month=%{x}<br>Installs=%{y}\", \"legendgroup\": \"Category=LIBRARIES_AND_DEMO\", \"marker\": {\"color\": \"#FFA15A\"}, \"name\": \"Category=LIBRARIES_AND_DEMO\", \"offsetgroup\": \"Category=LIBRARIES_AND_DEMO\", \"orientation\": \"v\", \"showlegend\": true, \"textposition\": \"auto\", \"type\": \"bar\", \"x\": [\"October\", \"September\"], \"xaxis\": \"x\", \"y\": [100000, 1000000], \"yaxis\": \"y\"}, {\"alignmentgroup\": \"True\", \"hoverlabel\": {\"namelength\": 0}, \"hovertemplate\": \"Category=COMICS<br>Month=%{x}<br>Installs=%{y}\", \"legendgroup\": \"Category=COMICS\", \"marker\": {\"color\": \"#19d3f3\"}, \"name\": \"Category=COMICS\", \"offsetgroup\": \"Category=COMICS\", \"orientation\": \"v\", \"showlegend\": true, \"textposition\": \"auto\", \"type\": \"bar\", \"x\": [\"September\"], \"xaxis\": \"x\", \"y\": [50000], \"yaxis\": \"y\"}],\n",
              "                        {\"barmode\": \"relative\", \"legend\": {\"tracegroupgap\": 0}, \"template\": {\"data\": {\"bar\": [{\"error_x\": {\"color\": \"#2a3f5f\"}, \"error_y\": {\"color\": \"#2a3f5f\"}, \"marker\": {\"line\": {\"color\": \"#E5ECF6\", \"width\": 0.5}}, \"type\": \"bar\"}], \"barpolar\": [{\"marker\": {\"line\": {\"color\": \"#E5ECF6\", \"width\": 0.5}}, \"type\": \"barpolar\"}], \"carpet\": [{\"aaxis\": {\"endlinecolor\": \"#2a3f5f\", \"gridcolor\": \"white\", \"linecolor\": \"white\", \"minorgridcolor\": \"white\", \"startlinecolor\": \"#2a3f5f\"}, \"baxis\": {\"endlinecolor\": \"#2a3f5f\", \"gridcolor\": \"white\", \"linecolor\": \"white\", \"minorgridcolor\": \"white\", \"startlinecolor\": \"#2a3f5f\"}, \"type\": \"carpet\"}], \"choropleth\": [{\"colorbar\": {\"outlinewidth\": 0, \"ticks\": \"\"}, \"type\": \"choropleth\"}], \"contour\": [{\"colorbar\": {\"outlinewidth\": 0, \"ticks\": \"\"}, \"colorscale\": [[0.0, \"#0d0887\"], [0.1111111111111111, \"#46039f\"], [0.2222222222222222, \"#7201a8\"], [0.3333333333333333, \"#9c179e\"], [0.4444444444444444, \"#bd3786\"], [0.5555555555555556, \"#d8576b\"], [0.6666666666666666, \"#ed7953\"], [0.7777777777777778, \"#fb9f3a\"], [0.8888888888888888, \"#fdca26\"], [1.0, \"#f0f921\"]], \"type\": \"contour\"}], \"contourcarpet\": [{\"colorbar\": {\"outlinewidth\": 0, \"ticks\": \"\"}, \"type\": \"contourcarpet\"}], \"heatmap\": [{\"colorbar\": {\"outlinewidth\": 0, \"ticks\": \"\"}, \"colorscale\": [[0.0, \"#0d0887\"], [0.1111111111111111, \"#46039f\"], [0.2222222222222222, \"#7201a8\"], [0.3333333333333333, \"#9c179e\"], [0.4444444444444444, \"#bd3786\"], [0.5555555555555556, \"#d8576b\"], [0.6666666666666666, \"#ed7953\"], [0.7777777777777778, \"#fb9f3a\"], [0.8888888888888888, \"#fdca26\"], [1.0, \"#f0f921\"]], \"type\": \"heatmap\"}], \"heatmapgl\": [{\"colorbar\": {\"outlinewidth\": 0, \"ticks\": \"\"}, \"colorscale\": [[0.0, \"#0d0887\"], [0.1111111111111111, \"#46039f\"], [0.2222222222222222, \"#7201a8\"], [0.3333333333333333, \"#9c179e\"], [0.4444444444444444, \"#bd3786\"], [0.5555555555555556, \"#d8576b\"], [0.6666666666666666, \"#ed7953\"], [0.7777777777777778, \"#fb9f3a\"], [0.8888888888888888, \"#fdca26\"], [1.0, \"#f0f921\"]], \"type\": \"heatmapgl\"}], \"histogram\": [{\"marker\": {\"colorbar\": {\"outlinewidth\": 0, \"ticks\": \"\"}}, \"type\": \"histogram\"}], \"histogram2d\": [{\"colorbar\": {\"outlinewidth\": 0, \"ticks\": \"\"}, \"colorscale\": [[0.0, \"#0d0887\"], [0.1111111111111111, \"#46039f\"], [0.2222222222222222, \"#7201a8\"], [0.3333333333333333, \"#9c179e\"], [0.4444444444444444, \"#bd3786\"], [0.5555555555555556, \"#d8576b\"], [0.6666666666666666, \"#ed7953\"], [0.7777777777777778, \"#fb9f3a\"], [0.8888888888888888, \"#fdca26\"], [1.0, \"#f0f921\"]], \"type\": \"histogram2d\"}], \"histogram2dcontour\": [{\"colorbar\": {\"outlinewidth\": 0, \"ticks\": \"\"}, \"colorscale\": [[0.0, \"#0d0887\"], [0.1111111111111111, \"#46039f\"], [0.2222222222222222, \"#7201a8\"], [0.3333333333333333, \"#9c179e\"], [0.4444444444444444, \"#bd3786\"], [0.5555555555555556, \"#d8576b\"], [0.6666666666666666, \"#ed7953\"], [0.7777777777777778, \"#fb9f3a\"], [0.8888888888888888, \"#fdca26\"], [1.0, \"#f0f921\"]], \"type\": \"histogram2dcontour\"}], \"mesh3d\": [{\"colorbar\": {\"outlinewidth\": 0, \"ticks\": \"\"}, \"type\": \"mesh3d\"}], \"parcoords\": [{\"line\": {\"colorbar\": {\"outlinewidth\": 0, \"ticks\": \"\"}}, \"type\": \"parcoords\"}], \"pie\": [{\"automargin\": true, \"type\": \"pie\"}], \"scatter\": [{\"marker\": {\"colorbar\": {\"outlinewidth\": 0, \"ticks\": \"\"}}, \"type\": \"scatter\"}], \"scatter3d\": [{\"line\": {\"colorbar\": {\"outlinewidth\": 0, \"ticks\": \"\"}}, \"marker\": {\"colorbar\": {\"outlinewidth\": 0, \"ticks\": \"\"}}, \"type\": \"scatter3d\"}], \"scattercarpet\": [{\"marker\": {\"colorbar\": {\"outlinewidth\": 0, \"ticks\": \"\"}}, \"type\": \"scattercarpet\"}], \"scattergeo\": [{\"marker\": {\"colorbar\": {\"outlinewidth\": 0, \"ticks\": \"\"}}, \"type\": \"scattergeo\"}], \"scattergl\": [{\"marker\": {\"colorbar\": {\"outlinewidth\": 0, \"ticks\": \"\"}}, \"type\": \"scattergl\"}], \"scattermapbox\": [{\"marker\": {\"colorbar\": {\"outlinewidth\": 0, \"ticks\": \"\"}}, \"type\": \"scattermapbox\"}], \"scatterpolar\": [{\"marker\": {\"colorbar\": {\"outlinewidth\": 0, \"ticks\": \"\"}}, \"type\": \"scatterpolar\"}], \"scatterpolargl\": [{\"marker\": {\"colorbar\": {\"outlinewidth\": 0, \"ticks\": \"\"}}, \"type\": \"scatterpolargl\"}], \"scatterternary\": [{\"marker\": {\"colorbar\": {\"outlinewidth\": 0, \"ticks\": \"\"}}, \"type\": \"scatterternary\"}], \"surface\": [{\"colorbar\": {\"outlinewidth\": 0, \"ticks\": \"\"}, \"colorscale\": [[0.0, \"#0d0887\"], [0.1111111111111111, \"#46039f\"], [0.2222222222222222, \"#7201a8\"], [0.3333333333333333, \"#9c179e\"], [0.4444444444444444, \"#bd3786\"], [0.5555555555555556, \"#d8576b\"], [0.6666666666666666, \"#ed7953\"], [0.7777777777777778, \"#fb9f3a\"], [0.8888888888888888, \"#fdca26\"], [1.0, \"#f0f921\"]], \"type\": \"surface\"}], \"table\": [{\"cells\": {\"fill\": {\"color\": \"#EBF0F8\"}, \"line\": {\"color\": \"white\"}}, \"header\": {\"fill\": {\"color\": \"#C8D4E3\"}, \"line\": {\"color\": \"white\"}}, \"type\": \"table\"}]}, \"layout\": {\"annotationdefaults\": {\"arrowcolor\": \"#2a3f5f\", \"arrowhead\": 0, \"arrowwidth\": 1}, \"coloraxis\": {\"colorbar\": {\"outlinewidth\": 0, \"ticks\": \"\"}}, \"colorscale\": {\"diverging\": [[0, \"#8e0152\"], [0.1, \"#c51b7d\"], [0.2, \"#de77ae\"], [0.3, \"#f1b6da\"], [0.4, \"#fde0ef\"], [0.5, \"#f7f7f7\"], [0.6, \"#e6f5d0\"], [0.7, \"#b8e186\"], [0.8, \"#7fbc41\"], [0.9, \"#4d9221\"], [1, \"#276419\"]], \"sequential\": [[0.0, \"#0d0887\"], [0.1111111111111111, \"#46039f\"], [0.2222222222222222, \"#7201a8\"], [0.3333333333333333, \"#9c179e\"], [0.4444444444444444, \"#bd3786\"], [0.5555555555555556, \"#d8576b\"], [0.6666666666666666, \"#ed7953\"], [0.7777777777777778, \"#fb9f3a\"], [0.8888888888888888, \"#fdca26\"], [1.0, \"#f0f921\"]], \"sequentialminus\": [[0.0, \"#0d0887\"], [0.1111111111111111, \"#46039f\"], [0.2222222222222222, \"#7201a8\"], [0.3333333333333333, \"#9c179e\"], [0.4444444444444444, \"#bd3786\"], [0.5555555555555556, \"#d8576b\"], [0.6666666666666666, \"#ed7953\"], [0.7777777777777778, \"#fb9f3a\"], [0.8888888888888888, \"#fdca26\"], [1.0, \"#f0f921\"]]}, \"colorway\": [\"#636efa\", \"#EF553B\", \"#00cc96\", \"#ab63fa\", \"#FFA15A\", \"#19d3f3\", \"#FF6692\", \"#B6E880\", \"#FF97FF\", \"#FECB52\"], \"font\": {\"color\": \"#2a3f5f\"}, \"geo\": {\"bgcolor\": \"white\", \"lakecolor\": \"white\", \"landcolor\": \"#E5ECF6\", \"showlakes\": true, \"showland\": true, \"subunitcolor\": \"white\"}, \"hoverlabel\": {\"align\": \"left\"}, \"hovermode\": \"closest\", \"mapbox\": {\"style\": \"light\"}, \"paper_bgcolor\": \"white\", \"plot_bgcolor\": \"#E5ECF6\", \"polar\": {\"angularaxis\": {\"gridcolor\": \"white\", \"linecolor\": \"white\", \"ticks\": \"\"}, \"bgcolor\": \"#E5ECF6\", \"radialaxis\": {\"gridcolor\": \"white\", \"linecolor\": \"white\", \"ticks\": \"\"}}, \"scene\": {\"xaxis\": {\"backgroundcolor\": \"#E5ECF6\", \"gridcolor\": \"white\", \"gridwidth\": 2, \"linecolor\": \"white\", \"showbackground\": true, \"ticks\": \"\", \"zerolinecolor\": \"white\"}, \"yaxis\": {\"backgroundcolor\": \"#E5ECF6\", \"gridcolor\": \"white\", \"gridwidth\": 2, \"linecolor\": \"white\", \"showbackground\": true, \"ticks\": \"\", \"zerolinecolor\": \"white\"}, \"zaxis\": {\"backgroundcolor\": \"#E5ECF6\", \"gridcolor\": \"white\", \"gridwidth\": 2, \"linecolor\": \"white\", \"showbackground\": true, \"ticks\": \"\", \"zerolinecolor\": \"white\"}}, \"shapedefaults\": {\"line\": {\"color\": \"#2a3f5f\"}}, \"ternary\": {\"aaxis\": {\"gridcolor\": \"white\", \"linecolor\": \"white\", \"ticks\": \"\"}, \"baxis\": {\"gridcolor\": \"white\", \"linecolor\": \"white\", \"ticks\": \"\"}, \"bgcolor\": \"#E5ECF6\", \"caxis\": {\"gridcolor\": \"white\", \"linecolor\": \"white\", \"ticks\": \"\"}}, \"title\": {\"x\": 0.05}, \"xaxis\": {\"automargin\": true, \"gridcolor\": \"white\", \"linecolor\": \"white\", \"ticks\": \"\", \"title\": {\"standoff\": 15}, \"zerolinecolor\": \"white\", \"zerolinewidth\": 2}, \"yaxis\": {\"automargin\": true, \"gridcolor\": \"white\", \"linecolor\": \"white\", \"ticks\": \"\", \"title\": {\"standoff\": 15}, \"zerolinecolor\": \"white\", \"zerolinewidth\": 2}}}, \"title\": {\"text\": \"2015 Monthly installation Trend\"}, \"xaxis\": {\"anchor\": \"y\", \"categoryarray\": [\"January\", \"February\", \"March\", \"April\", \"May\", \"June\", \"July\", \"August\", \"September\", \"October\", \"November\", \"December\"], \"categoryorder\": \"array\", \"domain\": [0.0, 1.0], \"title\": {\"text\": \"Month\"}}, \"yaxis\": {\"anchor\": \"x\", \"domain\": [0.0, 1.0], \"title\": {\"text\": \"Installs\"}}},\n",
              "                        {\"responsive\": true}\n",
              "                    ).then(function(){\n",
              "                            \n",
              "var gd = document.getElementById('17d890cf-3bf1-4451-ac3c-3e9eab179794');\n",
              "var x = new MutationObserver(function (mutations, observer) {{\n",
              "        var display = window.getComputedStyle(gd).display;\n",
              "        if (!display || display === 'none') {{\n",
              "            console.log([gd, 'removed!']);\n",
              "            Plotly.purge(gd);\n",
              "            observer.disconnect();\n",
              "        }}\n",
              "}});\n",
              "\n",
              "// Listen for the removal of the full notebook cells\n",
              "var notebookContainer = gd.closest('#notebook-container');\n",
              "if (notebookContainer) {{\n",
              "    x.observe(notebookContainer, {childList: true});\n",
              "}}\n",
              "\n",
              "// Listen for the clearing of the current output cell\n",
              "var outputEl = gd.closest('.output');\n",
              "if (outputEl) {{\n",
              "    x.observe(outputEl, {childList: true});\n",
              "}}\n",
              "\n",
              "                        })\n",
              "                };\n",
              "                \n",
              "            </script>\n",
              "        </div>\n",
              "</body>\n",
              "</html>"
            ]
          },
          "metadata": {}
        },
        {
          "output_type": "display_data",
          "data": {
            "text/html": [
              "<html>\n",
              "<head><meta charset=\"utf-8\" /></head>\n",
              "<body>\n",
              "    <div>\n",
              "            <script src=\"https://cdnjs.cloudflare.com/ajax/libs/mathjax/2.7.5/MathJax.js?config=TeX-AMS-MML_SVG\"></script><script type=\"text/javascript\">if (window.MathJax) {MathJax.Hub.Config({SVG: {font: \"STIX-Web\"}});}</script>\n",
              "                <script type=\"text/javascript\">window.PlotlyConfig = {MathJaxConfig: 'local'};</script>\n",
              "        <script src=\"https://cdn.plot.ly/plotly-latest.min.js\"></script>    \n",
              "            <div id=\"59f54038-0b7a-4c0a-98c9-3d2a2d8cffe0\" class=\"plotly-graph-div\" style=\"height:525px; width:100%;\"></div>\n",
              "            <script type=\"text/javascript\">\n",
              "                \n",
              "                    window.PLOTLYENV=window.PLOTLYENV || {};\n",
              "                    \n",
              "                if (document.getElementById(\"59f54038-0b7a-4c0a-98c9-3d2a2d8cffe0\")) {\n",
              "                    Plotly.newPlot(\n",
              "                        '59f54038-0b7a-4c0a-98c9-3d2a2d8cffe0',\n",
              "                        [{\"alignmentgroup\": \"True\", \"hoverlabel\": {\"namelength\": 0}, \"hovertemplate\": \"Category=TOOLS<br>Month=%{x}<br>Installs=%{y}\", \"legendgroup\": \"Category=TOOLS\", \"marker\": {\"color\": \"#636efa\"}, \"name\": \"Category=TOOLS\", \"offsetgroup\": \"Category=TOOLS\", \"orientation\": \"v\", \"showlegend\": true, \"textposition\": \"auto\", \"type\": \"bar\", \"x\": [\"April\", \"April\", \"April\", \"August\", \"December\", \"February\", \"July\", \"July\", \"July\", \"July\", \"June\", \"June\", \"June\", \"March\", \"November\", \"November\", \"November\", \"November\", \"October\", \"October\", \"October\", \"September\", \"September\"], \"xaxis\": \"x\", \"y\": [1000000, 100000, 50000, 50000, 500, 500000, 100000, 50, 50000, 500000, 1000, 1000, 100, 10000, 10000, 5000, 5000000, 50000000, 1000, 10000, 100, 10000, 100000], \"yaxis\": \"y\"}, {\"alignmentgroup\": \"True\", \"hoverlabel\": {\"namelength\": 0}, \"hovertemplate\": \"Category=LIFESTYLE<br>Month=%{x}<br>Installs=%{y}\", \"legendgroup\": \"Category=LIFESTYLE\", \"marker\": {\"color\": \"#EF553B\"}, \"name\": \"Category=LIFESTYLE\", \"offsetgroup\": \"Category=LIFESTYLE\", \"orientation\": \"v\", \"showlegend\": true, \"textposition\": \"auto\", \"type\": \"bar\", \"x\": [\"April\", \"March\", \"November\", \"November\", \"October\", \"September\"], \"xaxis\": \"x\", \"y\": [10000, 100, 100, 50000, 500000, 5000000], \"yaxis\": \"y\"}, {\"alignmentgroup\": \"True\", \"hoverlabel\": {\"namelength\": 0}, \"hovertemplate\": \"Category=PHOTOGRAPHY<br>Month=%{x}<br>Installs=%{y}\", \"legendgroup\": \"Category=PHOTOGRAPHY\", \"marker\": {\"color\": \"#00cc96\"}, \"name\": \"Category=PHOTOGRAPHY\", \"offsetgroup\": \"Category=PHOTOGRAPHY\", \"orientation\": \"v\", \"showlegend\": true, \"textposition\": \"auto\", \"type\": \"bar\", \"x\": [\"April\", \"February\", \"March\", \"November\", \"November\"], \"xaxis\": \"x\", \"y\": [10000, 10, 100000, 1000000, 100000], \"yaxis\": \"y\"}, {\"alignmentgroup\": \"True\", \"hoverlabel\": {\"namelength\": 0}, \"hovertemplate\": \"Category=VIDEO_PLAYERS<br>Month=%{x}<br>Installs=%{y}\", \"legendgroup\": \"Category=VIDEO_PLAYERS\", \"marker\": {\"color\": \"#ab63fa\"}, \"name\": \"Category=VIDEO_PLAYERS\", \"offsetgroup\": \"Category=VIDEO_PLAYERS\", \"orientation\": \"v\", \"showlegend\": true, \"textposition\": \"auto\", \"type\": \"bar\", \"x\": [\"April\", \"July\", \"October\", \"September\"], \"xaxis\": \"x\", \"y\": [10000000, 10000, 10000, 1000000], \"yaxis\": \"y\"}, {\"alignmentgroup\": \"True\", \"hoverlabel\": {\"namelength\": 0}, \"hovertemplate\": \"Category=FAMILY<br>Month=%{x}<br>Installs=%{y}\", \"legendgroup\": \"Category=FAMILY\", \"marker\": {\"color\": \"#FFA15A\"}, \"name\": \"Category=FAMILY\", \"offsetgroup\": \"Category=FAMILY\", \"orientation\": \"v\", \"showlegend\": true, \"textposition\": \"auto\", \"type\": \"bar\", \"x\": [\"April\", \"August\", \"August\", \"December\", \"December\", \"December\", \"December\", \"February\", \"February\", \"February\", \"February\", \"January\", \"January\", \"January\", \"July\", \"July\", \"June\", \"June\", \"June\", \"June\", \"June\", \"March\", \"March\", \"May\", \"May\", \"May\", \"May\", \"November\", \"November\", \"November\", \"November\", \"November\", \"November\", \"November\", \"November\", \"October\", \"September\", \"September\"], \"xaxis\": \"x\", \"y\": [100000, 10000, 50000, 1000, 1000000, 10000, 50000, 1000, 100000, 5000, 5000, 1000, 100000, 50000, 1000, 100000, 1, 1000, 100, 100000, 50, 10000, 10000000, 10, 100000, 5000, 50, 1000, 1000, 10000, 100000, 50000, 50000, 50000000, 500000, 100000, 50000, 500000], \"yaxis\": \"y\"}, {\"alignmentgroup\": \"True\", \"hoverlabel\": {\"namelength\": 0}, \"hovertemplate\": \"Category=GAME<br>Month=%{x}<br>Installs=%{y}\", \"legendgroup\": \"Category=GAME\", \"marker\": {\"color\": \"#19d3f3\"}, \"name\": \"Category=GAME\", \"offsetgroup\": \"Category=GAME\", \"orientation\": \"v\", \"showlegend\": true, \"textposition\": \"auto\", \"type\": \"bar\", \"x\": [\"April\", \"April\", \"August\", \"December\", \"December\", \"December\", \"December\", \"December\", \"December\", \"December\", \"February\", \"January\", \"January\", \"January\", \"July\", \"June\", \"May\", \"May\", \"May\", \"November\", \"November\", \"October\", \"October\", \"October\", \"September\", \"September\"], \"xaxis\": \"x\", \"y\": [100000, 50000, 5000, 1000, 1000, 1000000, 10000, 10000, 100000, 500000, 1000000, 1000000, 10000, 100000, 5000000, 10000000, 10000, 10000000, 100000, 10000, 5000, 100000, 100000, 5000000, 1000000, 10000], \"yaxis\": \"y\"}, {\"alignmentgroup\": \"True\", \"hoverlabel\": {\"namelength\": 0}, \"hovertemplate\": \"Category=SOCIAL<br>Month=%{x}<br>Installs=%{y}\", \"legendgroup\": \"Category=SOCIAL\", \"marker\": {\"color\": \"#FF6692\"}, \"name\": \"Category=SOCIAL\", \"offsetgroup\": \"Category=SOCIAL\", \"orientation\": \"v\", \"showlegend\": true, \"textposition\": \"auto\", \"type\": \"bar\", \"x\": [\"April\", \"December\", \"June\", \"November\"], \"xaxis\": \"x\", \"y\": [100000, 50000, 100000, 100], \"yaxis\": \"y\"}, {\"alignmentgroup\": \"True\", \"hoverlabel\": {\"namelength\": 0}, \"hovertemplate\": \"Category=PERSONALIZATION<br>Month=%{x}<br>Installs=%{y}\", \"legendgroup\": \"Category=PERSONALIZATION\", \"marker\": {\"color\": \"#B6E880\"}, \"name\": \"Category=PERSONALIZATION\", \"offsetgroup\": \"Category=PERSONALIZATION\", \"orientation\": \"v\", \"showlegend\": true, \"textposition\": \"auto\", \"type\": \"bar\", \"x\": [\"April\", \"August\", \"December\", \"February\", \"February\", \"January\", \"January\", \"July\", \"June\", \"June\", \"May\", \"May\", \"November\", \"October\", \"October\", \"October\"], \"xaxis\": \"x\", \"y\": [5000000, 100000, 10000, 1000000, 10000, 1000, 100000, 1000000, 100000, 50000000, 10000000, 5000000, 100000, 10000, 100000, 50000], \"yaxis\": \"y\"}, {\"alignmentgroup\": \"True\", \"hoverlabel\": {\"namelength\": 0}, \"hovertemplate\": \"Category=WEATHER<br>Month=%{x}<br>Installs=%{y}\", \"legendgroup\": \"Category=WEATHER\", \"marker\": {\"color\": \"#FF97FF\"}, \"name\": \"Category=WEATHER\", \"offsetgroup\": \"Category=WEATHER\", \"orientation\": \"v\", \"showlegend\": true, \"textposition\": \"auto\", \"type\": \"bar\", \"x\": [\"August\", \"August\", \"December\", \"February\", \"July\", \"March\"], \"xaxis\": \"x\", \"y\": [1000000, 500000, 100000, 100000, 500000, 1000000], \"yaxis\": \"y\"}, {\"alignmentgroup\": \"True\", \"hoverlabel\": {\"namelength\": 0}, \"hovertemplate\": \"Category=BOOKS_AND_REFERENCE<br>Month=%{x}<br>Installs=%{y}\", \"legendgroup\": \"Category=BOOKS_AND_REFERENCE\", \"marker\": {\"color\": \"#FECB52\"}, \"name\": \"Category=BOOKS_AND_REFERENCE\", \"offsetgroup\": \"Category=BOOKS_AND_REFERENCE\", \"orientation\": \"v\", \"showlegend\": true, \"textposition\": \"auto\", \"type\": \"bar\", \"x\": [\"August\", \"August\", \"August\", \"January\", \"July\", \"July\", \"March\", \"November\", \"October\"], \"xaxis\": \"x\", \"y\": [10, 10000, 5, 100, 10, 50000, 1000, 5000000, 500000], \"yaxis\": \"y\"}, {\"alignmentgroup\": \"True\", \"hoverlabel\": {\"namelength\": 0}, \"hovertemplate\": \"Category=BUSINESS<br>Month=%{x}<br>Installs=%{y}\", \"legendgroup\": \"Category=BUSINESS\", \"marker\": {\"color\": \"#636efa\"}, \"name\": \"Category=BUSINESS\", \"offsetgroup\": \"Category=BUSINESS\", \"orientation\": \"v\", \"showlegend\": true, \"textposition\": \"auto\", \"type\": \"bar\", \"x\": [\"August\", \"August\", \"February\", \"July\", \"June\", \"May\", \"October\"], \"xaxis\": \"x\", \"y\": [10, 50000, 1000, 100, 10, 100000, 10000], \"yaxis\": \"y\"}, {\"alignmentgroup\": \"True\", \"hoverlabel\": {\"namelength\": 0}, \"hovertemplate\": \"Category=COMMUNICATION<br>Month=%{x}<br>Installs=%{y}\", \"legendgroup\": \"Category=COMMUNICATION\", \"marker\": {\"color\": \"#EF553B\"}, \"name\": \"Category=COMMUNICATION\", \"offsetgroup\": \"Category=COMMUNICATION\", \"orientation\": \"v\", \"showlegend\": true, \"textposition\": \"auto\", \"type\": \"bar\", \"x\": [\"August\", \"August\", \"August\", \"January\", \"July\", \"July\", \"July\", \"March\", \"November\", \"October\"], \"xaxis\": \"x\", \"y\": [10000, 10000, 100, 100000, 10000, 10000000, 5000, 100000, 1000, 100], \"yaxis\": \"y\"}, {\"alignmentgroup\": \"True\", \"hoverlabel\": {\"namelength\": 0}, \"hovertemplate\": \"Category=MEDICAL<br>Month=%{x}<br>Installs=%{y}\", \"legendgroup\": \"Category=MEDICAL\", \"marker\": {\"color\": \"#00cc96\"}, \"name\": \"Category=MEDICAL\", \"offsetgroup\": \"Category=MEDICAL\", \"orientation\": \"v\", \"showlegend\": true, \"textposition\": \"auto\", \"type\": \"bar\", \"x\": [\"August\", \"August\", \"December\", \"December\", \"January\", \"January\", \"January\", \"July\", \"March\", \"November\", \"October\", \"September\"], \"xaxis\": \"x\", \"y\": [10000, 50000, 5000, 5000, 100, 50, 50000, 1000, 1000, 10000, 1000, 1000], \"yaxis\": \"y\"}, {\"alignmentgroup\": \"True\", \"hoverlabel\": {\"namelength\": 0}, \"hovertemplate\": \"Category=SPORTS<br>Month=%{x}<br>Installs=%{y}\", \"legendgroup\": \"Category=SPORTS\", \"marker\": {\"color\": \"#ab63fa\"}, \"name\": \"Category=SPORTS\", \"offsetgroup\": \"Category=SPORTS\", \"orientation\": \"v\", \"showlegend\": true, \"textposition\": \"auto\", \"type\": \"bar\", \"x\": [\"August\", \"February\", \"March\", \"March\"], \"xaxis\": \"x\", \"y\": [10000, 1000, 1000, 100000], \"yaxis\": \"y\"}, {\"alignmentgroup\": \"True\", \"hoverlabel\": {\"namelength\": 0}, \"hovertemplate\": \"Category=AUTO_AND_VEHICLES<br>Month=%{x}<br>Installs=%{y}\", \"legendgroup\": \"Category=AUTO_AND_VEHICLES\", \"marker\": {\"color\": \"#FFA15A\"}, \"name\": \"Category=AUTO_AND_VEHICLES\", \"offsetgroup\": \"Category=AUTO_AND_VEHICLES\", \"orientation\": \"v\", \"showlegend\": true, \"textposition\": \"auto\", \"type\": \"bar\", \"x\": [\"August\"], \"xaxis\": \"x\", \"y\": [100000], \"yaxis\": \"y\"}, {\"alignmentgroup\": \"True\", \"hoverlabel\": {\"namelength\": 0}, \"hovertemplate\": \"Category=EDUCATION<br>Month=%{x}<br>Installs=%{y}\", \"legendgroup\": \"Category=EDUCATION\", \"marker\": {\"color\": \"#19d3f3\"}, \"name\": \"Category=EDUCATION\", \"offsetgroup\": \"Category=EDUCATION\", \"orientation\": \"v\", \"showlegend\": true, \"textposition\": \"auto\", \"type\": \"bar\", \"x\": [\"August\", \"July\"], \"xaxis\": \"x\", \"y\": [50000, 10000], \"yaxis\": \"y\"}, {\"alignmentgroup\": \"True\", \"hoverlabel\": {\"namelength\": 0}, \"hovertemplate\": \"Category=PRODUCTIVITY<br>Month=%{x}<br>Installs=%{y}\", \"legendgroup\": \"Category=PRODUCTIVITY\", \"marker\": {\"color\": \"#FF6692\"}, \"name\": \"Category=PRODUCTIVITY\", \"offsetgroup\": \"Category=PRODUCTIVITY\", \"orientation\": \"v\", \"showlegend\": true, \"textposition\": \"auto\", \"type\": \"bar\", \"x\": [\"August\", \"February\", \"January\", \"January\", \"June\", \"May\", \"May\", \"May\", \"November\", \"November\", \"November\", \"September\"], \"xaxis\": \"x\", \"y\": [500, 100, 1000, 500000, 10, 100, 50, 50000, 1000000, 50000, 500, 50000], \"yaxis\": \"y\"}, {\"alignmentgroup\": \"True\", \"hoverlabel\": {\"namelength\": 0}, \"hovertemplate\": \"Category=MAPS_AND_NAVIGATION<br>Month=%{x}<br>Installs=%{y}\", \"legendgroup\": \"Category=MAPS_AND_NAVIGATION\", \"marker\": {\"color\": \"#B6E880\"}, \"name\": \"Category=MAPS_AND_NAVIGATION\", \"offsetgroup\": \"Category=MAPS_AND_NAVIGATION\", \"orientation\": \"v\", \"showlegend\": true, \"textposition\": \"auto\", \"type\": \"bar\", \"x\": [\"December\"], \"xaxis\": \"x\", \"y\": [1000], \"yaxis\": \"y\"}, {\"alignmentgroup\": \"True\", \"hoverlabel\": {\"namelength\": 0}, \"hovertemplate\": \"Category=NEWS_AND_MAGAZINES<br>Month=%{x}<br>Installs=%{y}\", \"legendgroup\": \"Category=NEWS_AND_MAGAZINES\", \"marker\": {\"color\": \"#FF97FF\"}, \"name\": \"Category=NEWS_AND_MAGAZINES\", \"offsetgroup\": \"Category=NEWS_AND_MAGAZINES\", \"orientation\": \"v\", \"showlegend\": true, \"textposition\": \"auto\", \"type\": \"bar\", \"x\": [\"December\", \"January\", \"July\", \"March\", \"September\"], \"xaxis\": \"x\", \"y\": [100000, 100000, 1000, 100, 1000], \"yaxis\": \"y\"}, {\"alignmentgroup\": \"True\", \"hoverlabel\": {\"namelength\": 0}, \"hovertemplate\": \"Category=TRAVEL_AND_LOCAL<br>Month=%{x}<br>Installs=%{y}\", \"legendgroup\": \"Category=TRAVEL_AND_LOCAL\", \"marker\": {\"color\": \"#FECB52\"}, \"name\": \"Category=TRAVEL_AND_LOCAL\", \"offsetgroup\": \"Category=TRAVEL_AND_LOCAL\", \"orientation\": \"v\", \"showlegend\": true, \"textposition\": \"auto\", \"type\": \"bar\", \"x\": [\"February\", \"October\"], \"xaxis\": \"x\", \"y\": [10000, 10000], \"yaxis\": \"y\"}, {\"alignmentgroup\": \"True\", \"hoverlabel\": {\"namelength\": 0}, \"hovertemplate\": \"Category=HEALTH_AND_FITNESS<br>Month=%{x}<br>Installs=%{y}\", \"legendgroup\": \"Category=HEALTH_AND_FITNESS\", \"marker\": {\"color\": \"#636efa\"}, \"name\": \"Category=HEALTH_AND_FITNESS\", \"offsetgroup\": \"Category=HEALTH_AND_FITNESS\", \"orientation\": \"v\", \"showlegend\": true, \"textposition\": \"auto\", \"type\": \"bar\", \"x\": [\"July\", \"July\", \"July\"], \"xaxis\": \"x\", \"y\": [10000, 100000, 500000], \"yaxis\": \"y\"}, {\"alignmentgroup\": \"True\", \"hoverlabel\": {\"namelength\": 0}, \"hovertemplate\": \"Category=LIBRARIES_AND_DEMO<br>Month=%{x}<br>Installs=%{y}\", \"legendgroup\": \"Category=LIBRARIES_AND_DEMO\", \"marker\": {\"color\": \"#EF553B\"}, \"name\": \"Category=LIBRARIES_AND_DEMO\", \"offsetgroup\": \"Category=LIBRARIES_AND_DEMO\", \"orientation\": \"v\", \"showlegend\": true, \"textposition\": \"auto\", \"type\": \"bar\", \"x\": [\"October\"], \"xaxis\": \"x\", \"y\": [1000000], \"yaxis\": \"y\"}],\n",
              "                        {\"barmode\": \"relative\", \"legend\": {\"tracegroupgap\": 0}, \"template\": {\"data\": {\"bar\": [{\"error_x\": {\"color\": \"#2a3f5f\"}, \"error_y\": {\"color\": \"#2a3f5f\"}, \"marker\": {\"line\": {\"color\": \"#E5ECF6\", \"width\": 0.5}}, \"type\": \"bar\"}], \"barpolar\": [{\"marker\": {\"line\": {\"color\": \"#E5ECF6\", \"width\": 0.5}}, \"type\": \"barpolar\"}], \"carpet\": [{\"aaxis\": {\"endlinecolor\": \"#2a3f5f\", \"gridcolor\": \"white\", \"linecolor\": \"white\", \"minorgridcolor\": \"white\", \"startlinecolor\": \"#2a3f5f\"}, \"baxis\": {\"endlinecolor\": \"#2a3f5f\", \"gridcolor\": \"white\", \"linecolor\": \"white\", \"minorgridcolor\": \"white\", \"startlinecolor\": \"#2a3f5f\"}, \"type\": \"carpet\"}], \"choropleth\": [{\"colorbar\": {\"outlinewidth\": 0, \"ticks\": \"\"}, \"type\": \"choropleth\"}], \"contour\": [{\"colorbar\": {\"outlinewidth\": 0, \"ticks\": \"\"}, \"colorscale\": [[0.0, \"#0d0887\"], [0.1111111111111111, \"#46039f\"], [0.2222222222222222, \"#7201a8\"], [0.3333333333333333, \"#9c179e\"], [0.4444444444444444, \"#bd3786\"], [0.5555555555555556, \"#d8576b\"], [0.6666666666666666, \"#ed7953\"], [0.7777777777777778, \"#fb9f3a\"], [0.8888888888888888, \"#fdca26\"], [1.0, \"#f0f921\"]], \"type\": \"contour\"}], \"contourcarpet\": [{\"colorbar\": {\"outlinewidth\": 0, \"ticks\": \"\"}, \"type\": \"contourcarpet\"}], \"heatmap\": [{\"colorbar\": {\"outlinewidth\": 0, \"ticks\": \"\"}, \"colorscale\": [[0.0, \"#0d0887\"], [0.1111111111111111, \"#46039f\"], [0.2222222222222222, \"#7201a8\"], [0.3333333333333333, \"#9c179e\"], [0.4444444444444444, \"#bd3786\"], [0.5555555555555556, \"#d8576b\"], [0.6666666666666666, \"#ed7953\"], [0.7777777777777778, \"#fb9f3a\"], [0.8888888888888888, \"#fdca26\"], [1.0, \"#f0f921\"]], \"type\": \"heatmap\"}], \"heatmapgl\": [{\"colorbar\": {\"outlinewidth\": 0, \"ticks\": \"\"}, \"colorscale\": [[0.0, \"#0d0887\"], [0.1111111111111111, \"#46039f\"], [0.2222222222222222, \"#7201a8\"], [0.3333333333333333, \"#9c179e\"], [0.4444444444444444, \"#bd3786\"], [0.5555555555555556, \"#d8576b\"], [0.6666666666666666, \"#ed7953\"], [0.7777777777777778, \"#fb9f3a\"], [0.8888888888888888, \"#fdca26\"], [1.0, \"#f0f921\"]], \"type\": \"heatmapgl\"}], \"histogram\": [{\"marker\": {\"colorbar\": {\"outlinewidth\": 0, \"ticks\": \"\"}}, \"type\": \"histogram\"}], \"histogram2d\": [{\"colorbar\": {\"outlinewidth\": 0, \"ticks\": \"\"}, \"colorscale\": [[0.0, \"#0d0887\"], [0.1111111111111111, \"#46039f\"], [0.2222222222222222, \"#7201a8\"], [0.3333333333333333, \"#9c179e\"], [0.4444444444444444, \"#bd3786\"], [0.5555555555555556, \"#d8576b\"], [0.6666666666666666, \"#ed7953\"], [0.7777777777777778, \"#fb9f3a\"], [0.8888888888888888, \"#fdca26\"], [1.0, \"#f0f921\"]], \"type\": \"histogram2d\"}], \"histogram2dcontour\": [{\"colorbar\": {\"outlinewidth\": 0, \"ticks\": \"\"}, \"colorscale\": [[0.0, \"#0d0887\"], [0.1111111111111111, \"#46039f\"], [0.2222222222222222, \"#7201a8\"], [0.3333333333333333, \"#9c179e\"], [0.4444444444444444, \"#bd3786\"], [0.5555555555555556, \"#d8576b\"], [0.6666666666666666, \"#ed7953\"], [0.7777777777777778, \"#fb9f3a\"], [0.8888888888888888, \"#fdca26\"], [1.0, \"#f0f921\"]], \"type\": \"histogram2dcontour\"}], \"mesh3d\": [{\"colorbar\": {\"outlinewidth\": 0, \"ticks\": \"\"}, \"type\": \"mesh3d\"}], \"parcoords\": [{\"line\": {\"colorbar\": {\"outlinewidth\": 0, \"ticks\": \"\"}}, \"type\": \"parcoords\"}], \"pie\": [{\"automargin\": true, \"type\": \"pie\"}], \"scatter\": [{\"marker\": {\"colorbar\": {\"outlinewidth\": 0, \"ticks\": \"\"}}, \"type\": \"scatter\"}], \"scatter3d\": [{\"line\": {\"colorbar\": {\"outlinewidth\": 0, \"ticks\": \"\"}}, \"marker\": {\"colorbar\": {\"outlinewidth\": 0, \"ticks\": \"\"}}, \"type\": \"scatter3d\"}], \"scattercarpet\": [{\"marker\": {\"colorbar\": {\"outlinewidth\": 0, \"ticks\": \"\"}}, \"type\": \"scattercarpet\"}], \"scattergeo\": [{\"marker\": {\"colorbar\": {\"outlinewidth\": 0, \"ticks\": \"\"}}, \"type\": \"scattergeo\"}], \"scattergl\": [{\"marker\": {\"colorbar\": {\"outlinewidth\": 0, \"ticks\": \"\"}}, \"type\": \"scattergl\"}], \"scattermapbox\": [{\"marker\": {\"colorbar\": {\"outlinewidth\": 0, \"ticks\": \"\"}}, \"type\": \"scattermapbox\"}], \"scatterpolar\": [{\"marker\": {\"colorbar\": {\"outlinewidth\": 0, \"ticks\": \"\"}}, \"type\": \"scatterpolar\"}], \"scatterpolargl\": [{\"marker\": {\"colorbar\": {\"outlinewidth\": 0, \"ticks\": \"\"}}, \"type\": \"scatterpolargl\"}], \"scatterternary\": [{\"marker\": {\"colorbar\": {\"outlinewidth\": 0, \"ticks\": \"\"}}, \"type\": \"scatterternary\"}], \"surface\": [{\"colorbar\": {\"outlinewidth\": 0, \"ticks\": \"\"}, \"colorscale\": [[0.0, \"#0d0887\"], [0.1111111111111111, \"#46039f\"], [0.2222222222222222, \"#7201a8\"], [0.3333333333333333, \"#9c179e\"], [0.4444444444444444, \"#bd3786\"], [0.5555555555555556, \"#d8576b\"], [0.6666666666666666, \"#ed7953\"], [0.7777777777777778, \"#fb9f3a\"], [0.8888888888888888, \"#fdca26\"], [1.0, \"#f0f921\"]], \"type\": \"surface\"}], \"table\": [{\"cells\": {\"fill\": {\"color\": \"#EBF0F8\"}, \"line\": {\"color\": \"white\"}}, \"header\": {\"fill\": {\"color\": \"#C8D4E3\"}, \"line\": {\"color\": \"white\"}}, \"type\": \"table\"}]}, \"layout\": {\"annotationdefaults\": {\"arrowcolor\": \"#2a3f5f\", \"arrowhead\": 0, \"arrowwidth\": 1}, \"coloraxis\": {\"colorbar\": {\"outlinewidth\": 0, \"ticks\": \"\"}}, \"colorscale\": {\"diverging\": [[0, \"#8e0152\"], [0.1, \"#c51b7d\"], [0.2, \"#de77ae\"], [0.3, \"#f1b6da\"], [0.4, \"#fde0ef\"], [0.5, \"#f7f7f7\"], [0.6, \"#e6f5d0\"], [0.7, \"#b8e186\"], [0.8, \"#7fbc41\"], [0.9, \"#4d9221\"], [1, \"#276419\"]], \"sequential\": [[0.0, \"#0d0887\"], [0.1111111111111111, \"#46039f\"], [0.2222222222222222, \"#7201a8\"], [0.3333333333333333, \"#9c179e\"], [0.4444444444444444, \"#bd3786\"], [0.5555555555555556, \"#d8576b\"], [0.6666666666666666, \"#ed7953\"], [0.7777777777777778, \"#fb9f3a\"], [0.8888888888888888, \"#fdca26\"], [1.0, \"#f0f921\"]], \"sequentialminus\": [[0.0, \"#0d0887\"], [0.1111111111111111, \"#46039f\"], [0.2222222222222222, \"#7201a8\"], [0.3333333333333333, \"#9c179e\"], [0.4444444444444444, \"#bd3786\"], [0.5555555555555556, \"#d8576b\"], [0.6666666666666666, \"#ed7953\"], [0.7777777777777778, \"#fb9f3a\"], [0.8888888888888888, \"#fdca26\"], [1.0, \"#f0f921\"]]}, \"colorway\": [\"#636efa\", \"#EF553B\", \"#00cc96\", \"#ab63fa\", \"#FFA15A\", \"#19d3f3\", \"#FF6692\", \"#B6E880\", \"#FF97FF\", \"#FECB52\"], \"font\": {\"color\": \"#2a3f5f\"}, \"geo\": {\"bgcolor\": \"white\", \"lakecolor\": \"white\", \"landcolor\": \"#E5ECF6\", \"showlakes\": true, \"showland\": true, \"subunitcolor\": \"white\"}, \"hoverlabel\": {\"align\": \"left\"}, \"hovermode\": \"closest\", \"mapbox\": {\"style\": \"light\"}, \"paper_bgcolor\": \"white\", \"plot_bgcolor\": \"#E5ECF6\", \"polar\": {\"angularaxis\": {\"gridcolor\": \"white\", \"linecolor\": \"white\", \"ticks\": \"\"}, \"bgcolor\": \"#E5ECF6\", \"radialaxis\": {\"gridcolor\": \"white\", \"linecolor\": \"white\", \"ticks\": \"\"}}, \"scene\": {\"xaxis\": {\"backgroundcolor\": \"#E5ECF6\", \"gridcolor\": \"white\", \"gridwidth\": 2, \"linecolor\": \"white\", \"showbackground\": true, \"ticks\": \"\", \"zerolinecolor\": \"white\"}, \"yaxis\": {\"backgroundcolor\": \"#E5ECF6\", \"gridcolor\": \"white\", \"gridwidth\": 2, \"linecolor\": \"white\", \"showbackground\": true, \"ticks\": \"\", \"zerolinecolor\": \"white\"}, \"zaxis\": {\"backgroundcolor\": \"#E5ECF6\", \"gridcolor\": \"white\", \"gridwidth\": 2, \"linecolor\": \"white\", \"showbackground\": true, \"ticks\": \"\", \"zerolinecolor\": \"white\"}}, \"shapedefaults\": {\"line\": {\"color\": \"#2a3f5f\"}}, \"ternary\": {\"aaxis\": {\"gridcolor\": \"white\", \"linecolor\": \"white\", \"ticks\": \"\"}, \"baxis\": {\"gridcolor\": \"white\", \"linecolor\": \"white\", \"ticks\": \"\"}, \"bgcolor\": \"#E5ECF6\", \"caxis\": {\"gridcolor\": \"white\", \"linecolor\": \"white\", \"ticks\": \"\"}}, \"title\": {\"x\": 0.05}, \"xaxis\": {\"automargin\": true, \"gridcolor\": \"white\", \"linecolor\": \"white\", \"ticks\": \"\", \"title\": {\"standoff\": 15}, \"zerolinecolor\": \"white\", \"zerolinewidth\": 2}, \"yaxis\": {\"automargin\": true, \"gridcolor\": \"white\", \"linecolor\": \"white\", \"ticks\": \"\", \"title\": {\"standoff\": 15}, \"zerolinecolor\": \"white\", \"zerolinewidth\": 2}}}, \"title\": {\"text\": \"2014 Monthly installation Trend\"}, \"xaxis\": {\"anchor\": \"y\", \"categoryarray\": [\"January\", \"February\", \"March\", \"April\", \"May\", \"June\", \"July\", \"August\", \"September\", \"October\", \"November\", \"December\"], \"categoryorder\": \"array\", \"domain\": [0.0, 1.0], \"title\": {\"text\": \"Month\"}}, \"yaxis\": {\"anchor\": \"x\", \"domain\": [0.0, 1.0], \"title\": {\"text\": \"Installs\"}}},\n",
              "                        {\"responsive\": true}\n",
              "                    ).then(function(){\n",
              "                            \n",
              "var gd = document.getElementById('59f54038-0b7a-4c0a-98c9-3d2a2d8cffe0');\n",
              "var x = new MutationObserver(function (mutations, observer) {{\n",
              "        var display = window.getComputedStyle(gd).display;\n",
              "        if (!display || display === 'none') {{\n",
              "            console.log([gd, 'removed!']);\n",
              "            Plotly.purge(gd);\n",
              "            observer.disconnect();\n",
              "        }}\n",
              "}});\n",
              "\n",
              "// Listen for the removal of the full notebook cells\n",
              "var notebookContainer = gd.closest('#notebook-container');\n",
              "if (notebookContainer) {{\n",
              "    x.observe(notebookContainer, {childList: true});\n",
              "}}\n",
              "\n",
              "// Listen for the clearing of the current output cell\n",
              "var outputEl = gd.closest('.output');\n",
              "if (outputEl) {{\n",
              "    x.observe(outputEl, {childList: true});\n",
              "}}\n",
              "\n",
              "                        })\n",
              "                };\n",
              "                \n",
              "            </script>\n",
              "        </div>\n",
              "</body>\n",
              "</html>"
            ]
          },
          "metadata": {}
        },
        {
          "output_type": "display_data",
          "data": {
            "text/html": [
              "<html>\n",
              "<head><meta charset=\"utf-8\" /></head>\n",
              "<body>\n",
              "    <div>\n",
              "            <script src=\"https://cdnjs.cloudflare.com/ajax/libs/mathjax/2.7.5/MathJax.js?config=TeX-AMS-MML_SVG\"></script><script type=\"text/javascript\">if (window.MathJax) {MathJax.Hub.Config({SVG: {font: \"STIX-Web\"}});}</script>\n",
              "                <script type=\"text/javascript\">window.PlotlyConfig = {MathJaxConfig: 'local'};</script>\n",
              "        <script src=\"https://cdn.plot.ly/plotly-latest.min.js\"></script>    \n",
              "            <div id=\"aa8b69f2-fa55-4eac-9213-4adccf4d1cb2\" class=\"plotly-graph-div\" style=\"height:525px; width:100%;\"></div>\n",
              "            <script type=\"text/javascript\">\n",
              "                \n",
              "                    window.PLOTLYENV=window.PLOTLYENV || {};\n",
              "                    \n",
              "                if (document.getElementById(\"aa8b69f2-fa55-4eac-9213-4adccf4d1cb2\")) {\n",
              "                    Plotly.newPlot(\n",
              "                        'aa8b69f2-fa55-4eac-9213-4adccf4d1cb2',\n",
              "                        [{\"alignmentgroup\": \"True\", \"hoverlabel\": {\"namelength\": 0}, \"hovertemplate\": \"Category=FAMILY<br>Month=%{x}<br>Installs=%{y}\", \"legendgroup\": \"Category=FAMILY\", \"marker\": {\"color\": \"#636efa\"}, \"name\": \"Category=FAMILY\", \"offsetgroup\": \"Category=FAMILY\", \"orientation\": \"v\", \"showlegend\": true, \"textposition\": \"auto\", \"type\": \"bar\", \"x\": [\"April\", \"August\", \"August\", \"August\", \"August\", \"August\", \"August\", \"December\", \"December\", \"February\", \"February\", \"May\", \"May\", \"November\", \"October\", \"September\"], \"xaxis\": \"x\", \"y\": [1000, 1000, 1000, 10, 100, 50000, 50000000, 50, 50000, 10000, 50, 10000, 100000, 100, 5000, 10000], \"yaxis\": \"y\"}, {\"alignmentgroup\": \"True\", \"hoverlabel\": {\"namelength\": 0}, \"hovertemplate\": \"Category=VIDEO_PLAYERS<br>Month=%{x}<br>Installs=%{y}\", \"legendgroup\": \"Category=VIDEO_PLAYERS\", \"marker\": {\"color\": \"#EF553B\"}, \"name\": \"Category=VIDEO_PLAYERS\", \"offsetgroup\": \"Category=VIDEO_PLAYERS\", \"orientation\": \"v\", \"showlegend\": true, \"textposition\": \"auto\", \"type\": \"bar\", \"x\": [\"April\", \"July\", \"November\", \"September\"], \"xaxis\": \"x\", \"y\": [10000, 100000, 500000, 10000], \"yaxis\": \"y\"}, {\"alignmentgroup\": \"True\", \"hoverlabel\": {\"namelength\": 0}, \"hovertemplate\": \"Category=BUSINESS<br>Month=%{x}<br>Installs=%{y}\", \"legendgroup\": \"Category=BUSINESS\", \"marker\": {\"color\": \"#00cc96\"}, \"name\": \"Category=BUSINESS\", \"offsetgroup\": \"Category=BUSINESS\", \"orientation\": \"v\", \"showlegend\": true, \"textposition\": \"auto\", \"type\": \"bar\", \"x\": [\"April\", \"February\", \"May\", \"May\"], \"xaxis\": \"x\", \"y\": [100, 100, 10000, 100], \"yaxis\": \"y\"}, {\"alignmentgroup\": \"True\", \"hoverlabel\": {\"namelength\": 0}, \"hovertemplate\": \"Category=SPORTS<br>Month=%{x}<br>Installs=%{y}\", \"legendgroup\": \"Category=SPORTS\", \"marker\": {\"color\": \"#ab63fa\"}, \"name\": \"Category=SPORTS\", \"offsetgroup\": \"Category=SPORTS\", \"orientation\": \"v\", \"showlegend\": true, \"textposition\": \"auto\", \"type\": \"bar\", \"x\": [\"April\", \"August\", \"May\", \"November\"], \"xaxis\": \"x\", \"y\": [100, 50000, 10000, 1000000], \"yaxis\": \"y\"}, {\"alignmentgroup\": \"True\", \"hoverlabel\": {\"namelength\": 0}, \"hovertemplate\": \"Category=PERSONALIZATION<br>Month=%{x}<br>Installs=%{y}\", \"legendgroup\": \"Category=PERSONALIZATION\", \"marker\": {\"color\": \"#FFA15A\"}, \"name\": \"Category=PERSONALIZATION\", \"offsetgroup\": \"Category=PERSONALIZATION\", \"orientation\": \"v\", \"showlegend\": true, \"textposition\": \"auto\", \"type\": \"bar\", \"x\": [\"August\", \"August\", \"August\", \"February\", \"July\", \"July\", \"July\", \"May\", \"May\", \"November\", \"November\", \"October\", \"September\", \"September\", \"September\"], \"xaxis\": \"x\", \"y\": [10000, 100, 50, 10000, 5000, 500, 500000, 1000, 10000, 10000, 100000, 1000, 1000000, 50, 500], \"yaxis\": \"y\"}, {\"alignmentgroup\": \"True\", \"hoverlabel\": {\"namelength\": 0}, \"hovertemplate\": \"Category=TOOLS<br>Month=%{x}<br>Installs=%{y}\", \"legendgroup\": \"Category=TOOLS\", \"marker\": {\"color\": \"#19d3f3\"}, \"name\": \"Category=TOOLS\", \"offsetgroup\": \"Category=TOOLS\", \"orientation\": \"v\", \"showlegend\": true, \"textposition\": \"auto\", \"type\": \"bar\", \"x\": [\"August\", \"December\", \"December\", \"July\", \"July\", \"November\", \"October\", \"October\", \"September\", \"September\"], \"xaxis\": \"x\", \"y\": [10000, 100000, 50000, 10000, 100000, 1000, 10000, 100000, 100000, 5000], \"yaxis\": \"y\"}, {\"alignmentgroup\": \"True\", \"hoverlabel\": {\"namelength\": 0}, \"hovertemplate\": \"Category=GAME<br>Month=%{x}<br>Installs=%{y}\", \"legendgroup\": \"Category=GAME\", \"marker\": {\"color\": \"#FF6692\"}, \"name\": \"Category=GAME\", \"offsetgroup\": \"Category=GAME\", \"orientation\": \"v\", \"showlegend\": true, \"textposition\": \"auto\", \"type\": \"bar\", \"x\": [\"August\", \"August\", \"December\", \"December\", \"December\", \"July\", \"July\", \"July\", \"June\", \"June\", \"June\", \"November\", \"October\", \"October\", \"September\", \"September\", \"September\"], \"xaxis\": \"x\", \"y\": [100, 50, 1000000, 100, 50000, 100000, 5000000, 5000000, 1000000, 100000, 5000, 10000000, 1000000, 10000000, 1000000, 10000, 5000000], \"yaxis\": \"y\"}, {\"alignmentgroup\": \"True\", \"hoverlabel\": {\"namelength\": 0}, \"hovertemplate\": \"Category=COMMUNICATION<br>Month=%{x}<br>Installs=%{y}\", \"legendgroup\": \"Category=COMMUNICATION\", \"marker\": {\"color\": \"#B6E880\"}, \"name\": \"Category=COMMUNICATION\", \"offsetgroup\": \"Category=COMMUNICATION\", \"orientation\": \"v\", \"showlegend\": true, \"textposition\": \"auto\", \"type\": \"bar\", \"x\": [\"August\", \"August\", \"June\"], \"xaxis\": \"x\", \"y\": [100000, 50000, 1000], \"yaxis\": \"y\"}, {\"alignmentgroup\": \"True\", \"hoverlabel\": {\"namelength\": 0}, \"hovertemplate\": \"Category=PRODUCTIVITY<br>Month=%{x}<br>Installs=%{y}\", \"legendgroup\": \"Category=PRODUCTIVITY\", \"marker\": {\"color\": \"#FF97FF\"}, \"name\": \"Category=PRODUCTIVITY\", \"offsetgroup\": \"Category=PRODUCTIVITY\", \"orientation\": \"v\", \"showlegend\": true, \"textposition\": \"auto\", \"type\": \"bar\", \"x\": [\"August\", \"August\", \"September\", \"September\", \"September\"], \"xaxis\": \"x\", \"y\": [5, 5000, 1000, 1000000, 100000], \"yaxis\": \"y\"}, {\"alignmentgroup\": \"True\", \"hoverlabel\": {\"namelength\": 0}, \"hovertemplate\": \"Category=BOOKS_AND_REFERENCE<br>Month=%{x}<br>Installs=%{y}\", \"legendgroup\": \"Category=BOOKS_AND_REFERENCE\", \"marker\": {\"color\": \"#FECB52\"}, \"name\": \"Category=BOOKS_AND_REFERENCE\", \"offsetgroup\": \"Category=BOOKS_AND_REFERENCE\", \"orientation\": \"v\", \"showlegend\": true, \"textposition\": \"auto\", \"type\": \"bar\", \"x\": [\"August\", \"November\", \"October\"], \"xaxis\": \"x\", \"y\": [500, 1000, 500], \"yaxis\": \"y\"}, {\"alignmentgroup\": \"True\", \"hoverlabel\": {\"namelength\": 0}, \"hovertemplate\": \"Category=MAPS_AND_NAVIGATION<br>Month=%{x}<br>Installs=%{y}\", \"legendgroup\": \"Category=MAPS_AND_NAVIGATION\", \"marker\": {\"color\": \"#636efa\"}, \"name\": \"Category=MAPS_AND_NAVIGATION\", \"offsetgroup\": \"Category=MAPS_AND_NAVIGATION\", \"orientation\": \"v\", \"showlegend\": true, \"textposition\": \"auto\", \"type\": \"bar\", \"x\": [\"December\", \"February\", \"September\"], \"xaxis\": \"x\", \"y\": [10000, 5000, 1000], \"yaxis\": \"y\"}, {\"alignmentgroup\": \"True\", \"hoverlabel\": {\"namelength\": 0}, \"hovertemplate\": \"Category=MEDICAL<br>Month=%{x}<br>Installs=%{y}\", \"legendgroup\": \"Category=MEDICAL\", \"marker\": {\"color\": \"#EF553B\"}, \"name\": \"Category=MEDICAL\", \"offsetgroup\": \"Category=MEDICAL\", \"orientation\": \"v\", \"showlegend\": true, \"textposition\": \"auto\", \"type\": \"bar\", \"x\": [\"December\", \"December\", \"January\", \"July\", \"November\", \"October\"], \"xaxis\": \"x\", \"y\": [100, 5000, 10000, 50000, 5000, 100000], \"yaxis\": \"y\"}, {\"alignmentgroup\": \"True\", \"hoverlabel\": {\"namelength\": 0}, \"hovertemplate\": \"Category=EDUCATION<br>Month=%{x}<br>Installs=%{y}\", \"legendgroup\": \"Category=EDUCATION\", \"marker\": {\"color\": \"#00cc96\"}, \"name\": \"Category=EDUCATION\", \"offsetgroup\": \"Category=EDUCATION\", \"orientation\": \"v\", \"showlegend\": true, \"textposition\": \"auto\", \"type\": \"bar\", \"x\": [\"December\"], \"xaxis\": \"x\", \"y\": [50000], \"yaxis\": \"y\"}, {\"alignmentgroup\": \"True\", \"hoverlabel\": {\"namelength\": 0}, \"hovertemplate\": \"Category=LIFESTYLE<br>Month=%{x}<br>Installs=%{y}\", \"legendgroup\": \"Category=LIFESTYLE\", \"marker\": {\"color\": \"#ab63fa\"}, \"name\": \"Category=LIFESTYLE\", \"offsetgroup\": \"Category=LIFESTYLE\", \"orientation\": \"v\", \"showlegend\": true, \"textposition\": \"auto\", \"type\": \"bar\", \"x\": [\"February\", \"July\", \"September\"], \"xaxis\": \"x\", \"y\": [10000, 10000, 50000], \"yaxis\": \"y\"}, {\"alignmentgroup\": \"True\", \"hoverlabel\": {\"namelength\": 0}, \"hovertemplate\": \"Category=TRAVEL_AND_LOCAL<br>Month=%{x}<br>Installs=%{y}\", \"legendgroup\": \"Category=TRAVEL_AND_LOCAL\", \"marker\": {\"color\": \"#FFA15A\"}, \"name\": \"Category=TRAVEL_AND_LOCAL\", \"offsetgroup\": \"Category=TRAVEL_AND_LOCAL\", \"orientation\": \"v\", \"showlegend\": true, \"textposition\": \"auto\", \"type\": \"bar\", \"x\": [\"July\"], \"xaxis\": \"x\", \"y\": [1000], \"yaxis\": \"y\"}, {\"alignmentgroup\": \"True\", \"hoverlabel\": {\"namelength\": 0}, \"hovertemplate\": \"Category=FINANCE<br>Month=%{x}<br>Installs=%{y}\", \"legendgroup\": \"Category=FINANCE\", \"marker\": {\"color\": \"#19d3f3\"}, \"name\": \"Category=FINANCE\", \"offsetgroup\": \"Category=FINANCE\", \"orientation\": \"v\", \"showlegend\": true, \"textposition\": \"auto\", \"type\": \"bar\", \"x\": [\"June\", \"October\", \"September\"], \"xaxis\": \"x\", \"y\": [10000, 50000, 100], \"yaxis\": \"y\"}, {\"alignmentgroup\": \"True\", \"hoverlabel\": {\"namelength\": 0}, \"hovertemplate\": \"Category=HEALTH_AND_FITNESS<br>Month=%{x}<br>Installs=%{y}\", \"legendgroup\": \"Category=HEALTH_AND_FITNESS\", \"marker\": {\"color\": \"#FF6692\"}, \"name\": \"Category=HEALTH_AND_FITNESS\", \"offsetgroup\": \"Category=HEALTH_AND_FITNESS\", \"orientation\": \"v\", \"showlegend\": true, \"textposition\": \"auto\", \"type\": \"bar\", \"x\": [\"June\"], \"xaxis\": \"x\", \"y\": [10000], \"yaxis\": \"y\"}, {\"alignmentgroup\": \"True\", \"hoverlabel\": {\"namelength\": 0}, \"hovertemplate\": \"Category=SHOPPING<br>Month=%{x}<br>Installs=%{y}\", \"legendgroup\": \"Category=SHOPPING\", \"marker\": {\"color\": \"#B6E880\"}, \"name\": \"Category=SHOPPING\", \"offsetgroup\": \"Category=SHOPPING\", \"orientation\": \"v\", \"showlegend\": true, \"textposition\": \"auto\", \"type\": \"bar\", \"x\": [\"June\"], \"xaxis\": \"x\", \"y\": [10000], \"yaxis\": \"y\"}, {\"alignmentgroup\": \"True\", \"hoverlabel\": {\"namelength\": 0}, \"hovertemplate\": \"Category=LIBRARIES_AND_DEMO<br>Month=%{x}<br>Installs=%{y}\", \"legendgroup\": \"Category=LIBRARIES_AND_DEMO\", \"marker\": {\"color\": \"#FF97FF\"}, \"name\": \"Category=LIBRARIES_AND_DEMO\", \"offsetgroup\": \"Category=LIBRARIES_AND_DEMO\", \"orientation\": \"v\", \"showlegend\": true, \"textposition\": \"auto\", \"type\": \"bar\", \"x\": [\"March\"], \"xaxis\": \"x\", \"y\": [5000000], \"yaxis\": \"y\"}, {\"alignmentgroup\": \"True\", \"hoverlabel\": {\"namelength\": 0}, \"hovertemplate\": \"Category=SOCIAL<br>Month=%{x}<br>Installs=%{y}\", \"legendgroup\": \"Category=SOCIAL\", \"marker\": {\"color\": \"#FECB52\"}, \"name\": \"Category=SOCIAL\", \"offsetgroup\": \"Category=SOCIAL\", \"orientation\": \"v\", \"showlegend\": true, \"textposition\": \"auto\", \"type\": \"bar\", \"x\": [\"May\", \"May\"], \"xaxis\": \"x\", \"y\": [1000, 1000], \"yaxis\": \"y\"}, {\"alignmentgroup\": \"True\", \"hoverlabel\": {\"namelength\": 0}, \"hovertemplate\": \"Category=WEATHER<br>Month=%{x}<br>Installs=%{y}\", \"legendgroup\": \"Category=WEATHER\", \"marker\": {\"color\": \"#636efa\"}, \"name\": \"Category=WEATHER\", \"offsetgroup\": \"Category=WEATHER\", \"orientation\": \"v\", \"showlegend\": true, \"textposition\": \"auto\", \"type\": \"bar\", \"x\": [\"November\"], \"xaxis\": \"x\", \"y\": [1000000], \"yaxis\": \"y\"}, {\"alignmentgroup\": \"True\", \"hoverlabel\": {\"namelength\": 0}, \"hovertemplate\": \"Category=HOUSE_AND_HOME<br>Month=%{x}<br>Installs=%{y}\", \"legendgroup\": \"Category=HOUSE_AND_HOME\", \"marker\": {\"color\": \"#EF553B\"}, \"name\": \"Category=HOUSE_AND_HOME\", \"offsetgroup\": \"Category=HOUSE_AND_HOME\", \"orientation\": \"v\", \"showlegend\": true, \"textposition\": \"auto\", \"type\": \"bar\", \"x\": [\"November\"], \"xaxis\": \"x\", \"y\": [100000], \"yaxis\": \"y\"}],\n",
              "                        {\"barmode\": \"relative\", \"legend\": {\"tracegroupgap\": 0}, \"template\": {\"data\": {\"bar\": [{\"error_x\": {\"color\": \"#2a3f5f\"}, \"error_y\": {\"color\": \"#2a3f5f\"}, \"marker\": {\"line\": {\"color\": \"#E5ECF6\", \"width\": 0.5}}, \"type\": \"bar\"}], \"barpolar\": [{\"marker\": {\"line\": {\"color\": \"#E5ECF6\", \"width\": 0.5}}, \"type\": \"barpolar\"}], \"carpet\": [{\"aaxis\": {\"endlinecolor\": \"#2a3f5f\", \"gridcolor\": \"white\", \"linecolor\": \"white\", \"minorgridcolor\": \"white\", \"startlinecolor\": \"#2a3f5f\"}, \"baxis\": {\"endlinecolor\": \"#2a3f5f\", \"gridcolor\": \"white\", \"linecolor\": \"white\", \"minorgridcolor\": \"white\", \"startlinecolor\": \"#2a3f5f\"}, \"type\": \"carpet\"}], \"choropleth\": [{\"colorbar\": {\"outlinewidth\": 0, \"ticks\": \"\"}, \"type\": \"choropleth\"}], \"contour\": [{\"colorbar\": {\"outlinewidth\": 0, \"ticks\": \"\"}, \"colorscale\": [[0.0, \"#0d0887\"], [0.1111111111111111, \"#46039f\"], [0.2222222222222222, \"#7201a8\"], [0.3333333333333333, \"#9c179e\"], [0.4444444444444444, \"#bd3786\"], [0.5555555555555556, \"#d8576b\"], [0.6666666666666666, \"#ed7953\"], [0.7777777777777778, \"#fb9f3a\"], [0.8888888888888888, \"#fdca26\"], [1.0, \"#f0f921\"]], \"type\": \"contour\"}], \"contourcarpet\": [{\"colorbar\": {\"outlinewidth\": 0, \"ticks\": \"\"}, \"type\": \"contourcarpet\"}], \"heatmap\": [{\"colorbar\": {\"outlinewidth\": 0, \"ticks\": \"\"}, \"colorscale\": [[0.0, \"#0d0887\"], [0.1111111111111111, \"#46039f\"], [0.2222222222222222, \"#7201a8\"], [0.3333333333333333, \"#9c179e\"], [0.4444444444444444, \"#bd3786\"], [0.5555555555555556, \"#d8576b\"], [0.6666666666666666, \"#ed7953\"], [0.7777777777777778, \"#fb9f3a\"], [0.8888888888888888, \"#fdca26\"], [1.0, \"#f0f921\"]], \"type\": \"heatmap\"}], \"heatmapgl\": [{\"colorbar\": {\"outlinewidth\": 0, \"ticks\": \"\"}, \"colorscale\": [[0.0, \"#0d0887\"], [0.1111111111111111, \"#46039f\"], [0.2222222222222222, \"#7201a8\"], [0.3333333333333333, \"#9c179e\"], [0.4444444444444444, \"#bd3786\"], [0.5555555555555556, \"#d8576b\"], [0.6666666666666666, \"#ed7953\"], [0.7777777777777778, \"#fb9f3a\"], [0.8888888888888888, \"#fdca26\"], [1.0, \"#f0f921\"]], \"type\": \"heatmapgl\"}], \"histogram\": [{\"marker\": {\"colorbar\": {\"outlinewidth\": 0, \"ticks\": \"\"}}, \"type\": \"histogram\"}], \"histogram2d\": [{\"colorbar\": {\"outlinewidth\": 0, \"ticks\": \"\"}, \"colorscale\": [[0.0, \"#0d0887\"], [0.1111111111111111, \"#46039f\"], [0.2222222222222222, \"#7201a8\"], [0.3333333333333333, \"#9c179e\"], [0.4444444444444444, \"#bd3786\"], [0.5555555555555556, \"#d8576b\"], [0.6666666666666666, \"#ed7953\"], [0.7777777777777778, \"#fb9f3a\"], [0.8888888888888888, \"#fdca26\"], [1.0, \"#f0f921\"]], \"type\": \"histogram2d\"}], \"histogram2dcontour\": [{\"colorbar\": {\"outlinewidth\": 0, \"ticks\": \"\"}, \"colorscale\": [[0.0, \"#0d0887\"], [0.1111111111111111, \"#46039f\"], [0.2222222222222222, \"#7201a8\"], [0.3333333333333333, \"#9c179e\"], [0.4444444444444444, \"#bd3786\"], [0.5555555555555556, \"#d8576b\"], [0.6666666666666666, \"#ed7953\"], [0.7777777777777778, \"#fb9f3a\"], [0.8888888888888888, \"#fdca26\"], [1.0, \"#f0f921\"]], \"type\": \"histogram2dcontour\"}], \"mesh3d\": [{\"colorbar\": {\"outlinewidth\": 0, \"ticks\": \"\"}, \"type\": \"mesh3d\"}], \"parcoords\": [{\"line\": {\"colorbar\": {\"outlinewidth\": 0, \"ticks\": \"\"}}, \"type\": \"parcoords\"}], \"pie\": [{\"automargin\": true, \"type\": \"pie\"}], \"scatter\": [{\"marker\": {\"colorbar\": {\"outlinewidth\": 0, \"ticks\": \"\"}}, \"type\": \"scatter\"}], \"scatter3d\": [{\"line\": {\"colorbar\": {\"outlinewidth\": 0, \"ticks\": \"\"}}, \"marker\": {\"colorbar\": {\"outlinewidth\": 0, \"ticks\": \"\"}}, \"type\": \"scatter3d\"}], \"scattercarpet\": [{\"marker\": {\"colorbar\": {\"outlinewidth\": 0, \"ticks\": \"\"}}, \"type\": \"scattercarpet\"}], \"scattergeo\": [{\"marker\": {\"colorbar\": {\"outlinewidth\": 0, \"ticks\": \"\"}}, \"type\": \"scattergeo\"}], \"scattergl\": [{\"marker\": {\"colorbar\": {\"outlinewidth\": 0, \"ticks\": \"\"}}, \"type\": \"scattergl\"}], \"scattermapbox\": [{\"marker\": {\"colorbar\": {\"outlinewidth\": 0, \"ticks\": \"\"}}, \"type\": \"scattermapbox\"}], \"scatterpolar\": [{\"marker\": {\"colorbar\": {\"outlinewidth\": 0, \"ticks\": \"\"}}, \"type\": \"scatterpolar\"}], \"scatterpolargl\": [{\"marker\": {\"colorbar\": {\"outlinewidth\": 0, \"ticks\": \"\"}}, \"type\": \"scatterpolargl\"}], \"scatterternary\": [{\"marker\": {\"colorbar\": {\"outlinewidth\": 0, \"ticks\": \"\"}}, \"type\": \"scatterternary\"}], \"surface\": [{\"colorbar\": {\"outlinewidth\": 0, \"ticks\": \"\"}, \"colorscale\": [[0.0, \"#0d0887\"], [0.1111111111111111, \"#46039f\"], [0.2222222222222222, \"#7201a8\"], [0.3333333333333333, \"#9c179e\"], [0.4444444444444444, \"#bd3786\"], [0.5555555555555556, \"#d8576b\"], [0.6666666666666666, \"#ed7953\"], [0.7777777777777778, \"#fb9f3a\"], [0.8888888888888888, \"#fdca26\"], [1.0, \"#f0f921\"]], \"type\": \"surface\"}], \"table\": [{\"cells\": {\"fill\": {\"color\": \"#EBF0F8\"}, \"line\": {\"color\": \"white\"}}, \"header\": {\"fill\": {\"color\": \"#C8D4E3\"}, \"line\": {\"color\": \"white\"}}, \"type\": \"table\"}]}, \"layout\": {\"annotationdefaults\": {\"arrowcolor\": \"#2a3f5f\", \"arrowhead\": 0, \"arrowwidth\": 1}, \"coloraxis\": {\"colorbar\": {\"outlinewidth\": 0, \"ticks\": \"\"}}, \"colorscale\": {\"diverging\": [[0, \"#8e0152\"], [0.1, \"#c51b7d\"], [0.2, \"#de77ae\"], [0.3, \"#f1b6da\"], [0.4, \"#fde0ef\"], [0.5, \"#f7f7f7\"], [0.6, \"#e6f5d0\"], [0.7, \"#b8e186\"], [0.8, \"#7fbc41\"], [0.9, \"#4d9221\"], [1, \"#276419\"]], \"sequential\": [[0.0, \"#0d0887\"], [0.1111111111111111, \"#46039f\"], [0.2222222222222222, \"#7201a8\"], [0.3333333333333333, \"#9c179e\"], [0.4444444444444444, \"#bd3786\"], [0.5555555555555556, \"#d8576b\"], [0.6666666666666666, \"#ed7953\"], [0.7777777777777778, \"#fb9f3a\"], [0.8888888888888888, \"#fdca26\"], [1.0, \"#f0f921\"]], \"sequentialminus\": [[0.0, \"#0d0887\"], [0.1111111111111111, \"#46039f\"], [0.2222222222222222, \"#7201a8\"], [0.3333333333333333, \"#9c179e\"], [0.4444444444444444, \"#bd3786\"], [0.5555555555555556, \"#d8576b\"], [0.6666666666666666, \"#ed7953\"], [0.7777777777777778, \"#fb9f3a\"], [0.8888888888888888, \"#fdca26\"], [1.0, \"#f0f921\"]]}, \"colorway\": [\"#636efa\", \"#EF553B\", \"#00cc96\", \"#ab63fa\", \"#FFA15A\", \"#19d3f3\", \"#FF6692\", \"#B6E880\", \"#FF97FF\", \"#FECB52\"], \"font\": {\"color\": \"#2a3f5f\"}, \"geo\": {\"bgcolor\": \"white\", \"lakecolor\": \"white\", \"landcolor\": \"#E5ECF6\", \"showlakes\": true, \"showland\": true, \"subunitcolor\": \"white\"}, \"hoverlabel\": {\"align\": \"left\"}, \"hovermode\": \"closest\", \"mapbox\": {\"style\": \"light\"}, \"paper_bgcolor\": \"white\", \"plot_bgcolor\": \"#E5ECF6\", \"polar\": {\"angularaxis\": {\"gridcolor\": \"white\", \"linecolor\": \"white\", \"ticks\": \"\"}, \"bgcolor\": \"#E5ECF6\", \"radialaxis\": {\"gridcolor\": \"white\", \"linecolor\": \"white\", \"ticks\": \"\"}}, \"scene\": {\"xaxis\": {\"backgroundcolor\": \"#E5ECF6\", \"gridcolor\": \"white\", \"gridwidth\": 2, \"linecolor\": \"white\", \"showbackground\": true, \"ticks\": \"\", \"zerolinecolor\": \"white\"}, \"yaxis\": {\"backgroundcolor\": \"#E5ECF6\", \"gridcolor\": \"white\", \"gridwidth\": 2, \"linecolor\": \"white\", \"showbackground\": true, \"ticks\": \"\", \"zerolinecolor\": \"white\"}, \"zaxis\": {\"backgroundcolor\": \"#E5ECF6\", \"gridcolor\": \"white\", \"gridwidth\": 2, \"linecolor\": \"white\", \"showbackground\": true, \"ticks\": \"\", \"zerolinecolor\": \"white\"}}, \"shapedefaults\": {\"line\": {\"color\": \"#2a3f5f\"}}, \"ternary\": {\"aaxis\": {\"gridcolor\": \"white\", \"linecolor\": \"white\", \"ticks\": \"\"}, \"baxis\": {\"gridcolor\": \"white\", \"linecolor\": \"white\", \"ticks\": \"\"}, \"bgcolor\": \"#E5ECF6\", \"caxis\": {\"gridcolor\": \"white\", \"linecolor\": \"white\", \"ticks\": \"\"}}, \"title\": {\"x\": 0.05}, \"xaxis\": {\"automargin\": true, \"gridcolor\": \"white\", \"linecolor\": \"white\", \"ticks\": \"\", \"title\": {\"standoff\": 15}, \"zerolinecolor\": \"white\", \"zerolinewidth\": 2}, \"yaxis\": {\"automargin\": true, \"gridcolor\": \"white\", \"linecolor\": \"white\", \"ticks\": \"\", \"title\": {\"standoff\": 15}, \"zerolinecolor\": \"white\", \"zerolinewidth\": 2}}}, \"title\": {\"text\": \"2013 Monthly installation Trend\"}, \"xaxis\": {\"anchor\": \"y\", \"categoryarray\": [\"January\", \"February\", \"March\", \"April\", \"May\", \"June\", \"July\", \"August\", \"September\", \"October\", \"November\", \"December\"], \"categoryorder\": \"array\", \"domain\": [0.0, 1.0], \"title\": {\"text\": \"Month\"}}, \"yaxis\": {\"anchor\": \"x\", \"domain\": [0.0, 1.0], \"title\": {\"text\": \"Installs\"}}},\n",
              "                        {\"responsive\": true}\n",
              "                    ).then(function(){\n",
              "                            \n",
              "var gd = document.getElementById('aa8b69f2-fa55-4eac-9213-4adccf4d1cb2');\n",
              "var x = new MutationObserver(function (mutations, observer) {{\n",
              "        var display = window.getComputedStyle(gd).display;\n",
              "        if (!display || display === 'none') {{\n",
              "            console.log([gd, 'removed!']);\n",
              "            Plotly.purge(gd);\n",
              "            observer.disconnect();\n",
              "        }}\n",
              "}});\n",
              "\n",
              "// Listen for the removal of the full notebook cells\n",
              "var notebookContainer = gd.closest('#notebook-container');\n",
              "if (notebookContainer) {{\n",
              "    x.observe(notebookContainer, {childList: true});\n",
              "}}\n",
              "\n",
              "// Listen for the clearing of the current output cell\n",
              "var outputEl = gd.closest('.output');\n",
              "if (outputEl) {{\n",
              "    x.observe(outputEl, {childList: true});\n",
              "}}\n",
              "\n",
              "                        })\n",
              "                };\n",
              "                \n",
              "            </script>\n",
              "        </div>\n",
              "</body>\n",
              "</html>"
            ]
          },
          "metadata": {}
        },
        {
          "output_type": "display_data",
          "data": {
            "text/html": [
              "<html>\n",
              "<head><meta charset=\"utf-8\" /></head>\n",
              "<body>\n",
              "    <div>\n",
              "            <script src=\"https://cdnjs.cloudflare.com/ajax/libs/mathjax/2.7.5/MathJax.js?config=TeX-AMS-MML_SVG\"></script><script type=\"text/javascript\">if (window.MathJax) {MathJax.Hub.Config({SVG: {font: \"STIX-Web\"}});}</script>\n",
              "                <script type=\"text/javascript\">window.PlotlyConfig = {MathJaxConfig: 'local'};</script>\n",
              "        <script src=\"https://cdn.plot.ly/plotly-latest.min.js\"></script>    \n",
              "            <div id=\"5bbbdadf-cc9a-442b-952d-409e47a1a535\" class=\"plotly-graph-div\" style=\"height:525px; width:100%;\"></div>\n",
              "            <script type=\"text/javascript\">\n",
              "                \n",
              "                    window.PLOTLYENV=window.PLOTLYENV || {};\n",
              "                    \n",
              "                if (document.getElementById(\"5bbbdadf-cc9a-442b-952d-409e47a1a535\")) {\n",
              "                    Plotly.newPlot(\n",
              "                        '5bbbdadf-cc9a-442b-952d-409e47a1a535',\n",
              "                        [{\"alignmentgroup\": \"True\", \"hoverlabel\": {\"namelength\": 0}, \"hovertemplate\": \"Category=FAMILY<br>Month=%{x}<br>Installs=%{y}\", \"legendgroup\": \"Category=FAMILY\", \"marker\": {\"color\": \"#636efa\"}, \"name\": \"Category=FAMILY\", \"offsetgroup\": \"Category=FAMILY\", \"orientation\": \"v\", \"showlegend\": true, \"textposition\": \"auto\", \"type\": \"bar\", \"x\": [\"April\", \"April\", \"August\", \"December\", \"February\", \"January\", \"June\", \"November\", \"September\"], \"xaxis\": \"x\", \"y\": [10, 50, 100000, 10000, 50, 100, 1000, 500000, 100000], \"yaxis\": \"y\"}, {\"alignmentgroup\": \"True\", \"hoverlabel\": {\"namelength\": 0}, \"hovertemplate\": \"Category=GAME<br>Month=%{x}<br>Installs=%{y}\", \"legendgroup\": \"Category=GAME\", \"marker\": {\"color\": \"#EF553B\"}, \"name\": \"Category=GAME\", \"offsetgroup\": \"Category=GAME\", \"orientation\": \"v\", \"showlegend\": true, \"textposition\": \"auto\", \"type\": \"bar\", \"x\": [\"August\", \"November\"], \"xaxis\": \"x\", \"y\": [1000000, 50000], \"yaxis\": \"y\"}, {\"alignmentgroup\": \"True\", \"hoverlabel\": {\"namelength\": 0}, \"hovertemplate\": \"Category=TOOLS<br>Month=%{x}<br>Installs=%{y}\", \"legendgroup\": \"Category=TOOLS\", \"marker\": {\"color\": \"#00cc96\"}, \"name\": \"Category=TOOLS\", \"offsetgroup\": \"Category=TOOLS\", \"orientation\": \"v\", \"showlegend\": true, \"textposition\": \"auto\", \"type\": \"bar\", \"x\": [\"August\", \"February\", \"June\"], \"xaxis\": \"x\", \"y\": [50000, 50000, 100000], \"yaxis\": \"y\"}, {\"alignmentgroup\": \"True\", \"hoverlabel\": {\"namelength\": 0}, \"hovertemplate\": \"Category=MEDICAL<br>Month=%{x}<br>Installs=%{y}\", \"legendgroup\": \"Category=MEDICAL\", \"marker\": {\"color\": \"#ab63fa\"}, \"name\": \"Category=MEDICAL\", \"offsetgroup\": \"Category=MEDICAL\", \"orientation\": \"v\", \"showlegend\": true, \"textposition\": \"auto\", \"type\": \"bar\", \"x\": [\"February\", \"July\", \"November\"], \"xaxis\": \"x\", \"y\": [10000, 100000, 10000], \"yaxis\": \"y\"}, {\"alignmentgroup\": \"True\", \"hoverlabel\": {\"namelength\": 0}, \"hovertemplate\": \"Category=BUSINESS<br>Month=%{x}<br>Installs=%{y}\", \"legendgroup\": \"Category=BUSINESS\", \"marker\": {\"color\": \"#FFA15A\"}, \"name\": \"Category=BUSINESS\", \"offsetgroup\": \"Category=BUSINESS\", \"orientation\": \"v\", \"showlegend\": true, \"textposition\": \"auto\", \"type\": \"bar\", \"x\": [\"January\"], \"xaxis\": \"x\", \"y\": [10000], \"yaxis\": \"y\"}, {\"alignmentgroup\": \"True\", \"hoverlabel\": {\"namelength\": 0}, \"hovertemplate\": \"Category=LIBRARIES_AND_DEMO<br>Month=%{x}<br>Installs=%{y}\", \"legendgroup\": \"Category=LIBRARIES_AND_DEMO\", \"marker\": {\"color\": \"#19d3f3\"}, \"name\": \"Category=LIBRARIES_AND_DEMO\", \"offsetgroup\": \"Category=LIBRARIES_AND_DEMO\", \"orientation\": \"v\", \"showlegend\": true, \"textposition\": \"auto\", \"type\": \"bar\", \"x\": [\"January\"], \"xaxis\": \"x\", \"y\": [10000000], \"yaxis\": \"y\"}, {\"alignmentgroup\": \"True\", \"hoverlabel\": {\"namelength\": 0}, \"hovertemplate\": \"Category=FINANCE<br>Month=%{x}<br>Installs=%{y}\", \"legendgroup\": \"Category=FINANCE\", \"marker\": {\"color\": \"#FF6692\"}, \"name\": \"Category=FINANCE\", \"offsetgroup\": \"Category=FINANCE\", \"orientation\": \"v\", \"showlegend\": true, \"textposition\": \"auto\", \"type\": \"bar\", \"x\": [\"July\"], \"xaxis\": \"x\", \"y\": [100000], \"yaxis\": \"y\"}, {\"alignmentgroup\": \"True\", \"hoverlabel\": {\"namelength\": 0}, \"hovertemplate\": \"Category=COMMUNICATION<br>Month=%{x}<br>Installs=%{y}\", \"legendgroup\": \"Category=COMMUNICATION\", \"marker\": {\"color\": \"#B6E880\"}, \"name\": \"Category=COMMUNICATION\", \"offsetgroup\": \"Category=COMMUNICATION\", \"orientation\": \"v\", \"showlegend\": true, \"textposition\": \"auto\", \"type\": \"bar\", \"x\": [\"June\"], \"xaxis\": \"x\", \"y\": [1000], \"yaxis\": \"y\"}, {\"alignmentgroup\": \"True\", \"hoverlabel\": {\"namelength\": 0}, \"hovertemplate\": \"Category=HEALTH_AND_FITNESS<br>Month=%{x}<br>Installs=%{y}\", \"legendgroup\": \"Category=HEALTH_AND_FITNESS\", \"marker\": {\"color\": \"#FF97FF\"}, \"name\": \"Category=HEALTH_AND_FITNESS\", \"offsetgroup\": \"Category=HEALTH_AND_FITNESS\", \"orientation\": \"v\", \"showlegend\": true, \"textposition\": \"auto\", \"type\": \"bar\", \"x\": [\"June\", \"October\"], \"xaxis\": \"x\", \"y\": [100000, 1000000], \"yaxis\": \"y\"}, {\"alignmentgroup\": \"True\", \"hoverlabel\": {\"namelength\": 0}, \"hovertemplate\": \"Category=SHOPPING<br>Month=%{x}<br>Installs=%{y}\", \"legendgroup\": \"Category=SHOPPING\", \"marker\": {\"color\": \"#FECB52\"}, \"name\": \"Category=SHOPPING\", \"offsetgroup\": \"Category=SHOPPING\", \"orientation\": \"v\", \"showlegend\": true, \"textposition\": \"auto\", \"type\": \"bar\", \"x\": [\"November\"], \"xaxis\": \"x\", \"y\": [100000], \"yaxis\": \"y\"}, {\"alignmentgroup\": \"True\", \"hoverlabel\": {\"namelength\": 0}, \"hovertemplate\": \"Category=PHOTOGRAPHY<br>Month=%{x}<br>Installs=%{y}\", \"legendgroup\": \"Category=PHOTOGRAPHY\", \"marker\": {\"color\": \"#636efa\"}, \"name\": \"Category=PHOTOGRAPHY\", \"offsetgroup\": \"Category=PHOTOGRAPHY\", \"orientation\": \"v\", \"showlegend\": true, \"textposition\": \"auto\", \"type\": \"bar\", \"x\": [\"November\"], \"xaxis\": \"x\", \"y\": [500000], \"yaxis\": \"y\"}, {\"alignmentgroup\": \"True\", \"hoverlabel\": {\"namelength\": 0}, \"hovertemplate\": \"Category=PRODUCTIVITY<br>Month=%{x}<br>Installs=%{y}\", \"legendgroup\": \"Category=PRODUCTIVITY\", \"marker\": {\"color\": \"#EF553B\"}, \"name\": \"Category=PRODUCTIVITY\", \"offsetgroup\": \"Category=PRODUCTIVITY\", \"orientation\": \"v\", \"showlegend\": true, \"textposition\": \"auto\", \"type\": \"bar\", \"x\": [\"September\"], \"xaxis\": \"x\", \"y\": [100000], \"yaxis\": \"y\"}],\n",
              "                        {\"barmode\": \"relative\", \"legend\": {\"tracegroupgap\": 0}, \"template\": {\"data\": {\"bar\": [{\"error_x\": {\"color\": \"#2a3f5f\"}, \"error_y\": {\"color\": \"#2a3f5f\"}, \"marker\": {\"line\": {\"color\": \"#E5ECF6\", \"width\": 0.5}}, \"type\": \"bar\"}], \"barpolar\": [{\"marker\": {\"line\": {\"color\": \"#E5ECF6\", \"width\": 0.5}}, \"type\": \"barpolar\"}], \"carpet\": [{\"aaxis\": {\"endlinecolor\": \"#2a3f5f\", \"gridcolor\": \"white\", \"linecolor\": \"white\", \"minorgridcolor\": \"white\", \"startlinecolor\": \"#2a3f5f\"}, \"baxis\": {\"endlinecolor\": \"#2a3f5f\", \"gridcolor\": \"white\", \"linecolor\": \"white\", \"minorgridcolor\": \"white\", \"startlinecolor\": \"#2a3f5f\"}, \"type\": \"carpet\"}], \"choropleth\": [{\"colorbar\": {\"outlinewidth\": 0, \"ticks\": \"\"}, \"type\": \"choropleth\"}], \"contour\": [{\"colorbar\": {\"outlinewidth\": 0, \"ticks\": \"\"}, \"colorscale\": [[0.0, \"#0d0887\"], [0.1111111111111111, \"#46039f\"], [0.2222222222222222, \"#7201a8\"], [0.3333333333333333, \"#9c179e\"], [0.4444444444444444, \"#bd3786\"], [0.5555555555555556, \"#d8576b\"], [0.6666666666666666, \"#ed7953\"], [0.7777777777777778, \"#fb9f3a\"], [0.8888888888888888, \"#fdca26\"], [1.0, \"#f0f921\"]], \"type\": \"contour\"}], \"contourcarpet\": [{\"colorbar\": {\"outlinewidth\": 0, \"ticks\": \"\"}, \"type\": \"contourcarpet\"}], \"heatmap\": [{\"colorbar\": {\"outlinewidth\": 0, \"ticks\": \"\"}, \"colorscale\": [[0.0, \"#0d0887\"], [0.1111111111111111, \"#46039f\"], [0.2222222222222222, \"#7201a8\"], [0.3333333333333333, \"#9c179e\"], [0.4444444444444444, \"#bd3786\"], [0.5555555555555556, \"#d8576b\"], [0.6666666666666666, \"#ed7953\"], [0.7777777777777778, \"#fb9f3a\"], [0.8888888888888888, \"#fdca26\"], [1.0, \"#f0f921\"]], \"type\": \"heatmap\"}], \"heatmapgl\": [{\"colorbar\": {\"outlinewidth\": 0, \"ticks\": \"\"}, \"colorscale\": [[0.0, \"#0d0887\"], [0.1111111111111111, \"#46039f\"], [0.2222222222222222, \"#7201a8\"], [0.3333333333333333, \"#9c179e\"], [0.4444444444444444, \"#bd3786\"], [0.5555555555555556, \"#d8576b\"], [0.6666666666666666, \"#ed7953\"], [0.7777777777777778, \"#fb9f3a\"], [0.8888888888888888, \"#fdca26\"], [1.0, \"#f0f921\"]], \"type\": \"heatmapgl\"}], \"histogram\": [{\"marker\": {\"colorbar\": {\"outlinewidth\": 0, \"ticks\": \"\"}}, \"type\": \"histogram\"}], \"histogram2d\": [{\"colorbar\": {\"outlinewidth\": 0, \"ticks\": \"\"}, \"colorscale\": [[0.0, \"#0d0887\"], [0.1111111111111111, \"#46039f\"], [0.2222222222222222, \"#7201a8\"], [0.3333333333333333, \"#9c179e\"], [0.4444444444444444, \"#bd3786\"], [0.5555555555555556, \"#d8576b\"], [0.6666666666666666, \"#ed7953\"], [0.7777777777777778, \"#fb9f3a\"], [0.8888888888888888, \"#fdca26\"], [1.0, \"#f0f921\"]], \"type\": \"histogram2d\"}], \"histogram2dcontour\": [{\"colorbar\": {\"outlinewidth\": 0, \"ticks\": \"\"}, \"colorscale\": [[0.0, \"#0d0887\"], [0.1111111111111111, \"#46039f\"], [0.2222222222222222, \"#7201a8\"], [0.3333333333333333, \"#9c179e\"], [0.4444444444444444, \"#bd3786\"], [0.5555555555555556, \"#d8576b\"], [0.6666666666666666, \"#ed7953\"], [0.7777777777777778, \"#fb9f3a\"], [0.8888888888888888, \"#fdca26\"], [1.0, \"#f0f921\"]], \"type\": \"histogram2dcontour\"}], \"mesh3d\": [{\"colorbar\": {\"outlinewidth\": 0, \"ticks\": \"\"}, \"type\": \"mesh3d\"}], \"parcoords\": [{\"line\": {\"colorbar\": {\"outlinewidth\": 0, \"ticks\": \"\"}}, \"type\": \"parcoords\"}], \"pie\": [{\"automargin\": true, \"type\": \"pie\"}], \"scatter\": [{\"marker\": {\"colorbar\": {\"outlinewidth\": 0, \"ticks\": \"\"}}, \"type\": \"scatter\"}], \"scatter3d\": [{\"line\": {\"colorbar\": {\"outlinewidth\": 0, \"ticks\": \"\"}}, \"marker\": {\"colorbar\": {\"outlinewidth\": 0, \"ticks\": \"\"}}, \"type\": \"scatter3d\"}], \"scattercarpet\": [{\"marker\": {\"colorbar\": {\"outlinewidth\": 0, \"ticks\": \"\"}}, \"type\": \"scattercarpet\"}], \"scattergeo\": [{\"marker\": {\"colorbar\": {\"outlinewidth\": 0, \"ticks\": \"\"}}, \"type\": \"scattergeo\"}], \"scattergl\": [{\"marker\": {\"colorbar\": {\"outlinewidth\": 0, \"ticks\": \"\"}}, \"type\": \"scattergl\"}], \"scattermapbox\": [{\"marker\": {\"colorbar\": {\"outlinewidth\": 0, \"ticks\": \"\"}}, \"type\": \"scattermapbox\"}], \"scatterpolar\": [{\"marker\": {\"colorbar\": {\"outlinewidth\": 0, \"ticks\": \"\"}}, \"type\": \"scatterpolar\"}], \"scatterpolargl\": [{\"marker\": {\"colorbar\": {\"outlinewidth\": 0, \"ticks\": \"\"}}, \"type\": \"scatterpolargl\"}], \"scatterternary\": [{\"marker\": {\"colorbar\": {\"outlinewidth\": 0, \"ticks\": \"\"}}, \"type\": \"scatterternary\"}], \"surface\": [{\"colorbar\": {\"outlinewidth\": 0, \"ticks\": \"\"}, \"colorscale\": [[0.0, \"#0d0887\"], [0.1111111111111111, \"#46039f\"], [0.2222222222222222, \"#7201a8\"], [0.3333333333333333, \"#9c179e\"], [0.4444444444444444, \"#bd3786\"], [0.5555555555555556, \"#d8576b\"], [0.6666666666666666, \"#ed7953\"], [0.7777777777777778, \"#fb9f3a\"], [0.8888888888888888, \"#fdca26\"], [1.0, \"#f0f921\"]], \"type\": \"surface\"}], \"table\": [{\"cells\": {\"fill\": {\"color\": \"#EBF0F8\"}, \"line\": {\"color\": \"white\"}}, \"header\": {\"fill\": {\"color\": \"#C8D4E3\"}, \"line\": {\"color\": \"white\"}}, \"type\": \"table\"}]}, \"layout\": {\"annotationdefaults\": {\"arrowcolor\": \"#2a3f5f\", \"arrowhead\": 0, \"arrowwidth\": 1}, \"coloraxis\": {\"colorbar\": {\"outlinewidth\": 0, \"ticks\": \"\"}}, \"colorscale\": {\"diverging\": [[0, \"#8e0152\"], [0.1, \"#c51b7d\"], [0.2, \"#de77ae\"], [0.3, \"#f1b6da\"], [0.4, \"#fde0ef\"], [0.5, \"#f7f7f7\"], [0.6, \"#e6f5d0\"], [0.7, \"#b8e186\"], [0.8, \"#7fbc41\"], [0.9, \"#4d9221\"], [1, \"#276419\"]], \"sequential\": [[0.0, \"#0d0887\"], [0.1111111111111111, \"#46039f\"], [0.2222222222222222, \"#7201a8\"], [0.3333333333333333, \"#9c179e\"], [0.4444444444444444, \"#bd3786\"], [0.5555555555555556, \"#d8576b\"], [0.6666666666666666, \"#ed7953\"], [0.7777777777777778, \"#fb9f3a\"], [0.8888888888888888, \"#fdca26\"], [1.0, \"#f0f921\"]], \"sequentialminus\": [[0.0, \"#0d0887\"], [0.1111111111111111, \"#46039f\"], [0.2222222222222222, \"#7201a8\"], [0.3333333333333333, \"#9c179e\"], [0.4444444444444444, \"#bd3786\"], [0.5555555555555556, \"#d8576b\"], [0.6666666666666666, \"#ed7953\"], [0.7777777777777778, \"#fb9f3a\"], [0.8888888888888888, \"#fdca26\"], [1.0, \"#f0f921\"]]}, \"colorway\": [\"#636efa\", \"#EF553B\", \"#00cc96\", \"#ab63fa\", \"#FFA15A\", \"#19d3f3\", \"#FF6692\", \"#B6E880\", \"#FF97FF\", \"#FECB52\"], \"font\": {\"color\": \"#2a3f5f\"}, \"geo\": {\"bgcolor\": \"white\", \"lakecolor\": \"white\", \"landcolor\": \"#E5ECF6\", \"showlakes\": true, \"showland\": true, \"subunitcolor\": \"white\"}, \"hoverlabel\": {\"align\": \"left\"}, \"hovermode\": \"closest\", \"mapbox\": {\"style\": \"light\"}, \"paper_bgcolor\": \"white\", \"plot_bgcolor\": \"#E5ECF6\", \"polar\": {\"angularaxis\": {\"gridcolor\": \"white\", \"linecolor\": \"white\", \"ticks\": \"\"}, \"bgcolor\": \"#E5ECF6\", \"radialaxis\": {\"gridcolor\": \"white\", \"linecolor\": \"white\", \"ticks\": \"\"}}, \"scene\": {\"xaxis\": {\"backgroundcolor\": \"#E5ECF6\", \"gridcolor\": \"white\", \"gridwidth\": 2, \"linecolor\": \"white\", \"showbackground\": true, \"ticks\": \"\", \"zerolinecolor\": \"white\"}, \"yaxis\": {\"backgroundcolor\": \"#E5ECF6\", \"gridcolor\": \"white\", \"gridwidth\": 2, \"linecolor\": \"white\", \"showbackground\": true, \"ticks\": \"\", \"zerolinecolor\": \"white\"}, \"zaxis\": {\"backgroundcolor\": \"#E5ECF6\", \"gridcolor\": \"white\", \"gridwidth\": 2, \"linecolor\": \"white\", \"showbackground\": true, \"ticks\": \"\", \"zerolinecolor\": \"white\"}}, \"shapedefaults\": {\"line\": {\"color\": \"#2a3f5f\"}}, \"ternary\": {\"aaxis\": {\"gridcolor\": \"white\", \"linecolor\": \"white\", \"ticks\": \"\"}, \"baxis\": {\"gridcolor\": \"white\", \"linecolor\": \"white\", \"ticks\": \"\"}, \"bgcolor\": \"#E5ECF6\", \"caxis\": {\"gridcolor\": \"white\", \"linecolor\": \"white\", \"ticks\": \"\"}}, \"title\": {\"x\": 0.05}, \"xaxis\": {\"automargin\": true, \"gridcolor\": \"white\", \"linecolor\": \"white\", \"ticks\": \"\", \"title\": {\"standoff\": 15}, \"zerolinecolor\": \"white\", \"zerolinewidth\": 2}, \"yaxis\": {\"automargin\": true, \"gridcolor\": \"white\", \"linecolor\": \"white\", \"ticks\": \"\", \"title\": {\"standoff\": 15}, \"zerolinecolor\": \"white\", \"zerolinewidth\": 2}}}, \"title\": {\"text\": \"2012 Monthly installation Trend\"}, \"xaxis\": {\"anchor\": \"y\", \"categoryarray\": [\"January\", \"February\", \"March\", \"April\", \"May\", \"June\", \"July\", \"August\", \"September\", \"October\", \"November\", \"December\"], \"categoryorder\": \"array\", \"domain\": [0.0, 1.0], \"title\": {\"text\": \"Month\"}}, \"yaxis\": {\"anchor\": \"x\", \"domain\": [0.0, 1.0], \"title\": {\"text\": \"Installs\"}}},\n",
              "                        {\"responsive\": true}\n",
              "                    ).then(function(){\n",
              "                            \n",
              "var gd = document.getElementById('5bbbdadf-cc9a-442b-952d-409e47a1a535');\n",
              "var x = new MutationObserver(function (mutations, observer) {{\n",
              "        var display = window.getComputedStyle(gd).display;\n",
              "        if (!display || display === 'none') {{\n",
              "            console.log([gd, 'removed!']);\n",
              "            Plotly.purge(gd);\n",
              "            observer.disconnect();\n",
              "        }}\n",
              "}});\n",
              "\n",
              "// Listen for the removal of the full notebook cells\n",
              "var notebookContainer = gd.closest('#notebook-container');\n",
              "if (notebookContainer) {{\n",
              "    x.observe(notebookContainer, {childList: true});\n",
              "}}\n",
              "\n",
              "// Listen for the clearing of the current output cell\n",
              "var outputEl = gd.closest('.output');\n",
              "if (outputEl) {{\n",
              "    x.observe(outputEl, {childList: true});\n",
              "}}\n",
              "\n",
              "                        })\n",
              "                };\n",
              "                \n",
              "            </script>\n",
              "        </div>\n",
              "</body>\n",
              "</html>"
            ]
          },
          "metadata": {}
        },
        {
          "output_type": "display_data",
          "data": {
            "text/html": [
              "<html>\n",
              "<head><meta charset=\"utf-8\" /></head>\n",
              "<body>\n",
              "    <div>\n",
              "            <script src=\"https://cdnjs.cloudflare.com/ajax/libs/mathjax/2.7.5/MathJax.js?config=TeX-AMS-MML_SVG\"></script><script type=\"text/javascript\">if (window.MathJax) {MathJax.Hub.Config({SVG: {font: \"STIX-Web\"}});}</script>\n",
              "                <script type=\"text/javascript\">window.PlotlyConfig = {MathJaxConfig: 'local'};</script>\n",
              "        <script src=\"https://cdn.plot.ly/plotly-latest.min.js\"></script>    \n",
              "            <div id=\"7a0c529b-2ab8-467e-8999-674a7f74f7cb\" class=\"plotly-graph-div\" style=\"height:525px; width:100%;\"></div>\n",
              "            <script type=\"text/javascript\">\n",
              "                \n",
              "                    window.PLOTLYENV=window.PLOTLYENV || {};\n",
              "                    \n",
              "                if (document.getElementById(\"7a0c529b-2ab8-467e-8999-674a7f74f7cb\")) {\n",
              "                    Plotly.newPlot(\n",
              "                        '7a0c529b-2ab8-467e-8999-674a7f74f7cb',\n",
              "                        [{\"alignmentgroup\": \"True\", \"hoverlabel\": {\"namelength\": 0}, \"hovertemplate\": \"Category=GAME<br>Month=%{x}<br>Installs=%{y}\", \"legendgroup\": \"Category=GAME\", \"marker\": {\"color\": \"#636efa\"}, \"name\": \"Category=GAME\", \"offsetgroup\": \"Category=GAME\", \"orientation\": \"v\", \"showlegend\": true, \"textposition\": \"auto\", \"type\": \"bar\", \"x\": [\"April\", \"April\", \"December\", \"January\"], \"xaxis\": \"x\", \"y\": [5000000, 50000, 5000000, 50000], \"yaxis\": \"y\"}, {\"alignmentgroup\": \"True\", \"hoverlabel\": {\"namelength\": 0}, \"hovertemplate\": \"Category=FAMILY<br>Month=%{x}<br>Installs=%{y}\", \"legendgroup\": \"Category=FAMILY\", \"marker\": {\"color\": \"#EF553B\"}, \"name\": \"Category=FAMILY\", \"offsetgroup\": \"Category=FAMILY\", \"orientation\": \"v\", \"showlegend\": true, \"textposition\": \"auto\", \"type\": \"bar\", \"x\": [\"April\"], \"xaxis\": \"x\", \"y\": [50000], \"yaxis\": \"y\"}, {\"alignmentgroup\": \"True\", \"hoverlabel\": {\"namelength\": 0}, \"hovertemplate\": \"Category=LIFESTYLE<br>Month=%{x}<br>Installs=%{y}\", \"legendgroup\": \"Category=LIFESTYLE\", \"marker\": {\"color\": \"#00cc96\"}, \"name\": \"Category=LIFESTYLE\", \"offsetgroup\": \"Category=LIFESTYLE\", \"orientation\": \"v\", \"showlegend\": true, \"textposition\": \"auto\", \"type\": \"bar\", \"x\": [\"December\"], \"xaxis\": \"x\", \"y\": [100000], \"yaxis\": \"y\"}, {\"alignmentgroup\": \"True\", \"hoverlabel\": {\"namelength\": 0}, \"hovertemplate\": \"Category=TOOLS<br>Month=%{x}<br>Installs=%{y}\", \"legendgroup\": \"Category=TOOLS\", \"marker\": {\"color\": \"#ab63fa\"}, \"name\": \"Category=TOOLS\", \"offsetgroup\": \"Category=TOOLS\", \"orientation\": \"v\", \"showlegend\": true, \"textposition\": \"auto\", \"type\": \"bar\", \"x\": [\"July\", \"June\", \"June\", \"March\", \"May\", \"September\"], \"xaxis\": \"x\", \"y\": [5000000, 1000, 5000, 100000, 100, 50000], \"yaxis\": \"y\"}, {\"alignmentgroup\": \"True\", \"hoverlabel\": {\"namelength\": 0}, \"hovertemplate\": \"Category=LIBRARIES_AND_DEMO<br>Month=%{x}<br>Installs=%{y}\", \"legendgroup\": \"Category=LIBRARIES_AND_DEMO\", \"marker\": {\"color\": \"#FFA15A\"}, \"name\": \"Category=LIBRARIES_AND_DEMO\", \"offsetgroup\": \"Category=LIBRARIES_AND_DEMO\", \"orientation\": \"v\", \"showlegend\": true, \"textposition\": \"auto\", \"type\": \"bar\", \"x\": [\"June\"], \"xaxis\": \"x\", \"y\": [1000000], \"yaxis\": \"y\"}, {\"alignmentgroup\": \"True\", \"hoverlabel\": {\"namelength\": 0}, \"hovertemplate\": \"Category=BUSINESS<br>Month=%{x}<br>Installs=%{y}\", \"legendgroup\": \"Category=BUSINESS\", \"marker\": {\"color\": \"#19d3f3\"}, \"name\": \"Category=BUSINESS\", \"offsetgroup\": \"Category=BUSINESS\", \"orientation\": \"v\", \"showlegend\": true, \"textposition\": \"auto\", \"type\": \"bar\", \"x\": [\"October\"], \"xaxis\": \"x\", \"y\": [1000], \"yaxis\": \"y\"}, {\"alignmentgroup\": \"True\", \"hoverlabel\": {\"namelength\": 0}, \"hovertemplate\": \"Category=BOOKS_AND_REFERENCE<br>Month=%{x}<br>Installs=%{y}\", \"legendgroup\": \"Category=BOOKS_AND_REFERENCE\", \"marker\": {\"color\": \"#FF6692\"}, \"name\": \"Category=BOOKS_AND_REFERENCE\", \"offsetgroup\": \"Category=BOOKS_AND_REFERENCE\", \"orientation\": \"v\", \"showlegend\": true, \"textposition\": \"auto\", \"type\": \"bar\", \"x\": [\"September\"], \"xaxis\": \"x\", \"y\": [1000000], \"yaxis\": \"y\"}],\n",
              "                        {\"barmode\": \"relative\", \"legend\": {\"tracegroupgap\": 0}, \"template\": {\"data\": {\"bar\": [{\"error_x\": {\"color\": \"#2a3f5f\"}, \"error_y\": {\"color\": \"#2a3f5f\"}, \"marker\": {\"line\": {\"color\": \"#E5ECF6\", \"width\": 0.5}}, \"type\": \"bar\"}], \"barpolar\": [{\"marker\": {\"line\": {\"color\": \"#E5ECF6\", \"width\": 0.5}}, \"type\": \"barpolar\"}], \"carpet\": [{\"aaxis\": {\"endlinecolor\": \"#2a3f5f\", \"gridcolor\": \"white\", \"linecolor\": \"white\", \"minorgridcolor\": \"white\", \"startlinecolor\": \"#2a3f5f\"}, \"baxis\": {\"endlinecolor\": \"#2a3f5f\", \"gridcolor\": \"white\", \"linecolor\": \"white\", \"minorgridcolor\": \"white\", \"startlinecolor\": \"#2a3f5f\"}, \"type\": \"carpet\"}], \"choropleth\": [{\"colorbar\": {\"outlinewidth\": 0, \"ticks\": \"\"}, \"type\": \"choropleth\"}], \"contour\": [{\"colorbar\": {\"outlinewidth\": 0, \"ticks\": \"\"}, \"colorscale\": [[0.0, \"#0d0887\"], [0.1111111111111111, \"#46039f\"], [0.2222222222222222, \"#7201a8\"], [0.3333333333333333, \"#9c179e\"], [0.4444444444444444, \"#bd3786\"], [0.5555555555555556, \"#d8576b\"], [0.6666666666666666, \"#ed7953\"], [0.7777777777777778, \"#fb9f3a\"], [0.8888888888888888, \"#fdca26\"], [1.0, \"#f0f921\"]], \"type\": \"contour\"}], \"contourcarpet\": [{\"colorbar\": {\"outlinewidth\": 0, \"ticks\": \"\"}, \"type\": \"contourcarpet\"}], \"heatmap\": [{\"colorbar\": {\"outlinewidth\": 0, \"ticks\": \"\"}, \"colorscale\": [[0.0, \"#0d0887\"], [0.1111111111111111, \"#46039f\"], [0.2222222222222222, \"#7201a8\"], [0.3333333333333333, \"#9c179e\"], [0.4444444444444444, \"#bd3786\"], [0.5555555555555556, \"#d8576b\"], [0.6666666666666666, \"#ed7953\"], [0.7777777777777778, \"#fb9f3a\"], [0.8888888888888888, \"#fdca26\"], [1.0, \"#f0f921\"]], \"type\": \"heatmap\"}], \"heatmapgl\": [{\"colorbar\": {\"outlinewidth\": 0, \"ticks\": \"\"}, \"colorscale\": [[0.0, \"#0d0887\"], [0.1111111111111111, \"#46039f\"], [0.2222222222222222, \"#7201a8\"], [0.3333333333333333, \"#9c179e\"], [0.4444444444444444, \"#bd3786\"], [0.5555555555555556, \"#d8576b\"], [0.6666666666666666, \"#ed7953\"], [0.7777777777777778, \"#fb9f3a\"], [0.8888888888888888, \"#fdca26\"], [1.0, \"#f0f921\"]], \"type\": \"heatmapgl\"}], \"histogram\": [{\"marker\": {\"colorbar\": {\"outlinewidth\": 0, \"ticks\": \"\"}}, \"type\": \"histogram\"}], \"histogram2d\": [{\"colorbar\": {\"outlinewidth\": 0, \"ticks\": \"\"}, \"colorscale\": [[0.0, \"#0d0887\"], [0.1111111111111111, \"#46039f\"], [0.2222222222222222, \"#7201a8\"], [0.3333333333333333, \"#9c179e\"], [0.4444444444444444, \"#bd3786\"], [0.5555555555555556, \"#d8576b\"], [0.6666666666666666, \"#ed7953\"], [0.7777777777777778, \"#fb9f3a\"], [0.8888888888888888, \"#fdca26\"], [1.0, \"#f0f921\"]], \"type\": \"histogram2d\"}], \"histogram2dcontour\": [{\"colorbar\": {\"outlinewidth\": 0, \"ticks\": \"\"}, \"colorscale\": [[0.0, \"#0d0887\"], [0.1111111111111111, \"#46039f\"], [0.2222222222222222, \"#7201a8\"], [0.3333333333333333, \"#9c179e\"], [0.4444444444444444, \"#bd3786\"], [0.5555555555555556, \"#d8576b\"], [0.6666666666666666, \"#ed7953\"], [0.7777777777777778, \"#fb9f3a\"], [0.8888888888888888, \"#fdca26\"], [1.0, \"#f0f921\"]], \"type\": \"histogram2dcontour\"}], \"mesh3d\": [{\"colorbar\": {\"outlinewidth\": 0, \"ticks\": \"\"}, \"type\": \"mesh3d\"}], \"parcoords\": [{\"line\": {\"colorbar\": {\"outlinewidth\": 0, \"ticks\": \"\"}}, \"type\": \"parcoords\"}], \"pie\": [{\"automargin\": true, \"type\": \"pie\"}], \"scatter\": [{\"marker\": {\"colorbar\": {\"outlinewidth\": 0, \"ticks\": \"\"}}, \"type\": \"scatter\"}], \"scatter3d\": [{\"line\": {\"colorbar\": {\"outlinewidth\": 0, \"ticks\": \"\"}}, \"marker\": {\"colorbar\": {\"outlinewidth\": 0, \"ticks\": \"\"}}, \"type\": \"scatter3d\"}], \"scattercarpet\": [{\"marker\": {\"colorbar\": {\"outlinewidth\": 0, \"ticks\": \"\"}}, \"type\": \"scattercarpet\"}], \"scattergeo\": [{\"marker\": {\"colorbar\": {\"outlinewidth\": 0, \"ticks\": \"\"}}, \"type\": \"scattergeo\"}], \"scattergl\": [{\"marker\": {\"colorbar\": {\"outlinewidth\": 0, \"ticks\": \"\"}}, \"type\": \"scattergl\"}], \"scattermapbox\": [{\"marker\": {\"colorbar\": {\"outlinewidth\": 0, \"ticks\": \"\"}}, \"type\": \"scattermapbox\"}], \"scatterpolar\": [{\"marker\": {\"colorbar\": {\"outlinewidth\": 0, \"ticks\": \"\"}}, \"type\": \"scatterpolar\"}], \"scatterpolargl\": [{\"marker\": {\"colorbar\": {\"outlinewidth\": 0, \"ticks\": \"\"}}, \"type\": \"scatterpolargl\"}], \"scatterternary\": [{\"marker\": {\"colorbar\": {\"outlinewidth\": 0, \"ticks\": \"\"}}, \"type\": \"scatterternary\"}], \"surface\": [{\"colorbar\": {\"outlinewidth\": 0, \"ticks\": \"\"}, \"colorscale\": [[0.0, \"#0d0887\"], [0.1111111111111111, \"#46039f\"], [0.2222222222222222, \"#7201a8\"], [0.3333333333333333, \"#9c179e\"], [0.4444444444444444, \"#bd3786\"], [0.5555555555555556, \"#d8576b\"], [0.6666666666666666, \"#ed7953\"], [0.7777777777777778, \"#fb9f3a\"], [0.8888888888888888, \"#fdca26\"], [1.0, \"#f0f921\"]], \"type\": \"surface\"}], \"table\": [{\"cells\": {\"fill\": {\"color\": \"#EBF0F8\"}, \"line\": {\"color\": \"white\"}}, \"header\": {\"fill\": {\"color\": \"#C8D4E3\"}, \"line\": {\"color\": \"white\"}}, \"type\": \"table\"}]}, \"layout\": {\"annotationdefaults\": {\"arrowcolor\": \"#2a3f5f\", \"arrowhead\": 0, \"arrowwidth\": 1}, \"coloraxis\": {\"colorbar\": {\"outlinewidth\": 0, \"ticks\": \"\"}}, \"colorscale\": {\"diverging\": [[0, \"#8e0152\"], [0.1, \"#c51b7d\"], [0.2, \"#de77ae\"], [0.3, \"#f1b6da\"], [0.4, \"#fde0ef\"], [0.5, \"#f7f7f7\"], [0.6, \"#e6f5d0\"], [0.7, \"#b8e186\"], [0.8, \"#7fbc41\"], [0.9, \"#4d9221\"], [1, \"#276419\"]], \"sequential\": [[0.0, \"#0d0887\"], [0.1111111111111111, \"#46039f\"], [0.2222222222222222, \"#7201a8\"], [0.3333333333333333, \"#9c179e\"], [0.4444444444444444, \"#bd3786\"], [0.5555555555555556, \"#d8576b\"], [0.6666666666666666, \"#ed7953\"], [0.7777777777777778, \"#fb9f3a\"], [0.8888888888888888, \"#fdca26\"], [1.0, \"#f0f921\"]], \"sequentialminus\": [[0.0, \"#0d0887\"], [0.1111111111111111, \"#46039f\"], [0.2222222222222222, \"#7201a8\"], [0.3333333333333333, \"#9c179e\"], [0.4444444444444444, \"#bd3786\"], [0.5555555555555556, \"#d8576b\"], [0.6666666666666666, \"#ed7953\"], [0.7777777777777778, \"#fb9f3a\"], [0.8888888888888888, \"#fdca26\"], [1.0, \"#f0f921\"]]}, \"colorway\": [\"#636efa\", \"#EF553B\", \"#00cc96\", \"#ab63fa\", \"#FFA15A\", \"#19d3f3\", \"#FF6692\", \"#B6E880\", \"#FF97FF\", \"#FECB52\"], \"font\": {\"color\": \"#2a3f5f\"}, \"geo\": {\"bgcolor\": \"white\", \"lakecolor\": \"white\", \"landcolor\": \"#E5ECF6\", \"showlakes\": true, \"showland\": true, \"subunitcolor\": \"white\"}, \"hoverlabel\": {\"align\": \"left\"}, \"hovermode\": \"closest\", \"mapbox\": {\"style\": \"light\"}, \"paper_bgcolor\": \"white\", \"plot_bgcolor\": \"#E5ECF6\", \"polar\": {\"angularaxis\": {\"gridcolor\": \"white\", \"linecolor\": \"white\", \"ticks\": \"\"}, \"bgcolor\": \"#E5ECF6\", \"radialaxis\": {\"gridcolor\": \"white\", \"linecolor\": \"white\", \"ticks\": \"\"}}, \"scene\": {\"xaxis\": {\"backgroundcolor\": \"#E5ECF6\", \"gridcolor\": \"white\", \"gridwidth\": 2, \"linecolor\": \"white\", \"showbackground\": true, \"ticks\": \"\", \"zerolinecolor\": \"white\"}, \"yaxis\": {\"backgroundcolor\": \"#E5ECF6\", \"gridcolor\": \"white\", \"gridwidth\": 2, \"linecolor\": \"white\", \"showbackground\": true, \"ticks\": \"\", \"zerolinecolor\": \"white\"}, \"zaxis\": {\"backgroundcolor\": \"#E5ECF6\", \"gridcolor\": \"white\", \"gridwidth\": 2, \"linecolor\": \"white\", \"showbackground\": true, \"ticks\": \"\", \"zerolinecolor\": \"white\"}}, \"shapedefaults\": {\"line\": {\"color\": \"#2a3f5f\"}}, \"ternary\": {\"aaxis\": {\"gridcolor\": \"white\", \"linecolor\": \"white\", \"ticks\": \"\"}, \"baxis\": {\"gridcolor\": \"white\", \"linecolor\": \"white\", \"ticks\": \"\"}, \"bgcolor\": \"#E5ECF6\", \"caxis\": {\"gridcolor\": \"white\", \"linecolor\": \"white\", \"ticks\": \"\"}}, \"title\": {\"x\": 0.05}, \"xaxis\": {\"automargin\": true, \"gridcolor\": \"white\", \"linecolor\": \"white\", \"ticks\": \"\", \"title\": {\"standoff\": 15}, \"zerolinecolor\": \"white\", \"zerolinewidth\": 2}, \"yaxis\": {\"automargin\": true, \"gridcolor\": \"white\", \"linecolor\": \"white\", \"ticks\": \"\", \"title\": {\"standoff\": 15}, \"zerolinecolor\": \"white\", \"zerolinewidth\": 2}}}, \"title\": {\"text\": \"2011 Monthly installation Trend\"}, \"xaxis\": {\"anchor\": \"y\", \"categoryarray\": [\"January\", \"February\", \"March\", \"April\", \"May\", \"June\", \"July\", \"August\", \"September\", \"October\", \"November\", \"December\"], \"categoryorder\": \"array\", \"domain\": [0.0, 1.0], \"title\": {\"text\": \"Month\"}}, \"yaxis\": {\"anchor\": \"x\", \"domain\": [0.0, 1.0], \"title\": {\"text\": \"Installs\"}}},\n",
              "                        {\"responsive\": true}\n",
              "                    ).then(function(){\n",
              "                            \n",
              "var gd = document.getElementById('7a0c529b-2ab8-467e-8999-674a7f74f7cb');\n",
              "var x = new MutationObserver(function (mutations, observer) {{\n",
              "        var display = window.getComputedStyle(gd).display;\n",
              "        if (!display || display === 'none') {{\n",
              "            console.log([gd, 'removed!']);\n",
              "            Plotly.purge(gd);\n",
              "            observer.disconnect();\n",
              "        }}\n",
              "}});\n",
              "\n",
              "// Listen for the removal of the full notebook cells\n",
              "var notebookContainer = gd.closest('#notebook-container');\n",
              "if (notebookContainer) {{\n",
              "    x.observe(notebookContainer, {childList: true});\n",
              "}}\n",
              "\n",
              "// Listen for the clearing of the current output cell\n",
              "var outputEl = gd.closest('.output');\n",
              "if (outputEl) {{\n",
              "    x.observe(outputEl, {childList: true});\n",
              "}}\n",
              "\n",
              "                        })\n",
              "                };\n",
              "                \n",
              "            </script>\n",
              "        </div>\n",
              "</body>\n",
              "</html>"
            ]
          },
          "metadata": {}
        },
        {
          "output_type": "display_data",
          "data": {
            "text/html": [
              "<html>\n",
              "<head><meta charset=\"utf-8\" /></head>\n",
              "<body>\n",
              "    <div>\n",
              "            <script src=\"https://cdnjs.cloudflare.com/ajax/libs/mathjax/2.7.5/MathJax.js?config=TeX-AMS-MML_SVG\"></script><script type=\"text/javascript\">if (window.MathJax) {MathJax.Hub.Config({SVG: {font: \"STIX-Web\"}});}</script>\n",
              "                <script type=\"text/javascript\">window.PlotlyConfig = {MathJaxConfig: 'local'};</script>\n",
              "        <script src=\"https://cdn.plot.ly/plotly-latest.min.js\"></script>    \n",
              "            <div id=\"42d20bab-600b-4834-a11d-3aaffb22e39a\" class=\"plotly-graph-div\" style=\"height:525px; width:100%;\"></div>\n",
              "            <script type=\"text/javascript\">\n",
              "                \n",
              "                    window.PLOTLYENV=window.PLOTLYENV || {};\n",
              "                    \n",
              "                if (document.getElementById(\"42d20bab-600b-4834-a11d-3aaffb22e39a\")) {\n",
              "                    Plotly.newPlot(\n",
              "                        '42d20bab-600b-4834-a11d-3aaffb22e39a',\n",
              "                        [{\"alignmentgroup\": \"True\", \"hoverlabel\": {\"namelength\": 0}, \"hovertemplate\": \"Category=FAMILY<br>Month=%{x}<br>Installs=%{y}\", \"legendgroup\": \"Category=FAMILY\", \"marker\": {\"color\": \"#636efa\"}, \"name\": \"Category=FAMILY\", \"offsetgroup\": \"Category=FAMILY\", \"orientation\": \"v\", \"showlegend\": true, \"textposition\": \"auto\", \"type\": \"bar\", \"x\": [\"May\"], \"xaxis\": \"x\", \"y\": [100000], \"yaxis\": \"y\"}],\n",
              "                        {\"barmode\": \"relative\", \"legend\": {\"tracegroupgap\": 0}, \"template\": {\"data\": {\"bar\": [{\"error_x\": {\"color\": \"#2a3f5f\"}, \"error_y\": {\"color\": \"#2a3f5f\"}, \"marker\": {\"line\": {\"color\": \"#E5ECF6\", \"width\": 0.5}}, \"type\": \"bar\"}], \"barpolar\": [{\"marker\": {\"line\": {\"color\": \"#E5ECF6\", \"width\": 0.5}}, \"type\": \"barpolar\"}], \"carpet\": [{\"aaxis\": {\"endlinecolor\": \"#2a3f5f\", \"gridcolor\": \"white\", \"linecolor\": \"white\", \"minorgridcolor\": \"white\", \"startlinecolor\": \"#2a3f5f\"}, \"baxis\": {\"endlinecolor\": \"#2a3f5f\", \"gridcolor\": \"white\", \"linecolor\": \"white\", \"minorgridcolor\": \"white\", \"startlinecolor\": \"#2a3f5f\"}, \"type\": \"carpet\"}], \"choropleth\": [{\"colorbar\": {\"outlinewidth\": 0, \"ticks\": \"\"}, \"type\": \"choropleth\"}], \"contour\": [{\"colorbar\": {\"outlinewidth\": 0, \"ticks\": \"\"}, \"colorscale\": [[0.0, \"#0d0887\"], [0.1111111111111111, \"#46039f\"], [0.2222222222222222, \"#7201a8\"], [0.3333333333333333, \"#9c179e\"], [0.4444444444444444, \"#bd3786\"], [0.5555555555555556, \"#d8576b\"], [0.6666666666666666, \"#ed7953\"], [0.7777777777777778, \"#fb9f3a\"], [0.8888888888888888, \"#fdca26\"], [1.0, \"#f0f921\"]], \"type\": \"contour\"}], \"contourcarpet\": [{\"colorbar\": {\"outlinewidth\": 0, \"ticks\": \"\"}, \"type\": \"contourcarpet\"}], \"heatmap\": [{\"colorbar\": {\"outlinewidth\": 0, \"ticks\": \"\"}, \"colorscale\": [[0.0, \"#0d0887\"], [0.1111111111111111, \"#46039f\"], [0.2222222222222222, \"#7201a8\"], [0.3333333333333333, \"#9c179e\"], [0.4444444444444444, \"#bd3786\"], [0.5555555555555556, \"#d8576b\"], [0.6666666666666666, \"#ed7953\"], [0.7777777777777778, \"#fb9f3a\"], [0.8888888888888888, \"#fdca26\"], [1.0, \"#f0f921\"]], \"type\": \"heatmap\"}], \"heatmapgl\": [{\"colorbar\": {\"outlinewidth\": 0, \"ticks\": \"\"}, \"colorscale\": [[0.0, \"#0d0887\"], [0.1111111111111111, \"#46039f\"], [0.2222222222222222, \"#7201a8\"], [0.3333333333333333, \"#9c179e\"], [0.4444444444444444, \"#bd3786\"], [0.5555555555555556, \"#d8576b\"], [0.6666666666666666, \"#ed7953\"], [0.7777777777777778, \"#fb9f3a\"], [0.8888888888888888, \"#fdca26\"], [1.0, \"#f0f921\"]], \"type\": \"heatmapgl\"}], \"histogram\": [{\"marker\": {\"colorbar\": {\"outlinewidth\": 0, \"ticks\": \"\"}}, \"type\": \"histogram\"}], \"histogram2d\": [{\"colorbar\": {\"outlinewidth\": 0, \"ticks\": \"\"}, \"colorscale\": [[0.0, \"#0d0887\"], [0.1111111111111111, \"#46039f\"], [0.2222222222222222, \"#7201a8\"], [0.3333333333333333, \"#9c179e\"], [0.4444444444444444, \"#bd3786\"], [0.5555555555555556, \"#d8576b\"], [0.6666666666666666, \"#ed7953\"], [0.7777777777777778, \"#fb9f3a\"], [0.8888888888888888, \"#fdca26\"], [1.0, \"#f0f921\"]], \"type\": \"histogram2d\"}], \"histogram2dcontour\": [{\"colorbar\": {\"outlinewidth\": 0, \"ticks\": \"\"}, \"colorscale\": [[0.0, \"#0d0887\"], [0.1111111111111111, \"#46039f\"], [0.2222222222222222, \"#7201a8\"], [0.3333333333333333, \"#9c179e\"], [0.4444444444444444, \"#bd3786\"], [0.5555555555555556, \"#d8576b\"], [0.6666666666666666, \"#ed7953\"], [0.7777777777777778, \"#fb9f3a\"], [0.8888888888888888, \"#fdca26\"], [1.0, \"#f0f921\"]], \"type\": \"histogram2dcontour\"}], \"mesh3d\": [{\"colorbar\": {\"outlinewidth\": 0, \"ticks\": \"\"}, \"type\": \"mesh3d\"}], \"parcoords\": [{\"line\": {\"colorbar\": {\"outlinewidth\": 0, \"ticks\": \"\"}}, \"type\": \"parcoords\"}], \"pie\": [{\"automargin\": true, \"type\": \"pie\"}], \"scatter\": [{\"marker\": {\"colorbar\": {\"outlinewidth\": 0, \"ticks\": \"\"}}, \"type\": \"scatter\"}], \"scatter3d\": [{\"line\": {\"colorbar\": {\"outlinewidth\": 0, \"ticks\": \"\"}}, \"marker\": {\"colorbar\": {\"outlinewidth\": 0, \"ticks\": \"\"}}, \"type\": \"scatter3d\"}], \"scattercarpet\": [{\"marker\": {\"colorbar\": {\"outlinewidth\": 0, \"ticks\": \"\"}}, \"type\": \"scattercarpet\"}], \"scattergeo\": [{\"marker\": {\"colorbar\": {\"outlinewidth\": 0, \"ticks\": \"\"}}, \"type\": \"scattergeo\"}], \"scattergl\": [{\"marker\": {\"colorbar\": {\"outlinewidth\": 0, \"ticks\": \"\"}}, \"type\": \"scattergl\"}], \"scattermapbox\": [{\"marker\": {\"colorbar\": {\"outlinewidth\": 0, \"ticks\": \"\"}}, \"type\": \"scattermapbox\"}], \"scatterpolar\": [{\"marker\": {\"colorbar\": {\"outlinewidth\": 0, \"ticks\": \"\"}}, \"type\": \"scatterpolar\"}], \"scatterpolargl\": [{\"marker\": {\"colorbar\": {\"outlinewidth\": 0, \"ticks\": \"\"}}, \"type\": \"scatterpolargl\"}], \"scatterternary\": [{\"marker\": {\"colorbar\": {\"outlinewidth\": 0, \"ticks\": \"\"}}, \"type\": \"scatterternary\"}], \"surface\": [{\"colorbar\": {\"outlinewidth\": 0, \"ticks\": \"\"}, \"colorscale\": [[0.0, \"#0d0887\"], [0.1111111111111111, \"#46039f\"], [0.2222222222222222, \"#7201a8\"], [0.3333333333333333, \"#9c179e\"], [0.4444444444444444, \"#bd3786\"], [0.5555555555555556, \"#d8576b\"], [0.6666666666666666, \"#ed7953\"], [0.7777777777777778, \"#fb9f3a\"], [0.8888888888888888, \"#fdca26\"], [1.0, \"#f0f921\"]], \"type\": \"surface\"}], \"table\": [{\"cells\": {\"fill\": {\"color\": \"#EBF0F8\"}, \"line\": {\"color\": \"white\"}}, \"header\": {\"fill\": {\"color\": \"#C8D4E3\"}, \"line\": {\"color\": \"white\"}}, \"type\": \"table\"}]}, \"layout\": {\"annotationdefaults\": {\"arrowcolor\": \"#2a3f5f\", \"arrowhead\": 0, \"arrowwidth\": 1}, \"coloraxis\": {\"colorbar\": {\"outlinewidth\": 0, \"ticks\": \"\"}}, \"colorscale\": {\"diverging\": [[0, \"#8e0152\"], [0.1, \"#c51b7d\"], [0.2, \"#de77ae\"], [0.3, \"#f1b6da\"], [0.4, \"#fde0ef\"], [0.5, \"#f7f7f7\"], [0.6, \"#e6f5d0\"], [0.7, \"#b8e186\"], [0.8, \"#7fbc41\"], [0.9, \"#4d9221\"], [1, \"#276419\"]], \"sequential\": [[0.0, \"#0d0887\"], [0.1111111111111111, \"#46039f\"], [0.2222222222222222, \"#7201a8\"], [0.3333333333333333, \"#9c179e\"], [0.4444444444444444, \"#bd3786\"], [0.5555555555555556, \"#d8576b\"], [0.6666666666666666, \"#ed7953\"], [0.7777777777777778, \"#fb9f3a\"], [0.8888888888888888, \"#fdca26\"], [1.0, \"#f0f921\"]], \"sequentialminus\": [[0.0, \"#0d0887\"], [0.1111111111111111, \"#46039f\"], [0.2222222222222222, \"#7201a8\"], [0.3333333333333333, \"#9c179e\"], [0.4444444444444444, \"#bd3786\"], [0.5555555555555556, \"#d8576b\"], [0.6666666666666666, \"#ed7953\"], [0.7777777777777778, \"#fb9f3a\"], [0.8888888888888888, \"#fdca26\"], [1.0, \"#f0f921\"]]}, \"colorway\": [\"#636efa\", \"#EF553B\", \"#00cc96\", \"#ab63fa\", \"#FFA15A\", \"#19d3f3\", \"#FF6692\", \"#B6E880\", \"#FF97FF\", \"#FECB52\"], \"font\": {\"color\": \"#2a3f5f\"}, \"geo\": {\"bgcolor\": \"white\", \"lakecolor\": \"white\", \"landcolor\": \"#E5ECF6\", \"showlakes\": true, \"showland\": true, \"subunitcolor\": \"white\"}, \"hoverlabel\": {\"align\": \"left\"}, \"hovermode\": \"closest\", \"mapbox\": {\"style\": \"light\"}, \"paper_bgcolor\": \"white\", \"plot_bgcolor\": \"#E5ECF6\", \"polar\": {\"angularaxis\": {\"gridcolor\": \"white\", \"linecolor\": \"white\", \"ticks\": \"\"}, \"bgcolor\": \"#E5ECF6\", \"radialaxis\": {\"gridcolor\": \"white\", \"linecolor\": \"white\", \"ticks\": \"\"}}, \"scene\": {\"xaxis\": {\"backgroundcolor\": \"#E5ECF6\", \"gridcolor\": \"white\", \"gridwidth\": 2, \"linecolor\": \"white\", \"showbackground\": true, \"ticks\": \"\", \"zerolinecolor\": \"white\"}, \"yaxis\": {\"backgroundcolor\": \"#E5ECF6\", \"gridcolor\": \"white\", \"gridwidth\": 2, \"linecolor\": \"white\", \"showbackground\": true, \"ticks\": \"\", \"zerolinecolor\": \"white\"}, \"zaxis\": {\"backgroundcolor\": \"#E5ECF6\", \"gridcolor\": \"white\", \"gridwidth\": 2, \"linecolor\": \"white\", \"showbackground\": true, \"ticks\": \"\", \"zerolinecolor\": \"white\"}}, \"shapedefaults\": {\"line\": {\"color\": \"#2a3f5f\"}}, \"ternary\": {\"aaxis\": {\"gridcolor\": \"white\", \"linecolor\": \"white\", \"ticks\": \"\"}, \"baxis\": {\"gridcolor\": \"white\", \"linecolor\": \"white\", \"ticks\": \"\"}, \"bgcolor\": \"#E5ECF6\", \"caxis\": {\"gridcolor\": \"white\", \"linecolor\": \"white\", \"ticks\": \"\"}}, \"title\": {\"x\": 0.05}, \"xaxis\": {\"automargin\": true, \"gridcolor\": \"white\", \"linecolor\": \"white\", \"ticks\": \"\", \"title\": {\"standoff\": 15}, \"zerolinecolor\": \"white\", \"zerolinewidth\": 2}, \"yaxis\": {\"automargin\": true, \"gridcolor\": \"white\", \"linecolor\": \"white\", \"ticks\": \"\", \"title\": {\"standoff\": 15}, \"zerolinecolor\": \"white\", \"zerolinewidth\": 2}}}, \"title\": {\"text\": \"2010 Monthly installation Trend\"}, \"xaxis\": {\"anchor\": \"y\", \"categoryarray\": [\"January\", \"February\", \"March\", \"April\", \"May\", \"June\", \"July\", \"August\", \"September\", \"October\", \"November\", \"December\"], \"categoryorder\": \"array\", \"domain\": [0.0, 1.0], \"title\": {\"text\": \"Month\"}}, \"yaxis\": {\"anchor\": \"x\", \"domain\": [0.0, 1.0], \"title\": {\"text\": \"Installs\"}}},\n",
              "                        {\"responsive\": true}\n",
              "                    ).then(function(){\n",
              "                            \n",
              "var gd = document.getElementById('42d20bab-600b-4834-a11d-3aaffb22e39a');\n",
              "var x = new MutationObserver(function (mutations, observer) {{\n",
              "        var display = window.getComputedStyle(gd).display;\n",
              "        if (!display || display === 'none') {{\n",
              "            console.log([gd, 'removed!']);\n",
              "            Plotly.purge(gd);\n",
              "            observer.disconnect();\n",
              "        }}\n",
              "}});\n",
              "\n",
              "// Listen for the removal of the full notebook cells\n",
              "var notebookContainer = gd.closest('#notebook-container');\n",
              "if (notebookContainer) {{\n",
              "    x.observe(notebookContainer, {childList: true});\n",
              "}}\n",
              "\n",
              "// Listen for the clearing of the current output cell\n",
              "var outputEl = gd.closest('.output');\n",
              "if (outputEl) {{\n",
              "    x.observe(outputEl, {childList: true});\n",
              "}}\n",
              "\n",
              "                        })\n",
              "                };\n",
              "                \n",
              "            </script>\n",
              "        </div>\n",
              "</body>\n",
              "</html>"
            ]
          },
          "metadata": {}
        }
      ]
    },
    {
      "cell_type": "markdown",
      "metadata": {
        "id": "MX2bK0H-DDIz"
      },
      "source": [
        "Here we are getting monthly trend of each category installed in each year which can provide us the installation details according festivals, holiday or political shift etc.\n",
        "\n",
        "To get it in more better way we can compare month wise for 2018 and 2017 in the next graphs."
      ]
    },
    {
      "cell_type": "code",
      "metadata": {
        "id": "2eGtJJYFVZ80"
      },
      "source": [
        "df4=df3[[\"Year\",\"Month\",\"Installs\",\"Category\"]].groupby([\"Year\",\"Month\",\"Category\"],as_index=False).sum()"
      ],
      "execution_count": null,
      "outputs": []
    },
    {
      "cell_type": "code",
      "metadata": {
        "id": "xm1CI7IBjmeI",
        "colab": {
          "base_uri": "https://localhost:8080/",
          "height": 542
        },
        "outputId": "b8406a47-e632-4190-d1ca-ec4f30c4c061"
      },
      "source": [
        "fig = px.bar(df4[df4['Year']==2018], x = \"Category\", y = \"Installs\", animation_frame=\"Month\",text=\"Category\", animation_group=\"Category\", title='2018 Monthly installation Trend', category_orders={\"Month\": month})\n",
        "fig.update_traces(textposition='outside')\n",
        "fig.update_xaxes(visible=False)\n",
        "fig.show()"
      ],
      "execution_count": 178,
      "outputs": [
        {
          "output_type": "display_data",
          "data": {
            "text/html": [
              "<html>\n",
              "<head><meta charset=\"utf-8\" /></head>\n",
              "<body>\n",
              "    <div>\n",
              "            <script src=\"https://cdnjs.cloudflare.com/ajax/libs/mathjax/2.7.5/MathJax.js?config=TeX-AMS-MML_SVG\"></script><script type=\"text/javascript\">if (window.MathJax) {MathJax.Hub.Config({SVG: {font: \"STIX-Web\"}});}</script>\n",
              "                <script type=\"text/javascript\">window.PlotlyConfig = {MathJaxConfig: 'local'};</script>\n",
              "        <script src=\"https://cdn.plot.ly/plotly-latest.min.js\"></script>    \n",
              "            <div id=\"a172fd4c-bf74-41b7-be4e-98b9f5a586ff\" class=\"plotly-graph-div\" style=\"height:525px; width:100%;\"></div>\n",
              "            <script type=\"text/javascript\">\n",
              "                \n",
              "                    window.PLOTLYENV=window.PLOTLYENV || {};\n",
              "                    \n",
              "                if (document.getElementById(\"a172fd4c-bf74-41b7-be4e-98b9f5a586ff\")) {\n",
              "                    Plotly.newPlot(\n",
              "                        'a172fd4c-bf74-41b7-be4e-98b9f5a586ff',\n",
              "                        [{\"alignmentgroup\": \"True\", \"hoverlabel\": {\"namelength\": 0}, \"hovertemplate\": \"Month=January<br>Category=%{text}<br>Installs=%{y}\", \"ids\": [\"ART_AND_DESIGN\", \"AUTO_AND_VEHICLES\", \"BEAUTY\", \"BOOKS_AND_REFERENCE\", \"BUSINESS\", \"COMICS\", \"COMMUNICATION\", \"ENTERTAINMENT\", \"EVENTS\", \"FAMILY\", \"FINANCE\", \"FOOD_AND_DRINK\", \"GAME\", \"HEALTH_AND_FITNESS\", \"LIBRARIES_AND_DEMO\", \"LIFESTYLE\", \"MAPS_AND_NAVIGATION\", \"MEDICAL\", \"NEWS_AND_MAGAZINES\", \"PARENTING\", \"PERSONALIZATION\", \"PHOTOGRAPHY\", \"PRODUCTIVITY\", \"SHOPPING\", \"SOCIAL\", \"SPORTS\", \"TOOLS\", \"TRAVEL_AND_LOCAL\", \"WEATHER\"], \"legendgroup\": \"\", \"marker\": {\"color\": \"#636efa\"}, \"name\": \"\", \"offsetgroup\": \"\", \"orientation\": \"v\", \"showlegend\": false, \"text\": [\"ART_AND_DESIGN\", \"AUTO_AND_VEHICLES\", \"BEAUTY\", \"BOOKS_AND_REFERENCE\", \"BUSINESS\", \"COMICS\", \"COMMUNICATION\", \"ENTERTAINMENT\", \"EVENTS\", \"FAMILY\", \"FINANCE\", \"FOOD_AND_DRINK\", \"GAME\", \"HEALTH_AND_FITNESS\", \"LIBRARIES_AND_DEMO\", \"LIFESTYLE\", \"MAPS_AND_NAVIGATION\", \"MEDICAL\", \"NEWS_AND_MAGAZINES\", \"PARENTING\", \"PERSONALIZATION\", \"PHOTOGRAPHY\", \"PRODUCTIVITY\", \"SHOPPING\", \"SOCIAL\", \"SPORTS\", \"TOOLS\", \"TRAVEL_AND_LOCAL\", \"WEATHER\"], \"textposition\": \"outside\", \"type\": \"bar\", \"x\": [\"ART_AND_DESIGN\", \"AUTO_AND_VEHICLES\", \"BEAUTY\", \"BOOKS_AND_REFERENCE\", \"BUSINESS\", \"COMICS\", \"COMMUNICATION\", \"ENTERTAINMENT\", \"EVENTS\", \"FAMILY\", \"FINANCE\", \"FOOD_AND_DRINK\", \"GAME\", \"HEALTH_AND_FITNESS\", \"LIBRARIES_AND_DEMO\", \"LIFESTYLE\", \"MAPS_AND_NAVIGATION\", \"MEDICAL\", \"NEWS_AND_MAGAZINES\", \"PARENTING\", \"PERSONALIZATION\", \"PHOTOGRAPHY\", \"PRODUCTIVITY\", \"SHOPPING\", \"SOCIAL\", \"SPORTS\", \"TOOLS\", \"TRAVEL_AND_LOCAL\", \"WEATHER\"], \"xaxis\": \"x\", \"y\": [630000, 1000, 10000, 525000, 61025720, 10000, 18622101, 22000000, 500, 138550980, 98100, 150110, 123410000, 2301100, 600000, 1862050, 101020, 723750, 1110000, 10, 21054000, 12002200, 104170015, 1010500, 618000, 110761000, 50778120, 61560100, 1000500], \"yaxis\": \"y\"}],\n",
              "                        {\"barmode\": \"relative\", \"legend\": {\"tracegroupgap\": 0}, \"sliders\": [{\"active\": 0, \"currentvalue\": {\"prefix\": \"Month=\"}, \"len\": 0.9, \"pad\": {\"b\": 10, \"t\": 60}, \"steps\": [{\"args\": [[\"January\"], {\"frame\": {\"duration\": 0, \"redraw\": true}, \"fromcurrent\": true, \"mode\": \"immediate\", \"transition\": {\"duration\": 0, \"easing\": \"linear\"}}], \"label\": \"January\", \"method\": \"animate\"}, {\"args\": [[\"February\"], {\"frame\": {\"duration\": 0, \"redraw\": true}, \"fromcurrent\": true, \"mode\": \"immediate\", \"transition\": {\"duration\": 0, \"easing\": \"linear\"}}], \"label\": \"February\", \"method\": \"animate\"}, {\"args\": [[\"March\"], {\"frame\": {\"duration\": 0, \"redraw\": true}, \"fromcurrent\": true, \"mode\": \"immediate\", \"transition\": {\"duration\": 0, \"easing\": \"linear\"}}], \"label\": \"March\", \"method\": \"animate\"}, {\"args\": [[\"April\"], {\"frame\": {\"duration\": 0, \"redraw\": true}, \"fromcurrent\": true, \"mode\": \"immediate\", \"transition\": {\"duration\": 0, \"easing\": \"linear\"}}], \"label\": \"April\", \"method\": \"animate\"}, {\"args\": [[\"May\"], {\"frame\": {\"duration\": 0, \"redraw\": true}, \"fromcurrent\": true, \"mode\": \"immediate\", \"transition\": {\"duration\": 0, \"easing\": \"linear\"}}], \"label\": \"May\", \"method\": \"animate\"}, {\"args\": [[\"June\"], {\"frame\": {\"duration\": 0, \"redraw\": true}, \"fromcurrent\": true, \"mode\": \"immediate\", \"transition\": {\"duration\": 0, \"easing\": \"linear\"}}], \"label\": \"June\", \"method\": \"animate\"}, {\"args\": [[\"July\"], {\"frame\": {\"duration\": 0, \"redraw\": true}, \"fromcurrent\": true, \"mode\": \"immediate\", \"transition\": {\"duration\": 0, \"easing\": \"linear\"}}], \"label\": \"July\", \"method\": \"animate\"}, {\"args\": [[\"August\"], {\"frame\": {\"duration\": 0, \"redraw\": true}, \"fromcurrent\": true, \"mode\": \"immediate\", \"transition\": {\"duration\": 0, \"easing\": \"linear\"}}], \"label\": \"August\", \"method\": \"animate\"}], \"x\": 0.1, \"xanchor\": \"left\", \"y\": 0, \"yanchor\": \"top\"}], \"template\": {\"data\": {\"bar\": [{\"error_x\": {\"color\": \"#2a3f5f\"}, \"error_y\": {\"color\": \"#2a3f5f\"}, \"marker\": {\"line\": {\"color\": \"#E5ECF6\", \"width\": 0.5}}, \"type\": \"bar\"}], \"barpolar\": [{\"marker\": {\"line\": {\"color\": \"#E5ECF6\", \"width\": 0.5}}, \"type\": \"barpolar\"}], \"carpet\": [{\"aaxis\": {\"endlinecolor\": \"#2a3f5f\", \"gridcolor\": \"white\", \"linecolor\": \"white\", \"minorgridcolor\": \"white\", \"startlinecolor\": \"#2a3f5f\"}, \"baxis\": {\"endlinecolor\": \"#2a3f5f\", \"gridcolor\": \"white\", \"linecolor\": \"white\", \"minorgridcolor\": \"white\", \"startlinecolor\": \"#2a3f5f\"}, \"type\": \"carpet\"}], \"choropleth\": [{\"colorbar\": {\"outlinewidth\": 0, \"ticks\": \"\"}, \"type\": \"choropleth\"}], \"contour\": [{\"colorbar\": {\"outlinewidth\": 0, \"ticks\": \"\"}, \"colorscale\": [[0.0, \"#0d0887\"], [0.1111111111111111, \"#46039f\"], [0.2222222222222222, \"#7201a8\"], [0.3333333333333333, \"#9c179e\"], [0.4444444444444444, \"#bd3786\"], [0.5555555555555556, \"#d8576b\"], [0.6666666666666666, \"#ed7953\"], [0.7777777777777778, \"#fb9f3a\"], [0.8888888888888888, \"#fdca26\"], [1.0, \"#f0f921\"]], \"type\": \"contour\"}], \"contourcarpet\": [{\"colorbar\": {\"outlinewidth\": 0, \"ticks\": \"\"}, \"type\": \"contourcarpet\"}], \"heatmap\": [{\"colorbar\": {\"outlinewidth\": 0, \"ticks\": \"\"}, \"colorscale\": [[0.0, \"#0d0887\"], [0.1111111111111111, \"#46039f\"], [0.2222222222222222, \"#7201a8\"], [0.3333333333333333, \"#9c179e\"], [0.4444444444444444, \"#bd3786\"], [0.5555555555555556, \"#d8576b\"], [0.6666666666666666, \"#ed7953\"], [0.7777777777777778, \"#fb9f3a\"], [0.8888888888888888, \"#fdca26\"], [1.0, \"#f0f921\"]], \"type\": \"heatmap\"}], \"heatmapgl\": [{\"colorbar\": {\"outlinewidth\": 0, \"ticks\": \"\"}, \"colorscale\": [[0.0, \"#0d0887\"], [0.1111111111111111, \"#46039f\"], [0.2222222222222222, \"#7201a8\"], [0.3333333333333333, \"#9c179e\"], [0.4444444444444444, \"#bd3786\"], [0.5555555555555556, \"#d8576b\"], [0.6666666666666666, \"#ed7953\"], [0.7777777777777778, \"#fb9f3a\"], [0.8888888888888888, \"#fdca26\"], [1.0, \"#f0f921\"]], \"type\": \"heatmapgl\"}], \"histogram\": [{\"marker\": {\"colorbar\": {\"outlinewidth\": 0, \"ticks\": \"\"}}, \"type\": \"histogram\"}], \"histogram2d\": [{\"colorbar\": {\"outlinewidth\": 0, \"ticks\": \"\"}, \"colorscale\": [[0.0, \"#0d0887\"], [0.1111111111111111, \"#46039f\"], [0.2222222222222222, \"#7201a8\"], [0.3333333333333333, \"#9c179e\"], [0.4444444444444444, \"#bd3786\"], [0.5555555555555556, \"#d8576b\"], [0.6666666666666666, \"#ed7953\"], [0.7777777777777778, \"#fb9f3a\"], [0.8888888888888888, \"#fdca26\"], [1.0, \"#f0f921\"]], \"type\": \"histogram2d\"}], \"histogram2dcontour\": [{\"colorbar\": {\"outlinewidth\": 0, \"ticks\": \"\"}, \"colorscale\": [[0.0, \"#0d0887\"], [0.1111111111111111, \"#46039f\"], [0.2222222222222222, \"#7201a8\"], [0.3333333333333333, \"#9c179e\"], [0.4444444444444444, \"#bd3786\"], [0.5555555555555556, \"#d8576b\"], [0.6666666666666666, \"#ed7953\"], [0.7777777777777778, \"#fb9f3a\"], [0.8888888888888888, \"#fdca26\"], [1.0, \"#f0f921\"]], \"type\": \"histogram2dcontour\"}], \"mesh3d\": [{\"colorbar\": {\"outlinewidth\": 0, \"ticks\": \"\"}, \"type\": \"mesh3d\"}], \"parcoords\": [{\"line\": {\"colorbar\": {\"outlinewidth\": 0, \"ticks\": \"\"}}, \"type\": \"parcoords\"}], \"pie\": [{\"automargin\": true, \"type\": \"pie\"}], \"scatter\": [{\"marker\": {\"colorbar\": {\"outlinewidth\": 0, \"ticks\": \"\"}}, \"type\": \"scatter\"}], \"scatter3d\": [{\"line\": {\"colorbar\": {\"outlinewidth\": 0, \"ticks\": \"\"}}, \"marker\": {\"colorbar\": {\"outlinewidth\": 0, \"ticks\": \"\"}}, \"type\": \"scatter3d\"}], \"scattercarpet\": [{\"marker\": {\"colorbar\": {\"outlinewidth\": 0, \"ticks\": \"\"}}, \"type\": \"scattercarpet\"}], \"scattergeo\": [{\"marker\": {\"colorbar\": {\"outlinewidth\": 0, \"ticks\": \"\"}}, \"type\": \"scattergeo\"}], \"scattergl\": [{\"marker\": {\"colorbar\": {\"outlinewidth\": 0, \"ticks\": \"\"}}, \"type\": \"scattergl\"}], \"scattermapbox\": [{\"marker\": {\"colorbar\": {\"outlinewidth\": 0, \"ticks\": \"\"}}, \"type\": \"scattermapbox\"}], \"scatterpolar\": [{\"marker\": {\"colorbar\": {\"outlinewidth\": 0, \"ticks\": \"\"}}, \"type\": \"scatterpolar\"}], \"scatterpolargl\": [{\"marker\": {\"colorbar\": {\"outlinewidth\": 0, \"ticks\": \"\"}}, \"type\": \"scatterpolargl\"}], \"scatterternary\": [{\"marker\": {\"colorbar\": {\"outlinewidth\": 0, \"ticks\": \"\"}}, \"type\": \"scatterternary\"}], \"surface\": [{\"colorbar\": {\"outlinewidth\": 0, \"ticks\": \"\"}, \"colorscale\": [[0.0, \"#0d0887\"], [0.1111111111111111, \"#46039f\"], [0.2222222222222222, \"#7201a8\"], [0.3333333333333333, \"#9c179e\"], [0.4444444444444444, \"#bd3786\"], [0.5555555555555556, \"#d8576b\"], [0.6666666666666666, \"#ed7953\"], [0.7777777777777778, \"#fb9f3a\"], [0.8888888888888888, \"#fdca26\"], [1.0, \"#f0f921\"]], \"type\": \"surface\"}], \"table\": [{\"cells\": {\"fill\": {\"color\": \"#EBF0F8\"}, \"line\": {\"color\": \"white\"}}, \"header\": {\"fill\": {\"color\": \"#C8D4E3\"}, \"line\": {\"color\": \"white\"}}, \"type\": \"table\"}]}, \"layout\": {\"annotationdefaults\": {\"arrowcolor\": \"#2a3f5f\", \"arrowhead\": 0, \"arrowwidth\": 1}, \"coloraxis\": {\"colorbar\": {\"outlinewidth\": 0, \"ticks\": \"\"}}, \"colorscale\": {\"diverging\": [[0, \"#8e0152\"], [0.1, \"#c51b7d\"], [0.2, \"#de77ae\"], [0.3, \"#f1b6da\"], [0.4, \"#fde0ef\"], [0.5, \"#f7f7f7\"], [0.6, \"#e6f5d0\"], [0.7, \"#b8e186\"], [0.8, \"#7fbc41\"], [0.9, \"#4d9221\"], [1, \"#276419\"]], \"sequential\": [[0.0, \"#0d0887\"], [0.1111111111111111, \"#46039f\"], [0.2222222222222222, \"#7201a8\"], [0.3333333333333333, \"#9c179e\"], [0.4444444444444444, \"#bd3786\"], [0.5555555555555556, \"#d8576b\"], [0.6666666666666666, \"#ed7953\"], [0.7777777777777778, \"#fb9f3a\"], [0.8888888888888888, \"#fdca26\"], [1.0, \"#f0f921\"]], \"sequentialminus\": [[0.0, \"#0d0887\"], [0.1111111111111111, \"#46039f\"], [0.2222222222222222, \"#7201a8\"], [0.3333333333333333, \"#9c179e\"], [0.4444444444444444, \"#bd3786\"], [0.5555555555555556, \"#d8576b\"], [0.6666666666666666, \"#ed7953\"], [0.7777777777777778, \"#fb9f3a\"], [0.8888888888888888, \"#fdca26\"], [1.0, \"#f0f921\"]]}, \"colorway\": [\"#636efa\", \"#EF553B\", \"#00cc96\", \"#ab63fa\", \"#FFA15A\", \"#19d3f3\", \"#FF6692\", \"#B6E880\", \"#FF97FF\", \"#FECB52\"], \"font\": {\"color\": \"#2a3f5f\"}, \"geo\": {\"bgcolor\": \"white\", \"lakecolor\": \"white\", \"landcolor\": \"#E5ECF6\", \"showlakes\": true, \"showland\": true, \"subunitcolor\": \"white\"}, \"hoverlabel\": {\"align\": \"left\"}, \"hovermode\": \"closest\", \"mapbox\": {\"style\": \"light\"}, \"paper_bgcolor\": \"white\", \"plot_bgcolor\": \"#E5ECF6\", \"polar\": {\"angularaxis\": {\"gridcolor\": \"white\", \"linecolor\": \"white\", \"ticks\": \"\"}, \"bgcolor\": \"#E5ECF6\", \"radialaxis\": {\"gridcolor\": \"white\", \"linecolor\": \"white\", \"ticks\": \"\"}}, \"scene\": {\"xaxis\": {\"backgroundcolor\": \"#E5ECF6\", \"gridcolor\": \"white\", \"gridwidth\": 2, \"linecolor\": \"white\", \"showbackground\": true, \"ticks\": \"\", \"zerolinecolor\": \"white\"}, \"yaxis\": {\"backgroundcolor\": \"#E5ECF6\", \"gridcolor\": \"white\", \"gridwidth\": 2, \"linecolor\": \"white\", \"showbackground\": true, \"ticks\": \"\", \"zerolinecolor\": \"white\"}, \"zaxis\": {\"backgroundcolor\": \"#E5ECF6\", \"gridcolor\": \"white\", \"gridwidth\": 2, \"linecolor\": \"white\", \"showbackground\": true, \"ticks\": \"\", \"zerolinecolor\": \"white\"}}, \"shapedefaults\": {\"line\": {\"color\": \"#2a3f5f\"}}, \"ternary\": {\"aaxis\": {\"gridcolor\": \"white\", \"linecolor\": \"white\", \"ticks\": \"\"}, \"baxis\": {\"gridcolor\": \"white\", \"linecolor\": \"white\", \"ticks\": \"\"}, \"bgcolor\": \"#E5ECF6\", \"caxis\": {\"gridcolor\": \"white\", \"linecolor\": \"white\", \"ticks\": \"\"}}, \"title\": {\"x\": 0.05}, \"xaxis\": {\"automargin\": true, \"gridcolor\": \"white\", \"linecolor\": \"white\", \"ticks\": \"\", \"title\": {\"standoff\": 15}, \"zerolinecolor\": \"white\", \"zerolinewidth\": 2}, \"yaxis\": {\"automargin\": true, \"gridcolor\": \"white\", \"linecolor\": \"white\", \"ticks\": \"\", \"title\": {\"standoff\": 15}, \"zerolinecolor\": \"white\", \"zerolinewidth\": 2}}}, \"title\": {\"text\": \"2018 Monthly installation Trend\"}, \"updatemenus\": [{\"buttons\": [{\"args\": [null, {\"frame\": {\"duration\": 500, \"redraw\": true}, \"fromcurrent\": true, \"mode\": \"immediate\", \"transition\": {\"duration\": 500, \"easing\": \"linear\"}}], \"label\": \"&#9654;\", \"method\": \"animate\"}, {\"args\": [[null], {\"frame\": {\"duration\": 0, \"redraw\": true}, \"fromcurrent\": true, \"mode\": \"immediate\", \"transition\": {\"duration\": 0, \"easing\": \"linear\"}}], \"label\": \"&#9724;\", \"method\": \"animate\"}], \"direction\": \"left\", \"pad\": {\"r\": 10, \"t\": 70}, \"showactive\": false, \"type\": \"buttons\", \"x\": 0.1, \"xanchor\": \"right\", \"y\": 0, \"yanchor\": \"top\"}], \"xaxis\": {\"anchor\": \"y\", \"domain\": [0.0, 1.0], \"title\": {\"text\": \"Category\"}, \"visible\": false}, \"yaxis\": {\"anchor\": \"x\", \"domain\": [0.0, 1.0], \"title\": {\"text\": \"Installs\"}}},\n",
              "                        {\"responsive\": true}\n",
              "                    ).then(function(){\n",
              "                            Plotly.addFrames('a172fd4c-bf74-41b7-be4e-98b9f5a586ff', [{\"data\": [{\"alignmentgroup\": \"True\", \"hoverlabel\": {\"namelength\": 0}, \"hovertemplate\": \"Month=January<br>Category=%{text}<br>Installs=%{y}\", \"ids\": [\"ART_AND_DESIGN\", \"AUTO_AND_VEHICLES\", \"BEAUTY\", \"BOOKS_AND_REFERENCE\", \"BUSINESS\", \"COMICS\", \"COMMUNICATION\", \"ENTERTAINMENT\", \"EVENTS\", \"FAMILY\", \"FINANCE\", \"FOOD_AND_DRINK\", \"GAME\", \"HEALTH_AND_FITNESS\", \"LIBRARIES_AND_DEMO\", \"LIFESTYLE\", \"MAPS_AND_NAVIGATION\", \"MEDICAL\", \"NEWS_AND_MAGAZINES\", \"PARENTING\", \"PERSONALIZATION\", \"PHOTOGRAPHY\", \"PRODUCTIVITY\", \"SHOPPING\", \"SOCIAL\", \"SPORTS\", \"TOOLS\", \"TRAVEL_AND_LOCAL\", \"WEATHER\"], \"legendgroup\": \"\", \"marker\": {\"color\": \"#636efa\"}, \"name\": \"\", \"offsetgroup\": \"\", \"orientation\": \"v\", \"showlegend\": false, \"text\": [\"ART_AND_DESIGN\", \"AUTO_AND_VEHICLES\", \"BEAUTY\", \"BOOKS_AND_REFERENCE\", \"BUSINESS\", \"COMICS\", \"COMMUNICATION\", \"ENTERTAINMENT\", \"EVENTS\", \"FAMILY\", \"FINANCE\", \"FOOD_AND_DRINK\", \"GAME\", \"HEALTH_AND_FITNESS\", \"LIBRARIES_AND_DEMO\", \"LIFESTYLE\", \"MAPS_AND_NAVIGATION\", \"MEDICAL\", \"NEWS_AND_MAGAZINES\", \"PARENTING\", \"PERSONALIZATION\", \"PHOTOGRAPHY\", \"PRODUCTIVITY\", \"SHOPPING\", \"SOCIAL\", \"SPORTS\", \"TOOLS\", \"TRAVEL_AND_LOCAL\", \"WEATHER\"], \"textposition\": \"auto\", \"x\": [\"ART_AND_DESIGN\", \"AUTO_AND_VEHICLES\", \"BEAUTY\", \"BOOKS_AND_REFERENCE\", \"BUSINESS\", \"COMICS\", \"COMMUNICATION\", \"ENTERTAINMENT\", \"EVENTS\", \"FAMILY\", \"FINANCE\", \"FOOD_AND_DRINK\", \"GAME\", \"HEALTH_AND_FITNESS\", \"LIBRARIES_AND_DEMO\", \"LIFESTYLE\", \"MAPS_AND_NAVIGATION\", \"MEDICAL\", \"NEWS_AND_MAGAZINES\", \"PARENTING\", \"PERSONALIZATION\", \"PHOTOGRAPHY\", \"PRODUCTIVITY\", \"SHOPPING\", \"SOCIAL\", \"SPORTS\", \"TOOLS\", \"TRAVEL_AND_LOCAL\", \"WEATHER\"], \"xaxis\": \"x\", \"y\": [630000, 1000, 10000, 525000, 61025720, 10000, 18622101, 22000000, 500, 138550980, 98100, 150110, 123410000, 2301100, 600000, 1862050, 101020, 723750, 1110000, 10, 21054000, 12002200, 104170015, 1010500, 618000, 110761000, 50778120, 61560100, 1000500], \"yaxis\": \"y\", \"type\": \"bar\"}], \"name\": \"January\"}, {\"data\": [{\"alignmentgroup\": \"True\", \"hoverlabel\": {\"namelength\": 0}, \"hovertemplate\": \"Month=February<br>Category=%{text}<br>Installs=%{y}\", \"ids\": [\"AUTO_AND_VEHICLES\", \"BEAUTY\", \"BOOKS_AND_REFERENCE\", \"BUSINESS\", \"COMMUNICATION\", \"DATING\", \"EDUCATION\", \"ENTERTAINMENT\", \"FAMILY\", \"FINANCE\", \"FOOD_AND_DRINK\", \"GAME\", \"HEALTH_AND_FITNESS\", \"HOUSE_AND_HOME\", \"LIBRARIES_AND_DEMO\", \"LIFESTYLE\", \"MAPS_AND_NAVIGATION\", \"MEDICAL\", \"NEWS_AND_MAGAZINES\", \"PERSONALIZATION\", \"PHOTOGRAPHY\", \"PRODUCTIVITY\", \"SHOPPING\", \"SOCIAL\", \"SPORTS\", \"TOOLS\", \"TRAVEL_AND_LOCAL\", \"WEATHER\"], \"legendgroup\": \"\", \"marker\": {\"color\": \"#636efa\"}, \"name\": \"\", \"offsetgroup\": \"\", \"orientation\": \"v\", \"showlegend\": false, \"text\": [\"AUTO_AND_VEHICLES\", \"BEAUTY\", \"BOOKS_AND_REFERENCE\", \"BUSINESS\", \"COMMUNICATION\", \"DATING\", \"EDUCATION\", \"ENTERTAINMENT\", \"FAMILY\", \"FINANCE\", \"FOOD_AND_DRINK\", \"GAME\", \"HEALTH_AND_FITNESS\", \"HOUSE_AND_HOME\", \"LIBRARIES_AND_DEMO\", \"LIFESTYLE\", \"MAPS_AND_NAVIGATION\", \"MEDICAL\", \"NEWS_AND_MAGAZINES\", \"PERSONALIZATION\", \"PHOTOGRAPHY\", \"PRODUCTIVITY\", \"SHOPPING\", \"SOCIAL\", \"SPORTS\", \"TOOLS\", \"TRAVEL_AND_LOCAL\", \"WEATHER\"], \"textposition\": \"auto\", \"x\": [\"AUTO_AND_VEHICLES\", \"BEAUTY\", \"BOOKS_AND_REFERENCE\", \"BUSINESS\", \"COMMUNICATION\", \"DATING\", \"EDUCATION\", \"ENTERTAINMENT\", \"FAMILY\", \"FINANCE\", \"FOOD_AND_DRINK\", \"GAME\", \"HEALTH_AND_FITNESS\", \"HOUSE_AND_HOME\", \"LIBRARIES_AND_DEMO\", \"LIFESTYLE\", \"MAPS_AND_NAVIGATION\", \"MEDICAL\", \"NEWS_AND_MAGAZINES\", \"PERSONALIZATION\", \"PHOTOGRAPHY\", \"PRODUCTIVITY\", \"SHOPPING\", \"SOCIAL\", \"SPORTS\", \"TOOLS\", \"TRAVEL_AND_LOCAL\", \"WEATHER\"], \"xaxis\": \"x\", \"y\": [2000, 500000, 706005, 12010641, 115120, 110000, 6500000, 200000, 48792436, 399200, 600000, 237961100, 6611210, 110000, 170000, 1118210, 1005000, 100401, 5215510, 11115710, 196013000, 6360050, 1120600, 106200, 10152276, 89555225, 10000, 5000000], \"yaxis\": \"y\", \"type\": \"bar\"}], \"name\": \"February\"}, {\"data\": [{\"alignmentgroup\": \"True\", \"hoverlabel\": {\"namelength\": 0}, \"hovertemplate\": \"Month=March<br>Category=%{text}<br>Installs=%{y}\", \"ids\": [\"ART_AND_DESIGN\", \"AUTO_AND_VEHICLES\", \"BEAUTY\", \"BOOKS_AND_REFERENCE\", \"BUSINESS\", \"COMICS\", \"COMMUNICATION\", \"DATING\", \"EDUCATION\", \"ENTERTAINMENT\", \"FAMILY\", \"FINANCE\", \"FOOD_AND_DRINK\", \"GAME\", \"HEALTH_AND_FITNESS\", \"LIBRARIES_AND_DEMO\", \"LIFESTYLE\", \"MAPS_AND_NAVIGATION\", \"MEDICAL\", \"NEWS_AND_MAGAZINES\", \"PARENTING\", \"PERSONALIZATION\", \"PHOTOGRAPHY\", \"PRODUCTIVITY\", \"SHOPPING\", \"SOCIAL\", \"SPORTS\", \"TOOLS\", \"TRAVEL_AND_LOCAL\", \"VIDEO_PLAYERS\", \"WEATHER\"], \"legendgroup\": \"\", \"marker\": {\"color\": \"#636efa\"}, \"name\": \"\", \"offsetgroup\": \"\", \"orientation\": \"v\", \"showlegend\": false, \"text\": [\"ART_AND_DESIGN\", \"AUTO_AND_VEHICLES\", \"BEAUTY\", \"BOOKS_AND_REFERENCE\", \"BUSINESS\", \"COMICS\", \"COMMUNICATION\", \"DATING\", \"EDUCATION\", \"ENTERTAINMENT\", \"FAMILY\", \"FINANCE\", \"FOOD_AND_DRINK\", \"GAME\", \"HEALTH_AND_FITNESS\", \"LIBRARIES_AND_DEMO\", \"LIFESTYLE\", \"MAPS_AND_NAVIGATION\", \"MEDICAL\", \"NEWS_AND_MAGAZINES\", \"PARENTING\", \"PERSONALIZATION\", \"PHOTOGRAPHY\", \"PRODUCTIVITY\", \"SHOPPING\", \"SOCIAL\", \"SPORTS\", \"TOOLS\", \"TRAVEL_AND_LOCAL\", \"VIDEO_PLAYERS\", \"WEATHER\"], \"textposition\": \"auto\", \"x\": [\"ART_AND_DESIGN\", \"AUTO_AND_VEHICLES\", \"BEAUTY\", \"BOOKS_AND_REFERENCE\", \"BUSINESS\", \"COMICS\", \"COMMUNICATION\", \"DATING\", \"EDUCATION\", \"ENTERTAINMENT\", \"FAMILY\", \"FINANCE\", \"FOOD_AND_DRINK\", \"GAME\", \"HEALTH_AND_FITNESS\", \"LIBRARIES_AND_DEMO\", \"LIFESTYLE\", \"MAPS_AND_NAVIGATION\", \"MEDICAL\", \"NEWS_AND_MAGAZINES\", \"PARENTING\", \"PERSONALIZATION\", \"PHOTOGRAPHY\", \"PRODUCTIVITY\", \"SHOPPING\", \"SOCIAL\", \"SPORTS\", \"TOOLS\", \"TRAVEL_AND_LOCAL\", \"VIDEO_PLAYERS\", \"WEATHER\"], \"xaxis\": \"x\", \"y\": [807000, 600101, 15700, 10238000, 2269465, 105000, 12110520, 110000, 2100000, 10100000, 126401670, 793000, 101055, 234753070, 3101660, 205100, 2458050, 1111100, 183810, 2156200, 1310000, 12886100, 138100000, 35305400, 212100, 6256521, 5265761, 27933751, 6171500, 2256000, 1000000], \"yaxis\": \"y\", \"type\": \"bar\"}], \"name\": \"March\"}, {\"data\": [{\"alignmentgroup\": \"True\", \"hoverlabel\": {\"namelength\": 0}, \"hovertemplate\": \"Month=April<br>Category=%{text}<br>Installs=%{y}\", \"ids\": [\"ART_AND_DESIGN\", \"AUTO_AND_VEHICLES\", \"BEAUTY\", \"BOOKS_AND_REFERENCE\", \"BUSINESS\", \"COMMUNICATION\", \"DATING\", \"EDUCATION\", \"ENTERTAINMENT\", \"EVENTS\", \"FAMILY\", \"FINANCE\", \"FOOD_AND_DRINK\", \"GAME\", \"HEALTH_AND_FITNESS\", \"HOUSE_AND_HOME\", \"LIBRARIES_AND_DEMO\", \"LIFESTYLE\", \"MAPS_AND_NAVIGATION\", \"MEDICAL\", \"NEWS_AND_MAGAZINES\", \"PARENTING\", \"PERSONALIZATION\", \"PHOTOGRAPHY\", \"PRODUCTIVITY\", \"SHOPPING\", \"SOCIAL\", \"SPORTS\", \"TOOLS\", \"TRAVEL_AND_LOCAL\", \"VIDEO_PLAYERS\", \"WEATHER\"], \"legendgroup\": \"\", \"marker\": {\"color\": \"#636efa\"}, \"name\": \"\", \"offsetgroup\": \"\", \"orientation\": \"v\", \"showlegend\": false, \"text\": [\"ART_AND_DESIGN\", \"AUTO_AND_VEHICLES\", \"BEAUTY\", \"BOOKS_AND_REFERENCE\", \"BUSINESS\", \"COMMUNICATION\", \"DATING\", \"EDUCATION\", \"ENTERTAINMENT\", \"EVENTS\", \"FAMILY\", \"FINANCE\", \"FOOD_AND_DRINK\", \"GAME\", \"HEALTH_AND_FITNESS\", \"HOUSE_AND_HOME\", \"LIBRARIES_AND_DEMO\", \"LIFESTYLE\", \"MAPS_AND_NAVIGATION\", \"MEDICAL\", \"NEWS_AND_MAGAZINES\", \"PARENTING\", \"PERSONALIZATION\", \"PHOTOGRAPHY\", \"PRODUCTIVITY\", \"SHOPPING\", \"SOCIAL\", \"SPORTS\", \"TOOLS\", \"TRAVEL_AND_LOCAL\", \"VIDEO_PLAYERS\", \"WEATHER\"], \"textposition\": \"auto\", \"x\": [\"ART_AND_DESIGN\", \"AUTO_AND_VEHICLES\", \"BEAUTY\", \"BOOKS_AND_REFERENCE\", \"BUSINESS\", \"COMMUNICATION\", \"DATING\", \"EDUCATION\", \"ENTERTAINMENT\", \"EVENTS\", \"FAMILY\", \"FINANCE\", \"FOOD_AND_DRINK\", \"GAME\", \"HEALTH_AND_FITNESS\", \"HOUSE_AND_HOME\", \"LIBRARIES_AND_DEMO\", \"LIFESTYLE\", \"MAPS_AND_NAVIGATION\", \"MEDICAL\", \"NEWS_AND_MAGAZINES\", \"PARENTING\", \"PERSONALIZATION\", \"PHOTOGRAPHY\", \"PRODUCTIVITY\", \"SHOPPING\", \"SOCIAL\", \"SPORTS\", \"TOOLS\", \"TRAVEL_AND_LOCAL\", \"VIDEO_PLAYERS\", \"WEATHER\"], \"xaxis\": \"x\", \"y\": [10370100, 200005, 30100, 13156010, 50360231, 8027610, 1600000, 5100000, 10000000, 5000, 363836521, 181200, 7110100, 314421280, 6651200, 101, 11001000, 11656610, 2510000, 781820, 2717110, 70000, 5662711, 67610010, 176160100, 10100500, 11115000, 13156105, 111500920, 15224105, 23006200, 2105520], \"yaxis\": \"y\", \"type\": \"bar\"}], \"name\": \"April\"}, {\"data\": [{\"alignmentgroup\": \"True\", \"hoverlabel\": {\"namelength\": 0}, \"hovertemplate\": \"Month=May<br>Category=%{text}<br>Installs=%{y}\", \"ids\": [\"ART_AND_DESIGN\", \"AUTO_AND_VEHICLES\", \"BEAUTY\", \"BOOKS_AND_REFERENCE\", \"BUSINESS\", \"COMICS\", \"COMMUNICATION\", \"DATING\", \"EDUCATION\", \"ENTERTAINMENT\", \"EVENTS\", \"FAMILY\", \"FINANCE\", \"FOOD_AND_DRINK\", \"GAME\", \"HEALTH_AND_FITNESS\", \"HOUSE_AND_HOME\", \"LIBRARIES_AND_DEMO\", \"LIFESTYLE\", \"MAPS_AND_NAVIGATION\", \"MEDICAL\", \"NEWS_AND_MAGAZINES\", \"PARENTING\", \"PERSONALIZATION\", \"PHOTOGRAPHY\", \"PRODUCTIVITY\", \"SHOPPING\", \"SOCIAL\", \"SPORTS\", \"TOOLS\", \"TRAVEL_AND_LOCAL\", \"VIDEO_PLAYERS\", \"WEATHER\"], \"legendgroup\": \"\", \"marker\": {\"color\": \"#636efa\"}, \"name\": \"\", \"offsetgroup\": \"\", \"orientation\": \"v\", \"showlegend\": false, \"text\": [\"ART_AND_DESIGN\", \"AUTO_AND_VEHICLES\", \"BEAUTY\", \"BOOKS_AND_REFERENCE\", \"BUSINESS\", \"COMICS\", \"COMMUNICATION\", \"DATING\", \"EDUCATION\", \"ENTERTAINMENT\", \"EVENTS\", \"FAMILY\", \"FINANCE\", \"FOOD_AND_DRINK\", \"GAME\", \"HEALTH_AND_FITNESS\", \"HOUSE_AND_HOME\", \"LIBRARIES_AND_DEMO\", \"LIFESTYLE\", \"MAPS_AND_NAVIGATION\", \"MEDICAL\", \"NEWS_AND_MAGAZINES\", \"PARENTING\", \"PERSONALIZATION\", \"PHOTOGRAPHY\", \"PRODUCTIVITY\", \"SHOPPING\", \"SOCIAL\", \"SPORTS\", \"TOOLS\", \"TRAVEL_AND_LOCAL\", \"VIDEO_PLAYERS\", \"WEATHER\"], \"textposition\": \"auto\", \"x\": [\"ART_AND_DESIGN\", \"AUTO_AND_VEHICLES\", \"BEAUTY\", \"BOOKS_AND_REFERENCE\", \"BUSINESS\", \"COMICS\", \"COMMUNICATION\", \"DATING\", \"EDUCATION\", \"ENTERTAINMENT\", \"EVENTS\", \"FAMILY\", \"FINANCE\", \"FOOD_AND_DRINK\", \"GAME\", \"HEALTH_AND_FITNESS\", \"HOUSE_AND_HOME\", \"LIBRARIES_AND_DEMO\", \"LIFESTYLE\", \"MAPS_AND_NAVIGATION\", \"MEDICAL\", \"NEWS_AND_MAGAZINES\", \"PARENTING\", \"PERSONALIZATION\", \"PHOTOGRAPHY\", \"PRODUCTIVITY\", \"SHOPPING\", \"SOCIAL\", \"SPORTS\", \"TOOLS\", \"TRAVEL_AND_LOCAL\", \"VIDEO_PLAYERS\", \"WEATHER\"], \"xaxis\": \"x\", \"y\": [155000, 356010, 2221000, 82140010, 52170230, 6310000, 47111760, 17020000, 22750000, 17500000, 117520, 696517030, 20577160, 2260100, 1288277260, 23691160, 150000, 102000, 17812825, 27277000, 2857700, 11197210, 16225000, 190754050, 99111100, 584111380, 3111200, 20923100, 111122206, 93525535, 4646110, 302170000, 12000000], \"yaxis\": \"y\", \"type\": \"bar\"}], \"name\": \"May\"}, {\"data\": [{\"alignmentgroup\": \"True\", \"hoverlabel\": {\"namelength\": 0}, \"hovertemplate\": \"Month=June<br>Category=%{text}<br>Installs=%{y}\", \"ids\": [\"ART_AND_DESIGN\", \"AUTO_AND_VEHICLES\", \"BEAUTY\", \"BOOKS_AND_REFERENCE\", \"BUSINESS\", \"COMICS\", \"COMMUNICATION\", \"DATING\", \"EDUCATION\", \"ENTERTAINMENT\", \"EVENTS\", \"FAMILY\", \"FINANCE\", \"FOOD_AND_DRINK\", \"GAME\", \"HEALTH_AND_FITNESS\", \"HOUSE_AND_HOME\", \"LIBRARIES_AND_DEMO\", \"LIFESTYLE\", \"MAPS_AND_NAVIGATION\", \"MEDICAL\", \"NEWS_AND_MAGAZINES\", \"PARENTING\", \"PERSONALIZATION\", \"PHOTOGRAPHY\", \"PRODUCTIVITY\", \"SHOPPING\", \"SOCIAL\", \"SPORTS\", \"TOOLS\", \"TRAVEL_AND_LOCAL\", \"VIDEO_PLAYERS\", \"WEATHER\"], \"legendgroup\": \"\", \"marker\": {\"color\": \"#636efa\"}, \"name\": \"\", \"offsetgroup\": \"\", \"orientation\": \"v\", \"showlegend\": false, \"text\": [\"ART_AND_DESIGN\", \"AUTO_AND_VEHICLES\", \"BEAUTY\", \"BOOKS_AND_REFERENCE\", \"BUSINESS\", \"COMICS\", \"COMMUNICATION\", \"DATING\", \"EDUCATION\", \"ENTERTAINMENT\", \"EVENTS\", \"FAMILY\", \"FINANCE\", \"FOOD_AND_DRINK\", \"GAME\", \"HEALTH_AND_FITNESS\", \"HOUSE_AND_HOME\", \"LIBRARIES_AND_DEMO\", \"LIFESTYLE\", \"MAPS_AND_NAVIGATION\", \"MEDICAL\", \"NEWS_AND_MAGAZINES\", \"PARENTING\", \"PERSONALIZATION\", \"PHOTOGRAPHY\", \"PRODUCTIVITY\", \"SHOPPING\", \"SOCIAL\", \"SPORTS\", \"TOOLS\", \"TRAVEL_AND_LOCAL\", \"VIDEO_PLAYERS\", \"WEATHER\"], \"textposition\": \"auto\", \"x\": [\"ART_AND_DESIGN\", \"AUTO_AND_VEHICLES\", \"BEAUTY\", \"BOOKS_AND_REFERENCE\", \"BUSINESS\", \"COMICS\", \"COMMUNICATION\", \"DATING\", \"EDUCATION\", \"ENTERTAINMENT\", \"EVENTS\", \"FAMILY\", \"FINANCE\", \"FOOD_AND_DRINK\", \"GAME\", \"HEALTH_AND_FITNESS\", \"HOUSE_AND_HOME\", \"LIBRARIES_AND_DEMO\", \"LIFESTYLE\", \"MAPS_AND_NAVIGATION\", \"MEDICAL\", \"NEWS_AND_MAGAZINES\", \"PARENTING\", \"PERSONALIZATION\", \"PHOTOGRAPHY\", \"PRODUCTIVITY\", \"SHOPPING\", \"SOCIAL\", \"SPORTS\", \"TOOLS\", \"TRAVEL_AND_LOCAL\", \"VIDEO_PLAYERS\", \"WEATHER\"], \"xaxis\": \"x\", \"y\": [51210000, 752260, 1170100, 53665010, 28237656, 1611050, 714105000, 4225000, 12350000, 43250000, 757610, 679109415, 22104600, 14981000, 967730920, 83673675, 12501000, 320000, 60241660, 52206100, 1766311, 11749855, 4220000, 53913250, 275753500, 210853785, 20205020, 66162110, 66582800, 556736525, 122162115, 42621200, 67301000], \"yaxis\": \"y\", \"type\": \"bar\"}], \"name\": \"June\"}, {\"data\": [{\"alignmentgroup\": \"True\", \"hoverlabel\": {\"namelength\": 0}, \"hovertemplate\": \"Month=July<br>Category=%{text}<br>Installs=%{y}\", \"ids\": [\"ART_AND_DESIGN\", \"AUTO_AND_VEHICLES\", \"BEAUTY\", \"BOOKS_AND_REFERENCE\", \"BUSINESS\", \"COMICS\", \"COMMUNICATION\", \"DATING\", \"EDUCATION\", \"ENTERTAINMENT\", \"EVENTS\", \"FAMILY\", \"FINANCE\", \"FOOD_AND_DRINK\", \"GAME\", \"HEALTH_AND_FITNESS\", \"HOUSE_AND_HOME\", \"LIBRARIES_AND_DEMO\", \"LIFESTYLE\", \"MAPS_AND_NAVIGATION\", \"MEDICAL\", \"NEWS_AND_MAGAZINES\", \"PARENTING\", \"PERSONALIZATION\", \"PHOTOGRAPHY\", \"PRODUCTIVITY\", \"SHOPPING\", \"SOCIAL\", \"SPORTS\", \"TOOLS\", \"TRAVEL_AND_LOCAL\", \"VIDEO_PLAYERS\", \"WEATHER\"], \"legendgroup\": \"\", \"marker\": {\"color\": \"#636efa\"}, \"name\": \"\", \"offsetgroup\": \"\", \"orientation\": \"v\", \"showlegend\": false, \"text\": [\"ART_AND_DESIGN\", \"AUTO_AND_VEHICLES\", \"BEAUTY\", \"BOOKS_AND_REFERENCE\", \"BUSINESS\", \"COMICS\", \"COMMUNICATION\", \"DATING\", \"EDUCATION\", \"ENTERTAINMENT\", \"EVENTS\", \"FAMILY\", \"FINANCE\", \"FOOD_AND_DRINK\", \"GAME\", \"HEALTH_AND_FITNESS\", \"HOUSE_AND_HOME\", \"LIBRARIES_AND_DEMO\", \"LIFESTYLE\", \"MAPS_AND_NAVIGATION\", \"MEDICAL\", \"NEWS_AND_MAGAZINES\", \"PARENTING\", \"PERSONALIZATION\", \"PHOTOGRAPHY\", \"PRODUCTIVITY\", \"SHOPPING\", \"SOCIAL\", \"SPORTS\", \"TOOLS\", \"TRAVEL_AND_LOCAL\", \"VIDEO_PLAYERS\", \"WEATHER\"], \"textposition\": \"auto\", \"x\": [\"ART_AND_DESIGN\", \"AUTO_AND_VEHICLES\", \"BEAUTY\", \"BOOKS_AND_REFERENCE\", \"BUSINESS\", \"COMICS\", \"COMMUNICATION\", \"DATING\", \"EDUCATION\", \"ENTERTAINMENT\", \"EVENTS\", \"FAMILY\", \"FINANCE\", \"FOOD_AND_DRINK\", \"GAME\", \"HEALTH_AND_FITNESS\", \"HOUSE_AND_HOME\", \"LIBRARIES_AND_DEMO\", \"LIFESTYLE\", \"MAPS_AND_NAVIGATION\", \"MEDICAL\", \"NEWS_AND_MAGAZINES\", \"PARENTING\", \"PERSONALIZATION\", \"PHOTOGRAPHY\", \"PRODUCTIVITY\", \"SHOPPING\", \"SOCIAL\", \"SPORTS\", \"TOOLS\", \"TRAVEL_AND_LOCAL\", \"VIDEO_PLAYERS\", \"WEATHER\"], \"xaxis\": \"x\", \"y\": [27586000, 29836205, 7820000, 131866565, 105724645, 29300000, 3525112665, 64875537, 88300000, 1672300000, 8228600, 3619628343, 255534864, 101810715, 4889329161, 727599411, 49875000, 3225000, 146877262, 235797060, 18388648, 691683680, 3095000, 451600933, 1073856705, 2349415712, 433722220, 2812390525, 465527315, 2380220888, 1220838050, 316882010, 44510000], \"yaxis\": \"y\", \"type\": \"bar\"}], \"name\": \"July\"}, {\"data\": [{\"alignmentgroup\": \"True\", \"hoverlabel\": {\"namelength\": 0}, \"hovertemplate\": \"Month=August<br>Category=%{text}<br>Installs=%{y}\", \"ids\": [\"ART_AND_DESIGN\", \"AUTO_AND_VEHICLES\", \"BEAUTY\", \"BOOKS_AND_REFERENCE\", \"BUSINESS\", \"COMICS\", \"COMMUNICATION\", \"DATING\", \"EDUCATION\", \"ENTERTAINMENT\", \"EVENTS\", \"FAMILY\", \"FINANCE\", \"FOOD_AND_DRINK\", \"GAME\", \"HEALTH_AND_FITNESS\", \"HOUSE_AND_HOME\", \"LIBRARIES_AND_DEMO\", \"LIFESTYLE\", \"MAPS_AND_NAVIGATION\", \"MEDICAL\", \"NEWS_AND_MAGAZINES\", \"PARENTING\", \"PERSONALIZATION\", \"PHOTOGRAPHY\", \"PRODUCTIVITY\", \"SHOPPING\", \"SOCIAL\", \"SPORTS\", \"TOOLS\", \"TRAVEL_AND_LOCAL\", \"VIDEO_PLAYERS\", \"WEATHER\"], \"legendgroup\": \"\", \"marker\": {\"color\": \"#636efa\"}, \"name\": \"\", \"offsetgroup\": \"\", \"orientation\": \"v\", \"showlegend\": false, \"text\": [\"ART_AND_DESIGN\", \"AUTO_AND_VEHICLES\", \"BEAUTY\", \"BOOKS_AND_REFERENCE\", \"BUSINESS\", \"COMICS\", \"COMMUNICATION\", \"DATING\", \"EDUCATION\", \"ENTERTAINMENT\", \"EVENTS\", \"FAMILY\", \"FINANCE\", \"FOOD_AND_DRINK\", \"GAME\", \"HEALTH_AND_FITNESS\", \"HOUSE_AND_HOME\", \"LIBRARIES_AND_DEMO\", \"LIFESTYLE\", \"MAPS_AND_NAVIGATION\", \"MEDICAL\", \"NEWS_AND_MAGAZINES\", \"PARENTING\", \"PERSONALIZATION\", \"PHOTOGRAPHY\", \"PRODUCTIVITY\", \"SHOPPING\", \"SOCIAL\", \"SPORTS\", \"TOOLS\", \"TRAVEL_AND_LOCAL\", \"VIDEO_PLAYERS\", \"WEATHER\"], \"textposition\": \"auto\", \"x\": [\"ART_AND_DESIGN\", \"AUTO_AND_VEHICLES\", \"BEAUTY\", \"BOOKS_AND_REFERENCE\", \"BUSINESS\", \"COMICS\", \"COMMUNICATION\", \"DATING\", \"EDUCATION\", \"ENTERTAINMENT\", \"EVENTS\", \"FAMILY\", \"FINANCE\", \"FOOD_AND_DRINK\", \"GAME\", \"HEALTH_AND_FITNESS\", \"HOUSE_AND_HOME\", \"LIBRARIES_AND_DEMO\", \"LIFESTYLE\", \"MAPS_AND_NAVIGATION\", \"MEDICAL\", \"NEWS_AND_MAGAZINES\", \"PARENTING\", \"PERSONALIZATION\", \"PHOTOGRAPHY\", \"PRODUCTIVITY\", \"SHOPPING\", \"SOCIAL\", \"SPORTS\", \"TOOLS\", \"TRAVEL_AND_LOCAL\", \"VIDEO_PLAYERS\", \"WEATHER\"], \"xaxis\": \"x\", \"y\": [10605000, 18610010, 600000, 1223100000, 232362180, 5700000, 3904560100, 32931800, 133100000, 238200000, 6200100, 545601481, 49388600, 50500001, 597850110, 153267120, 12911000, 160000, 127211101, 244256700, 8822882, 2080311000, 3220000, 351103001, 2353616000, 2558613060, 636715000, 1966206005, 126747110, 2676079705, 1325460001, 3240001000, 253210000], \"yaxis\": \"y\", \"type\": \"bar\"}], \"name\": \"August\"}]);\n",
              "                        }).then(function(){\n",
              "                            \n",
              "var gd = document.getElementById('a172fd4c-bf74-41b7-be4e-98b9f5a586ff');\n",
              "var x = new MutationObserver(function (mutations, observer) {{\n",
              "        var display = window.getComputedStyle(gd).display;\n",
              "        if (!display || display === 'none') {{\n",
              "            console.log([gd, 'removed!']);\n",
              "            Plotly.purge(gd);\n",
              "            observer.disconnect();\n",
              "        }}\n",
              "}});\n",
              "\n",
              "// Listen for the removal of the full notebook cells\n",
              "var notebookContainer = gd.closest('#notebook-container');\n",
              "if (notebookContainer) {{\n",
              "    x.observe(notebookContainer, {childList: true});\n",
              "}}\n",
              "\n",
              "// Listen for the clearing of the current output cell\n",
              "var outputEl = gd.closest('.output');\n",
              "if (outputEl) {{\n",
              "    x.observe(outputEl, {childList: true});\n",
              "}}\n",
              "\n",
              "                        })\n",
              "                };\n",
              "                \n",
              "            </script>\n",
              "        </div>\n",
              "</body>\n",
              "</html>"
            ]
          },
          "metadata": {}
        }
      ]
    },
    {
      "cell_type": "code",
      "metadata": {
        "colab": {
          "base_uri": "https://localhost:8080/",
          "height": 542
        },
        "id": "c_AytV_VEBBE",
        "outputId": "97ef89f1-6aaf-43e6-c374-6beac7c9bc99"
      },
      "source": [
        "fig = px.bar(df4[df4['Year']==2017], x = \"Category\", y = \"Installs\", animation_frame=\"Month\", animation_group=\"Category\", text=\"Category\", title='2017 Monthly installation Trend', category_orders={\"Month\": month})\n",
        "fig.update_traces(textposition='outside')\n",
        "fig.update_xaxes(visible=False)\n",
        "fig.show()"
      ],
      "execution_count": 179,
      "outputs": [
        {
          "output_type": "display_data",
          "data": {
            "text/html": [
              "<html>\n",
              "<head><meta charset=\"utf-8\" /></head>\n",
              "<body>\n",
              "    <div>\n",
              "            <script src=\"https://cdnjs.cloudflare.com/ajax/libs/mathjax/2.7.5/MathJax.js?config=TeX-AMS-MML_SVG\"></script><script type=\"text/javascript\">if (window.MathJax) {MathJax.Hub.Config({SVG: {font: \"STIX-Web\"}});}</script>\n",
              "                <script type=\"text/javascript\">window.PlotlyConfig = {MathJaxConfig: 'local'};</script>\n",
              "        <script src=\"https://cdn.plot.ly/plotly-latest.min.js\"></script>    \n",
              "            <div id=\"0b35a940-9893-4792-8327-f58a57c5286f\" class=\"plotly-graph-div\" style=\"height:525px; width:100%;\"></div>\n",
              "            <script type=\"text/javascript\">\n",
              "                \n",
              "                    window.PLOTLYENV=window.PLOTLYENV || {};\n",
              "                    \n",
              "                if (document.getElementById(\"0b35a940-9893-4792-8327-f58a57c5286f\")) {\n",
              "                    Plotly.newPlot(\n",
              "                        '0b35a940-9893-4792-8327-f58a57c5286f',\n",
              "                        [{\"alignmentgroup\": \"True\", \"hoverlabel\": {\"namelength\": 0}, \"hovertemplate\": \"Month=January<br>Category=%{text}<br>Installs=%{y}\", \"ids\": [\"BOOKS_AND_REFERENCE\", \"BUSINESS\", \"COMMUNICATION\", \"DATING\", \"EDUCATION\", \"FAMILY\", \"FINANCE\", \"GAME\", \"HEALTH_AND_FITNESS\", \"LIBRARIES_AND_DEMO\", \"LIFESTYLE\", \"MEDICAL\", \"NEWS_AND_MAGAZINES\", \"PARENTING\", \"PERSONALIZATION\", \"PHOTOGRAPHY\", \"PRODUCTIVITY\", \"SHOPPING\", \"SOCIAL\", \"SPORTS\", \"TOOLS\", \"TRAVEL_AND_LOCAL\", \"VIDEO_PLAYERS\"], \"legendgroup\": \"\", \"marker\": {\"color\": \"#636efa\"}, \"name\": \"\", \"offsetgroup\": \"\", \"orientation\": \"v\", \"showlegend\": false, \"text\": [\"BOOKS_AND_REFERENCE\", \"BUSINESS\", \"COMMUNICATION\", \"DATING\", \"EDUCATION\", \"FAMILY\", \"FINANCE\", \"GAME\", \"HEALTH_AND_FITNESS\", \"LIBRARIES_AND_DEMO\", \"LIFESTYLE\", \"MEDICAL\", \"NEWS_AND_MAGAZINES\", \"PARENTING\", \"PERSONALIZATION\", \"PHOTOGRAPHY\", \"PRODUCTIVITY\", \"SHOPPING\", \"SOCIAL\", \"SPORTS\", \"TOOLS\", \"TRAVEL_AND_LOCAL\", \"VIDEO_PLAYERS\"], \"textposition\": \"outside\", \"type\": \"bar\", \"x\": [\"BOOKS_AND_REFERENCE\", \"BUSINESS\", \"COMMUNICATION\", \"DATING\", \"EDUCATION\", \"FAMILY\", \"FINANCE\", \"GAME\", \"HEALTH_AND_FITNESS\", \"LIBRARIES_AND_DEMO\", \"LIFESTYLE\", \"MEDICAL\", \"NEWS_AND_MAGAZINES\", \"PARENTING\", \"PERSONALIZATION\", \"PHOTOGRAPHY\", \"PRODUCTIVITY\", \"SHOPPING\", \"SOCIAL\", \"SPORTS\", \"TOOLS\", \"TRAVEL_AND_LOCAL\", \"VIDEO_PLAYERS\"], \"xaxis\": \"x\", \"y\": [12050, 2300, 6000, 300100, 2000000, 27833300, 20000, 2710010, 500000, 601000, 5661610, 22000, 1100, 110000, 111000, 1002100, 1060000, 1010, 1000, 10050600, 11006000, 2000, 15000], \"yaxis\": \"y\"}],\n",
              "                        {\"barmode\": \"relative\", \"legend\": {\"tracegroupgap\": 0}, \"sliders\": [{\"active\": 0, \"currentvalue\": {\"prefix\": \"Month=\"}, \"len\": 0.9, \"pad\": {\"b\": 10, \"t\": 60}, \"steps\": [{\"args\": [[\"January\"], {\"frame\": {\"duration\": 0, \"redraw\": true}, \"fromcurrent\": true, \"mode\": \"immediate\", \"transition\": {\"duration\": 0, \"easing\": \"linear\"}}], \"label\": \"January\", \"method\": \"animate\"}, {\"args\": [[\"February\"], {\"frame\": {\"duration\": 0, \"redraw\": true}, \"fromcurrent\": true, \"mode\": \"immediate\", \"transition\": {\"duration\": 0, \"easing\": \"linear\"}}], \"label\": \"February\", \"method\": \"animate\"}, {\"args\": [[\"March\"], {\"frame\": {\"duration\": 0, \"redraw\": true}, \"fromcurrent\": true, \"mode\": \"immediate\", \"transition\": {\"duration\": 0, \"easing\": \"linear\"}}], \"label\": \"March\", \"method\": \"animate\"}, {\"args\": [[\"April\"], {\"frame\": {\"duration\": 0, \"redraw\": true}, \"fromcurrent\": true, \"mode\": \"immediate\", \"transition\": {\"duration\": 0, \"easing\": \"linear\"}}], \"label\": \"April\", \"method\": \"animate\"}, {\"args\": [[\"May\"], {\"frame\": {\"duration\": 0, \"redraw\": true}, \"fromcurrent\": true, \"mode\": \"immediate\", \"transition\": {\"duration\": 0, \"easing\": \"linear\"}}], \"label\": \"May\", \"method\": \"animate\"}, {\"args\": [[\"June\"], {\"frame\": {\"duration\": 0, \"redraw\": true}, \"fromcurrent\": true, \"mode\": \"immediate\", \"transition\": {\"duration\": 0, \"easing\": \"linear\"}}], \"label\": \"June\", \"method\": \"animate\"}, {\"args\": [[\"July\"], {\"frame\": {\"duration\": 0, \"redraw\": true}, \"fromcurrent\": true, \"mode\": \"immediate\", \"transition\": {\"duration\": 0, \"easing\": \"linear\"}}], \"label\": \"July\", \"method\": \"animate\"}, {\"args\": [[\"August\"], {\"frame\": {\"duration\": 0, \"redraw\": true}, \"fromcurrent\": true, \"mode\": \"immediate\", \"transition\": {\"duration\": 0, \"easing\": \"linear\"}}], \"label\": \"August\", \"method\": \"animate\"}, {\"args\": [[\"September\"], {\"frame\": {\"duration\": 0, \"redraw\": true}, \"fromcurrent\": true, \"mode\": \"immediate\", \"transition\": {\"duration\": 0, \"easing\": \"linear\"}}], \"label\": \"September\", \"method\": \"animate\"}, {\"args\": [[\"October\"], {\"frame\": {\"duration\": 0, \"redraw\": true}, \"fromcurrent\": true, \"mode\": \"immediate\", \"transition\": {\"duration\": 0, \"easing\": \"linear\"}}], \"label\": \"October\", \"method\": \"animate\"}, {\"args\": [[\"November\"], {\"frame\": {\"duration\": 0, \"redraw\": true}, \"fromcurrent\": true, \"mode\": \"immediate\", \"transition\": {\"duration\": 0, \"easing\": \"linear\"}}], \"label\": \"November\", \"method\": \"animate\"}, {\"args\": [[\"December\"], {\"frame\": {\"duration\": 0, \"redraw\": true}, \"fromcurrent\": true, \"mode\": \"immediate\", \"transition\": {\"duration\": 0, \"easing\": \"linear\"}}], \"label\": \"December\", \"method\": \"animate\"}], \"x\": 0.1, \"xanchor\": \"left\", \"y\": 0, \"yanchor\": \"top\"}], \"template\": {\"data\": {\"bar\": [{\"error_x\": {\"color\": \"#2a3f5f\"}, \"error_y\": {\"color\": \"#2a3f5f\"}, \"marker\": {\"line\": {\"color\": \"#E5ECF6\", \"width\": 0.5}}, \"type\": \"bar\"}], \"barpolar\": [{\"marker\": {\"line\": {\"color\": \"#E5ECF6\", \"width\": 0.5}}, \"type\": \"barpolar\"}], \"carpet\": [{\"aaxis\": {\"endlinecolor\": \"#2a3f5f\", \"gridcolor\": \"white\", \"linecolor\": \"white\", \"minorgridcolor\": \"white\", \"startlinecolor\": \"#2a3f5f\"}, \"baxis\": {\"endlinecolor\": \"#2a3f5f\", \"gridcolor\": \"white\", \"linecolor\": \"white\", \"minorgridcolor\": \"white\", \"startlinecolor\": \"#2a3f5f\"}, \"type\": \"carpet\"}], \"choropleth\": [{\"colorbar\": {\"outlinewidth\": 0, \"ticks\": \"\"}, \"type\": \"choropleth\"}], \"contour\": [{\"colorbar\": {\"outlinewidth\": 0, \"ticks\": \"\"}, \"colorscale\": [[0.0, \"#0d0887\"], [0.1111111111111111, \"#46039f\"], [0.2222222222222222, \"#7201a8\"], [0.3333333333333333, \"#9c179e\"], [0.4444444444444444, \"#bd3786\"], [0.5555555555555556, \"#d8576b\"], [0.6666666666666666, \"#ed7953\"], [0.7777777777777778, \"#fb9f3a\"], [0.8888888888888888, \"#fdca26\"], [1.0, \"#f0f921\"]], \"type\": \"contour\"}], \"contourcarpet\": [{\"colorbar\": {\"outlinewidth\": 0, \"ticks\": \"\"}, \"type\": \"contourcarpet\"}], \"heatmap\": [{\"colorbar\": {\"outlinewidth\": 0, \"ticks\": \"\"}, \"colorscale\": [[0.0, \"#0d0887\"], [0.1111111111111111, \"#46039f\"], [0.2222222222222222, \"#7201a8\"], [0.3333333333333333, \"#9c179e\"], [0.4444444444444444, \"#bd3786\"], [0.5555555555555556, \"#d8576b\"], [0.6666666666666666, \"#ed7953\"], [0.7777777777777778, \"#fb9f3a\"], [0.8888888888888888, \"#fdca26\"], [1.0, \"#f0f921\"]], \"type\": \"heatmap\"}], \"heatmapgl\": [{\"colorbar\": {\"outlinewidth\": 0, \"ticks\": \"\"}, \"colorscale\": [[0.0, \"#0d0887\"], [0.1111111111111111, \"#46039f\"], [0.2222222222222222, \"#7201a8\"], [0.3333333333333333, \"#9c179e\"], [0.4444444444444444, \"#bd3786\"], [0.5555555555555556, \"#d8576b\"], [0.6666666666666666, \"#ed7953\"], [0.7777777777777778, \"#fb9f3a\"], [0.8888888888888888, \"#fdca26\"], [1.0, \"#f0f921\"]], \"type\": \"heatmapgl\"}], \"histogram\": [{\"marker\": {\"colorbar\": {\"outlinewidth\": 0, \"ticks\": \"\"}}, \"type\": \"histogram\"}], \"histogram2d\": [{\"colorbar\": {\"outlinewidth\": 0, \"ticks\": \"\"}, \"colorscale\": [[0.0, \"#0d0887\"], [0.1111111111111111, \"#46039f\"], [0.2222222222222222, \"#7201a8\"], [0.3333333333333333, \"#9c179e\"], [0.4444444444444444, \"#bd3786\"], [0.5555555555555556, \"#d8576b\"], [0.6666666666666666, \"#ed7953\"], [0.7777777777777778, \"#fb9f3a\"], [0.8888888888888888, \"#fdca26\"], [1.0, \"#f0f921\"]], \"type\": \"histogram2d\"}], \"histogram2dcontour\": [{\"colorbar\": {\"outlinewidth\": 0, \"ticks\": \"\"}, \"colorscale\": [[0.0, \"#0d0887\"], [0.1111111111111111, \"#46039f\"], [0.2222222222222222, \"#7201a8\"], [0.3333333333333333, \"#9c179e\"], [0.4444444444444444, \"#bd3786\"], [0.5555555555555556, \"#d8576b\"], [0.6666666666666666, \"#ed7953\"], [0.7777777777777778, \"#fb9f3a\"], [0.8888888888888888, \"#fdca26\"], [1.0, \"#f0f921\"]], \"type\": \"histogram2dcontour\"}], \"mesh3d\": [{\"colorbar\": {\"outlinewidth\": 0, \"ticks\": \"\"}, \"type\": \"mesh3d\"}], \"parcoords\": [{\"line\": {\"colorbar\": {\"outlinewidth\": 0, \"ticks\": \"\"}}, \"type\": \"parcoords\"}], \"pie\": [{\"automargin\": true, \"type\": \"pie\"}], \"scatter\": [{\"marker\": {\"colorbar\": {\"outlinewidth\": 0, \"ticks\": \"\"}}, \"type\": \"scatter\"}], \"scatter3d\": [{\"line\": {\"colorbar\": {\"outlinewidth\": 0, \"ticks\": \"\"}}, \"marker\": {\"colorbar\": {\"outlinewidth\": 0, \"ticks\": \"\"}}, \"type\": \"scatter3d\"}], \"scattercarpet\": [{\"marker\": {\"colorbar\": {\"outlinewidth\": 0, \"ticks\": \"\"}}, \"type\": \"scattercarpet\"}], \"scattergeo\": [{\"marker\": {\"colorbar\": {\"outlinewidth\": 0, \"ticks\": \"\"}}, \"type\": \"scattergeo\"}], \"scattergl\": [{\"marker\": {\"colorbar\": {\"outlinewidth\": 0, \"ticks\": \"\"}}, \"type\": \"scattergl\"}], \"scattermapbox\": [{\"marker\": {\"colorbar\": {\"outlinewidth\": 0, \"ticks\": \"\"}}, \"type\": \"scattermapbox\"}], \"scatterpolar\": [{\"marker\": {\"colorbar\": {\"outlinewidth\": 0, \"ticks\": \"\"}}, \"type\": \"scatterpolar\"}], \"scatterpolargl\": [{\"marker\": {\"colorbar\": {\"outlinewidth\": 0, \"ticks\": \"\"}}, \"type\": \"scatterpolargl\"}], \"scatterternary\": [{\"marker\": {\"colorbar\": {\"outlinewidth\": 0, \"ticks\": \"\"}}, \"type\": \"scatterternary\"}], \"surface\": [{\"colorbar\": {\"outlinewidth\": 0, \"ticks\": \"\"}, \"colorscale\": [[0.0, \"#0d0887\"], [0.1111111111111111, \"#46039f\"], [0.2222222222222222, \"#7201a8\"], [0.3333333333333333, \"#9c179e\"], [0.4444444444444444, \"#bd3786\"], [0.5555555555555556, \"#d8576b\"], [0.6666666666666666, \"#ed7953\"], [0.7777777777777778, \"#fb9f3a\"], [0.8888888888888888, \"#fdca26\"], [1.0, \"#f0f921\"]], \"type\": \"surface\"}], \"table\": [{\"cells\": {\"fill\": {\"color\": \"#EBF0F8\"}, \"line\": {\"color\": \"white\"}}, \"header\": {\"fill\": {\"color\": \"#C8D4E3\"}, \"line\": {\"color\": \"white\"}}, \"type\": \"table\"}]}, \"layout\": {\"annotationdefaults\": {\"arrowcolor\": \"#2a3f5f\", \"arrowhead\": 0, \"arrowwidth\": 1}, \"coloraxis\": {\"colorbar\": {\"outlinewidth\": 0, \"ticks\": \"\"}}, \"colorscale\": {\"diverging\": [[0, \"#8e0152\"], [0.1, \"#c51b7d\"], [0.2, \"#de77ae\"], [0.3, \"#f1b6da\"], [0.4, \"#fde0ef\"], [0.5, \"#f7f7f7\"], [0.6, \"#e6f5d0\"], [0.7, \"#b8e186\"], [0.8, \"#7fbc41\"], [0.9, \"#4d9221\"], [1, \"#276419\"]], \"sequential\": [[0.0, \"#0d0887\"], [0.1111111111111111, \"#46039f\"], [0.2222222222222222, \"#7201a8\"], [0.3333333333333333, \"#9c179e\"], [0.4444444444444444, \"#bd3786\"], [0.5555555555555556, \"#d8576b\"], [0.6666666666666666, \"#ed7953\"], [0.7777777777777778, \"#fb9f3a\"], [0.8888888888888888, \"#fdca26\"], [1.0, \"#f0f921\"]], \"sequentialminus\": [[0.0, \"#0d0887\"], [0.1111111111111111, \"#46039f\"], [0.2222222222222222, \"#7201a8\"], [0.3333333333333333, \"#9c179e\"], [0.4444444444444444, \"#bd3786\"], [0.5555555555555556, \"#d8576b\"], [0.6666666666666666, \"#ed7953\"], [0.7777777777777778, \"#fb9f3a\"], [0.8888888888888888, \"#fdca26\"], [1.0, \"#f0f921\"]]}, \"colorway\": [\"#636efa\", \"#EF553B\", \"#00cc96\", \"#ab63fa\", \"#FFA15A\", \"#19d3f3\", \"#FF6692\", \"#B6E880\", \"#FF97FF\", \"#FECB52\"], \"font\": {\"color\": \"#2a3f5f\"}, \"geo\": {\"bgcolor\": \"white\", \"lakecolor\": \"white\", \"landcolor\": \"#E5ECF6\", \"showlakes\": true, \"showland\": true, \"subunitcolor\": \"white\"}, \"hoverlabel\": {\"align\": \"left\"}, \"hovermode\": \"closest\", \"mapbox\": {\"style\": \"light\"}, \"paper_bgcolor\": \"white\", \"plot_bgcolor\": \"#E5ECF6\", \"polar\": {\"angularaxis\": {\"gridcolor\": \"white\", \"linecolor\": \"white\", \"ticks\": \"\"}, \"bgcolor\": \"#E5ECF6\", \"radialaxis\": {\"gridcolor\": \"white\", \"linecolor\": \"white\", \"ticks\": \"\"}}, \"scene\": {\"xaxis\": {\"backgroundcolor\": \"#E5ECF6\", \"gridcolor\": \"white\", \"gridwidth\": 2, \"linecolor\": \"white\", \"showbackground\": true, \"ticks\": \"\", \"zerolinecolor\": \"white\"}, \"yaxis\": {\"backgroundcolor\": \"#E5ECF6\", \"gridcolor\": \"white\", \"gridwidth\": 2, \"linecolor\": \"white\", \"showbackground\": true, \"ticks\": \"\", \"zerolinecolor\": \"white\"}, \"zaxis\": {\"backgroundcolor\": \"#E5ECF6\", \"gridcolor\": \"white\", \"gridwidth\": 2, \"linecolor\": \"white\", \"showbackground\": true, \"ticks\": \"\", \"zerolinecolor\": \"white\"}}, \"shapedefaults\": {\"line\": {\"color\": \"#2a3f5f\"}}, \"ternary\": {\"aaxis\": {\"gridcolor\": \"white\", \"linecolor\": \"white\", \"ticks\": \"\"}, \"baxis\": {\"gridcolor\": \"white\", \"linecolor\": \"white\", \"ticks\": \"\"}, \"bgcolor\": \"#E5ECF6\", \"caxis\": {\"gridcolor\": \"white\", \"linecolor\": \"white\", \"ticks\": \"\"}}, \"title\": {\"x\": 0.05}, \"xaxis\": {\"automargin\": true, \"gridcolor\": \"white\", \"linecolor\": \"white\", \"ticks\": \"\", \"title\": {\"standoff\": 15}, \"zerolinecolor\": \"white\", \"zerolinewidth\": 2}, \"yaxis\": {\"automargin\": true, \"gridcolor\": \"white\", \"linecolor\": \"white\", \"ticks\": \"\", \"title\": {\"standoff\": 15}, \"zerolinecolor\": \"white\", \"zerolinewidth\": 2}}}, \"title\": {\"text\": \"2017 Monthly installation Trend\"}, \"updatemenus\": [{\"buttons\": [{\"args\": [null, {\"frame\": {\"duration\": 500, \"redraw\": true}, \"fromcurrent\": true, \"mode\": \"immediate\", \"transition\": {\"duration\": 500, \"easing\": \"linear\"}}], \"label\": \"&#9654;\", \"method\": \"animate\"}, {\"args\": [[null], {\"frame\": {\"duration\": 0, \"redraw\": true}, \"fromcurrent\": true, \"mode\": \"immediate\", \"transition\": {\"duration\": 0, \"easing\": \"linear\"}}], \"label\": \"&#9724;\", \"method\": \"animate\"}], \"direction\": \"left\", \"pad\": {\"r\": 10, \"t\": 70}, \"showactive\": false, \"type\": \"buttons\", \"x\": 0.1, \"xanchor\": \"right\", \"y\": 0, \"yanchor\": \"top\"}], \"xaxis\": {\"anchor\": \"y\", \"domain\": [0.0, 1.0], \"title\": {\"text\": \"Category\"}, \"visible\": false}, \"yaxis\": {\"anchor\": \"x\", \"domain\": [0.0, 1.0], \"title\": {\"text\": \"Installs\"}}},\n",
              "                        {\"responsive\": true}\n",
              "                    ).then(function(){\n",
              "                            Plotly.addFrames('0b35a940-9893-4792-8327-f58a57c5286f', [{\"data\": [{\"alignmentgroup\": \"True\", \"hoverlabel\": {\"namelength\": 0}, \"hovertemplate\": \"Month=January<br>Category=%{text}<br>Installs=%{y}\", \"ids\": [\"BOOKS_AND_REFERENCE\", \"BUSINESS\", \"COMMUNICATION\", \"DATING\", \"EDUCATION\", \"FAMILY\", \"FINANCE\", \"GAME\", \"HEALTH_AND_FITNESS\", \"LIBRARIES_AND_DEMO\", \"LIFESTYLE\", \"MEDICAL\", \"NEWS_AND_MAGAZINES\", \"PARENTING\", \"PERSONALIZATION\", \"PHOTOGRAPHY\", \"PRODUCTIVITY\", \"SHOPPING\", \"SOCIAL\", \"SPORTS\", \"TOOLS\", \"TRAVEL_AND_LOCAL\", \"VIDEO_PLAYERS\"], \"legendgroup\": \"\", \"marker\": {\"color\": \"#636efa\"}, \"name\": \"\", \"offsetgroup\": \"\", \"orientation\": \"v\", \"showlegend\": false, \"text\": [\"BOOKS_AND_REFERENCE\", \"BUSINESS\", \"COMMUNICATION\", \"DATING\", \"EDUCATION\", \"FAMILY\", \"FINANCE\", \"GAME\", \"HEALTH_AND_FITNESS\", \"LIBRARIES_AND_DEMO\", \"LIFESTYLE\", \"MEDICAL\", \"NEWS_AND_MAGAZINES\", \"PARENTING\", \"PERSONALIZATION\", \"PHOTOGRAPHY\", \"PRODUCTIVITY\", \"SHOPPING\", \"SOCIAL\", \"SPORTS\", \"TOOLS\", \"TRAVEL_AND_LOCAL\", \"VIDEO_PLAYERS\"], \"textposition\": \"auto\", \"x\": [\"BOOKS_AND_REFERENCE\", \"BUSINESS\", \"COMMUNICATION\", \"DATING\", \"EDUCATION\", \"FAMILY\", \"FINANCE\", \"GAME\", \"HEALTH_AND_FITNESS\", \"LIBRARIES_AND_DEMO\", \"LIFESTYLE\", \"MEDICAL\", \"NEWS_AND_MAGAZINES\", \"PARENTING\", \"PERSONALIZATION\", \"PHOTOGRAPHY\", \"PRODUCTIVITY\", \"SHOPPING\", \"SOCIAL\", \"SPORTS\", \"TOOLS\", \"TRAVEL_AND_LOCAL\", \"VIDEO_PLAYERS\"], \"xaxis\": \"x\", \"y\": [12050, 2300, 6000, 300100, 2000000, 27833300, 20000, 2710010, 500000, 601000, 5661610, 22000, 1100, 110000, 111000, 1002100, 1060000, 1010, 1000, 10050600, 11006000, 2000, 15000], \"yaxis\": \"y\", \"type\": \"bar\"}], \"name\": \"January\"}, {\"data\": [{\"alignmentgroup\": \"True\", \"hoverlabel\": {\"namelength\": 0}, \"hovertemplate\": \"Month=February<br>Category=%{text}<br>Installs=%{y}\", \"ids\": [\"AUTO_AND_VEHICLES\", \"BEAUTY\", \"BOOKS_AND_REFERENCE\", \"BUSINESS\", \"COMMUNICATION\", \"DATING\", \"EDUCATION\", \"FAMILY\", \"FINANCE\", \"FOOD_AND_DRINK\", \"GAME\", \"HEALTH_AND_FITNESS\", \"LIBRARIES_AND_DEMO\", \"LIFESTYLE\", \"MEDICAL\", \"NEWS_AND_MAGAZINES\", \"PERSONALIZATION\", \"PHOTOGRAPHY\", \"PRODUCTIVITY\", \"SHOPPING\", \"SOCIAL\", \"SPORTS\", \"TOOLS\", \"TRAVEL_AND_LOCAL\", \"VIDEO_PLAYERS\", \"WEATHER\"], \"legendgroup\": \"\", \"marker\": {\"color\": \"#636efa\"}, \"name\": \"\", \"offsetgroup\": \"\", \"orientation\": \"v\", \"showlegend\": false, \"text\": [\"AUTO_AND_VEHICLES\", \"BEAUTY\", \"BOOKS_AND_REFERENCE\", \"BUSINESS\", \"COMMUNICATION\", \"DATING\", \"EDUCATION\", \"FAMILY\", \"FINANCE\", \"FOOD_AND_DRINK\", \"GAME\", \"HEALTH_AND_FITNESS\", \"LIBRARIES_AND_DEMO\", \"LIFESTYLE\", \"MEDICAL\", \"NEWS_AND_MAGAZINES\", \"PERSONALIZATION\", \"PHOTOGRAPHY\", \"PRODUCTIVITY\", \"SHOPPING\", \"SOCIAL\", \"SPORTS\", \"TOOLS\", \"TRAVEL_AND_LOCAL\", \"VIDEO_PLAYERS\", \"WEATHER\"], \"textposition\": \"auto\", \"x\": [\"AUTO_AND_VEHICLES\", \"BEAUTY\", \"BOOKS_AND_REFERENCE\", \"BUSINESS\", \"COMMUNICATION\", \"DATING\", \"EDUCATION\", \"FAMILY\", \"FINANCE\", \"FOOD_AND_DRINK\", \"GAME\", \"HEALTH_AND_FITNESS\", \"LIBRARIES_AND_DEMO\", \"LIFESTYLE\", \"MEDICAL\", \"NEWS_AND_MAGAZINES\", \"PERSONALIZATION\", \"PHOTOGRAPHY\", \"PRODUCTIVITY\", \"SHOPPING\", \"SOCIAL\", \"SPORTS\", \"TOOLS\", \"TRAVEL_AND_LOCAL\", \"VIDEO_PLAYERS\", \"WEATHER\"], \"xaxis\": \"x\", \"y\": [10, 50, 103000, 2110, 71500, 600000, 50000, 1869600, 10000, 10000, 13821001, 2000000, 16000, 550650, 10100, 220000, 5100, 1510120, 13000, 500, 5500, 601100, 8421110, 6000, 10000, 11000], \"yaxis\": \"y\", \"type\": \"bar\"}], \"name\": \"February\"}, {\"data\": [{\"alignmentgroup\": \"True\", \"hoverlabel\": {\"namelength\": 0}, \"hovertemplate\": \"Month=March<br>Category=%{text}<br>Installs=%{y}\", \"ids\": [\"ART_AND_DESIGN\", \"BEAUTY\", \"BOOKS_AND_REFERENCE\", \"BUSINESS\", \"COMICS\", \"COMMUNICATION\", \"FAMILY\", \"FINANCE\", \"FOOD_AND_DRINK\", \"GAME\", \"HEALTH_AND_FITNESS\", \"HOUSE_AND_HOME\", \"LIBRARIES_AND_DEMO\", \"LIFESTYLE\", \"MEDICAL\", \"NEWS_AND_MAGAZINES\", \"PERSONALIZATION\", \"PHOTOGRAPHY\", \"PRODUCTIVITY\", \"SHOPPING\", \"SOCIAL\", \"SPORTS\", \"TOOLS\", \"TRAVEL_AND_LOCAL\", \"VIDEO_PLAYERS\"], \"legendgroup\": \"\", \"marker\": {\"color\": \"#636efa\"}, \"name\": \"\", \"offsetgroup\": \"\", \"orientation\": \"v\", \"showlegend\": false, \"text\": [\"ART_AND_DESIGN\", \"BEAUTY\", \"BOOKS_AND_REFERENCE\", \"BUSINESS\", \"COMICS\", \"COMMUNICATION\", \"FAMILY\", \"FINANCE\", \"FOOD_AND_DRINK\", \"GAME\", \"HEALTH_AND_FITNESS\", \"HOUSE_AND_HOME\", \"LIBRARIES_AND_DEMO\", \"LIFESTYLE\", \"MEDICAL\", \"NEWS_AND_MAGAZINES\", \"PERSONALIZATION\", \"PHOTOGRAPHY\", \"PRODUCTIVITY\", \"SHOPPING\", \"SOCIAL\", \"SPORTS\", \"TOOLS\", \"TRAVEL_AND_LOCAL\", \"VIDEO_PLAYERS\"], \"textposition\": \"auto\", \"x\": [\"ART_AND_DESIGN\", \"BEAUTY\", \"BOOKS_AND_REFERENCE\", \"BUSINESS\", \"COMICS\", \"COMMUNICATION\", \"FAMILY\", \"FINANCE\", \"FOOD_AND_DRINK\", \"GAME\", \"HEALTH_AND_FITNESS\", \"HOUSE_AND_HOME\", \"LIBRARIES_AND_DEMO\", \"LIFESTYLE\", \"MEDICAL\", \"NEWS_AND_MAGAZINES\", \"PERSONALIZATION\", \"PHOTOGRAPHY\", \"PRODUCTIVITY\", \"SHOPPING\", \"SOCIAL\", \"SPORTS\", \"TOOLS\", \"TRAVEL_AND_LOCAL\", \"VIDEO_PLAYERS\"], \"xaxis\": \"x\", \"y\": [50000, 100000, 101010, 50110, 100000, 10110600, 56420450, 10000, 10010, 15271511, 100000, 1000000, 1000000, 10310200, 17100, 1110, 1212100, 63010000, 511100, 10, 1000500, 101100, 12071600, 10010, 2055000], \"yaxis\": \"y\", \"type\": \"bar\"}], \"name\": \"March\"}, {\"data\": [{\"alignmentgroup\": \"True\", \"hoverlabel\": {\"namelength\": 0}, \"hovertemplate\": \"Month=April<br>Category=%{text}<br>Installs=%{y}\", \"ids\": [\"BOOKS_AND_REFERENCE\", \"BUSINESS\", \"COMMUNICATION\", \"DATING\", \"EVENTS\", \"FAMILY\", \"FINANCE\", \"GAME\", \"HEALTH_AND_FITNESS\", \"LIBRARIES_AND_DEMO\", \"LIFESTYLE\", \"MAPS_AND_NAVIGATION\", \"MEDICAL\", \"NEWS_AND_MAGAZINES\", \"PERSONALIZATION\", \"PHOTOGRAPHY\", \"PRODUCTIVITY\", \"SOCIAL\", \"TOOLS\", \"TRAVEL_AND_LOCAL\"], \"legendgroup\": \"\", \"marker\": {\"color\": \"#636efa\"}, \"name\": \"\", \"offsetgroup\": \"\", \"orientation\": \"v\", \"showlegend\": false, \"text\": [\"BOOKS_AND_REFERENCE\", \"BUSINESS\", \"COMMUNICATION\", \"DATING\", \"EVENTS\", \"FAMILY\", \"FINANCE\", \"GAME\", \"HEALTH_AND_FITNESS\", \"LIBRARIES_AND_DEMO\", \"LIFESTYLE\", \"MAPS_AND_NAVIGATION\", \"MEDICAL\", \"NEWS_AND_MAGAZINES\", \"PERSONALIZATION\", \"PHOTOGRAPHY\", \"PRODUCTIVITY\", \"SOCIAL\", \"TOOLS\", \"TRAVEL_AND_LOCAL\"], \"textposition\": \"auto\", \"x\": [\"BOOKS_AND_REFERENCE\", \"BUSINESS\", \"COMMUNICATION\", \"DATING\", \"EVENTS\", \"FAMILY\", \"FINANCE\", \"GAME\", \"HEALTH_AND_FITNESS\", \"LIBRARIES_AND_DEMO\", \"LIFESTYLE\", \"MAPS_AND_NAVIGATION\", \"MEDICAL\", \"NEWS_AND_MAGAZINES\", \"PERSONALIZATION\", \"PHOTOGRAPHY\", \"PRODUCTIVITY\", \"SOCIAL\", \"TOOLS\", \"TRAVEL_AND_LOCAL\"], \"xaxis\": \"x\", \"y\": [1000000, 110200, 1110020, 5000, 100000, 24087610, 5060, 63361000, 1001000, 1000, 1000, 10000, 526910, 50000, 51110, 15000000, 10001010, 5000, 10072100, 20000], \"yaxis\": \"y\", \"type\": \"bar\"}], \"name\": \"April\"}, {\"data\": [{\"alignmentgroup\": \"True\", \"hoverlabel\": {\"namelength\": 0}, \"hovertemplate\": \"Month=May<br>Category=%{text}<br>Installs=%{y}\", \"ids\": [\"ART_AND_DESIGN\", \"BOOKS_AND_REFERENCE\", \"BUSINESS\", \"COMICS\", \"COMMUNICATION\", \"FAMILY\", \"FINANCE\", \"GAME\", \"HEALTH_AND_FITNESS\", \"HOUSE_AND_HOME\", \"LIFESTYLE\", \"MAPS_AND_NAVIGATION\", \"MEDICAL\", \"NEWS_AND_MAGAZINES\", \"PERSONALIZATION\", \"PHOTOGRAPHY\", \"PRODUCTIVITY\", \"SHOPPING\", \"SOCIAL\", \"SPORTS\", \"TOOLS\", \"TRAVEL_AND_LOCAL\", \"VIDEO_PLAYERS\"], \"legendgroup\": \"\", \"marker\": {\"color\": \"#636efa\"}, \"name\": \"\", \"offsetgroup\": \"\", \"orientation\": \"v\", \"showlegend\": false, \"text\": [\"ART_AND_DESIGN\", \"BOOKS_AND_REFERENCE\", \"BUSINESS\", \"COMICS\", \"COMMUNICATION\", \"FAMILY\", \"FINANCE\", \"GAME\", \"HEALTH_AND_FITNESS\", \"HOUSE_AND_HOME\", \"LIFESTYLE\", \"MAPS_AND_NAVIGATION\", \"MEDICAL\", \"NEWS_AND_MAGAZINES\", \"PERSONALIZATION\", \"PHOTOGRAPHY\", \"PRODUCTIVITY\", \"SHOPPING\", \"SOCIAL\", \"SPORTS\", \"TOOLS\", \"TRAVEL_AND_LOCAL\", \"VIDEO_PLAYERS\"], \"textposition\": \"auto\", \"x\": [\"ART_AND_DESIGN\", \"BOOKS_AND_REFERENCE\", \"BUSINESS\", \"COMICS\", \"COMMUNICATION\", \"FAMILY\", \"FINANCE\", \"GAME\", \"HEALTH_AND_FITNESS\", \"HOUSE_AND_HOME\", \"LIFESTYLE\", \"MAPS_AND_NAVIGATION\", \"MEDICAL\", \"NEWS_AND_MAGAZINES\", \"PERSONALIZATION\", \"PHOTOGRAPHY\", \"PRODUCTIVITY\", \"SHOPPING\", \"SOCIAL\", \"SPORTS\", \"TOOLS\", \"TRAVEL_AND_LOCAL\", \"VIDEO_PLAYERS\"], \"xaxis\": \"x\", \"y\": [50000, 102000, 10012115, 10000, 5110, 74296861, 507000, 24166100, 5000, 100, 21060, 16000, 101900, 1004050, 55000, 110000, 1011100, 100, 1511000, 1001000, 11852550, 1000, 5005000], \"yaxis\": \"y\", \"type\": \"bar\"}], \"name\": \"May\"}, {\"data\": [{\"alignmentgroup\": \"True\", \"hoverlabel\": {\"namelength\": 0}, \"hovertemplate\": \"Month=June<br>Category=%{text}<br>Installs=%{y}\", \"ids\": [\"AUTO_AND_VEHICLES\", \"BOOKS_AND_REFERENCE\", \"BUSINESS\", \"DATING\", \"EDUCATION\", \"FAMILY\", \"FINANCE\", \"GAME\", \"HEALTH_AND_FITNESS\", \"LIBRARIES_AND_DEMO\", \"LIFESTYLE\", \"MEDICAL\", \"NEWS_AND_MAGAZINES\", \"PERSONALIZATION\", \"PHOTOGRAPHY\", \"PRODUCTIVITY\", \"SOCIAL\", \"SPORTS\", \"TOOLS\", \"TRAVEL_AND_LOCAL\", \"WEATHER\"], \"legendgroup\": \"\", \"marker\": {\"color\": \"#636efa\"}, \"name\": \"\", \"offsetgroup\": \"\", \"orientation\": \"v\", \"showlegend\": false, \"text\": [\"AUTO_AND_VEHICLES\", \"BOOKS_AND_REFERENCE\", \"BUSINESS\", \"DATING\", \"EDUCATION\", \"FAMILY\", \"FINANCE\", \"GAME\", \"HEALTH_AND_FITNESS\", \"LIBRARIES_AND_DEMO\", \"LIFESTYLE\", \"MEDICAL\", \"NEWS_AND_MAGAZINES\", \"PERSONALIZATION\", \"PHOTOGRAPHY\", \"PRODUCTIVITY\", \"SOCIAL\", \"SPORTS\", \"TOOLS\", \"TRAVEL_AND_LOCAL\", \"WEATHER\"], \"textposition\": \"auto\", \"x\": [\"AUTO_AND_VEHICLES\", \"BOOKS_AND_REFERENCE\", \"BUSINESS\", \"DATING\", \"EDUCATION\", \"FAMILY\", \"FINANCE\", \"GAME\", \"HEALTH_AND_FITNESS\", \"LIBRARIES_AND_DEMO\", \"LIFESTYLE\", \"MEDICAL\", \"NEWS_AND_MAGAZINES\", \"PERSONALIZATION\", \"PHOTOGRAPHY\", \"PRODUCTIVITY\", \"SOCIAL\", \"SPORTS\", \"TOOLS\", \"TRAVEL_AND_LOCAL\", \"WEATHER\"], \"xaxis\": \"x\", \"y\": [1000, 5051000, 121505, 500000, 1000000, 63169150, 110000, 15566200, 1, 100000, 1601610, 112250, 20100, 5010000, 25050100, 1001000, 5010, 110000, 12206000, 10100, 2050000], \"yaxis\": \"y\", \"type\": \"bar\"}], \"name\": \"June\"}, {\"data\": [{\"alignmentgroup\": \"True\", \"hoverlabel\": {\"namelength\": 0}, \"hovertemplate\": \"Month=July<br>Category=%{text}<br>Installs=%{y}\", \"ids\": [\"AUTO_AND_VEHICLES\", \"BOOKS_AND_REFERENCE\", \"BUSINESS\", \"COMMUNICATION\", \"DATING\", \"EDUCATION\", \"ENTERTAINMENT\", \"EVENTS\", \"FAMILY\", \"FINANCE\", \"GAME\", \"HEALTH_AND_FITNESS\", \"HOUSE_AND_HOME\", \"LIFESTYLE\", \"MAPS_AND_NAVIGATION\", \"MEDICAL\", \"NEWS_AND_MAGAZINES\", \"PARENTING\", \"PERSONALIZATION\", \"PHOTOGRAPHY\", \"PRODUCTIVITY\", \"SHOPPING\", \"SOCIAL\", \"SPORTS\", \"TOOLS\", \"VIDEO_PLAYERS\", \"WEATHER\"], \"legendgroup\": \"\", \"marker\": {\"color\": \"#636efa\"}, \"name\": \"\", \"offsetgroup\": \"\", \"orientation\": \"v\", \"showlegend\": false, \"text\": [\"AUTO_AND_VEHICLES\", \"BOOKS_AND_REFERENCE\", \"BUSINESS\", \"COMMUNICATION\", \"DATING\", \"EDUCATION\", \"ENTERTAINMENT\", \"EVENTS\", \"FAMILY\", \"FINANCE\", \"GAME\", \"HEALTH_AND_FITNESS\", \"HOUSE_AND_HOME\", \"LIFESTYLE\", \"MAPS_AND_NAVIGATION\", \"MEDICAL\", \"NEWS_AND_MAGAZINES\", \"PARENTING\", \"PERSONALIZATION\", \"PHOTOGRAPHY\", \"PRODUCTIVITY\", \"SHOPPING\", \"SOCIAL\", \"SPORTS\", \"TOOLS\", \"VIDEO_PLAYERS\", \"WEATHER\"], \"textposition\": \"auto\", \"x\": [\"AUTO_AND_VEHICLES\", \"BOOKS_AND_REFERENCE\", \"BUSINESS\", \"COMMUNICATION\", \"DATING\", \"EDUCATION\", \"ENTERTAINMENT\", \"EVENTS\", \"FAMILY\", \"FINANCE\", \"GAME\", \"HEALTH_AND_FITNESS\", \"HOUSE_AND_HOME\", \"LIFESTYLE\", \"MAPS_AND_NAVIGATION\", \"MEDICAL\", \"NEWS_AND_MAGAZINES\", \"PARENTING\", \"PERSONALIZATION\", \"PHOTOGRAPHY\", \"PRODUCTIVITY\", \"SHOPPING\", \"SOCIAL\", \"SPORTS\", \"TOOLS\", \"VIDEO_PLAYERS\", \"WEATHER\"], \"xaxis\": \"x\", \"y\": [100000, 102200, 10205, 500000, 5100, 2000, 1000000, 500, 17392320, 131500, 22800301, 550100, 10, 571000, 5000, 120100, 5000, 10000, 10100, 16150050, 1600, 10500, 500111, 50010100, 22531010, 101000, 2000000], \"yaxis\": \"y\", \"type\": \"bar\"}], \"name\": \"July\"}, {\"data\": [{\"alignmentgroup\": \"True\", \"hoverlabel\": {\"namelength\": 0}, \"hovertemplate\": \"Month=August<br>Category=%{text}<br>Installs=%{y}\", \"ids\": [\"ART_AND_DESIGN\", \"AUTO_AND_VEHICLES\", \"BEAUTY\", \"BOOKS_AND_REFERENCE\", \"BUSINESS\", \"COMMUNICATION\", \"EDUCATION\", \"EVENTS\", \"FAMILY\", \"FINANCE\", \"FOOD_AND_DRINK\", \"GAME\", \"HEALTH_AND_FITNESS\", \"HOUSE_AND_HOME\", \"LIBRARIES_AND_DEMO\", \"LIFESTYLE\", \"MAPS_AND_NAVIGATION\", \"MEDICAL\", \"NEWS_AND_MAGAZINES\", \"PERSONALIZATION\", \"PHOTOGRAPHY\", \"PRODUCTIVITY\", \"SHOPPING\", \"SOCIAL\", \"SPORTS\", \"TOOLS\", \"TRAVEL_AND_LOCAL\", \"VIDEO_PLAYERS\", \"WEATHER\"], \"legendgroup\": \"\", \"marker\": {\"color\": \"#636efa\"}, \"name\": \"\", \"offsetgroup\": \"\", \"orientation\": \"v\", \"showlegend\": false, \"text\": [\"ART_AND_DESIGN\", \"AUTO_AND_VEHICLES\", \"BEAUTY\", \"BOOKS_AND_REFERENCE\", \"BUSINESS\", \"COMMUNICATION\", \"EDUCATION\", \"EVENTS\", \"FAMILY\", \"FINANCE\", \"FOOD_AND_DRINK\", \"GAME\", \"HEALTH_AND_FITNESS\", \"HOUSE_AND_HOME\", \"LIBRARIES_AND_DEMO\", \"LIFESTYLE\", \"MAPS_AND_NAVIGATION\", \"MEDICAL\", \"NEWS_AND_MAGAZINES\", \"PERSONALIZATION\", \"PHOTOGRAPHY\", \"PRODUCTIVITY\", \"SHOPPING\", \"SOCIAL\", \"SPORTS\", \"TOOLS\", \"TRAVEL_AND_LOCAL\", \"VIDEO_PLAYERS\", \"WEATHER\"], \"textposition\": \"auto\", \"x\": [\"ART_AND_DESIGN\", \"AUTO_AND_VEHICLES\", \"BEAUTY\", \"BOOKS_AND_REFERENCE\", \"BUSINESS\", \"COMMUNICATION\", \"EDUCATION\", \"EVENTS\", \"FAMILY\", \"FINANCE\", \"FOOD_AND_DRINK\", \"GAME\", \"HEALTH_AND_FITNESS\", \"HOUSE_AND_HOME\", \"LIBRARIES_AND_DEMO\", \"LIFESTYLE\", \"MAPS_AND_NAVIGATION\", \"MEDICAL\", \"NEWS_AND_MAGAZINES\", \"PERSONALIZATION\", \"PHOTOGRAPHY\", \"PRODUCTIVITY\", \"SHOPPING\", \"SOCIAL\", \"SPORTS\", \"TOOLS\", \"TRAVEL_AND_LOCAL\", \"VIDEO_PLAYERS\", \"WEATHER\"], \"xaxis\": \"x\", \"y\": [100000, 10000, 10060100, 10015525, 203160, 1505105, 1000000, 1, 27191920, 1115000, 10000, 10821500, 1650005, 510100, 100, 6211310, 1100, 15000, 5050, 10006021, 655000, 11101600, 101510, 1010000, 125025, 6226110, 101600, 1010100, 10000000], \"yaxis\": \"y\", \"type\": \"bar\"}], \"name\": \"August\"}, {\"data\": [{\"alignmentgroup\": \"True\", \"hoverlabel\": {\"namelength\": 0}, \"hovertemplate\": \"Month=September<br>Category=%{text}<br>Installs=%{y}\", \"ids\": [\"ART_AND_DESIGN\", \"BEAUTY\", \"BOOKS_AND_REFERENCE\", \"BUSINESS\", \"COMMUNICATION\", \"DATING\", \"EDUCATION\", \"EVENTS\", \"FAMILY\", \"FINANCE\", \"FOOD_AND_DRINK\", \"GAME\", \"HOUSE_AND_HOME\", \"LIBRARIES_AND_DEMO\", \"LIFESTYLE\", \"MAPS_AND_NAVIGATION\", \"MEDICAL\", \"NEWS_AND_MAGAZINES\", \"PERSONALIZATION\", \"PHOTOGRAPHY\", \"PRODUCTIVITY\", \"SOCIAL\", \"SPORTS\", \"TOOLS\", \"TRAVEL_AND_LOCAL\", \"VIDEO_PLAYERS\"], \"legendgroup\": \"\", \"marker\": {\"color\": \"#636efa\"}, \"name\": \"\", \"offsetgroup\": \"\", \"orientation\": \"v\", \"showlegend\": false, \"text\": [\"ART_AND_DESIGN\", \"BEAUTY\", \"BOOKS_AND_REFERENCE\", \"BUSINESS\", \"COMMUNICATION\", \"DATING\", \"EDUCATION\", \"EVENTS\", \"FAMILY\", \"FINANCE\", \"FOOD_AND_DRINK\", \"GAME\", \"HOUSE_AND_HOME\", \"LIBRARIES_AND_DEMO\", \"LIFESTYLE\", \"MAPS_AND_NAVIGATION\", \"MEDICAL\", \"NEWS_AND_MAGAZINES\", \"PERSONALIZATION\", \"PHOTOGRAPHY\", \"PRODUCTIVITY\", \"SOCIAL\", \"SPORTS\", \"TOOLS\", \"TRAVEL_AND_LOCAL\", \"VIDEO_PLAYERS\"], \"textposition\": \"auto\", \"x\": [\"ART_AND_DESIGN\", \"BEAUTY\", \"BOOKS_AND_REFERENCE\", \"BUSINESS\", \"COMMUNICATION\", \"DATING\", \"EDUCATION\", \"EVENTS\", \"FAMILY\", \"FINANCE\", \"FOOD_AND_DRINK\", \"GAME\", \"HOUSE_AND_HOME\", \"LIBRARIES_AND_DEMO\", \"LIFESTYLE\", \"MAPS_AND_NAVIGATION\", \"MEDICAL\", \"NEWS_AND_MAGAZINES\", \"PERSONALIZATION\", \"PHOTOGRAPHY\", \"PRODUCTIVITY\", \"SOCIAL\", \"SPORTS\", \"TOOLS\", \"TRAVEL_AND_LOCAL\", \"VIDEO_PLAYERS\"], \"xaxis\": \"x\", \"y\": [1000000, 1100000, 11000, 1052960, 570200, 50, 1500000, 1000, 35525310, 21100, 100000, 177207210, 100050, 50000, 10125650, 211000, 23100, 1000000, 6010600, 17110800, 10001050, 105100, 11100200, 772100, 150, 12000], \"yaxis\": \"y\", \"type\": \"bar\"}], \"name\": \"September\"}, {\"data\": [{\"alignmentgroup\": \"True\", \"hoverlabel\": {\"namelength\": 0}, \"hovertemplate\": \"Month=October<br>Category=%{text}<br>Installs=%{y}\", \"ids\": [\"ART_AND_DESIGN\", \"BEAUTY\", \"BOOKS_AND_REFERENCE\", \"BUSINESS\", \"COMICS\", \"COMMUNICATION\", \"DATING\", \"EDUCATION\", \"EVENTS\", \"FAMILY\", \"FINANCE\", \"FOOD_AND_DRINK\", \"GAME\", \"HEALTH_AND_FITNESS\", \"LIFESTYLE\", \"MAPS_AND_NAVIGATION\", \"MEDICAL\", \"NEWS_AND_MAGAZINES\", \"PARENTING\", \"PERSONALIZATION\", \"PHOTOGRAPHY\", \"PRODUCTIVITY\", \"SHOPPING\", \"SOCIAL\", \"SPORTS\", \"TOOLS\", \"TRAVEL_AND_LOCAL\", \"VIDEO_PLAYERS\"], \"legendgroup\": \"\", \"marker\": {\"color\": \"#636efa\"}, \"name\": \"\", \"offsetgroup\": \"\", \"orientation\": \"v\", \"showlegend\": false, \"text\": [\"ART_AND_DESIGN\", \"BEAUTY\", \"BOOKS_AND_REFERENCE\", \"BUSINESS\", \"COMICS\", \"COMMUNICATION\", \"DATING\", \"EDUCATION\", \"EVENTS\", \"FAMILY\", \"FINANCE\", \"FOOD_AND_DRINK\", \"GAME\", \"HEALTH_AND_FITNESS\", \"LIFESTYLE\", \"MAPS_AND_NAVIGATION\", \"MEDICAL\", \"NEWS_AND_MAGAZINES\", \"PARENTING\", \"PERSONALIZATION\", \"PHOTOGRAPHY\", \"PRODUCTIVITY\", \"SHOPPING\", \"SOCIAL\", \"SPORTS\", \"TOOLS\", \"TRAVEL_AND_LOCAL\", \"VIDEO_PLAYERS\"], \"textposition\": \"auto\", \"x\": [\"ART_AND_DESIGN\", \"BEAUTY\", \"BOOKS_AND_REFERENCE\", \"BUSINESS\", \"COMICS\", \"COMMUNICATION\", \"DATING\", \"EDUCATION\", \"EVENTS\", \"FAMILY\", \"FINANCE\", \"FOOD_AND_DRINK\", \"GAME\", \"HEALTH_AND_FITNESS\", \"LIFESTYLE\", \"MAPS_AND_NAVIGATION\", \"MEDICAL\", \"NEWS_AND_MAGAZINES\", \"PARENTING\", \"PERSONALIZATION\", \"PHOTOGRAPHY\", \"PRODUCTIVITY\", \"SHOPPING\", \"SOCIAL\", \"SPORTS\", \"TOOLS\", \"TRAVEL_AND_LOCAL\", \"VIDEO_PLAYERS\"], \"xaxis\": \"x\", \"y\": [1500000, 50000, 512100, 19201, 100000, 5710, 1000, 7610000, 100210, 96192460, 81150, 100010, 35867100, 50650, 1016111, 10000100, 107750, 110100, 11000, 12070010, 15056210, 11161510, 105, 55020100, 1107000, 66305756, 160500, 51000], \"yaxis\": \"y\", \"type\": \"bar\"}], \"name\": \"October\"}, {\"data\": [{\"alignmentgroup\": \"True\", \"hoverlabel\": {\"namelength\": 0}, \"hovertemplate\": \"Month=November<br>Category=%{text}<br>Installs=%{y}\", \"ids\": [\"ART_AND_DESIGN\", \"AUTO_AND_VEHICLES\", \"BEAUTY\", \"BOOKS_AND_REFERENCE\", \"BUSINESS\", \"COMICS\", \"COMMUNICATION\", \"DATING\", \"EDUCATION\", \"EVENTS\", \"FAMILY\", \"FINANCE\", \"FOOD_AND_DRINK\", \"GAME\", \"HEALTH_AND_FITNESS\", \"HOUSE_AND_HOME\", \"LIBRARIES_AND_DEMO\", \"LIFESTYLE\", \"MAPS_AND_NAVIGATION\", \"MEDICAL\", \"NEWS_AND_MAGAZINES\", \"PERSONALIZATION\", \"PHOTOGRAPHY\", \"PRODUCTIVITY\", \"SHOPPING\", \"SOCIAL\", \"SPORTS\", \"TOOLS\", \"TRAVEL_AND_LOCAL\", \"VIDEO_PLAYERS\", \"WEATHER\"], \"legendgroup\": \"\", \"marker\": {\"color\": \"#636efa\"}, \"name\": \"\", \"offsetgroup\": \"\", \"orientation\": \"v\", \"showlegend\": false, \"text\": [\"ART_AND_DESIGN\", \"AUTO_AND_VEHICLES\", \"BEAUTY\", \"BOOKS_AND_REFERENCE\", \"BUSINESS\", \"COMICS\", \"COMMUNICATION\", \"DATING\", \"EDUCATION\", \"EVENTS\", \"FAMILY\", \"FINANCE\", \"FOOD_AND_DRINK\", \"GAME\", \"HEALTH_AND_FITNESS\", \"HOUSE_AND_HOME\", \"LIBRARIES_AND_DEMO\", \"LIFESTYLE\", \"MAPS_AND_NAVIGATION\", \"MEDICAL\", \"NEWS_AND_MAGAZINES\", \"PERSONALIZATION\", \"PHOTOGRAPHY\", \"PRODUCTIVITY\", \"SHOPPING\", \"SOCIAL\", \"SPORTS\", \"TOOLS\", \"TRAVEL_AND_LOCAL\", \"VIDEO_PLAYERS\", \"WEATHER\"], \"textposition\": \"auto\", \"x\": [\"ART_AND_DESIGN\", \"AUTO_AND_VEHICLES\", \"BEAUTY\", \"BOOKS_AND_REFERENCE\", \"BUSINESS\", \"COMICS\", \"COMMUNICATION\", \"DATING\", \"EDUCATION\", \"EVENTS\", \"FAMILY\", \"FINANCE\", \"FOOD_AND_DRINK\", \"GAME\", \"HEALTH_AND_FITNESS\", \"HOUSE_AND_HOME\", \"LIBRARIES_AND_DEMO\", \"LIFESTYLE\", \"MAPS_AND_NAVIGATION\", \"MEDICAL\", \"NEWS_AND_MAGAZINES\", \"PERSONALIZATION\", \"PHOTOGRAPHY\", \"PRODUCTIVITY\", \"SHOPPING\", \"SOCIAL\", \"SPORTS\", \"TOOLS\", \"TRAVEL_AND_LOCAL\", \"VIDEO_PLAYERS\", \"WEATHER\"], \"xaxis\": \"x\", \"y\": [170000, 10500, 2000000, 4556000, 506120, 510100, 5012360, 10000, 2100000, 10010, 196453220, 66100, 1000000, 172431000, 1001660, 100, 110000, 5200510, 1110000, 12160, 15050, 15100000, 20251000, 11152611, 1000100, 610100, 6120000, 125312860, 5012105, 10000500, 500000], \"yaxis\": \"y\", \"type\": \"bar\"}], \"name\": \"November\"}, {\"data\": [{\"alignmentgroup\": \"True\", \"hoverlabel\": {\"namelength\": 0}, \"hovertemplate\": \"Month=December<br>Category=%{text}<br>Installs=%{y}\", \"ids\": [\"ART_AND_DESIGN\", \"AUTO_AND_VEHICLES\", \"BEAUTY\", \"BOOKS_AND_REFERENCE\", \"BUSINESS\", \"COMICS\", \"COMMUNICATION\", \"DATING\", \"EDUCATION\", \"ENTERTAINMENT\", \"EVENTS\", \"FAMILY\", \"FINANCE\", \"GAME\", \"HEALTH_AND_FITNESS\", \"HOUSE_AND_HOME\", \"LIBRARIES_AND_DEMO\", \"LIFESTYLE\", \"MAPS_AND_NAVIGATION\", \"MEDICAL\", \"NEWS_AND_MAGAZINES\", \"PARENTING\", \"PERSONALIZATION\", \"PHOTOGRAPHY\", \"PRODUCTIVITY\", \"SHOPPING\", \"SOCIAL\", \"SPORTS\", \"TOOLS\", \"TRAVEL_AND_LOCAL\", \"VIDEO_PLAYERS\", \"WEATHER\"], \"legendgroup\": \"\", \"marker\": {\"color\": \"#636efa\"}, \"name\": \"\", \"offsetgroup\": \"\", \"orientation\": \"v\", \"showlegend\": false, \"text\": [\"ART_AND_DESIGN\", \"AUTO_AND_VEHICLES\", \"BEAUTY\", \"BOOKS_AND_REFERENCE\", \"BUSINESS\", \"COMICS\", \"COMMUNICATION\", \"DATING\", \"EDUCATION\", \"ENTERTAINMENT\", \"EVENTS\", \"FAMILY\", \"FINANCE\", \"GAME\", \"HEALTH_AND_FITNESS\", \"HOUSE_AND_HOME\", \"LIBRARIES_AND_DEMO\", \"LIFESTYLE\", \"MAPS_AND_NAVIGATION\", \"MEDICAL\", \"NEWS_AND_MAGAZINES\", \"PARENTING\", \"PERSONALIZATION\", \"PHOTOGRAPHY\", \"PRODUCTIVITY\", \"SHOPPING\", \"SOCIAL\", \"SPORTS\", \"TOOLS\", \"TRAVEL_AND_LOCAL\", \"VIDEO_PLAYERS\", \"WEATHER\"], \"textposition\": \"auto\", \"x\": [\"ART_AND_DESIGN\", \"AUTO_AND_VEHICLES\", \"BEAUTY\", \"BOOKS_AND_REFERENCE\", \"BUSINESS\", \"COMICS\", \"COMMUNICATION\", \"DATING\", \"EDUCATION\", \"ENTERTAINMENT\", \"EVENTS\", \"FAMILY\", \"FINANCE\", \"GAME\", \"HEALTH_AND_FITNESS\", \"HOUSE_AND_HOME\", \"LIBRARIES_AND_DEMO\", \"LIFESTYLE\", \"MAPS_AND_NAVIGATION\", \"MEDICAL\", \"NEWS_AND_MAGAZINES\", \"PARENTING\", \"PERSONALIZATION\", \"PHOTOGRAPHY\", \"PRODUCTIVITY\", \"SHOPPING\", \"SOCIAL\", \"SPORTS\", \"TOOLS\", \"TRAVEL_AND_LOCAL\", \"VIDEO_PLAYERS\", \"WEATHER\"], \"xaxis\": \"x\", \"y\": [100000, 10, 10000, 1211000, 1517165, 110000, 1100410, 200000, 2200000, 10000, 251010, 37835681, 7000, 213303150, 1050160, 5000, 510100, 1228100, 610500, 76200, 5010, 200000, 25060911, 110500000, 22006070, 600010, 2000500, 65013750, 178336250, 500, 71700000, 10000], \"yaxis\": \"y\", \"type\": \"bar\"}], \"name\": \"December\"}]);\n",
              "                        }).then(function(){\n",
              "                            \n",
              "var gd = document.getElementById('0b35a940-9893-4792-8327-f58a57c5286f');\n",
              "var x = new MutationObserver(function (mutations, observer) {{\n",
              "        var display = window.getComputedStyle(gd).display;\n",
              "        if (!display || display === 'none') {{\n",
              "            console.log([gd, 'removed!']);\n",
              "            Plotly.purge(gd);\n",
              "            observer.disconnect();\n",
              "        }}\n",
              "}});\n",
              "\n",
              "// Listen for the removal of the full notebook cells\n",
              "var notebookContainer = gd.closest('#notebook-container');\n",
              "if (notebookContainer) {{\n",
              "    x.observe(notebookContainer, {childList: true});\n",
              "}}\n",
              "\n",
              "// Listen for the clearing of the current output cell\n",
              "var outputEl = gd.closest('.output');\n",
              "if (outputEl) {{\n",
              "    x.observe(outputEl, {childList: true});\n",
              "}}\n",
              "\n",
              "                        })\n",
              "                };\n",
              "                \n",
              "            </script>\n",
              "        </div>\n",
              "</body>\n",
              "</html>"
            ]
          },
          "metadata": {}
        }
      ]
    },
    {
      "cell_type": "markdown",
      "metadata": {
        "id": "D7g8nc6nCbWb"
      },
      "source": [
        "Monthly trend of installations of different categories."
      ]
    },
    {
      "cell_type": "code",
      "metadata": {
        "id": "OoCHoH4tWvSS"
      },
      "source": [
        "df5=play_store_df[[\"App\",\"Year\",\"Category\",\"Type\",\"Installs\",\"Price\"]].groupby([\"Year\",\"Category\",\"Installs\",\"Type\",\"Price\",\"App\"], as_index=False).size()\n"
      ],
      "execution_count": null,
      "outputs": []
    },
    {
      "cell_type": "code",
      "metadata": {
        "id": "hSCagshAC3fs",
        "outputId": "d0e6a63c-4e0a-4012-ff2f-8a4c14b75399",
        "colab": {
          "base_uri": "https://localhost:8080/",
          "height": 542
        }
      },
      "source": [
        "fig = px.scatter(df5, x = \"Year\", y = \"Price\", color=\"Category\", symbol=\"Category\", title='Price of different Apps of different categories')\n",
        "fig.show()"
      ],
      "execution_count": 181,
      "outputs": [
        {
          "output_type": "display_data",
          "data": {
            "text/html": [
              "<html>\n",
              "<head><meta charset=\"utf-8\" /></head>\n",
              "<body>\n",
              "    <div>\n",
              "            <script src=\"https://cdnjs.cloudflare.com/ajax/libs/mathjax/2.7.5/MathJax.js?config=TeX-AMS-MML_SVG\"></script><script type=\"text/javascript\">if (window.MathJax) {MathJax.Hub.Config({SVG: {font: \"STIX-Web\"}});}</script>\n",
              "                <script type=\"text/javascript\">window.PlotlyConfig = {MathJaxConfig: 'local'};</script>\n",
              "        <script src=\"https://cdn.plot.ly/plotly-latest.min.js\"></script>    \n",
              "            <div id=\"4cb9aa24-b7d0-42a1-bd66-37199d9263c2\" class=\"plotly-graph-div\" style=\"height:525px; width:100%;\"></div>\n",
              "            <script type=\"text/javascript\">\n",
              "                \n",
              "                    window.PLOTLYENV=window.PLOTLYENV || {};\n",
              "                    \n",
              "                if (document.getElementById(\"4cb9aa24-b7d0-42a1-bd66-37199d9263c2\")) {\n",
              "                    Plotly.newPlot(\n",
              "                        '4cb9aa24-b7d0-42a1-bd66-37199d9263c2',\n",
              "                        [{\"hoverlabel\": {\"namelength\": 0}, \"hovertemplate\": \"Category=FAMILY<br>Year=%{x}<br>Price=%{y}\", \"legendgroup\": \"Category=FAMILY\", \"marker\": {\"color\": \"#636efa\", \"symbol\": \"circle\"}, \"mode\": \"markers\", \"name\": \"Category=FAMILY\", \"showlegend\": true, \"type\": \"scattergl\", \"x\": [2010, 2011, 2012, 2012, 2012, 2012, 2012, 2012, 2012, 2012, 2012, 2013, 2013, 2013, 2013, 2013, 2013, 2013, 2013, 2013, 2013, 2013, 2013, 2013, 2013, 2013, 2013, 2014, 2014, 2014, 2014, 2014, 2014, 2014, 2014, 2014, 2014, 2014, 2014, 2014, 2014, 2014, 2014, 2014, 2014, 2014, 2014, 2014, 2014, 2014, 2014, 2014, 2014, 2014, 2014, 2014, 2014, 2014, 2014, 2014, 2014, 2014, 2014, 2014, 2014, 2014, 2015, 2015, 2015, 2015, 2015, 2015, 2015, 2015, 2015, 2015, 2015, 2015, 2015, 2015, 2015, 2015, 2015, 2015, 2015, 2015, 2015, 2015, 2015, 2015, 2015, 2015, 2015, 2015, 2015, 2015, 2015, 2015, 2015, 2015, 2015, 2015, 2015, 2015, 2015, 2015, 2015, 2015, 2015, 2015, 2015, 2015, 2015, 2015, 2015, 2015, 2015, 2015, 2015, 2015, 2015, 2015, 2015, 2015, 2015, 2015, 2015, 2015, 2015, 2015, 2015, 2015, 2015, 2015, 2015, 2015, 2015, 2015, 2015, 2015, 2015, 2015, 2015, 2015, 2015, 2015, 2015, 2015, 2015, 2015, 2015, 2015, 2015, 2015, 2015, 2015, 2015, 2015, 2015, 2015, 2015, 2015, 2015, 2015, 2015, 2015, 2015, 2015, 2016, 2016, 2016, 2016, 2016, 2016, 2016, 2016, 2016, 2016, 2016, 2016, 2016, 2016, 2016, 2016, 2016, 2016, 2016, 2016, 2016, 2016, 2016, 2016, 2016, 2016, 2016, 2016, 2016, 2016, 2016, 2016, 2016, 2016, 2016, 2016, 2016, 2016, 2016, 2016, 2016, 2016, 2016, 2016, 2016, 2016, 2016, 2016, 2016, 2016, 2016, 2016, 2016, 2016, 2016, 2016, 2016, 2016, 2016, 2016, 2016, 2016, 2016, 2016, 2016, 2016, 2016, 2016, 2016, 2016, 2016, 2016, 2016, 2016, 2016, 2016, 2016, 2016, 2016, 2016, 2016, 2016, 2016, 2016, 2016, 2016, 2016, 2016, 2016, 2016, 2016, 2016, 2016, 2016, 2016, 2016, 2016, 2016, 2016, 2016, 2016, 2016, 2016, 2016, 2016, 2016, 2016, 2016, 2016, 2016, 2016, 2016, 2016, 2016, 2016, 2016, 2016, 2016, 2016, 2016, 2016, 2016, 2016, 2016, 2016, 2016, 2016, 2016, 2016, 2016, 2016, 2016, 2016, 2016, 2016, 2016, 2016, 2016, 2016, 2016, 2016, 2016, 2016, 2016, 2016, 2016, 2016, 2016, 2016, 2016, 2016, 2016, 2016, 2016, 2016, 2016, 2016, 2016, 2016, 2016, 2016, 2016, 2016, 2016, 2016, 2016, 2016, 2016, 2016, 2016, 2016, 2016, 2016, 2016, 2016, 2016, 2016, 2016, 2016, 2016, 2016, 2016, 2016, 2016, 2016, 2016, 2016, 2016, 2016, 2016, 2016, 2016, 2016, 2016, 2016, 2016, 2016, 2016, 2016, 2016, 2016, 2016, 2016, 2017, 2017, 2017, 2017, 2017, 2017, 2017, 2017, 2017, 2017, 2017, 2017, 2017, 2017, 2017, 2017, 2017, 2017, 2017, 2017, 2017, 2017, 2017, 2017, 2017, 2017, 2017, 2017, 2017, 2017, 2017, 2017, 2017, 2017, 2017, 2017, 2017, 2017, 2017, 2017, 2017, 2017, 2017, 2017, 2017, 2017, 2017, 2017, 2017, 2017, 2017, 2017, 2017, 2017, 2017, 2017, 2017, 2017, 2017, 2017, 2017, 2017, 2017, 2017, 2017, 2017, 2017, 2017, 2017, 2017, 2017, 2017, 2017, 2017, 2017, 2017, 2017, 2017, 2017, 2017, 2017, 2017, 2017, 2017, 2017, 2017, 2017, 2017, 2017, 2017, 2017, 2017, 2017, 2017, 2017, 2017, 2017, 2017, 2017, 2017, 2017, 2017, 2017, 2017, 2017, 2017, 2017, 2017, 2017, 2017, 2017, 2017, 2017, 2017, 2017, 2017, 2017, 2017, 2017, 2017, 2017, 2017, 2017, 2017, 2017, 2017, 2017, 2017, 2017, 2017, 2017, 2017, 2017, 2017, 2017, 2017, 2017, 2017, 2017, 2017, 2017, 2017, 2017, 2017, 2017, 2017, 2017, 2017, 2017, 2017, 2017, 2017, 2017, 2017, 2017, 2017, 2017, 2017, 2017, 2017, 2017, 2017, 2017, 2017, 2017, 2017, 2017, 2017, 2017, 2017, 2017, 2017, 2017, 2017, 2017, 2017, 2017, 2017, 2017, 2017, 2017, 2017, 2017, 2017, 2017, 2017, 2017, 2017, 2017, 2017, 2017, 2017, 2017, 2017, 2017, 2017, 2017, 2017, 2017, 2017, 2017, 2017, 2017, 2017, 2017, 2017, 2017, 2017, 2017, 2017, 2017, 2017, 2017, 2017, 2017, 2017, 2017, 2017, 2017, 2017, 2017, 2017, 2017, 2017, 2017, 2017, 2017, 2017, 2017, 2017, 2017, 2017, 2017, 2017, 2017, 2017, 2017, 2017, 2017, 2017, 2017, 2017, 2017, 2017, 2017, 2017, 2017, 2017, 2017, 2017, 2017, 2017, 2017, 2017, 2017, 2017, 2017, 2017, 2017, 2017, 2017, 2017, 2017, 2017, 2017, 2017, 2017, 2017, 2017, 2017, 2017, 2017, 2017, 2017, 2017, 2017, 2017, 2017, 2017, 2017, 2017, 2017, 2017, 2017, 2017, 2017, 2017, 2017, 2017, 2017, 2017, 2017, 2017, 2017, 2017, 2017, 2017, 2017, 2017, 2017, 2017, 2017, 2017, 2017, 2017, 2017, 2017, 2017, 2017, 2017, 2017, 2017, 2017, 2017, 2017, 2017, 2017, 2017, 2017, 2017, 2017, 2017, 2017, 2017, 2017, 2017, 2017, 2017, 2017, 2017, 2017, 2017, 2017, 2017, 2017, 2017, 2017, 2017, 2017, 2017, 2017, 2017, 2017, 2017, 2017, 2017, 2017, 2017, 2017, 2017, 2017, 2017, 2017, 2017, 2017, 2017, 2017, 2017, 2017, 2017, 2017, 2017, 2017, 2017, 2017, 2017, 2017, 2017, 2017, 2017, 2017, 2017, 2017, 2017, 2017, 2017, 2017, 2017, 2017, 2017, 2017, 2017, 2017, 2017, 2017, 2017, 2017, 2017, 2017, 2017, 2017, 2017, 2017, 2017, 2017, 2017, 2017, 2017, 2017, 2017, 2017, 2017, 2017, 2017, 2017, 2017, 2017, 2017, 2017, 2017, 2017, 2017, 2017, 2017, 2017, 2017, 2017, 2017, 2017, 2017, 2017, 2017, 2017, 2017, 2017, 2017, 2017, 2017, 2017, 2017, 2017, 2017, 2017, 2017, 2017, 2017, 2017, 2017, 2017, 2017, 2017, 2017, 2018, 2018, 2018, 2018, 2018, 2018, 2018, 2018, 2018, 2018, 2018, 2018, 2018, 2018, 2018, 2018, 2018, 2018, 2018, 2018, 2018, 2018, 2018, 2018, 2018, 2018, 2018, 2018, 2018, 2018, 2018, 2018, 2018, 2018, 2018, 2018, 2018, 2018, 2018, 2018, 2018, 2018, 2018, 2018, 2018, 2018, 2018, 2018, 2018, 2018, 2018, 2018, 2018, 2018, 2018, 2018, 2018, 2018, 2018, 2018, 2018, 2018, 2018, 2018, 2018, 2018, 2018, 2018, 2018, 2018, 2018, 2018, 2018, 2018, 2018, 2018, 2018, 2018, 2018, 2018, 2018, 2018, 2018, 2018, 2018, 2018, 2018, 2018, 2018, 2018, 2018, 2018, 2018, 2018, 2018, 2018, 2018, 2018, 2018, 2018, 2018, 2018, 2018, 2018, 2018, 2018, 2018, 2018, 2018, 2018, 2018, 2018, 2018, 2018, 2018, 2018, 2018, 2018, 2018, 2018, 2018, 2018, 2018, 2018, 2018, 2018, 2018, 2018, 2018, 2018, 2018, 2018, 2018, 2018, 2018, 2018, 2018, 2018, 2018, 2018, 2018, 2018, 2018, 2018, 2018, 2018, 2018, 2018, 2018, 2018, 2018, 2018, 2018, 2018, 2018, 2018, 2018, 2018, 2018, 2018, 2018, 2018, 2018, 2018, 2018, 2018, 2018, 2018, 2018, 2018, 2018, 2018, 2018, 2018, 2018, 2018, 2018, 2018, 2018, 2018, 2018, 2018, 2018, 2018, 2018, 2018, 2018, 2018, 2018, 2018, 2018, 2018, 2018, 2018, 2018, 2018, 2018, 2018, 2018, 2018, 2018, 2018, 2018, 2018, 2018, 2018, 2018, 2018, 2018, 2018, 2018, 2018, 2018, 2018, 2018, 2018, 2018, 2018, 2018, 2018, 2018, 2018, 2018, 2018, 2018, 2018, 2018, 2018, 2018, 2018, 2018, 2018, 2018, 2018, 2018, 2018, 2018, 2018, 2018, 2018, 2018, 2018, 2018, 2018, 2018, 2018, 2018, 2018, 2018, 2018, 2018, 2018, 2018, 2018, 2018, 2018, 2018, 2018, 2018, 2018, 2018, 2018, 2018, 2018, 2018, 2018, 2018, 2018, 2018, 2018, 2018, 2018, 2018, 2018, 2018, 2018, 2018, 2018, 2018, 2018, 2018, 2018, 2018, 2018, 2018, 2018, 2018, 2018, 2018, 2018, 2018, 2018, 2018, 2018, 2018, 2018, 2018, 2018, 2018, 2018, 2018, 2018, 2018, 2018, 2018, 2018, 2018, 2018, 2018, 2018, 2018, 2018, 2018, 2018, 2018, 2018, 2018, 2018, 2018, 2018, 2018, 2018, 2018, 2018, 2018, 2018, 2018, 2018, 2018, 2018, 2018, 2018, 2018, 2018, 2018, 2018, 2018, 2018, 2018, 2018, 2018, 2018, 2018, 2018, 2018, 2018, 2018, 2018, 2018, 2018, 2018, 2018, 2018, 2018, 2018, 2018, 2018, 2018, 2018, 2018, 2018, 2018, 2018, 2018, 2018, 2018, 2018, 2018, 2018, 2018, 2018, 2018, 2018, 2018, 2018, 2018, 2018, 2018, 2018, 2018, 2018, 2018, 2018, 2018, 2018, 2018, 2018, 2018, 2018, 2018, 2018, 2018, 2018, 2018, 2018, 2018, 2018, 2018, 2018, 2018, 2018, 2018, 2018, 2018, 2018, 2018, 2018, 2018, 2018, 2018, 2018, 2018, 2018, 2018, 2018, 2018, 2018, 2018, 2018, 2018, 2018, 2018, 2018, 2018, 2018, 2018, 2018, 2018, 2018, 2018, 2018, 2018, 2018, 2018, 2018, 2018, 2018, 2018, 2018, 2018, 2018, 2018, 2018, 2018, 2018, 2018, 2018, 2018, 2018, 2018, 2018, 2018, 2018, 2018, 2018, 2018, 2018, 2018, 2018, 2018, 2018, 2018, 2018, 2018, 2018, 2018, 2018, 2018, 2018, 2018, 2018, 2018, 2018, 2018, 2018, 2018, 2018, 2018, 2018, 2018, 2018, 2018, 2018, 2018, 2018, 2018, 2018, 2018, 2018, 2018, 2018, 2018, 2018, 2018, 2018, 2018, 2018, 2018, 2018, 2018, 2018, 2018, 2018, 2018, 2018, 2018, 2018, 2018, 2018, 2018, 2018, 2018, 2018, 2018, 2018, 2018, 2018, 2018, 2018, 2018, 2018, 2018, 2018, 2018, 2018, 2018, 2018, 2018, 2018, 2018, 2018, 2018, 2018, 2018, 2018, 2018, 2018, 2018, 2018, 2018, 2018, 2018, 2018, 2018, 2018, 2018, 2018, 2018, 2018, 2018, 2018, 2018, 2018, 2018, 2018, 2018, 2018, 2018, 2018, 2018, 2018, 2018, 2018, 2018, 2018, 2018, 2018, 2018, 2018, 2018, 2018, 2018, 2018, 2018, 2018, 2018, 2018, 2018, 2018, 2018, 2018, 2018, 2018, 2018, 2018, 2018, 2018, 2018, 2018, 2018, 2018, 2018, 2018, 2018, 2018, 2018, 2018, 2018, 2018, 2018, 2018, 2018, 2018, 2018, 2018, 2018, 2018, 2018, 2018, 2018, 2018, 2018, 2018, 2018, 2018, 2018, 2018, 2018, 2018, 2018, 2018, 2018, 2018, 2018, 2018, 2018, 2018, 2018, 2018, 2018, 2018, 2018, 2018, 2018, 2018, 2018, 2018, 2018, 2018, 2018, 2018, 2018, 2018, 2018, 2018, 2018, 2018, 2018, 2018, 2018, 2018, 2018, 2018, 2018, 2018, 2018, 2018, 2018, 2018, 2018, 2018, 2018, 2018, 2018, 2018, 2018, 2018, 2018, 2018, 2018, 2018, 2018, 2018, 2018, 2018, 2018, 2018, 2018, 2018, 2018, 2018, 2018, 2018, 2018, 2018, 2018, 2018, 2018, 2018, 2018, 2018, 2018, 2018, 2018, 2018, 2018, 2018, 2018, 2018, 2018, 2018, 2018, 2018, 2018, 2018, 2018, 2018, 2018, 2018, 2018, 2018, 2018, 2018, 2018, 2018, 2018, 2018, 2018, 2018, 2018, 2018, 2018, 2018, 2018, 2018, 2018, 2018, 2018, 2018, 2018, 2018, 2018, 2018, 2018, 2018, 2018, 2018, 2018, 2018, 2018, 2018, 2018, 2018, 2018, 2018, 2018, 2018, 2018, 2018, 2018, 2018, 2018, 2018, 2018, 2018, 2018, 2018, 2018, 2018, 2018, 2018, 2018, 2018, 2018, 2018, 2018, 2018, 2018, 2018, 2018, 2018, 2018, 2018, 2018, 2018, 2018, 2018, 2018, 2018, 2018, 2018, 2018, 2018, 2018, 2018, 2018, 2018, 2018, 2018, 2018, 2018, 2018, 2018, 2018, 2018, 2018, 2018, 2018, 2018, 2018, 2018, 2018, 2018, 2018, 2018, 2018, 2018, 2018, 2018, 2018, 2018, 2018, 2018, 2018, 2018, 2018, 2018, 2018, 2018, 2018, 2018, 2018, 2018, 2018, 2018, 2018, 2018, 2018, 2018, 2018, 2018, 2018, 2018, 2018, 2018, 2018, 2018, 2018, 2018, 2018, 2018, 2018, 2018, 2018, 2018, 2018, 2018, 2018, 2018, 2018, 2018, 2018, 2018, 2018, 2018, 2018, 2018, 2018, 2018, 2018, 2018, 2018, 2018, 2018, 2018, 2018, 2018, 2018, 2018, 2018, 2018, 2018, 2018, 2018, 2018, 2018, 2018, 2018, 2018, 2018, 2018, 2018, 2018, 2018, 2018, 2018, 2018, 2018, 2018, 2018, 2018, 2018, 2018, 2018, 2018, 2018, 2018, 2018, 2018, 2018, 2018, 2018, 2018, 2018, 2018, 2018, 2018, 2018, 2018, 2018, 2018, 2018, 2018, 2018, 2018, 2018, 2018, 2018, 2018, 2018, 2018, 2018, 2018, 2018, 2018, 2018, 2018, 2018, 2018, 2018, 2018, 2018, 2018, 2018, 2018, 2018, 2018, 2018, 2018, 2018, 2018, 2018, 2018, 2018, 2018, 2018, 2018, 2018, 2018, 2018, 2018, 2018, 2018, 2018, 2018, 2018, 2018, 2018, 2018, 2018, 2018, 2018, 2018, 2018, 2018, 2018, 2018, 2018, 2018, 2018, 2018, 2018, 2018, 2018, 2018, 2018, 2018, 2018, 2018, 2018, 2018, 2018, 2018, 2018, 2018, 2018, 2018, 2018, 2018, 2018, 2018, 2018, 2018, 2018, 2018, 2018, 2018, 2018, 2018, 2018, 2018, 2018, 2018, 2018, 2018, 2018, 2018, 2018, 2018, 2018, 2018, 2018, 2018, 2018, 2018, 2018, 2018, 2018, 2018, 2018, 2018, 2018, 2018, 2018, 2018, 2018, 2018, 2018, 2018, 2018, 2018, 2018, 2018, 2018, 2018, 2018, 2018, 2018, 2018, 2018, 2018, 2018, 2018, 2018, 2018, 2018, 2018, 2018, 2018, 2018, 2018, 2018, 2018, 2018, 2018, 2018, 2018, 2018, 2018, 2018, 2018, 2018, 2018, 2018, 2018, 2018, 2018, 2018, 2018, 2018, 2018, 2018, 2018, 2018, 2018, 2018, 2018, 2018, 2018, 2018, 2018, 2018, 2018, 2018, 2018, 2018, 2018, 2018, 2018, 2018, 2018, 2018, 2018], \"xaxis\": \"x\", \"y\": [0.0, 0.0, 0.0, 1.49, 0.0, 1.26, 0.0, 0.0, 1.04, 1.49, 0.0, 0.0, 0.99, 2.99, 4.99, 0.0, 0.0, 2.99, 0.99, 9.99, 0.0, 0.0, 0.0, 1.49, 0.0, 2.99, 0.0, 1.99, 0.0, 0.0, 0.0, 0.0, 0.99, 1.99, 4.84, 0.0, 19.99, 0.0, 0.0, 0.99, 0.99, 1.99, 0.0, 0.0, 0.0, 0.0, 0.0, 0.0, 0.0, 0.0, 0.99, 4.99, 0.0, 0.0, 0.0, 0.0, 1.49, 0.0, 0.0, 0.0, 2.99, 3.99, 4.99, 0.0, 0.0, 2.99, 0.0, 0.0, 0.0, 0.0, 0.0, 0.0, 0.0, 0.0, 0.0, 0.0, 0.0, 0.0, 0.0, 0.0, 0.0, 0.0, 0.0, 0.0, 0.0, 0.0, 0.0, 0.0, 0.0, 0.0, 0.0, 0.0, 0.0, 0.0, 0.0, 0.0, 0.0, 0.0, 0.0, 0.0, 0.0, 0.0, 0.0, 0.0, 0.0, 1.99, 2.99, 3.99, 4.99, 0.0, 0.0, 0.0, 0.0, 0.0, 0.0, 0.0, 0.0, 0.0, 0.99, 0.99, 0.0, 0.0, 0.0, 0.0, 0.0, 0.0, 0.0, 0.0, 0.0, 0.0, 0.0, 0.0, 0.0, 0.0, 0.99, 1.49, 1.99, 4.99, 9.99, 0.0, 39.99, 0.0, 0.0, 0.0, 0.0, 0.0, 0.0, 2.99, 4.99, 0.0, 0.0, 0.0, 0.99, 2.0, 0.0, 0.0, 0.0, 0.0, 0.0, 0.0, 0.0, 0.0, 0.0, 0.0, 0.0, 0.0, 0.0, 0.0, 2.99, 0.0, 0.0, 0.0, 0.0, 0.0, 0.0, 0.0, 0.0, 0.0, 0.0, 0.0, 0.0, 0.0, 0.0, 0.0, 0.0, 0.0, 0.0, 0.0, 0.0, 0.0, 0.0, 0.0, 10.0, 0.0, 0.0, 0.0, 0.0, 0.0, 0.0, 0.0, 0.0, 0.0, 0.0, 0.0, 0.0, 0.0, 0.0, 0.0, 0.0, 0.0, 0.0, 0.0, 0.0, 0.0, 0.0, 0.0, 0.0, 0.0, 0.0, 0.0, 0.0, 0.0, 0.0, 2.99, 0.0, 1.99, 2.99, 29.99, 46.99, 0.0, 0.0, 0.0, 0.0, 0.0, 0.0, 0.0, 0.0, 0.0, 0.0, 0.0, 0.0, 0.0, 0.0, 0.0, 0.0, 0.0, 0.0, 0.0, 0.0, 0.0, 0.0, 0.0, 0.0, 0.0, 0.0, 2.99, 2.99, 2.99, 3.99, 3.99, 4.99, 4.99, 0.0, 0.0, 0.0, 0.0, 0.0, 0.0, 0.0, 0.0, 0.0, 0.0, 0.0, 0.0, 0.0, 0.0, 0.99, 2.99, 0.0, 0.0, 0.0, 0.0, 0.0, 0.0, 0.0, 0.0, 0.0, 0.0, 0.0, 0.0, 0.0, 0.0, 0.0, 0.0, 0.0, 0.0, 0.0, 0.0, 0.0, 0.0, 2.99, 2.99, 1.99, 0.0, 0.0, 0.0, 0.0, 0.0, 0.0, 0.0, 0.0, 0.0, 2.99, 4.99, 5.99, 0.0, 0.0, 0.0, 0.0, 0.0, 0.0, 0.0, 0.0, 0.0, 0.0, 0.0, 2.99, 3.99, 0.0, 0.0, 0.0, 0.0, 0.0, 0.0, 0.0, 0.0, 0.0, 0.0, 0.0, 0.0, 2.99, 4.99, 0.0, 0.0, 0.0, 0.0, 0.0, 0.0, 0.0, 0.0, 0.0, 0.0, 0.0, 0.0, 0.0, 0.0, 0.0, 0.0, 0.0, 0.0, 1.99, 0.0, 0.0, 0.0, 0.0, 0.0, 0.0, 0.0, 0.0, 0.0, 0.0, 1.99, 0.99, 2.99, 0.0, 0.0, 0.0, 0.0, 0.0, 0.0, 0.0, 0.0, 0.0, 0.0, 0.0, 0.0, 0.0, 0.0, 0.0, 0.0, 0.0, 0.0, 0.0, 0.0, 0.0, 0.0, 0.0, 0.0, 0.0, 0.0, 0.0, 0.0, 0.0, 0.0, 0.0, 0.0, 0.0, 0.0, 0.0, 0.0, 0.0, 0.0, 0.0, 0.0, 0.0, 0.0, 0.0, 0.0, 0.0, 0.0, 0.0, 0.0, 0.0, 0.0, 0.0, 0.0, 0.0, 0.0, 0.0, 0.99, 0.99, 2.49, 2.49, 2.99, 2.99, 2.99, 5.99, 19.4, 0.0, 0.0, 0.0, 0.0, 0.0, 0.0, 0.0, 0.0, 0.0, 0.0, 0.0, 0.0, 0.0, 0.0, 0.0, 0.0, 0.0, 0.0, 0.0, 0.0, 0.0, 0.0, 0.0, 0.0, 0.0, 0.0, 0.0, 0.0, 0.0, 0.0, 0.0, 0.0, 0.0, 0.0, 0.0, 0.0, 0.0, 0.0, 0.0, 0.0, 0.0, 0.0, 0.0, 0.0, 0.0, 0.0, 0.0, 0.0, 0.0, 0.0, 0.0, 0.0, 0.0, 0.0, 0.0, 0.0, 0.0, 0.0, 0.0, 0.0, 0.0, 0.0, 0.0, 0.0, 0.99, 0.99, 0.0, 0.0, 0.0, 0.0, 0.0, 0.0, 0.0, 0.0, 0.0, 0.0, 0.0, 0.0, 0.0, 0.0, 0.0, 0.0, 0.0, 0.0, 0.0, 0.0, 0.0, 0.0, 0.0, 0.0, 0.0, 0.0, 0.0, 0.0, 0.0, 0.0, 0.0, 0.0, 0.0, 0.0, 0.0, 0.0, 0.0, 0.0, 0.0, 0.0, 0.0, 0.0, 0.0, 0.0, 0.0, 0.0, 0.0, 0.0, 0.0, 0.0, 0.0, 0.0, 0.0, 0.0, 0.0, 0.0, 2.99, 2.99, 2.99, 14.99, 0.0, 0.0, 0.0, 0.0, 0.0, 0.0, 0.0, 0.0, 0.0, 0.0, 0.0, 0.0, 0.0, 0.0, 0.0, 0.0, 0.0, 0.0, 0.0, 0.0, 0.0, 0.0, 0.0, 0.0, 0.0, 0.0, 0.0, 0.0, 0.0, 0.0, 0.0, 0.0, 0.0, 0.0, 0.0, 0.0, 0.0, 0.0, 0.0, 0.0, 0.0, 0.0, 0.0, 0.0, 0.0, 0.0, 0.0, 0.0, 1.49, 1.49, 1.99, 2.99, 3.99, 3.99, 4.99, 0.0, 0.0, 0.0, 0.0, 0.0, 0.0, 0.0, 0.0, 0.0, 0.0, 0.0, 0.0, 0.0, 0.0, 0.0, 0.0, 0.0, 0.0, 0.0, 0.0, 0.0, 0.0, 0.0, 0.0, 0.0, 0.0, 0.0, 0.0, 0.0, 0.0, 0.0, 0.0, 0.0, 0.0, 0.0, 0.0, 0.0, 0.0, 0.0, 0.0, 0.0, 0.0, 0.0, 0.0, 0.0, 0.0, 0.0, 0.0, 0.0, 0.0, 2.99, 2.99, 2.99, 2.99, 3.99, 7.99, 9.99, 13.99, 0.0, 0.0, 0.0, 0.0, 0.0, 0.0, 0.0, 0.0, 0.0, 0.0, 0.0, 0.0, 0.0, 0.0, 0.0, 0.0, 0.0, 0.0, 0.0, 0.0, 0.0, 0.0, 0.0, 0.0, 0.0, 0.0, 0.0, 0.0, 0.0, 0.0, 0.0, 0.0, 0.0, 1.49, 4.49, 4.99, 399.99, 0.0, 0.0, 0.0, 0.0, 0.0, 0.0, 0.0, 0.0, 0.0, 0.0, 0.0, 0.0, 0.0, 0.0, 0.0, 0.0, 0.0, 0.0, 2.99, 2.99, 0.0, 0.0, 0.0, 0.0, 0.0, 0.0, 0.0, 0.0, 0.0, 0.0, 0.0, 0.0, 0.0, 0.0, 0.0, 0.0, 0.0, 0.0, 0.0, 0.0, 0.0, 0.0, 0.0, 2.99, 2.99, 2.99, 19.99, 0.0, 0.0, 0.0, 0.0, 0.0, 0.0, 0.0, 0.0, 0.0, 0.0, 0.0, 0.0, 0.0, 0.0, 0.0, 0.0, 0.0, 0.0, 0.0, 0.0, 0.0, 0.0, 0.0, 0.0, 0.0, 0.0, 0.0, 1.99, 0.0, 0.0, 0.0, 0.0, 0.0, 0.0, 0.0, 0.0, 0.0, 0.0, 0.0, 0.0, 0.0, 0.0, 0.0, 0.0, 0.0, 0.0, 0.0, 0.0, 0.0, 0.0, 0.0, 4.99, 0.0, 0.0, 0.0, 0.0, 0.0, 0.0, 0.0, 2.49, 0.0, 0.0, 0.0, 0.0, 0.0, 0.0, 0.0, 0.0, 0.0, 0.0, 0.0, 0.0, 0.0, 0.0, 0.0, 0.0, 0.0, 0.0, 0.0, 0.0, 0.0, 0.0, 0.0, 0.0, 0.0, 0.0, 0.0, 0.0, 0.0, 0.0, 0.0, 0.0, 0.0, 0.0, 0.0, 0.0, 0.0, 0.0, 0.0, 0.0, 0.0, 0.0, 0.0, 0.0, 0.0, 0.0, 0.0, 0.0, 0.0, 0.0, 0.0, 0.0, 0.0, 0.0, 0.0, 0.0, 0.0, 0.0, 0.0, 0.0, 0.0, 0.0, 0.0, 0.0, 0.0, 0.0, 0.0, 0.0, 0.0, 0.0, 0.0, 0.0, 0.0, 0.0, 0.0, 0.0, 0.0, 0.0, 0.0, 0.0, 0.0, 0.0, 0.0, 0.0, 0.0, 0.0, 0.0, 0.0, 0.0, 0.0, 0.0, 0.0, 1.99, 2.49, 2.99, 2.99, 2.99, 2.99, 3.99, 4.99, 7.49, 10.99, 0.0, 0.0, 0.0, 0.0, 0.0, 0.0, 0.0, 0.0, 0.0, 0.0, 0.0, 0.0, 0.0, 0.0, 0.0, 0.0, 0.0, 0.0, 0.0, 0.0, 0.0, 0.0, 0.0, 0.0, 0.0, 0.0, 0.0, 0.0, 0.0, 0.0, 0.0, 0.0, 0.0, 0.0, 0.0, 0.0, 0.0, 0.0, 0.0, 0.0, 0.0, 0.0, 0.0, 0.0, 0.0, 0.0, 0.0, 0.0, 0.0, 0.0, 0.0, 0.0, 0.0, 0.0, 0.0, 0.0, 0.0, 0.0, 0.0, 0.0, 0.0, 0.0, 0.0, 0.0, 0.0, 0.0, 0.0, 0.0, 0.0, 0.0, 0.0, 0.0, 0.0, 0.0, 0.0, 0.0, 0.0, 0.0, 0.0, 0.0, 0.0, 0.0, 0.0, 0.0, 0.0, 0.0, 0.0, 0.0, 0.0, 0.0, 0.0, 0.0, 0.0, 0.0, 0.0, 0.0, 0.0, 0.0, 0.0, 0.0, 0.0, 0.0, 0.0, 0.0, 0.0, 0.0, 0.0, 0.0, 0.0, 0.0, 0.0, 0.0, 0.0, 0.0, 0.0, 0.0, 0.0, 0.0, 0.0, 0.0, 0.0, 0.0, 0.0, 0.0, 0.0, 0.0, 0.0, 0.0, 0.0, 0.0, 0.0, 0.0, 0.0, 0.0, 0.0, 0.0, 0.0, 0.0, 0.0, 0.0, 0.0, 0.0, 0.0, 0.0, 0.0, 0.0, 0.0, 0.0, 0.0, 0.0, 0.0, 0.0, 0.0, 0.0, 0.0, 0.0, 0.0, 0.0, 0.0, 0.0, 0.0, 0.0, 0.0, 0.0, 0.0, 0.0, 0.0, 0.99, 0.99, 1.99, 2.99, 0.0, 0.0, 0.0, 0.0, 0.0, 0.0, 0.0, 0.0, 0.0, 0.0, 0.0, 0.0, 0.0, 0.0, 0.0, 0.0, 0.0, 0.0, 0.0, 0.0, 0.0, 0.0, 0.0, 0.0, 0.0, 0.0, 0.0, 0.0, 0.0, 0.0, 0.0, 0.0, 0.0, 0.99, 0.99, 0.99, 1.49, 4.99, 14.99, 0.0, 0.0, 0.0, 0.0, 0.0, 0.0, 0.0, 0.0, 0.0, 0.0, 0.0, 0.0, 0.0, 0.0, 0.0, 0.0, 0.0, 0.0, 0.0, 0.0, 0.0, 0.0, 0.0, 0.0, 0.0, 0.0, 0.0, 0.0, 0.0, 0.0, 0.0, 0.0, 0.0, 0.0, 0.0, 0.0, 0.0, 0.0, 0.0, 0.0, 0.0, 0.0, 0.0, 0.0, 0.0, 0.0, 0.0, 0.0, 0.0, 0.0, 0.0, 0.0, 0.0, 0.0, 0.0, 0.0, 0.0, 0.0, 0.0, 0.0, 0.0, 0.0, 0.0, 0.0, 0.0, 0.0, 0.0, 0.0, 0.0, 0.0, 0.0, 0.0, 0.0, 0.0, 0.0, 0.0, 0.0, 0.0, 0.0, 0.0, 0.0, 0.0, 0.0, 0.0, 0.0, 0.0, 0.0, 0.0, 0.0, 0.0, 0.0, 0.0, 0.0, 0.0, 0.99, 1.2, 1.49, 1.59, 2.49, 2.99, 2.99, 3.99, 3.99, 3.99, 4.99, 9.99, 12.99, 14.99, 389.99, 399.99, 0.0, 0.0, 0.0, 0.0, 0.0, 0.0, 0.0, 0.0, 0.0, 0.0, 0.0, 0.0, 0.0, 0.0, 0.0, 0.0, 0.0, 0.0, 0.0, 0.0, 0.0, 0.0, 0.0, 0.0, 0.0, 0.0, 0.0, 0.0, 0.0, 0.0, 0.0, 0.0, 0.0, 0.0, 0.0, 0.0, 0.0, 0.0, 0.0, 0.0, 0.0, 0.0, 0.0, 0.0, 0.0, 0.0, 0.0, 0.0, 0.0, 0.0, 0.0, 0.0, 0.0, 0.0, 0.0, 0.0, 0.0, 0.0, 0.0, 0.0, 0.0, 0.0, 0.0, 0.0, 0.0, 0.0, 0.0, 0.0, 0.0, 0.0, 0.0, 0.0, 0.0, 0.0, 0.0, 0.0, 0.0, 0.0, 0.0, 0.0, 0.0, 0.0, 0.0, 0.0, 0.0, 0.0, 0.0, 0.0, 0.0, 0.0, 0.0, 0.0, 0.0, 0.0, 0.0, 0.0, 0.0, 0.0, 0.0, 0.0, 0.0, 0.0, 0.0, 0.0, 0.0, 0.0, 0.0, 0.0, 0.0, 0.0, 0.0, 0.0, 0.0, 0.0, 0.0, 0.0, 0.0, 0.0, 0.0, 0.0, 0.0, 0.0, 0.0, 0.0, 0.0, 0.0, 0.0, 0.0, 0.0, 6.99, 0.0, 0.0, 0.0, 0.0, 0.0, 0.0, 0.0, 0.0, 0.0, 0.0, 0.0, 0.0, 0.0, 0.0, 0.0, 0.0, 0.0, 0.0, 0.0, 0.0, 0.0, 0.0, 0.0, 0.0, 0.0, 0.0, 0.0, 0.0, 0.0, 0.0, 0.0, 0.0, 0.0, 0.0, 0.0, 0.0, 0.0, 0.0, 0.0, 0.0, 0.0, 0.0, 0.0, 0.0, 0.0, 0.0, 0.0, 0.99, 1.99, 1.99, 2.49, 4.99, 12.99, 399.99, 0.0, 0.0, 0.0, 0.0, 0.0, 0.0, 0.0, 0.0, 0.0, 0.0, 0.0, 0.0, 0.0, 0.0, 0.0, 0.0, 0.0, 0.0, 0.0, 0.0, 0.0, 0.0, 0.0, 0.0, 0.0, 0.0, 0.0, 0.0, 0.0, 0.0, 0.0, 0.0, 0.0, 0.0, 0.0, 0.0, 0.0, 0.0, 0.0, 0.0, 0.0, 0.0, 0.0, 0.0, 0.0, 0.0, 0.0, 0.0, 0.0, 0.0, 0.0, 0.0, 0.0, 0.0, 0.0, 0.0, 0.0, 0.0, 0.0, 0.0, 0.0, 0.0, 0.0, 0.0, 0.0, 0.0, 0.0, 0.0, 0.0, 0.0, 0.0, 0.0, 0.0, 0.0, 0.0, 0.0, 0.0, 0.0, 0.0, 0.0, 0.0, 0.0, 0.0, 0.0, 0.0, 0.0, 0.0, 0.0, 0.0, 0.0, 0.0, 0.0, 0.0, 0.0, 0.0, 0.0, 0.0, 0.0, 0.0, 0.0, 0.0, 0.0, 0.0, 0.0, 0.0, 0.0, 0.0, 0.0, 0.0, 0.0, 0.0, 0.0, 0.0, 0.0, 0.0, 0.0, 0.0, 0.0, 0.0, 0.0, 0.0, 0.0, 0.0, 0.0, 0.0, 0.0, 0.0, 0.0, 0.0, 0.0, 0.99, 2.99, 2.99, 3.99, 4.99, 4.99, 9.99, 14.99, 0.0, 0.0, 0.0, 0.0, 0.0, 0.0, 0.0, 0.0, 0.0, 0.0, 0.0, 0.0, 0.0, 0.0, 0.0, 0.0, 0.0, 0.0, 0.0, 0.0, 0.0, 0.0, 0.0, 0.0, 0.0, 0.0, 0.0, 0.0, 0.0, 0.0, 0.0, 0.0, 0.0, 0.0, 0.0, 0.0, 0.0, 0.0, 0.0, 0.0, 0.0, 0.0, 0.0, 0.0, 0.0, 0.0, 0.0, 0.0, 0.0, 0.0, 0.0, 0.0, 0.0, 0.0, 0.0, 0.0, 0.0, 0.0, 0.0, 0.0, 0.0, 0.0, 0.0, 0.0, 0.0, 0.0, 0.0, 0.0, 0.99, 1.99, 2.99, 2.99, 3.99, 0.0, 0.0, 0.0, 0.0, 0.0, 0.0, 0.0, 0.0, 0.0, 0.0, 0.0, 0.0, 0.0, 0.0, 0.0, 0.0, 0.0, 0.0, 0.0, 0.0, 0.0, 0.0, 0.0, 0.0, 0.0, 0.0, 0.0, 0.0, 0.0, 0.0, 0.0, 0.0, 0.0, 0.0, 0.0, 0.0, 0.0, 0.0, 0.0, 0.0, 0.0, 0.0, 0.0, 0.0, 0.0, 0.0, 0.0, 0.0, 0.0, 0.0, 0.0, 0.0, 0.0, 0.0, 0.0, 0.0, 0.0, 0.0, 0.0, 0.0, 0.0, 0.0, 0.0, 0.0, 0.0, 0.0, 0.0, 0.0, 0.0, 0.0, 0.0, 0.0, 0.0, 0.0, 0.0, 0.0, 0.0, 0.0, 0.0, 0.0, 0.0, 0.0, 0.0, 0.0, 0.0, 0.0, 0.0, 0.0, 0.0, 0.0, 0.0, 0.0, 0.0, 0.0, 0.0, 0.0, 0.0, 0.0, 0.0, 0.0, 0.0, 0.0, 0.0, 0.0, 1.99, 0.0, 0.0, 0.0, 0.0, 0.0, 0.0, 0.0, 0.0, 0.0, 0.0, 0.0, 0.0, 0.0, 0.0, 0.0, 0.0, 0.0, 0.0, 0.0, 0.0, 0.0, 0.0, 0.0, 0.0, 0.0, 0.0, 0.0, 0.0, 0.0, 0.0, 0.0, 0.0, 0.0, 0.0, 0.0, 0.0, 0.0, 0.0, 0.0, 4.77, 4.99, 9.99, 0.0, 0.0, 0.0, 0.0, 0.0, 0.0, 0.0, 0.0, 0.0, 0.0, 0.0, 0.0, 0.0, 0.0, 0.0, 0.0, 0.0, 0.0, 0.0, 0.0, 0.0, 0.0, 0.0, 0.0, 0.0, 0.0, 0.0, 0.0, 0.0, 0.0, 0.0, 0.0, 0.0, 0.0, 0.0, 0.0, 0.0, 0.0, 0.0, 0.0, 0.0, 0.0, 0.0, 0.0, 0.0, 0.0, 0.0, 2.49, 2.99, 2.99, 4.99, 0.0, 0.0, 0.0, 0.0, 0.0, 0.0, 0.0, 0.0, 0.0, 0.0, 0.0, 0.0, 0.0, 0.0, 0.0, 0.0, 0.0, 0.0, 0.0, 0.0, 0.0, 0.0, 0.0, 0.0, 0.0, 0.0, 0.0, 0.0, 0.0, 0.0, 0.0, 0.0, 0.0, 0.0, 0.0, 0.0, 0.0, 0.0, 0.0, 0.0, 0.0, 0.0, 0.0, 0.0, 0.0, 0.0, 0.0, 0.0, 0.0, 0.0, 0.0, 0.0, 0.0, 0.0, 0.0, 0.0, 0.0, 0.0, 0.0, 0.0, 0.0, 0.0, 0.0, 0.0, 0.99, 2.99, 3.99, 0.0, 0.0, 0.0], \"yaxis\": \"y\"}, {\"hoverlabel\": {\"namelength\": 0}, \"hovertemplate\": \"Category=BOOKS_AND_REFERENCE<br>Year=%{x}<br>Price=%{y}\", \"legendgroup\": \"Category=BOOKS_AND_REFERENCE\", \"marker\": {\"color\": \"#EF553B\", \"symbol\": \"diamond\"}, \"mode\": \"markers\", \"name\": \"Category=BOOKS_AND_REFERENCE\", \"showlegend\": true, \"type\": \"scattergl\", \"x\": [2011, 2013, 2013, 2013, 2014, 2014, 2014, 2014, 2014, 2014, 2014, 2014, 2014, 2015, 2015, 2015, 2015, 2015, 2015, 2015, 2015, 2015, 2015, 2015, 2015, 2015, 2015, 2015, 2015, 2015, 2015, 2015, 2015, 2015, 2015, 2015, 2016, 2016, 2016, 2016, 2016, 2016, 2016, 2016, 2016, 2016, 2016, 2016, 2016, 2016, 2016, 2016, 2016, 2016, 2016, 2016, 2016, 2016, 2016, 2016, 2016, 2016, 2016, 2017, 2017, 2017, 2017, 2017, 2017, 2017, 2017, 2017, 2017, 2017, 2017, 2017, 2017, 2017, 2017, 2017, 2017, 2017, 2017, 2017, 2017, 2017, 2017, 2017, 2017, 2017, 2017, 2017, 2017, 2017, 2017, 2017, 2017, 2017, 2017, 2017, 2017, 2017, 2017, 2017, 2017, 2017, 2017, 2017, 2017, 2017, 2017, 2017, 2017, 2018, 2018, 2018, 2018, 2018, 2018, 2018, 2018, 2018, 2018, 2018, 2018, 2018, 2018, 2018, 2018, 2018, 2018, 2018, 2018, 2018, 2018, 2018, 2018, 2018, 2018, 2018, 2018, 2018, 2018, 2018, 2018, 2018, 2018, 2018, 2018, 2018, 2018, 2018, 2018, 2018, 2018, 2018, 2018, 2018, 2018, 2018, 2018, 2018, 2018, 2018, 2018, 2018, 2018, 2018, 2018, 2018, 2018, 2018, 2018, 2018, 2018, 2018, 2018, 2018, 2018, 2018, 2018, 2018, 2018, 2018, 2018, 2018, 2018, 2018, 2018, 2018, 2018, 2018, 2018, 2018, 2018, 2018, 2018, 2018, 2018, 2018, 2018, 2018, 2018, 2018, 2018, 2018, 2018, 2018, 2018, 2018, 2018, 2018, 2018, 2018, 2018, 2018, 2018, 2018, 2018, 2018, 2018], \"xaxis\": \"x\", \"y\": [0.0, 0.0, 0.99, 0.99, 0.0, 1.96, 5.49, 0.0, 0.0, 5.99, 0.0, 0.0, 0.0, 0.0, 0.0, 0.99, 5.99, 5.99, 5.99, 6.49, 6.49, 6.49, 6.49, 0.0, 0.0, 0.0, 0.0, 0.0, 0.0, 0.0, 0.99, 0.0, 2.99, 1.75, 0.0, 0.0, 5.99, 0.0, 0.0, 0.0, 0.0, 0.0, 0.0, 3.08, 3.61, 5.99, 0.0, 0.0, 0.0, 0.0, 0.0, 0.0, 3.99, 0.0, 0.0, 0.0, 0.0, 4.6, 0.0, 0.0, 0.0, 0.0, 0.0, 0.0, 0.0, 0.0, 0.0, 0.0, 0.0, 0.0, 0.0, 0.0, 0.0, 0.0, 0.0, 0.0, 0.0, 0.0, 1.99, 0.0, 0.0, 0.0, 0.0, 0.0, 0.0, 0.0, 5.49, 5.49, 0.0, 0.0, 0.0, 0.0, 0.0, 0.0, 0.0, 0.0, 0.0, 0.0, 0.0, 0.0, 0.0, 0.0, 0.0, 5.99, 0.0, 0.0, 0.0, 0.0, 0.0, 0.0, 0.0, 0.0, 0.0, 0.0, 0.0, 0.0, 0.0, 0.0, 0.0, 0.0, 0.0, 0.0, 0.0, 0.0, 0.0, 0.0, 0.0, 0.0, 0.0, 0.0, 0.0, 0.0, 0.0, 0.0, 0.0, 0.0, 2.99, 0.0, 0.0, 0.0, 0.0, 0.0, 0.0, 0.0, 0.0, 0.0, 0.0, 4.49, 0.0, 0.0, 0.0, 0.0, 0.0, 0.0, 0.0, 0.0, 0.0, 0.0, 0.0, 0.0, 0.0, 0.0, 0.0, 0.0, 0.0, 0.0, 0.0, 0.0, 0.0, 0.0, 0.0, 0.0, 0.0, 0.0, 0.0, 0.0, 0.0, 0.0, 0.0, 0.0, 0.0, 0.0, 0.0, 0.0, 0.0, 0.0, 0.0, 0.0, 0.0, 0.0, 0.0, 0.0, 0.0, 0.0, 0.0, 0.0, 0.0, 0.0, 0.0, 0.0, 0.0, 0.0, 0.0, 0.0, 0.0, 0.0, 0.0, 0.0, 0.0, 0.0, 0.0, 0.0, 0.0, 0.0, 0.0, 0.0, 0.0, 0.0, 0.0, 0.0, 0.0], \"yaxis\": \"y\"}, {\"hoverlabel\": {\"namelength\": 0}, \"hovertemplate\": \"Category=BUSINESS<br>Year=%{x}<br>Price=%{y}\", \"legendgroup\": \"Category=BUSINESS\", \"marker\": {\"color\": \"#00cc96\", \"symbol\": \"square\"}, \"mode\": \"markers\", \"name\": \"Category=BUSINESS\", \"showlegend\": true, \"type\": \"scattergl\", \"x\": [2011, 2012, 2013, 2013, 2013, 2013, 2014, 2014, 2014, 2014, 2014, 2014, 2014, 2015, 2015, 2015, 2015, 2015, 2015, 2015, 2015, 2015, 2015, 2015, 2015, 2015, 2015, 2015, 2015, 2015, 2015, 2015, 2015, 2015, 2015, 2015, 2015, 2016, 2016, 2016, 2016, 2016, 2016, 2016, 2016, 2016, 2016, 2016, 2016, 2016, 2016, 2016, 2016, 2016, 2016, 2016, 2016, 2016, 2016, 2016, 2016, 2016, 2016, 2016, 2016, 2016, 2016, 2016, 2016, 2016, 2016, 2016, 2016, 2016, 2016, 2017, 2017, 2017, 2017, 2017, 2017, 2017, 2017, 2017, 2017, 2017, 2017, 2017, 2017, 2017, 2017, 2017, 2017, 2017, 2017, 2017, 2017, 2017, 2017, 2017, 2017, 2017, 2017, 2017, 2017, 2017, 2017, 2017, 2017, 2017, 2017, 2017, 2017, 2017, 2017, 2017, 2017, 2017, 2017, 2017, 2017, 2017, 2017, 2017, 2017, 2017, 2017, 2017, 2017, 2017, 2017, 2017, 2017, 2017, 2017, 2017, 2017, 2017, 2017, 2017, 2017, 2017, 2017, 2017, 2017, 2017, 2017, 2017, 2017, 2017, 2017, 2017, 2017, 2017, 2017, 2017, 2017, 2018, 2018, 2018, 2018, 2018, 2018, 2018, 2018, 2018, 2018, 2018, 2018, 2018, 2018, 2018, 2018, 2018, 2018, 2018, 2018, 2018, 2018, 2018, 2018, 2018, 2018, 2018, 2018, 2018, 2018, 2018, 2018, 2018, 2018, 2018, 2018, 2018, 2018, 2018, 2018, 2018, 2018, 2018, 2018, 2018, 2018, 2018, 2018, 2018, 2018, 2018, 2018, 2018, 2018, 2018, 2018, 2018, 2018, 2018, 2018, 2018, 2018, 2018, 2018, 2018, 2018, 2018, 2018, 2018, 2018, 2018, 2018, 2018, 2018, 2018, 2018, 2018, 2018, 2018, 2018, 2018, 2018, 2018, 2018, 2018, 2018, 2018, 2018, 2018, 2018, 2018, 2018, 2018, 2018, 2018, 2018, 2018, 2018, 2018, 2018, 2018, 2018, 2018, 2018, 2018, 2018, 2018, 2018, 2018, 2018, 2018, 2018, 2018, 2018, 2018, 2018, 2018, 2018, 2018, 2018, 2018, 2018, 2018, 2018, 2018, 2018, 2018, 2018, 2018, 2018, 2018, 2018, 2018, 2018, 2018, 2018, 2018, 2018, 2018, 2018, 2018, 2018, 2018, 2018, 2018, 2018, 2018, 2018, 2018, 2018, 2018, 2018, 2018, 2018, 2018, 2018, 2018, 2018, 2018, 2018, 2018, 2018, 2018, 2018, 2018, 2018, 2018, 2018, 2018, 2018, 2018, 2018, 2018, 2018, 2018, 2018, 2018, 2018, 2018, 2018, 2018, 2018, 2018, 2018, 2018, 2018, 2018, 2018, 2018, 2018, 2018, 2018, 2018, 2018, 2018, 2018, 2018, 2018, 2018, 2018, 2018, 2018, 2018, 2018, 2018, 2018, 2018, 2018, 2018, 2018, 2018, 2018, 2018, 2018, 2018, 2018, 2018, 2018, 2018, 2018, 2018, 2018, 2018, 2018, 2018, 2018, 2018, 2018, 2018, 2018, 2018, 2018, 2018, 2018, 2018, 2018, 2018, 2018, 2018, 2018, 2018, 2018, 2018, 2018, 2018, 2018, 2018, 2018, 2018, 2018, 2018, 2018, 2018, 2018, 2018, 2018, 2018, 2018, 2018, 2018, 2018, 2018, 2018], \"xaxis\": \"x\", \"y\": [0.0, 0.0, 0.0, 0.0, 0.0, 0.0, 0.0, 0.0, 2.49, 0.0, 0.0, 0.0, 0.0, 0.0, 0.0, 0.0, 0.0, 0.0, 0.0, 0.0, 0.0, 0.0, 0.0, 0.0, 0.0, 0.0, 0.0, 0.0, 0.0, 0.0, 0.0, 0.0, 0.0, 0.0, 0.0, 0.0, 0.0, 0.0, 0.0, 0.0, 0.0, 0.0, 0.0, 0.0, 0.0, 0.0, 0.0, 0.0, 0.0, 0.0, 0.0, 0.0, 0.0, 0.0, 0.0, 0.0, 0.0, 0.0, 0.0, 0.0, 0.0, 0.0, 0.0, 2.99, 0.0, 0.0, 19.9, 0.0, 0.0, 0.0, 0.0, 0.0, 0.0, 0.0, 0.0, 0.0, 0.0, 0.0, 0.0, 0.0, 0.0, 0.0, 0.0, 0.0, 0.0, 0.0, 0.0, 0.0, 0.0, 0.0, 0.0, 3.99, 4.99, 0.0, 0.0, 0.0, 0.0, 0.0, 0.0, 0.0, 0.0, 0.0, 89.99, 0.0, 0.0, 0.0, 0.0, 0.0, 0.0, 0.0, 0.0, 0.0, 0.0, 0.0, 0.0, 0.0, 0.0, 0.0, 0.0, 0.0, 0.0, 0.0, 0.0, 0.0, 0.0, 0.0, 0.0, 0.0, 12.99, 0.0, 0.0, 0.0, 4.99, 0.0, 0.0, 0.0, 0.99, 0.0, 0.0, 0.0, 0.0, 0.0, 0.0, 0.0, 0.0, 0.0, 0.0, 0.0, 0.0, 0.0, 0.0, 0.0, 0.0, 0.0, 17.99, 0.0, 0.0, 0.0, 0.0, 0.0, 0.0, 0.0, 0.0, 0.0, 0.0, 0.0, 0.0, 0.0, 0.0, 0.0, 0.0, 0.0, 0.0, 0.0, 0.0, 0.0, 0.0, 0.0, 0.0, 0.0, 0.0, 0.0, 0.0, 0.0, 0.0, 0.0, 0.0, 0.0, 0.0, 0.0, 0.0, 0.0, 0.0, 0.0, 0.0, 0.0, 0.0, 0.0, 0.0, 0.0, 0.0, 0.0, 0.0, 0.0, 0.0, 0.0, 0.0, 0.0, 0.0, 0.0, 0.0, 0.0, 0.0, 0.0, 0.0, 0.0, 0.0, 0.0, 0.0, 0.0, 0.0, 0.0, 0.0, 0.0, 0.0, 0.0, 0.0, 0.0, 0.0, 0.0, 0.0, 0.0, 0.0, 0.0, 0.0, 0.0, 0.0, 0.0, 0.0, 0.0, 0.0, 0.0, 0.0, 0.0, 0.0, 0.0, 0.0, 0.0, 0.0, 0.0, 0.0, 0.0, 0.0, 0.0, 0.0, 0.0, 0.0, 0.0, 0.0, 0.0, 0.0, 0.0, 0.0, 0.0, 0.0, 0.0, 0.0, 0.0, 0.0, 0.0, 0.0, 0.0, 0.0, 0.0, 0.0, 0.0, 0.0, 0.0, 0.0, 0.0, 0.0, 0.0, 0.0, 0.0, 0.0, 0.0, 0.0, 0.0, 0.0, 0.0, 0.0, 0.0, 0.0, 0.0, 0.0, 0.0, 0.0, 0.0, 0.0, 0.0, 0.0, 0.0, 0.0, 0.0, 0.0, 0.0, 0.0, 0.0, 0.0, 0.0, 0.0, 0.0, 0.0, 0.0, 0.0, 0.0, 0.0, 0.0, 0.0, 0.0, 0.0, 0.0, 0.0, 0.0, 0.0, 0.0, 0.0, 0.0, 0.0, 0.0, 0.0, 0.0, 0.0, 0.0, 4.99, 0.0, 0.0, 0.0, 0.0, 0.0, 0.0, 0.0, 0.0, 0.0, 0.0, 0.0, 0.0, 0.0, 0.0, 0.0, 0.0, 0.0, 0.0, 0.0, 0.0, 0.0, 0.0, 0.0, 0.0, 0.0, 0.0, 0.0, 0.0, 0.0, 0.0, 0.0, 0.0, 0.0, 0.0, 0.0, 0.0, 0.0, 0.0, 0.0, 0.0, 0.0, 0.0, 0.0, 0.0, 0.0, 0.0, 0.0, 0.0, 0.0, 0.0, 0.0, 0.0, 0.0, 0.0, 0.0, 0.0, 8.99, 0.0, 0.0, 0.0, 0.0, 0.0, 0.0, 0.0, 0.0, 0.0, 0.0, 0.0, 0.0, 0.0, 0.0, 0.0, 0.0, 0.0, 0.0, 0.0, 0.0, 0.0, 0.0, 0.0, 0.0, 0.0, 0.0, 0.0, 0.0], \"yaxis\": \"y\"}, {\"hoverlabel\": {\"namelength\": 0}, \"hovertemplate\": \"Category=GAME<br>Year=%{x}<br>Price=%{y}\", \"legendgroup\": \"Category=GAME\", \"marker\": {\"color\": \"#ab63fa\", \"symbol\": \"x\"}, \"mode\": \"markers\", \"name\": \"Category=GAME\", \"showlegend\": true, \"type\": \"scattergl\", \"x\": [2011, 2011, 2011, 2011, 2012, 2012, 2013, 2013, 2013, 2013, 2013, 2013, 2013, 2013, 2013, 2013, 2013, 2013, 2013, 2013, 2013, 2013, 2013, 2013, 2014, 2014, 2014, 2014, 2014, 2014, 2014, 2014, 2014, 2014, 2014, 2014, 2014, 2014, 2014, 2014, 2014, 2014, 2014, 2014, 2014, 2014, 2014, 2014, 2014, 2014, 2015, 2015, 2015, 2015, 2015, 2015, 2015, 2015, 2015, 2015, 2015, 2015, 2015, 2015, 2015, 2015, 2015, 2015, 2015, 2015, 2015, 2015, 2015, 2015, 2015, 2015, 2015, 2015, 2015, 2015, 2015, 2015, 2015, 2015, 2015, 2015, 2015, 2015, 2015, 2015, 2015, 2015, 2015, 2015, 2015, 2015, 2015, 2015, 2015, 2015, 2015, 2015, 2015, 2015, 2015, 2015, 2015, 2015, 2015, 2015, 2015, 2015, 2016, 2016, 2016, 2016, 2016, 2016, 2016, 2016, 2016, 2016, 2016, 2016, 2016, 2016, 2016, 2016, 2016, 2016, 2016, 2016, 2016, 2016, 2016, 2016, 2016, 2016, 2016, 2016, 2016, 2016, 2016, 2016, 2016, 2016, 2016, 2016, 2016, 2016, 2016, 2016, 2016, 2016, 2016, 2016, 2016, 2016, 2016, 2016, 2016, 2016, 2016, 2016, 2016, 2016, 2016, 2016, 2016, 2016, 2016, 2016, 2016, 2016, 2016, 2016, 2016, 2016, 2016, 2016, 2016, 2016, 2016, 2016, 2016, 2016, 2016, 2016, 2016, 2016, 2016, 2017, 2017, 2017, 2017, 2017, 2017, 2017, 2017, 2017, 2017, 2017, 2017, 2017, 2017, 2017, 2017, 2017, 2017, 2017, 2017, 2017, 2017, 2017, 2017, 2017, 2017, 2017, 2017, 2017, 2017, 2017, 2017, 2017, 2017, 2017, 2017, 2017, 2017, 2017, 2017, 2017, 2017, 2017, 2017, 2017, 2017, 2017, 2017, 2017, 2017, 2017, 2017, 2017, 2017, 2017, 2017, 2017, 2017, 2017, 2017, 2017, 2017, 2017, 2017, 2017, 2017, 2017, 2017, 2017, 2017, 2017, 2017, 2017, 2017, 2017, 2017, 2017, 2017, 2017, 2017, 2017, 2017, 2017, 2017, 2017, 2017, 2017, 2017, 2017, 2017, 2017, 2017, 2017, 2017, 2017, 2017, 2017, 2017, 2017, 2017, 2017, 2017, 2017, 2017, 2017, 2017, 2017, 2017, 2017, 2017, 2017, 2017, 2017, 2017, 2017, 2017, 2017, 2017, 2017, 2017, 2017, 2017, 2017, 2017, 2017, 2017, 2017, 2017, 2017, 2017, 2017, 2017, 2017, 2017, 2017, 2017, 2017, 2017, 2017, 2017, 2017, 2017, 2017, 2017, 2017, 2017, 2017, 2017, 2017, 2017, 2017, 2017, 2017, 2017, 2017, 2017, 2017, 2017, 2017, 2017, 2017, 2017, 2017, 2017, 2017, 2017, 2017, 2017, 2017, 2017, 2017, 2017, 2017, 2017, 2017, 2018, 2018, 2018, 2018, 2018, 2018, 2018, 2018, 2018, 2018, 2018, 2018, 2018, 2018, 2018, 2018, 2018, 2018, 2018, 2018, 2018, 2018, 2018, 2018, 2018, 2018, 2018, 2018, 2018, 2018, 2018, 2018, 2018, 2018, 2018, 2018, 2018, 2018, 2018, 2018, 2018, 2018, 2018, 2018, 2018, 2018, 2018, 2018, 2018, 2018, 2018, 2018, 2018, 2018, 2018, 2018, 2018, 2018, 2018, 2018, 2018, 2018, 2018, 2018, 2018, 2018, 2018, 2018, 2018, 2018, 2018, 2018, 2018, 2018, 2018, 2018, 2018, 2018, 2018, 2018, 2018, 2018, 2018, 2018, 2018, 2018, 2018, 2018, 2018, 2018, 2018, 2018, 2018, 2018, 2018, 2018, 2018, 2018, 2018, 2018, 2018, 2018, 2018, 2018, 2018, 2018, 2018, 2018, 2018, 2018, 2018, 2018, 2018, 2018, 2018, 2018, 2018, 2018, 2018, 2018, 2018, 2018, 2018, 2018, 2018, 2018, 2018, 2018, 2018, 2018, 2018, 2018, 2018, 2018, 2018, 2018, 2018, 2018, 2018, 2018, 2018, 2018, 2018, 2018, 2018, 2018, 2018, 2018, 2018, 2018, 2018, 2018, 2018, 2018, 2018, 2018, 2018, 2018, 2018, 2018, 2018, 2018, 2018, 2018, 2018, 2018, 2018, 2018, 2018, 2018, 2018, 2018, 2018, 2018, 2018, 2018, 2018, 2018, 2018, 2018, 2018, 2018, 2018, 2018, 2018, 2018, 2018, 2018, 2018, 2018, 2018, 2018, 2018, 2018, 2018, 2018, 2018, 2018, 2018, 2018, 2018, 2018, 2018, 2018, 2018, 2018, 2018, 2018, 2018, 2018, 2018, 2018, 2018, 2018, 2018, 2018, 2018, 2018, 2018, 2018, 2018, 2018, 2018, 2018, 2018, 2018, 2018, 2018, 2018, 2018, 2018, 2018, 2018, 2018, 2018, 2018, 2018, 2018, 2018, 2018, 2018, 2018, 2018, 2018, 2018, 2018, 2018, 2018, 2018, 2018, 2018, 2018, 2018, 2018, 2018, 2018, 2018, 2018, 2018, 2018, 2018, 2018, 2018, 2018, 2018, 2018, 2018, 2018, 2018, 2018, 2018, 2018, 2018, 2018, 2018, 2018, 2018, 2018, 2018, 2018, 2018, 2018, 2018, 2018, 2018, 2018, 2018, 2018, 2018, 2018, 2018, 2018, 2018, 2018, 2018, 2018, 2018, 2018, 2018, 2018, 2018, 2018, 2018, 2018, 2018, 2018, 2018, 2018, 2018, 2018, 2018, 2018, 2018, 2018, 2018, 2018, 2018, 2018, 2018, 2018, 2018, 2018, 2018, 2018, 2018, 2018, 2018, 2018, 2018, 2018, 2018, 2018, 2018, 2018, 2018, 2018, 2018, 2018, 2018, 2018, 2018, 2018, 2018, 2018, 2018, 2018, 2018, 2018, 2018, 2018, 2018, 2018, 2018, 2018, 2018, 2018, 2018, 2018, 2018, 2018, 2018, 2018, 2018, 2018, 2018, 2018, 2018, 2018, 2018, 2018, 2018, 2018, 2018, 2018, 2018, 2018, 2018, 2018, 2018, 2018, 2018, 2018, 2018, 2018, 2018, 2018, 2018, 2018, 2018, 2018, 2018, 2018, 2018, 2018, 2018, 2018, 2018, 2018, 2018, 2018, 2018, 2018, 2018, 2018, 2018, 2018, 2018, 2018, 2018, 2018, 2018, 2018, 2018, 2018, 2018, 2018, 2018, 2018, 2018, 2018, 2018, 2018, 2018, 2018, 2018, 2018, 2018, 2018, 2018, 2018, 2018, 2018, 2018, 2018, 2018, 2018, 2018, 2018, 2018, 2018, 2018, 2018, 2018, 2018, 2018, 2018, 2018, 2018, 2018, 2018, 2018, 2018, 2018, 2018, 2018, 2018, 2018, 2018, 2018, 2018, 2018, 2018, 2018, 2018, 2018, 2018, 2018, 2018, 2018, 2018, 2018, 2018, 2018, 2018, 2018, 2018, 2018, 2018, 2018, 2018, 2018, 2018, 2018, 2018, 2018, 2018, 2018, 2018, 2018, 2018, 2018, 2018, 2018, 2018, 2018, 2018, 2018, 2018, 2018, 2018, 2018, 2018, 2018, 2018, 2018, 2018, 2018, 2018, 2018, 2018, 2018, 2018, 2018, 2018, 2018, 2018, 2018, 2018, 2018, 2018, 2018, 2018, 2018, 2018, 2018, 2018, 2018, 2018, 2018, 2018, 2018, 2018, 2018, 2018, 2018, 2018, 2018, 2018, 2018, 2018, 2018, 2018, 2018, 2018, 2018, 2018, 2018, 2018, 2018, 2018, 2018, 2018, 2018, 2018, 2018, 2018, 2018, 2018, 2018, 2018, 2018, 2018, 2018, 2018, 2018, 2018, 2018, 2018, 2018, 2018, 2018, 2018, 2018, 2018, 2018, 2018, 2018, 2018, 2018, 2018, 2018, 2018, 2018, 2018, 2018, 2018, 2018, 2018, 2018, 2018, 2018, 2018, 2018, 2018, 2018, 2018], \"xaxis\": \"x\", \"y\": [0.0, 0.0, 0.0, 0.0, 0.0, 0.0, 0.0, 0.0, 0.0, 0.0, 0.0, 0.0, 0.0, 0.0, 0.0, 1.99, 0.0, 0.0, 0.0, 0.0, 0.0, 0.0, 1.99, 0.0, 0.99, 1.99, 0.0, 0.0, 0.0, 2.99, 0.0, 0.0, 0.0, 0.0, 0.0, 2.99, 0.0, 0.0, 0.0, 0.0, 0.0, 0.0, 0.0, 0.99, 0.0, 0.0, 0.0, 0.0, 0.0, 0.0, 0.0, 0.99, 3.49, 0.0, 0.0, 0.0, 0.0, 0.0, 0.0, 0.0, 0.0, 6.99, 0.0, 0.0, 0.0, 0.0, 0.0, 0.0, 0.0, 0.0, 16.99, 17.99, 0.0, 0.0, 0.0, 0.0, 0.0, 0.0, 0.0, 0.99, 1.99, 4.49, 0.0, 0.0, 0.0, 0.0, 0.0, 0.0, 0.0, 0.0, 0.0, 0.0, 2.99, 2.99, 9.99, 0.0, 0.0, 0.0, 0.0, 0.0, 0.0, 0.0, 0.0, 0.0, 0.0, 0.0, 4.99, 0.0, 0.0, 0.0, 0.0, 0.0, 0.99, 0.0, 0.0, 0.0, 0.0, 0.0, 0.0, 1.61, 3.99, 0.0, 0.0, 0.0, 0.0, 0.0, 0.0, 0.0, 0.0, 0.0, 0.0, 0.0, 0.0, 0.0, 0.99, 4.99, 0.0, 0.0, 0.0, 0.0, 0.0, 0.0, 0.0, 0.0, 0.0, 0.0, 0.0, 4.99, 0.0, 0.0, 0.0, 0.0, 0.0, 0.0, 0.0, 0.0, 0.0, 0.99, 0.0, 0.0, 0.0, 0.0, 0.0, 0.0, 2.99, 6.99, 0.0, 0.0, 0.0, 0.0, 0.0, 0.0, 0.0, 0.0, 0.0, 0.0, 0.0, 0.0, 0.99, 1.99, 0.0, 0.0, 0.0, 0.0, 0.0, 0.0, 0.0, 0.0, 0.0, 0.0, 1.99, 0.99, 0.99, 1.49, 0.0, 0.0, 0.0, 0.0, 0.0, 0.0, 0.0, 0.0, 0.0, 0.99, 0.99, 1.99, 4.99, 0.0, 0.0, 0.0, 0.0, 0.0, 0.0, 0.0, 0.0, 0.0, 0.0, 0.0, 0.0, 0.0, 0.0, 0.0, 0.0, 0.0, 0.0, 0.0, 0.0, 0.0, 0.0, 0.0, 0.0, 0.0, 0.0, 0.0, 0.0, 0.0, 0.0, 0.0, 0.0, 0.0, 0.0, 0.0, 0.0, 0.0, 0.0, 0.0, 0.0, 0.0, 0.0, 0.0, 0.0, 0.99, 1.99, 2.99, 7.99, 0.0, 0.0, 0.0, 0.0, 0.0, 0.0, 0.0, 0.0, 0.0, 0.0, 0.0, 0.0, 0.0, 0.0, 0.0, 0.0, 0.0, 0.0, 0.0, 0.0, 0.0, 0.0, 0.0, 0.0, 0.0, 0.0, 0.99, 14.0, 0.0, 0.0, 0.0, 0.0, 0.0, 0.0, 0.0, 0.0, 0.0, 0.0, 0.0, 0.0, 0.0, 0.0, 0.0, 0.0, 0.0, 0.0, 0.0, 0.0, 0.0, 0.0, 0.0, 0.0, 1.99, 2.99, 4.99, 5.99, 0.0, 0.0, 0.0, 0.0, 0.0, 0.99, 1.99, 0.0, 0.0, 0.0, 0.0, 0.0, 0.0, 0.0, 0.0, 0.0, 0.0, 0.0, 0.0, 0.0, 0.0, 0.0, 0.0, 0.0, 0.0, 0.0, 0.0, 1.99, 0.0, 0.0, 0.0, 0.0, 0.0, 0.0, 0.0, 0.0, 0.99, 0.0, 0.0, 0.0, 0.0, 0.0, 0.0, 0.0, 0.0, 0.0, 0.0, 0.0, 0.0, 0.0, 0.0, 0.0, 0.0, 0.0, 0.0, 0.99, 0.0, 0.0, 0.0, 0.0, 0.0, 0.0, 0.0, 0.0, 0.0, 0.0, 0.0, 0.99, 2.49, 6.99, 0.0, 0.0, 0.0, 0.0, 0.0, 0.0, 0.0, 0.0, 0.0, 0.0, 0.0, 0.0, 0.0, 0.0, 0.0, 0.0, 0.0, 0.0, 0.0, 0.0, 0.0, 0.0, 0.0, 0.0, 0.0, 0.0, 0.0, 0.0, 0.0, 0.0, 0.0, 0.0, 0.0, 0.0, 0.0, 0.0, 0.0, 0.0, 0.0, 0.0, 0.0, 0.0, 0.0, 0.0, 0.0, 0.0, 0.0, 0.0, 0.0, 0.0, 0.0, 0.0, 0.0, 0.0, 0.0, 0.0, 0.0, 0.0, 0.0, 0.0, 0.0, 0.0, 0.0, 0.0, 0.0, 0.0, 0.0, 0.0, 0.0, 0.0, 0.0, 0.0, 0.0, 0.0, 0.0, 0.0, 0.0, 0.0, 0.0, 0.0, 0.0, 0.0, 0.0, 0.0, 0.0, 0.0, 0.0, 0.0, 0.0, 0.0, 0.99, 0.99, 0.99, 0.99, 0.0, 0.0, 0.0, 0.0, 0.0, 0.0, 0.0, 0.0, 0.0, 0.99, 0.0, 0.0, 0.0, 0.0, 0.0, 0.0, 0.0, 0.0, 0.0, 0.0, 0.0, 0.0, 0.0, 0.0, 0.0, 0.0, 0.0, 0.0, 0.0, 0.0, 3.99, 4.99, 4.99, 4.99, 0.0, 0.0, 0.0, 0.0, 0.0, 0.0, 0.0, 0.0, 0.0, 0.0, 0.0, 0.0, 0.0, 0.0, 0.0, 0.0, 0.0, 0.0, 0.0, 0.0, 0.0, 0.0, 0.0, 0.0, 0.0, 0.0, 0.0, 0.0, 0.0, 0.0, 0.0, 0.0, 0.0, 0.0, 0.0, 0.0, 0.0, 0.0, 0.0, 0.0, 0.0, 0.0, 0.0, 0.0, 0.0, 0.0, 0.0, 0.0, 0.0, 0.0, 0.0, 0.0, 0.0, 0.0, 0.0, 0.0, 0.0, 0.0, 0.0, 0.0, 0.0, 0.0, 0.0, 0.0, 0.0, 0.0, 0.0, 0.0, 0.0, 0.0, 0.0, 0.0, 0.0, 0.0, 0.0, 0.0, 0.0, 0.0, 0.0, 0.0, 0.0, 0.0, 0.0, 0.0, 0.0, 0.0, 0.0, 0.0, 0.0, 0.0, 0.0, 0.0, 0.0, 0.0, 0.0, 0.0, 0.0, 0.0, 0.0, 0.0, 0.0, 0.0, 0.0, 0.0, 0.0, 0.0, 0.0, 0.0, 0.0, 0.0, 0.0, 0.0, 0.0, 0.0, 0.0, 0.0, 0.0, 0.0, 0.0, 0.0, 0.0, 0.0, 0.0, 0.0, 0.0, 0.0, 0.0, 0.0, 0.0, 0.0, 0.0, 0.0, 0.0, 0.0, 0.0, 0.0, 0.0, 0.0, 0.0, 0.0, 0.0, 0.0, 0.0, 0.0, 0.0, 0.0, 0.0, 0.0, 0.99, 0.0, 0.0, 0.0, 0.0, 0.0, 0.0, 0.0, 0.0, 0.99, 4.99, 0.0, 0.0, 0.0, 0.0, 0.0, 0.0, 0.0, 0.0, 0.0, 0.0, 0.0, 0.0, 0.0, 0.0, 0.0, 0.0, 0.0, 0.0, 0.0, 0.0, 0.0, 0.0, 0.0, 0.0, 0.0, 0.0, 0.0, 0.0, 0.0, 0.0, 0.0, 0.0, 0.0, 0.0, 0.0, 0.0, 0.0, 0.0, 0.0, 0.0, 0.0, 0.0, 0.0, 0.0, 1.99, 1.99, 2.99, 2.99, 2.99, 2.99, 3.99, 4.99, 4.99, 4.99, 4.99, 0.0, 0.0, 0.0, 0.0, 0.0, 0.0, 0.0, 0.0, 0.0, 0.0, 0.0, 0.0, 0.0, 0.0, 0.0, 0.0, 0.0, 0.0, 0.0, 0.0, 0.0, 0.0, 0.0, 0.0, 0.0, 0.0, 0.0, 0.0, 0.0, 0.0, 0.0, 0.0, 0.0, 0.0, 0.0, 0.0, 0.0, 0.0, 0.0, 0.0, 0.0, 0.0, 0.0, 0.0, 0.0, 0.0, 0.0, 0.0, 0.0, 0.0, 0.0, 0.0, 0.0, 0.0, 0.0, 0.0, 0.0, 0.0, 0.0, 0.0, 6.99, 0.0, 0.0, 0.0, 0.0, 0.0, 0.0, 0.0, 0.0, 0.0, 0.0, 0.0, 0.0, 0.0, 0.0, 0.0, 0.0, 0.0, 0.0, 0.0, 0.0, 0.0, 0.0, 0.0, 0.0, 0.0, 0.0, 0.0, 0.0, 0.0, 0.0, 0.0, 0.0, 0.0, 0.0, 0.0, 0.0, 0.0, 0.0, 0.0, 0.0, 0.0, 0.0, 0.0, 0.0, 0.0, 0.0, 0.0, 0.0, 0.0, 0.0, 0.0, 0.0, 0.0, 0.0, 0.0, 0.0, 0.0, 0.0, 0.0, 0.0, 0.0, 0.0, 0.0, 0.0, 0.0, 0.0, 0.0, 0.0, 0.0, 0.0, 0.0, 0.0, 0.0, 0.0, 0.0, 0.0, 0.0, 0.0, 0.0, 0.0, 0.0, 0.0, 0.0, 0.0, 0.0, 0.0, 0.0, 0.0, 4.99, 0.0, 0.0, 0.0, 0.0, 0.0, 0.0, 0.0, 0.0, 0.0, 0.0, 0.0, 0.0, 0.0, 0.0, 0.0, 0.0, 0.0, 0.0, 0.0, 0.0, 0.0, 0.0, 0.0, 0.0, 0.0, 0.0, 0.0, 0.0, 0.0, 0.0, 0.0, 0.0, 0.0, 0.0, 0.0, 0.0, 0.0, 0.0, 0.0, 0.0, 0.0, 0.0, 0.0, 0.0, 0.0, 0.0, 0.0, 0.0, 0.0, 0.0, 0.0, 0.0, 0.0, 4.49, 0.0, 0.0, 0.0, 0.0, 0.0, 0.0, 0.0, 0.0, 0.0, 0.0, 0.0, 0.0, 0.0, 0.0, 0.0, 0.0, 0.0, 0.0, 0.0, 0.0, 0.0, 0.0, 0.0, 0.0, 0.0, 0.0, 0.0, 0.0, 0.0, 0.0, 0.0, 0.0, 0.0, 0.0, 0.0], \"yaxis\": \"y\"}, {\"hoverlabel\": {\"namelength\": 0}, \"hovertemplate\": \"Category=LIBRARIES_AND_DEMO<br>Year=%{x}<br>Price=%{y}\", \"legendgroup\": \"Category=LIBRARIES_AND_DEMO\", \"marker\": {\"color\": \"#FFA15A\", \"symbol\": \"cross\"}, \"mode\": \"markers\", \"name\": \"Category=LIBRARIES_AND_DEMO\", \"showlegend\": true, \"type\": \"scattergl\", \"x\": [2011, 2012, 2013, 2014, 2015, 2015, 2016, 2016, 2016, 2016, 2016, 2016, 2017, 2017, 2017, 2017, 2017, 2017, 2017, 2017, 2017, 2017, 2017, 2017, 2017, 2017, 2017, 2017, 2017, 2017, 2017, 2017, 2017, 2017, 2017, 2017, 2017, 2017, 2017, 2017, 2017, 2017, 2017, 2017, 2017, 2017, 2017, 2018, 2018, 2018, 2018, 2018, 2018, 2018, 2018, 2018, 2018, 2018, 2018, 2018, 2018, 2018, 2018, 2018, 2018, 2018, 2018, 2018, 2018, 2018, 2018, 2018, 2018, 2018, 2018, 2018, 2018, 2018, 2018, 2018, 2018, 2018, 2018], \"xaxis\": \"x\", \"y\": [0.0, 0.0, 0.0, 0.0, 0.0, 0.0, 0.0, 0.0, 0.99, 0.0, 0.0, 0.0, 0.0, 0.0, 0.0, 0.0, 0.0, 0.0, 0.0, 0.0, 0.0, 0.0, 0.0, 0.0, 0.0, 0.0, 0.0, 0.0, 0.0, 0.0, 0.0, 0.0, 0.0, 0.0, 0.0, 0.0, 0.0, 0.0, 0.0, 0.0, 0.0, 0.0, 0.0, 0.0, 0.0, 0.0, 0.0, 0.0, 0.0, 0.0, 0.0, 0.0, 0.0, 0.0, 0.0, 0.0, 0.0, 0.0, 0.0, 0.0, 0.0, 0.0, 0.0, 0.0, 0.0, 0.0, 0.0, 0.0, 0.0, 0.0, 0.0, 0.0, 0.0, 0.0, 0.0, 0.0, 0.0, 0.0, 0.0, 0.0, 0.0, 0.0, 0.0], \"yaxis\": \"y\"}, {\"hoverlabel\": {\"namelength\": 0}, \"hovertemplate\": \"Category=LIFESTYLE<br>Year=%{x}<br>Price=%{y}\", \"legendgroup\": \"Category=LIFESTYLE\", \"marker\": {\"color\": \"#19d3f3\", \"symbol\": \"circle\"}, \"mode\": \"markers\", \"name\": \"Category=LIFESTYLE\", \"showlegend\": true, \"type\": \"scattergl\", \"x\": [2011, 2013, 2013, 2013, 2014, 2014, 2014, 2014, 2014, 2014, 2015, 2015, 2015, 2015, 2015, 2015, 2015, 2015, 2015, 2015, 2015, 2015, 2015, 2015, 2015, 2015, 2015, 2015, 2016, 2016, 2016, 2016, 2016, 2016, 2016, 2016, 2016, 2016, 2016, 2016, 2016, 2016, 2016, 2016, 2016, 2016, 2016, 2016, 2016, 2016, 2016, 2016, 2016, 2016, 2016, 2016, 2016, 2016, 2016, 2016, 2016, 2016, 2016, 2016, 2016, 2016, 2017, 2017, 2017, 2017, 2017, 2017, 2017, 2017, 2017, 2017, 2017, 2017, 2017, 2017, 2017, 2017, 2017, 2017, 2017, 2017, 2017, 2017, 2017, 2017, 2017, 2017, 2017, 2017, 2017, 2017, 2017, 2017, 2017, 2017, 2017, 2017, 2017, 2017, 2017, 2017, 2017, 2017, 2017, 2017, 2017, 2017, 2017, 2017, 2017, 2017, 2017, 2017, 2017, 2017, 2017, 2017, 2017, 2017, 2017, 2017, 2017, 2017, 2017, 2017, 2017, 2017, 2017, 2017, 2017, 2017, 2017, 2017, 2017, 2017, 2017, 2017, 2017, 2017, 2017, 2017, 2017, 2017, 2017, 2017, 2017, 2017, 2018, 2018, 2018, 2018, 2018, 2018, 2018, 2018, 2018, 2018, 2018, 2018, 2018, 2018, 2018, 2018, 2018, 2018, 2018, 2018, 2018, 2018, 2018, 2018, 2018, 2018, 2018, 2018, 2018, 2018, 2018, 2018, 2018, 2018, 2018, 2018, 2018, 2018, 2018, 2018, 2018, 2018, 2018, 2018, 2018, 2018, 2018, 2018, 2018, 2018, 2018, 2018, 2018, 2018, 2018, 2018, 2018, 2018, 2018, 2018, 2018, 2018, 2018, 2018, 2018, 2018, 2018, 2018, 2018, 2018, 2018, 2018, 2018, 2018, 2018, 2018, 2018, 2018, 2018, 2018, 2018, 2018, 2018, 2018, 2018, 2018, 2018, 2018, 2018, 2018, 2018, 2018, 2018, 2018, 2018, 2018, 2018, 2018, 2018, 2018, 2018, 2018, 2018, 2018, 2018, 2018, 2018, 2018, 2018, 2018, 2018, 2018, 2018, 2018, 2018, 2018, 2018, 2018, 2018, 2018, 2018, 2018, 2018, 2018, 2018, 2018, 2018, 2018, 2018, 2018, 2018, 2018, 2018, 2018, 2018, 2018, 2018, 2018, 2018, 2018, 2018, 2018, 2018, 2018, 2018, 2018, 2018, 2018, 2018, 2018, 2018, 2018, 2018, 2018, 2018, 2018, 2018, 2018, 2018, 2018, 2018, 2018, 2018, 2018, 2018, 2018, 2018, 2018, 2018, 2018, 2018, 2018, 2018, 2018, 2018, 2018, 2018, 2018, 2018, 2018, 2018, 2018, 2018, 2018, 2018, 2018, 2018, 2018, 2018, 2018, 2018, 2018, 2018, 2018, 2018, 2018, 2018, 2018, 2018, 2018, 2018, 2018, 2018, 2018, 2018, 2018, 2018, 2018, 2018, 2018, 2018, 2018, 2018, 2018, 2018, 2018, 2018], \"xaxis\": \"x\", \"y\": [0.0, 0.0, 0.0, 0.0, 0.0, 0.0, 0.99, 0.0, 0.0, 0.0, 0.0, 0.0, 0.0, 0.0, 0.0, 0.0, 0.0, 0.0, 0.0, 0.0, 0.0, 0.0, 0.0, 0.0, 0.0, 0.0, 0.0, 0.0, 0.0, 0.0, 0.0, 0.0, 0.0, 0.0, 0.0, 0.0, 0.0, 0.0, 0.0, 0.0, 0.0, 0.0, 0.0, 3.04, 0.0, 0.0, 0.0, 0.0, 0.0, 0.0, 0.0, 0.0, 0.0, 0.0, 0.0, 0.0, 0.0, 0.0, 0.0, 1.99, 0.0, 0.0, 0.0, 0.0, 0.0, 0.0, 399.99, 0.0, 0.0, 0.0, 0.0, 0.0, 0.0, 0.0, 0.0, 0.0, 0.0, 37.99, 0.0, 0.0, 0.0, 0.0, 0.0, 0.0, 0.0, 0.0, 0.0, 0.0, 0.0, 0.0, 0.0, 0.0, 0.0, 0.0, 0.0, 0.0, 0.0, 0.0, 0.0, 0.0, 0.0, 0.0, 0.0, 0.0, 0.0, 0.0, 0.0, 0.0, 0.0, 0.0, 0.0, 0.0, 0.0, 0.0, 0.0, 0.0, 0.0, 0.0, 0.0, 0.0, 0.0, 0.0, 0.0, 0.0, 0.0, 0.0, 0.0, 0.99, 0.0, 0.0, 0.0, 0.0, 0.0, 0.0, 0.0, 0.0, 0.0, 0.0, 0.0, 0.0, 0.0, 0.0, 0.0, 0.0, 0.0, 0.0, 0.0, 0.0, 0.0, 0.0, 0.0, 0.0, 0.0, 0.0, 0.0, 0.0, 0.0, 0.0, 0.0, 0.0, 0.0, 0.0, 0.0, 0.0, 0.0, 0.0, 0.0, 0.0, 0.0, 0.0, 0.0, 0.0, 0.0, 0.0, 0.0, 0.0, 4.99, 4.99, 379.99, 0.0, 0.0, 0.0, 0.0, 0.0, 0.0, 0.0, 0.0, 0.0, 0.0, 0.0, 0.0, 0.0, 0.0, 0.0, 0.0, 0.0, 0.0, 0.0, 0.0, 0.0, 0.0, 0.0, 0.0, 0.0, 0.0, 0.0, 0.0, 0.0, 0.0, 0.0, 0.0, 0.0, 0.0, 0.0, 0.0, 5.99, 0.0, 0.0, 0.0, 0.0, 0.0, 0.0, 0.0, 0.0, 0.0, 0.0, 0.0, 0.0, 0.0, 0.0, 0.0, 0.0, 0.0, 0.0, 0.0, 0.0, 0.0, 2.49, 7.99, 299.99, 399.99, 400.0, 0.0, 0.0, 0.0, 0.0, 0.0, 0.0, 0.0, 0.0, 0.0, 0.0, 0.0, 0.0, 0.0, 0.0, 0.0, 0.0, 0.0, 0.0, 0.0, 0.0, 0.0, 0.0, 0.0, 0.0, 0.0, 0.0, 0.0, 0.0, 0.0, 0.0, 0.0, 0.0, 0.0, 0.0, 0.0, 0.0, 0.0, 0.0, 0.0, 0.0, 0.0, 0.0, 0.0, 0.0, 0.0, 0.0, 0.0, 0.0, 0.0, 0.0, 0.0, 0.0, 0.0, 0.0, 0.0, 0.0, 0.0, 0.0, 399.99, 0.0, 0.0, 0.0, 0.0, 0.0, 0.0, 0.0, 0.0, 0.0, 0.0, 2.49, 2.99, 3.99, 0.0, 0.0, 0.0, 0.0, 0.0, 0.0, 0.0, 0.0, 0.0, 0.0, 0.0, 0.0, 0.0, 0.0, 0.0, 0.0, 0.0, 0.0, 0.0, 0.0, 0.0, 0.0, 0.0, 0.0, 0.0, 0.0, 0.0, 0.0, 0.0, 0.0, 0.0, 0.0, 0.0, 0.0, 0.0, 0.0, 0.0, 0.0, 0.0, 0.0, 0.0, 0.0, 0.0, 0.0, 0.0, 0.0, 0.0, 0.0, 0.0, 0.0, 0.0, 0.0, 0.0, 0.0, 0.0], \"yaxis\": \"y\"}, {\"hoverlabel\": {\"namelength\": 0}, \"hovertemplate\": \"Category=TOOLS<br>Year=%{x}<br>Price=%{y}\", \"legendgroup\": \"Category=TOOLS\", \"marker\": {\"color\": \"#FF6692\", \"symbol\": \"diamond\"}, \"mode\": \"markers\", \"name\": \"Category=TOOLS\", \"showlegend\": true, \"type\": \"scattergl\", \"x\": [2011, 2011, 2011, 2011, 2011, 2011, 2012, 2012, 2012, 2013, 2013, 2013, 2013, 2013, 2013, 2013, 2013, 2013, 2013, 2014, 2014, 2014, 2014, 2014, 2014, 2014, 2014, 2014, 2014, 2014, 2014, 2014, 2014, 2014, 2014, 2014, 2014, 2014, 2014, 2014, 2014, 2014, 2014, 2014, 2014, 2015, 2015, 2015, 2015, 2015, 2015, 2015, 2015, 2015, 2015, 2015, 2015, 2015, 2015, 2015, 2015, 2015, 2015, 2015, 2015, 2015, 2015, 2015, 2015, 2015, 2015, 2015, 2015, 2015, 2015, 2015, 2015, 2015, 2015, 2015, 2015, 2015, 2015, 2015, 2015, 2015, 2015, 2015, 2015, 2015, 2015, 2015, 2015, 2015, 2016, 2016, 2016, 2016, 2016, 2016, 2016, 2016, 2016, 2016, 2016, 2016, 2016, 2016, 2016, 2016, 2016, 2016, 2016, 2016, 2016, 2016, 2016, 2016, 2016, 2016, 2016, 2016, 2016, 2016, 2016, 2016, 2016, 2016, 2016, 2016, 2016, 2016, 2016, 2016, 2016, 2016, 2016, 2016, 2016, 2016, 2016, 2016, 2016, 2016, 2016, 2016, 2016, 2016, 2016, 2016, 2016, 2016, 2016, 2016, 2016, 2016, 2016, 2016, 2016, 2016, 2016, 2016, 2016, 2016, 2016, 2016, 2016, 2016, 2017, 2017, 2017, 2017, 2017, 2017, 2017, 2017, 2017, 2017, 2017, 2017, 2017, 2017, 2017, 2017, 2017, 2017, 2017, 2017, 2017, 2017, 2017, 2017, 2017, 2017, 2017, 2017, 2017, 2017, 2017, 2017, 2017, 2017, 2017, 2017, 2017, 2017, 2017, 2017, 2017, 2017, 2017, 2017, 2017, 2017, 2017, 2017, 2017, 2017, 2017, 2017, 2017, 2017, 2017, 2017, 2017, 2017, 2017, 2017, 2017, 2017, 2017, 2017, 2017, 2017, 2017, 2017, 2017, 2017, 2017, 2017, 2017, 2017, 2017, 2017, 2017, 2017, 2017, 2017, 2017, 2017, 2017, 2017, 2017, 2017, 2017, 2017, 2017, 2017, 2017, 2017, 2017, 2017, 2017, 2017, 2017, 2017, 2017, 2017, 2017, 2017, 2017, 2017, 2017, 2017, 2017, 2017, 2017, 2017, 2017, 2017, 2017, 2017, 2017, 2017, 2017, 2017, 2017, 2017, 2017, 2017, 2017, 2017, 2017, 2017, 2017, 2017, 2017, 2017, 2017, 2017, 2017, 2017, 2017, 2017, 2017, 2017, 2017, 2017, 2017, 2017, 2017, 2017, 2017, 2017, 2017, 2017, 2017, 2017, 2017, 2017, 2017, 2017, 2017, 2017, 2017, 2017, 2017, 2017, 2017, 2017, 2017, 2017, 2017, 2017, 2017, 2017, 2017, 2017, 2017, 2017, 2017, 2017, 2017, 2017, 2017, 2017, 2017, 2018, 2018, 2018, 2018, 2018, 2018, 2018, 2018, 2018, 2018, 2018, 2018, 2018, 2018, 2018, 2018, 2018, 2018, 2018, 2018, 2018, 2018, 2018, 2018, 2018, 2018, 2018, 2018, 2018, 2018, 2018, 2018, 2018, 2018, 2018, 2018, 2018, 2018, 2018, 2018, 2018, 2018, 2018, 2018, 2018, 2018, 2018, 2018, 2018, 2018, 2018, 2018, 2018, 2018, 2018, 2018, 2018, 2018, 2018, 2018, 2018, 2018, 2018, 2018, 2018, 2018, 2018, 2018, 2018, 2018, 2018, 2018, 2018, 2018, 2018, 2018, 2018, 2018, 2018, 2018, 2018, 2018, 2018, 2018, 2018, 2018, 2018, 2018, 2018, 2018, 2018, 2018, 2018, 2018, 2018, 2018, 2018, 2018, 2018, 2018, 2018, 2018, 2018, 2018, 2018, 2018, 2018, 2018, 2018, 2018, 2018, 2018, 2018, 2018, 2018, 2018, 2018, 2018, 2018, 2018, 2018, 2018, 2018, 2018, 2018, 2018, 2018, 2018, 2018, 2018, 2018, 2018, 2018, 2018, 2018, 2018, 2018, 2018, 2018, 2018, 2018, 2018, 2018, 2018, 2018, 2018, 2018, 2018, 2018, 2018, 2018, 2018, 2018, 2018, 2018, 2018, 2018, 2018, 2018, 2018, 2018, 2018, 2018, 2018, 2018, 2018, 2018, 2018, 2018, 2018, 2018, 2018, 2018, 2018, 2018, 2018, 2018, 2018, 2018, 2018, 2018, 2018, 2018, 2018, 2018, 2018, 2018, 2018, 2018, 2018, 2018, 2018, 2018, 2018, 2018, 2018, 2018, 2018, 2018, 2018, 2018, 2018, 2018, 2018, 2018, 2018, 2018, 2018, 2018, 2018, 2018, 2018, 2018, 2018, 2018, 2018, 2018, 2018, 2018, 2018, 2018, 2018, 2018, 2018, 2018, 2018, 2018, 2018, 2018, 2018, 2018, 2018, 2018, 2018, 2018, 2018, 2018, 2018, 2018, 2018, 2018, 2018, 2018, 2018, 2018, 2018, 2018, 2018, 2018, 2018, 2018, 2018, 2018, 2018, 2018, 2018, 2018, 2018, 2018, 2018, 2018, 2018, 2018, 2018, 2018, 2018, 2018, 2018, 2018, 2018, 2018, 2018, 2018, 2018, 2018, 2018, 2018, 2018, 2018, 2018, 2018, 2018, 2018, 2018, 2018, 2018, 2018, 2018, 2018, 2018, 2018, 2018, 2018, 2018, 2018, 2018, 2018, 2018, 2018, 2018, 2018, 2018, 2018, 2018, 2018, 2018, 2018, 2018, 2018, 2018, 2018, 2018, 2018, 2018, 2018, 2018, 2018, 2018, 2018, 2018, 2018, 2018, 2018, 2018, 2018, 2018, 2018, 2018, 2018, 2018, 2018, 2018, 2018, 2018, 2018, 2018, 2018, 2018, 2018, 2018, 2018, 2018, 2018, 2018, 2018, 2018, 2018, 2018, 2018, 2018, 2018, 2018, 2018, 2018, 2018, 2018, 2018, 2018, 2018, 2018, 2018, 2018, 2018, 2018, 2018, 2018, 2018, 2018, 2018, 2018, 2018, 2018, 2018, 2018, 2018, 2018, 2018, 2018, 2018, 2018, 2018, 2018, 2018, 2018, 2018, 2018, 2018, 2018, 2018, 2018, 2018, 2018, 2018, 2018, 2018, 2018, 2018, 2018, 2018, 2018, 2018, 2018, 2018, 2018, 2018, 2018, 2018, 2018, 2018, 2018, 2018, 2018, 2018, 2018, 2018, 2018, 2018, 2018, 2018, 2018, 2018, 2018, 2018, 2018, 2018, 2018, 2018, 2018, 2018, 2018, 2018, 2018, 2018, 2018, 2018, 2018, 2018, 2018, 2018, 2018, 2018, 2018, 2018, 2018, 2018, 2018, 2018, 2018, 2018, 2018, 2018, 2018, 2018, 2018, 2018, 2018, 2018, 2018, 2018, 2018, 2018, 2018, 2018, 2018, 2018, 2018, 2018, 2018, 2018, 2018, 2018, 2018, 2018, 2018, 2018, 2018, 2018, 2018, 2018, 2018], \"xaxis\": \"x\", \"y\": [1.49, 4.99, 0.0, 1.0, 0.0, 0.0, 0.0, 0.0, 0.0, 0.0, 0.0, 0.0, 0.0, 0.0, 0.0, 0.0, 0.0, 4.99, 0.0, 0.0, 0.99, 0.99, 14.99, 0.0, 0.0, 0.0, 0.0, 1.99, 0.0, 3.99, 0.0, 0.0, 0.0, 0.0, 0.0, 0.0, 0.0, 1.99, 0.0, 0.0, 0.0, 0.0, 1.99, 0.0, 0.0, 0.0, 0.0, 0.0, 4.99, 0.0, 0.0, 0.0, 0.0, 0.0, 0.99, 0.0, 0.0, 0.0, 0.0, 0.0, 0.0, 0.0, 0.0, 1.97, 0.0, 0.0, 0.0, 0.0, 0.0, 0.0, 0.99, 1.49, 0.0, 0.0, 0.0, 0.0, 0.0, 0.0, 0.0, 0.0, 0.0, 0.99, 4.99, 4.99, 4.99, 4.99, 4.99, 0.0, 0.0, 0.0, 0.0, 0.0, 0.0, 3.99, 0.0, 0.0, 0.0, 0.0, 0.0, 0.0, 0.0, 2.49, 4.99, 0.0, 0.0, 0.0, 0.0, 0.0, 0.0, 0.0, 0.99, 0.0, 0.0, 0.0, 0.0, 0.0, 0.0, 0.0, 0.0, 0.0, 0.0, 0.0, 0.0, 0.0, 0.0, 0.0, 0.0, 0.0, 2.99, 4.99, 0.0, 0.0, 0.0, 0.0, 0.0, 0.0, 0.0, 0.0, 0.0, 0.0, 0.0, 0.0, 0.0, 0.0, 0.0, 0.0, 0.0, 0.0, 0.0, 0.0, 0.0, 0.0, 0.0, 0.0, 0.0, 0.0, 0.0, 0.0, 0.0, 0.0, 0.0, 0.0, 0.0, 0.0, 0.0, 0.0, 0.0, 0.0, 0.0, 0.0, 0.0, 0.0, 0.0, 0.0, 0.0, 0.0, 0.0, 0.0, 0.0, 0.0, 0.0, 0.0, 0.0, 0.0, 0.0, 0.0, 0.0, 0.0, 0.0, 0.0, 0.0, 0.0, 0.0, 0.0, 0.0, 5.99, 0.0, 0.0, 0.0, 0.0, 0.0, 0.0, 0.0, 0.0, 0.0, 0.0, 0.0, 0.0, 0.0, 0.0, 0.0, 0.0, 0.0, 0.0, 0.0, 0.0, 0.0, 0.0, 0.0, 0.0, 0.0, 0.0, 0.0, 0.0, 0.0, 0.0, 0.0, 0.0, 0.0, 0.0, 0.0, 0.0, 0.0, 0.0, 0.0, 0.0, 0.0, 0.0, 0.0, 0.0, 0.0, 0.0, 0.0, 0.0, 0.0, 0.0, 1.99, 2.59, 2.99, 3.28, 0.0, 0.0, 0.0, 0.0, 0.0, 0.0, 0.0, 0.0, 0.0, 0.0, 0.0, 0.0, 0.0, 0.0, 0.0, 0.0, 0.0, 0.0, 0.0, 0.0, 0.0, 0.0, 0.0, 1.99, 0.0, 0.0, 0.0, 0.0, 0.0, 0.0, 0.0, 0.0, 0.0, 0.0, 0.0, 0.0, 0.0, 0.0, 0.0, 0.0, 0.0, 0.0, 0.0, 0.0, 0.0, 0.0, 0.0, 0.0, 0.0, 0.0, 0.0, 0.0, 0.0, 0.0, 0.0, 0.0, 0.0, 0.0, 0.0, 0.0, 0.0, 0.0, 0.0, 0.0, 0.0, 0.0, 0.0, 0.0, 1.76, 0.0, 0.0, 0.0, 0.0, 0.0, 0.0, 0.0, 0.0, 0.0, 0.0, 0.0, 2.99, 0.0, 0.0, 0.0, 0.0, 0.0, 0.0, 0.0, 0.0, 0.0, 0.0, 0.99, 0.99, 0.0, 0.0, 0.0, 0.0, 0.0, 0.0, 0.0, 1.49, 0.0, 0.0, 0.0, 0.0, 0.0, 0.0, 0.0, 0.0, 0.0, 0.0, 0.0, 0.0, 0.0, 0.0, 0.0, 0.0, 0.0, 0.0, 0.0, 0.0, 0.0, 0.0, 0.0, 0.0, 0.0, 0.0, 0.0, 0.0, 0.0, 0.0, 0.0, 0.99, 1.49, 1.99, 2.99, 3.99, 0.0, 0.0, 0.0, 0.0, 0.0, 0.0, 0.0, 0.0, 0.0, 0.0, 0.0, 0.0, 0.0, 0.0, 0.0, 0.0, 0.0, 0.0, 0.0, 0.0, 0.0, 0.0, 0.0, 0.0, 0.0, 0.0, 0.0, 0.0, 0.0, 0.0, 0.0, 0.0, 0.0, 0.0, 0.0, 0.0, 0.0, 0.0, 0.0, 0.0, 0.0, 0.0, 0.0, 0.0, 0.0, 0.0, 0.0, 0.0, 0.0, 0.0, 0.0, 0.0, 0.0, 0.0, 0.0, 0.0, 0.0, 0.0, 0.0, 0.0, 0.0, 0.0, 0.0, 2.99, 0.0, 0.0, 0.0, 0.0, 0.0, 0.0, 0.0, 0.0, 0.0, 0.0, 0.0, 0.0, 0.0, 0.0, 0.0, 0.0, 0.99, 0.99, 1.49, 2.99, 25.99, 0.0, 0.0, 0.0, 0.0, 0.0, 0.0, 0.0, 0.0, 0.0, 0.0, 0.0, 0.0, 0.0, 0.0, 0.0, 0.0, 0.0, 0.0, 0.0, 0.0, 0.0, 0.0, 0.0, 0.0, 0.0, 0.0, 0.0, 0.0, 0.0, 0.0, 0.0, 0.0, 0.99, 1.99, 1.99, 2.5, 2.95, 2.99, 2.99, 3.9, 0.0, 0.0, 0.0, 0.0, 0.0, 0.0, 0.0, 0.0, 0.0, 0.0, 0.0, 0.0, 0.0, 0.0, 0.0, 0.0, 0.0, 0.0, 0.0, 0.0, 0.0, 0.0, 0.0, 0.0, 0.0, 0.0, 0.0, 0.0, 0.0, 0.0, 0.0, 0.0, 0.0, 0.0, 0.0, 0.0, 0.0, 0.0, 0.0, 0.0, 0.0, 0.0, 0.0, 0.0, 0.0, 0.0, 0.0, 0.0, 0.0, 0.0, 0.0, 0.0, 0.0, 0.0, 0.0, 0.0, 0.0, 0.0, 0.0, 0.0, 0.0, 0.0, 0.0, 0.0, 0.0, 0.0, 0.0, 0.0, 0.0, 0.0, 0.0, 0.0, 0.0, 0.0, 0.0, 0.0, 0.0, 0.0, 0.0, 0.0, 0.0, 0.0, 0.0, 0.0, 0.0, 0.0, 0.0, 0.0, 1.49, 1.99, 1.99, 2.99, 3.99, 5.99, 5.99, 0.0, 0.0, 0.0, 0.0, 0.0, 0.0, 0.0, 0.0, 0.0, 0.0, 0.0, 0.0, 0.0, 0.0, 0.0, 0.0, 0.0, 0.0, 0.0, 0.0, 0.0, 0.0, 0.0, 0.0, 0.0, 0.0, 0.0, 0.0, 0.0, 0.0, 0.0, 0.0, 0.0, 0.0, 0.0, 0.0, 0.0, 0.0, 0.0, 0.0, 0.0, 0.0, 0.0, 0.0, 0.0, 0.0, 0.0, 2.49, 3.49, 3.99, 4.49, 0.0, 0.0, 0.0, 0.0, 0.0, 0.0, 0.0, 0.0, 0.0, 0.0, 0.0, 0.0, 0.0, 0.0, 0.0, 0.0, 0.0, 0.0, 0.0, 0.0, 0.0, 0.0, 0.0, 0.99, 8.99, 0.0, 0.0, 0.0, 0.0, 0.0, 0.0, 0.0, 0.0, 0.0, 0.0, 0.0, 0.0, 0.0, 0.0, 0.0, 0.0, 0.0, 0.0, 0.0, 0.0, 0.0, 0.0, 0.0, 0.0, 0.99, 14.99, 0.0, 0.0, 0.0, 0.0, 0.0, 0.0, 0.0, 0.0, 0.0, 0.0, 0.0, 0.0, 0.0, 0.0, 0.0, 0.0, 0.0, 0.0, 0.0, 0.0, 0.0, 0.0, 0.0, 0.0, 0.0, 0.0, 0.0, 0.0, 0.0, 0.0, 0.0, 0.0, 0.0, 2.99, 0.0, 0.0, 0.0, 0.0, 0.0, 0.0, 0.0, 0.0, 0.0, 0.0, 0.0, 0.0, 0.0, 0.0, 0.0, 0.0, 0.0, 0.0, 0.0, 0.0, 0.0, 0.0, 0.0, 0.0, 0.0, 0.0, 2.99, 0.0, 0.0, 0.0, 0.0, 0.0, 0.0, 0.0, 0.0, 0.0, 0.0, 0.0, 0.0, 0.0, 0.0, 0.0, 0.0, 0.0, 0.0, 0.0, 0.0, 0.0, 0.0, 0.0, 0.0, 0.0, 0.0, 0.0, 0.0, 0.0, 0.0, 0.0, 0.0, 0.0, 0.0, 0.0, 0.99, 3.99, 0.0, 0.0, 0.0, 0.0, 0.0, 0.0, 0.0, 0.0, 0.0, 0.0, 0.0, 0.0, 0.0, 0.0, 0.0, 0.0, 0.0, 0.0, 0.0, 0.0], \"yaxis\": \"y\"}, {\"hoverlabel\": {\"namelength\": 0}, \"hovertemplate\": \"Category=COMMUNICATION<br>Year=%{x}<br>Price=%{y}\", \"legendgroup\": \"Category=COMMUNICATION\", \"marker\": {\"color\": \"#B6E880\", \"symbol\": \"square\"}, \"mode\": \"markers\", \"name\": \"Category=COMMUNICATION\", \"showlegend\": true, \"type\": \"scattergl\", \"x\": [2012, 2013, 2013, 2013, 2014, 2014, 2014, 2014, 2014, 2014, 2014, 2014, 2014, 2014, 2015, 2015, 2015, 2015, 2015, 2015, 2015, 2015, 2015, 2015, 2015, 2015, 2015, 2015, 2015, 2015, 2015, 2015, 2015, 2016, 2016, 2016, 2016, 2016, 2016, 2016, 2016, 2016, 2016, 2016, 2016, 2016, 2016, 2016, 2016, 2016, 2016, 2016, 2016, 2016, 2016, 2017, 2017, 2017, 2017, 2017, 2017, 2017, 2017, 2017, 2017, 2017, 2017, 2017, 2017, 2017, 2017, 2017, 2017, 2017, 2017, 2017, 2017, 2017, 2017, 2017, 2017, 2017, 2017, 2017, 2017, 2017, 2017, 2017, 2017, 2017, 2017, 2017, 2017, 2017, 2017, 2017, 2017, 2017, 2017, 2017, 2017, 2017, 2017, 2017, 2017, 2017, 2017, 2017, 2017, 2017, 2017, 2018, 2018, 2018, 2018, 2018, 2018, 2018, 2018, 2018, 2018, 2018, 2018, 2018, 2018, 2018, 2018, 2018, 2018, 2018, 2018, 2018, 2018, 2018, 2018, 2018, 2018, 2018, 2018, 2018, 2018, 2018, 2018, 2018, 2018, 2018, 2018, 2018, 2018, 2018, 2018, 2018, 2018, 2018, 2018, 2018, 2018, 2018, 2018, 2018, 2018, 2018, 2018, 2018, 2018, 2018, 2018, 2018, 2018, 2018, 2018, 2018, 2018, 2018, 2018, 2018, 2018, 2018, 2018, 2018, 2018, 2018, 2018, 2018, 2018, 2018, 2018, 2018, 2018, 2018, 2018, 2018, 2018, 2018, 2018, 2018, 2018, 2018, 2018, 2018, 2018, 2018, 2018, 2018, 2018, 2018, 2018, 2018, 2018, 2018, 2018, 2018, 2018, 2018, 2018, 2018, 2018, 2018, 2018, 2018, 2018, 2018, 2018, 2018, 2018, 2018, 2018, 2018, 2018, 2018, 2018, 2018, 2018, 2018, 2018, 2018, 2018, 2018, 2018, 2018, 2018, 2018, 2018, 2018, 2018, 2018, 2018, 2018, 2018, 2018, 2018, 2018, 2018, 2018, 2018, 2018, 2018, 2018, 2018, 2018, 2018, 2018, 2018, 2018, 2018, 2018, 2018, 2018, 2018, 2018, 2018, 2018, 2018, 2018, 2018, 2018, 2018, 2018, 2018, 2018, 2018, 2018, 2018, 2018, 2018, 2018, 2018, 2018, 2018, 2018, 2018, 2018, 2018, 2018, 2018, 2018, 2018, 2018, 2018, 2018, 2018, 2018, 2018, 2018, 2018, 2018, 2018, 2018, 2018, 2018, 2018, 2018, 2018, 2018, 2018, 2018], \"xaxis\": \"x\", \"y\": [0.0, 0.0, 0.0, 0.0, 0.0, 0.0, 0.0, 0.0, 0.0, 0.0, 0.0, 0.0, 3.99, 1.49, 0.0, 2.49, 0.0, 0.0, 0.0, 0.0, 0.99, 0.0, 0.99, 1.49, 0.0, 0.0, 0.99, 0.0, 0.0, 0.0, 0.0, 0.0, 0.0, 0.0, 0.0, 0.0, 0.0, 2.99, 4.99, 0.0, 0.0, 0.0, 0.0, 0.0, 0.0, 0.0, 0.0, 0.0, 0.0, 0.0, 0.0, 0.0, 0.0, 0.0, 0.0, 0.0, 0.0, 0.0, 0.99, 0.0, 0.0, 0.0, 0.0, 0.0, 0.0, 0.0, 0.0, 1.99, 0.0, 0.0, 0.0, 0.0, 0.0, 0.0, 0.0, 0.0, 0.0, 0.0, 0.0, 0.0, 0.0, 0.0, 0.0, 0.0, 0.0, 0.0, 0.0, 0.0, 0.0, 0.0, 0.0, 0.0, 0.0, 0.0, 0.0, 0.0, 0.0, 0.0, 4.99, 0.0, 0.0, 0.0, 0.0, 0.0, 0.0, 0.0, 0.0, 3.99, 0.0, 0.0, 0.0, 0.0, 0.0, 0.0, 0.0, 0.0, 0.0, 0.0, 0.0, 0.0, 0.0, 0.0, 0.0, 2.99, 0.0, 0.0, 0.0, 0.0, 0.0, 0.0, 0.0, 0.0, 0.0, 0.0, 0.0, 0.0, 0.0, 0.0, 0.0, 0.0, 0.0, 0.0, 0.0, 0.0, 0.0, 0.0, 0.0, 0.0, 0.0, 0.0, 0.0, 0.0, 0.0, 0.0, 0.0, 2.99, 0.0, 0.0, 0.0, 0.0, 0.0, 0.0, 0.0, 0.0, 0.0, 0.0, 0.0, 0.0, 0.0, 0.0, 0.0, 0.99, 0.99, 2.49, 19.99, 0.0, 0.0, 0.0, 0.0, 0.0, 0.0, 0.0, 0.0, 0.0, 0.0, 0.0, 0.0, 2.99, 0.0, 0.0, 0.0, 0.0, 0.0, 0.0, 0.0, 0.0, 0.0, 0.0, 0.0, 0.0, 0.0, 0.0, 0.0, 0.0, 0.0, 0.0, 0.0, 0.0, 0.0, 0.0, 0.0, 0.0, 0.0, 0.0, 0.0, 0.0, 0.0, 0.0, 0.0, 0.0, 0.0, 0.0, 0.0, 0.0, 0.0, 0.0, 0.0, 0.0, 0.0, 0.0, 0.0, 0.0, 0.0, 1.49, 1.49, 1.49, 0.0, 0.0, 0.0, 0.0, 0.0, 0.0, 0.0, 0.0, 0.0, 2.9, 3.99, 0.0, 0.0, 0.0, 0.0, 0.0, 0.0, 0.0, 0.0, 0.0, 0.0, 0.0, 0.0, 0.0, 0.0, 0.0, 0.0, 0.0, 0.0, 0.0, 0.0, 0.0, 0.0, 0.0, 0.0, 0.0, 0.0, 0.0, 0.0, 0.0, 0.0, 0.0, 0.0, 0.0, 0.0, 0.0, 0.0, 0.0, 0.0, 0.0, 0.0, 0.0, 0.0, 0.0, 0.0, 0.0, 0.0, 0.0, 0.0, 0.0, 0.0, 0.0, 0.0, 0.0, 0.0, 0.0, 0.0, 0.0, 0.99, 4.99, 0.0, 0.0, 0.0, 0.0, 0.0, 0.0, 0.0, 0.0, 0.0, 0.0], \"yaxis\": \"y\"}, {\"hoverlabel\": {\"namelength\": 0}, \"hovertemplate\": \"Category=FINANCE<br>Year=%{x}<br>Price=%{y}\", \"legendgroup\": \"Category=FINANCE\", \"marker\": {\"color\": \"#FF97FF\", \"symbol\": \"x\"}, \"mode\": \"markers\", \"name\": \"Category=FINANCE\", \"showlegend\": true, \"type\": \"scattergl\", \"x\": [2012, 2013, 2013, 2013, 2015, 2015, 2015, 2015, 2015, 2016, 2016, 2016, 2016, 2016, 2016, 2016, 2016, 2016, 2016, 2016, 2016, 2016, 2016, 2017, 2017, 2017, 2017, 2017, 2017, 2017, 2017, 2017, 2017, 2017, 2017, 2017, 2017, 2017, 2017, 2017, 2017, 2017, 2017, 2017, 2017, 2017, 2017, 2017, 2017, 2017, 2017, 2017, 2017, 2017, 2017, 2017, 2017, 2017, 2017, 2017, 2017, 2017, 2017, 2017, 2017, 2017, 2017, 2017, 2017, 2017, 2017, 2018, 2018, 2018, 2018, 2018, 2018, 2018, 2018, 2018, 2018, 2018, 2018, 2018, 2018, 2018, 2018, 2018, 2018, 2018, 2018, 2018, 2018, 2018, 2018, 2018, 2018, 2018, 2018, 2018, 2018, 2018, 2018, 2018, 2018, 2018, 2018, 2018, 2018, 2018, 2018, 2018, 2018, 2018, 2018, 2018, 2018, 2018, 2018, 2018, 2018, 2018, 2018, 2018, 2018, 2018, 2018, 2018, 2018, 2018, 2018, 2018, 2018, 2018, 2018, 2018, 2018, 2018, 2018, 2018, 2018, 2018, 2018, 2018, 2018, 2018, 2018, 2018, 2018, 2018, 2018, 2018, 2018, 2018, 2018, 2018, 2018, 2018, 2018, 2018, 2018, 2018, 2018, 2018, 2018, 2018, 2018, 2018, 2018, 2018, 2018, 2018, 2018, 2018, 2018, 2018, 2018, 2018, 2018, 2018, 2018, 2018, 2018, 2018, 2018, 2018, 2018, 2018, 2018, 2018, 2018, 2018, 2018, 2018, 2018, 2018, 2018, 2018, 2018, 2018, 2018, 2018, 2018, 2018, 2018, 2018, 2018, 2018, 2018, 2018, 2018, 2018, 2018, 2018, 2018, 2018, 2018, 2018, 2018, 2018, 2018, 2018, 2018, 2018, 2018, 2018, 2018, 2018, 2018, 2018, 2018, 2018, 2018, 2018, 2018, 2018, 2018, 2018, 2018, 2018, 2018, 2018, 2018, 2018, 2018, 2018, 2018, 2018, 2018, 2018, 2018, 2018, 2018, 2018, 2018, 2018, 2018, 2018, 2018, 2018, 2018, 2018, 2018, 2018, 2018, 2018, 2018, 2018, 2018, 2018, 2018, 2018, 2018, 2018, 2018, 2018, 2018, 2018, 2018, 2018, 2018, 2018, 2018, 2018, 2018, 2018, 2018, 2018, 2018, 2018, 2018, 2018, 2018, 2018, 2018, 2018, 2018, 2018, 2018, 2018, 2018, 2018, 2018, 2018, 2018, 2018, 2018, 2018, 2018, 2018, 2018, 2018, 2018, 2018, 2018, 2018, 2018, 2018, 2018, 2018, 2018, 2018, 2018, 2018, 2018, 2018, 2018, 2018, 2018, 2018, 2018, 2018, 2018, 2018, 2018, 2018, 2018, 2018, 2018, 2018, 2018, 2018, 2018, 2018, 2018], \"xaxis\": \"x\", \"y\": [0.0, 0.0, 0.0, 0.0, 1.99, 0.0, 0.0, 0.0, 0.0, 0.0, 0.0, 0.0, 0.0, 0.0, 0.0, 0.0, 0.0, 0.0, 0.0, 0.0, 0.0, 3.99, 0.0, 0.0, 0.0, 0.0, 0.0, 0.0, 0.0, 399.99, 399.99, 0.0, 0.0, 0.0, 0.0, 0.0, 0.0, 0.0, 0.0, 0.0, 0.0, 0.0, 0.0, 0.0, 0.0, 0.0, 0.0, 0.0, 0.0, 0.0, 0.0, 2.99, 0.0, 0.0, 4.99, 0.0, 0.0, 0.0, 0.0, 0.0, 0.0, 0.0, 0.0, 399.99, 0.0, 0.0, 0.0, 0.0, 399.99, 0.0, 0.0, 30.99, 394.99, 0.0, 0.0, 5.99, 28.99, 0.0, 0.0, 0.0, 0.0, 0.0, 0.0, 0.0, 0.0, 0.0, 0.0, 0.0, 0.0, 0.0, 0.0, 0.0, 0.0, 0.0, 0.0, 0.0, 0.0, 0.0, 0.0, 0.0, 0.0, 0.0, 0.0, 0.0, 3.99, 399.99, 0.0, 0.0, 0.0, 0.0, 0.0, 0.0, 0.0, 0.0, 0.0, 0.0, 0.0, 0.0, 0.0, 0.0, 0.0, 0.0, 0.0, 0.0, 0.0, 0.0, 0.0, 0.0, 0.0, 0.0, 0.0, 0.0, 0.0, 0.0, 0.0, 0.0, 0.0, 0.0, 0.0, 0.0, 0.0, 0.0, 0.0, 0.0, 0.0, 0.0, 0.0, 0.0, 0.0, 0.0, 0.0, 0.0, 0.0, 0.0, 0.0, 0.0, 0.0, 0.0, 0.0, 0.0, 0.0, 0.0, 0.0, 0.0, 0.0, 0.0, 0.0, 0.0, 0.0, 0.0, 0.0, 0.0, 0.0, 0.0, 0.0, 0.0, 0.0, 0.0, 0.0, 0.0, 0.0, 0.0, 0.0, 0.0, 0.0, 0.0, 0.0, 0.0, 0.0, 0.0, 0.0, 0.0, 0.0, 0.0, 0.0, 0.0, 0.0, 0.0, 0.0, 0.0, 0.0, 0.0, 0.0, 0.0, 0.0, 0.0, 0.0, 0.0, 18.99, 0.0, 0.0, 0.0, 0.0, 0.0, 0.0, 0.0, 0.0, 0.0, 0.0, 0.0, 0.0, 0.0, 0.0, 0.0, 0.0, 0.0, 0.0, 0.0, 0.0, 0.0, 0.0, 0.0, 0.0, 0.0, 0.0, 0.0, 0.0, 0.0, 0.0, 0.0, 0.0, 0.0, 0.0, 0.0, 0.0, 0.0, 0.0, 0.0, 0.0, 0.0, 0.0, 0.0, 0.0, 0.0, 0.0, 0.0, 0.0, 0.0, 0.0, 0.0, 0.0, 0.0, 0.0, 0.0, 0.0, 0.0, 0.0, 0.0, 0.0, 2.99, 0.0, 0.0, 0.0, 0.0, 0.0, 0.0, 0.0, 0.0, 0.0, 0.0, 0.0, 0.0, 0.0, 0.0, 399.99, 0.0, 0.0, 0.0, 0.0, 0.0, 0.0, 0.0, 0.0, 0.0, 0.0, 0.0, 0.0, 0.0, 0.0, 0.0, 0.0, 0.0, 0.0, 0.0, 0.0, 0.0, 0.0, 0.0, 0.0, 0.0, 0.0, 0.0, 0.0, 0.0, 0.0, 0.0, 0.0, 0.0, 0.0, 0.0, 0.0, 0.0, 0.0, 0.0, 0.0, 0.0, 0.0, 0.0, 0.0, 0.0, 0.0, 0.0, 0.0, 0.0, 0.0, 0.0, 0.0, 0.0, 0.0, 0.0, 0.0, 0.0, 0.0, 0.0, 0.0], \"yaxis\": \"y\"}, {\"hoverlabel\": {\"namelength\": 0}, \"hovertemplate\": \"Category=HEALTH_AND_FITNESS<br>Year=%{x}<br>Price=%{y}\", \"legendgroup\": \"Category=HEALTH_AND_FITNESS\", \"marker\": {\"color\": \"#FECB52\", \"symbol\": \"cross\"}, \"mode\": \"markers\", \"name\": \"Category=HEALTH_AND_FITNESS\", \"showlegend\": true, \"type\": \"scattergl\", \"x\": [2012, 2012, 2013, 2014, 2014, 2014, 2015, 2015, 2015, 2015, 2015, 2015, 2015, 2015, 2016, 2016, 2016, 2016, 2016, 2016, 2016, 2016, 2016, 2016, 2016, 2016, 2016, 2016, 2016, 2017, 2017, 2017, 2017, 2017, 2017, 2017, 2017, 2017, 2017, 2017, 2017, 2017, 2017, 2017, 2017, 2017, 2017, 2017, 2017, 2017, 2017, 2017, 2017, 2017, 2017, 2017, 2017, 2017, 2017, 2017, 2017, 2018, 2018, 2018, 2018, 2018, 2018, 2018, 2018, 2018, 2018, 2018, 2018, 2018, 2018, 2018, 2018, 2018, 2018, 2018, 2018, 2018, 2018, 2018, 2018, 2018, 2018, 2018, 2018, 2018, 2018, 2018, 2018, 2018, 2018, 2018, 2018, 2018, 2018, 2018, 2018, 2018, 2018, 2018, 2018, 2018, 2018, 2018, 2018, 2018, 2018, 2018, 2018, 2018, 2018, 2018, 2018, 2018, 2018, 2018, 2018, 2018, 2018, 2018, 2018, 2018, 2018, 2018, 2018, 2018, 2018, 2018, 2018, 2018, 2018, 2018, 2018, 2018, 2018, 2018, 2018, 2018, 2018, 2018, 2018, 2018, 2018, 2018, 2018, 2018, 2018, 2018, 2018, 2018, 2018, 2018, 2018, 2018, 2018, 2018, 2018, 2018, 2018, 2018, 2018, 2018, 2018, 2018, 2018, 2018, 2018, 2018, 2018, 2018, 2018, 2018, 2018, 2018, 2018, 2018, 2018, 2018, 2018, 2018, 2018, 2018, 2018, 2018, 2018, 2018, 2018, 2018, 2018, 2018, 2018, 2018, 2018, 2018, 2018, 2018, 2018, 2018, 2018, 2018, 2018, 2018, 2018, 2018, 2018, 2018, 2018, 2018, 2018, 2018, 2018, 2018, 2018, 2018, 2018, 2018, 2018, 2018, 2018, 2018, 2018, 2018, 2018, 2018, 2018, 2018, 2018, 2018, 2018, 2018, 2018, 2018, 2018, 2018, 2018, 2018, 2018, 2018, 2018, 2018, 2018, 2018, 2018, 2018, 2018, 2018, 2018, 2018, 2018, 2018, 2018, 2018, 2018, 2018, 2018, 2018, 2018, 2018, 2018, 2018, 2018, 2018, 2018, 2018, 2018, 2018, 2018, 2018, 2018, 2018, 2018, 2018, 2018, 2018, 2018, 2018, 2018, 2018, 2018, 2018, 2018, 2018, 2018, 2018], \"xaxis\": \"x\", \"y\": [0.0, 0.0, 0.0, 0.0, 0.0, 0.0, 0.0, 0.0, 4.99, 0.0, 0.0, 2.99, 0.0, 0.0, 0.0, 0.0, 0.0, 0.0, 0.0, 0.0, 0.0, 0.0, 0.0, 0.0, 0.0, 5.99, 0.0, 0.0, 0.0, 0.0, 0.0, 0.0, 0.0, 0.0, 0.0, 0.0, 0.0, 0.0, 0.99, 0.0, 0.0, 0.0, 0.0, 0.0, 0.0, 0.0, 0.0, 0.0, 0.0, 9.99, 0.0, 0.0, 0.0, 1.99, 0.0, 0.0, 0.0, 0.0, 0.0, 0.0, 0.0, 0.0, 0.0, 0.0, 0.0, 0.0, 0.0, 0.0, 0.0, 0.0, 0.0, 0.0, 1.99, 4.99, 7.99, 0.0, 0.0, 0.0, 0.0, 0.0, 0.0, 0.0, 0.0, 0.0, 0.0, 0.0, 0.0, 0.0, 0.0, 0.0, 0.0, 0.0, 0.0, 0.0, 0.0, 0.0, 0.0, 0.0, 0.0, 0.0, 0.0, 0.0, 0.0, 0.0, 0.0, 0.0, 0.0, 0.0, 0.0, 0.0, 0.0, 0.0, 0.0, 0.0, 0.0, 0.0, 0.0, 0.0, 0.0, 0.0, 0.0, 0.0, 0.0, 0.0, 0.0, 0.0, 0.0, 0.0, 0.0, 0.0, 0.0, 0.0, 0.0, 0.0, 0.0, 0.0, 0.0, 0.0, 0.0, 0.0, 0.0, 0.0, 0.0, 0.0, 0.0, 0.0, 0.0, 3.99, 6.99, 0.0, 0.0, 0.0, 0.0, 0.0, 0.0, 0.0, 0.0, 0.0, 0.0, 0.0, 0.0, 0.0, 0.0, 0.0, 0.0, 0.0, 0.0, 0.0, 0.0, 0.0, 0.0, 0.0, 0.0, 0.0, 0.0, 0.0, 0.0, 0.0, 0.0, 0.0, 0.0, 0.0, 0.0, 0.0, 0.0, 0.0, 0.0, 0.0, 0.0, 0.0, 0.0, 0.0, 0.0, 0.0, 0.0, 0.0, 0.0, 0.0, 0.0, 0.0, 0.0, 0.0, 0.0, 0.0, 0.0, 0.0, 0.0, 0.0, 0.0, 0.0, 0.0, 0.0, 0.0, 0.0, 0.0, 0.0, 0.0, 0.0, 0.0, 2.99, 3.49, 0.0, 0.0, 0.0, 0.0, 0.0, 0.0, 0.0, 0.0, 0.0, 0.0, 0.0, 0.0, 0.0, 0.0, 0.0, 0.0, 0.0, 0.0, 0.0, 0.0, 0.0, 0.0, 0.0, 0.0, 0.0, 0.0, 0.0, 0.0, 0.0, 0.0, 0.0, 0.0, 0.0, 0.0, 0.0, 0.0, 0.0, 0.0, 0.0, 0.0, 1.99, 2.99, 0.0, 0.0, 0.0, 0.0, 0.0, 0.0, 0.0, 0.0, 0.0, 0.0, 0.0, 0.0, 0.0, 0.0, 0.0, 0.0, 0.0, 0.0, 0.0, 0.0, 0.0, 0.0, 0.0, 0.0, 0.0], \"yaxis\": \"y\"}, {\"hoverlabel\": {\"namelength\": 0}, \"hovertemplate\": \"Category=MEDICAL<br>Year=%{x}<br>Price=%{y}\", \"legendgroup\": \"Category=MEDICAL\", \"marker\": {\"color\": \"#636efa\", \"symbol\": \"circle\"}, \"mode\": \"markers\", \"name\": \"Category=MEDICAL\", \"showlegend\": true, \"type\": \"scattergl\", \"x\": [2012, 2012, 2012, 2013, 2013, 2013, 2013, 2013, 2013, 2014, 2014, 2014, 2014, 2014, 2014, 2014, 2014, 2014, 2014, 2014, 2014, 2015, 2015, 2015, 2015, 2015, 2015, 2015, 2015, 2015, 2015, 2015, 2015, 2015, 2015, 2015, 2015, 2015, 2016, 2016, 2016, 2016, 2016, 2016, 2016, 2016, 2016, 2016, 2016, 2016, 2016, 2016, 2016, 2016, 2016, 2016, 2016, 2016, 2017, 2017, 2017, 2017, 2017, 2017, 2017, 2017, 2017, 2017, 2017, 2017, 2017, 2017, 2017, 2017, 2017, 2017, 2017, 2017, 2017, 2017, 2017, 2017, 2017, 2017, 2017, 2017, 2017, 2017, 2017, 2017, 2017, 2017, 2017, 2017, 2017, 2017, 2017, 2017, 2017, 2017, 2017, 2017, 2017, 2017, 2017, 2017, 2017, 2017, 2017, 2017, 2017, 2017, 2017, 2017, 2017, 2017, 2017, 2017, 2017, 2017, 2017, 2017, 2017, 2017, 2017, 2017, 2017, 2017, 2017, 2017, 2017, 2017, 2017, 2017, 2017, 2018, 2018, 2018, 2018, 2018, 2018, 2018, 2018, 2018, 2018, 2018, 2018, 2018, 2018, 2018, 2018, 2018, 2018, 2018, 2018, 2018, 2018, 2018, 2018, 2018, 2018, 2018, 2018, 2018, 2018, 2018, 2018, 2018, 2018, 2018, 2018, 2018, 2018, 2018, 2018, 2018, 2018, 2018, 2018, 2018, 2018, 2018, 2018, 2018, 2018, 2018, 2018, 2018, 2018, 2018, 2018, 2018, 2018, 2018, 2018, 2018, 2018, 2018, 2018, 2018, 2018, 2018, 2018, 2018, 2018, 2018, 2018, 2018, 2018, 2018, 2018, 2018, 2018, 2018, 2018, 2018, 2018, 2018, 2018, 2018, 2018, 2018, 2018, 2018, 2018, 2018, 2018, 2018, 2018, 2018, 2018, 2018, 2018, 2018, 2018, 2018, 2018, 2018, 2018, 2018, 2018, 2018, 2018, 2018, 2018, 2018, 2018, 2018, 2018, 2018, 2018, 2018, 2018, 2018, 2018, 2018, 2018, 2018, 2018, 2018, 2018, 2018, 2018, 2018, 2018, 2018, 2018, 2018, 2018, 2018, 2018, 2018, 2018, 2018, 2018, 2018, 2018, 2018, 2018, 2018, 2018, 2018, 2018, 2018, 2018, 2018, 2018, 2018, 2018, 2018, 2018, 2018, 2018, 2018, 2018, 2018, 2018, 2018, 2018, 2018, 2018, 2018, 2018, 2018, 2018, 2018, 2018, 2018, 2018, 2018, 2018, 2018, 2018, 2018, 2018, 2018, 2018, 2018, 2018, 2018, 2018, 2018, 2018, 2018, 2018, 2018, 2018, 2018, 2018, 2018, 2018, 2018, 2018, 2018, 2018, 2018, 2018, 2018, 2018, 2018, 2018, 2018, 2018, 2018, 2018, 2018, 2018, 2018, 2018, 2018, 2018, 2018, 2018, 2018, 2018, 2018, 2018, 2018, 2018, 2018, 2018, 2018, 2018, 2018, 2018, 2018, 2018, 2018, 2018, 2018, 2018, 2018, 2018, 2018, 2018, 2018, 2018, 2018, 2018, 2018, 2018, 2018, 2018, 2018, 2018, 2018, 2018, 2018, 2018, 2018, 2018, 2018, 2018, 2018, 2018, 2018, 2018, 2018, 2018], \"xaxis\": \"x\", \"y\": [0.0, 2.99, 0.0, 0.0, 5.0, 0.0, 0.99, 14.99, 3.99, 0.0, 1.5, 2.99, 29.99, 0.99, 2.99, 6.99, 0.0, 3.99, 0.99, 0.0, 11.99, 200.0, 0.0, 0.0, 4.99, 5.99, 9.99, 15.46, 29.99, 0.0, 0.0, 0.0, 1.99, 0.0, 0.0, 0.0, 0.0, 2.99, 0.0, 0.0, 0.0, 0.0, 0.0, 4.99, 10.99, 0.0, 9.99, 0.0, 9.99, 9.99, 0.0, 0.0, 0.0, 0.0, 0.0, 0.0, 0.0, 1.0, 0.0, 0.0, 0.0, 0.0, 0.0, 0.0, 0.0, 0.0, 1.99, 3.99, 5.49, 7.49, 16.99, 19.99, 33.99, 0.0, 2.99, 0.0, 0.0, 0.0, 0.0, 0.0, 0.0, 0.0, 0.0, 0.0, 0.0, 3.99, 6.99, 10.0, 24.99, 0.0, 0.0, 0.0, 0.0, 0.0, 0.0, 0.0, 0.0, 0.0, 0.0, 0.0, 0.0, 0.0, 0.0, 0.0, 0.0, 0.0, 5.99, 24.99, 0.0, 0.0, 0.0, 0.0, 0.0, 0.0, 0.0, 0.0, 2.49, 2.99, 3.99, 3.99, 0.0, 0.0, 0.0, 0.0, 0.0, 0.99, 14.99, 0.0, 0.0, 0.0, 0.0, 0.0, 0.99, 5.99, 0.0, 0.0, 0.0, 0.0, 0.0, 0.99, 2.99, 3.99, 0.0, 0.0, 0.0, 0.0, 0.0, 0.0, 0.0, 0.0, 0.0, 0.0, 0.0, 0.0, 0.0, 0.0, 0.0, 0.0, 0.0, 0.0, 0.0, 0.0, 0.0, 0.0, 0.0, 0.0, 0.99, 2.99, 3.99, 3.99, 9.99, 9.99, 14.99, 74.99, 79.99, 0.0, 0.0, 0.0, 0.0, 0.0, 0.0, 0.0, 0.0, 0.0, 0.0, 0.0, 0.0, 0.0, 0.0, 0.0, 0.0, 0.0, 0.0, 0.0, 0.0, 0.0, 0.0, 0.0, 0.0, 0.0, 0.0, 0.0, 0.0, 0.0, 0.0, 0.0, 0.0, 0.0, 0.0, 0.0, 0.0, 0.0, 0.0, 0.0, 0.0, 0.0, 0.99, 5.99, 0.0, 0.0, 0.0, 0.0, 0.0, 0.0, 0.0, 0.0, 0.0, 0.0, 0.0, 0.0, 0.0, 0.0, 0.0, 0.0, 0.0, 0.0, 0.0, 0.0, 0.0, 0.0, 0.0, 0.0, 0.0, 0.0, 0.0, 2.99, 5.49, 7.99, 11.99, 0.0, 0.0, 0.0, 0.0, 0.0, 0.0, 0.0, 0.0, 0.0, 0.0, 0.0, 0.0, 0.0, 0.0, 0.0, 0.0, 0.0, 0.0, 0.0, 0.0, 0.0, 0.0, 0.0, 0.0, 0.0, 0.0, 0.0, 0.99, 2.99, 2.99, 12.99, 39.99, 0.0, 0.0, 0.0, 0.0, 0.0, 0.0, 0.0, 0.0, 0.0, 0.0, 0.0, 0.0, 0.0, 0.0, 0.0, 0.0, 0.0, 0.0, 0.0, 0.0, 0.0, 0.0, 0.0, 0.0, 0.0, 0.0, 0.0, 0.0, 0.0, 0.0, 9.0, 24.99, 0.0, 0.0, 0.0, 0.0, 0.0, 0.0, 0.0, 0.0, 0.0, 0.0, 0.0, 0.0, 0.0, 0.0, 0.0, 0.0, 0.0, 0.0, 0.0, 0.0, 0.0, 0.0, 0.0, 3.99, 3.99, 5.99, 0.0, 0.0, 0.0, 0.0, 0.0, 0.0, 0.0, 0.0, 0.0, 0.0, 0.0, 0.0, 0.0, 0.0, 0.0, 0.0, 0.0, 0.0, 0.99, 0.0, 0.0, 0.0, 0.0, 0.0, 0.0, 0.0, 0.0, 0.0, 0.0, 0.0, 0.0, 0.0, 0.0, 0.0, 0.0, 0.0, 2.99, 0.0, 0.0, 0.0, 0.0, 0.0, 0.0, 0.0, 0.0, 0.0, 3.49, 3.99, 15.99, 0.0, 0.0, 0.0, 0.0, 0.0, 0.0, 0.0, 0.0, 0.0, 0.0, 0.0], \"yaxis\": \"y\"}, {\"hoverlabel\": {\"namelength\": 0}, \"hovertemplate\": \"Category=PHOTOGRAPHY<br>Year=%{x}<br>Price=%{y}\", \"legendgroup\": \"Category=PHOTOGRAPHY\", \"marker\": {\"color\": \"#EF553B\", \"symbol\": \"diamond\"}, \"mode\": \"markers\", \"name\": \"Category=PHOTOGRAPHY\", \"showlegend\": true, \"type\": \"scattergl\", \"x\": [2012, 2014, 2014, 2014, 2014, 2014, 2015, 2015, 2015, 2015, 2015, 2015, 2015, 2015, 2015, 2015, 2015, 2015, 2015, 2016, 2016, 2016, 2016, 2016, 2016, 2016, 2016, 2016, 2016, 2016, 2016, 2016, 2016, 2016, 2016, 2016, 2016, 2016, 2016, 2016, 2016, 2016, 2017, 2017, 2017, 2017, 2017, 2017, 2017, 2017, 2017, 2017, 2017, 2017, 2017, 2017, 2017, 2017, 2017, 2017, 2017, 2017, 2017, 2017, 2017, 2017, 2017, 2017, 2017, 2017, 2017, 2017, 2017, 2017, 2017, 2017, 2017, 2017, 2017, 2017, 2017, 2017, 2017, 2017, 2017, 2017, 2017, 2017, 2017, 2017, 2017, 2017, 2017, 2017, 2017, 2017, 2017, 2017, 2017, 2017, 2017, 2017, 2017, 2017, 2017, 2017, 2018, 2018, 2018, 2018, 2018, 2018, 2018, 2018, 2018, 2018, 2018, 2018, 2018, 2018, 2018, 2018, 2018, 2018, 2018, 2018, 2018, 2018, 2018, 2018, 2018, 2018, 2018, 2018, 2018, 2018, 2018, 2018, 2018, 2018, 2018, 2018, 2018, 2018, 2018, 2018, 2018, 2018, 2018, 2018, 2018, 2018, 2018, 2018, 2018, 2018, 2018, 2018, 2018, 2018, 2018, 2018, 2018, 2018, 2018, 2018, 2018, 2018, 2018, 2018, 2018, 2018, 2018, 2018, 2018, 2018, 2018, 2018, 2018, 2018, 2018, 2018, 2018, 2018, 2018, 2018, 2018, 2018, 2018, 2018, 2018, 2018, 2018, 2018, 2018, 2018, 2018, 2018, 2018, 2018, 2018, 2018, 2018, 2018, 2018, 2018, 2018, 2018, 2018, 2018, 2018, 2018, 2018, 2018, 2018, 2018, 2018, 2018, 2018, 2018, 2018, 2018, 2018, 2018, 2018, 2018, 2018, 2018, 2018, 2018, 2018, 2018, 2018, 2018, 2018, 2018, 2018, 2018, 2018, 2018, 2018, 2018, 2018, 2018, 2018, 2018, 2018, 2018, 2018, 2018, 2018, 2018, 2018, 2018, 2018, 2018, 2018, 2018, 2018, 2018, 2018, 2018, 2018, 2018, 2018, 2018, 2018, 2018, 2018, 2018, 2018, 2018, 2018, 2018, 2018, 2018, 2018, 2018, 2018, 2018, 2018, 2018], \"xaxis\": \"x\", \"y\": [0.0, 0.0, 29.99, 0.0, 0.0, 2.99, 0.0, 0.0, 0.0, 4.99, 0.0, 0.0, 0.0, 0.0, 0.0, 0.0, 0.0, 0.0, 0.0, 0.0, 0.0, 0.0, 19.99, 0.0, 0.0, 0.0, 0.0, 0.0, 0.0, 0.0, 1.99, 0.0, 0.0, 0.0, 3.99, 0.0, 0.0, 0.0, 0.0, 0.0, 0.0, 1.49, 0.0, 0.0, 0.0, 0.0, 0.0, 0.0, 0.0, 0.0, 0.0, 0.0, 0.0, 0.0, 0.0, 3.49, 4.99, 0.0, 0.0, 0.0, 0.0, 0.0, 0.0, 0.0, 0.0, 0.0, 0.0, 0.0, 0.0, 0.0, 0.0, 0.0, 0.0, 0.0, 0.0, 0.0, 0.0, 0.0, 0.0, 9.99, 0.0, 0.0, 0.0, 0.0, 0.0, 3.95, 0.0, 0.0, 0.0, 2.99, 0.0, 0.0, 0.0, 0.0, 0.0, 0.0, 0.0, 0.0, 0.0, 0.0, 1.99, 0.0, 0.0, 0.0, 0.0, 0.0, 0.0, 0.0, 0.0, 0.0, 0.0, 0.0, 0.0, 0.0, 2.99, 9.99, 0.0, 0.0, 0.0, 0.0, 0.0, 0.0, 0.0, 0.0, 0.0, 0.0, 0.0, 0.0, 0.0, 0.0, 0.0, 0.0, 0.0, 0.0, 0.0, 0.0, 0.0, 0.0, 0.0, 0.0, 0.0, 0.0, 0.0, 0.0, 0.0, 0.0, 0.0, 0.0, 0.0, 0.0, 5.99, 0.0, 2.0, 0.0, 0.0, 0.0, 0.0, 0.0, 0.0, 0.0, 0.0, 0.0, 0.0, 0.0, 0.0, 0.0, 0.0, 0.0, 0.0, 0.0, 0.0, 0.0, 0.0, 0.0, 0.0, 0.0, 0.0, 0.0, 0.0, 0.0, 0.0, 0.0, 0.0, 0.0, 0.0, 0.0, 0.0, 0.0, 0.0, 0.0, 0.0, 0.0, 0.0, 0.0, 0.0, 0.0, 0.0, 0.0, 0.0, 0.0, 0.0, 0.0, 0.0, 0.0, 0.0, 0.0, 0.0, 0.0, 0.0, 0.0, 1.49, 0.0, 0.0, 0.0, 0.0, 0.0, 0.0, 0.0, 0.0, 0.0, 0.0, 0.0, 0.0, 0.0, 0.0, 0.0, 0.0, 0.0, 0.0, 0.0, 0.0, 0.0, 0.0, 0.0, 0.0, 0.0, 0.0, 0.0, 0.0, 0.0, 0.0, 0.0, 0.0, 0.0, 0.0, 0.0, 0.0, 0.0, 0.0, 0.0, 0.0, 0.0, 0.0, 0.0, 0.0, 0.0, 0.0, 0.0, 0.0, 0.0, 0.0, 0.0, 0.0, 0.0, 0.0, 0.0, 0.0, 0.0, 0.0, 0.0, 0.0, 0.0, 0.0, 0.0, 0.0, 0.0, 0.0, 0.0, 0.0, 0.0, 0.0, 2.99], \"yaxis\": \"y\"}, {\"hoverlabel\": {\"namelength\": 0}, \"hovertemplate\": \"Category=PRODUCTIVITY<br>Year=%{x}<br>Price=%{y}\", \"legendgroup\": \"Category=PRODUCTIVITY\", \"marker\": {\"color\": \"#00cc96\", \"symbol\": \"square\"}, \"mode\": \"markers\", \"name\": \"Category=PRODUCTIVITY\", \"showlegend\": true, \"type\": \"scattergl\", \"x\": [2012, 2013, 2013, 2013, 2013, 2013, 2014, 2014, 2014, 2014, 2014, 2014, 2014, 2014, 2014, 2014, 2014, 2014, 2015, 2015, 2015, 2015, 2015, 2015, 2015, 2015, 2015, 2015, 2015, 2015, 2015, 2015, 2015, 2015, 2015, 2015, 2015, 2015, 2016, 2016, 2016, 2016, 2016, 2016, 2016, 2016, 2016, 2016, 2016, 2016, 2016, 2016, 2016, 2016, 2016, 2016, 2016, 2016, 2016, 2016, 2016, 2016, 2016, 2016, 2016, 2016, 2016, 2016, 2016, 2016, 2016, 2016, 2016, 2016, 2017, 2017, 2017, 2017, 2017, 2017, 2017, 2017, 2017, 2017, 2017, 2017, 2017, 2017, 2017, 2017, 2017, 2017, 2017, 2017, 2017, 2017, 2017, 2017, 2017, 2017, 2017, 2017, 2017, 2017, 2017, 2017, 2017, 2017, 2017, 2017, 2017, 2017, 2017, 2017, 2017, 2017, 2017, 2017, 2017, 2017, 2017, 2017, 2017, 2017, 2017, 2017, 2017, 2017, 2017, 2017, 2017, 2017, 2017, 2017, 2017, 2017, 2017, 2017, 2018, 2018, 2018, 2018, 2018, 2018, 2018, 2018, 2018, 2018, 2018, 2018, 2018, 2018, 2018, 2018, 2018, 2018, 2018, 2018, 2018, 2018, 2018, 2018, 2018, 2018, 2018, 2018, 2018, 2018, 2018, 2018, 2018, 2018, 2018, 2018, 2018, 2018, 2018, 2018, 2018, 2018, 2018, 2018, 2018, 2018, 2018, 2018, 2018, 2018, 2018, 2018, 2018, 2018, 2018, 2018, 2018, 2018, 2018, 2018, 2018, 2018, 2018, 2018, 2018, 2018, 2018, 2018, 2018, 2018, 2018, 2018, 2018, 2018, 2018, 2018, 2018, 2018, 2018, 2018, 2018, 2018, 2018, 2018, 2018, 2018, 2018, 2018, 2018, 2018, 2018, 2018, 2018, 2018, 2018, 2018, 2018, 2018, 2018, 2018, 2018, 2018, 2018, 2018, 2018, 2018, 2018, 2018, 2018, 2018, 2018, 2018, 2018, 2018, 2018, 2018, 2018, 2018, 2018, 2018, 2018, 2018, 2018, 2018, 2018, 2018, 2018, 2018, 2018, 2018, 2018, 2018, 2018, 2018, 2018, 2018, 2018, 2018, 2018, 2018, 2018, 2018, 2018, 2018, 2018, 2018, 2018, 2018, 2018, 2018, 2018, 2018, 2018, 2018, 2018, 2018, 2018, 2018, 2018, 2018, 2018, 2018, 2018, 2018, 2018, 2018, 2018, 2018, 2018, 2018, 2018, 2018, 2018, 2018, 2018, 2018, 2018, 2018, 2018, 2018, 2018, 2018, 2018, 2018, 2018, 2018, 2018, 2018, 2018, 2018, 2018, 2018, 2018, 2018, 2018, 2018, 2018, 2018, 2018, 2018, 2018, 2018, 2018, 2018, 2018, 2018, 2018, 2018, 2018, 2018, 2018, 2018, 2018, 2018, 2018, 2018, 2018, 2018, 2018, 2018, 2018, 2018, 2018, 2018, 2018, 2018, 2018, 2018, 2018, 2018, 2018, 2018, 2018, 2018, 2018, 2018, 2018], \"xaxis\": \"x\", \"y\": [0.0, 1.29, 0.0, 0.0, 0.99, 0.0, 0.0, 0.0, 0.99, 4.99, 6.49, 2.6, 0.0, 0.0, 0.0, 0.0, 0.0, 1.99, 0.0, 0.0, 0.0, 0.0, 2.99, 0.0, 0.0, 0.0, 0.0, 0.0, 0.0, 0.0, 0.0, 0.0, 0.0, 0.0, 0.0, 0.0, 0.0, 0.0, 0.0, 0.0, 4.29, 0.0, 0.0, 0.0, 0.0, 0.0, 0.0, 0.0, 0.0, 0.0, 0.0, 0.0, 0.0, 0.0, 0.0, 0.0, 0.0, 0.0, 2.99, 0.0, 0.0, 0.0, 0.0, 0.0, 0.0, 0.0, 0.0, 0.0, 0.0, 0.0, 0.0, 0.0, 8.99, 0.0, 154.99, 0.0, 0.0, 0.0, 0.0, 0.0, 0.0, 0.0, 0.0, 0.0, 0.0, 0.0, 0.0, 0.99, 7.99, 8.49, 0.0, 0.0, 0.0, 0.0, 0.0, 0.0, 0.0, 0.0, 0.0, 0.0, 0.0, 0.0, 0.0, 2.99, 0.0, 0.0, 0.0, 0.0, 0.0, 0.0, 0.0, 0.0, 0.0, 0.0, 0.0, 0.0, 0.0, 0.0, 0.0, 0.0, 0.0, 0.0, 0.0, 0.0, 0.0, 0.0, 0.0, 0.0, 0.0, 1.99, 0.0, 0.0, 0.0, 0.0, 0.0, 0.0, 0.0, 0.0, 0.0, 0.0, 0.0, 0.0, 0.0, 0.0, 0.0, 0.0, 0.0, 0.0, 0.0, 0.0, 0.0, 0.0, 0.0, 0.0, 0.0, 0.0, 0.0, 0.0, 0.0, 0.0, 0.0, 0.0, 0.0, 0.0, 0.0, 0.0, 0.0, 0.0, 0.0, 0.0, 0.0, 0.0, 0.0, 0.0, 0.0, 0.0, 0.0, 0.0, 0.0, 0.0, 0.0, 0.0, 0.0, 0.0, 0.0, 0.0, 0.0, 0.0, 0.0, 0.0, 0.0, 0.0, 0.0, 0.0, 0.0, 0.0, 0.0, 0.0, 0.0, 0.0, 0.0, 0.0, 0.0, 0.0, 0.99, 2.99, 2.99, 0.0, 0.0, 0.0, 0.0, 0.0, 0.0, 0.0, 0.0, 0.0, 0.0, 0.0, 0.0, 0.0, 0.0, 0.0, 0.0, 0.0, 0.0, 0.0, 0.0, 0.0, 0.0, 0.0, 0.0, 0.0, 0.0, 0.0, 0.0, 0.0, 0.0, 0.0, 0.0, 0.0, 0.0, 0.0, 0.0, 0.0, 0.0, 0.0, 0.0, 0.0, 0.0, 0.0, 0.0, 0.0, 0.0, 0.0, 0.0, 0.0, 0.0, 0.0, 0.0, 0.0, 0.0, 0.0, 0.0, 0.0, 0.0, 0.0, 0.0, 0.99, 0.0, 0.0, 0.0, 0.0, 0.0, 0.0, 0.0, 0.0, 0.0, 0.0, 0.0, 0.0, 0.0, 0.0, 0.0, 0.0, 0.0, 4.49, 4.99, 5.99, 0.0, 0.0, 0.0, 0.0, 0.0, 0.0, 0.0, 0.0, 0.0, 0.0, 0.0, 0.0, 0.0, 0.0, 0.0, 0.0, 0.0, 0.0, 0.0, 0.0, 0.0, 0.0, 0.0, 3.99, 0.0, 0.0, 0.0, 0.0, 0.0, 0.0, 0.0, 0.0, 0.0, 0.0, 0.0, 0.0, 0.0, 0.0, 0.0, 0.0, 0.0, 0.0, 0.0, 0.0, 0.0, 0.0, 0.0, 0.0, 0.0, 0.0, 0.0, 0.0, 0.0, 0.0, 0.0, 0.0, 1.49, 2.99, 0.0, 0.0, 0.0, 0.0, 0.0, 0.0, 0.0, 0.0, 0.0, 0.0, 0.0, 0.0, 0.0, 0.0, 0.0, 0.0, 0.0, 0.0, 0.0, 0.0, 0.0, 0.0, 0.0, 0.0, 2.99, 0.0, 0.0, 0.0, 0.0], \"yaxis\": \"y\"}, {\"hoverlabel\": {\"namelength\": 0}, \"hovertemplate\": \"Category=SHOPPING<br>Year=%{x}<br>Price=%{y}\", \"legendgroup\": \"Category=SHOPPING\", \"marker\": {\"color\": \"#ab63fa\", \"symbol\": \"x\"}, \"mode\": \"markers\", \"name\": \"Category=SHOPPING\", \"showlegend\": true, \"type\": \"scattergl\", \"x\": [2012, 2013, 2015, 2015, 2015, 2016, 2016, 2016, 2016, 2016, 2016, 2016, 2017, 2017, 2017, 2017, 2017, 2017, 2017, 2017, 2017, 2017, 2017, 2017, 2017, 2017, 2017, 2017, 2017, 2017, 2017, 2018, 2018, 2018, 2018, 2018, 2018, 2018, 2018, 2018, 2018, 2018, 2018, 2018, 2018, 2018, 2018, 2018, 2018, 2018, 2018, 2018, 2018, 2018, 2018, 2018, 2018, 2018, 2018, 2018, 2018, 2018, 2018, 2018, 2018, 2018, 2018, 2018, 2018, 2018, 2018, 2018, 2018, 2018, 2018, 2018, 2018, 2018, 2018, 2018, 2018, 2018, 2018, 2018, 2018, 2018, 2018, 2018, 2018, 2018, 2018, 2018, 2018, 2018, 2018, 2018, 2018, 2018, 2018, 2018, 2018, 2018, 2018, 2018, 2018, 2018, 2018, 2018, 2018, 2018, 2018, 2018, 2018, 2018, 2018, 2018, 2018, 2018, 2018, 2018, 2018, 2018, 2018, 2018, 2018, 2018, 2018, 2018, 2018, 2018, 2018, 2018, 2018, 2018, 2018, 2018, 2018, 2018, 2018, 2018, 2018, 2018, 2018, 2018, 2018, 2018, 2018, 2018, 2018, 2018, 2018, 2018, 2018, 2018, 2018, 2018, 2018, 2018, 2018, 2018, 2018, 2018, 2018, 2018, 2018, 2018, 2018, 2018, 2018, 2018, 2018, 2018, 2018, 2018, 2018, 2018, 2018, 2018, 2018, 2018, 2018, 2018, 2018, 2018, 2018, 2018, 2018, 2018, 2018, 2018, 2018, 2018, 2018, 2018, 2018, 2018, 2018, 2018, 2018, 2018, 2018, 2018], \"xaxis\": \"x\", \"y\": [0.0, 0.0, 0.0, 0.0, 0.0, 0.0, 0.0, 0.0, 0.0, 0.0, 0.0, 0.0, 0.0, 0.0, 0.0, 0.0, 0.0, 0.0, 0.0, 0.0, 0.0, 0.0, 0.0, 0.0, 0.0, 0.0, 0.0, 0.0, 0.0, 0.0, 0.0, 0.0, 0.0, 0.0, 0.0, 0.0, 0.0, 0.0, 0.0, 0.0, 0.0, 0.0, 0.0, 0.0, 0.0, 0.0, 0.0, 0.0, 0.0, 0.0, 0.0, 0.0, 0.0, 0.0, 0.0, 0.0, 0.0, 0.0, 0.0, 0.0, 0.0, 0.0, 0.0, 0.0, 0.0, 0.0, 0.0, 0.0, 0.0, 0.0, 0.0, 0.0, 0.0, 0.0, 0.0, 0.0, 0.0, 0.0, 0.0, 2.99, 0.0, 0.0, 0.0, 0.0, 0.0, 0.0, 0.0, 0.0, 0.0, 0.0, 0.0, 0.0, 0.0, 0.0, 0.0, 0.0, 0.0, 0.0, 0.0, 0.0, 0.0, 0.0, 0.0, 0.0, 0.0, 0.0, 0.0, 0.0, 0.0, 0.0, 0.0, 0.0, 0.0, 0.0, 0.0, 0.0, 0.0, 0.0, 0.0, 0.0, 0.0, 0.0, 0.0, 0.0, 0.0, 0.0, 2.49, 0.0, 0.0, 0.0, 0.0, 0.0, 0.0, 0.0, 0.0, 0.0, 0.0, 0.0, 0.0, 0.0, 0.0, 0.0, 0.0, 0.0, 0.0, 0.0, 0.0, 0.0, 0.0, 0.0, 0.0, 0.0, 0.0, 0.0, 0.0, 0.0, 0.0, 0.0, 0.0, 0.0, 0.0, 0.0, 0.0, 0.0, 0.0, 0.0, 0.0, 0.0, 0.0, 0.0, 0.0, 0.0, 0.0, 0.0, 0.0, 0.0, 0.0, 0.0, 0.0, 0.0, 0.0, 0.0, 0.0, 0.0, 0.0, 0.0, 0.0, 0.0, 0.0, 0.0, 0.0, 0.0, 0.0, 0.0, 0.0, 0.0, 0.0, 0.0, 0.0, 0.0, 0.0, 0.0], \"yaxis\": \"y\"}, {\"hoverlabel\": {\"namelength\": 0}, \"hovertemplate\": \"Category=EDUCATION<br>Year=%{x}<br>Price=%{y}\", \"legendgroup\": \"Category=EDUCATION\", \"marker\": {\"color\": \"#FFA15A\", \"symbol\": \"cross\"}, \"mode\": \"markers\", \"name\": \"Category=EDUCATION\", \"showlegend\": true, \"type\": \"scattergl\", \"x\": [2013, 2014, 2014, 2014, 2015, 2015, 2015, 2015, 2015, 2016, 2016, 2016, 2016, 2016, 2016, 2016, 2016, 2016, 2017, 2017, 2017, 2017, 2017, 2017, 2017, 2017, 2017, 2017, 2017, 2017, 2017, 2017, 2017, 2017, 2017, 2017, 2017, 2017, 2017, 2017, 2017, 2017, 2017, 2017, 2018, 2018, 2018, 2018, 2018, 2018, 2018, 2018, 2018, 2018, 2018, 2018, 2018, 2018, 2018, 2018, 2018, 2018, 2018, 2018, 2018, 2018, 2018, 2018, 2018, 2018, 2018, 2018, 2018, 2018, 2018, 2018, 2018, 2018, 2018, 2018, 2018, 2018, 2018, 2018, 2018, 2018, 2018, 2018, 2018, 2018, 2018, 2018, 2018, 2018, 2018, 2018, 2018, 2018, 2018, 2018, 2018, 2018, 2018, 2018, 2018, 2018, 2018, 2018, 2018, 2018, 2018, 2018, 2018, 2018, 2018, 2018, 2018, 2018, 2018], \"xaxis\": \"x\", \"y\": [0.0, 0.0, 0.0, 0.0, 0.0, 0.0, 0.0, 0.0, 0.0, 0.0, 0.0, 0.0, 0.0, 0.0, 0.0, 0.0, 0.0, 0.0, 3.99, 5.99, 0.0, 0.0, 0.0, 0.0, 0.0, 0.0, 0.0, 0.0, 0.0, 0.0, 0.0, 0.0, 0.0, 0.0, 0.0, 0.0, 0.0, 0.0, 0.0, 0.0, 0.0, 0.0, 0.0, 0.0, 0.0, 0.0, 0.0, 0.0, 0.0, 0.0, 0.0, 0.0, 0.0, 0.0, 0.0, 0.0, 0.0, 0.0, 0.0, 0.0, 0.0, 0.0, 0.0, 0.0, 0.0, 0.0, 0.0, 0.0, 0.0, 0.0, 0.0, 0.0, 0.0, 0.0, 0.0, 0.0, 0.0, 0.0, 0.0, 0.0, 0.0, 0.0, 0.0, 0.0, 0.0, 0.0, 0.0, 0.0, 0.0, 0.0, 0.0, 0.0, 3.99, 0.0, 0.0, 0.0, 0.0, 0.0, 0.0, 0.0, 0.0, 0.0, 0.0, 0.0, 0.0, 0.0, 0.0, 0.0, 0.0, 0.0, 0.0, 0.0, 0.0, 0.0, 0.0, 0.0, 0.0, 0.0, 3.99], \"yaxis\": \"y\"}, {\"hoverlabel\": {\"namelength\": 0}, \"hovertemplate\": \"Category=HOUSE_AND_HOME<br>Year=%{x}<br>Price=%{y}\", \"legendgroup\": \"Category=HOUSE_AND_HOME\", \"marker\": {\"color\": \"#19d3f3\", \"symbol\": \"circle\"}, \"mode\": \"markers\", \"name\": \"Category=HOUSE_AND_HOME\", \"showlegend\": true, \"type\": \"scattergl\", \"x\": [2013, 2015, 2015, 2015, 2015, 2015, 2015, 2015, 2016, 2017, 2017, 2017, 2017, 2017, 2017, 2017, 2017, 2017, 2017, 2018, 2018, 2018, 2018, 2018, 2018, 2018, 2018, 2018, 2018, 2018, 2018, 2018, 2018, 2018, 2018, 2018, 2018, 2018, 2018, 2018, 2018, 2018, 2018, 2018, 2018, 2018, 2018, 2018, 2018, 2018, 2018, 2018, 2018, 2018, 2018, 2018, 2018, 2018, 2018, 2018, 2018, 2018, 2018, 2018, 2018, 2018, 2018, 2018, 2018, 2018, 2018, 2018, 2018, 2018], \"xaxis\": \"x\", \"y\": [0.0, 0.0, 0.0, 0.0, 0.0, 0.0, 0.0, 0.0, 0.0, 0.0, 0.0, 0.0, 0.0, 0.0, 0.0, 0.0, 0.0, 0.0, 0.0, 0.0, 0.0, 0.0, 0.0, 0.0, 0.0, 0.0, 0.0, 0.0, 0.0, 0.0, 0.0, 0.0, 0.0, 0.0, 0.0, 0.0, 0.0, 0.0, 0.0, 0.0, 0.0, 0.0, 0.0, 0.0, 0.0, 0.0, 0.0, 0.0, 0.0, 0.0, 0.0, 0.0, 0.0, 0.0, 0.0, 0.0, 0.0, 0.0, 0.0, 0.0, 0.0, 0.0, 0.0, 0.0, 0.0, 0.0, 0.0, 0.0, 0.0, 0.0, 0.0, 0.0, 0.0, 0.0], \"yaxis\": \"y\"}, {\"hoverlabel\": {\"namelength\": 0}, \"hovertemplate\": \"Category=MAPS_AND_NAVIGATION<br>Year=%{x}<br>Price=%{y}\", \"legendgroup\": \"Category=MAPS_AND_NAVIGATION\", \"marker\": {\"color\": \"#FF6692\", \"symbol\": \"diamond\"}, \"mode\": \"markers\", \"name\": \"Category=MAPS_AND_NAVIGATION\", \"showlegend\": true, \"type\": \"scattergl\", \"x\": [2013, 2013, 2013, 2014, 2015, 2015, 2015, 2016, 2016, 2016, 2016, 2016, 2017, 2017, 2017, 2017, 2017, 2017, 2017, 2017, 2017, 2017, 2017, 2017, 2017, 2017, 2017, 2017, 2017, 2017, 2017, 2017, 2017, 2018, 2018, 2018, 2018, 2018, 2018, 2018, 2018, 2018, 2018, 2018, 2018, 2018, 2018, 2018, 2018, 2018, 2018, 2018, 2018, 2018, 2018, 2018, 2018, 2018, 2018, 2018, 2018, 2018, 2018, 2018, 2018, 2018, 2018, 2018, 2018, 2018, 2018, 2018, 2018, 2018, 2018, 2018, 2018, 2018, 2018, 2018, 2018, 2018, 2018, 2018, 2018, 2018, 2018, 2018, 2018, 2018, 2018, 2018, 2018, 2018, 2018, 2018, 2018, 2018, 2018, 2018, 2018, 2018, 2018, 2018, 2018, 2018, 2018, 2018, 2018, 2018, 2018, 2018, 2018, 2018, 2018, 2018, 2018, 2018, 2018, 2018, 2018, 2018, 2018, 2018, 2018, 2018, 2018, 2018, 2018, 2018, 2018], \"xaxis\": \"x\", \"y\": [0.0, 0.0, 0.0, 0.0, 0.0, 0.0, 0.0, 0.0, 0.0, 0.0, 9.99, 0.0, 0.0, 0.0, 0.0, 0.0, 0.0, 0.0, 0.0, 0.0, 0.0, 0.0, 0.0, 0.0, 0.0, 0.0, 0.0, 0.0, 0.0, 0.0, 0.0, 0.0, 0.0, 0.0, 0.0, 0.0, 0.0, 0.0, 0.0, 0.0, 0.0, 0.99, 0.0, 0.0, 0.0, 0.0, 0.0, 0.0, 0.0, 0.0, 0.0, 0.0, 0.0, 0.0, 0.0, 0.0, 0.0, 0.0, 0.0, 0.0, 0.0, 0.0, 0.0, 0.0, 0.0, 0.0, 0.0, 0.0, 0.0, 0.0, 0.0, 0.0, 0.0, 0.0, 0.0, 0.0, 0.99, 2.99, 0.0, 0.0, 0.0, 0.0, 0.0, 0.0, 0.0, 0.0, 0.0, 0.0, 0.0, 0.0, 0.0, 0.0, 0.0, 0.0, 0.0, 0.0, 0.0, 0.0, 0.0, 11.99, 0.0, 0.0, 0.0, 0.0, 0.0, 0.0, 0.0, 0.0, 0.0, 0.0, 0.0, 0.0, 0.0, 0.0, 0.0, 0.0, 0.0, 0.0, 0.0, 0.0, 0.0, 0.0, 0.0, 0.0, 0.0, 0.0, 0.0, 0.0, 0.0, 0.0, 0.0], \"yaxis\": \"y\"}, {\"hoverlabel\": {\"namelength\": 0}, \"hovertemplate\": \"Category=PERSONALIZATION<br>Year=%{x}<br>Price=%{y}\", \"legendgroup\": \"Category=PERSONALIZATION\", \"marker\": {\"color\": \"#B6E880\", \"symbol\": \"square\"}, \"mode\": \"markers\", \"name\": \"Category=PERSONALIZATION\", \"showlegend\": true, \"type\": \"scattergl\", \"x\": [2013, 2013, 2013, 2013, 2013, 2013, 2013, 2013, 2013, 2013, 2013, 2013, 2013, 2013, 2013, 2013, 2014, 2014, 2014, 2014, 2014, 2014, 2014, 2014, 2014, 2014, 2014, 2014, 2014, 2014, 2014, 2014, 2014, 2015, 2015, 2015, 2015, 2015, 2015, 2015, 2015, 2015, 2015, 2015, 2015, 2015, 2015, 2015, 2015, 2015, 2015, 2015, 2015, 2015, 2015, 2015, 2015, 2016, 2016, 2016, 2016, 2016, 2016, 2016, 2016, 2016, 2016, 2016, 2016, 2016, 2016, 2016, 2016, 2016, 2016, 2016, 2016, 2016, 2016, 2016, 2016, 2016, 2016, 2016, 2016, 2016, 2016, 2016, 2016, 2016, 2016, 2016, 2016, 2016, 2016, 2016, 2016, 2016, 2016, 2016, 2016, 2016, 2016, 2016, 2016, 2016, 2016, 2016, 2016, 2016, 2016, 2016, 2016, 2016, 2016, 2016, 2017, 2017, 2017, 2017, 2017, 2017, 2017, 2017, 2017, 2017, 2017, 2017, 2017, 2017, 2017, 2017, 2017, 2017, 2017, 2017, 2017, 2017, 2017, 2017, 2017, 2017, 2017, 2017, 2017, 2017, 2017, 2017, 2017, 2017, 2017, 2017, 2017, 2017, 2017, 2017, 2017, 2017, 2017, 2017, 2017, 2017, 2017, 2017, 2017, 2017, 2017, 2017, 2017, 2017, 2017, 2017, 2018, 2018, 2018, 2018, 2018, 2018, 2018, 2018, 2018, 2018, 2018, 2018, 2018, 2018, 2018, 2018, 2018, 2018, 2018, 2018, 2018, 2018, 2018, 2018, 2018, 2018, 2018, 2018, 2018, 2018, 2018, 2018, 2018, 2018, 2018, 2018, 2018, 2018, 2018, 2018, 2018, 2018, 2018, 2018, 2018, 2018, 2018, 2018, 2018, 2018, 2018, 2018, 2018, 2018, 2018, 2018, 2018, 2018, 2018, 2018, 2018, 2018, 2018, 2018, 2018, 2018, 2018, 2018, 2018, 2018, 2018, 2018, 2018, 2018, 2018, 2018, 2018, 2018, 2018, 2018, 2018, 2018, 2018, 2018, 2018, 2018, 2018, 2018, 2018, 2018, 2018, 2018, 2018, 2018, 2018, 2018, 2018, 2018, 2018, 2018, 2018, 2018, 2018, 2018, 2018, 2018, 2018, 2018, 2018, 2018, 2018, 2018, 2018, 2018, 2018, 2018, 2018, 2018, 2018, 2018, 2018, 2018, 2018, 2018, 2018, 2018, 2018, 2018, 2018, 2018, 2018, 2018, 2018, 2018, 2018, 2018, 2018, 2018, 2018, 2018, 2018, 2018, 2018, 2018, 2018, 2018, 2018, 2018, 2018, 2018, 2018, 2018, 2018, 2018, 2018, 2018, 2018, 2018, 2018, 2018, 2018, 2018, 2018, 2018, 2018, 2018, 2018, 2018, 2018, 2018, 2018, 2018, 2018, 2018, 2018, 2018, 2018, 2018, 2018, 2018, 2018, 2018, 2018, 2018, 2018, 2018, 2018, 2018, 2018, 2018, 2018, 2018, 2018, 2018, 2018, 2018, 2018, 2018, 2018, 2018, 2018, 2018, 2018, 2018], \"xaxis\": \"x\", \"y\": [0.0, 0.0, 0.0, 0.0, 0.0, 0.0, 0.99, 1.99, 0.0, 0.0, 0.0, 0.99, 4.85, 0.99, 2.0, 2.49, 0.99, 0.0, 0.0, 0.0, 0.0, 0.0, 1.99, 0.0, 0.0, 0.0, 0.0, 0.0, 0.99, 0.0, 0.0, 0.0, 0.0, 1.7, 1.7, 4.99, 0.0, 0.0, 0.0, 0.0, 0.0, 0.0, 0.99, 0.0, 0.99, 0.99, 0.0, 0.0, 0.0, 0.0, 0.0, 0.99, 0.0, 0.0, 0.0, 0.99, 0.0, 0.0, 0.0, 0.0, 0.0, 0.0, 0.0, 0.0, 0.0, 0.0, 3.99, 4.99, 0.0, 0.0, 0.0, 0.0, 0.0, 0.0, 0.0, 0.99, 2.49, 0.0, 0.0, 0.0, 0.0, 0.0, 0.0, 0.0, 0.0, 0.0, 0.0, 0.0, 0.0, 0.0, 0.0, 0.0, 0.0, 0.0, 0.0, 0.0, 0.0, 0.0, 0.0, 1.49, 0.0, 0.0, 4.99, 0.99, 0.0, 1.99, 0.0, 0.0, 0.0, 0.0, 1.49, 0.0, 0.0, 0.0, 0.0, 0.0, 0.99, 0.99, 0.0, 0.0, 0.0, 0.99, 0.99, 0.0, 0.0, 0.0, 0.0, 0.0, 0.0, 0.0, 0.99, 2.49, 0.0, 0.0, 0.0, 0.0, 0.0, 1.99, 2.99, 0.0, 0.0, 0.0, 0.0, 0.0, 0.0, 0.0, 0.0, 0.0, 0.0, 0.0, 0.99, 1.49, 2.49, 0.0, 0.0, 0.0, 1.99, 0.0, 0.0, 0.0, 0.99, 6.99, 0.0, 0.0, 0.0, 0.0, 0.0, 0.0, 0.0, 0.0, 1.49, 1.49, 1.49, 0.0, 0.0, 0.0, 1.49, 1.49, 0.0, 0.0, 0.0, 0.0, 0.0, 0.0, 0.0, 0.0, 0.0, 0.0, 0.0, 0.0, 0.0, 0.0, 0.99, 0.99, 1.49, 1.49, 1.99, 2.49, 0.0, 0.0, 0.0, 0.0, 0.0, 0.0, 0.0, 0.0, 0.0, 0.0, 0.0, 0.0, 0.0, 0.0, 0.0, 0.0, 0.0, 0.0, 0.0, 0.0, 0.0, 0.0, 0.0, 0.0, 0.0, 0.0, 0.0, 0.0, 0.0, 0.0, 0.0, 0.0, 0.0, 0.99, 0.99, 0.99, 0.99, 0.99, 1.49, 0.0, 0.0, 0.0, 0.0, 0.0, 0.0, 0.0, 0.0, 0.0, 0.0, 0.0, 0.0, 0.0, 0.99, 0.99, 0.99, 0.99, 0.99, 9.99, 0.0, 0.0, 0.0, 0.0, 0.0, 0.0, 0.0, 0.0, 0.0, 0.0, 0.0, 0.0, 0.0, 0.0, 0.0, 0.0, 0.0, 0.0, 0.0, 0.0, 0.0, 0.0, 0.0, 0.0, 0.0, 0.0, 0.0, 0.0, 0.0, 0.0, 0.0, 0.0, 0.0, 0.0, 0.0, 0.0, 0.0, 0.99, 0.99, 0.99, 0.99, 1.49, 1.49, 1.49, 1.99, 0.0, 0.0, 0.0, 0.0, 0.0, 0.0, 0.0, 0.0, 0.0, 0.0, 2.99, 4.49, 0.0, 0.0, 0.0, 0.0, 0.0, 0.0, 0.0, 0.0, 0.0, 1.49, 0.0, 0.0, 0.0, 0.0, 0.0, 0.0, 1.49, 0.0, 0.0, 0.0, 0.0, 0.0, 0.0, 0.0, 0.0, 0.0, 0.0, 0.0, 0.0, 0.0, 0.99, 0.99, 2.99, 0.0, 0.0, 0.0, 0.0, 2.49, 0.0, 0.0, 0.0, 0.0, 0.0, 0.0, 0.0, 0.0, 0.0, 0.0, 0.0, 0.0, 1.49, 0.0, 0.0, 0.0, 0.0, 0.0, 0.0, 0.0, 0.0, 0.0, 0.0, 0.0, 0.0], \"yaxis\": \"y\"}, {\"hoverlabel\": {\"namelength\": 0}, \"hovertemplate\": \"Category=SOCIAL<br>Year=%{x}<br>Price=%{y}\", \"legendgroup\": \"Category=SOCIAL\", \"marker\": {\"color\": \"#FF97FF\", \"symbol\": \"x\"}, \"mode\": \"markers\", \"name\": \"Category=SOCIAL\", \"showlegend\": true, \"type\": \"scattergl\", \"x\": [2013, 2013, 2014, 2014, 2014, 2014, 2015, 2015, 2015, 2015, 2015, 2015, 2015, 2015, 2015, 2016, 2016, 2016, 2016, 2016, 2016, 2016, 2016, 2016, 2016, 2016, 2016, 2016, 2016, 2016, 2016, 2016, 2017, 2017, 2017, 2017, 2017, 2017, 2017, 2017, 2017, 2017, 2017, 2017, 2017, 2017, 2017, 2017, 2017, 2017, 2017, 2017, 2017, 2017, 2017, 2017, 2017, 2017, 2017, 2017, 2017, 2017, 2017, 2017, 2017, 2017, 2017, 2017, 2018, 2018, 2018, 2018, 2018, 2018, 2018, 2018, 2018, 2018, 2018, 2018, 2018, 2018, 2018, 2018, 2018, 2018, 2018, 2018, 2018, 2018, 2018, 2018, 2018, 2018, 2018, 2018, 2018, 2018, 2018, 2018, 2018, 2018, 2018, 2018, 2018, 2018, 2018, 2018, 2018, 2018, 2018, 2018, 2018, 2018, 2018, 2018, 2018, 2018, 2018, 2018, 2018, 2018, 2018, 2018, 2018, 2018, 2018, 2018, 2018, 2018, 2018, 2018, 2018, 2018, 2018, 2018, 2018, 2018, 2018, 2018, 2018, 2018, 2018, 2018, 2018, 2018, 2018, 2018, 2018, 2018, 2018, 2018, 2018, 2018, 2018, 2018, 2018, 2018, 2018, 2018, 2018, 2018, 2018, 2018, 2018, 2018, 2018, 2018, 2018, 2018, 2018, 2018, 2018, 2018, 2018, 2018, 2018, 2018, 2018, 2018, 2018, 2018, 2018, 2018, 2018, 2018, 2018, 2018, 2018, 2018, 2018, 2018, 2018, 2018, 2018, 2018, 2018, 2018, 2018, 2018, 2018, 2018, 2018, 2018, 2018, 2018, 2018, 2018, 2018, 2018, 2018, 2018, 2018, 2018, 2018, 2018, 2018, 2018, 2018, 2018, 2018, 2018, 2018, 2018, 2018, 2018, 2018, 2018, 2018, 2018, 2018, 2018, 2018, 2018, 2018, 2018, 2018, 2018, 2018], \"xaxis\": \"x\", \"y\": [0.0, 0.0, 0.0, 0.0, 0.0, 0.0, 0.0, 0.0, 0.0, 0.0, 0.0, 0.0, 0.0, 0.0, 0.0, 0.0, 0.0, 0.0, 0.0, 0.0, 0.0, 0.0, 0.0, 0.0, 0.0, 0.0, 0.0, 0.0, 0.0, 0.0, 0.0, 0.0, 13.99, 0.0, 0.0, 0.0, 0.0, 0.0, 0.0, 0.0, 0.0, 0.0, 0.0, 0.0, 0.0, 0.0, 0.0, 0.0, 0.0, 0.0, 0.0, 0.0, 0.0, 0.0, 0.0, 0.0, 0.0, 0.99, 0.0, 0.0, 0.0, 0.0, 0.0, 0.0, 0.0, 0.0, 0.0, 0.0, 0.0, 0.0, 0.0, 0.0, 0.0, 0.0, 0.0, 0.0, 0.0, 0.0, 0.0, 0.0, 0.0, 0.0, 0.0, 0.0, 0.0, 0.99, 0.0, 0.0, 0.0, 0.0, 0.0, 0.0, 0.0, 0.0, 0.0, 0.0, 0.0, 0.0, 0.0, 0.0, 0.0, 0.0, 0.0, 0.0, 0.0, 0.0, 0.0, 0.0, 0.0, 0.0, 0.0, 0.0, 0.0, 0.0, 0.0, 0.0, 0.0, 0.0, 0.0, 0.0, 0.0, 0.0, 0.0, 0.0, 0.0, 0.0, 0.0, 0.0, 0.0, 0.0, 0.0, 0.0, 0.0, 0.0, 0.0, 0.0, 0.0, 0.0, 0.0, 0.0, 0.0, 0.0, 0.0, 0.0, 0.0, 0.0, 0.0, 0.0, 0.0, 0.0, 0.0, 0.0, 0.0, 0.0, 0.0, 0.0, 0.0, 0.0, 0.0, 0.0, 0.0, 0.0, 0.0, 0.0, 0.0, 0.0, 0.0, 0.0, 0.0, 0.0, 0.0, 0.0, 0.0, 0.0, 0.0, 0.0, 0.0, 0.0, 0.0, 0.0, 0.0, 0.0, 0.0, 0.0, 0.0, 0.0, 0.0, 0.0, 0.0, 0.0, 0.0, 0.0, 0.0, 0.0, 0.0, 0.0, 0.0, 0.0, 0.0, 0.0, 0.0, 0.0, 0.0, 0.0, 0.0, 0.0, 0.0, 0.0, 0.0, 0.0, 0.0, 0.0, 0.0, 0.0, 0.0, 0.0, 0.0, 0.0, 0.0, 0.0, 0.0, 0.0, 0.0, 0.0, 0.0, 0.0, 0.0, 0.0, 0.0, 0.0, 0.0, 0.0, 0.0, 0.0, 0.0, 0.0, 0.0, 0.0, 0.0], \"yaxis\": \"y\"}, {\"hoverlabel\": {\"namelength\": 0}, \"hovertemplate\": \"Category=SPORTS<br>Year=%{x}<br>Price=%{y}\", \"legendgroup\": \"Category=SPORTS\", \"marker\": {\"color\": \"#FECB52\", \"symbol\": \"cross\"}, \"mode\": \"markers\", \"name\": \"Category=SPORTS\", \"showlegend\": true, \"type\": \"scattergl\", \"x\": [2013, 2013, 2013, 2013, 2014, 2014, 2014, 2014, 2015, 2015, 2015, 2015, 2015, 2015, 2015, 2015, 2015, 2016, 2016, 2016, 2016, 2016, 2016, 2016, 2016, 2016, 2016, 2016, 2016, 2016, 2016, 2016, 2016, 2016, 2017, 2017, 2017, 2017, 2017, 2017, 2017, 2017, 2017, 2017, 2017, 2017, 2017, 2017, 2017, 2017, 2017, 2017, 2017, 2017, 2017, 2017, 2017, 2017, 2017, 2017, 2017, 2017, 2017, 2017, 2017, 2017, 2017, 2017, 2017, 2017, 2017, 2017, 2017, 2017, 2017, 2017, 2017, 2017, 2017, 2017, 2017, 2017, 2017, 2017, 2017, 2017, 2017, 2018, 2018, 2018, 2018, 2018, 2018, 2018, 2018, 2018, 2018, 2018, 2018, 2018, 2018, 2018, 2018, 2018, 2018, 2018, 2018, 2018, 2018, 2018, 2018, 2018, 2018, 2018, 2018, 2018, 2018, 2018, 2018, 2018, 2018, 2018, 2018, 2018, 2018, 2018, 2018, 2018, 2018, 2018, 2018, 2018, 2018, 2018, 2018, 2018, 2018, 2018, 2018, 2018, 2018, 2018, 2018, 2018, 2018, 2018, 2018, 2018, 2018, 2018, 2018, 2018, 2018, 2018, 2018, 2018, 2018, 2018, 2018, 2018, 2018, 2018, 2018, 2018, 2018, 2018, 2018, 2018, 2018, 2018, 2018, 2018, 2018, 2018, 2018, 2018, 2018, 2018, 2018, 2018, 2018, 2018, 2018, 2018, 2018, 2018, 2018, 2018, 2018, 2018, 2018, 2018, 2018, 2018, 2018, 2018, 2018, 2018, 2018, 2018, 2018, 2018, 2018, 2018, 2018, 2018, 2018, 2018, 2018, 2018, 2018, 2018, 2018, 2018, 2018, 2018, 2018, 2018, 2018, 2018, 2018, 2018, 2018, 2018, 2018, 2018, 2018, 2018, 2018, 2018, 2018, 2018, 2018, 2018, 2018, 2018, 2018, 2018, 2018, 2018, 2018, 2018, 2018, 2018, 2018, 2018, 2018, 2018, 2018, 2018, 2018, 2018, 2018, 2018, 2018, 2018, 2018, 2018, 2018, 2018, 2018, 2018, 2018, 2018, 2018, 2018, 2018, 2018, 2018, 2018, 2018, 2018, 2018, 2018, 2018, 2018, 2018, 2018, 2018, 2018, 2018, 2018, 2018, 2018, 2018, 2018, 2018, 2018, 2018, 2018, 2018, 2018, 2018, 2018, 2018, 2018, 2018, 2018, 2018, 2018, 2018, 2018, 2018, 2018, 2018, 2018, 2018, 2018, 2018, 2018, 2018, 2018, 2018, 2018, 2018, 2018, 2018, 2018, 2018, 2018, 2018, 2018, 2018, 2018, 2018, 2018, 2018], \"xaxis\": \"x\", \"y\": [0.0, 0.0, 3.88, 0.0, 0.0, 1.99, 0.0, 0.0, 3.99, 0.0, 0.0, 4.8, 0.0, 0.0, 0.0, 0.0, 0.0, 0.0, 0.0, 0.0, 0.0, 0.0, 0.0, 0.0, 0.0, 0.0, 3.49, 0.0, 0.0, 0.99, 1.99, 0.0, 0.0, 0.0, 0.0, 0.0, 0.0, 0.0, 0.99, 0.99, 0.0, 0.0, 0.0, 0.0, 0.0, 0.0, 0.0, 0.0, 0.0, 0.0, 0.0, 0.0, 4.99, 0.0, 0.0, 0.0, 0.0, 0.0, 0.0, 0.0, 0.0, 0.0, 0.0, 3.02, 0.0, 0.0, 0.0, 0.0, 0.0, 0.0, 0.0, 0.0, 0.0, 0.0, 0.0, 0.0, 0.0, 3.99, 0.0, 0.0, 0.0, 0.0, 0.0, 0.0, 0.0, 2.99, 0.0, 0.0, 0.0, 0.0, 0.0, 0.0, 0.0, 0.0, 0.0, 0.0, 0.0, 0.0, 2.49, 2.99, 2.99, 4.49, 0.0, 0.0, 0.0, 0.0, 0.0, 0.0, 0.0, 0.0, 0.0, 0.0, 0.0, 0.0, 0.0, 0.0, 0.0, 0.0, 0.0, 0.0, 0.0, 0.0, 0.0, 0.0, 0.0, 0.0, 0.0, 0.0, 0.0, 0.0, 0.0, 0.0, 0.0, 0.0, 0.0, 0.0, 0.0, 1.99, 0.0, 0.0, 0.0, 0.0, 0.0, 0.0, 0.0, 0.0, 0.0, 0.0, 0.0, 0.0, 0.0, 0.0, 0.0, 0.0, 0.0, 0.0, 0.0, 0.0, 0.0, 0.0, 0.0, 0.0, 0.0, 0.0, 0.0, 0.0, 0.0, 0.0, 0.0, 0.0, 0.0, 0.0, 0.0, 0.0, 0.0, 0.0, 0.0, 0.0, 0.0, 0.0, 0.0, 0.0, 0.0, 0.0, 0.0, 0.0, 0.0, 0.0, 0.0, 0.0, 0.0, 0.0, 0.0, 0.0, 0.0, 0.0, 0.0, 0.0, 0.0, 0.0, 0.0, 0.0, 0.0, 0.0, 0.0, 0.0, 0.0, 0.0, 0.0, 0.0, 0.0, 0.0, 0.0, 0.0, 0.0, 0.0, 0.0, 0.0, 0.0, 0.0, 0.0, 0.0, 0.0, 0.0, 0.0, 0.0, 0.0, 0.0, 0.0, 0.0, 0.0, 0.0, 0.0, 0.0, 0.0, 0.0, 0.0, 0.0, 0.0, 0.0, 0.0, 8.99, 0.0, 0.0, 0.0, 0.0, 0.0, 0.0, 0.0, 0.0, 0.0, 0.0, 0.0, 1.99, 0.0, 0.0, 0.0, 1.0, 1.99, 2.99, 0.0, 0.0, 0.0, 0.0, 0.0, 0.0, 0.0, 0.0, 0.0, 0.0, 0.0, 0.0, 0.0, 0.0, 0.0, 0.0, 0.0, 0.0, 0.0, 0.0, 0.0, 0.0, 0.0, 0.0, 0.0, 0.0, 0.0, 0.0, 0.0, 0.0, 0.0, 0.0, 0.0, 0.0, 0.0, 0.0, 0.0, 0.0, 0.0, 0.0, 0.0, 0.0, 0.0, 0.0, 0.0, 0.0, 29.99, 0.0, 0.0, 0.0, 0.0, 0.0, 0.0, 0.0, 0.0, 0.0, 0.0, 0.0, 0.0, 0.0, 0.0, 0.0, 0.0, 0.0, 0.0, 0.0, 0.0], \"yaxis\": \"y\"}, {\"hoverlabel\": {\"namelength\": 0}, \"hovertemplate\": \"Category=TRAVEL_AND_LOCAL<br>Year=%{x}<br>Price=%{y}\", \"legendgroup\": \"Category=TRAVEL_AND_LOCAL\", \"marker\": {\"color\": \"#636efa\", \"symbol\": \"circle\"}, \"mode\": \"markers\", \"name\": \"Category=TRAVEL_AND_LOCAL\", \"showlegend\": true, \"type\": \"scattergl\", \"x\": [2013, 2014, 2014, 2015, 2015, 2015, 2015, 2015, 2015, 2016, 2016, 2016, 2016, 2016, 2016, 2016, 2016, 2016, 2016, 2016, 2016, 2016, 2016, 2016, 2016, 2016, 2016, 2016, 2017, 2017, 2017, 2017, 2017, 2017, 2017, 2017, 2017, 2017, 2017, 2017, 2017, 2017, 2017, 2017, 2017, 2017, 2017, 2017, 2017, 2017, 2017, 2017, 2017, 2017, 2017, 2017, 2017, 2017, 2018, 2018, 2018, 2018, 2018, 2018, 2018, 2018, 2018, 2018, 2018, 2018, 2018, 2018, 2018, 2018, 2018, 2018, 2018, 2018, 2018, 2018, 2018, 2018, 2018, 2018, 2018, 2018, 2018, 2018, 2018, 2018, 2018, 2018, 2018, 2018, 2018, 2018, 2018, 2018, 2018, 2018, 2018, 2018, 2018, 2018, 2018, 2018, 2018, 2018, 2018, 2018, 2018, 2018, 2018, 2018, 2018, 2018, 2018, 2018, 2018, 2018, 2018, 2018, 2018, 2018, 2018, 2018, 2018, 2018, 2018, 2018, 2018, 2018, 2018, 2018, 2018, 2018, 2018, 2018, 2018, 2018, 2018, 2018, 2018, 2018, 2018, 2018, 2018, 2018, 2018, 2018, 2018, 2018, 2018, 2018, 2018, 2018, 2018, 2018, 2018, 2018, 2018, 2018, 2018, 2018, 2018, 2018, 2018, 2018, 2018, 2018, 2018, 2018, 2018, 2018, 2018, 2018, 2018, 2018, 2018, 2018, 2018, 2018, 2018, 2018, 2018, 2018, 2018, 2018, 2018, 2018, 2018, 2018, 2018, 2018, 2018, 2018, 2018, 2018, 2018, 2018, 2018, 2018, 2018, 2018, 2018, 2018, 2018, 2018, 2018, 2018, 2018, 2018, 2018, 2018, 2018, 2018, 2018, 2018, 2018], \"xaxis\": \"x\", \"y\": [2.56, 0.0, 0.0, 0.0, 0.0, 0.0, 0.0, 0.0, 0.0, 0.0, 1.99, 8.49, 0.0, 0.0, 0.0, 0.0, 0.0, 0.0, 0.0, 0.0, 0.0, 0.0, 0.0, 0.0, 0.0, 0.0, 0.0, 0.0, 3.99, 0.0, 0.0, 0.0, 0.0, 0.0, 0.0, 0.0, 1.49, 0.0, 0.0, 0.0, 0.0, 0.0, 0.0, 0.0, 0.0, 0.0, 0.0, 0.0, 0.0, 0.0, 0.0, 0.0, 0.0, 0.0, 0.0, 0.0, 0.0, 0.0, 0.0, 0.0, 0.0, 0.0, 0.0, 0.0, 0.0, 0.0, 0.0, 0.0, 0.0, 0.0, 0.0, 0.0, 0.0, 0.0, 0.0, 0.0, 0.0, 0.0, 0.0, 0.0, 0.0, 0.0, 0.0, 0.0, 0.0, 0.0, 0.0, 0.0, 0.0, 0.0, 0.0, 0.0, 0.0, 0.0, 0.0, 0.0, 0.0, 0.0, 0.0, 0.0, 0.0, 0.0, 0.0, 0.0, 0.0, 0.0, 0.0, 0.0, 0.0, 0.0, 0.0, 0.0, 0.0, 0.0, 0.0, 0.0, 0.0, 0.0, 0.0, 0.0, 0.0, 0.0, 0.0, 0.0, 0.0, 0.0, 0.0, 1.99, 5.99, 0.0, 0.0, 0.0, 0.0, 0.0, 0.0, 0.0, 0.0, 0.0, 0.0, 0.0, 0.0, 0.0, 0.0, 0.0, 0.0, 0.0, 0.0, 0.0, 0.0, 0.0, 0.0, 0.0, 0.0, 0.0, 0.0, 0.0, 0.0, 0.0, 0.0, 0.0, 0.0, 0.0, 0.0, 0.0, 0.0, 0.0, 0.0, 8.99, 0.0, 0.0, 0.0, 0.0, 0.0, 0.0, 0.0, 0.0, 0.0, 2.99, 3.99, 0.0, 0.0, 0.0, 0.0, 0.0, 0.0, 0.0, 0.0, 0.0, 0.0, 0.0, 0.0, 0.0, 0.0, 0.0, 0.0, 0.0, 0.0, 0.0, 0.0, 4.99, 0.0, 0.0, 0.0, 0.0, 2.49, 0.0, 0.0, 0.0, 0.0, 0.0, 0.0, 0.0, 0.0, 0.0, 0.0, 0.0, 0.0, 0.0, 0.0], \"yaxis\": \"y\"}, {\"hoverlabel\": {\"namelength\": 0}, \"hovertemplate\": \"Category=VIDEO_PLAYERS<br>Year=%{x}<br>Price=%{y}\", \"legendgroup\": \"Category=VIDEO_PLAYERS\", \"marker\": {\"color\": \"#EF553B\", \"symbol\": \"diamond\"}, \"mode\": \"markers\", \"name\": \"Category=VIDEO_PLAYERS\", \"showlegend\": true, \"type\": \"scattergl\", \"x\": [2013, 2013, 2013, 2013, 2014, 2014, 2014, 2014, 2015, 2015, 2015, 2015, 2015, 2015, 2015, 2015, 2015, 2015, 2015, 2015, 2016, 2016, 2016, 2016, 2016, 2016, 2016, 2016, 2016, 2016, 2016, 2016, 2016, 2016, 2017, 2017, 2017, 2017, 2017, 2017, 2017, 2017, 2017, 2017, 2017, 2017, 2017, 2017, 2017, 2017, 2017, 2017, 2017, 2017, 2017, 2017, 2017, 2017, 2017, 2017, 2017, 2017, 2018, 2018, 2018, 2018, 2018, 2018, 2018, 2018, 2018, 2018, 2018, 2018, 2018, 2018, 2018, 2018, 2018, 2018, 2018, 2018, 2018, 2018, 2018, 2018, 2018, 2018, 2018, 2018, 2018, 2018, 2018, 2018, 2018, 2018, 2018, 2018, 2018, 2018, 2018, 2018, 2018, 2018, 2018, 2018, 2018, 2018, 2018, 2018, 2018, 2018, 2018, 2018, 2018, 2018, 2018, 2018, 2018, 2018, 2018, 2018, 2018, 2018, 2018, 2018, 2018, 2018, 2018, 2018, 2018, 2018, 2018, 2018, 2018, 2018, 2018, 2018, 2018, 2018, 2018, 2018, 2018, 2018, 2018, 2018, 2018, 2018, 2018, 2018, 2018, 2018, 2018, 2018, 2018, 2018, 2018, 2018, 2018, 2018, 2018, 2018, 2018, 2018, 2018], \"xaxis\": \"x\", \"y\": [0.0, 0.0, 0.0, 0.0, 0.0, 0.0, 0.0, 0.0, 0.0, 0.0, 0.0, 0.0, 0.0, 0.0, 0.0, 0.0, 0.0, 0.0, 0.0, 0.0, 0.0, 0.0, 0.0, 0.0, 0.0, 0.0, 0.0, 0.0, 0.0, 0.0, 0.0, 0.0, 0.0, 0.0, 0.0, 0.0, 0.0, 0.0, 0.0, 0.0, 0.0, 0.0, 0.0, 0.0, 0.0, 1.49, 0.0, 0.0, 0.0, 0.0, 0.0, 0.0, 0.0, 0.0, 0.0, 0.0, 0.0, 0.0, 0.0, 0.0, 0.0, 0.0, 0.0, 0.0, 0.0, 0.0, 0.99, 0.0, 0.0, 0.0, 0.0, 0.0, 0.0, 0.0, 0.0, 0.0, 0.0, 0.0, 0.0, 0.0, 0.0, 0.0, 0.0, 0.0, 0.0, 0.0, 0.0, 0.0, 0.0, 0.0, 0.0, 0.0, 0.0, 0.0, 0.0, 0.0, 0.0, 0.0, 0.0, 0.0, 1.99, 0.0, 0.0, 0.0, 0.0, 0.0, 0.0, 0.0, 0.0, 0.0, 0.0, 0.0, 0.0, 0.0, 0.0, 0.0, 0.0, 0.0, 0.0, 0.0, 0.0, 0.0, 0.0, 0.0, 0.0, 0.0, 0.0, 0.0, 0.0, 0.0, 0.0, 0.0, 0.0, 0.0, 0.0, 0.0, 0.0, 0.0, 0.0, 0.0, 0.0, 0.0, 0.0, 0.0, 0.0, 0.0, 0.0, 0.0, 0.0, 0.0, 0.0, 5.99, 0.0, 0.0, 0.0, 0.0, 0.0, 0.0, 0.0, 0.0, 0.0, 0.0, 0.0, 0.0, 0.0], \"yaxis\": \"y\"}, {\"hoverlabel\": {\"namelength\": 0}, \"hovertemplate\": \"Category=WEATHER<br>Year=%{x}<br>Price=%{y}\", \"legendgroup\": \"Category=WEATHER\", \"marker\": {\"color\": \"#00cc96\", \"symbol\": \"square\"}, \"mode\": \"markers\", \"name\": \"Category=WEATHER\", \"showlegend\": true, \"type\": \"scattergl\", \"x\": [2013, 2014, 2014, 2014, 2014, 2014, 2014, 2015, 2015, 2016, 2016, 2017, 2017, 2017, 2017, 2017, 2017, 2017, 2017, 2017, 2017, 2018, 2018, 2018, 2018, 2018, 2018, 2018, 2018, 2018, 2018, 2018, 2018, 2018, 2018, 2018, 2018, 2018, 2018, 2018, 2018, 2018, 2018, 2018, 2018, 2018, 2018, 2018, 2018, 2018, 2018, 2018, 2018, 2018, 2018, 2018, 2018, 2018, 2018, 2018, 2018, 2018, 2018, 2018, 2018, 2018, 2018, 2018, 2018, 2018, 2018, 2018, 2018, 2018, 2018, 2018, 2018, 2018, 2018], \"xaxis\": \"x\", \"y\": [0.0, 0.0, 0.0, 0.0, 0.0, 0.0, 0.0, 6.99, 0.0, 0.0, 2.99, 0.0, 0.0, 0.0, 0.0, 0.0, 0.0, 0.0, 0.0, 0.0, 5.99, 0.0, 0.0, 0.0, 0.0, 0.0, 0.0, 0.0, 0.0, 0.0, 0.0, 0.0, 0.0, 0.0, 0.0, 0.0, 0.0, 0.0, 0.0, 2.99, 0.0, 0.0, 0.0, 0.0, 0.0, 0.0, 0.0, 0.0, 0.0, 0.0, 0.0, 0.0, 0.0, 0.0, 0.0, 0.0, 0.0, 0.0, 2.99, 3.99, 4.49, 0.0, 0.0, 0.0, 0.0, 0.0, 0.0, 0.0, 0.0, 0.0, 0.0, 0.0, 0.0, 0.0, 1.99, 0.0, 0.0, 0.0, 0.0], \"yaxis\": \"y\"}, {\"hoverlabel\": {\"namelength\": 0}, \"hovertemplate\": \"Category=AUTO_AND_VEHICLES<br>Year=%{x}<br>Price=%{y}\", \"legendgroup\": \"Category=AUTO_AND_VEHICLES\", \"marker\": {\"color\": \"#ab63fa\", \"symbol\": \"x\"}, \"mode\": \"markers\", \"name\": \"Category=AUTO_AND_VEHICLES\", \"showlegend\": true, \"type\": \"scattergl\", \"x\": [2014, 2016, 2016, 2016, 2017, 2017, 2017, 2017, 2017, 2017, 2017, 2018, 2018, 2018, 2018, 2018, 2018, 2018, 2018, 2018, 2018, 2018, 2018, 2018, 2018, 2018, 2018, 2018, 2018, 2018, 2018, 2018, 2018, 2018, 2018, 2018, 2018, 2018, 2018, 2018, 2018, 2018, 2018, 2018, 2018, 2018, 2018, 2018, 2018, 2018, 2018, 2018, 2018, 2018, 2018, 2018, 2018, 2018, 2018, 2018, 2018, 2018, 2018, 2018, 2018, 2018, 2018, 2018, 2018, 2018, 2018, 2018, 2018, 2018, 2018, 2018, 2018, 2018, 2018, 2018, 2018, 2018, 2018, 2018, 2018], \"xaxis\": \"x\", \"y\": [0.0, 0.0, 0.0, 0.0, 0.0, 0.0, 0.0, 0.0, 0.0, 0.0, 0.0, 0.0, 0.0, 0.0, 0.0, 0.0, 0.0, 0.0, 0.0, 0.0, 0.0, 0.0, 0.0, 0.0, 0.0, 0.0, 0.0, 0.0, 0.0, 0.0, 0.0, 0.0, 0.0, 0.0, 0.0, 0.0, 0.0, 0.0, 0.0, 0.0, 0.0, 0.0, 0.0, 0.0, 1.49, 0.0, 0.0, 0.0, 0.0, 0.0, 0.0, 0.0, 0.0, 0.0, 0.0, 0.0, 0.0, 0.0, 0.0, 0.0, 0.0, 0.0, 0.0, 0.0, 0.0, 0.0, 0.0, 0.0, 0.0, 0.0, 0.0, 0.0, 0.0, 9.99, 0.0, 0.0, 0.0, 1.99, 0.0, 0.0, 0.0, 0.0, 0.0, 0.0, 0.0], \"yaxis\": \"y\"}, {\"hoverlabel\": {\"namelength\": 0}, \"hovertemplate\": \"Category=NEWS_AND_MAGAZINES<br>Year=%{x}<br>Price=%{y}\", \"legendgroup\": \"Category=NEWS_AND_MAGAZINES\", \"marker\": {\"color\": \"#FFA15A\", \"symbol\": \"cross\"}, \"mode\": \"markers\", \"name\": \"Category=NEWS_AND_MAGAZINES\", \"showlegend\": true, \"type\": \"scattergl\", \"x\": [2014, 2014, 2014, 2014, 2014, 2015, 2015, 2015, 2015, 2015, 2015, 2016, 2016, 2016, 2016, 2016, 2016, 2016, 2016, 2016, 2016, 2016, 2016, 2016, 2016, 2016, 2017, 2017, 2017, 2017, 2017, 2017, 2017, 2017, 2017, 2017, 2017, 2017, 2017, 2017, 2017, 2017, 2017, 2017, 2017, 2017, 2017, 2017, 2017, 2017, 2017, 2017, 2017, 2017, 2017, 2017, 2017, 2017, 2017, 2018, 2018, 2018, 2018, 2018, 2018, 2018, 2018, 2018, 2018, 2018, 2018, 2018, 2018, 2018, 2018, 2018, 2018, 2018, 2018, 2018, 2018, 2018, 2018, 2018, 2018, 2018, 2018, 2018, 2018, 2018, 2018, 2018, 2018, 2018, 2018, 2018, 2018, 2018, 2018, 2018, 2018, 2018, 2018, 2018, 2018, 2018, 2018, 2018, 2018, 2018, 2018, 2018, 2018, 2018, 2018, 2018, 2018, 2018, 2018, 2018, 2018, 2018, 2018, 2018, 2018, 2018, 2018, 2018, 2018, 2018, 2018, 2018, 2018, 2018, 2018, 2018, 2018, 2018, 2018, 2018, 2018, 2018, 2018, 2018, 2018, 2018, 2018, 2018, 2018, 2018, 2018, 2018, 2018, 2018, 2018, 2018, 2018, 2018, 2018, 2018, 2018, 2018, 2018, 2018, 2018, 2018, 2018, 2018, 2018, 2018, 2018, 2018, 2018, 2018, 2018, 2018, 2018, 2018, 2018, 2018, 2018, 2018, 2018, 2018, 2018, 2018, 2018, 2018, 2018, 2018, 2018, 2018, 2018, 2018, 2018, 2018, 2018, 2018, 2018, 2018, 2018, 2018, 2018, 2018, 2018, 2018, 2018, 2018, 2018, 2018, 2018, 2018, 2018, 2018, 2018, 2018, 2018, 2018, 2018, 2018, 2018, 2018, 2018, 2018, 2018, 2018, 2018, 2018, 2018, 2018, 2018, 2018, 2018, 2018, 2018, 2018, 2018, 2018, 2018, 2018, 2018, 2018, 2018, 2018, 2018, 2018, 2018, 2018, 2018, 2018, 2018, 2018, 2018, 2018], \"xaxis\": \"x\", \"y\": [0.0, 0.0, 0.0, 0.0, 0.0, 0.0, 0.0, 0.0, 0.0, 0.0, 0.0, 0.0, 0.0, 0.0, 0.0, 0.0, 0.0, 0.0, 0.0, 0.0, 0.0, 0.0, 0.0, 0.0, 0.0, 0.0, 0.0, 0.0, 0.0, 0.0, 0.0, 0.0, 0.0, 0.0, 0.0, 0.0, 0.0, 0.0, 0.0, 0.0, 0.0, 0.0, 0.0, 0.0, 0.0, 0.0, 0.0, 0.0, 0.0, 0.0, 0.0, 0.0, 0.0, 0.0, 0.0, 0.0, 0.0, 0.0, 0.0, 0.0, 0.0, 0.0, 0.0, 0.0, 0.0, 0.0, 0.0, 0.0, 0.0, 0.0, 0.0, 0.0, 0.0, 0.0, 0.0, 0.0, 0.0, 0.0, 0.0, 0.0, 0.0, 0.0, 0.0, 0.0, 0.0, 0.0, 0.0, 0.0, 0.0, 0.0, 0.0, 0.0, 0.0, 0.0, 0.0, 0.0, 0.0, 0.0, 0.0, 0.0, 0.0, 0.0, 0.0, 0.0, 0.0, 0.0, 0.0, 0.0, 0.0, 0.0, 0.0, 0.0, 0.0, 0.0, 0.0, 0.0, 0.0, 0.0, 0.0, 0.0, 0.0, 0.0, 0.0, 0.0, 0.0, 0.0, 0.0, 0.0, 0.0, 0.0, 0.0, 0.0, 0.0, 0.0, 0.0, 0.0, 0.0, 0.0, 0.0, 0.0, 0.0, 0.0, 0.0, 0.0, 0.0, 0.0, 0.0, 0.0, 0.0, 0.0, 0.0, 0.0, 0.0, 0.0, 0.0, 0.0, 0.0, 0.0, 0.0, 0.0, 0.0, 0.0, 0.0, 0.0, 0.0, 0.0, 0.0, 0.0, 0.0, 0.0, 0.0, 0.0, 0.0, 0.0, 0.0, 0.0, 0.0, 0.0, 0.0, 0.0, 0.0, 0.0, 0.0, 0.0, 0.0, 0.0, 0.0, 0.0, 0.0, 0.0, 0.0, 0.0, 0.0, 0.0, 0.0, 0.0, 0.0, 0.0, 0.0, 0.0, 0.0, 0.0, 0.0, 0.0, 0.0, 0.0, 0.0, 0.0, 0.0, 0.0, 0.0, 0.99, 0.0, 0.0, 0.0, 0.0, 0.0, 0.0, 0.0, 0.0, 0.0, 0.0, 0.0, 0.0, 0.0, 0.0, 0.0, 0.0, 0.0, 0.0, 0.0, 0.0, 0.0, 0.0, 0.0, 0.0, 0.0, 0.0, 0.0, 0.0, 0.0, 0.0, 0.0, 0.0, 2.99, 0.0, 0.0, 0.0, 0.0, 0.0, 0.0, 0.0, 0.0, 0.0], \"yaxis\": \"y\"}, {\"hoverlabel\": {\"namelength\": 0}, \"hovertemplate\": \"Category=COMICS<br>Year=%{x}<br>Price=%{y}\", \"legendgroup\": \"Category=COMICS\", \"marker\": {\"color\": \"#19d3f3\", \"symbol\": \"circle\"}, \"mode\": \"markers\", \"name\": \"Category=COMICS\", \"showlegend\": true, \"type\": \"scattergl\", \"x\": [2015, 2016, 2017, 2017, 2017, 2017, 2017, 2017, 2017, 2017, 2018, 2018, 2018, 2018, 2018, 2018, 2018, 2018, 2018, 2018, 2018, 2018, 2018, 2018, 2018, 2018, 2018, 2018, 2018, 2018, 2018, 2018, 2018, 2018, 2018, 2018, 2018, 2018, 2018, 2018, 2018, 2018, 2018, 2018, 2018, 2018, 2018, 2018, 2018, 2018, 2018, 2018, 2018, 2018, 2018, 2018], \"xaxis\": \"x\", \"y\": [0.0, 0.0, 0.0, 0.0, 0.0, 0.0, 0.0, 0.0, 0.0, 0.0, 0.0, 0.0, 0.0, 0.0, 0.0, 0.0, 0.0, 0.0, 0.0, 0.0, 0.0, 0.0, 0.0, 0.0, 0.0, 0.0, 0.0, 0.0, 0.0, 0.0, 0.0, 0.0, 0.0, 0.0, 0.0, 0.0, 0.0, 0.0, 0.0, 0.0, 0.0, 0.0, 0.0, 0.0, 0.0, 0.0, 0.0, 0.0, 0.0, 0.0, 0.0, 0.0, 0.0, 0.0, 0.0, 0.0], \"yaxis\": \"y\"}, {\"hoverlabel\": {\"namelength\": 0}, \"hovertemplate\": \"Category=ENTERTAINMENT<br>Year=%{x}<br>Price=%{y}\", \"legendgroup\": \"Category=ENTERTAINMENT\", \"marker\": {\"color\": \"#FF6692\", \"symbol\": \"diamond\"}, \"mode\": \"markers\", \"name\": \"Category=ENTERTAINMENT\", \"showlegend\": true, \"type\": \"scattergl\", \"x\": [2015, 2015, 2015, 2016, 2016, 2017, 2017, 2018, 2018, 2018, 2018, 2018, 2018, 2018, 2018, 2018, 2018, 2018, 2018, 2018, 2018, 2018, 2018, 2018, 2018, 2018, 2018, 2018, 2018, 2018, 2018, 2018, 2018, 2018, 2018, 2018, 2018, 2018, 2018, 2018, 2018, 2018, 2018, 2018, 2018, 2018, 2018, 2018, 2018, 2018, 2018, 2018, 2018, 2018, 2018, 2018, 2018, 2018, 2018, 2018, 2018, 2018, 2018, 2018, 2018, 2018, 2018, 2018, 2018, 2018, 2018, 2018, 2018, 2018, 2018, 2018, 2018, 2018, 2018, 2018, 2018, 2018, 2018, 2018, 2018, 2018, 2018, 2018, 2018, 2018, 2018, 2018, 2018, 2018, 2018, 2018, 2018, 2018, 2018, 2018, 2018, 2018], \"xaxis\": \"x\", \"y\": [0.0, 0.0, 0.0, 0.0, 0.0, 0.0, 0.0, 0.0, 0.0, 0.0, 0.0, 0.0, 0.0, 0.0, 0.0, 0.0, 0.0, 0.0, 0.0, 0.0, 0.0, 0.0, 0.0, 0.0, 0.0, 0.0, 0.0, 0.0, 0.0, 0.0, 0.0, 0.0, 0.0, 0.0, 0.0, 0.0, 0.0, 0.0, 0.0, 0.0, 0.0, 0.0, 0.0, 0.0, 0.0, 0.0, 0.0, 0.0, 0.0, 0.0, 0.0, 0.0, 0.0, 0.0, 0.0, 0.0, 0.0, 0.0, 0.0, 0.0, 0.0, 0.0, 0.0, 0.0, 0.0, 0.0, 0.0, 0.0, 0.0, 0.0, 0.0, 0.0, 0.0, 2.99, 4.99, 0.0, 0.0, 0.0, 0.0, 0.0, 0.0, 0.0, 0.0, 0.0, 0.0, 0.0, 0.0, 0.0, 0.0, 0.0, 0.0, 0.0, 0.0, 0.0, 0.0, 0.0, 0.0, 0.0, 0.0, 0.0, 0.0, 0.0], \"yaxis\": \"y\"}, {\"hoverlabel\": {\"namelength\": 0}, \"hovertemplate\": \"Category=BEAUTY<br>Year=%{x}<br>Price=%{y}\", \"legendgroup\": \"Category=BEAUTY\", \"marker\": {\"color\": \"#B6E880\", \"symbol\": \"square\"}, \"mode\": \"markers\", \"name\": \"Category=BEAUTY\", \"showlegend\": true, \"type\": \"scattergl\", \"x\": [2016, 2017, 2017, 2017, 2017, 2017, 2017, 2017, 2017, 2017, 2017, 2017, 2017, 2018, 2018, 2018, 2018, 2018, 2018, 2018, 2018, 2018, 2018, 2018, 2018, 2018, 2018, 2018, 2018, 2018, 2018, 2018, 2018, 2018, 2018, 2018, 2018, 2018, 2018, 2018, 2018, 2018, 2018, 2018, 2018, 2018, 2018, 2018, 2018, 2018, 2018, 2018, 2018], \"xaxis\": \"x\", \"y\": [0.0, 0.0, 0.0, 0.0, 0.0, 0.0, 0.0, 0.0, 0.0, 0.0, 0.0, 0.0, 0.0, 0.0, 0.0, 0.0, 0.0, 0.0, 0.0, 0.0, 0.0, 0.0, 0.0, 0.0, 0.0, 0.0, 0.0, 0.0, 0.0, 0.0, 0.0, 0.0, 0.0, 0.0, 0.0, 0.0, 0.0, 0.0, 0.0, 0.0, 0.0, 0.0, 0.0, 0.0, 0.0, 0.0, 0.0, 0.0, 0.0, 0.0, 0.0, 0.0, 0.0], \"yaxis\": \"y\"}, {\"hoverlabel\": {\"namelength\": 0}, \"hovertemplate\": \"Category=DATING<br>Year=%{x}<br>Price=%{y}\", \"legendgroup\": \"Category=DATING\", \"marker\": {\"color\": \"#FF97FF\", \"symbol\": \"x\"}, \"mode\": \"markers\", \"name\": \"Category=DATING\", \"showlegend\": true, \"type\": \"scattergl\", \"x\": [2016, 2016, 2017, 2017, 2017, 2017, 2017, 2017, 2017, 2017, 2017, 2017, 2017, 2017, 2017, 2017, 2017, 2018, 2018, 2018, 2018, 2018, 2018, 2018, 2018, 2018, 2018, 2018, 2018, 2018, 2018, 2018, 2018, 2018, 2018, 2018, 2018, 2018, 2018, 2018, 2018, 2018, 2018, 2018, 2018, 2018, 2018, 2018, 2018, 2018, 2018, 2018, 2018, 2018, 2018, 2018, 2018, 2018, 2018, 2018, 2018, 2018, 2018, 2018, 2018, 2018, 2018, 2018, 2018, 2018, 2018, 2018, 2018, 2018, 2018, 2018, 2018, 2018, 2018, 2018, 2018, 2018, 2018, 2018, 2018, 2018, 2018, 2018, 2018, 2018, 2018, 2018, 2018, 2018, 2018, 2018, 2018, 2018, 2018, 2018, 2018, 2018, 2018, 2018, 2018, 2018, 2018, 2018, 2018, 2018, 2018, 2018, 2018, 2018, 2018, 2018, 2018, 2018, 2018, 2018, 2018, 2018, 2018, 2018, 2018, 2018, 2018, 2018, 2018, 2018, 2018, 2018, 2018, 2018, 2018, 2018, 2018, 2018, 2018, 2018, 2018, 2018, 2018, 2018, 2018, 2018, 2018, 2018, 2018, 2018, 2018, 2018, 2018, 2018, 2018, 2018, 2018, 2018, 2018, 2018, 2018, 2018, 2018, 2018, 2018, 2018, 2018, 2018, 2018, 2018, 2018], \"xaxis\": \"x\", \"y\": [0.0, 0.0, 6.99, 0.0, 2.99, 7.99, 0.0, 0.0, 0.0, 0.0, 0.0, 0.0, 0.0, 0.0, 1.49, 0.0, 0.0, 0.0, 0.0, 0.0, 0.0, 0.0, 0.0, 0.0, 0.0, 0.0, 0.0, 0.0, 0.0, 0.0, 0.0, 0.0, 0.0, 0.0, 0.0, 0.0, 0.0, 0.0, 0.0, 0.0, 0.0, 0.0, 0.0, 0.0, 0.0, 0.0, 0.0, 0.0, 0.0, 0.0, 0.0, 0.0, 0.0, 0.0, 0.0, 0.0, 0.0, 0.0, 0.0, 0.0, 0.0, 0.0, 0.0, 0.0, 0.0, 0.0, 0.0, 0.0, 0.0, 0.0, 0.0, 0.0, 0.0, 0.0, 0.0, 0.0, 0.0, 0.0, 3.99, 0.0, 0.0, 0.0, 0.0, 0.0, 0.0, 0.0, 0.0, 0.0, 0.0, 0.0, 0.0, 0.0, 0.0, 0.0, 0.0, 0.0, 0.0, 0.0, 0.0, 0.0, 0.0, 3.99, 0.0, 0.0, 0.0, 0.0, 0.0, 0.0, 0.0, 0.0, 0.0, 0.0, 0.0, 0.0, 0.0, 0.0, 0.0, 0.0, 0.0, 0.0, 0.0, 0.0, 0.0, 0.0, 0.0, 0.0, 0.0, 0.0, 0.0, 0.0, 0.0, 0.0, 0.0, 0.0, 0.0, 0.0, 0.0, 0.0, 0.0, 0.0, 0.0, 0.0, 0.0, 0.0, 0.0, 0.0, 0.0, 0.0, 0.0, 0.0, 0.0, 0.0, 0.0, 0.0, 0.0, 0.0, 0.0, 0.0, 0.0, 0.0, 0.0, 0.0, 0.0, 0.0, 0.0, 0.0, 0.0, 0.0, 0.0, 0.0, 0.0], \"yaxis\": \"y\"}, {\"hoverlabel\": {\"namelength\": 0}, \"hovertemplate\": \"Category=EVENTS<br>Year=%{x}<br>Price=%{y}\", \"legendgroup\": \"Category=EVENTS\", \"marker\": {\"color\": \"#FECB52\", \"symbol\": \"cross\"}, \"mode\": \"markers\", \"name\": \"Category=EVENTS\", \"showlegend\": true, \"type\": \"scattergl\", \"x\": [2016, 2016, 2017, 2017, 2017, 2017, 2017, 2017, 2017, 2017, 2017, 2017, 2017, 2017, 2017, 2017, 2017, 2017, 2018, 2018, 2018, 2018, 2018, 2018, 2018, 2018, 2018, 2018, 2018, 2018, 2018, 2018, 2018, 2018, 2018, 2018, 2018, 2018, 2018, 2018, 2018, 2018, 2018, 2018, 2018, 2018, 2018, 2018, 2018, 2018, 2018, 2018, 2018, 2018, 2018, 2018, 2018, 2018, 2018, 2018, 2018, 2018, 2018, 2018], \"xaxis\": \"x\", \"y\": [0.0, 0.0, 109.99, 0.0, 0.0, 0.0, 0.0, 0.0, 0.0, 0.0, 0.0, 0.0, 0.0, 0.0, 0.0, 0.0, 0.0, 0.0, 0.0, 0.0, 0.0, 0.0, 0.0, 0.0, 0.0, 0.0, 0.0, 0.0, 0.0, 0.0, 0.0, 0.0, 0.0, 0.0, 0.0, 0.0, 0.0, 0.0, 0.0, 0.0, 0.0, 0.0, 0.0, 0.0, 0.0, 0.0, 0.0, 0.0, 0.0, 0.0, 0.0, 0.0, 0.0, 0.0, 0.0, 0.0, 0.0, 0.0, 0.0, 0.0, 0.0, 0.0, 0.0, 0.0], \"yaxis\": \"y\"}, {\"hoverlabel\": {\"namelength\": 0}, \"hovertemplate\": \"Category=FOOD_AND_DRINK<br>Year=%{x}<br>Price=%{y}\", \"legendgroup\": \"Category=FOOD_AND_DRINK\", \"marker\": {\"color\": \"#636efa\", \"symbol\": \"circle\"}, \"mode\": \"markers\", \"name\": \"Category=FOOD_AND_DRINK\", \"showlegend\": true, \"type\": \"scattergl\", \"x\": [2016, 2016, 2016, 2016, 2016, 2017, 2017, 2017, 2017, 2017, 2017, 2017, 2017, 2018, 2018, 2018, 2018, 2018, 2018, 2018, 2018, 2018, 2018, 2018, 2018, 2018, 2018, 2018, 2018, 2018, 2018, 2018, 2018, 2018, 2018, 2018, 2018, 2018, 2018, 2018, 2018, 2018, 2018, 2018, 2018, 2018, 2018, 2018, 2018, 2018, 2018, 2018, 2018, 2018, 2018, 2018, 2018, 2018, 2018, 2018, 2018, 2018, 2018, 2018, 2018, 2018, 2018, 2018, 2018, 2018, 2018, 2018, 2018, 2018, 2018, 2018, 2018, 2018, 2018, 2018, 2018, 2018, 2018, 2018, 2018, 2018, 2018, 2018, 2018, 2018, 2018, 2018, 2018, 2018, 2018, 2018, 2018, 2018, 2018, 2018, 2018, 2018, 2018, 2018, 2018, 2018, 2018, 2018, 2018, 2018, 2018, 2018], \"xaxis\": \"x\", \"y\": [0.0, 0.0, 0.0, 0.0, 0.0, 0.0, 0.0, 0.0, 0.0, 0.0, 0.0, 0.0, 0.0, 0.0, 0.0, 0.0, 0.0, 0.0, 0.0, 0.0, 0.0, 0.0, 0.0, 0.0, 0.0, 0.0, 0.0, 0.0, 0.0, 0.0, 0.0, 0.0, 0.0, 0.0, 0.0, 0.0, 0.0, 0.0, 0.0, 0.0, 0.0, 0.0, 0.0, 0.0, 0.0, 0.0, 0.0, 3.49, 0.0, 0.0, 0.0, 0.0, 0.0, 0.0, 0.0, 0.0, 0.0, 0.0, 0.0, 0.0, 0.0, 0.0, 0.0, 0.0, 0.0, 0.0, 0.0, 0.0, 0.0, 0.0, 0.0, 0.0, 0.0, 0.0, 0.0, 0.0, 0.0, 0.0, 0.0, 0.0, 0.0, 0.0, 0.0, 0.0, 0.0, 0.0, 0.0, 0.0, 0.0, 0.0, 0.0, 0.0, 0.0, 0.0, 0.0, 0.0, 0.0, 0.0, 0.0, 0.0, 0.0, 0.0, 0.0, 4.99, 0.0, 0.0, 0.0, 0.0, 0.0, 0.0, 0.0, 0.0], \"yaxis\": \"y\"}, {\"hoverlabel\": {\"namelength\": 0}, \"hovertemplate\": \"Category=PARENTING<br>Year=%{x}<br>Price=%{y}\", \"legendgroup\": \"Category=PARENTING\", \"marker\": {\"color\": \"#EF553B\", \"symbol\": \"diamond\"}, \"mode\": \"markers\", \"name\": \"Category=PARENTING\", \"showlegend\": true, \"type\": \"scattergl\", \"x\": [2016, 2016, 2017, 2017, 2017, 2017, 2017, 2017, 2017, 2018, 2018, 2018, 2018, 2018, 2018, 2018, 2018, 2018, 2018, 2018, 2018, 2018, 2018, 2018, 2018, 2018, 2018, 2018, 2018, 2018, 2018, 2018, 2018, 2018, 2018, 2018, 2018, 2018, 2018, 2018, 2018, 2018, 2018, 2018, 2018, 2018, 2018, 2018, 2018, 2018, 2018, 2018, 2018, 2018, 2018, 2018, 2018, 2018, 2018, 2018], \"xaxis\": \"x\", \"y\": [4.59, 0.0, 0.0, 0.0, 0.0, 0.0, 0.0, 0.0, 0.0, 0.0, 0.0, 0.0, 0.0, 0.0, 0.0, 0.0, 0.0, 0.0, 0.0, 0.0, 0.0, 0.0, 0.0, 0.0, 0.0, 0.0, 0.0, 0.0, 0.0, 0.0, 0.0, 0.0, 0.0, 0.0, 0.0, 0.0, 0.0, 0.0, 0.0, 0.0, 0.0, 0.0, 0.0, 0.0, 0.0, 0.0, 0.0, 0.0, 0.0, 0.0, 0.0, 0.0, 0.0, 0.0, 0.0, 0.0, 4.99, 0.0, 0.0, 0.0], \"yaxis\": \"y\"}, {\"hoverlabel\": {\"namelength\": 0}, \"hovertemplate\": \"Category=ART_AND_DESIGN<br>Year=%{x}<br>Price=%{y}\", \"legendgroup\": \"Category=ART_AND_DESIGN\", \"marker\": {\"color\": \"#00cc96\", \"symbol\": \"square\"}, \"mode\": \"markers\", \"name\": \"Category=ART_AND_DESIGN\", \"showlegend\": true, \"type\": \"scattergl\", \"x\": [2017, 2017, 2017, 2017, 2017, 2017, 2017, 2017, 2017, 2017, 2017, 2017, 2018, 2018, 2018, 2018, 2018, 2018, 2018, 2018, 2018, 2018, 2018, 2018, 2018, 2018, 2018, 2018, 2018, 2018, 2018, 2018, 2018, 2018, 2018, 2018, 2018, 2018, 2018, 2018, 2018, 2018, 2018, 2018, 2018, 2018, 2018, 2018, 2018, 2018, 2018, 2018, 2018, 2018, 2018, 2018, 2018, 2018, 2018, 2018, 2018, 2018, 2018], \"xaxis\": \"x\", \"y\": [0.0, 0.0, 0.0, 0.0, 0.0, 0.0, 0.0, 0.0, 0.0, 0.0, 0.0, 0.0, 0.0, 0.0, 1.99, 0.0, 0.0, 0.0, 0.0, 0.0, 0.0, 0.0, 0.0, 0.0, 0.0, 1.99, 0.0, 0.0, 0.0, 0.0, 0.0, 0.0, 0.0, 0.0, 0.0, 0.0, 0.0, 0.0, 0.0, 0.0, 0.0, 0.0, 0.0, 0.0, 0.0, 0.0, 0.0, 0.0, 0.0, 0.0, 1.99, 0.0, 0.0, 0.0, 0.0, 0.0, 0.0, 0.0, 0.0, 0.0, 0.0, 0.0, 0.0], \"yaxis\": \"y\"}],\n",
              "                        {\"legend\": {\"tracegroupgap\": 0}, \"template\": {\"data\": {\"bar\": [{\"error_x\": {\"color\": \"#2a3f5f\"}, \"error_y\": {\"color\": \"#2a3f5f\"}, \"marker\": {\"line\": {\"color\": \"#E5ECF6\", \"width\": 0.5}}, \"type\": \"bar\"}], \"barpolar\": [{\"marker\": {\"line\": {\"color\": \"#E5ECF6\", \"width\": 0.5}}, \"type\": \"barpolar\"}], \"carpet\": [{\"aaxis\": {\"endlinecolor\": \"#2a3f5f\", \"gridcolor\": \"white\", \"linecolor\": \"white\", \"minorgridcolor\": \"white\", \"startlinecolor\": \"#2a3f5f\"}, \"baxis\": {\"endlinecolor\": \"#2a3f5f\", \"gridcolor\": \"white\", \"linecolor\": \"white\", \"minorgridcolor\": \"white\", \"startlinecolor\": \"#2a3f5f\"}, \"type\": \"carpet\"}], \"choropleth\": [{\"colorbar\": {\"outlinewidth\": 0, \"ticks\": \"\"}, \"type\": \"choropleth\"}], \"contour\": [{\"colorbar\": {\"outlinewidth\": 0, \"ticks\": \"\"}, \"colorscale\": [[0.0, \"#0d0887\"], [0.1111111111111111, \"#46039f\"], [0.2222222222222222, \"#7201a8\"], [0.3333333333333333, \"#9c179e\"], [0.4444444444444444, \"#bd3786\"], [0.5555555555555556, \"#d8576b\"], [0.6666666666666666, \"#ed7953\"], [0.7777777777777778, \"#fb9f3a\"], [0.8888888888888888, \"#fdca26\"], [1.0, \"#f0f921\"]], \"type\": \"contour\"}], \"contourcarpet\": [{\"colorbar\": {\"outlinewidth\": 0, \"ticks\": \"\"}, \"type\": \"contourcarpet\"}], \"heatmap\": [{\"colorbar\": {\"outlinewidth\": 0, \"ticks\": \"\"}, \"colorscale\": [[0.0, \"#0d0887\"], [0.1111111111111111, \"#46039f\"], [0.2222222222222222, \"#7201a8\"], [0.3333333333333333, \"#9c179e\"], [0.4444444444444444, \"#bd3786\"], [0.5555555555555556, \"#d8576b\"], [0.6666666666666666, \"#ed7953\"], [0.7777777777777778, \"#fb9f3a\"], [0.8888888888888888, \"#fdca26\"], [1.0, \"#f0f921\"]], \"type\": \"heatmap\"}], \"heatmapgl\": [{\"colorbar\": {\"outlinewidth\": 0, \"ticks\": \"\"}, \"colorscale\": [[0.0, \"#0d0887\"], [0.1111111111111111, \"#46039f\"], [0.2222222222222222, \"#7201a8\"], [0.3333333333333333, \"#9c179e\"], [0.4444444444444444, \"#bd3786\"], [0.5555555555555556, \"#d8576b\"], [0.6666666666666666, \"#ed7953\"], [0.7777777777777778, \"#fb9f3a\"], [0.8888888888888888, \"#fdca26\"], [1.0, \"#f0f921\"]], \"type\": \"heatmapgl\"}], \"histogram\": [{\"marker\": {\"colorbar\": {\"outlinewidth\": 0, \"ticks\": \"\"}}, \"type\": \"histogram\"}], \"histogram2d\": [{\"colorbar\": {\"outlinewidth\": 0, \"ticks\": \"\"}, \"colorscale\": [[0.0, \"#0d0887\"], [0.1111111111111111, \"#46039f\"], [0.2222222222222222, \"#7201a8\"], [0.3333333333333333, \"#9c179e\"], [0.4444444444444444, \"#bd3786\"], [0.5555555555555556, \"#d8576b\"], [0.6666666666666666, \"#ed7953\"], [0.7777777777777778, \"#fb9f3a\"], [0.8888888888888888, \"#fdca26\"], [1.0, \"#f0f921\"]], \"type\": \"histogram2d\"}], \"histogram2dcontour\": [{\"colorbar\": {\"outlinewidth\": 0, \"ticks\": \"\"}, \"colorscale\": [[0.0, \"#0d0887\"], [0.1111111111111111, \"#46039f\"], [0.2222222222222222, \"#7201a8\"], [0.3333333333333333, \"#9c179e\"], [0.4444444444444444, \"#bd3786\"], [0.5555555555555556, \"#d8576b\"], [0.6666666666666666, \"#ed7953\"], [0.7777777777777778, \"#fb9f3a\"], [0.8888888888888888, \"#fdca26\"], [1.0, \"#f0f921\"]], \"type\": \"histogram2dcontour\"}], \"mesh3d\": [{\"colorbar\": {\"outlinewidth\": 0, \"ticks\": \"\"}, \"type\": \"mesh3d\"}], \"parcoords\": [{\"line\": {\"colorbar\": {\"outlinewidth\": 0, \"ticks\": \"\"}}, \"type\": \"parcoords\"}], \"pie\": [{\"automargin\": true, \"type\": \"pie\"}], \"scatter\": [{\"marker\": {\"colorbar\": {\"outlinewidth\": 0, \"ticks\": \"\"}}, \"type\": \"scatter\"}], \"scatter3d\": [{\"line\": {\"colorbar\": {\"outlinewidth\": 0, \"ticks\": \"\"}}, \"marker\": {\"colorbar\": {\"outlinewidth\": 0, \"ticks\": \"\"}}, \"type\": \"scatter3d\"}], \"scattercarpet\": [{\"marker\": {\"colorbar\": {\"outlinewidth\": 0, \"ticks\": \"\"}}, \"type\": \"scattercarpet\"}], \"scattergeo\": [{\"marker\": {\"colorbar\": {\"outlinewidth\": 0, \"ticks\": \"\"}}, \"type\": \"scattergeo\"}], \"scattergl\": [{\"marker\": {\"colorbar\": {\"outlinewidth\": 0, \"ticks\": \"\"}}, \"type\": \"scattergl\"}], \"scattermapbox\": [{\"marker\": {\"colorbar\": {\"outlinewidth\": 0, \"ticks\": \"\"}}, \"type\": \"scattermapbox\"}], \"scatterpolar\": [{\"marker\": {\"colorbar\": {\"outlinewidth\": 0, \"ticks\": \"\"}}, \"type\": \"scatterpolar\"}], \"scatterpolargl\": [{\"marker\": {\"colorbar\": {\"outlinewidth\": 0, \"ticks\": \"\"}}, \"type\": \"scatterpolargl\"}], \"scatterternary\": [{\"marker\": {\"colorbar\": {\"outlinewidth\": 0, \"ticks\": \"\"}}, \"type\": \"scatterternary\"}], \"surface\": [{\"colorbar\": {\"outlinewidth\": 0, \"ticks\": \"\"}, \"colorscale\": [[0.0, \"#0d0887\"], [0.1111111111111111, \"#46039f\"], [0.2222222222222222, \"#7201a8\"], [0.3333333333333333, \"#9c179e\"], [0.4444444444444444, \"#bd3786\"], [0.5555555555555556, \"#d8576b\"], [0.6666666666666666, \"#ed7953\"], [0.7777777777777778, \"#fb9f3a\"], [0.8888888888888888, \"#fdca26\"], [1.0, \"#f0f921\"]], \"type\": \"surface\"}], \"table\": [{\"cells\": {\"fill\": {\"color\": \"#EBF0F8\"}, \"line\": {\"color\": \"white\"}}, \"header\": {\"fill\": {\"color\": \"#C8D4E3\"}, \"line\": {\"color\": \"white\"}}, \"type\": \"table\"}]}, \"layout\": {\"annotationdefaults\": {\"arrowcolor\": \"#2a3f5f\", \"arrowhead\": 0, \"arrowwidth\": 1}, \"coloraxis\": {\"colorbar\": {\"outlinewidth\": 0, \"ticks\": \"\"}}, \"colorscale\": {\"diverging\": [[0, \"#8e0152\"], [0.1, \"#c51b7d\"], [0.2, \"#de77ae\"], [0.3, \"#f1b6da\"], [0.4, \"#fde0ef\"], [0.5, \"#f7f7f7\"], [0.6, \"#e6f5d0\"], [0.7, \"#b8e186\"], [0.8, \"#7fbc41\"], [0.9, \"#4d9221\"], [1, \"#276419\"]], \"sequential\": [[0.0, \"#0d0887\"], [0.1111111111111111, \"#46039f\"], [0.2222222222222222, \"#7201a8\"], [0.3333333333333333, \"#9c179e\"], [0.4444444444444444, \"#bd3786\"], [0.5555555555555556, \"#d8576b\"], [0.6666666666666666, \"#ed7953\"], [0.7777777777777778, \"#fb9f3a\"], [0.8888888888888888, \"#fdca26\"], [1.0, \"#f0f921\"]], \"sequentialminus\": [[0.0, \"#0d0887\"], [0.1111111111111111, \"#46039f\"], [0.2222222222222222, \"#7201a8\"], [0.3333333333333333, \"#9c179e\"], [0.4444444444444444, \"#bd3786\"], [0.5555555555555556, \"#d8576b\"], [0.6666666666666666, \"#ed7953\"], [0.7777777777777778, \"#fb9f3a\"], [0.8888888888888888, \"#fdca26\"], [1.0, \"#f0f921\"]]}, \"colorway\": [\"#636efa\", \"#EF553B\", \"#00cc96\", \"#ab63fa\", \"#FFA15A\", \"#19d3f3\", \"#FF6692\", \"#B6E880\", \"#FF97FF\", \"#FECB52\"], \"font\": {\"color\": \"#2a3f5f\"}, \"geo\": {\"bgcolor\": \"white\", \"lakecolor\": \"white\", \"landcolor\": \"#E5ECF6\", \"showlakes\": true, \"showland\": true, \"subunitcolor\": \"white\"}, \"hoverlabel\": {\"align\": \"left\"}, \"hovermode\": \"closest\", \"mapbox\": {\"style\": \"light\"}, \"paper_bgcolor\": \"white\", \"plot_bgcolor\": \"#E5ECF6\", \"polar\": {\"angularaxis\": {\"gridcolor\": \"white\", \"linecolor\": \"white\", \"ticks\": \"\"}, \"bgcolor\": \"#E5ECF6\", \"radialaxis\": {\"gridcolor\": \"white\", \"linecolor\": \"white\", \"ticks\": \"\"}}, \"scene\": {\"xaxis\": {\"backgroundcolor\": \"#E5ECF6\", \"gridcolor\": \"white\", \"gridwidth\": 2, \"linecolor\": \"white\", \"showbackground\": true, \"ticks\": \"\", \"zerolinecolor\": \"white\"}, \"yaxis\": {\"backgroundcolor\": \"#E5ECF6\", \"gridcolor\": \"white\", \"gridwidth\": 2, \"linecolor\": \"white\", \"showbackground\": true, \"ticks\": \"\", \"zerolinecolor\": \"white\"}, \"zaxis\": {\"backgroundcolor\": \"#E5ECF6\", \"gridcolor\": \"white\", \"gridwidth\": 2, \"linecolor\": \"white\", \"showbackground\": true, \"ticks\": \"\", \"zerolinecolor\": \"white\"}}, \"shapedefaults\": {\"line\": {\"color\": \"#2a3f5f\"}}, \"ternary\": {\"aaxis\": {\"gridcolor\": \"white\", \"linecolor\": \"white\", \"ticks\": \"\"}, \"baxis\": {\"gridcolor\": \"white\", \"linecolor\": \"white\", \"ticks\": \"\"}, \"bgcolor\": \"#E5ECF6\", \"caxis\": {\"gridcolor\": \"white\", \"linecolor\": \"white\", \"ticks\": \"\"}}, \"title\": {\"x\": 0.05}, \"xaxis\": {\"automargin\": true, \"gridcolor\": \"white\", \"linecolor\": \"white\", \"ticks\": \"\", \"title\": {\"standoff\": 15}, \"zerolinecolor\": \"white\", \"zerolinewidth\": 2}, \"yaxis\": {\"automargin\": true, \"gridcolor\": \"white\", \"linecolor\": \"white\", \"ticks\": \"\", \"title\": {\"standoff\": 15}, \"zerolinecolor\": \"white\", \"zerolinewidth\": 2}}}, \"title\": {\"text\": \"Price of different Apps of different categories\"}, \"xaxis\": {\"anchor\": \"y\", \"domain\": [0.0, 1.0], \"title\": {\"text\": \"Year\"}}, \"yaxis\": {\"anchor\": \"x\", \"domain\": [0.0, 1.0], \"title\": {\"text\": \"Price\"}}},\n",
              "                        {\"responsive\": true}\n",
              "                    ).then(function(){\n",
              "                            \n",
              "var gd = document.getElementById('4cb9aa24-b7d0-42a1-bd66-37199d9263c2');\n",
              "var x = new MutationObserver(function (mutations, observer) {{\n",
              "        var display = window.getComputedStyle(gd).display;\n",
              "        if (!display || display === 'none') {{\n",
              "            console.log([gd, 'removed!']);\n",
              "            Plotly.purge(gd);\n",
              "            observer.disconnect();\n",
              "        }}\n",
              "}});\n",
              "\n",
              "// Listen for the removal of the full notebook cells\n",
              "var notebookContainer = gd.closest('#notebook-container');\n",
              "if (notebookContainer) {{\n",
              "    x.observe(notebookContainer, {childList: true});\n",
              "}}\n",
              "\n",
              "// Listen for the clearing of the current output cell\n",
              "var outputEl = gd.closest('.output');\n",
              "if (outputEl) {{\n",
              "    x.observe(outputEl, {childList: true});\n",
              "}}\n",
              "\n",
              "                        })\n",
              "                };\n",
              "                \n",
              "            </script>\n",
              "        </div>\n",
              "</body>\n",
              "</html>"
            ]
          },
          "metadata": {}
        }
      ]
    },
    {
      "cell_type": "markdown",
      "metadata": {
        "id": "Zbc19e5uDKs9"
      },
      "source": [
        "Here we have the different prices of the Apps of different categories yearly. We have multiple Apps also "
      ]
    },
    {
      "cell_type": "code",
      "metadata": {
        "id": "Id_BP0VkDz0l"
      },
      "source": [
        ""
      ],
      "execution_count": null,
      "outputs": []
    }
  ]
}