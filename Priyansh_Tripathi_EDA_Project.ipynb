{
  "nbformat": 4,
  "nbformat_minor": 0,
  "metadata": {
    "colab": {
      "name": "Priyansh_Tripathi_EDA_Project.ipynb",
      "provenance": [],
      "collapsed_sections": [],
      "mount_file_id": "1UoV1y-YbqcGW1Gm8bdhwHwWxwJmsnRl9",
      "authorship_tag": "ABX9TyMXPEIdjPeN0cTBm/WlDdGF",
      "include_colab_link": true
    },
    "kernelspec": {
      "name": "python3",
      "display_name": "Python 3"
    },
    "language_info": {
      "name": "python"
    }
  },
  "cells": [
    {
      "cell_type": "markdown",
      "metadata": {
        "id": "view-in-github",
        "colab_type": "text"
      },
      "source": [
        "<a href=\"https://colab.research.google.com/github/priyansh1997/AlmaBetter/blob/main/Priyansh_Tripathi_EDA_Project.ipynb\" target=\"_parent\"><img src=\"https://colab.research.google.com/assets/colab-badge.svg\" alt=\"Open In Colab\"/></a>"
      ]
    },
    {
      "cell_type": "markdown",
      "metadata": {
        "id": "NR4o3pkKvXAY"
      },
      "source": [
        "# 1.1 Importing Libraries\n",
        "These libraries will be used for Exploratory Data Analysis."
      ]
    },
    {
      "cell_type": "code",
      "metadata": {
        "id": "eyIcK8o_dPFk"
      },
      "source": [
        "import pandas as pd \n",
        "import numpy as np\n",
        "import matplotlib.pyplot as plt\n",
        "import seaborn as sns\n",
        "import plotly.express as px"
      ],
      "execution_count": 1,
      "outputs": []
    },
    {
      "cell_type": "code",
      "metadata": {
        "id": "8Rws31XmPDPM"
      },
      "source": [
        "# Removing warnings\n",
        "import warnings\n",
        "warnings.filterwarnings(\"ignore\")"
      ],
      "execution_count": 2,
      "outputs": []
    },
    {
      "cell_type": "markdown",
      "metadata": {
        "id": "gJ4o6ozSxkQm"
      },
      "source": [
        "# 1.2 Data Loading\n",
        "Loading the dataset from google drive."
      ]
    },
    {
      "cell_type": "code",
      "metadata": {
        "colab": {
          "base_uri": "https://localhost:8080/"
        },
        "id": "Kxgc8v9NxcMu",
        "outputId": "9bf80907-6455-4f88-cbc5-e35015af714f"
      },
      "source": [
        "from google.colab import drive\n",
        "drive.mount('/content/drive')"
      ],
      "execution_count": 3,
      "outputs": [
        {
          "output_type": "stream",
          "name": "stdout",
          "text": [
            "Drive already mounted at /content/drive; to attempt to forcibly remount, call drive.mount(\"/content/drive\", force_remount=True).\n"
          ]
        }
      ]
    },
    {
      "cell_type": "code",
      "metadata": {
        "id": "iVAKHiMyx42p"
      },
      "source": [
        "play_store_df=pd.read_csv('/content/drive/MyDrive/datasets/Play Store Data.csv')\n",
        "user_reviews_df=pd.read_csv('/content/drive/MyDrive/datasets/User Reviews.csv')"
      ],
      "execution_count": 4,
      "outputs": []
    },
    {
      "cell_type": "markdown",
      "metadata": {
        "id": "4kE_jzPYyBq1"
      },
      "source": [
        "# 1.3 Data Inspection\n",
        "Inspection of the data contains information about the data, head/tail part, description of dataset, shape etc."
      ]
    },
    {
      "cell_type": "code",
      "metadata": {
        "colab": {
          "base_uri": "https://localhost:8080/",
          "height": 395
        },
        "id": "9VgtE2EByBPt",
        "outputId": "2575baf7-7991-4a07-e756-f55be222af87"
      },
      "source": [
        "play_store_df.head()"
      ],
      "execution_count": 5,
      "outputs": [
        {
          "output_type": "execute_result",
          "data": {
            "text/html": [
              "<div>\n",
              "<style scoped>\n",
              "    .dataframe tbody tr th:only-of-type {\n",
              "        vertical-align: middle;\n",
              "    }\n",
              "\n",
              "    .dataframe tbody tr th {\n",
              "        vertical-align: top;\n",
              "    }\n",
              "\n",
              "    .dataframe thead th {\n",
              "        text-align: right;\n",
              "    }\n",
              "</style>\n",
              "<table border=\"1\" class=\"dataframe\">\n",
              "  <thead>\n",
              "    <tr style=\"text-align: right;\">\n",
              "      <th></th>\n",
              "      <th>App</th>\n",
              "      <th>Category</th>\n",
              "      <th>Rating</th>\n",
              "      <th>Reviews</th>\n",
              "      <th>Size</th>\n",
              "      <th>Installs</th>\n",
              "      <th>Type</th>\n",
              "      <th>Price</th>\n",
              "      <th>Content Rating</th>\n",
              "      <th>Genres</th>\n",
              "      <th>Last Updated</th>\n",
              "      <th>Current Ver</th>\n",
              "      <th>Android Ver</th>\n",
              "    </tr>\n",
              "  </thead>\n",
              "  <tbody>\n",
              "    <tr>\n",
              "      <th>0</th>\n",
              "      <td>Photo Editor &amp; Candy Camera &amp; Grid &amp; ScrapBook</td>\n",
              "      <td>ART_AND_DESIGN</td>\n",
              "      <td>4.1</td>\n",
              "      <td>159</td>\n",
              "      <td>19M</td>\n",
              "      <td>10,000+</td>\n",
              "      <td>Free</td>\n",
              "      <td>0</td>\n",
              "      <td>Everyone</td>\n",
              "      <td>Art &amp; Design</td>\n",
              "      <td>January 7, 2018</td>\n",
              "      <td>1.0.0</td>\n",
              "      <td>4.0.3 and up</td>\n",
              "    </tr>\n",
              "    <tr>\n",
              "      <th>1</th>\n",
              "      <td>Coloring book moana</td>\n",
              "      <td>ART_AND_DESIGN</td>\n",
              "      <td>3.9</td>\n",
              "      <td>967</td>\n",
              "      <td>14M</td>\n",
              "      <td>500,000+</td>\n",
              "      <td>Free</td>\n",
              "      <td>0</td>\n",
              "      <td>Everyone</td>\n",
              "      <td>Art &amp; Design;Pretend Play</td>\n",
              "      <td>January 15, 2018</td>\n",
              "      <td>2.0.0</td>\n",
              "      <td>4.0.3 and up</td>\n",
              "    </tr>\n",
              "    <tr>\n",
              "      <th>2</th>\n",
              "      <td>U Launcher Lite – FREE Live Cool Themes, Hide ...</td>\n",
              "      <td>ART_AND_DESIGN</td>\n",
              "      <td>4.7</td>\n",
              "      <td>87510</td>\n",
              "      <td>8.7M</td>\n",
              "      <td>5,000,000+</td>\n",
              "      <td>Free</td>\n",
              "      <td>0</td>\n",
              "      <td>Everyone</td>\n",
              "      <td>Art &amp; Design</td>\n",
              "      <td>August 1, 2018</td>\n",
              "      <td>1.2.4</td>\n",
              "      <td>4.0.3 and up</td>\n",
              "    </tr>\n",
              "    <tr>\n",
              "      <th>3</th>\n",
              "      <td>Sketch - Draw &amp; Paint</td>\n",
              "      <td>ART_AND_DESIGN</td>\n",
              "      <td>4.5</td>\n",
              "      <td>215644</td>\n",
              "      <td>25M</td>\n",
              "      <td>50,000,000+</td>\n",
              "      <td>Free</td>\n",
              "      <td>0</td>\n",
              "      <td>Teen</td>\n",
              "      <td>Art &amp; Design</td>\n",
              "      <td>June 8, 2018</td>\n",
              "      <td>Varies with device</td>\n",
              "      <td>4.2 and up</td>\n",
              "    </tr>\n",
              "    <tr>\n",
              "      <th>4</th>\n",
              "      <td>Pixel Draw - Number Art Coloring Book</td>\n",
              "      <td>ART_AND_DESIGN</td>\n",
              "      <td>4.3</td>\n",
              "      <td>967</td>\n",
              "      <td>2.8M</td>\n",
              "      <td>100,000+</td>\n",
              "      <td>Free</td>\n",
              "      <td>0</td>\n",
              "      <td>Everyone</td>\n",
              "      <td>Art &amp; Design;Creativity</td>\n",
              "      <td>June 20, 2018</td>\n",
              "      <td>1.1</td>\n",
              "      <td>4.4 and up</td>\n",
              "    </tr>\n",
              "  </tbody>\n",
              "</table>\n",
              "</div>"
            ],
            "text/plain": [
              "                                                 App  ...   Android Ver\n",
              "0     Photo Editor & Candy Camera & Grid & ScrapBook  ...  4.0.3 and up\n",
              "1                                Coloring book moana  ...  4.0.3 and up\n",
              "2  U Launcher Lite – FREE Live Cool Themes, Hide ...  ...  4.0.3 and up\n",
              "3                              Sketch - Draw & Paint  ...    4.2 and up\n",
              "4              Pixel Draw - Number Art Coloring Book  ...    4.4 and up\n",
              "\n",
              "[5 rows x 13 columns]"
            ]
          },
          "metadata": {},
          "execution_count": 5
        }
      ]
    },
    {
      "cell_type": "code",
      "metadata": {
        "colab": {
          "base_uri": "https://localhost:8080/",
          "height": 378
        },
        "id": "7lUpr8EAVdFX",
        "outputId": "fb49f7ea-7173-49e0-fe5a-c3da2b8d49c8"
      },
      "source": [
        "play_store_df.tail()"
      ],
      "execution_count": 6,
      "outputs": [
        {
          "output_type": "execute_result",
          "data": {
            "text/html": [
              "<div>\n",
              "<style scoped>\n",
              "    .dataframe tbody tr th:only-of-type {\n",
              "        vertical-align: middle;\n",
              "    }\n",
              "\n",
              "    .dataframe tbody tr th {\n",
              "        vertical-align: top;\n",
              "    }\n",
              "\n",
              "    .dataframe thead th {\n",
              "        text-align: right;\n",
              "    }\n",
              "</style>\n",
              "<table border=\"1\" class=\"dataframe\">\n",
              "  <thead>\n",
              "    <tr style=\"text-align: right;\">\n",
              "      <th></th>\n",
              "      <th>App</th>\n",
              "      <th>Category</th>\n",
              "      <th>Rating</th>\n",
              "      <th>Reviews</th>\n",
              "      <th>Size</th>\n",
              "      <th>Installs</th>\n",
              "      <th>Type</th>\n",
              "      <th>Price</th>\n",
              "      <th>Content Rating</th>\n",
              "      <th>Genres</th>\n",
              "      <th>Last Updated</th>\n",
              "      <th>Current Ver</th>\n",
              "      <th>Android Ver</th>\n",
              "    </tr>\n",
              "  </thead>\n",
              "  <tbody>\n",
              "    <tr>\n",
              "      <th>10836</th>\n",
              "      <td>Sya9a Maroc - FR</td>\n",
              "      <td>FAMILY</td>\n",
              "      <td>4.5</td>\n",
              "      <td>38</td>\n",
              "      <td>53M</td>\n",
              "      <td>5,000+</td>\n",
              "      <td>Free</td>\n",
              "      <td>0</td>\n",
              "      <td>Everyone</td>\n",
              "      <td>Education</td>\n",
              "      <td>July 25, 2017</td>\n",
              "      <td>1.48</td>\n",
              "      <td>4.1 and up</td>\n",
              "    </tr>\n",
              "    <tr>\n",
              "      <th>10837</th>\n",
              "      <td>Fr. Mike Schmitz Audio Teachings</td>\n",
              "      <td>FAMILY</td>\n",
              "      <td>5.0</td>\n",
              "      <td>4</td>\n",
              "      <td>3.6M</td>\n",
              "      <td>100+</td>\n",
              "      <td>Free</td>\n",
              "      <td>0</td>\n",
              "      <td>Everyone</td>\n",
              "      <td>Education</td>\n",
              "      <td>July 6, 2018</td>\n",
              "      <td>1.0</td>\n",
              "      <td>4.1 and up</td>\n",
              "    </tr>\n",
              "    <tr>\n",
              "      <th>10838</th>\n",
              "      <td>Parkinson Exercices FR</td>\n",
              "      <td>MEDICAL</td>\n",
              "      <td>NaN</td>\n",
              "      <td>3</td>\n",
              "      <td>9.5M</td>\n",
              "      <td>1,000+</td>\n",
              "      <td>Free</td>\n",
              "      <td>0</td>\n",
              "      <td>Everyone</td>\n",
              "      <td>Medical</td>\n",
              "      <td>January 20, 2017</td>\n",
              "      <td>1.0</td>\n",
              "      <td>2.2 and up</td>\n",
              "    </tr>\n",
              "    <tr>\n",
              "      <th>10839</th>\n",
              "      <td>The SCP Foundation DB fr nn5n</td>\n",
              "      <td>BOOKS_AND_REFERENCE</td>\n",
              "      <td>4.5</td>\n",
              "      <td>114</td>\n",
              "      <td>Varies with device</td>\n",
              "      <td>1,000+</td>\n",
              "      <td>Free</td>\n",
              "      <td>0</td>\n",
              "      <td>Mature 17+</td>\n",
              "      <td>Books &amp; Reference</td>\n",
              "      <td>January 19, 2015</td>\n",
              "      <td>Varies with device</td>\n",
              "      <td>Varies with device</td>\n",
              "    </tr>\n",
              "    <tr>\n",
              "      <th>10840</th>\n",
              "      <td>iHoroscope - 2018 Daily Horoscope &amp; Astrology</td>\n",
              "      <td>LIFESTYLE</td>\n",
              "      <td>4.5</td>\n",
              "      <td>398307</td>\n",
              "      <td>19M</td>\n",
              "      <td>10,000,000+</td>\n",
              "      <td>Free</td>\n",
              "      <td>0</td>\n",
              "      <td>Everyone</td>\n",
              "      <td>Lifestyle</td>\n",
              "      <td>July 25, 2018</td>\n",
              "      <td>Varies with device</td>\n",
              "      <td>Varies with device</td>\n",
              "    </tr>\n",
              "  </tbody>\n",
              "</table>\n",
              "</div>"
            ],
            "text/plain": [
              "                                                 App  ...         Android Ver\n",
              "10836                               Sya9a Maroc - FR  ...          4.1 and up\n",
              "10837               Fr. Mike Schmitz Audio Teachings  ...          4.1 and up\n",
              "10838                         Parkinson Exercices FR  ...          2.2 and up\n",
              "10839                  The SCP Foundation DB fr nn5n  ...  Varies with device\n",
              "10840  iHoroscope - 2018 Daily Horoscope & Astrology  ...  Varies with device\n",
              "\n",
              "[5 rows x 13 columns]"
            ]
          },
          "metadata": {},
          "execution_count": 6
        }
      ]
    },
    {
      "cell_type": "code",
      "metadata": {
        "colab": {
          "base_uri": "https://localhost:8080/",
          "height": 205
        },
        "id": "4HtZw1JgyIgz",
        "outputId": "5eef7aff-cf1e-4e78-e741-e924ee9a4003"
      },
      "source": [
        "user_reviews_df.head()"
      ],
      "execution_count": 7,
      "outputs": [
        {
          "output_type": "execute_result",
          "data": {
            "text/html": [
              "<div>\n",
              "<style scoped>\n",
              "    .dataframe tbody tr th:only-of-type {\n",
              "        vertical-align: middle;\n",
              "    }\n",
              "\n",
              "    .dataframe tbody tr th {\n",
              "        vertical-align: top;\n",
              "    }\n",
              "\n",
              "    .dataframe thead th {\n",
              "        text-align: right;\n",
              "    }\n",
              "</style>\n",
              "<table border=\"1\" class=\"dataframe\">\n",
              "  <thead>\n",
              "    <tr style=\"text-align: right;\">\n",
              "      <th></th>\n",
              "      <th>App</th>\n",
              "      <th>Translated_Review</th>\n",
              "      <th>Sentiment</th>\n",
              "      <th>Sentiment_Polarity</th>\n",
              "      <th>Sentiment_Subjectivity</th>\n",
              "    </tr>\n",
              "  </thead>\n",
              "  <tbody>\n",
              "    <tr>\n",
              "      <th>0</th>\n",
              "      <td>10 Best Foods for You</td>\n",
              "      <td>I like eat delicious food. That's I'm cooking ...</td>\n",
              "      <td>Positive</td>\n",
              "      <td>1.00</td>\n",
              "      <td>0.533333</td>\n",
              "    </tr>\n",
              "    <tr>\n",
              "      <th>1</th>\n",
              "      <td>10 Best Foods for You</td>\n",
              "      <td>This help eating healthy exercise regular basis</td>\n",
              "      <td>Positive</td>\n",
              "      <td>0.25</td>\n",
              "      <td>0.288462</td>\n",
              "    </tr>\n",
              "    <tr>\n",
              "      <th>2</th>\n",
              "      <td>10 Best Foods for You</td>\n",
              "      <td>NaN</td>\n",
              "      <td>NaN</td>\n",
              "      <td>NaN</td>\n",
              "      <td>NaN</td>\n",
              "    </tr>\n",
              "    <tr>\n",
              "      <th>3</th>\n",
              "      <td>10 Best Foods for You</td>\n",
              "      <td>Works great especially going grocery store</td>\n",
              "      <td>Positive</td>\n",
              "      <td>0.40</td>\n",
              "      <td>0.875000</td>\n",
              "    </tr>\n",
              "    <tr>\n",
              "      <th>4</th>\n",
              "      <td>10 Best Foods for You</td>\n",
              "      <td>Best idea us</td>\n",
              "      <td>Positive</td>\n",
              "      <td>1.00</td>\n",
              "      <td>0.300000</td>\n",
              "    </tr>\n",
              "  </tbody>\n",
              "</table>\n",
              "</div>"
            ],
            "text/plain": [
              "                     App  ... Sentiment_Subjectivity\n",
              "0  10 Best Foods for You  ...               0.533333\n",
              "1  10 Best Foods for You  ...               0.288462\n",
              "2  10 Best Foods for You  ...                    NaN\n",
              "3  10 Best Foods for You  ...               0.875000\n",
              "4  10 Best Foods for You  ...               0.300000\n",
              "\n",
              "[5 rows x 5 columns]"
            ]
          },
          "metadata": {},
          "execution_count": 7
        }
      ]
    },
    {
      "cell_type": "code",
      "metadata": {
        "colab": {
          "base_uri": "https://localhost:8080/"
        },
        "id": "qV_utC4yVew3",
        "outputId": "d896f4b6-0b29-40bb-a9f4-51063b6237f2"
      },
      "source": [
        "user_reviews_df.tail()"
      ],
      "execution_count": 8,
      "outputs": [
        {
          "output_type": "execute_result",
          "data": {
            "text/html": [
              "<div>\n",
              "<style scoped>\n",
              "    .dataframe tbody tr th:only-of-type {\n",
              "        vertical-align: middle;\n",
              "    }\n",
              "\n",
              "    .dataframe tbody tr th {\n",
              "        vertical-align: top;\n",
              "    }\n",
              "\n",
              "    .dataframe thead th {\n",
              "        text-align: right;\n",
              "    }\n",
              "</style>\n",
              "<table border=\"1\" class=\"dataframe\">\n",
              "  <thead>\n",
              "    <tr style=\"text-align: right;\">\n",
              "      <th></th>\n",
              "      <th>App</th>\n",
              "      <th>Translated_Review</th>\n",
              "      <th>Sentiment</th>\n",
              "      <th>Sentiment_Polarity</th>\n",
              "      <th>Sentiment_Subjectivity</th>\n",
              "    </tr>\n",
              "  </thead>\n",
              "  <tbody>\n",
              "    <tr>\n",
              "      <th>64290</th>\n",
              "      <td>Houzz Interior Design Ideas</td>\n",
              "      <td>NaN</td>\n",
              "      <td>NaN</td>\n",
              "      <td>NaN</td>\n",
              "      <td>NaN</td>\n",
              "    </tr>\n",
              "    <tr>\n",
              "      <th>64291</th>\n",
              "      <td>Houzz Interior Design Ideas</td>\n",
              "      <td>NaN</td>\n",
              "      <td>NaN</td>\n",
              "      <td>NaN</td>\n",
              "      <td>NaN</td>\n",
              "    </tr>\n",
              "    <tr>\n",
              "      <th>64292</th>\n",
              "      <td>Houzz Interior Design Ideas</td>\n",
              "      <td>NaN</td>\n",
              "      <td>NaN</td>\n",
              "      <td>NaN</td>\n",
              "      <td>NaN</td>\n",
              "    </tr>\n",
              "    <tr>\n",
              "      <th>64293</th>\n",
              "      <td>Houzz Interior Design Ideas</td>\n",
              "      <td>NaN</td>\n",
              "      <td>NaN</td>\n",
              "      <td>NaN</td>\n",
              "      <td>NaN</td>\n",
              "    </tr>\n",
              "    <tr>\n",
              "      <th>64294</th>\n",
              "      <td>Houzz Interior Design Ideas</td>\n",
              "      <td>NaN</td>\n",
              "      <td>NaN</td>\n",
              "      <td>NaN</td>\n",
              "      <td>NaN</td>\n",
              "    </tr>\n",
              "  </tbody>\n",
              "</table>\n",
              "</div>"
            ],
            "text/plain": [
              "                               App  ... Sentiment_Subjectivity\n",
              "64290  Houzz Interior Design Ideas  ...                    NaN\n",
              "64291  Houzz Interior Design Ideas  ...                    NaN\n",
              "64292  Houzz Interior Design Ideas  ...                    NaN\n",
              "64293  Houzz Interior Design Ideas  ...                    NaN\n",
              "64294  Houzz Interior Design Ideas  ...                    NaN\n",
              "\n",
              "[5 rows x 5 columns]"
            ]
          },
          "metadata": {},
          "execution_count": 8
        }
      ]
    },
    {
      "cell_type": "code",
      "metadata": {
        "colab": {
          "base_uri": "https://localhost:8080/"
        },
        "id": "FcmZO20oyNrl",
        "outputId": "39024600-4b5e-45e7-ee3e-1b68409e2ef1"
      },
      "source": [
        "play_store_df.shape"
      ],
      "execution_count": 9,
      "outputs": [
        {
          "output_type": "execute_result",
          "data": {
            "text/plain": [
              "(10841, 13)"
            ]
          },
          "metadata": {},
          "execution_count": 9
        }
      ]
    },
    {
      "cell_type": "code",
      "metadata": {
        "colab": {
          "base_uri": "https://localhost:8080/"
        },
        "id": "KiZhHc_ryfuc",
        "outputId": "8f58cf3c-d288-40e5-a804-67649070575e"
      },
      "source": [
        "user_reviews_df.shape"
      ],
      "execution_count": 10,
      "outputs": [
        {
          "output_type": "execute_result",
          "data": {
            "text/plain": [
              "(64295, 5)"
            ]
          },
          "metadata": {},
          "execution_count": 10
        }
      ]
    },
    {
      "cell_type": "code",
      "metadata": {
        "colab": {
          "base_uri": "https://localhost:8080/"
        },
        "id": "rDFfW3uFzF_8",
        "outputId": "25260c5b-6a8d-4a8d-eda8-088be6e8acb4"
      },
      "source": [
        "play_store_df.info()"
      ],
      "execution_count": 11,
      "outputs": [
        {
          "output_type": "stream",
          "name": "stdout",
          "text": [
            "<class 'pandas.core.frame.DataFrame'>\n",
            "RangeIndex: 10841 entries, 0 to 10840\n",
            "Data columns (total 13 columns):\n",
            " #   Column          Non-Null Count  Dtype  \n",
            "---  ------          --------------  -----  \n",
            " 0   App             10841 non-null  object \n",
            " 1   Category        10841 non-null  object \n",
            " 2   Rating          9367 non-null   float64\n",
            " 3   Reviews         10841 non-null  object \n",
            " 4   Size            10841 non-null  object \n",
            " 5   Installs        10841 non-null  object \n",
            " 6   Type            10840 non-null  object \n",
            " 7   Price           10841 non-null  object \n",
            " 8   Content Rating  10840 non-null  object \n",
            " 9   Genres          10841 non-null  object \n",
            " 10  Last Updated    10841 non-null  object \n",
            " 11  Current Ver     10833 non-null  object \n",
            " 12  Android Ver     10838 non-null  object \n",
            "dtypes: float64(1), object(12)\n",
            "memory usage: 1.1+ MB\n"
          ]
        }
      ]
    },
    {
      "cell_type": "markdown",
      "metadata": {
        "id": "Z8bkJr8A1UG8"
      },
      "source": [
        "Here we are having table showing 13 feature names and the count of non-values present in them. Now we will check each column in data cleaning part. "
      ]
    },
    {
      "cell_type": "code",
      "metadata": {
        "colab": {
          "base_uri": "https://localhost:8080/"
        },
        "id": "hddyRGkgzKR0",
        "outputId": "a7624243-5b3a-4ecc-efdb-c95f80dedfcc"
      },
      "source": [
        "user_reviews_df.info()"
      ],
      "execution_count": 12,
      "outputs": [
        {
          "output_type": "stream",
          "name": "stdout",
          "text": [
            "<class 'pandas.core.frame.DataFrame'>\n",
            "RangeIndex: 64295 entries, 0 to 64294\n",
            "Data columns (total 5 columns):\n",
            " #   Column                  Non-Null Count  Dtype  \n",
            "---  ------                  --------------  -----  \n",
            " 0   App                     64295 non-null  object \n",
            " 1   Translated_Review       37427 non-null  object \n",
            " 2   Sentiment               37432 non-null  object \n",
            " 3   Sentiment_Polarity      37432 non-null  float64\n",
            " 4   Sentiment_Subjectivity  37432 non-null  float64\n",
            "dtypes: float64(2), object(3)\n",
            "memory usage: 2.5+ MB\n"
          ]
        }
      ]
    },
    {
      "cell_type": "markdown",
      "metadata": {
        "id": "2rbJmu1o1xpl"
      },
      "source": [
        "Here also in user reviews dataframe we have 5 features with there counts of non-null values."
      ]
    },
    {
      "cell_type": "code",
      "metadata": {
        "colab": {
          "base_uri": "https://localhost:8080/"
        },
        "id": "06krqBkYzdDE",
        "outputId": "912aae15-3538-4757-fc61-6b48f0910ced"
      },
      "source": [
        "play_store_df.columns"
      ],
      "execution_count": 13,
      "outputs": [
        {
          "output_type": "execute_result",
          "data": {
            "text/plain": [
              "Index(['App', 'Category', 'Rating', 'Reviews', 'Size', 'Installs', 'Type',\n",
              "       'Price', 'Content Rating', 'Genres', 'Last Updated', 'Current Ver',\n",
              "       'Android Ver'],\n",
              "      dtype='object')"
            ]
          },
          "metadata": {},
          "execution_count": 13
        }
      ]
    },
    {
      "cell_type": "code",
      "metadata": {
        "id": "npgdx9FRzPDh"
      },
      "source": [
        "# Checking the column names and removing the spaces so column will be easier to access \n",
        "play_store_df.rename(columns={\"Content Rating\":\"Content_Rating\", \"Last Updated\":\"Last_Updated\", \"Current Ver\":\"Current_Ver\", \"Android Ver\":\"Android_Ver\"}, inplace=True)"
      ],
      "execution_count": 14,
      "outputs": []
    },
    {
      "cell_type": "code",
      "metadata": {
        "colab": {
          "base_uri": "https://localhost:8080/"
        },
        "id": "PCfRy444zeDk",
        "outputId": "ce13a356-787f-4df7-c93e-0184cefb037b"
      },
      "source": [
        "play_store_df.columns"
      ],
      "execution_count": 15,
      "outputs": [
        {
          "output_type": "execute_result",
          "data": {
            "text/plain": [
              "Index(['App', 'Category', 'Rating', 'Reviews', 'Size', 'Installs', 'Type',\n",
              "       'Price', 'Content_Rating', 'Genres', 'Last_Updated', 'Current_Ver',\n",
              "       'Android_Ver'],\n",
              "      dtype='object')"
            ]
          },
          "metadata": {},
          "execution_count": 15
        }
      ]
    },
    {
      "cell_type": "code",
      "metadata": {
        "colab": {
          "base_uri": "https://localhost:8080/"
        },
        "id": "nvGjwX0-zfH3",
        "outputId": "04a60e20-064c-4fa4-90d6-53855e1dfdb3"
      },
      "source": [
        "user_reviews_df.columns "
      ],
      "execution_count": 16,
      "outputs": [
        {
          "output_type": "execute_result",
          "data": {
            "text/plain": [
              "Index(['App', 'Translated_Review', 'Sentiment', 'Sentiment_Polarity',\n",
              "       'Sentiment_Subjectivity'],\n",
              "      dtype='object')"
            ]
          },
          "metadata": {},
          "execution_count": 16
        }
      ]
    },
    {
      "cell_type": "markdown",
      "metadata": {
        "id": "QjxD9RKkzw-z"
      },
      "source": [
        "Already spaces are replaced by underscores"
      ]
    },
    {
      "cell_type": "markdown",
      "metadata": {
        "id": "yLGBxlr5yq_4"
      },
      "source": [
        "### 1.3.1 Data Cleaning part for Play store dataframe."
      ]
    },
    {
      "cell_type": "markdown",
      "metadata": {
        "id": "6U9Q7n0_0JO9"
      },
      "source": [
        "Firstly we will remove the duplicated rows for the play store dataframe."
      ]
    },
    {
      "cell_type": "code",
      "metadata": {
        "colab": {
          "base_uri": "https://localhost:8080/"
        },
        "id": "-BOO1ANFylqk",
        "outputId": "f9271d80-e979-4139-e4ec-396fdaf798d2"
      },
      "source": [
        "duplicated_rows_play_store_index=play_store_df[play_store_df.duplicated()].index\n",
        "print(duplicated_rows_play_store_index)"
      ],
      "execution_count": 17,
      "outputs": [
        {
          "output_type": "stream",
          "name": "stdout",
          "text": [
            "Int64Index([  229,   236,   239,   256,   261,   265,   266,   267,   268,\n",
            "              269,\n",
            "            ...\n",
            "             8632,  8635,  8636,  8639,  8642,  8643,  8654,  8658, 10049,\n",
            "            10768],\n",
            "           dtype='int64', length=483)\n"
          ]
        }
      ]
    },
    {
      "cell_type": "code",
      "metadata": {
        "colab": {
          "base_uri": "https://localhost:8080/"
        },
        "id": "l5mzVlJ1zDBM",
        "outputId": "3ca343c6-13cb-423f-cbd8-a531ceb1854f"
      },
      "source": [
        "# Dropping the duplicated rows as they were disturbing the data integrity and checking the shape\n",
        "play_store_df.drop(duplicated_rows_play_store_index, inplace=True)\n",
        "play_store_df.shape"
      ],
      "execution_count": 18,
      "outputs": [
        {
          "output_type": "execute_result",
          "data": {
            "text/plain": [
              "(10358, 13)"
            ]
          },
          "metadata": {},
          "execution_count": 18
        }
      ]
    },
    {
      "cell_type": "code",
      "metadata": {
        "colab": {
          "base_uri": "https://localhost:8080/"
        },
        "id": "tfolNS9C2Tyv",
        "outputId": "ea04b5e1-e888-4af2-f28c-eeb20d040880"
      },
      "source": [
        "play_store_df.App.isnull().sum()"
      ],
      "execution_count": 19,
      "outputs": [
        {
          "output_type": "execute_result",
          "data": {
            "text/plain": [
              "0"
            ]
          },
          "metadata": {},
          "execution_count": 19
        }
      ]
    },
    {
      "cell_type": "markdown",
      "metadata": {
        "id": "12BXXU9y5qN8"
      },
      "source": [
        "No null values in App feature."
      ]
    },
    {
      "cell_type": "code",
      "metadata": {
        "colab": {
          "base_uri": "https://localhost:8080/"
        },
        "id": "D4e8Pkys2bN1",
        "outputId": "61fd9857-dd0f-4e29-a80a-e5089c24964f"
      },
      "source": [
        "play_store_df.Category.isnull().sum()"
      ],
      "execution_count": 20,
      "outputs": [
        {
          "output_type": "execute_result",
          "data": {
            "text/plain": [
              "0"
            ]
          },
          "metadata": {},
          "execution_count": 20
        }
      ]
    },
    {
      "cell_type": "markdown",
      "metadata": {
        "id": "h8omj7Q55yti"
      },
      "source": [
        "No null values in Category feature."
      ]
    },
    {
      "cell_type": "code",
      "metadata": {
        "colab": {
          "base_uri": "https://localhost:8080/"
        },
        "id": "hcUFpn-r01Ir",
        "outputId": "fcf88b49-23f8-41de-e5f0-a9e19b83a015"
      },
      "source": [
        "# Getting the unique values of category column\n",
        "play_store_df.Category.unique()"
      ],
      "execution_count": 21,
      "outputs": [
        {
          "output_type": "execute_result",
          "data": {
            "text/plain": [
              "array(['ART_AND_DESIGN', 'AUTO_AND_VEHICLES', 'BEAUTY',\n",
              "       'BOOKS_AND_REFERENCE', 'BUSINESS', 'COMICS', 'COMMUNICATION',\n",
              "       'DATING', 'EDUCATION', 'ENTERTAINMENT', 'EVENTS', 'FINANCE',\n",
              "       'FOOD_AND_DRINK', 'HEALTH_AND_FITNESS', 'HOUSE_AND_HOME',\n",
              "       'LIBRARIES_AND_DEMO', 'LIFESTYLE', 'GAME', 'FAMILY', 'MEDICAL',\n",
              "       'SOCIAL', 'SHOPPING', 'PHOTOGRAPHY', 'SPORTS', 'TRAVEL_AND_LOCAL',\n",
              "       'TOOLS', 'PERSONALIZATION', 'PRODUCTIVITY', 'PARENTING', 'WEATHER',\n",
              "       'VIDEO_PLAYERS', 'NEWS_AND_MAGAZINES', 'MAPS_AND_NAVIGATION',\n",
              "       '1.9'], dtype=object)"
            ]
          },
          "metadata": {},
          "execution_count": 21
        }
      ]
    },
    {
      "cell_type": "markdown",
      "metadata": {
        "id": "SKJTIT4W52_S"
      },
      "source": [
        "These are all the unique categories of application that we are having in our data."
      ]
    },
    {
      "cell_type": "code",
      "metadata": {
        "colab": {
          "base_uri": "https://localhost:8080/"
        },
        "id": "AvOUIo5j2jEj",
        "outputId": "a9f4629d-5325-4066-c788-f73f6961296e"
      },
      "source": [
        "play_store_df.Rating.isnull().sum()"
      ],
      "execution_count": 22,
      "outputs": [
        {
          "output_type": "execute_result",
          "data": {
            "text/plain": [
              "1465"
            ]
          },
          "metadata": {},
          "execution_count": 22
        }
      ]
    },
    {
      "cell_type": "markdown",
      "metadata": {
        "id": "leWZuIbD6G87"
      },
      "source": [
        "We are having 1465 null values in rating column which we have to fill or drop out."
      ]
    },
    {
      "cell_type": "code",
      "metadata": {
        "colab": {
          "base_uri": "https://localhost:8080/"
        },
        "id": "3V3UYn3W6aVa",
        "outputId": "6115cc48-2305-41c4-9134-4e1ed806383b"
      },
      "source": [
        "print(\"Minimum rating to an App given:\",min(play_store_df.Rating))\n",
        "print(\"Maximum rating to an App given:\",max(play_store_df.Rating))"
      ],
      "execution_count": 23,
      "outputs": [
        {
          "output_type": "stream",
          "name": "stdout",
          "text": [
            "Minimum rating to an App given: 1.0\n",
            "Maximum rating to an App given: 19.0\n"
          ]
        }
      ]
    },
    {
      "cell_type": "markdown",
      "metadata": {
        "id": "qXuXhrja61oM"
      },
      "source": [
        "Max rating of the App can be 5.0"
      ]
    },
    {
      "cell_type": "code",
      "metadata": {
        "colab": {
          "base_uri": "https://localhost:8080/"
        },
        "id": "_VHcUWkx7KM4",
        "outputId": "bff3d775-795d-48f3-dfeb-6613d630091c"
      },
      "source": [
        "play_store_df[play_store_df.Rating>5]"
      ],
      "execution_count": 24,
      "outputs": [
        {
          "output_type": "execute_result",
          "data": {
            "text/html": [
              "<div>\n",
              "<style scoped>\n",
              "    .dataframe tbody tr th:only-of-type {\n",
              "        vertical-align: middle;\n",
              "    }\n",
              "\n",
              "    .dataframe tbody tr th {\n",
              "        vertical-align: top;\n",
              "    }\n",
              "\n",
              "    .dataframe thead th {\n",
              "        text-align: right;\n",
              "    }\n",
              "</style>\n",
              "<table border=\"1\" class=\"dataframe\">\n",
              "  <thead>\n",
              "    <tr style=\"text-align: right;\">\n",
              "      <th></th>\n",
              "      <th>App</th>\n",
              "      <th>Category</th>\n",
              "      <th>Rating</th>\n",
              "      <th>Reviews</th>\n",
              "      <th>Size</th>\n",
              "      <th>Installs</th>\n",
              "      <th>Type</th>\n",
              "      <th>Price</th>\n",
              "      <th>Content_Rating</th>\n",
              "      <th>Genres</th>\n",
              "      <th>Last_Updated</th>\n",
              "      <th>Current_Ver</th>\n",
              "      <th>Android_Ver</th>\n",
              "    </tr>\n",
              "  </thead>\n",
              "  <tbody>\n",
              "    <tr>\n",
              "      <th>10472</th>\n",
              "      <td>Life Made WI-Fi Touchscreen Photo Frame</td>\n",
              "      <td>1.9</td>\n",
              "      <td>19.0</td>\n",
              "      <td>3.0M</td>\n",
              "      <td>1,000+</td>\n",
              "      <td>Free</td>\n",
              "      <td>0</td>\n",
              "      <td>Everyone</td>\n",
              "      <td>NaN</td>\n",
              "      <td>February 11, 2018</td>\n",
              "      <td>1.0.19</td>\n",
              "      <td>4.0 and up</td>\n",
              "      <td>NaN</td>\n",
              "    </tr>\n",
              "  </tbody>\n",
              "</table>\n",
              "</div>"
            ],
            "text/plain": [
              "                                           App Category  ...  Current_Ver Android_Ver\n",
              "10472  Life Made WI-Fi Touchscreen Photo Frame      1.9  ...   4.0 and up         NaN\n",
              "\n",
              "[1 rows x 13 columns]"
            ]
          },
          "metadata": {},
          "execution_count": 24
        }
      ]
    },
    {
      "cell_type": "markdown",
      "metadata": {
        "id": "0ZMGI9Q07QHJ"
      },
      "source": [
        "We can see this record is manipulated as it has rating more than 5, price is everyone which should be some value, installs is free etc. so we will remove this record."
      ]
    },
    {
      "cell_type": "code",
      "metadata": {
        "id": "E9FB7djt2iIM"
      },
      "source": [
        "play_store_df.drop(play_store_df[play_store_df.Rating>5].index,inplace=True)"
      ],
      "execution_count": 25,
      "outputs": []
    },
    {
      "cell_type": "code",
      "metadata": {
        "colab": {
          "base_uri": "https://localhost:8080/"
        },
        "id": "sYdVPOQ17HrA",
        "outputId": "bd14a98f-ca10-4c77-955a-03963911e77c"
      },
      "source": [
        "print(\"Now maximum rating of an App is:\",max(play_store_df.Rating))"
      ],
      "execution_count": 26,
      "outputs": [
        {
          "output_type": "stream",
          "name": "stdout",
          "text": [
            "Now maximum rating of an App is: 5.0\n"
          ]
        }
      ]
    },
    {
      "cell_type": "code",
      "metadata": {
        "id": "33C5aj0o73ug"
      },
      "source": [
        "play_store_df.reset_index(drop=True,inplace=True)"
      ],
      "execution_count": 27,
      "outputs": []
    },
    {
      "cell_type": "code",
      "metadata": {
        "colab": {
          "base_uri": "https://localhost:8080/"
        },
        "id": "U7SZbrKs8VCH",
        "outputId": "a2d286c7-3dfe-4908-8c31-e5f28332d940"
      },
      "source": [
        "play_store_df.head()"
      ],
      "execution_count": 28,
      "outputs": [
        {
          "output_type": "execute_result",
          "data": {
            "text/html": [
              "<div>\n",
              "<style scoped>\n",
              "    .dataframe tbody tr th:only-of-type {\n",
              "        vertical-align: middle;\n",
              "    }\n",
              "\n",
              "    .dataframe tbody tr th {\n",
              "        vertical-align: top;\n",
              "    }\n",
              "\n",
              "    .dataframe thead th {\n",
              "        text-align: right;\n",
              "    }\n",
              "</style>\n",
              "<table border=\"1\" class=\"dataframe\">\n",
              "  <thead>\n",
              "    <tr style=\"text-align: right;\">\n",
              "      <th></th>\n",
              "      <th>App</th>\n",
              "      <th>Category</th>\n",
              "      <th>Rating</th>\n",
              "      <th>Reviews</th>\n",
              "      <th>Size</th>\n",
              "      <th>Installs</th>\n",
              "      <th>Type</th>\n",
              "      <th>Price</th>\n",
              "      <th>Content_Rating</th>\n",
              "      <th>Genres</th>\n",
              "      <th>Last_Updated</th>\n",
              "      <th>Current_Ver</th>\n",
              "      <th>Android_Ver</th>\n",
              "    </tr>\n",
              "  </thead>\n",
              "  <tbody>\n",
              "    <tr>\n",
              "      <th>0</th>\n",
              "      <td>Photo Editor &amp; Candy Camera &amp; Grid &amp; ScrapBook</td>\n",
              "      <td>ART_AND_DESIGN</td>\n",
              "      <td>4.1</td>\n",
              "      <td>159</td>\n",
              "      <td>19M</td>\n",
              "      <td>10,000+</td>\n",
              "      <td>Free</td>\n",
              "      <td>0</td>\n",
              "      <td>Everyone</td>\n",
              "      <td>Art &amp; Design</td>\n",
              "      <td>January 7, 2018</td>\n",
              "      <td>1.0.0</td>\n",
              "      <td>4.0.3 and up</td>\n",
              "    </tr>\n",
              "    <tr>\n",
              "      <th>1</th>\n",
              "      <td>Coloring book moana</td>\n",
              "      <td>ART_AND_DESIGN</td>\n",
              "      <td>3.9</td>\n",
              "      <td>967</td>\n",
              "      <td>14M</td>\n",
              "      <td>500,000+</td>\n",
              "      <td>Free</td>\n",
              "      <td>0</td>\n",
              "      <td>Everyone</td>\n",
              "      <td>Art &amp; Design;Pretend Play</td>\n",
              "      <td>January 15, 2018</td>\n",
              "      <td>2.0.0</td>\n",
              "      <td>4.0.3 and up</td>\n",
              "    </tr>\n",
              "    <tr>\n",
              "      <th>2</th>\n",
              "      <td>U Launcher Lite – FREE Live Cool Themes, Hide ...</td>\n",
              "      <td>ART_AND_DESIGN</td>\n",
              "      <td>4.7</td>\n",
              "      <td>87510</td>\n",
              "      <td>8.7M</td>\n",
              "      <td>5,000,000+</td>\n",
              "      <td>Free</td>\n",
              "      <td>0</td>\n",
              "      <td>Everyone</td>\n",
              "      <td>Art &amp; Design</td>\n",
              "      <td>August 1, 2018</td>\n",
              "      <td>1.2.4</td>\n",
              "      <td>4.0.3 and up</td>\n",
              "    </tr>\n",
              "    <tr>\n",
              "      <th>3</th>\n",
              "      <td>Sketch - Draw &amp; Paint</td>\n",
              "      <td>ART_AND_DESIGN</td>\n",
              "      <td>4.5</td>\n",
              "      <td>215644</td>\n",
              "      <td>25M</td>\n",
              "      <td>50,000,000+</td>\n",
              "      <td>Free</td>\n",
              "      <td>0</td>\n",
              "      <td>Teen</td>\n",
              "      <td>Art &amp; Design</td>\n",
              "      <td>June 8, 2018</td>\n",
              "      <td>Varies with device</td>\n",
              "      <td>4.2 and up</td>\n",
              "    </tr>\n",
              "    <tr>\n",
              "      <th>4</th>\n",
              "      <td>Pixel Draw - Number Art Coloring Book</td>\n",
              "      <td>ART_AND_DESIGN</td>\n",
              "      <td>4.3</td>\n",
              "      <td>967</td>\n",
              "      <td>2.8M</td>\n",
              "      <td>100,000+</td>\n",
              "      <td>Free</td>\n",
              "      <td>0</td>\n",
              "      <td>Everyone</td>\n",
              "      <td>Art &amp; Design;Creativity</td>\n",
              "      <td>June 20, 2018</td>\n",
              "      <td>1.1</td>\n",
              "      <td>4.4 and up</td>\n",
              "    </tr>\n",
              "  </tbody>\n",
              "</table>\n",
              "</div>"
            ],
            "text/plain": [
              "                                                 App  ...   Android_Ver\n",
              "0     Photo Editor & Candy Camera & Grid & ScrapBook  ...  4.0.3 and up\n",
              "1                                Coloring book moana  ...  4.0.3 and up\n",
              "2  U Launcher Lite – FREE Live Cool Themes, Hide ...  ...  4.0.3 and up\n",
              "3                              Sketch - Draw & Paint  ...    4.2 and up\n",
              "4              Pixel Draw - Number Art Coloring Book  ...    4.4 and up\n",
              "\n",
              "[5 rows x 13 columns]"
            ]
          },
          "metadata": {},
          "execution_count": 28
        }
      ]
    },
    {
      "cell_type": "code",
      "metadata": {
        "colab": {
          "base_uri": "https://localhost:8080/"
        },
        "id": "GxUwToWl8Z8o",
        "outputId": "50b94b5e-7af0-474e-8aab-eed59a44092e"
      },
      "source": [
        "play_store_df.Rating.isnull().sum()"
      ],
      "execution_count": 29,
      "outputs": [
        {
          "output_type": "execute_result",
          "data": {
            "text/plain": [
              "1465"
            ]
          },
          "metadata": {},
          "execution_count": 29
        }
      ]
    },
    {
      "cell_type": "markdown",
      "metadata": {
        "id": "o4Fy4GHh8j64"
      },
      "source": [
        "Still we are having 1465 number of null values in our Rating column."
      ]
    },
    {
      "cell_type": "code",
      "metadata": {
        "colab": {
          "base_uri": "https://localhost:8080/"
        },
        "id": "9OkIBKDD8i1f",
        "outputId": "cc4c0064-d282-44c0-ae0c-8785bb47975c"
      },
      "source": [
        "versions_of_app=play_store_df[play_store_df.App.duplicated(keep=False)].groupby(by=[\"App\"],as_index=False).apply(lambda x: x[:])\n",
        "versions_of_app"
      ],
      "execution_count": 30,
      "outputs": [
        {
          "output_type": "execute_result",
          "data": {
            "text/html": [
              "<div>\n",
              "<style scoped>\n",
              "    .dataframe tbody tr th:only-of-type {\n",
              "        vertical-align: middle;\n",
              "    }\n",
              "\n",
              "    .dataframe tbody tr th {\n",
              "        vertical-align: top;\n",
              "    }\n",
              "\n",
              "    .dataframe thead th {\n",
              "        text-align: right;\n",
              "    }\n",
              "</style>\n",
              "<table border=\"1\" class=\"dataframe\">\n",
              "  <thead>\n",
              "    <tr style=\"text-align: right;\">\n",
              "      <th></th>\n",
              "      <th></th>\n",
              "      <th>App</th>\n",
              "      <th>Category</th>\n",
              "      <th>Rating</th>\n",
              "      <th>Reviews</th>\n",
              "      <th>Size</th>\n",
              "      <th>Installs</th>\n",
              "      <th>Type</th>\n",
              "      <th>Price</th>\n",
              "      <th>Content_Rating</th>\n",
              "      <th>Genres</th>\n",
              "      <th>Last_Updated</th>\n",
              "      <th>Current_Ver</th>\n",
              "      <th>Android_Ver</th>\n",
              "    </tr>\n",
              "  </thead>\n",
              "  <tbody>\n",
              "    <tr>\n",
              "      <th rowspan=\"2\" valign=\"top\">0</th>\n",
              "      <th>2697</th>\n",
              "      <td>365Scores - Live Scores</td>\n",
              "      <td>SPORTS</td>\n",
              "      <td>4.6</td>\n",
              "      <td>666521</td>\n",
              "      <td>25M</td>\n",
              "      <td>10,000,000+</td>\n",
              "      <td>Free</td>\n",
              "      <td>0</td>\n",
              "      <td>Everyone</td>\n",
              "      <td>Sports</td>\n",
              "      <td>July 29, 2018</td>\n",
              "      <td>5.5.9</td>\n",
              "      <td>4.1 and up</td>\n",
              "    </tr>\n",
              "    <tr>\n",
              "      <th>4959</th>\n",
              "      <td>365Scores - Live Scores</td>\n",
              "      <td>SPORTS</td>\n",
              "      <td>4.6</td>\n",
              "      <td>666246</td>\n",
              "      <td>25M</td>\n",
              "      <td>10,000,000+</td>\n",
              "      <td>Free</td>\n",
              "      <td>0</td>\n",
              "      <td>Everyone</td>\n",
              "      <td>Sports</td>\n",
              "      <td>July 29, 2018</td>\n",
              "      <td>5.5.9</td>\n",
              "      <td>4.1 and up</td>\n",
              "    </tr>\n",
              "    <tr>\n",
              "      <th rowspan=\"3\" valign=\"top\">1</th>\n",
              "      <th>1468</th>\n",
              "      <td>8 Ball Pool</td>\n",
              "      <td>GAME</td>\n",
              "      <td>4.5</td>\n",
              "      <td>14198297</td>\n",
              "      <td>52M</td>\n",
              "      <td>100,000,000+</td>\n",
              "      <td>Free</td>\n",
              "      <td>0</td>\n",
              "      <td>Everyone</td>\n",
              "      <td>Sports</td>\n",
              "      <td>July 31, 2018</td>\n",
              "      <td>4.0.0</td>\n",
              "      <td>4.0.3 and up</td>\n",
              "    </tr>\n",
              "    <tr>\n",
              "      <th>1496</th>\n",
              "      <td>8 Ball Pool</td>\n",
              "      <td>GAME</td>\n",
              "      <td>4.5</td>\n",
              "      <td>14198602</td>\n",
              "      <td>52M</td>\n",
              "      <td>100,000,000+</td>\n",
              "      <td>Free</td>\n",
              "      <td>0</td>\n",
              "      <td>Everyone</td>\n",
              "      <td>Sports</td>\n",
              "      <td>July 31, 2018</td>\n",
              "      <td>4.0.0</td>\n",
              "      <td>4.0.3 and up</td>\n",
              "    </tr>\n",
              "    <tr>\n",
              "      <th>1544</th>\n",
              "      <td>8 Ball Pool</td>\n",
              "      <td>GAME</td>\n",
              "      <td>4.5</td>\n",
              "      <td>14200344</td>\n",
              "      <td>52M</td>\n",
              "      <td>100,000,000+</td>\n",
              "      <td>Free</td>\n",
              "      <td>0</td>\n",
              "      <td>Everyone</td>\n",
              "      <td>Sports</td>\n",
              "      <td>July 31, 2018</td>\n",
              "      <td>4.0.0</td>\n",
              "      <td>4.0.3 and up</td>\n",
              "    </tr>\n",
              "    <tr>\n",
              "      <th>...</th>\n",
              "      <th>...</th>\n",
              "      <td>...</td>\n",
              "      <td>...</td>\n",
              "      <td>...</td>\n",
              "      <td>...</td>\n",
              "      <td>...</td>\n",
              "      <td>...</td>\n",
              "      <td>...</td>\n",
              "      <td>...</td>\n",
              "      <td>...</td>\n",
              "      <td>...</td>\n",
              "      <td>...</td>\n",
              "      <td>...</td>\n",
              "      <td>...</td>\n",
              "    </tr>\n",
              "    <tr>\n",
              "      <th>520</th>\n",
              "      <th>2331</th>\n",
              "      <td>textPlus: Free Text &amp; Calls</td>\n",
              "      <td>SOCIAL</td>\n",
              "      <td>4.1</td>\n",
              "      <td>382121</td>\n",
              "      <td>28M</td>\n",
              "      <td>10,000,000+</td>\n",
              "      <td>Free</td>\n",
              "      <td>0</td>\n",
              "      <td>Everyone</td>\n",
              "      <td>Social</td>\n",
              "      <td>July 26, 2018</td>\n",
              "      <td>7.3.1</td>\n",
              "      <td>4.1 and up</td>\n",
              "    </tr>\n",
              "    <tr>\n",
              "      <th rowspan=\"2\" valign=\"top\">521</th>\n",
              "      <th>2602</th>\n",
              "      <td>theScore: Live Sports Scores, News, Stats &amp; Vi...</td>\n",
              "      <td>SPORTS</td>\n",
              "      <td>4.4</td>\n",
              "      <td>133825</td>\n",
              "      <td>34M</td>\n",
              "      <td>10,000,000+</td>\n",
              "      <td>Free</td>\n",
              "      <td>0</td>\n",
              "      <td>Everyone 10+</td>\n",
              "      <td>Sports</td>\n",
              "      <td>July 25, 2018</td>\n",
              "      <td>6.17.2</td>\n",
              "      <td>4.4 and up</td>\n",
              "    </tr>\n",
              "    <tr>\n",
              "      <th>2680</th>\n",
              "      <td>theScore: Live Sports Scores, News, Stats &amp; Vi...</td>\n",
              "      <td>SPORTS</td>\n",
              "      <td>4.4</td>\n",
              "      <td>133833</td>\n",
              "      <td>34M</td>\n",
              "      <td>10,000,000+</td>\n",
              "      <td>Free</td>\n",
              "      <td>0</td>\n",
              "      <td>Everyone 10+</td>\n",
              "      <td>Sports</td>\n",
              "      <td>July 25, 2018</td>\n",
              "      <td>6.17.2</td>\n",
              "      <td>4.4 and up</td>\n",
              "    </tr>\n",
              "    <tr>\n",
              "      <th rowspan=\"2\" valign=\"top\">522</th>\n",
              "      <th>3226</th>\n",
              "      <td>wetter.com - Weather and Radar</td>\n",
              "      <td>WEATHER</td>\n",
              "      <td>4.2</td>\n",
              "      <td>189313</td>\n",
              "      <td>38M</td>\n",
              "      <td>10,000,000+</td>\n",
              "      <td>Free</td>\n",
              "      <td>0</td>\n",
              "      <td>Everyone</td>\n",
              "      <td>Weather</td>\n",
              "      <td>August 6, 2018</td>\n",
              "      <td>Varies with device</td>\n",
              "      <td>Varies with device</td>\n",
              "    </tr>\n",
              "    <tr>\n",
              "      <th>7820</th>\n",
              "      <td>wetter.com - Weather and Radar</td>\n",
              "      <td>WEATHER</td>\n",
              "      <td>4.2</td>\n",
              "      <td>189310</td>\n",
              "      <td>38M</td>\n",
              "      <td>10,000,000+</td>\n",
              "      <td>Free</td>\n",
              "      <td>0</td>\n",
              "      <td>Everyone</td>\n",
              "      <td>Weather</td>\n",
              "      <td>August 6, 2018</td>\n",
              "      <td>Varies with device</td>\n",
              "      <td>Varies with device</td>\n",
              "    </tr>\n",
              "  </tbody>\n",
              "</table>\n",
              "<p>1221 rows × 13 columns</p>\n",
              "</div>"
            ],
            "text/plain": [
              "                                                        App  ...         Android_Ver\n",
              "0   2697                            365Scores - Live Scores  ...          4.1 and up\n",
              "    4959                            365Scores - Live Scores  ...          4.1 and up\n",
              "1   1468                                        8 Ball Pool  ...        4.0.3 and up\n",
              "    1496                                        8 Ball Pool  ...        4.0.3 and up\n",
              "    1544                                        8 Ball Pool  ...        4.0.3 and up\n",
              "...                                                     ...  ...                 ...\n",
              "520 2331                        textPlus: Free Text & Calls  ...          4.1 and up\n",
              "521 2602  theScore: Live Sports Scores, News, Stats & Vi...  ...          4.4 and up\n",
              "    2680  theScore: Live Sports Scores, News, Stats & Vi...  ...          4.4 and up\n",
              "522 3226                     wetter.com - Weather and Radar  ...  Varies with device\n",
              "    7820                     wetter.com - Weather and Radar  ...  Varies with device\n",
              "\n",
              "[1221 rows x 13 columns]"
            ]
          },
          "metadata": {},
          "execution_count": 30
        }
      ]
    },
    {
      "cell_type": "code",
      "metadata": {
        "colab": {
          "base_uri": "https://localhost:8080/"
        },
        "id": "xsIOFh0Y9JUR",
        "outputId": "52b50b25-9b50-4e8d-ef5b-d10a921d07b5"
      },
      "source": [
        "versions_of_app[versions_of_app[\"Rating\"].isnull()]"
      ],
      "execution_count": 31,
      "outputs": [
        {
          "output_type": "execute_result",
          "data": {
            "text/html": [
              "<div>\n",
              "<style scoped>\n",
              "    .dataframe tbody tr th:only-of-type {\n",
              "        vertical-align: middle;\n",
              "    }\n",
              "\n",
              "    .dataframe tbody tr th {\n",
              "        vertical-align: top;\n",
              "    }\n",
              "\n",
              "    .dataframe thead th {\n",
              "        text-align: right;\n",
              "    }\n",
              "</style>\n",
              "<table border=\"1\" class=\"dataframe\">\n",
              "  <thead>\n",
              "    <tr style=\"text-align: right;\">\n",
              "      <th></th>\n",
              "      <th></th>\n",
              "      <th>App</th>\n",
              "      <th>Category</th>\n",
              "      <th>Rating</th>\n",
              "      <th>Reviews</th>\n",
              "      <th>Size</th>\n",
              "      <th>Installs</th>\n",
              "      <th>Type</th>\n",
              "      <th>Price</th>\n",
              "      <th>Content_Rating</th>\n",
              "      <th>Genres</th>\n",
              "      <th>Last_Updated</th>\n",
              "      <th>Current_Ver</th>\n",
              "      <th>Android_Ver</th>\n",
              "    </tr>\n",
              "  </thead>\n",
              "  <tbody>\n",
              "    <tr>\n",
              "      <th>48</th>\n",
              "      <th>2222</th>\n",
              "      <td>Blood Pressure</td>\n",
              "      <td>MEDICAL</td>\n",
              "      <td>NaN</td>\n",
              "      <td>10</td>\n",
              "      <td>2.4M</td>\n",
              "      <td>1,000+</td>\n",
              "      <td>Free</td>\n",
              "      <td>0</td>\n",
              "      <td>Everyone</td>\n",
              "      <td>Medical</td>\n",
              "      <td>March 14, 2015</td>\n",
              "      <td>1.0</td>\n",
              "      <td>2.3 and up</td>\n",
              "    </tr>\n",
              "    <tr>\n",
              "      <th rowspan=\"2\" valign=\"top\">282</th>\n",
              "      <th>23</th>\n",
              "      <td>Mcqueen Coloring pages</td>\n",
              "      <td>ART_AND_DESIGN</td>\n",
              "      <td>NaN</td>\n",
              "      <td>61</td>\n",
              "      <td>7.0M</td>\n",
              "      <td>100,000+</td>\n",
              "      <td>Free</td>\n",
              "      <td>0</td>\n",
              "      <td>Everyone</td>\n",
              "      <td>Art &amp; Design;Action &amp; Adventure</td>\n",
              "      <td>March 7, 2018</td>\n",
              "      <td>1.0.0</td>\n",
              "      <td>4.1 and up</td>\n",
              "    </tr>\n",
              "    <tr>\n",
              "      <th>1878</th>\n",
              "      <td>Mcqueen Coloring pages</td>\n",
              "      <td>FAMILY</td>\n",
              "      <td>NaN</td>\n",
              "      <td>65</td>\n",
              "      <td>7.0M</td>\n",
              "      <td>100,000+</td>\n",
              "      <td>Free</td>\n",
              "      <td>0</td>\n",
              "      <td>Everyone</td>\n",
              "      <td>Art &amp; Design;Action &amp; Adventure</td>\n",
              "      <td>March 7, 2018</td>\n",
              "      <td>1.0.0</td>\n",
              "      <td>4.1 and up</td>\n",
              "    </tr>\n",
              "  </tbody>\n",
              "</table>\n",
              "</div>"
            ],
            "text/plain": [
              "                             App        Category  ...  Current_Ver Android_Ver\n",
              "48  2222          Blood Pressure         MEDICAL  ...          1.0  2.3 and up\n",
              "282 23    Mcqueen Coloring pages  ART_AND_DESIGN  ...        1.0.0  4.1 and up\n",
              "    1878  Mcqueen Coloring pages          FAMILY  ...        1.0.0  4.1 and up\n",
              "\n",
              "[3 rows x 13 columns]"
            ]
          },
          "metadata": {},
          "execution_count": 31
        }
      ]
    },
    {
      "cell_type": "markdown",
      "metadata": {
        "id": "z8DuNNbS9PGn"
      },
      "source": [
        "Checking for the different versions and filling the rating of Applications with there mean."
      ]
    },
    {
      "cell_type": "code",
      "metadata": {
        "colab": {
          "base_uri": "https://localhost:8080/"
        },
        "id": "lh_2NLNd9NSg",
        "outputId": "3b38d420-40ed-41d9-c421-2c5028332e05"
      },
      "source": [
        "play_store_df[play_store_df[\"App\"]=='Blood Pressure']"
      ],
      "execution_count": 32,
      "outputs": [
        {
          "output_type": "execute_result",
          "data": {
            "text/html": [
              "<div>\n",
              "<style scoped>\n",
              "    .dataframe tbody tr th:only-of-type {\n",
              "        vertical-align: middle;\n",
              "    }\n",
              "\n",
              "    .dataframe tbody tr th {\n",
              "        vertical-align: top;\n",
              "    }\n",
              "\n",
              "    .dataframe thead th {\n",
              "        text-align: right;\n",
              "    }\n",
              "</style>\n",
              "<table border=\"1\" class=\"dataframe\">\n",
              "  <thead>\n",
              "    <tr style=\"text-align: right;\">\n",
              "      <th></th>\n",
              "      <th>App</th>\n",
              "      <th>Category</th>\n",
              "      <th>Rating</th>\n",
              "      <th>Reviews</th>\n",
              "      <th>Size</th>\n",
              "      <th>Installs</th>\n",
              "      <th>Type</th>\n",
              "      <th>Price</th>\n",
              "      <th>Content_Rating</th>\n",
              "      <th>Genres</th>\n",
              "      <th>Last_Updated</th>\n",
              "      <th>Current_Ver</th>\n",
              "      <th>Android_Ver</th>\n",
              "    </tr>\n",
              "  </thead>\n",
              "  <tbody>\n",
              "    <tr>\n",
              "      <th>2052</th>\n",
              "      <td>Blood Pressure</td>\n",
              "      <td>MEDICAL</td>\n",
              "      <td>4.2</td>\n",
              "      <td>33033</td>\n",
              "      <td>7.4M</td>\n",
              "      <td>5,000,000+</td>\n",
              "      <td>Free</td>\n",
              "      <td>0</td>\n",
              "      <td>Everyone</td>\n",
              "      <td>Medical</td>\n",
              "      <td>July 24, 2018</td>\n",
              "      <td>3.27.3</td>\n",
              "      <td>4.1 and up</td>\n",
              "    </tr>\n",
              "    <tr>\n",
              "      <th>2222</th>\n",
              "      <td>Blood Pressure</td>\n",
              "      <td>MEDICAL</td>\n",
              "      <td>NaN</td>\n",
              "      <td>10</td>\n",
              "      <td>2.4M</td>\n",
              "      <td>1,000+</td>\n",
              "      <td>Free</td>\n",
              "      <td>0</td>\n",
              "      <td>Everyone</td>\n",
              "      <td>Medical</td>\n",
              "      <td>March 14, 2015</td>\n",
              "      <td>1.0</td>\n",
              "      <td>2.3 and up</td>\n",
              "    </tr>\n",
              "  </tbody>\n",
              "</table>\n",
              "</div>"
            ],
            "text/plain": [
              "                 App Category  Rating  ...    Last_Updated Current_Ver Android_Ver\n",
              "2052  Blood Pressure  MEDICAL     4.2  ...   July 24, 2018      3.27.3  4.1 and up\n",
              "2222  Blood Pressure  MEDICAL     NaN  ...  March 14, 2015         1.0  2.3 and up\n",
              "\n",
              "[2 rows x 13 columns]"
            ]
          },
          "metadata": {},
          "execution_count": 32
        }
      ]
    },
    {
      "cell_type": "markdown",
      "metadata": {
        "id": "fQWHyznH9zCl"
      },
      "source": [
        "Only 2 versions available so we can fill with the mean of category to which this app belongs."
      ]
    },
    {
      "cell_type": "code",
      "metadata": {
        "colab": {
          "base_uri": "https://localhost:8080/"
        },
        "id": "VD4H0IQG9we_",
        "outputId": "8990770b-fc7f-43a5-eaec-807489e62139"
      },
      "source": [
        "play_store_df[play_store_df[\"App\"]=='Mcqueen Coloring pages']"
      ],
      "execution_count": 33,
      "outputs": [
        {
          "output_type": "execute_result",
          "data": {
            "text/html": [
              "<div>\n",
              "<style scoped>\n",
              "    .dataframe tbody tr th:only-of-type {\n",
              "        vertical-align: middle;\n",
              "    }\n",
              "\n",
              "    .dataframe tbody tr th {\n",
              "        vertical-align: top;\n",
              "    }\n",
              "\n",
              "    .dataframe thead th {\n",
              "        text-align: right;\n",
              "    }\n",
              "</style>\n",
              "<table border=\"1\" class=\"dataframe\">\n",
              "  <thead>\n",
              "    <tr style=\"text-align: right;\">\n",
              "      <th></th>\n",
              "      <th>App</th>\n",
              "      <th>Category</th>\n",
              "      <th>Rating</th>\n",
              "      <th>Reviews</th>\n",
              "      <th>Size</th>\n",
              "      <th>Installs</th>\n",
              "      <th>Type</th>\n",
              "      <th>Price</th>\n",
              "      <th>Content_Rating</th>\n",
              "      <th>Genres</th>\n",
              "      <th>Last_Updated</th>\n",
              "      <th>Current_Ver</th>\n",
              "      <th>Android_Ver</th>\n",
              "    </tr>\n",
              "  </thead>\n",
              "  <tbody>\n",
              "    <tr>\n",
              "      <th>23</th>\n",
              "      <td>Mcqueen Coloring pages</td>\n",
              "      <td>ART_AND_DESIGN</td>\n",
              "      <td>NaN</td>\n",
              "      <td>61</td>\n",
              "      <td>7.0M</td>\n",
              "      <td>100,000+</td>\n",
              "      <td>Free</td>\n",
              "      <td>0</td>\n",
              "      <td>Everyone</td>\n",
              "      <td>Art &amp; Design;Action &amp; Adventure</td>\n",
              "      <td>March 7, 2018</td>\n",
              "      <td>1.0.0</td>\n",
              "      <td>4.1 and up</td>\n",
              "    </tr>\n",
              "    <tr>\n",
              "      <th>1878</th>\n",
              "      <td>Mcqueen Coloring pages</td>\n",
              "      <td>FAMILY</td>\n",
              "      <td>NaN</td>\n",
              "      <td>65</td>\n",
              "      <td>7.0M</td>\n",
              "      <td>100,000+</td>\n",
              "      <td>Free</td>\n",
              "      <td>0</td>\n",
              "      <td>Everyone</td>\n",
              "      <td>Art &amp; Design;Action &amp; Adventure</td>\n",
              "      <td>March 7, 2018</td>\n",
              "      <td>1.0.0</td>\n",
              "      <td>4.1 and up</td>\n",
              "    </tr>\n",
              "  </tbody>\n",
              "</table>\n",
              "</div>"
            ],
            "text/plain": [
              "                         App        Category  ...  Current_Ver Android_Ver\n",
              "23    Mcqueen Coloring pages  ART_AND_DESIGN  ...        1.0.0  4.1 and up\n",
              "1878  Mcqueen Coloring pages          FAMILY  ...        1.0.0  4.1 and up\n",
              "\n",
              "[2 rows x 13 columns]"
            ]
          },
          "metadata": {},
          "execution_count": 33
        }
      ]
    },
    {
      "cell_type": "markdown",
      "metadata": {
        "id": "zhYCRS4Z-KrB"
      },
      "source": [
        "Here also only 2 applications are there and they are also present in the different category so we will put catgory wise mean in both.\n",
        "\n",
        "In rest of the records with null-values in rating column we will fill category wise mean because we don't have different versions of those applications."
      ]
    },
    {
      "cell_type": "code",
      "metadata": {
        "id": "tjn5P5Ls_MOx"
      },
      "source": [
        "play_store_df['Rating'].fillna(play_store_df.groupby('Category')['Rating'].transform('mean'), inplace=True)"
      ],
      "execution_count": 34,
      "outputs": []
    },
    {
      "cell_type": "code",
      "metadata": {
        "id": "ddVsWCyp_goo"
      },
      "source": [
        "# Checking the Reivew column\n",
        "play_store_df['Reviews']=play_store_df['Reviews'].astype('int')"
      ],
      "execution_count": 35,
      "outputs": []
    },
    {
      "cell_type": "code",
      "metadata": {
        "colab": {
          "base_uri": "https://localhost:8080/"
        },
        "id": "Cx-8ljyhAaZV",
        "outputId": "a241c9a6-447d-4811-811b-79a7c11f0c5f"
      },
      "source": [
        "play_store_df['Size'].unique()[30:70]"
      ],
      "execution_count": 36,
      "outputs": [
        {
          "output_type": "execute_result",
          "data": {
            "text/plain": [
              "array(['9.4M', '15M', '10M', '1.2M', '26M', '8.0M', '7.9M', '56M', '57M',\n",
              "       '35M', '54M', '201k', '3.6M', '5.7M', '8.6M', '2.4M', '27M',\n",
              "       '2.5M', '16M', '3.4M', '8.9M', '3.9M', '2.9M', '38M', '32M',\n",
              "       '5.4M', '18M', '1.1M', '2.2M', '4.5M', '9.8M', '52M', '9.0M',\n",
              "       '6.7M', '30M', '2.6M', '7.1M', '3.7M', '22M', '7.4M'], dtype=object)"
            ]
          },
          "metadata": {},
          "execution_count": 36
        }
      ]
    },
    {
      "cell_type": "markdown",
      "metadata": {
        "id": "xPXvt6qvA0n3"
      },
      "source": [
        "As we can see we have size of the app in Mb's and Kb's we have to convert these into same unit and also remove the unwanted symbols."
      ]
    },
    {
      "cell_type": "code",
      "metadata": {
        "id": "XiUsyVge_hCp"
      },
      "source": [
        "play_store_df['Size'] = play_store_df['Size'].apply(lambda x: str(x).replace('Varies with device', 'NaN') if 'Varies with device' in str(x) else x)\n",
        "play_store_df['Size'] = play_store_df['Size'].apply(lambda x: str(x).replace('M', '') if 'M' in str(x) else x)\n",
        "play_store_df['Size'] = play_store_df['Size'].apply(lambda x: str(x).replace(',', '') if ',' in str(x) else x)\n",
        "play_store_df['Size'] = play_store_df['Size'].apply(lambda x: float(str(x).replace('k', '')) / 1024 if 'k' in str(x) else x)\n",
        "play_store_df['Size'] = play_store_df['Size'].apply(lambda x: str(x).replace('+','') if '+' in str(x) else x)"
      ],
      "execution_count": 37,
      "outputs": []
    },
    {
      "cell_type": "code",
      "metadata": {
        "colab": {
          "base_uri": "https://localhost:8080/"
        },
        "id": "BF0KpYztBWaG",
        "outputId": "4b910161-db91-4f7b-d5ec-577335c2c512"
      },
      "source": [
        "play_store_df['Size'].dtype"
      ],
      "execution_count": 38,
      "outputs": [
        {
          "output_type": "execute_result",
          "data": {
            "text/plain": [
              "dtype('O')"
            ]
          },
          "metadata": {},
          "execution_count": 38
        }
      ]
    },
    {
      "cell_type": "code",
      "metadata": {
        "id": "Z0y9NC9GBYRd"
      },
      "source": [
        "# Type Casting the Size feature in float64 \n",
        "play_store_df.Size=play_store_df.Size.astype('float64')"
      ],
      "execution_count": null,
      "outputs": []
    },
    {
      "cell_type": "code",
      "metadata": {
        "id": "lottzjCUBpU9"
      },
      "source": [
        "# Checking the data type\n",
        "play_store_df['Size'].dtype"
      ],
      "execution_count": null,
      "outputs": []
    },
    {
      "cell_type": "code",
      "metadata": {
        "id": "qm9u2XQwCS1X"
      },
      "source": [
        "play_store_df['Size'].isnull().sum()"
      ],
      "execution_count": null,
      "outputs": []
    },
    {
      "cell_type": "markdown",
      "metadata": {
        "id": "uJrel8kFCXd9"
      },
      "source": [
        "We have 1526 null values filling them with category wise mean of the Size."
      ]
    },
    {
      "cell_type": "code",
      "metadata": {
        "id": "JashY2YkBq89"
      },
      "source": [
        "play_store_df['Size'].fillna(play_store_df.groupby('Category')['Size'].transform('mean'), inplace=True)"
      ],
      "execution_count": null,
      "outputs": []
    },
    {
      "cell_type": "code",
      "metadata": {
        "id": "P8r5bQKiClD-"
      },
      "source": [
        "# Checking for the Installs feature\n",
        "play_store_df.Installs.unique(),len(play_store_df.Installs.unique())"
      ],
      "execution_count": null,
      "outputs": []
    },
    {
      "cell_type": "markdown",
      "metadata": {
        "id": "X7CLnd2qCxKI"
      },
      "source": [
        "We can use the Installs columns category wise too and numerical wise too in our EDA section so we will not change it over here."
      ]
    },
    {
      "cell_type": "code",
      "metadata": {
        "id": "dzSwi-saDeiV"
      },
      "source": [
        "play_store_df.Type.unique()"
      ],
      "execution_count": null,
      "outputs": []
    },
    {
      "cell_type": "code",
      "metadata": {
        "id": "qPwQgDmvDKZs"
      },
      "source": [
        "# Type feature null values\n",
        "play_store_df[play_store_df.Type.isnull()]"
      ],
      "execution_count": null,
      "outputs": []
    },
    {
      "cell_type": "markdown",
      "metadata": {
        "id": "KceqcfclDlTi"
      },
      "source": [
        "We have only single value so we will fill the Type in this record manually."
      ]
    },
    {
      "cell_type": "code",
      "metadata": {
        "id": "prWPEMplECNI"
      },
      "source": [
        "play_store_df['Price'].unique()[5:15]"
      ],
      "execution_count": null,
      "outputs": []
    },
    {
      "cell_type": "markdown",
      "metadata": {
        "id": "hV2-7WpPESD8"
      },
      "source": [
        "Here we can see $ sign but to make Price column categorical we have to remove it and type cast it to float64."
      ]
    },
    {
      "cell_type": "code",
      "metadata": {
        "id": "24daJlp4DVK0"
      },
      "source": [
        "play_store_df['Price'] = play_store_df['Price'].apply(lambda x: float(str(x).replace('$', '')) if '$' in str(x) else float(x))"
      ],
      "execution_count": null,
      "outputs": []
    },
    {
      "cell_type": "code",
      "metadata": {
        "id": "JMw_uGwyE5wI"
      },
      "source": [
        "# Checking for the rows where Price is 0 and Type is Paid.\n",
        "play_store_df[(play_store_df[\"Price\"]==0) & (play_store_df[\"Type\"]==\"Paid\")]"
      ],
      "execution_count": null,
      "outputs": []
    },
    {
      "cell_type": "markdown",
      "metadata": {
        "id": "-wNOZ7esFNcj"
      },
      "source": [
        "As we do not have any rows we will fill the single Type record with Nan value manually."
      ]
    },
    {
      "cell_type": "code",
      "metadata": {
        "id": "8fKPXq6MFLKk"
      },
      "source": [
        "play_store_df[\"Type\"].fillna('Free',inplace=True)"
      ],
      "execution_count": null,
      "outputs": []
    },
    {
      "cell_type": "code",
      "metadata": {
        "id": "gg0JwfbNFmfq"
      },
      "source": [
        "# Type casting the Last_updated column into Date Time Format  \n",
        "from datetime import datetime\n",
        "play_store_df[\"Last_Updated\"]=play_store_df[\"Last_Updated\"].apply(lambda x: datetime.strptime(x, \"%B %d, %Y\"))"
      ],
      "execution_count": null,
      "outputs": []
    },
    {
      "cell_type": "code",
      "metadata": {
        "id": "2lyh2yxkFm5m"
      },
      "source": [
        "print(list(play_store_df.Current_Ver.unique())[10:40])"
      ],
      "execution_count": null,
      "outputs": []
    },
    {
      "cell_type": "markdown",
      "metadata": {
        "id": "TzyGjRUfF_9F"
      },
      "source": [
        "List of Current_ver unique values we can't fill the nan values in this column because Apps are having different values in versions too not in particular sequential increasing order."
      ]
    },
    {
      "cell_type": "code",
      "metadata": {
        "id": "6sE5Q7qGF9Jd"
      },
      "source": [
        "current_version_nan=list(play_store_df[play_store_df[\"Current_Ver\"].isnull()][\"App\"])\n",
        "for i in range(len(current_version_nan)):\n",
        "  print(play_store_df[play_store_df['App']==current_version_nan[i]])"
      ],
      "execution_count": null,
      "outputs": []
    },
    {
      "cell_type": "markdown",
      "metadata": {
        "id": "MSrbDUV4HrTL"
      },
      "source": [
        "Only 8 values are there so we will remove as this data is less than .001% of data."
      ]
    },
    {
      "cell_type": "code",
      "metadata": {
        "id": "7XsagptaIIf7"
      },
      "source": [
        "# Checking null values in Android Version\n",
        "play_store_df[play_store_df.Android_Ver.isnull()]"
      ],
      "execution_count": null,
      "outputs": []
    },
    {
      "cell_type": "markdown",
      "metadata": {
        "id": "uKACsmevJHrT"
      },
      "source": [
        "Only 2 null values."
      ]
    },
    {
      "cell_type": "code",
      "metadata": {
        "id": "BO_O31y6IZlx"
      },
      "source": [
        "play_store_df[play_store_df.App==\"Pi Dark [substratum]\"]"
      ],
      "execution_count": null,
      "outputs": []
    },
    {
      "cell_type": "code",
      "metadata": {
        "id": "9KV37c1sJAbW"
      },
      "source": [
        "play_store_df[play_store_df.App==\"[substratum] Vacuum: P\"]"
      ],
      "execution_count": null,
      "outputs": []
    },
    {
      "cell_type": "markdown",
      "metadata": {
        "id": "Jz44fKCLJYoU"
      },
      "source": [
        "We don't have different versions of these application so we will fill them with most used android version in that particular Year manually."
      ]
    },
    {
      "cell_type": "code",
      "metadata": {
        "id": "qSTRIMW0JDN1"
      },
      "source": [
        "# Making a new column named Year\n",
        "play_store_df[\"Year\"]=play_store_df.Last_Updated.dt.year"
      ],
      "execution_count": null,
      "outputs": []
    },
    {
      "cell_type": "code",
      "metadata": {
        "id": "tY9fUSnIJ6La"
      },
      "source": [
        "play_store_df[play_store_df.Year==2018]['Android_Ver'].value_counts()"
      ],
      "execution_count": null,
      "outputs": []
    },
    {
      "cell_type": "markdown",
      "metadata": {
        "id": "OM-Gwg0XJ_HM"
      },
      "source": [
        "Android version 4.0 and above is mostly used in Year 2018 so we will fill null values with \"4.1 and up\"."
      ]
    },
    {
      "cell_type": "code",
      "metadata": {
        "id": "YuN-WpaJJ9Ci"
      },
      "source": [
        "play_store_df['Android_Ver'].fillna(\"4.1 and up\", inplace=True)"
      ],
      "execution_count": null,
      "outputs": []
    },
    {
      "cell_type": "code",
      "metadata": {
        "id": "QSa9vEmfKb4r"
      },
      "source": [
        "# Dropping all the records where null values are there \n",
        "play_store_df.dropna(inplace=True)"
      ],
      "execution_count": null,
      "outputs": []
    },
    {
      "cell_type": "code",
      "metadata": {
        "id": "jj4auXtQKieR"
      },
      "source": [
        "play_store_df.info()"
      ],
      "execution_count": null,
      "outputs": []
    },
    {
      "cell_type": "markdown",
      "metadata": {
        "id": "bfnRS8suKlKw"
      },
      "source": [
        "No null values are there in our Dataframe."
      ]
    },
    {
      "cell_type": "code",
      "metadata": {
        "id": "Ywg_BuEMKkni"
      },
      "source": [
        "play_store_df.describe(include=\"all\")"
      ],
      "execution_count": null,
      "outputs": []
    },
    {
      "cell_type": "markdown",
      "metadata": {
        "id": "PkfQWxJAURjk"
      },
      "source": [
        "### 1.3.2 Cleaning the user reviews dataframe"
      ]
    },
    {
      "cell_type": "code",
      "metadata": {
        "id": "2oTr73XlK2Qz"
      },
      "source": [
        "# Cleaning user reviews dataframe\n",
        "user_reviews_df.info()"
      ],
      "execution_count": null,
      "outputs": []
    },
    {
      "cell_type": "code",
      "metadata": {
        "id": "n1HNhXVmKwXk"
      },
      "source": [
        "user_reviews_df.isnull().sum()"
      ],
      "execution_count": null,
      "outputs": []
    },
    {
      "cell_type": "markdown",
      "metadata": {
        "id": "jihVla9rMHB7"
      },
      "source": [
        "We will check for the null values wether they have common index or not and removing those null values."
      ]
    },
    {
      "cell_type": "code",
      "metadata": {
        "id": "L23t364rK0Ti"
      },
      "source": [
        "sentiment_isnull_index=user_reviews_df[user_reviews_df.Sentiment.isnull()].index\n",
        "sentiment_polarity_isnull_index=user_reviews_df[user_reviews_df.Sentiment_Polarity.isnull()].index\n",
        "sentiment_subjectivity_isnull_index=user_reviews_df[user_reviews_df.Sentiment_Subjectivity.isnull()].index"
      ],
      "execution_count": null,
      "outputs": []
    },
    {
      "cell_type": "code",
      "metadata": {
        "id": "R8ZPcId3LkRY"
      },
      "source": [
        "if sentiment_isnull_index.all() == sentiment_polarity_isnull_index.all():\n",
        "  print(\"All indexs are common in sentiment_isnull_index and sentiment_polarity_isnull_index\")\n",
        "if sentiment_isnull_index.all() == sentiment_subjectivity_isnull_index.all():\n",
        "  print(\"All indexs are common in sentiment_isnull_index and sentiment_subjectivity_isnull_index\")"
      ],
      "execution_count": null,
      "outputs": []
    },
    {
      "cell_type": "code",
      "metadata": {
        "id": "vIErPA5VL6Lx"
      },
      "source": [
        "user_reviews_df.drop(sentiment_subjectivity_isnull_index, inplace=True)"
      ],
      "execution_count": null,
      "outputs": []
    },
    {
      "cell_type": "code",
      "metadata": {
        "id": "WzZw9rFlNEfy"
      },
      "source": [
        "user_reviews_df.describe(include=\"all\")"
      ],
      "execution_count": null,
      "outputs": []
    },
    {
      "cell_type": "markdown",
      "metadata": {
        "id": "ppy4mbOxMYTD"
      },
      "source": [
        "Dropped the common indexes.\n",
        "Now our both the data frames are cleaned handling of NaN/ Null/ Missing Values is completed."
      ]
    },
    {
      "cell_type": "markdown",
      "metadata": {
        "id": "J09UxF4pWYor"
      },
      "source": [
        "# 1.4 Extraction of features information\n",
        "Here all the features with the information they are providing present in our original dataframe is there."
      ]
    },
    {
      "cell_type": "markdown",
      "metadata": {
        "id": "BysgtIxUMfEb"
      },
      "source": [
        "### Play Store dataset contains following columns and their information:\n",
        "1. App: Application name\n",
        "2. Category: Category to which the app belongs (34 available)\n",
        "3. Rating: Rating of the app (0 - 5)\n",
        "4. Reviews: Number of reviews of the app available (Discrete)\n",
        "5. Size: Size of the app in MB (Discrete)\n",
        "6. Installs: Number of times the app has installed (Multi categorical)\n",
        "7. Type: Free or Paid\n",
        "8. Price: Price of the app\n",
        "9. Content Rating: Whether it is for adults, teenagers etc. based on age(6 available)\n",
        "10. Generes: Genere of the app\n",
        "11. Last Updated: Last Update date\n",
        "12. Current Ver: Current version of the application in playstore\n",
        "13. Android Ver: Android version of the application\n",
        "\n",
        "### User Reviews dataset contains following columns and their information:\n",
        "1. App: Application name (duplicates present depending upon number of reviews present).\n",
        "2. Translated_Review: Translated Reviews of that application.\n",
        "3. Sentiment: Sentiment of the Review whether positive, negative or neutral.\n",
        "4. Sentiment_Polarity: Polarity of the sentiment -ve vs +ve (-1 to +1).\n",
        "5. Sentiment_Subjectivity: Sentiment is near to application subject subjective vs objective(0 - 1)."
      ]
    },
    {
      "cell_type": "markdown",
      "metadata": {
        "id": "H1zS99xiWu-u"
      },
      "source": [
        "### Adding description about the sentiment analysis\n",
        "**A sentiment is defined by its semantic orientation and the intensity of each word in the sentence.** This requires a pre-defined dictionary classifying negative and positive words. Generally, a text message will be represented by bag of words. After assigning individual scores to all the words, final sentiment is calculated by some pooling operation like taking an average of all the sentiments.\n",
        "\n",
        "TextBlob returns polarity and subjectivity of a sentence. Polarity lies between [-1,1], -1 defines a negative sentiment and 1 defines a positive sentiment. Negation words reverse the polarity. TextBlob has semantic labels that help with fine-grained analysis. \n",
        "\n",
        "**Subjectivity quantifies the amount of personal opinion and factual information contained in the text. The higher subjectivity means that the text contains personal opinion rather than factual information.** TextBlob has one more parameter — intensity. TextBlob calculates subjectivity by looking at the ‘intensity’. Intensity determines if a word modifies the next word. For English, adverbs are used as modifiers (‘very good’).\n",
        "\n",
        "For example: We calculated polarity and subjectivity for “I do not like this example at all, it is too boring”. For this particular example, polarity = -1 and subjectivity is 1, which is fair.\n",
        "\n",
        "However, for the sentence “This was a helpful example but I would prefer another one”. It returns 0.0 for both subjectivity and polarity which is not the finest answer we’d expect."
      ]
    },
    {
      "cell_type": "code",
      "metadata": {
        "id": "KMTblcE9MDti"
      },
      "source": [
        "print(\"Play store dataframe shape:\",play_store_df.shape,\"\\nUser reviews dataframe shape:\",user_reviews_df.shape)"
      ],
      "execution_count": null,
      "outputs": []
    },
    {
      "cell_type": "markdown",
      "metadata": {
        "id": "kqsZ9WLKYsMO"
      },
      "source": [
        "# 1.5 Exploratory Data Analysis (EDA)\n",
        "\n",
        "Trying to get some conclusion from data, correlation, trends which make sense and accomplishing milestones given in the problem statement by using visualization.\n",
        "\n",
        "For each visualization we will create a new dataframe.\n"
      ]
    },
    {
      "cell_type": "code",
      "metadata": {
        "id": "la_K8ZWtNm7f"
      },
      "source": [
        "df1=play_store_df[[\"Year\",\"Category\"]].groupby([\"Year\",\"Category\"],as_index=False).size()"
      ],
      "execution_count": null,
      "outputs": []
    },
    {
      "cell_type": "code",
      "metadata": {
        "id": "UjKzu5FuZcik"
      },
      "source": [
        "fig = px.pie(df1, values='size', names='Category', hole = 0.4, title='Number of Apps present in dataframe according to Category')\n",
        "fig.add_annotation(text = '2010-2018', font = dict(size=20, color='black'), showarrow = False)\n",
        "fig.show()"
      ],
      "execution_count": null,
      "outputs": []
    },
    {
      "cell_type": "markdown",
      "metadata": {
        "id": "JsCKHOabgHHq"
      },
      "source": [
        "Here we are able to see percentage of apps in each category."
      ]
    },
    {
      "cell_type": "code",
      "metadata": {
        "id": "88pCr5a0fGrT"
      },
      "source": [
        "# Making a new column name Month\n",
        "play_store_df[\"Month\"]=play_store_df.Last_Updated.dt.month"
      ],
      "execution_count": null,
      "outputs": []
    },
    {
      "cell_type": "code",
      "metadata": {
        "id": "EExlz74Tfirb"
      },
      "source": [
        "play_store_df[['Month','Year']]"
      ],
      "execution_count": null,
      "outputs": []
    },
    {
      "cell_type": "code",
      "metadata": {
        "id": "ZWxeez5tfiZ7"
      },
      "source": [
        "# Converting numerical month to textual months\n",
        "import calendar\n",
        "play_store_df['Month'] = play_store_df['Month'].apply(lambda x: calendar.month_name[x])"
      ],
      "execution_count": null,
      "outputs": []
    },
    {
      "cell_type": "code",
      "metadata": {
        "id": "bpq85Z7XfpUL"
      },
      "source": [
        "play_store_df[['Month','Year']]"
      ],
      "execution_count": null,
      "outputs": []
    },
    {
      "cell_type": "code",
      "metadata": {
        "id": "giKX1-1SgBn-"
      },
      "source": [
        "df2=play_store_df[[\"Category\",\"Year\",\"Month\"]].groupby([\"Year\",\"Month\",\"Category\"], as_index=False).size()\n",
        "df2.rename(columns={\"size\":\"NumberOfApps\"},inplace=True)"
      ],
      "execution_count": null,
      "outputs": []
    },
    {
      "cell_type": "code",
      "metadata": {
        "id": "lMP0L66NgBlM"
      },
      "source": [
        "df2.head()"
      ],
      "execution_count": null,
      "outputs": []
    },
    {
      "cell_type": "code",
      "metadata": {
        "id": "juJDrggVgBiM"
      },
      "source": [
        "month=[\"January\", \"February\", \"March\", \"April\", \"May\", \"June\", \n",
        "      \"July\", \"August\", \"September\", \"October\", \"November\", \"December\"]"
      ],
      "execution_count": null,
      "outputs": []
    },
    {
      "cell_type": "code",
      "metadata": {
        "id": "1PUHS83egBdr"
      },
      "source": [
        "fig = px.bar(df2[df2['Year']==2018], x = 'Month', y = \"NumberOfApps\", color=\"Category\", title='2018 Monthly Category Trend', category_orders={\"Month\": month})\n",
        "fig.show()\n",
        "fig = px.bar(df2[df2['Year']==2017], x = 'Month', y = \"NumberOfApps\", color=\"Category\", title='2017 Monthly Category Trend', category_orders={\"Month\": month})\n",
        "fig.show()\n",
        "fig = px.bar(df2[df2['Year']==2016], x = 'Month', y = \"NumberOfApps\", color=\"Category\", title='2016 Monthly Category Trend', category_orders={\"Month\": month})\n",
        "fig.show()\n",
        "fig = px.bar(df2[df2['Year']==2015], x = 'Month', y = \"NumberOfApps\", color=\"Category\", title='2015 Monthly Category Trend', category_orders={\"Month\": month})\n",
        "fig.show()\n",
        "fig = px.bar(df2[df2['Year']==2014], x = 'Month', y = \"NumberOfApps\", color=\"Category\", title='2014 Monthly Category Trend', category_orders={\"Month\": month})\n",
        "fig.show()\n",
        "fig = px.bar(df2[df2['Year']==2013], x = 'Month', y = \"NumberOfApps\", color=\"Category\", title='2013 Monthly Category Trend', category_orders={\"Month\": month})\n",
        "fig.show()\n",
        "fig = px.bar(df2[df2['Year']==2012], x = 'Month', y = \"NumberOfApps\", color=\"Category\", title='2012 Monthly Category Trend', category_orders={\"Month\": month})\n",
        "fig.show()\n",
        "fig = px.bar(df2[df2['Year']==2011], x = 'Month', y = \"NumberOfApps\", color=\"Category\", title='2011 Monthly Category Trend', category_orders={\"Month\": month})\n",
        "fig.show()\n",
        "fig = px.bar(df2[df2['Year']==2010], x = 'Month', y = \"NumberOfApps\", color=\"Category\", title='2010 Monthly Category Trend', category_orders={\"Month\": month})\n",
        "fig.show()"
      ],
      "execution_count": null,
      "outputs": []
    },
    {
      "cell_type": "markdown",
      "metadata": {
        "id": "5kpdM7VqiTCB"
      },
      "source": [
        "Here we can see monthly trend of category of applications.\n",
        "We can find out in which month which type of applications are mostly released in each year(2010-2018)."
      ]
    },
    {
      "cell_type": "code",
      "metadata": {
        "id": "peHr5uMEgBVL"
      },
      "source": [
        "df3=play_store_df[[\"Installs\",\"Last_Updated\",\"Year\",\"Month\",\"Category\"]].groupby([\"Year\",\"Month\",\"Installs\",\"Category\",\"Last_Updated\"], as_index=False).size()\n",
        "df3"
      ],
      "execution_count": null,
      "outputs": []
    },
    {
      "cell_type": "code",
      "metadata": {
        "id": "Ndsp3qVIjLQY"
      },
      "source": [
        "# Here we are converting our Installs into numerical column\n",
        "df3['Installs'] = df3['Installs'].apply(lambda x: str(x).replace('+','') if '+' in str(x) else x)\n",
        "df3['Installs'] = df3['Installs'].apply(lambda x: str(x).replace(',', '') if ',' in str(x) else x)\n",
        "df3['Installs']=df3['Installs'].astype('int')"
      ],
      "execution_count": null,
      "outputs": []
    },
    {
      "cell_type": "code",
      "metadata": {
        "id": "f6AubsTwjRNg"
      },
      "source": [
        "fig = px.bar(df3[df3['Year']==2018], x = \"Month\", y = \"Installs\", color=\"Category\", title='2018 Monthly installation Trend', category_orders={\"Month\": month})\n",
        "fig.show()\n",
        "fig = px.bar(df3[df3['Year']==2017], x = 'Month', y = \"Installs\", color=\"Category\", title='2017 Monthly installation Trend', category_orders={\"Month\": month})\n",
        "fig.show()\n",
        "fig = px.bar(df3[df3['Year']==2016], x = 'Month', y = \"Installs\", color=\"Category\", title='2016 Monthly installation Trend', category_orders={\"Month\": month})\n",
        "fig.show()\n",
        "fig = px.bar(df3[df3['Year']==2015], x = 'Month', y = \"Installs\", color=\"Category\", title='2015 Monthly installation Trend', category_orders={\"Month\": month})\n",
        "fig.show()\n",
        "fig = px.bar(df3[df3['Year']==2014], x = 'Month', y = \"Installs\", color=\"Category\", title='2014 Monthly installation Trend', category_orders={\"Month\": month})\n",
        "fig.show()\n",
        "fig = px.bar(df3[df3['Year']==2013], x = 'Month', y = \"Installs\", color=\"Category\", title='2013 Monthly installation Trend', category_orders={\"Month\": month})\n",
        "fig.show()\n",
        "fig = px.bar(df3[df3['Year']==2012], x = 'Month', y = \"Installs\", color=\"Category\", title='2012 Monthly installation Trend', category_orders={\"Month\": month})\n",
        "fig.show()\n",
        "fig = px.bar(df3[df3['Year']==2011], x = 'Month', y = \"Installs\", color=\"Category\", title='2011 Monthly installation Trend', category_orders={\"Month\": month})\n",
        "fig.show()\n",
        "fig = px.bar(df3[df3['Year']==2010], x = 'Month', y = \"Installs\", color=\"Category\", title='2010 Monthly installation Trend', category_orders={\"Month\": month})\n",
        "fig.show()"
      ],
      "execution_count": null,
      "outputs": []
    },
    {
      "cell_type": "markdown",
      "metadata": {
        "id": "MX2bK0H-DDIz"
      },
      "source": [
        "Here we are getting monthly trend of each category installed in each year which can provide us the installation details according festivals, holiday or political shift etc.\n",
        "\n",
        "To get it in more better way we can compare month wise for 2018 and 2017 in the next graphs."
      ]
    },
    {
      "cell_type": "code",
      "metadata": {
        "id": "2eGtJJYFVZ80"
      },
      "source": [
        "df4=df3[[\"Year\",\"Month\",\"Installs\",\"Category\"]].groupby([\"Year\",\"Month\",\"Category\"],as_index=False).sum()"
      ],
      "execution_count": null,
      "outputs": []
    },
    {
      "cell_type": "code",
      "metadata": {
        "id": "xm1CI7IBjmeI"
      },
      "source": [
        "fig = px.bar(df4[df4['Year']==2018], x = \"Category\", y = \"Installs\", animation_frame=\"Month\",text=\"Category\", animation_group=\"Category\", title='2018 Monthly installation Trend', category_orders={\"Month\": month})\n",
        "fig.update_traces(textposition='outside')\n",
        "fig.update_xaxes(visible=False)\n",
        "fig.show()"
      ],
      "execution_count": null,
      "outputs": []
    },
    {
      "cell_type": "code",
      "metadata": {
        "id": "c_AytV_VEBBE"
      },
      "source": [
        "fig = px.bar(df4[df4['Year']==2017], x = \"Category\", y = \"Installs\", animation_frame=\"Month\", animation_group=\"Category\", text=\"Category\", title='2017 Monthly installation Trend', category_orders={\"Month\": month})\n",
        "fig.update_traces(textposition='outside')\n",
        "fig.update_xaxes(visible=False)\n",
        "fig.show()"
      ],
      "execution_count": null,
      "outputs": []
    },
    {
      "cell_type": "markdown",
      "metadata": {
        "id": "D7g8nc6nCbWb"
      },
      "source": [
        "Monthly trend of installations of different categories."
      ]
    },
    {
      "cell_type": "code",
      "metadata": {
        "id": "OoCHoH4tWvSS"
      },
      "source": [
        "df5=play_store_df[[\"App\",\"Year\",\"Category\",\"Type\",\"Installs\",\"Price\"]].groupby([\"Year\",\"Category\",\"Installs\",\"Type\",\"Price\",\"App\"], as_index=False).size()\n"
      ],
      "execution_count": null,
      "outputs": []
    },
    {
      "cell_type": "code",
      "metadata": {
        "id": "hSCagshAC3fs"
      },
      "source": [
        "fig = px.scatter(df5, x = \"Year\", y = \"Price\", color=\"Category\", symbol=\"Category\", title='Price of different Apps of different Categories from 2010 to 2018')\n",
        "fig.show()"
      ],
      "execution_count": null,
      "outputs": []
    },
    {
      "cell_type": "markdown",
      "metadata": {
        "id": "Zbc19e5uDKs9"
      },
      "source": [
        "Here we have the different prices of the Apps of different categories yearly. We can see most of the apps have prices below 50$."
      ]
    },
    {
      "cell_type": "code",
      "metadata": {
        "id": "Id_BP0VkDz0l"
      },
      "source": [
        "df6=play_store_df[[\"Year\",\"Category\",\"Rating\"]].groupby([\"Year\",\"Category\"],as_index=False).mean()"
      ],
      "execution_count": null,
      "outputs": []
    },
    {
      "cell_type": "code",
      "metadata": {
        "id": "E4lMqhR-E_dm"
      },
      "source": [
        "fig = px.bar(df6, x = \"Category\", y = \"Rating\",animation_frame=\"Year\", animation_group=\"Category\",text=\"Category\",title=\"Category wise mean Rating from 2010 to 2018\")\n",
        "fig.update_xaxes(visible=False)\n",
        "fig.show()"
      ],
      "execution_count": null,
      "outputs": []
    },
    {
      "cell_type": "markdown",
      "metadata": {
        "id": "MWbhAUC2FdsH"
      },
      "source": [
        "As we have Rating of all the Categories in 2018 is above 4.0 but in 2017 we have some of the Apps below 4.0 so we can check the popularity of different categories of Apps in different years."
      ]
    },
    {
      "cell_type": "code",
      "metadata": {
        "id": "17NowM6BHZZb"
      },
      "source": [
        "df7=play_store_df[[\"Year\",\"Android_Ver\"]].groupby([\"Year\",\"Android_Ver\"],as_index=False).size()"
      ],
      "execution_count": null,
      "outputs": []
    },
    {
      "cell_type": "code",
      "metadata": {
        "id": "GNLzjy1w2lMu"
      },
      "source": [
        "fig = px.bar(df7, x = \"Android_Ver\", y = \"size\",animation_frame=\"Year\", animation_group=\"Android_Ver\",text=\"Android_Ver\",title='Popular android version in different year')\n",
        "fig.update_xaxes(visible=False)\n",
        "fig.show()"
      ],
      "execution_count": null,
      "outputs": []
    }
  ]
}