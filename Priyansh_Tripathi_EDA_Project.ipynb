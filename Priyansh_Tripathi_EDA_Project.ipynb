{
  "nbformat": 4,
  "nbformat_minor": 0,
  "metadata": {
    "colab": {
      "name": "Priyansh_Tripathi_EDA_Project.ipynb",
      "provenance": [],
      "collapsed_sections": [],
      "mount_file_id": "1UoV1y-YbqcGW1Gm8bdhwHwWxwJmsnRl9",
      "authorship_tag": "ABX9TyMtMAbi0yO2orv7KeKmjiOC",
      "include_colab_link": true
    },
    "kernelspec": {
      "name": "python3",
      "display_name": "Python 3"
    },
    "language_info": {
      "name": "python"
    }
  },
  "cells": [
    {
      "cell_type": "markdown",
      "metadata": {
        "id": "view-in-github",
        "colab_type": "text"
      },
      "source": [
        "<a href=\"https://colab.research.google.com/github/priyansh1997/AlmaBetter/blob/main/Priyansh_Tripathi_EDA_Project.ipynb\" target=\"_parent\"><img src=\"https://colab.research.google.com/assets/colab-badge.svg\" alt=\"Open In Colab\"/></a>"
      ]
    },
    {
      "cell_type": "markdown",
      "metadata": {
        "id": "NR4o3pkKvXAY"
      },
      "source": [
        "# Importing Libraries\n",
        "These libraries will be used for Exploratory Data Analysis."
      ]
    },
    {
      "cell_type": "code",
      "metadata": {
        "id": "eyIcK8o_dPFk"
      },
      "source": [
        "import pandas as pd \n",
        "import numpy as np\n",
        "import matplotlib.pyplot as plt\n",
        "import seaborn as sns\n",
        "import plotly.express as px"
      ],
      "execution_count": null,
      "outputs": []
    },
    {
      "cell_type": "code",
      "metadata": {
        "id": "8Rws31XmPDPM"
      },
      "source": [
        "# Removing warnings\n",
        "# import warnings\n",
        "# warnings.filterwarnings(\"ignore\")"
      ],
      "execution_count": null,
      "outputs": []
    }
  ]
}