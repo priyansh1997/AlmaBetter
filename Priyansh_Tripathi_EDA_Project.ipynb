{
  "nbformat": 4,
  "nbformat_minor": 0,
  "metadata": {
    "colab": {
      "name": "Priyansh_Tripathi_EDA_Project.ipynb",
      "provenance": [],
      "collapsed_sections": [],
      "mount_file_id": "1UoV1y-YbqcGW1Gm8bdhwHwWxwJmsnRl9",
      "authorship_tag": "ABX9TyOzCvDRW+RbnY+TpJybGekY",
      "include_colab_link": true
    },
    "kernelspec": {
      "name": "python3",
      "display_name": "Python 3"
    },
    "language_info": {
      "name": "python"
    }
  },
  "cells": [
    {
      "cell_type": "markdown",
      "metadata": {
        "id": "view-in-github",
        "colab_type": "text"
      },
      "source": [
        "<a href=\"https://colab.research.google.com/github/priyansh1997/AlmaBetter/blob/main/Priyansh_Tripathi_EDA_Project.ipynb\" target=\"_parent\"><img src=\"https://colab.research.google.com/assets/colab-badge.svg\" alt=\"Open In Colab\"/></a>"
      ]
    },
    {
      "cell_type": "markdown",
      "metadata": {
        "id": "NR4o3pkKvXAY"
      },
      "source": [
        "# 1.1 Importing Libraries\n",
        "These libraries will be used for Exploratory Data Analysis."
      ]
    },
    {
      "cell_type": "code",
      "metadata": {
        "id": "eyIcK8o_dPFk"
      },
      "source": [
        "import pandas as pd \n",
        "import numpy as np\n",
        "import matplotlib.pyplot as plt\n",
        "import seaborn as sns\n",
        "import plotly.express as px"
      ],
      "execution_count": 173,
      "outputs": []
    },
    {
      "cell_type": "code",
      "metadata": {
        "id": "8Rws31XmPDPM"
      },
      "source": [
        "# Removing warnings\n",
        "# import warnings\n",
        "# warnings.filterwarnings(\"ignore\")"
      ],
      "execution_count": 174,
      "outputs": []
    },
    {
      "cell_type": "markdown",
      "metadata": {
        "id": "gJ4o6ozSxkQm"
      },
      "source": [
        "# 1.2 Data Loading\n",
        "Loading the dataset from google drive."
      ]
    },
    {
      "cell_type": "code",
      "metadata": {
        "colab": {
          "base_uri": "https://localhost:8080/"
        },
        "id": "Kxgc8v9NxcMu",
        "outputId": "82a36048-dcdb-4f88-dfab-966c7d52ad5f"
      },
      "source": [
        "from google.colab import drive\n",
        "drive.mount('/content/drive')"
      ],
      "execution_count": 175,
      "outputs": [
        {
          "output_type": "stream",
          "name": "stdout",
          "text": [
            "Drive already mounted at /content/drive; to attempt to forcibly remount, call drive.mount(\"/content/drive\", force_remount=True).\n"
          ]
        }
      ]
    },
    {
      "cell_type": "code",
      "metadata": {
        "id": "iVAKHiMyx42p"
      },
      "source": [
        "play_store_df=pd.read_csv('/content/drive/MyDrive/datasets/Play Store Data.csv')\n",
        "user_reviews_df=pd.read_csv('/content/drive/MyDrive/datasets/User Reviews.csv')"
      ],
      "execution_count": 176,
      "outputs": []
    },
    {
      "cell_type": "markdown",
      "metadata": {
        "id": "4kE_jzPYyBq1"
      },
      "source": [
        "# 1.3 Data Inspection\n",
        "Inspection of the data contains information about the data, head/tail part, description of dataset, shape etc."
      ]
    },
    {
      "cell_type": "code",
      "metadata": {
        "colab": {
          "base_uri": "https://localhost:8080/",
          "height": 395
        },
        "id": "9VgtE2EByBPt",
        "outputId": "b7e7e733-3d48-468e-d6ea-9c0fdfc43e24"
      },
      "source": [
        "play_store_df.head()"
      ],
      "execution_count": 177,
      "outputs": [
        {
          "output_type": "execute_result",
          "data": {
            "text/html": [
              "<div>\n",
              "<style scoped>\n",
              "    .dataframe tbody tr th:only-of-type {\n",
              "        vertical-align: middle;\n",
              "    }\n",
              "\n",
              "    .dataframe tbody tr th {\n",
              "        vertical-align: top;\n",
              "    }\n",
              "\n",
              "    .dataframe thead th {\n",
              "        text-align: right;\n",
              "    }\n",
              "</style>\n",
              "<table border=\"1\" class=\"dataframe\">\n",
              "  <thead>\n",
              "    <tr style=\"text-align: right;\">\n",
              "      <th></th>\n",
              "      <th>App</th>\n",
              "      <th>Category</th>\n",
              "      <th>Rating</th>\n",
              "      <th>Reviews</th>\n",
              "      <th>Size</th>\n",
              "      <th>Installs</th>\n",
              "      <th>Type</th>\n",
              "      <th>Price</th>\n",
              "      <th>Content Rating</th>\n",
              "      <th>Genres</th>\n",
              "      <th>Last Updated</th>\n",
              "      <th>Current Ver</th>\n",
              "      <th>Android Ver</th>\n",
              "    </tr>\n",
              "  </thead>\n",
              "  <tbody>\n",
              "    <tr>\n",
              "      <th>0</th>\n",
              "      <td>Photo Editor &amp; Candy Camera &amp; Grid &amp; ScrapBook</td>\n",
              "      <td>ART_AND_DESIGN</td>\n",
              "      <td>4.1</td>\n",
              "      <td>159</td>\n",
              "      <td>19M</td>\n",
              "      <td>10,000+</td>\n",
              "      <td>Free</td>\n",
              "      <td>0</td>\n",
              "      <td>Everyone</td>\n",
              "      <td>Art &amp; Design</td>\n",
              "      <td>January 7, 2018</td>\n",
              "      <td>1.0.0</td>\n",
              "      <td>4.0.3 and up</td>\n",
              "    </tr>\n",
              "    <tr>\n",
              "      <th>1</th>\n",
              "      <td>Coloring book moana</td>\n",
              "      <td>ART_AND_DESIGN</td>\n",
              "      <td>3.9</td>\n",
              "      <td>967</td>\n",
              "      <td>14M</td>\n",
              "      <td>500,000+</td>\n",
              "      <td>Free</td>\n",
              "      <td>0</td>\n",
              "      <td>Everyone</td>\n",
              "      <td>Art &amp; Design;Pretend Play</td>\n",
              "      <td>January 15, 2018</td>\n",
              "      <td>2.0.0</td>\n",
              "      <td>4.0.3 and up</td>\n",
              "    </tr>\n",
              "    <tr>\n",
              "      <th>2</th>\n",
              "      <td>U Launcher Lite – FREE Live Cool Themes, Hide ...</td>\n",
              "      <td>ART_AND_DESIGN</td>\n",
              "      <td>4.7</td>\n",
              "      <td>87510</td>\n",
              "      <td>8.7M</td>\n",
              "      <td>5,000,000+</td>\n",
              "      <td>Free</td>\n",
              "      <td>0</td>\n",
              "      <td>Everyone</td>\n",
              "      <td>Art &amp; Design</td>\n",
              "      <td>August 1, 2018</td>\n",
              "      <td>1.2.4</td>\n",
              "      <td>4.0.3 and up</td>\n",
              "    </tr>\n",
              "    <tr>\n",
              "      <th>3</th>\n",
              "      <td>Sketch - Draw &amp; Paint</td>\n",
              "      <td>ART_AND_DESIGN</td>\n",
              "      <td>4.5</td>\n",
              "      <td>215644</td>\n",
              "      <td>25M</td>\n",
              "      <td>50,000,000+</td>\n",
              "      <td>Free</td>\n",
              "      <td>0</td>\n",
              "      <td>Teen</td>\n",
              "      <td>Art &amp; Design</td>\n",
              "      <td>June 8, 2018</td>\n",
              "      <td>Varies with device</td>\n",
              "      <td>4.2 and up</td>\n",
              "    </tr>\n",
              "    <tr>\n",
              "      <th>4</th>\n",
              "      <td>Pixel Draw - Number Art Coloring Book</td>\n",
              "      <td>ART_AND_DESIGN</td>\n",
              "      <td>4.3</td>\n",
              "      <td>967</td>\n",
              "      <td>2.8M</td>\n",
              "      <td>100,000+</td>\n",
              "      <td>Free</td>\n",
              "      <td>0</td>\n",
              "      <td>Everyone</td>\n",
              "      <td>Art &amp; Design;Creativity</td>\n",
              "      <td>June 20, 2018</td>\n",
              "      <td>1.1</td>\n",
              "      <td>4.4 and up</td>\n",
              "    </tr>\n",
              "  </tbody>\n",
              "</table>\n",
              "</div>"
            ],
            "text/plain": [
              "                                                 App  ...   Android Ver\n",
              "0     Photo Editor & Candy Camera & Grid & ScrapBook  ...  4.0.3 and up\n",
              "1                                Coloring book moana  ...  4.0.3 and up\n",
              "2  U Launcher Lite – FREE Live Cool Themes, Hide ...  ...  4.0.3 and up\n",
              "3                              Sketch - Draw & Paint  ...    4.2 and up\n",
              "4              Pixel Draw - Number Art Coloring Book  ...    4.4 and up\n",
              "\n",
              "[5 rows x 13 columns]"
            ]
          },
          "metadata": {},
          "execution_count": 177
        }
      ]
    },
    {
      "cell_type": "code",
      "metadata": {
        "colab": {
          "base_uri": "https://localhost:8080/",
          "height": 205
        },
        "id": "4HtZw1JgyIgz",
        "outputId": "82850b75-7dd0-483f-82f6-e52172038be3"
      },
      "source": [
        "user_reviews_df.head()"
      ],
      "execution_count": 178,
      "outputs": [
        {
          "output_type": "execute_result",
          "data": {
            "text/html": [
              "<div>\n",
              "<style scoped>\n",
              "    .dataframe tbody tr th:only-of-type {\n",
              "        vertical-align: middle;\n",
              "    }\n",
              "\n",
              "    .dataframe tbody tr th {\n",
              "        vertical-align: top;\n",
              "    }\n",
              "\n",
              "    .dataframe thead th {\n",
              "        text-align: right;\n",
              "    }\n",
              "</style>\n",
              "<table border=\"1\" class=\"dataframe\">\n",
              "  <thead>\n",
              "    <tr style=\"text-align: right;\">\n",
              "      <th></th>\n",
              "      <th>App</th>\n",
              "      <th>Translated_Review</th>\n",
              "      <th>Sentiment</th>\n",
              "      <th>Sentiment_Polarity</th>\n",
              "      <th>Sentiment_Subjectivity</th>\n",
              "    </tr>\n",
              "  </thead>\n",
              "  <tbody>\n",
              "    <tr>\n",
              "      <th>0</th>\n",
              "      <td>10 Best Foods for You</td>\n",
              "      <td>I like eat delicious food. That's I'm cooking ...</td>\n",
              "      <td>Positive</td>\n",
              "      <td>1.00</td>\n",
              "      <td>0.533333</td>\n",
              "    </tr>\n",
              "    <tr>\n",
              "      <th>1</th>\n",
              "      <td>10 Best Foods for You</td>\n",
              "      <td>This help eating healthy exercise regular basis</td>\n",
              "      <td>Positive</td>\n",
              "      <td>0.25</td>\n",
              "      <td>0.288462</td>\n",
              "    </tr>\n",
              "    <tr>\n",
              "      <th>2</th>\n",
              "      <td>10 Best Foods for You</td>\n",
              "      <td>NaN</td>\n",
              "      <td>NaN</td>\n",
              "      <td>NaN</td>\n",
              "      <td>NaN</td>\n",
              "    </tr>\n",
              "    <tr>\n",
              "      <th>3</th>\n",
              "      <td>10 Best Foods for You</td>\n",
              "      <td>Works great especially going grocery store</td>\n",
              "      <td>Positive</td>\n",
              "      <td>0.40</td>\n",
              "      <td>0.875000</td>\n",
              "    </tr>\n",
              "    <tr>\n",
              "      <th>4</th>\n",
              "      <td>10 Best Foods for You</td>\n",
              "      <td>Best idea us</td>\n",
              "      <td>Positive</td>\n",
              "      <td>1.00</td>\n",
              "      <td>0.300000</td>\n",
              "    </tr>\n",
              "  </tbody>\n",
              "</table>\n",
              "</div>"
            ],
            "text/plain": [
              "                     App  ... Sentiment_Subjectivity\n",
              "0  10 Best Foods for You  ...               0.533333\n",
              "1  10 Best Foods for You  ...               0.288462\n",
              "2  10 Best Foods for You  ...                    NaN\n",
              "3  10 Best Foods for You  ...               0.875000\n",
              "4  10 Best Foods for You  ...               0.300000\n",
              "\n",
              "[5 rows x 5 columns]"
            ]
          },
          "metadata": {},
          "execution_count": 178
        }
      ]
    },
    {
      "cell_type": "code",
      "metadata": {
        "colab": {
          "base_uri": "https://localhost:8080/"
        },
        "id": "FcmZO20oyNrl",
        "outputId": "84118659-3117-446d-979d-88e1f4a611d6"
      },
      "source": [
        "play_store_df.shape"
      ],
      "execution_count": 179,
      "outputs": [
        {
          "output_type": "execute_result",
          "data": {
            "text/plain": [
              "(10841, 13)"
            ]
          },
          "metadata": {},
          "execution_count": 179
        }
      ]
    },
    {
      "cell_type": "code",
      "metadata": {
        "colab": {
          "base_uri": "https://localhost:8080/"
        },
        "id": "KiZhHc_ryfuc",
        "outputId": "db4b45b6-aef4-4664-bc74-b079ec197bd8"
      },
      "source": [
        "user_reviews_df.shape"
      ],
      "execution_count": 180,
      "outputs": [
        {
          "output_type": "execute_result",
          "data": {
            "text/plain": [
              "(64295, 5)"
            ]
          },
          "metadata": {},
          "execution_count": 180
        }
      ]
    },
    {
      "cell_type": "code",
      "metadata": {
        "colab": {
          "base_uri": "https://localhost:8080/"
        },
        "id": "rDFfW3uFzF_8",
        "outputId": "53e90e12-8105-4ec3-e9c7-126a080b720a"
      },
      "source": [
        "play_store_df.info()"
      ],
      "execution_count": 181,
      "outputs": [
        {
          "output_type": "stream",
          "name": "stdout",
          "text": [
            "<class 'pandas.core.frame.DataFrame'>\n",
            "RangeIndex: 10841 entries, 0 to 10840\n",
            "Data columns (total 13 columns):\n",
            " #   Column          Non-Null Count  Dtype  \n",
            "---  ------          --------------  -----  \n",
            " 0   App             10841 non-null  object \n",
            " 1   Category        10841 non-null  object \n",
            " 2   Rating          9367 non-null   float64\n",
            " 3   Reviews         10841 non-null  object \n",
            " 4   Size            10841 non-null  object \n",
            " 5   Installs        10841 non-null  object \n",
            " 6   Type            10840 non-null  object \n",
            " 7   Price           10841 non-null  object \n",
            " 8   Content Rating  10840 non-null  object \n",
            " 9   Genres          10841 non-null  object \n",
            " 10  Last Updated    10841 non-null  object \n",
            " 11  Current Ver     10833 non-null  object \n",
            " 12  Android Ver     10838 non-null  object \n",
            "dtypes: float64(1), object(12)\n",
            "memory usage: 1.1+ MB\n"
          ]
        }
      ]
    },
    {
      "cell_type": "markdown",
      "metadata": {
        "id": "Z8bkJr8A1UG8"
      },
      "source": [
        "Here we are having table showing 13 feature names and the count of non-values present in them. Now we will check each column in data cleaning part. "
      ]
    },
    {
      "cell_type": "code",
      "metadata": {
        "colab": {
          "base_uri": "https://localhost:8080/"
        },
        "id": "hddyRGkgzKR0",
        "outputId": "9da3a9cd-86a2-451a-b6e0-fbdf3c7ae218"
      },
      "source": [
        "user_reviews_df.info()"
      ],
      "execution_count": 182,
      "outputs": [
        {
          "output_type": "stream",
          "name": "stdout",
          "text": [
            "<class 'pandas.core.frame.DataFrame'>\n",
            "RangeIndex: 64295 entries, 0 to 64294\n",
            "Data columns (total 5 columns):\n",
            " #   Column                  Non-Null Count  Dtype  \n",
            "---  ------                  --------------  -----  \n",
            " 0   App                     64295 non-null  object \n",
            " 1   Translated_Review       37427 non-null  object \n",
            " 2   Sentiment               37432 non-null  object \n",
            " 3   Sentiment_Polarity      37432 non-null  float64\n",
            " 4   Sentiment_Subjectivity  37432 non-null  float64\n",
            "dtypes: float64(2), object(3)\n",
            "memory usage: 2.5+ MB\n"
          ]
        }
      ]
    },
    {
      "cell_type": "markdown",
      "metadata": {
        "id": "2rbJmu1o1xpl"
      },
      "source": [
        "Here also in user reviews dataframe we have 5 features with there counts of non-null values."
      ]
    },
    {
      "cell_type": "code",
      "metadata": {
        "colab": {
          "base_uri": "https://localhost:8080/"
        },
        "id": "06krqBkYzdDE",
        "outputId": "141d00dc-131c-4c0f-d68c-e46ca562675c"
      },
      "source": [
        "play_store_df.columns"
      ],
      "execution_count": 183,
      "outputs": [
        {
          "output_type": "execute_result",
          "data": {
            "text/plain": [
              "Index(['App', 'Category', 'Rating', 'Reviews', 'Size', 'Installs', 'Type',\n",
              "       'Price', 'Content Rating', 'Genres', 'Last Updated', 'Current Ver',\n",
              "       'Android Ver'],\n",
              "      dtype='object')"
            ]
          },
          "metadata": {},
          "execution_count": 183
        }
      ]
    },
    {
      "cell_type": "code",
      "metadata": {
        "id": "npgdx9FRzPDh"
      },
      "source": [
        "# Checking the column names and removing the spaces so column will be easier to access \n",
        "play_store_df.rename(columns={\"Content Rating\":\"Content_Rating\", \"Last Updated\":\"Last_Updated\", \"Current Ver\":\"Current_Ver\", \"Android Ver\":\"Android_Ver\"}, inplace=True)"
      ],
      "execution_count": 184,
      "outputs": []
    },
    {
      "cell_type": "code",
      "metadata": {
        "colab": {
          "base_uri": "https://localhost:8080/"
        },
        "id": "PCfRy444zeDk",
        "outputId": "b6a160e2-1ca2-4bd5-d5d9-3bfe606d44d8"
      },
      "source": [
        "play_store_df.columns"
      ],
      "execution_count": 185,
      "outputs": [
        {
          "output_type": "execute_result",
          "data": {
            "text/plain": [
              "Index(['App', 'Category', 'Rating', 'Reviews', 'Size', 'Installs', 'Type',\n",
              "       'Price', 'Content_Rating', 'Genres', 'Last_Updated', 'Current_Ver',\n",
              "       'Android_Ver'],\n",
              "      dtype='object')"
            ]
          },
          "metadata": {},
          "execution_count": 185
        }
      ]
    },
    {
      "cell_type": "code",
      "metadata": {
        "colab": {
          "base_uri": "https://localhost:8080/"
        },
        "id": "nvGjwX0-zfH3",
        "outputId": "4a69e35d-d4c2-4184-c39b-1757d9a139bd"
      },
      "source": [
        "user_reviews_df.columns "
      ],
      "execution_count": 186,
      "outputs": [
        {
          "output_type": "execute_result",
          "data": {
            "text/plain": [
              "Index(['App', 'Translated_Review', 'Sentiment', 'Sentiment_Polarity',\n",
              "       'Sentiment_Subjectivity'],\n",
              "      dtype='object')"
            ]
          },
          "metadata": {},
          "execution_count": 186
        }
      ]
    },
    {
      "cell_type": "markdown",
      "metadata": {
        "id": "QjxD9RKkzw-z"
      },
      "source": [
        "Already spaces are replaced by underscores"
      ]
    },
    {
      "cell_type": "markdown",
      "metadata": {
        "id": "yLGBxlr5yq_4"
      },
      "source": [
        "### 1.3.1 Data Cleaning part for Play store dataframe."
      ]
    },
    {
      "cell_type": "markdown",
      "metadata": {
        "id": "6U9Q7n0_0JO9"
      },
      "source": [
        "Firstly we will remove the duplicated rows for the play store dataframe."
      ]
    },
    {
      "cell_type": "code",
      "metadata": {
        "colab": {
          "base_uri": "https://localhost:8080/"
        },
        "id": "-BOO1ANFylqk",
        "outputId": "53be3820-b689-4f7b-c89d-6cea23dd2998"
      },
      "source": [
        "duplicated_rows_play_store_index=play_store_df[play_store_df.duplicated()].index\n",
        "print(duplicated_rows_play_store_index)"
      ],
      "execution_count": 187,
      "outputs": [
        {
          "output_type": "stream",
          "name": "stdout",
          "text": [
            "Int64Index([  229,   236,   239,   256,   261,   265,   266,   267,   268,\n",
            "              269,\n",
            "            ...\n",
            "             8632,  8635,  8636,  8639,  8642,  8643,  8654,  8658, 10049,\n",
            "            10768],\n",
            "           dtype='int64', length=483)\n"
          ]
        }
      ]
    },
    {
      "cell_type": "code",
      "metadata": {
        "colab": {
          "base_uri": "https://localhost:8080/"
        },
        "id": "l5mzVlJ1zDBM",
        "outputId": "3dd23d99-604f-44f8-9120-bd24c657f8e1"
      },
      "source": [
        "play_store_df.drop(duplicated_rows_play_store, inplace=True)\n",
        "# Dropping the duplicated rows as they were disturbing the data integrity and checking the shape\n",
        "play_store_df.shape"
      ],
      "execution_count": 188,
      "outputs": [
        {
          "output_type": "execute_result",
          "data": {
            "text/plain": [
              "(10358, 13)"
            ]
          },
          "metadata": {},
          "execution_count": 188
        }
      ]
    },
    {
      "cell_type": "code",
      "metadata": {
        "colab": {
          "base_uri": "https://localhost:8080/"
        },
        "id": "tfolNS9C2Tyv",
        "outputId": "af2dae35-0e0f-4e01-c682-f367fa888f44"
      },
      "source": [
        "play_store_df.App.isnull().sum()"
      ],
      "execution_count": 189,
      "outputs": [
        {
          "output_type": "execute_result",
          "data": {
            "text/plain": [
              "0"
            ]
          },
          "metadata": {},
          "execution_count": 189
        }
      ]
    },
    {
      "cell_type": "markdown",
      "metadata": {
        "id": "12BXXU9y5qN8"
      },
      "source": [
        "No null values in App feature."
      ]
    },
    {
      "cell_type": "code",
      "metadata": {
        "colab": {
          "base_uri": "https://localhost:8080/"
        },
        "id": "D4e8Pkys2bN1",
        "outputId": "969b284c-8d5d-4623-e184-c1a0ad4482da"
      },
      "source": [
        "play_store_df.Category.isnull().sum()"
      ],
      "execution_count": 190,
      "outputs": [
        {
          "output_type": "execute_result",
          "data": {
            "text/plain": [
              "0"
            ]
          },
          "metadata": {},
          "execution_count": 190
        }
      ]
    },
    {
      "cell_type": "markdown",
      "metadata": {
        "id": "h8omj7Q55yti"
      },
      "source": [
        "No null values in Category feature."
      ]
    },
    {
      "cell_type": "code",
      "metadata": {
        "colab": {
          "base_uri": "https://localhost:8080/"
        },
        "id": "hcUFpn-r01Ir",
        "outputId": "37219aa4-16ce-4744-a119-181eb52d5e49"
      },
      "source": [
        "# Getting the unique values of category column\n",
        "play_store_df.Category.unique()"
      ],
      "execution_count": 191,
      "outputs": [
        {
          "output_type": "execute_result",
          "data": {
            "text/plain": [
              "array(['ART_AND_DESIGN', 'AUTO_AND_VEHICLES', 'BEAUTY',\n",
              "       'BOOKS_AND_REFERENCE', 'BUSINESS', 'COMICS', 'COMMUNICATION',\n",
              "       'DATING', 'EDUCATION', 'ENTERTAINMENT', 'EVENTS', 'FINANCE',\n",
              "       'FOOD_AND_DRINK', 'HEALTH_AND_FITNESS', 'HOUSE_AND_HOME',\n",
              "       'LIBRARIES_AND_DEMO', 'LIFESTYLE', 'GAME', 'FAMILY', 'MEDICAL',\n",
              "       'SOCIAL', 'SHOPPING', 'PHOTOGRAPHY', 'SPORTS', 'TRAVEL_AND_LOCAL',\n",
              "       'TOOLS', 'PERSONALIZATION', 'PRODUCTIVITY', 'PARENTING', 'WEATHER',\n",
              "       'VIDEO_PLAYERS', 'NEWS_AND_MAGAZINES', 'MAPS_AND_NAVIGATION',\n",
              "       '1.9'], dtype=object)"
            ]
          },
          "metadata": {},
          "execution_count": 191
        }
      ]
    },
    {
      "cell_type": "markdown",
      "metadata": {
        "id": "SKJTIT4W52_S"
      },
      "source": [
        "These are all the unique categories of application that we are having in our data."
      ]
    },
    {
      "cell_type": "code",
      "metadata": {
        "colab": {
          "base_uri": "https://localhost:8080/"
        },
        "id": "AvOUIo5j2jEj",
        "outputId": "cd3099ce-28ff-4a46-bc3d-c477fba4b412"
      },
      "source": [
        "play_store_df.Rating.isnull().sum()"
      ],
      "execution_count": 192,
      "outputs": [
        {
          "output_type": "execute_result",
          "data": {
            "text/plain": [
              "1465"
            ]
          },
          "metadata": {},
          "execution_count": 192
        }
      ]
    },
    {
      "cell_type": "markdown",
      "metadata": {
        "id": "leWZuIbD6G87"
      },
      "source": [
        "We are having 1465 null values in rating column which we have to fill or drop out."
      ]
    },
    {
      "cell_type": "code",
      "metadata": {
        "colab": {
          "base_uri": "https://localhost:8080/"
        },
        "id": "3V3UYn3W6aVa",
        "outputId": "58d973d5-1d5e-4770-ea9a-8e0513a2873d"
      },
      "source": [
        "print(\"Minimum rating to an App given:\",min(play_store_df.Rating))\n",
        "print(\"Maximum rating to an App given:\",max(play_store_df.Rating))"
      ],
      "execution_count": 193,
      "outputs": [
        {
          "output_type": "stream",
          "name": "stdout",
          "text": [
            "Minimum rating to an App given: 1.0\n",
            "Maximum rating to an App given: 19.0\n"
          ]
        }
      ]
    },
    {
      "cell_type": "markdown",
      "metadata": {
        "id": "qXuXhrja61oM"
      },
      "source": [
        "Max rating of the App can be 5.0"
      ]
    },
    {
      "cell_type": "code",
      "metadata": {
        "colab": {
          "base_uri": "https://localhost:8080/",
          "height": 132
        },
        "id": "_VHcUWkx7KM4",
        "outputId": "46df83e3-a48c-48d0-8862-267f4b973d8a"
      },
      "source": [
        "play_store_df[play_store_df.Rating>5]"
      ],
      "execution_count": 194,
      "outputs": [
        {
          "output_type": "execute_result",
          "data": {
            "text/html": [
              "<div>\n",
              "<style scoped>\n",
              "    .dataframe tbody tr th:only-of-type {\n",
              "        vertical-align: middle;\n",
              "    }\n",
              "\n",
              "    .dataframe tbody tr th {\n",
              "        vertical-align: top;\n",
              "    }\n",
              "\n",
              "    .dataframe thead th {\n",
              "        text-align: right;\n",
              "    }\n",
              "</style>\n",
              "<table border=\"1\" class=\"dataframe\">\n",
              "  <thead>\n",
              "    <tr style=\"text-align: right;\">\n",
              "      <th></th>\n",
              "      <th>App</th>\n",
              "      <th>Category</th>\n",
              "      <th>Rating</th>\n",
              "      <th>Reviews</th>\n",
              "      <th>Size</th>\n",
              "      <th>Installs</th>\n",
              "      <th>Type</th>\n",
              "      <th>Price</th>\n",
              "      <th>Content_Rating</th>\n",
              "      <th>Genres</th>\n",
              "      <th>Last_Updated</th>\n",
              "      <th>Current_Ver</th>\n",
              "      <th>Android_Ver</th>\n",
              "    </tr>\n",
              "  </thead>\n",
              "  <tbody>\n",
              "    <tr>\n",
              "      <th>10472</th>\n",
              "      <td>Life Made WI-Fi Touchscreen Photo Frame</td>\n",
              "      <td>1.9</td>\n",
              "      <td>19.0</td>\n",
              "      <td>3.0M</td>\n",
              "      <td>1,000+</td>\n",
              "      <td>Free</td>\n",
              "      <td>0</td>\n",
              "      <td>Everyone</td>\n",
              "      <td>NaN</td>\n",
              "      <td>February 11, 2018</td>\n",
              "      <td>1.0.19</td>\n",
              "      <td>4.0 and up</td>\n",
              "      <td>NaN</td>\n",
              "    </tr>\n",
              "  </tbody>\n",
              "</table>\n",
              "</div>"
            ],
            "text/plain": [
              "                                           App Category  ...  Current_Ver Android_Ver\n",
              "10472  Life Made WI-Fi Touchscreen Photo Frame      1.9  ...   4.0 and up         NaN\n",
              "\n",
              "[1 rows x 13 columns]"
            ]
          },
          "metadata": {},
          "execution_count": 194
        }
      ]
    },
    {
      "cell_type": "markdown",
      "metadata": {
        "id": "0ZMGI9Q07QHJ"
      },
      "source": [
        "We can see this record is manipulated as it has rating more than 5, price is everyone which should be some value, installs is free etc. so we will remove this record."
      ]
    },
    {
      "cell_type": "code",
      "metadata": {
        "id": "E9FB7djt2iIM"
      },
      "source": [
        "play_store_df.drop(play_store_df[play_store_df.Rating>5].index,inplace=True)"
      ],
      "execution_count": 195,
      "outputs": []
    },
    {
      "cell_type": "code",
      "metadata": {
        "colab": {
          "base_uri": "https://localhost:8080/"
        },
        "id": "sYdVPOQ17HrA",
        "outputId": "a4b6d71d-4706-483d-fb63-1da27165b62f"
      },
      "source": [
        "print(\"Now maximum rating of an App is:\",max(play_store_df.Rating))"
      ],
      "execution_count": 196,
      "outputs": [
        {
          "output_type": "stream",
          "name": "stdout",
          "text": [
            "Now maximum rating of an App is: 5.0\n"
          ]
        }
      ]
    },
    {
      "cell_type": "code",
      "metadata": {
        "id": "33C5aj0o73ug"
      },
      "source": [
        "play_store_df.reset_index(drop=True,inplace=True)"
      ],
      "execution_count": 197,
      "outputs": []
    },
    {
      "cell_type": "code",
      "metadata": {
        "colab": {
          "base_uri": "https://localhost:8080/",
          "height": 554
        },
        "id": "U7SZbrKs8VCH",
        "outputId": "48e72794-7e83-49ff-af5c-7bfe157c31a0"
      },
      "source": [
        "play_store_df.head()"
      ],
      "execution_count": 198,
      "outputs": [
        {
          "output_type": "execute_result",
          "data": {
            "text/html": [
              "<div>\n",
              "<style scoped>\n",
              "    .dataframe tbody tr th:only-of-type {\n",
              "        vertical-align: middle;\n",
              "    }\n",
              "\n",
              "    .dataframe tbody tr th {\n",
              "        vertical-align: top;\n",
              "    }\n",
              "\n",
              "    .dataframe thead th {\n",
              "        text-align: right;\n",
              "    }\n",
              "</style>\n",
              "<table border=\"1\" class=\"dataframe\">\n",
              "  <thead>\n",
              "    <tr style=\"text-align: right;\">\n",
              "      <th></th>\n",
              "      <th>App</th>\n",
              "      <th>Category</th>\n",
              "      <th>Rating</th>\n",
              "      <th>Reviews</th>\n",
              "      <th>Size</th>\n",
              "      <th>Installs</th>\n",
              "      <th>Type</th>\n",
              "      <th>Price</th>\n",
              "      <th>Content_Rating</th>\n",
              "      <th>Genres</th>\n",
              "      <th>Last_Updated</th>\n",
              "      <th>Current_Ver</th>\n",
              "      <th>Android_Ver</th>\n",
              "    </tr>\n",
              "  </thead>\n",
              "  <tbody>\n",
              "    <tr>\n",
              "      <th>0</th>\n",
              "      <td>Photo Editor &amp; Candy Camera &amp; Grid &amp; ScrapBook</td>\n",
              "      <td>ART_AND_DESIGN</td>\n",
              "      <td>4.1</td>\n",
              "      <td>159</td>\n",
              "      <td>19M</td>\n",
              "      <td>10,000+</td>\n",
              "      <td>Free</td>\n",
              "      <td>0</td>\n",
              "      <td>Everyone</td>\n",
              "      <td>Art &amp; Design</td>\n",
              "      <td>January 7, 2018</td>\n",
              "      <td>1.0.0</td>\n",
              "      <td>4.0.3 and up</td>\n",
              "    </tr>\n",
              "    <tr>\n",
              "      <th>1</th>\n",
              "      <td>Coloring book moana</td>\n",
              "      <td>ART_AND_DESIGN</td>\n",
              "      <td>3.9</td>\n",
              "      <td>967</td>\n",
              "      <td>14M</td>\n",
              "      <td>500,000+</td>\n",
              "      <td>Free</td>\n",
              "      <td>0</td>\n",
              "      <td>Everyone</td>\n",
              "      <td>Art &amp; Design;Pretend Play</td>\n",
              "      <td>January 15, 2018</td>\n",
              "      <td>2.0.0</td>\n",
              "      <td>4.0.3 and up</td>\n",
              "    </tr>\n",
              "    <tr>\n",
              "      <th>2</th>\n",
              "      <td>U Launcher Lite – FREE Live Cool Themes, Hide ...</td>\n",
              "      <td>ART_AND_DESIGN</td>\n",
              "      <td>4.7</td>\n",
              "      <td>87510</td>\n",
              "      <td>8.7M</td>\n",
              "      <td>5,000,000+</td>\n",
              "      <td>Free</td>\n",
              "      <td>0</td>\n",
              "      <td>Everyone</td>\n",
              "      <td>Art &amp; Design</td>\n",
              "      <td>August 1, 2018</td>\n",
              "      <td>1.2.4</td>\n",
              "      <td>4.0.3 and up</td>\n",
              "    </tr>\n",
              "    <tr>\n",
              "      <th>3</th>\n",
              "      <td>Sketch - Draw &amp; Paint</td>\n",
              "      <td>ART_AND_DESIGN</td>\n",
              "      <td>4.5</td>\n",
              "      <td>215644</td>\n",
              "      <td>25M</td>\n",
              "      <td>50,000,000+</td>\n",
              "      <td>Free</td>\n",
              "      <td>0</td>\n",
              "      <td>Teen</td>\n",
              "      <td>Art &amp; Design</td>\n",
              "      <td>June 8, 2018</td>\n",
              "      <td>Varies with device</td>\n",
              "      <td>4.2 and up</td>\n",
              "    </tr>\n",
              "    <tr>\n",
              "      <th>4</th>\n",
              "      <td>Pixel Draw - Number Art Coloring Book</td>\n",
              "      <td>ART_AND_DESIGN</td>\n",
              "      <td>4.3</td>\n",
              "      <td>967</td>\n",
              "      <td>2.8M</td>\n",
              "      <td>100,000+</td>\n",
              "      <td>Free</td>\n",
              "      <td>0</td>\n",
              "      <td>Everyone</td>\n",
              "      <td>Art &amp; Design;Creativity</td>\n",
              "      <td>June 20, 2018</td>\n",
              "      <td>1.1</td>\n",
              "      <td>4.4 and up</td>\n",
              "    </tr>\n",
              "  </tbody>\n",
              "</table>\n",
              "</div>"
            ],
            "text/plain": [
              "                                                 App  ...   Android_Ver\n",
              "0     Photo Editor & Candy Camera & Grid & ScrapBook  ...  4.0.3 and up\n",
              "1                                Coloring book moana  ...  4.0.3 and up\n",
              "2  U Launcher Lite – FREE Live Cool Themes, Hide ...  ...  4.0.3 and up\n",
              "3                              Sketch - Draw & Paint  ...    4.2 and up\n",
              "4              Pixel Draw - Number Art Coloring Book  ...    4.4 and up\n",
              "\n",
              "[5 rows x 13 columns]"
            ]
          },
          "metadata": {},
          "execution_count": 198
        }
      ]
    },
    {
      "cell_type": "code",
      "metadata": {
        "colab": {
          "base_uri": "https://localhost:8080/"
        },
        "id": "GxUwToWl8Z8o",
        "outputId": "3eaeaa5f-b125-4d8e-d9ef-360f6c757737"
      },
      "source": [
        "play_store_df.Rating.isnull().sum()"
      ],
      "execution_count": 199,
      "outputs": [
        {
          "output_type": "execute_result",
          "data": {
            "text/plain": [
              "1465"
            ]
          },
          "metadata": {},
          "execution_count": 199
        }
      ]
    },
    {
      "cell_type": "markdown",
      "metadata": {
        "id": "o4Fy4GHh8j64"
      },
      "source": [
        "Still we are having 1465 number of null values in our Rating column."
      ]
    },
    {
      "cell_type": "code",
      "metadata": {
        "colab": {
          "base_uri": "https://localhost:8080/",
          "height": 822
        },
        "id": "9OkIBKDD8i1f",
        "outputId": "4d60eccd-980f-42d3-aeaf-24283fa124df"
      },
      "source": [
        "versions_of_app=play_store_df[play_store_df.App.duplicated(keep=False)].groupby(by=[\"App\"],as_index=False).apply(lambda x: x[:])\n",
        "versions_of_app"
      ],
      "execution_count": 200,
      "outputs": [
        {
          "output_type": "execute_result",
          "data": {
            "text/html": [
              "<div>\n",
              "<style scoped>\n",
              "    .dataframe tbody tr th:only-of-type {\n",
              "        vertical-align: middle;\n",
              "    }\n",
              "\n",
              "    .dataframe tbody tr th {\n",
              "        vertical-align: top;\n",
              "    }\n",
              "\n",
              "    .dataframe thead th {\n",
              "        text-align: right;\n",
              "    }\n",
              "</style>\n",
              "<table border=\"1\" class=\"dataframe\">\n",
              "  <thead>\n",
              "    <tr style=\"text-align: right;\">\n",
              "      <th></th>\n",
              "      <th></th>\n",
              "      <th>App</th>\n",
              "      <th>Category</th>\n",
              "      <th>Rating</th>\n",
              "      <th>Reviews</th>\n",
              "      <th>Size</th>\n",
              "      <th>Installs</th>\n",
              "      <th>Type</th>\n",
              "      <th>Price</th>\n",
              "      <th>Content_Rating</th>\n",
              "      <th>Genres</th>\n",
              "      <th>Last_Updated</th>\n",
              "      <th>Current_Ver</th>\n",
              "      <th>Android_Ver</th>\n",
              "    </tr>\n",
              "  </thead>\n",
              "  <tbody>\n",
              "    <tr>\n",
              "      <th rowspan=\"2\" valign=\"top\">0</th>\n",
              "      <th>2697</th>\n",
              "      <td>365Scores - Live Scores</td>\n",
              "      <td>SPORTS</td>\n",
              "      <td>4.6</td>\n",
              "      <td>666521</td>\n",
              "      <td>25M</td>\n",
              "      <td>10,000,000+</td>\n",
              "      <td>Free</td>\n",
              "      <td>0</td>\n",
              "      <td>Everyone</td>\n",
              "      <td>Sports</td>\n",
              "      <td>July 29, 2018</td>\n",
              "      <td>5.5.9</td>\n",
              "      <td>4.1 and up</td>\n",
              "    </tr>\n",
              "    <tr>\n",
              "      <th>4959</th>\n",
              "      <td>365Scores - Live Scores</td>\n",
              "      <td>SPORTS</td>\n",
              "      <td>4.6</td>\n",
              "      <td>666246</td>\n",
              "      <td>25M</td>\n",
              "      <td>10,000,000+</td>\n",
              "      <td>Free</td>\n",
              "      <td>0</td>\n",
              "      <td>Everyone</td>\n",
              "      <td>Sports</td>\n",
              "      <td>July 29, 2018</td>\n",
              "      <td>5.5.9</td>\n",
              "      <td>4.1 and up</td>\n",
              "    </tr>\n",
              "    <tr>\n",
              "      <th rowspan=\"3\" valign=\"top\">1</th>\n",
              "      <th>1468</th>\n",
              "      <td>8 Ball Pool</td>\n",
              "      <td>GAME</td>\n",
              "      <td>4.5</td>\n",
              "      <td>14198297</td>\n",
              "      <td>52M</td>\n",
              "      <td>100,000,000+</td>\n",
              "      <td>Free</td>\n",
              "      <td>0</td>\n",
              "      <td>Everyone</td>\n",
              "      <td>Sports</td>\n",
              "      <td>July 31, 2018</td>\n",
              "      <td>4.0.0</td>\n",
              "      <td>4.0.3 and up</td>\n",
              "    </tr>\n",
              "    <tr>\n",
              "      <th>1496</th>\n",
              "      <td>8 Ball Pool</td>\n",
              "      <td>GAME</td>\n",
              "      <td>4.5</td>\n",
              "      <td>14198602</td>\n",
              "      <td>52M</td>\n",
              "      <td>100,000,000+</td>\n",
              "      <td>Free</td>\n",
              "      <td>0</td>\n",
              "      <td>Everyone</td>\n",
              "      <td>Sports</td>\n",
              "      <td>July 31, 2018</td>\n",
              "      <td>4.0.0</td>\n",
              "      <td>4.0.3 and up</td>\n",
              "    </tr>\n",
              "    <tr>\n",
              "      <th>1544</th>\n",
              "      <td>8 Ball Pool</td>\n",
              "      <td>GAME</td>\n",
              "      <td>4.5</td>\n",
              "      <td>14200344</td>\n",
              "      <td>52M</td>\n",
              "      <td>100,000,000+</td>\n",
              "      <td>Free</td>\n",
              "      <td>0</td>\n",
              "      <td>Everyone</td>\n",
              "      <td>Sports</td>\n",
              "      <td>July 31, 2018</td>\n",
              "      <td>4.0.0</td>\n",
              "      <td>4.0.3 and up</td>\n",
              "    </tr>\n",
              "    <tr>\n",
              "      <th>...</th>\n",
              "      <th>...</th>\n",
              "      <td>...</td>\n",
              "      <td>...</td>\n",
              "      <td>...</td>\n",
              "      <td>...</td>\n",
              "      <td>...</td>\n",
              "      <td>...</td>\n",
              "      <td>...</td>\n",
              "      <td>...</td>\n",
              "      <td>...</td>\n",
              "      <td>...</td>\n",
              "      <td>...</td>\n",
              "      <td>...</td>\n",
              "      <td>...</td>\n",
              "    </tr>\n",
              "    <tr>\n",
              "      <th>520</th>\n",
              "      <th>2331</th>\n",
              "      <td>textPlus: Free Text &amp; Calls</td>\n",
              "      <td>SOCIAL</td>\n",
              "      <td>4.1</td>\n",
              "      <td>382121</td>\n",
              "      <td>28M</td>\n",
              "      <td>10,000,000+</td>\n",
              "      <td>Free</td>\n",
              "      <td>0</td>\n",
              "      <td>Everyone</td>\n",
              "      <td>Social</td>\n",
              "      <td>July 26, 2018</td>\n",
              "      <td>7.3.1</td>\n",
              "      <td>4.1 and up</td>\n",
              "    </tr>\n",
              "    <tr>\n",
              "      <th rowspan=\"2\" valign=\"top\">521</th>\n",
              "      <th>2602</th>\n",
              "      <td>theScore: Live Sports Scores, News, Stats &amp; Vi...</td>\n",
              "      <td>SPORTS</td>\n",
              "      <td>4.4</td>\n",
              "      <td>133825</td>\n",
              "      <td>34M</td>\n",
              "      <td>10,000,000+</td>\n",
              "      <td>Free</td>\n",
              "      <td>0</td>\n",
              "      <td>Everyone 10+</td>\n",
              "      <td>Sports</td>\n",
              "      <td>July 25, 2018</td>\n",
              "      <td>6.17.2</td>\n",
              "      <td>4.4 and up</td>\n",
              "    </tr>\n",
              "    <tr>\n",
              "      <th>2680</th>\n",
              "      <td>theScore: Live Sports Scores, News, Stats &amp; Vi...</td>\n",
              "      <td>SPORTS</td>\n",
              "      <td>4.4</td>\n",
              "      <td>133833</td>\n",
              "      <td>34M</td>\n",
              "      <td>10,000,000+</td>\n",
              "      <td>Free</td>\n",
              "      <td>0</td>\n",
              "      <td>Everyone 10+</td>\n",
              "      <td>Sports</td>\n",
              "      <td>July 25, 2018</td>\n",
              "      <td>6.17.2</td>\n",
              "      <td>4.4 and up</td>\n",
              "    </tr>\n",
              "    <tr>\n",
              "      <th rowspan=\"2\" valign=\"top\">522</th>\n",
              "      <th>3226</th>\n",
              "      <td>wetter.com - Weather and Radar</td>\n",
              "      <td>WEATHER</td>\n",
              "      <td>4.2</td>\n",
              "      <td>189313</td>\n",
              "      <td>38M</td>\n",
              "      <td>10,000,000+</td>\n",
              "      <td>Free</td>\n",
              "      <td>0</td>\n",
              "      <td>Everyone</td>\n",
              "      <td>Weather</td>\n",
              "      <td>August 6, 2018</td>\n",
              "      <td>Varies with device</td>\n",
              "      <td>Varies with device</td>\n",
              "    </tr>\n",
              "    <tr>\n",
              "      <th>7820</th>\n",
              "      <td>wetter.com - Weather and Radar</td>\n",
              "      <td>WEATHER</td>\n",
              "      <td>4.2</td>\n",
              "      <td>189310</td>\n",
              "      <td>38M</td>\n",
              "      <td>10,000,000+</td>\n",
              "      <td>Free</td>\n",
              "      <td>0</td>\n",
              "      <td>Everyone</td>\n",
              "      <td>Weather</td>\n",
              "      <td>August 6, 2018</td>\n",
              "      <td>Varies with device</td>\n",
              "      <td>Varies with device</td>\n",
              "    </tr>\n",
              "  </tbody>\n",
              "</table>\n",
              "<p>1221 rows × 13 columns</p>\n",
              "</div>"
            ],
            "text/plain": [
              "                                                        App  ...         Android_Ver\n",
              "0   2697                            365Scores - Live Scores  ...          4.1 and up\n",
              "    4959                            365Scores - Live Scores  ...          4.1 and up\n",
              "1   1468                                        8 Ball Pool  ...        4.0.3 and up\n",
              "    1496                                        8 Ball Pool  ...        4.0.3 and up\n",
              "    1544                                        8 Ball Pool  ...        4.0.3 and up\n",
              "...                                                     ...  ...                 ...\n",
              "520 2331                        textPlus: Free Text & Calls  ...          4.1 and up\n",
              "521 2602  theScore: Live Sports Scores, News, Stats & Vi...  ...          4.4 and up\n",
              "    2680  theScore: Live Sports Scores, News, Stats & Vi...  ...          4.4 and up\n",
              "522 3226                     wetter.com - Weather and Radar  ...  Varies with device\n",
              "    7820                     wetter.com - Weather and Radar  ...  Varies with device\n",
              "\n",
              "[1221 rows x 13 columns]"
            ]
          },
          "metadata": {},
          "execution_count": 200
        }
      ]
    },
    {
      "cell_type": "code",
      "metadata": {
        "colab": {
          "base_uri": "https://localhost:8080/",
          "height": 250
        },
        "id": "xsIOFh0Y9JUR",
        "outputId": "2ba01e40-3dd8-49d1-da95-7422d11c71bb"
      },
      "source": [
        "versions_of_app[versions_of_app[\"Rating\"].isnull()]"
      ],
      "execution_count": 201,
      "outputs": [
        {
          "output_type": "execute_result",
          "data": {
            "text/html": [
              "<div>\n",
              "<style scoped>\n",
              "    .dataframe tbody tr th:only-of-type {\n",
              "        vertical-align: middle;\n",
              "    }\n",
              "\n",
              "    .dataframe tbody tr th {\n",
              "        vertical-align: top;\n",
              "    }\n",
              "\n",
              "    .dataframe thead th {\n",
              "        text-align: right;\n",
              "    }\n",
              "</style>\n",
              "<table border=\"1\" class=\"dataframe\">\n",
              "  <thead>\n",
              "    <tr style=\"text-align: right;\">\n",
              "      <th></th>\n",
              "      <th></th>\n",
              "      <th>App</th>\n",
              "      <th>Category</th>\n",
              "      <th>Rating</th>\n",
              "      <th>Reviews</th>\n",
              "      <th>Size</th>\n",
              "      <th>Installs</th>\n",
              "      <th>Type</th>\n",
              "      <th>Price</th>\n",
              "      <th>Content_Rating</th>\n",
              "      <th>Genres</th>\n",
              "      <th>Last_Updated</th>\n",
              "      <th>Current_Ver</th>\n",
              "      <th>Android_Ver</th>\n",
              "    </tr>\n",
              "  </thead>\n",
              "  <tbody>\n",
              "    <tr>\n",
              "      <th>48</th>\n",
              "      <th>2222</th>\n",
              "      <td>Blood Pressure</td>\n",
              "      <td>MEDICAL</td>\n",
              "      <td>NaN</td>\n",
              "      <td>10</td>\n",
              "      <td>2.4M</td>\n",
              "      <td>1,000+</td>\n",
              "      <td>Free</td>\n",
              "      <td>0</td>\n",
              "      <td>Everyone</td>\n",
              "      <td>Medical</td>\n",
              "      <td>March 14, 2015</td>\n",
              "      <td>1.0</td>\n",
              "      <td>2.3 and up</td>\n",
              "    </tr>\n",
              "    <tr>\n",
              "      <th rowspan=\"2\" valign=\"top\">282</th>\n",
              "      <th>23</th>\n",
              "      <td>Mcqueen Coloring pages</td>\n",
              "      <td>ART_AND_DESIGN</td>\n",
              "      <td>NaN</td>\n",
              "      <td>61</td>\n",
              "      <td>7.0M</td>\n",
              "      <td>100,000+</td>\n",
              "      <td>Free</td>\n",
              "      <td>0</td>\n",
              "      <td>Everyone</td>\n",
              "      <td>Art &amp; Design;Action &amp; Adventure</td>\n",
              "      <td>March 7, 2018</td>\n",
              "      <td>1.0.0</td>\n",
              "      <td>4.1 and up</td>\n",
              "    </tr>\n",
              "    <tr>\n",
              "      <th>1878</th>\n",
              "      <td>Mcqueen Coloring pages</td>\n",
              "      <td>FAMILY</td>\n",
              "      <td>NaN</td>\n",
              "      <td>65</td>\n",
              "      <td>7.0M</td>\n",
              "      <td>100,000+</td>\n",
              "      <td>Free</td>\n",
              "      <td>0</td>\n",
              "      <td>Everyone</td>\n",
              "      <td>Art &amp; Design;Action &amp; Adventure</td>\n",
              "      <td>March 7, 2018</td>\n",
              "      <td>1.0.0</td>\n",
              "      <td>4.1 and up</td>\n",
              "    </tr>\n",
              "  </tbody>\n",
              "</table>\n",
              "</div>"
            ],
            "text/plain": [
              "                             App        Category  ...  Current_Ver Android_Ver\n",
              "48  2222          Blood Pressure         MEDICAL  ...          1.0  2.3 and up\n",
              "282 23    Mcqueen Coloring pages  ART_AND_DESIGN  ...        1.0.0  4.1 and up\n",
              "    1878  Mcqueen Coloring pages          FAMILY  ...        1.0.0  4.1 and up\n",
              "\n",
              "[3 rows x 13 columns]"
            ]
          },
          "metadata": {},
          "execution_count": 201
        }
      ]
    },
    {
      "cell_type": "markdown",
      "metadata": {
        "id": "z8DuNNbS9PGn"
      },
      "source": [
        "Checking for the different versions and filling the rating of Applications with there mean."
      ]
    },
    {
      "cell_type": "code",
      "metadata": {
        "colab": {
          "base_uri": "https://localhost:8080/",
          "height": 112
        },
        "id": "lh_2NLNd9NSg",
        "outputId": "7ad85a56-efad-41b5-9c02-fe94d323f7f4"
      },
      "source": [
        "play_store_df[play_store_df[\"App\"]=='Blood Pressure']"
      ],
      "execution_count": 202,
      "outputs": [
        {
          "output_type": "execute_result",
          "data": {
            "text/html": [
              "<div>\n",
              "<style scoped>\n",
              "    .dataframe tbody tr th:only-of-type {\n",
              "        vertical-align: middle;\n",
              "    }\n",
              "\n",
              "    .dataframe tbody tr th {\n",
              "        vertical-align: top;\n",
              "    }\n",
              "\n",
              "    .dataframe thead th {\n",
              "        text-align: right;\n",
              "    }\n",
              "</style>\n",
              "<table border=\"1\" class=\"dataframe\">\n",
              "  <thead>\n",
              "    <tr style=\"text-align: right;\">\n",
              "      <th></th>\n",
              "      <th>App</th>\n",
              "      <th>Category</th>\n",
              "      <th>Rating</th>\n",
              "      <th>Reviews</th>\n",
              "      <th>Size</th>\n",
              "      <th>Installs</th>\n",
              "      <th>Type</th>\n",
              "      <th>Price</th>\n",
              "      <th>Content_Rating</th>\n",
              "      <th>Genres</th>\n",
              "      <th>Last_Updated</th>\n",
              "      <th>Current_Ver</th>\n",
              "      <th>Android_Ver</th>\n",
              "    </tr>\n",
              "  </thead>\n",
              "  <tbody>\n",
              "    <tr>\n",
              "      <th>2052</th>\n",
              "      <td>Blood Pressure</td>\n",
              "      <td>MEDICAL</td>\n",
              "      <td>4.2</td>\n",
              "      <td>33033</td>\n",
              "      <td>7.4M</td>\n",
              "      <td>5,000,000+</td>\n",
              "      <td>Free</td>\n",
              "      <td>0</td>\n",
              "      <td>Everyone</td>\n",
              "      <td>Medical</td>\n",
              "      <td>July 24, 2018</td>\n",
              "      <td>3.27.3</td>\n",
              "      <td>4.1 and up</td>\n",
              "    </tr>\n",
              "    <tr>\n",
              "      <th>2222</th>\n",
              "      <td>Blood Pressure</td>\n",
              "      <td>MEDICAL</td>\n",
              "      <td>NaN</td>\n",
              "      <td>10</td>\n",
              "      <td>2.4M</td>\n",
              "      <td>1,000+</td>\n",
              "      <td>Free</td>\n",
              "      <td>0</td>\n",
              "      <td>Everyone</td>\n",
              "      <td>Medical</td>\n",
              "      <td>March 14, 2015</td>\n",
              "      <td>1.0</td>\n",
              "      <td>2.3 and up</td>\n",
              "    </tr>\n",
              "  </tbody>\n",
              "</table>\n",
              "</div>"
            ],
            "text/plain": [
              "                 App Category  Rating  ...    Last_Updated Current_Ver Android_Ver\n",
              "2052  Blood Pressure  MEDICAL     4.2  ...   July 24, 2018      3.27.3  4.1 and up\n",
              "2222  Blood Pressure  MEDICAL     NaN  ...  March 14, 2015         1.0  2.3 and up\n",
              "\n",
              "[2 rows x 13 columns]"
            ]
          },
          "metadata": {},
          "execution_count": 202
        }
      ]
    },
    {
      "cell_type": "markdown",
      "metadata": {
        "id": "fQWHyznH9zCl"
      },
      "source": [
        "Only 2 versions available so we can fill with the mean of category to which this app belongs."
      ]
    },
    {
      "cell_type": "code",
      "metadata": {
        "colab": {
          "base_uri": "https://localhost:8080/",
          "height": 201
        },
        "id": "VD4H0IQG9we_",
        "outputId": "94b125fe-cd02-4467-fa65-e826984e8d55"
      },
      "source": [
        "play_store_df[play_store_df[\"App\"]=='Mcqueen Coloring pages']"
      ],
      "execution_count": 203,
      "outputs": [
        {
          "output_type": "execute_result",
          "data": {
            "text/html": [
              "<div>\n",
              "<style scoped>\n",
              "    .dataframe tbody tr th:only-of-type {\n",
              "        vertical-align: middle;\n",
              "    }\n",
              "\n",
              "    .dataframe tbody tr th {\n",
              "        vertical-align: top;\n",
              "    }\n",
              "\n",
              "    .dataframe thead th {\n",
              "        text-align: right;\n",
              "    }\n",
              "</style>\n",
              "<table border=\"1\" class=\"dataframe\">\n",
              "  <thead>\n",
              "    <tr style=\"text-align: right;\">\n",
              "      <th></th>\n",
              "      <th>App</th>\n",
              "      <th>Category</th>\n",
              "      <th>Rating</th>\n",
              "      <th>Reviews</th>\n",
              "      <th>Size</th>\n",
              "      <th>Installs</th>\n",
              "      <th>Type</th>\n",
              "      <th>Price</th>\n",
              "      <th>Content_Rating</th>\n",
              "      <th>Genres</th>\n",
              "      <th>Last_Updated</th>\n",
              "      <th>Current_Ver</th>\n",
              "      <th>Android_Ver</th>\n",
              "    </tr>\n",
              "  </thead>\n",
              "  <tbody>\n",
              "    <tr>\n",
              "      <th>23</th>\n",
              "      <td>Mcqueen Coloring pages</td>\n",
              "      <td>ART_AND_DESIGN</td>\n",
              "      <td>NaN</td>\n",
              "      <td>61</td>\n",
              "      <td>7.0M</td>\n",
              "      <td>100,000+</td>\n",
              "      <td>Free</td>\n",
              "      <td>0</td>\n",
              "      <td>Everyone</td>\n",
              "      <td>Art &amp; Design;Action &amp; Adventure</td>\n",
              "      <td>March 7, 2018</td>\n",
              "      <td>1.0.0</td>\n",
              "      <td>4.1 and up</td>\n",
              "    </tr>\n",
              "    <tr>\n",
              "      <th>1878</th>\n",
              "      <td>Mcqueen Coloring pages</td>\n",
              "      <td>FAMILY</td>\n",
              "      <td>NaN</td>\n",
              "      <td>65</td>\n",
              "      <td>7.0M</td>\n",
              "      <td>100,000+</td>\n",
              "      <td>Free</td>\n",
              "      <td>0</td>\n",
              "      <td>Everyone</td>\n",
              "      <td>Art &amp; Design;Action &amp; Adventure</td>\n",
              "      <td>March 7, 2018</td>\n",
              "      <td>1.0.0</td>\n",
              "      <td>4.1 and up</td>\n",
              "    </tr>\n",
              "  </tbody>\n",
              "</table>\n",
              "</div>"
            ],
            "text/plain": [
              "                         App        Category  ...  Current_Ver Android_Ver\n",
              "23    Mcqueen Coloring pages  ART_AND_DESIGN  ...        1.0.0  4.1 and up\n",
              "1878  Mcqueen Coloring pages          FAMILY  ...        1.0.0  4.1 and up\n",
              "\n",
              "[2 rows x 13 columns]"
            ]
          },
          "metadata": {},
          "execution_count": 203
        }
      ]
    },
    {
      "cell_type": "markdown",
      "metadata": {
        "id": "zhYCRS4Z-KrB"
      },
      "source": [
        "Here also only 2 applications are there and they are also present in the different category so we will put catgory wise mean in both.\n",
        "\n",
        "In rest of the records with null-values in rating column we will fill category wise mean because we don't have different versions of those applications."
      ]
    },
    {
      "cell_type": "code",
      "metadata": {
        "id": "tjn5P5Ls_MOx"
      },
      "source": [
        "play_store_df['Rating'].fillna(play_store_df.groupby('Category')['Rating'].transform('mean'), inplace=True)"
      ],
      "execution_count": 204,
      "outputs": []
    },
    {
      "cell_type": "code",
      "metadata": {
        "id": "ddVsWCyp_goo"
      },
      "source": [
        "# Checking the Reivew column\n",
        "play_store_df['Reviews']=play_store_df['Reviews'].astype('int')"
      ],
      "execution_count": 205,
      "outputs": []
    },
    {
      "cell_type": "code",
      "metadata": {
        "colab": {
          "base_uri": "https://localhost:8080/"
        },
        "id": "Cx-8ljyhAaZV",
        "outputId": "76afefca-e1da-43bc-9c4c-6f01c4a0c8d2"
      },
      "source": [
        "play_store_df['Size'].unique()[30:70]"
      ],
      "execution_count": 206,
      "outputs": [
        {
          "output_type": "execute_result",
          "data": {
            "text/plain": [
              "array(['9.4M', '15M', '10M', '1.2M', '26M', '8.0M', '7.9M', '56M', '57M',\n",
              "       '35M', '54M', '201k', '3.6M', '5.7M', '8.6M', '2.4M', '27M',\n",
              "       '2.5M', '16M', '3.4M', '8.9M', '3.9M', '2.9M', '38M', '32M',\n",
              "       '5.4M', '18M', '1.1M', '2.2M', '4.5M', '9.8M', '52M', '9.0M',\n",
              "       '6.7M', '30M', '2.6M', '7.1M', '3.7M', '22M', '7.4M'], dtype=object)"
            ]
          },
          "metadata": {},
          "execution_count": 206
        }
      ]
    },
    {
      "cell_type": "markdown",
      "metadata": {
        "id": "xPXvt6qvA0n3"
      },
      "source": [
        "As we can see we have size of the app in Mb's and Kb's we have to convert these into same unit and also remove the unwanted symbols."
      ]
    },
    {
      "cell_type": "code",
      "metadata": {
        "id": "XiUsyVge_hCp"
      },
      "source": [
        "play_store_df['Size'] = play_store_df['Size'].apply(lambda x: str(x).replace('Varies with device', 'NaN') if 'Varies with device' in str(x) else x)\n",
        "play_store_df['Size'] = play_store_df['Size'].apply(lambda x: str(x).replace('M', '') if 'M' in str(x) else x)\n",
        "play_store_df['Size'] = play_store_df['Size'].apply(lambda x: str(x).replace(',', '') if ',' in str(x) else x)\n",
        "play_store_df['Size'] = play_store_df['Size'].apply(lambda x: float(str(x).replace('k', '')) / 1024 if 'k' in str(x) else x)\n",
        "play_store_df['Size'] = play_store_df['Size'].apply(lambda x: str(x).replace('+','') if '+' in str(x) else x)"
      ],
      "execution_count": 207,
      "outputs": []
    },
    {
      "cell_type": "code",
      "metadata": {
        "colab": {
          "base_uri": "https://localhost:8080/"
        },
        "id": "BF0KpYztBWaG",
        "outputId": "e8f18233-5a8c-4922-f092-e5254e8dde9d"
      },
      "source": [
        "play_store_df['Size'].dtype"
      ],
      "execution_count": 208,
      "outputs": [
        {
          "output_type": "execute_result",
          "data": {
            "text/plain": [
              "dtype('O')"
            ]
          },
          "metadata": {},
          "execution_count": 208
        }
      ]
    },
    {
      "cell_type": "code",
      "metadata": {
        "id": "Z0y9NC9GBYRd"
      },
      "source": [
        "# Type Casting the Size feature in float64 \n",
        "play_store_df.Size=play_store_df.Size.astype('float64')"
      ],
      "execution_count": 209,
      "outputs": []
    },
    {
      "cell_type": "code",
      "metadata": {
        "colab": {
          "base_uri": "https://localhost:8080/"
        },
        "id": "lottzjCUBpU9",
        "outputId": "3562bc73-54fb-410a-9fbe-042a324ce976"
      },
      "source": [
        "# Checking the data type\n",
        "play_store_df['Size'].dtype"
      ],
      "execution_count": 210,
      "outputs": [
        {
          "output_type": "execute_result",
          "data": {
            "text/plain": [
              "dtype('float64')"
            ]
          },
          "metadata": {},
          "execution_count": 210
        }
      ]
    },
    {
      "cell_type": "code",
      "metadata": {
        "colab": {
          "base_uri": "https://localhost:8080/"
        },
        "id": "qm9u2XQwCS1X",
        "outputId": "e0100946-6ee8-465d-baf7-392702c5e563"
      },
      "source": [
        "play_store_df['Size'].isnull().sum()"
      ],
      "execution_count": 211,
      "outputs": [
        {
          "output_type": "execute_result",
          "data": {
            "text/plain": [
              "1526"
            ]
          },
          "metadata": {},
          "execution_count": 211
        }
      ]
    },
    {
      "cell_type": "markdown",
      "metadata": {
        "id": "uJrel8kFCXd9"
      },
      "source": [
        "We have 1526 null values filling them with category wise mean of the Size."
      ]
    },
    {
      "cell_type": "code",
      "metadata": {
        "id": "JashY2YkBq89"
      },
      "source": [
        "play_store_df['Size'].fillna(play_store_df.groupby('Category')['Size'].transform('mean'), inplace=True)"
      ],
      "execution_count": 212,
      "outputs": []
    },
    {
      "cell_type": "code",
      "metadata": {
        "colab": {
          "base_uri": "https://localhost:8080/"
        },
        "id": "P8r5bQKiClD-",
        "outputId": "ff797b7f-ccbb-49d3-f6a7-9a67da65a596"
      },
      "source": [
        "# Checking for the Installs feature\n",
        "play_store_df.Installs.unique(),len(play_store_df.Installs.unique())"
      ],
      "execution_count": 213,
      "outputs": [
        {
          "output_type": "execute_result",
          "data": {
            "text/plain": [
              "(array(['10,000+', '500,000+', '5,000,000+', '50,000,000+', '100,000+',\n",
              "        '50,000+', '1,000,000+', '10,000,000+', '5,000+', '100,000,000+',\n",
              "        '1,000,000,000+', '1,000+', '500,000,000+', '50+', '100+', '500+',\n",
              "        '10+', '1+', '5+', '0+', '0'], dtype=object), 21)"
            ]
          },
          "metadata": {},
          "execution_count": 213
        }
      ]
    },
    {
      "cell_type": "markdown",
      "metadata": {
        "id": "X7CLnd2qCxKI"
      },
      "source": [
        "We can use the Installs columns category wise too and numerical wise too in our EDA section so we will not change it over here."
      ]
    },
    {
      "cell_type": "code",
      "metadata": {
        "colab": {
          "base_uri": "https://localhost:8080/"
        },
        "id": "dzSwi-saDeiV",
        "outputId": "648a2e8b-a0d5-4844-fea5-6a3d4297adee"
      },
      "source": [
        "play_store_df.Type.unique()"
      ],
      "execution_count": 214,
      "outputs": [
        {
          "output_type": "execute_result",
          "data": {
            "text/plain": [
              "array(['Free', 'Paid', nan], dtype=object)"
            ]
          },
          "metadata": {},
          "execution_count": 214
        }
      ]
    },
    {
      "cell_type": "code",
      "metadata": {
        "colab": {
          "base_uri": "https://localhost:8080/",
          "height": 115
        },
        "id": "qPwQgDmvDKZs",
        "outputId": "de63fc30-f3a3-413b-9730-16f3103cd511"
      },
      "source": [
        "# Type feature null values\n",
        "play_store_df[play_store_df.Type.isnull()]"
      ],
      "execution_count": 215,
      "outputs": [
        {
          "output_type": "execute_result",
          "data": {
            "text/html": [
              "<div>\n",
              "<style scoped>\n",
              "    .dataframe tbody tr th:only-of-type {\n",
              "        vertical-align: middle;\n",
              "    }\n",
              "\n",
              "    .dataframe tbody tr th {\n",
              "        vertical-align: top;\n",
              "    }\n",
              "\n",
              "    .dataframe thead th {\n",
              "        text-align: right;\n",
              "    }\n",
              "</style>\n",
              "<table border=\"1\" class=\"dataframe\">\n",
              "  <thead>\n",
              "    <tr style=\"text-align: right;\">\n",
              "      <th></th>\n",
              "      <th>App</th>\n",
              "      <th>Category</th>\n",
              "      <th>Rating</th>\n",
              "      <th>Reviews</th>\n",
              "      <th>Size</th>\n",
              "      <th>Installs</th>\n",
              "      <th>Type</th>\n",
              "      <th>Price</th>\n",
              "      <th>Content_Rating</th>\n",
              "      <th>Genres</th>\n",
              "      <th>Last_Updated</th>\n",
              "      <th>Current_Ver</th>\n",
              "      <th>Android_Ver</th>\n",
              "    </tr>\n",
              "  </thead>\n",
              "  <tbody>\n",
              "    <tr>\n",
              "      <th>8667</th>\n",
              "      <td>Command &amp; Conquer: Rivals</td>\n",
              "      <td>FAMILY</td>\n",
              "      <td>4.191153</td>\n",
              "      <td>0</td>\n",
              "      <td>27.930205</td>\n",
              "      <td>0</td>\n",
              "      <td>NaN</td>\n",
              "      <td>0</td>\n",
              "      <td>Everyone 10+</td>\n",
              "      <td>Strategy</td>\n",
              "      <td>June 28, 2018</td>\n",
              "      <td>Varies with device</td>\n",
              "      <td>Varies with device</td>\n",
              "    </tr>\n",
              "  </tbody>\n",
              "</table>\n",
              "</div>"
            ],
            "text/plain": [
              "                            App  ...         Android_Ver\n",
              "8667  Command & Conquer: Rivals  ...  Varies with device\n",
              "\n",
              "[1 rows x 13 columns]"
            ]
          },
          "metadata": {},
          "execution_count": 215
        }
      ]
    },
    {
      "cell_type": "markdown",
      "metadata": {
        "id": "KceqcfclDlTi"
      },
      "source": [
        "We have only single value so we will fill the Type in this record manually."
      ]
    },
    {
      "cell_type": "code",
      "metadata": {
        "colab": {
          "base_uri": "https://localhost:8080/"
        },
        "id": "prWPEMplECNI",
        "outputId": "b8dbdf95-9285-40ba-f812-8e43bc299e25"
      },
      "source": [
        "play_store_df['Price'].unique()[5:15]"
      ],
      "execution_count": 216,
      "outputs": [
        {
          "output_type": "execute_result",
          "data": {
            "text/plain": [
              "array(['$2.99', '$7.99', '$5.99', '$3.49', '$1.99', '$9.99', '$7.49',\n",
              "       '$0.99', '$9.00', '$5.49'], dtype=object)"
            ]
          },
          "metadata": {},
          "execution_count": 216
        }
      ]
    },
    {
      "cell_type": "markdown",
      "metadata": {
        "id": "hV2-7WpPESD8"
      },
      "source": [
        "Here we can see $ sign but to make Price column categorical we have to remove it and type cast it to float64."
      ]
    },
    {
      "cell_type": "code",
      "metadata": {
        "id": "24daJlp4DVK0"
      },
      "source": [
        "play_store_df['Price'] = play_store_df['Price'].apply(lambda x: float(str(x).replace('$', '')) if '$' in str(x) else float(x))"
      ],
      "execution_count": 217,
      "outputs": []
    },
    {
      "cell_type": "code",
      "metadata": {
        "colab": {
          "base_uri": "https://localhost:8080/",
          "height": 49
        },
        "id": "JMw_uGwyE5wI",
        "outputId": "a543335d-0889-4b2e-ff75-e4ca1e13c572"
      },
      "source": [
        "# Checking for the rows where Price is 0 and Type is Paid.\n",
        "play_store_df[(play_store_df[\"Price\"]==0) & (play_store_df[\"Type\"]==\"Paid\")]"
      ],
      "execution_count": 218,
      "outputs": [
        {
          "output_type": "execute_result",
          "data": {
            "text/html": [
              "<div>\n",
              "<style scoped>\n",
              "    .dataframe tbody tr th:only-of-type {\n",
              "        vertical-align: middle;\n",
              "    }\n",
              "\n",
              "    .dataframe tbody tr th {\n",
              "        vertical-align: top;\n",
              "    }\n",
              "\n",
              "    .dataframe thead th {\n",
              "        text-align: right;\n",
              "    }\n",
              "</style>\n",
              "<table border=\"1\" class=\"dataframe\">\n",
              "  <thead>\n",
              "    <tr style=\"text-align: right;\">\n",
              "      <th></th>\n",
              "      <th>App</th>\n",
              "      <th>Category</th>\n",
              "      <th>Rating</th>\n",
              "      <th>Reviews</th>\n",
              "      <th>Size</th>\n",
              "      <th>Installs</th>\n",
              "      <th>Type</th>\n",
              "      <th>Price</th>\n",
              "      <th>Content_Rating</th>\n",
              "      <th>Genres</th>\n",
              "      <th>Last_Updated</th>\n",
              "      <th>Current_Ver</th>\n",
              "      <th>Android_Ver</th>\n",
              "    </tr>\n",
              "  </thead>\n",
              "  <tbody>\n",
              "  </tbody>\n",
              "</table>\n",
              "</div>"
            ],
            "text/plain": [
              "Empty DataFrame\n",
              "Columns: [App, Category, Rating, Reviews, Size, Installs, Type, Price, Content_Rating, Genres, Last_Updated, Current_Ver, Android_Ver]\n",
              "Index: []"
            ]
          },
          "metadata": {},
          "execution_count": 218
        }
      ]
    },
    {
      "cell_type": "markdown",
      "metadata": {
        "id": "-wNOZ7esFNcj"
      },
      "source": [
        "As we do not have any rows we will fill the single Type record with Nan value manually."
      ]
    },
    {
      "cell_type": "code",
      "metadata": {
        "id": "8fKPXq6MFLKk"
      },
      "source": [
        "play_store_df[\"Type\"].fillna('Free',inplace=True)"
      ],
      "execution_count": 219,
      "outputs": []
    },
    {
      "cell_type": "code",
      "metadata": {
        "id": "gg0JwfbNFmfq"
      },
      "source": [
        "# Type casting the Last_updated column into Date Time Format  \n",
        "from datetime import datetime\n",
        "play_store_df[\"Last_Updated\"]=play_store_df[\"Last_Updated\"].apply(lambda x: datetime.strptime(x, \"%B %d, %Y\"))"
      ],
      "execution_count": 220,
      "outputs": []
    },
    {
      "cell_type": "code",
      "metadata": {
        "colab": {
          "base_uri": "https://localhost:8080/"
        },
        "id": "2lyh2yxkFm5m",
        "outputId": "5151340f-dd1a-4f45-d80e-51d3f9355e47"
      },
      "source": [
        "print(list(play_store_df.Current_Ver.unique()))"
      ],
      "execution_count": 222,
      "outputs": [
        {
          "output_type": "stream",
          "name": "stdout",
          "text": [
            "['1.0.0', '2.0.0', '1.2.4', 'Varies with device', '1.1', '1.0', '6.1.61.1', '2.9.2', '2.8', '1.0.4', '1.0.15', '3.8', '1.2.3', nan, '3.1', '2.2.5', '5.5.4', '4.0', '2.2.6.2', '1.1.3', '1.5', '1.0.8', '1.03', '6.0', '6.7.12.2018', '1.2', '2.20', '1.1.0', '1.6', '2.1', '1.0.9', '1.3', '1', '2.0.1', '1.46', '1.6.1', '11.0', '3.0', '1.7.1', '2.5.1', '1.0.1', '2.493', '1.9.1', '1.7', '2.20 Build 02', '1.37', '0.2.1', '4.47.3', '1.9.7', '2.2.21', '2.9', '1.79', '2.3.5.1', '8.31', '1.1.5.0', '10.0.2', '1.10.3', '3.20.1', '1.0.3', '1.4', '4.6.5', '2.8.2', '4.0.3', '1.40', '1.5.18', '2.3.4', '2.17', '6.10.1', '2.3.0', '1.0.6', '1.9', '5.4', '3.0.1', '8.0', '3.3.9', '1.20', '2.3.09', '1.4.2', '18.5', '1.15', '2.0', '1.2.13', '1.0.2.0', '3.1.89', '2.2.0', '1.9.2', '1.3.2', '3.2.1', '2.0.075', '1.911805270', '9.1.363', '1.1.6', '2.3.18', '15.0', '18.05.31+530', '5.0.6', '3.12', '1.28', '6.0.8', '9.00.950462', '14.0', '3.05', '2.5.3', '7.0.4.6', '3.1.7.9', '3.9.1', '3.4.2', '2.19.0.204537701', '9.7.14188', '4.9.10', '5.2.8', '3.3', '3.550.2', '4.6.30', '7.3.21', '1.1.13', '3.0.1.11 (Build 311)', '5.1.5', '2.3.6', '4.1.28165.0716', '99.0.0.35.75', '12.2.4', '1.0.6.8', '3.4.5', '2.5.6', '1.12.5', '4.9', '0.9.4', '1.1.07.6', '1.0.5', '1.2.6', '3.9.2', '3.4.49', '1.5.2', '3.4.6', '1.12.0', '1.7.14', '3.24.1', '18.7', '3.19.005', '4.9.1', '6.1.2', '6.4.4', '3.7.5', '2.6.158', '5.20.7', '4.3.0.508', '10.46.2', '11.1.0', '1.2.287', '3.0.4651', '3.1.4.0', '3.3.0', '2.22.397', '2.0.19', '1.1.7.0', '2.11.3', '1.08', '3.4.3_world', '1.2.12', '6.3.0', '2.3.1', '3.1.0', '4.7.3', '3.16.0', '4.1.0', '6.1.1', '1.7.7', '5.0.12', '4.3.0', '4.2.0.2', '1.01', '2.3.3', '2.4.25', '1.8.9', '37.0.0.7.163', '2.4.1', '5.29.3', '9.8.000000010492', '9.8.000000010501', '2.8.4.201036949', '1.3.4', '11.8.6', '24.6.6', '3.2.0.100171', '47.1.2249.129326', 'R6.0.3', '5.2', '69.0.3497.24', '6.7.9.1', '1.60.0.31354-release', '11.4.0', '2.18.116', '7.5.1', '37.1.206017801.DR37_RC14', '7.5.3.20547', '2.2.7600', '12.8.5.1121', '9.9.0', '42.0.0.2059', '0.1.100944346', '6.1', '3.0.4', '7.3(800241)', '7.73', '4.98', '7.21', '3.47', '6.5.1', '5.65.0', '5.22.18.0006', '1.4.1.0', '2.2', '6.4.0.4', '4.5.1', '5.85.1', '196', '3.0.7', '1.26.001', '3.5.0', '8.1.2-6310', '5.86', '5.1.2-6310', '2018.1.715', '3.9.7', '1.286', '6.19.1', '2.17.3', '2.2.245', '4.5.4', '5.28.0', '5.403', '1.9.4.74', '5.0.9', '9.8.376', '2.3', '3.2.0', '2.3.17', '2.9.8', '7.2.29', '2.6.139', '11.10.1', '2.5.2', '6.1.3', '4.17.2', '3.5.0.1', '2.6.141', '4.19.0.2320', '6.6.5', '1.639', '4.4B', '1.308.us', '5.0.1', '2.45', '4.5.5', '1.2.1', '4.0.18', '1.6.5', '1.31.4', '1.230', '4.1.2', '15.8', '6.3.7', '4.8.5', '6.4.6', '2.3.0.1781', '4.3', '2.9.6', '3.8.75a', '3.0.0', '1.31.3', '1.6.6', '2.0.5', '2.2.0.1748', '3.0.15', '2.4.0', '1.55', '12.0.4', '1.15.0', '6.4.1', '5.2.14', '8.7.2', '1.1.46', '2.8.0', '3.4.1.1', '5.5.7', '1.5.4.0', '4.9.2 (Oasis)', '3.10.5', '2.2.7', '1.17', '3.1.3', '0.0.73', '4.7.6', '5.2.9', '4.3.2', '3.6.3', '4.4.1', '5.16.2', '5.3.3.13289', '5.0.8', '0.1.11', '1.4.0', '2.4', '2.5', '8.2', '4.20', '1.', '2.2.9', '3.52', '5.5.8', '1.0.7', '3.5.4.2.3', '1.1.1', '1.2.9', '2', '1.5-beta', '4.5.0', '3.7', '1.0.2', '4.813', '1.0.82', '4.1', '3.2.5', '5.0.0', '1.94.9', '1.2.8', '1.3.8', '2.1.8', '2.3.7', '2.9.0', '2.16.11.10', '1.2.0', '20.7.2', '2.24', '2.6.2', '2.51.0', '2.2.4', '3.7.0', '10', '2.8.1', '5.0.4', '2.15.1', '3.14.15', '1.10.0', '1.3.0', '4.7.0', '4.5.2', '5.7.2', '3.5.2', '5.5.2', '4.2.8', '7.2.3633', '1.8.1', '7.2.3634', '4.1.3', '2.48', '5.2.1', '0.29.74', '10.9.1', '4.2.3', '2.09', '2.3.9', '13.9.0.161', '3.6.0.115_FN', '8.5.2', '1.12.1', '4.8.2', '15.9.4', '9.12.5', '5.0', '4.21.1', '2.6.6', '1.16', '5.7.0', '2.4.4', '5.7.1', '1.5-play', '1.1.1-play', '1.02', '2.13.5', '3.43.3', '2.05.0010', 'v1.8b22p13', '3.7.3', '4.6.2', '4.0.5', '7.3', '2.6.6.11', '1.1.3.2', '9.1.4', '3.0.231.18141', '2.3.34 Prod', '2.08.78.2', '18.07.0', '3.5.2.2', '2.19.0', '2.9.43', '2.1.1', '6.18.3', '2.9.4', '01.01.66', '4.8.6', '3.1.4', '2.0.8', '11.45.0', '8.0626', '43', '4.18.1', '3.17.2', '3.3.1.41', '4.0.2', '16.0.0.437', '6.6.1', '3.3.1.42', '7.5.0', '4.003.1', '1.0.20', '1.0.64', '2.3.2', '8.1', '7.2.3', '4.2.0.8447', '4.426', '4.1.7', '8.4', '1.57', '1.5.0', '4.2.1', '4.3.6', '2018.07.31229', '4.0.19', '11.1.1', '1.75', '1.107', '16.11.8', '1.14', '1.1.9', '42.0', '2.2.2', '18.4', '1.0.11', '3.05.30.16', 'Cannonau 3.11.11', '8.0bld14', '4.6.0', '20.1.0', '8.18', '10.78', '4.1.1-0-prod', '3.9.0', '5.16.0', '6.5.7', '3.115.27', '2.31.1', '3.0.5', '2.6.0', '1.17.2', '5.10.1.40699', '6.8.0.109', '6.28.0', '5.38.1', '2.7.4', '2.9.12', '3.22.0', '3.22.1', '2.70.206190089', '3.1.6.12', '6.39.1.4', '2.2.12', '2.5.0.26', '6.0.16', '2.29.01', '1.13.2.11', '2.0.4', '2.12.100', '2.53.2', '5.1.1', '1.14.1', '2.5.7', '2.1.4', '1.17.1', '1.4.11', '1.18.0', '3.1.16', '2.9.5', '16.6', '3.2.18.07.30', '1.9.9.9.3', '1.28.0.5402', '4.63', '2.10.3', '3.6.2', '3.04 - Beta', '6.8.2', '1.1.16', '1.1.39', '4.5.2.1', '3.0.22', '6.0.6', '2.131', '4.10.0', '6.0.2', '5.1', '2.34.29', '5.2.203', '8.44.2', '5.9.1.0', '7.8.8', '9.7.0', '6.7.0', '6.29.37589', '5.15.0', '18.6.0.10', '2.12', '3.2.0d', '3.1.5', '4.0.30', '1.9.117', '5.2.2', '7.12', '4.3.3', '6.0.1', '2.14.36', '4.11.1', '3.3.21', '5.3.8', '3.5.5', '3.3.6', '7.9.0.0', '2.1.0', '5.8.5', '3.2.7', '4.26', '1.2.2', '3.6.6', '4.0.0.427', '3.17.1.0', '24.5.0', '1.4.4', '2.0.3', '2.76.2.0-android', '5.7.23', '4.2.6', '9.15.0.2020', '2.6.15', '3.1.14', '2.4.11', '1.161.10002', '11.11.1', '4.11.3', '1.0.14', '5.23', '5.31.75', '1.0.26', 'p5.7.1', '3.0.6', '1.1.22', '18.7.1', '4.0.1', '1.0.12', '2.17.0', '2.6', '6.15.0', '3.401', '6.5.3', '112.0', '5.13.0', '3.48', '2.48.3', '5.3', '5.14.0', '4.4', '10.0', '8.2.0', '7.2.5', '6.2.73', '6.7', '16.0', '7.0', '3.1.9', '2.6.1', '1.29.15', '3.6.4', '2.0.16', '3.22', '7.3.4-play', '2.9.18', '10.24', '37', '5.0.2', '5.5.1', '8.8.14', '3.19.4', '3.3.0(1)', '1.11.4', '4.5.1.123', '10.2.0', '4.9.8.1', 'Public.Heal', '1.31.0-15160.950adac99', '6.3.1', '1.92', '4.8.0', '8.2.0_8', '7.4', '9.8.1.7425', '3.5.9', '9.6.8', '8.2.1', '3.6', '3.10.8', '220.0', '1.04', '3.2.4', '2.4.2', '2.6.0.287', '858', '7.9.0', '4.7.13', '2.0.6.9', '1.22.0', 'v3.1.1', '1.6.1.2', '4.5.15', '1.7.3', '5.20.38', '4.4.2', '1.7.2.10', '6.7.5', '1.02.2018.11', '6.0.0', '1.8', '5.28', '8.0.20180212', '3.00', '5.9.1', '4.2.2', '5.1.2', '5.3.0.54.7', '9.0', '10.19', '5.2.4(881)', '1.0.0.21_180410', '5.8', '4.90', '16.7.1', '3.9.3', '6.2.0', '8.00.775375', '2.4.12-r244', '9.6.3', '10.19.0.0', '2.15', '1.5.1', 'Version:6.97', '1.5.3', '7.0.8', '02.00.06', '5.1.3', '9.4.2', '6.2.1', '3.8.15', '4.35', '5.2.2018010801-1', '2.7.3', '3.9.5', '8.5.1', '2.0.9', '3.1.2.1', '1.6.2', '9.1.0', '2.2.6', '12.1.0', '8.3.3', '5.600.42', '3.1.6', '5.800.04', '3.1.8', '2.347.225742', '1.90.0', '1.129.0.2', '2.137.0', '1.20.1', '1.49.1', '1.4.77', '2.6.9', '2.2.00', '3.8.5.Go', '1.118.4', '10.322.16', '6.6.3', '2.2.3181', '4.0.0', '5.13.007', '4.8.4', '1.4.0.1', '7.9.3', '1.0.16', '2.21.5', '5.66', '3.5', '1.3.7', '2.1.10', '1.37.2', '1.0.27', '5.1.8', '3.7.2.51', '3.7.2', '3196', '1.751', '5423', '1.0.47', '1.21.0', '2.12.5', '4.8.0.132', '1.5.4', '1.7.40', '2.8.2.59', '5.064', '3.3.3179', '1.7.2', '2.10.2', '1.2.7', '3.1.0.226', '0.111.3', '5.200', '1.24', '1.7.0', '1.4.6', '2.0.6', '1.0.1.049', '2.5.0', '2.79.0', '1.3.3', '0.7.0', '1.8.2', '1.4.51', '1.3.1', '3.04.1', '1.1.4', '3.00.11034', '1.9.3', '1.2.5', '1.11.0', '1.8.0.900', '5.6.5', '2.2.3', '4.9.31', '3.6.0', '0.5.4', '1.180271.184729', '1.3.205', '2.1.1.4.0', '1.250.078', '2.0.2', '1.05.20', '3.30.4.83', '2.0081_206', '2.2.1', '2.1.2', '1.2.1.1712080', '2.21.1', '1.13.12', '5.39.1', '5.8.1', '19.1.0', '1.3.15', '2.3.5', '4.6.2.46103', '12.0.4.62276', '1.93', '1.8.225278', '3.0.2', '1.14.0', '1.76', '1.1.8', '1.1.40', '1_39_93', '79.0', '1.9.38', '1.8.20', '1.1.5', '2.11.1', '1.8.4', '108', '3.1.1', '1.1.7', '2.2.8', '0.5.8', '8', '1.15.2', '1.11.2', '4.1.1', '2.6.61', '6.2', '2.11.2', '57.0.8', '2.9.3181', '1.0.109', '3.15', '60', '1.7.04', '1.3.35', '2.5.3182', '1.10.12', '1.4.12', '1.9.3901', '1.49', '1.24.3181', '1.1.6.7', '1.8.3181', '2.0.3165', '1.7.101', '2.2.3169', '1.0.3122', '8.25.10.00', '2.7', '1.2.3-play', '2.3.3122', '3.5.3183', '8.4.3180', '1.73', '2.2.3172', '1.0.89', '2.180723', '1.1.2', '2.0.5.0', '8.25.10.01', '1.6.4', '2.0.7.4', '5.3.11', '7.32', '3.4.0', '10.180530', '149', '1.8.3', '1.180702', '3.2.473.202', '1.221', '1.4.3', '6.7.5222', '1.1.23', '1.28.01', '2.1.6579', '1.47', '1.20.2', '3.2.0h', '2.1.20', '3.49', '37893', '3.200.18289', '1.4.2.1', '1.19', '2.4.9', '18.1', '3.6.1', '3.7.2.7', '2.19.01', '7.5', '1.15.3028.0', '1.6.3028.0', '2.9.7', '1.2.16', '1.19.56.434', '0.1.0', '4.2', '20180609', '2.4.15', '3.3.1', '1.16.5', '18.2', '2.0.7', '3.46', '2.2.54', '1.3.51', '1.38.0', '3.6.17', '7.2.0', '1.35.23', '28.0.14', '6.14.091', '6.4.0', '1.5.2.1', '7.0.1', '3.0.1.0', '6.5.0', '2018.5.47', '19.0', '1.17.0', '7.6.14', '7', '1.10.0.user.pro.release', '4.1.5 (Steglitz)', '7.1.17', '3.4.3', '1.50', '2.29', '4.4.5', '6.0.4', '2.1.35', '5.4.8', '3.19', '1.1.0.0.1487', '3.27.3', '3.25.0', '8.0.226', '5.9.6', '6.02.000', '3.18.2', '7.4.1', '2.11.0', '4.36', '1.0.02', '2.25.0', '3.52.1', '2.1.3', '1.16.0', '25.3.1', '5.11', '1.3.185', '1.7.1 (946)', '4.23.0', '3.8.0', '1.2.3.2', '4.4.7', '2.1.11', '4.3.2.315', '2.6.5', '3.16.4.1669', '2.7.36', '4.9.6', '2.1.0.372', '3.5.7', '1.0.0.10', '4.5.3', '2.7.38', '1.6.17', '3.1-2018 – (13)', '6.6', '2.7.6', '1.830.0.564-(e405bb2)', '10.4.1.018_06', '1.3.5', '300000.1.11', '1.0.10', '2.0.0 (35717)', '2.01.12', '1.2.3-DEBUG', '1.0.72', '2.0.101', '0.1', '5.0.16', '1.0 Super Ear Hearing', 'PN.1.0', '0.1.2', '1.0.51.0.3', '3.4.0.10', '10.4.1.015_05', 'Initial', '1.12', '5.51', '10.4.1.000_00', '4.0.9', '3.0.8', '2.5.0 b665', '0.6.88', '1.0.32', '43.0', '4.4.3', '0.0.1', '1.9.0.0', '1.4.15-free', '2.4.12', '0.1.1', '4.95.4', '2.1.6', '2.6.10', '2.1.3.2', 'T4.6.5-tl2.0.1', '1.8.19179', '13.0', '4.2.4', '4.81', '8.00.752746', '1.23.3.0', '50.2 lite', '4.1.202', '3.10.26', '7.3.1', '3.8.1', '7.0.7', '14.0.13', '7.23.4', '2.69', '4.6.2.0', '1.8.0', '27.0', '10.6.3', '4.18.962.5', '2.16', '5.4.7.1', '16.14.0.850', '4.20.5', '2.25.17', '14.2.1', '16.14.0.100', '11.7.3.0', '10.2.1', '3.8.2.2', '6.3.8', '2.8.7', '4.16.2', '4.26.7', '3.2.6', '4.9.3', '4.7.1', '4.9.5', '3.11.1', '4.7.5', '3.27.1', '7.8.1', '5.3.0', '4.33.0', '6.25.0+1906001476', '29.14', '7.0.14', '4.89', '3.0.3', '5.3.73', '8.9.1', '5.21.1', '7.36', '7.2.1', '2.24.0', '2.124.01', '6.9.2', '18.10.157066', '4.31.2', '3.28.1.3.1359', '9.0.30', '3.13.09', '6.10.0', '3.69.0', '11.6.0', '9.0.0', '6.4.2', '3.9', '5.6.8', '5.3.1', '4.4.9', '13.6.4', '4.16.0', '5.10', '4.4.4', '7.4.2', '5.13.1', '2.18.2', '2.1.9', '584', '9.6.4', '5.0.508', '7.6.5', '1.6.0', '1.8.5', '8.9.9', '1.5.3.8', '22.0', '2.15.180', '6.9.031', '1.2.31', '1.8.0.170824_9', '6.21', '2.73.672', '2.74.685', '1.43.3', '4.0.10', '4.7.4', '3.1.8.180529', '4.0.26', '4.47', '1.43', '6.1.7.100920', '9.3.1', '6.1.6', '1.32', '4.8.7', '3.31.4', '2.2.93', '6.2.9', '1.5.5', '4.6.0.0', '1.4.0_180703', '4.2.14', '4.70', '6.4.3', '6.1.0', '71', '4.1.0.1', '3.3.8', '3.2', '2.0.17.9', '3.8.3', '1.38', '9.40.3', '4.5', '4.21', '6.71', '2.0.18', '2.19.0.201907232', '4.0.7', '1.7.16', '3.3.5', '8.1.0.6', '6.17.2', '10.8.1.330', '4.3.1', '5.4.2', '1004.0', '2.24.2.0', '6.3.3', '3.6.7', '1.5.13', '2.9.9go', '2.7.0', '6.5', '5.5', '12.0', '6.4.8', '1.2.677', '06.11.00', '7.3.0', '3.17.0+3', '5.12.4', '5.10.5', '2.6.3', '4.5.19.56', '5.9', '4.4.0', '1.31.0', '2.0.22', '8.9.3', '4.18.0', '2018.6', '2.46.1', '3.21.324', '7.0.2', '2.5.7.1', '7.1', '2.28.1', '7.8.0', '4.4.15', '7.1.0', '3.2.12', '6.9.12', '3.0.13', '5.5.9', '2017.7.1', '9.4.0', '7.1.7.4', '18.30.0', '10.9.8 (Play)', '5.48', '6.7.1', '1.10.0.205086730', '4.6', '17.4.1', '9.2.17.13', '5.2.0 21127', '5.6.1', '5.10.6.2.8466393', '5.16.1', '4.0.9.1', '10.7.8.111', '4.1.21', '8.13.3', '13.0.16', '4.13.2', '11.0.269 (m)', '2.5.26', '8.60.0.2586', '4.38.176', '6.2.3', '8.8.2', '2.1.56', '5.7.3', '7.3.3', '4.0.21', '11.26', '17.7.8', '9.7.1', '2.32.2', '1.24.5', '53.89.55', '4.15.1', 'v5.4.3', '4.9.2', '18.21.0', '4.0.38', '8.1.171', '3.19.35.999', '1.28.1', '13.8.3', 'v3.7.93', '1.02.53', '3.1.2', '0.2.32', 'MyMetro_HTML_2.0_430029', '7.6.1', 'v8.0.1.8.0629.1', '2.1.02.4477839', '8.1.6', '4.5.28_ww', '1.0.204375696', '1.7.4', 'v7.0.7.1.0625.1_06_0629', '6.0.61.5', '11.7.0', 'v7.0.9.1.0526.1_06_0704', '6.2.6.7', '1.8.203182757.armeabi-v7a.release', '5.36', '9.7.753080', '10.4', '3.1.0.1126', '1.4.9', '3.5.6', '32.1', '2.1.54', '3.1.00', '1.51', '20180517', '4.0.6', '1.6.11', '2.27.1', '2.5.1.7592', 'v150', '4.20.1', '3.4.500', '3.11.2', '4.78.06', '6.06.14', '4.32.07', '5.0.0.8', '1.0.19', '1.33', '6.1.7.5', '1.17.4', 'v3.9f', '3.6.21_pre', '5.34.10', '1.284.1.83', '5.41.0', '2.6.2.1', '1.284.1.126', '2.5.5.9', '1.8.0.24_180511', '4.12.0.44682', '3.3.a', '2.0.0.39_171124', '1.9.1.180419172630.4a15962', '6.7.25.2018', '2.3.27', '40.0', '6.7.24.2018', '1.9.2.180419172639.dbf3246', '6.6.28', '2.11.5', '1.13', '2.60', '5.7.8', '5.7.6', '2.85', '2.41', '4.0.0.7', '4.8.3', '2.7.2', '6.07', '18.0', '1.9.7.07', '2.32', '2.5.9', '4.8.2.2195', '16.0.10325.20043', '4.6.4', '68.0.3440.91', '2.2.194', '16.0.10325.20059', '0.1.187945513', '16.0.10325.20024', '4.1.4', '4.1.8.2.2', '2.1.5', '1.10.0.33_180403', '3.5.12', '2.2.1B216', '8.0.1.0', '3.2.258b ae1da5165', '4.3.2.0', 'v1.39.3', '5.0.44', '1.7.9', '17.7.20', '12.8.2', '9.3.5776', '5.0.1.11068-production', '2.4.5', '2.5.4', '7.3.30', '11.1.3', '4.2.11', '1.35.2', '13.4', '3.4.4.4-GP', '4.3.19', '12.8.2-pi', '1.07.59', '4.0.7.3', '1.0.167', '1.26.2', '2.30.1', '2.3.3-play', '1.9.1.147.0-google', '4.4.0.4', '2.15.2714', '2.9.9', '4.7', '2.04.2714', '2.10', '2.03.2714', '1.5.3.1807', '1.1.27.477-free', '3.7.1', 'FreeTimeApp-aosp_v3.14_Build-1.0.204367.0.13014', 'Natalia Studio Development', '8.9', '1.3.9', '8.1.2', '1.11.93', '30', '12.2.6.3660', 'v7.0.02.3.0516.1_06_0713', '1.3.6', '7.1.12.12', '5.9.7', '7.1.34.28', '9.9.1.1910', '1.3.A.2.9', '3.18.5', '2.9.10', '1.8.4.5', '8.50.935520', '12.2.7.3671', '4.1.11 - Hegoa', '1.0.34', '3.1.7', 'v1.0.3', '17.6', '1.78', '9.7.6', '1.251.54', '7.10.621414', '1.4.08.2', '2.6.71', '6.5.852058', '1.137.22', '9.51.755029', '4.13.3', '6.2.2.17136', '1.32.1', '6.6.4', '2.71', '5.17', '8.2.9', '5.2.5', '5.8.0', '8.3', '3.1.6.9', '5.2.0', '4.2.2254.129147', '6.7.3', '9.1', '8.0.6', '4.11.0.611033', '18.201.01', '1.9.0', '5.6.40', '3.12.0', '3.0.42', '3.53.2', '4.1.0.72', '3.000.1', '5.38', '4.4.2.19', '2.42.1.9', '6.5.1725', '6.19.5', '3.5.13', '3.4.4', '5.9.1.1347176.a3ca6ab274', '3.19.11', '16.3', '19.2.8', '9.2.3', '5.1.10', '3.1.12', '1.8.7.0', '6.7.15.7', '17.4.11', '4.8.1', '5.7', '3.2.2', '116', '18.0.2', '2.10.06', '04.08.00', '5.1.0 free', '1.39', '7.16.8', '5.44.1', '5.2.10', '5.4 (30)', '4.76', '5.072.1830.2', '9.3.3', '8.10.1', '1.2.1.49', '6.5.2', '8.6', '1.3.13', '5.4.4', '4.0.4', '3.0.11', '0.81 beta', '9.3.6', '3.7.1a', '1.16.2', '1.9.8.0', '1.19.1', '1.0.21', '1.58', '1.0.17.2', '4.5.19', '2.0.3.1', '2.8.0.17', '1.10', '8.0.0', '7.1.1', '4.0.3.5', '2.16.5426', '1.18.2', '1.1.11.11', '4.94.19', '1.05', '15.1.2', '1.5.9', '1.0.17.3905', '0.8.17', '1.5.10', '1.1.7.4', '0.19.13-SPECTRUM', '0.9.10.f96', '27500000', '8.3.4', '4.1.07', '3.2.8', '2.2.3.3', '2.35.8', '7.1.8', '1.7.110758', '2.6.7.487220', '1.7.1.3', '1.52', '4.5.0.10701.GP', '7.7.9', '4.2.133', '1.2.115', '10.23.2-964159b', '1.35', '1.078', '3.0.58', '1.09', '4.9.18', '5.3.5.16', '1.0.988', '17.4.0014017', 'version 0.994', '3.0.0fr', '2.5.1.7594.psb', '1.5.8', '1.4.large', '1.640', '1.91', '1.4.1(0629A)', '3.0.20', '14.6', '2.23', '3.1 Release b2', '2.14', '5055.524.5', '16.7', '1.0-build20170819', 'a.2', '3.5.3', '10.0.3148', '2.5.6.11', '1.11', '2.277.0', '5.26', '2.44', '1.12.5.1', '1.5.1-GP', '2.3.1.8', '1.279.13.98', '3.8.2', '0.4.4', '1.7.2992', '5.9.0', '9.14.1', '9.2.0', '31', '1.8.19106', '4.1.10', '3.0.12', '3.0.57', '1009001', '3.01', '1.53', '5.206', '2.1.0.2173', '1900001', 'v8[1.0.10]', '2.4.8', '3.25.3', '7.46', '2.2.1.3', '1.42', '23.0', '9.55', '1805.0618.1637', '3.6.0.28', '3.5.1.8', '1.2703.273', '4.0.55', '1,01', '2.18', '3.1.0.1-r4', '3.8.8', '3.4', '2.07', '7.0.4', '32', '0.1.22', '1.00.02', '3.42', '15.6', '1.0.28', '1.00.00', '1.0.1.24', '1.80.03', '6.1.7', '1.64', '0.54.2.4', '0.11', '8.3.2', 'v2018.Apr.12.16', 'v2018.May.15.14', '5.0.109', 'H7SubTV0.1_TV0.4', '1.2.A.Exceed.Paid', '1.0.B+.Exceed.Paid', '0.9.3', '4.0.8552', '12', '4', '2.244', '1.0.100rc1.withoutKeysync', '3.4.1', '1.1.2.1', '2.0.13', '3.49.0202', '1.0.2.1', '1.8.3111', '7.3(823181)', '1.10.4', '2.100', '1.6.3', '3.002', '1.1 Build 226', '2.03', '1.22', '1.1.06', 'v2', '1.574', '1.1.52', '1.0.98_ww', '2.31', '12.6', '3.5.02.15', '1.07', '2.1.0.032', '9.5.0', '1.36', '5.9.0.0031', '0.1.5', '1.1.50', '2.40', '10.1.1', '1.0.2-alpha4', '1.5.2.4-23', '1.5.13-3598', '1.06', '1.0.4.3', '8.8', '0.16', '2.15.1.4', '1.1.6.1', '5.1.0', '263.16.29', '3.04', '1.2.6 (94)', '1.1.47', '1.0.24', '1.1.6.6', '1.4.1', '4.2.17', '2.0.40', '4.16.10', '2.8.4', '1.0.3386', '1.1.4.38', '6.1.5', '1.0.144431', '7.5.9', '1.23.0', '1.2.3.4.5', '2.0.0.11', 'v1.0.50', '6', '1.1.0.0402', '1.935', '5.9.4.0', '3.8.5', '1.7.11', '1.6.22', '1.9.1.013', '3.1.50', '2.400.022', '65.0', '4.01.00', '4.54', '1.18', '2.92', '3.11', '1.62', '1.4.7', '1.091', '5', '3.3.8.03082017', '2.29.2', '2.4.0.7', '1.25.0', '2.94', '6.11.4', '1.77', '5.6.2 (US)', '0.1.219', '1.0.208', '1.26', '1.0.6.4', '3.11.0', '02.02.0045', '1.60', '4.2.45', '1.7.6', '1.25', '1.8.7', '4.16', '1.23', '1.21.1', '3.39.0', '3.0.27430.4799', '4.9.0', '1.1.0.0', '2.01', '4.17.82', '1.5.12', '5.1.9', '2.7.0621', '1.0.0.9', 'acremotecontrol18', '1.2.84', '1.0.18', 'v67_slk3.0_20180115_01', '2.1.20180804_01', '0.0.2', '1.3 acremotecontrol', 'airConditionerMaintenance_13112015', 'v1.1072.35.0', '0.8', '3.8.4', '11;11.26', 'acremotecontrol-v7', '1.5.14', '7.1.4', '4.34.0', '3.3.270', '1.0.52', '2.13.2', '25', '5.6.0', '1.1.4.1296', '2.0.1027', '2.0.131112', '1255162018', '1.8.6', 'v1.0', '0.0.3', '2.12.0', '11.0.0', 'v4.29.0.9', '117', '1.8.2.7', '8.3.0', 'cli-6.5.0', 'v2.7.11.6', 'v2.7.10.6', '1.5.1.182070924', '5.3.4', '8.05.18.14250', '2.7.8', '1.3.0.6', '9.0.00', '1.24.1', '5.26.0', '3.1.10', '30.0.0', '2.4.3', '300000.0.95', '300000.0.98', '3.5.1', '300000.0.97', '300000.0.85', '300000.0.91', 'Version 1.20', '300000.0.78', '300000.0.94', '300000.0.80', '300000.0.90', '2.26.5.0', '300000.0.81', '300000.0.79', '300000.0.93', '300000.1.08', '300000.0.96', '300000.0.86', '1.5.062', '300000.0.84', '300000.1.01', '1.5.49', '1.1.9.1', '132', '20', '4.435', '1.2-Release', '0.33', '10001008', '3.4.23', '2.0.949', '1.3.1-lite', '11.04', '0.0.52', 'closed', '1.5.6', '1.10.5', '2.13.0.65', '1.6.3.1', '18060104', '1.0.59', '5.62.1', '1.0.0.0', '2.1.9f0', '0.46.91', '568', '39.231', 'newversion', '5.3.2', '1.0.0.1', '666', '2.0.1.966', '3.4.4.3.3', '3.7.10-0d44b899', '6.0.3', '3.2.3', '5.29.77 Domain 427', '2.6.22', '10.10', '2.1.7.3', '2.9.1', '2.137', '1.0beta', '1.4.5', '1.7.22', '1.54', '2.8.307', '5.0.108', '1.2.2_comAds', '3.4.8', '1.4.3.104', '1.34.1', '2.11', '7.2', '2.8.7.78579', '6.2.6', '1.23.1.2', '1.2.97.3042', '2.29.3118', '1.9.22', '4.0.14', '2.59.8', '1.3.6.4', '1.42.2', '8.0.0130', '1.6.7.1', '1.2.2.0', '13', '3.0.188', '2.003', '1.3.14', '1.0.103', '6.4', '1.0.0.4', '3.30', '1.10.1', '1.0.63', '3.1.6z', '2.1.22', '1.7.0m', '0.5.10011', '1.10.6', '3.1.2b', '3.0.5.2', '3.6.1a', '1.375', '1.2.3.1', '1.1.0.3', '1.5.341', '0.46.0', '1.131.2', '1.12.0.1654', '1.7.5', '4.70.30', '1.2.2.122', '0.8.6', '2.25', 'v3.4.0-3', '5.1.13', '7.8', '20180608', '20180620', '1.0.0.8', '1.11.39', '5.17.2.009', '3.1.0 (build 1210)', '18.6.2', '4.05', 'Z (Special Edition R9)', '1.85', '5.9.006', '1.8.0716', '1.8.0502', '2.47.2', '5.06', '1.35.1', '7.0.0', '1.00.33', '0.8.0', '1.021.10', 'Cow V3.15', '4.2.1.4174', 'Cow V3.11', '7.2.2', '11.17.4.1024', '5.0.0.1442', '5.2.002', '3.4.406', '1.0.136', '1.0.08.73', '0.9.16', '1.0-a22936.127', '3.3.2', '3.0.10', '8.2.0.84', '3.9.4', '3.1.0.2', '2.5.21', '3.6.46', '1.3.9b', '3_1', '1.6(3)-demo', '2.04', '5.0.3', '1.0.142', '1.0.261', '1.0.3.1', '10.6', '2.0.0(9)', '5.805.180306', '4.2.31', '7.9.2.6', '3.0.830', '16.51.1', '9.1.284', '6.0.19', '6.3.4', '1.9.10', '1.6.0.0', '1.0.23', '1.9.6.6', '1.246', '0.1.801', '2.0.38', '2.6.12', '1.48', '0.0.7', '6.3.16', '10.1.0', 'Final', '5.2.4', '2.3.216', '3.15317', '2.3.14', '0.0.5', '1.1.15.12', '1.70', '1.2.14', '1.0.499', '11.1.1.179661', '1.401', '1.00.10', '5.1.6', '5.1.7', '0.0.9', 'v2.0.02_prod', '8.0.1', '1.0.606877', '2.8.3', '3.7.17', '2.42', '250', '2.55', '3.55', '2.22', '3.52.0', 'Arrow-202', '3.1.891', '2.10.7', '1.8.12', '2.5.16.6', '3.1.1281', '1.16.32', '3.2.9', '3.44.1', 'v1.1-20151030', '1.8 P', '0.9.2', '3.44.2', '7.0 RELEASE', '2.2.180712.112152', '4.17.38', '2.7.1', '20.0.0.0', '8.9.2.0.0', '2.6.142', '5.54', '9.2.4', '2.0.10', '3.6.5', '5.0.1.3', '2.5_20', '6.2-pro', '6.2-lite', '6.2-begina', '6.2-sayc', '1.29', '26.1.0.20180713', '1.126', '1.1.10', '1.2.4.69', '1.1.12', '7.4.0', 'v1.3', '1.4.8', '0.4.0', '1.3.34', '2.12.1', '0.0.42', '2.0.160818', '1.5.140718', '1.3.140606', 'BL ONLINE PERSONAL TRAINING 7.9.0', '1.02.01', '10.05', '2.6.150226', '1.38.1', '1.0.46', '1.11.1prod', '1.16.21', '0.8.129', '2.53', 'v1.2', 'v1.1.6', '2.13', '2.0.14.4', '1.0.36', '35.119', '1.3.21', '1.18.35', '5.4.7', '2.22.0', '1.3.20', 'Version 1.3.1', '2.28', '2.5.80', '2.21', '1.0.8.506', 'Rocksteady 1.3', '1.3_4', '1.2016', '26.0', '2.46 Saber', '7.9.0 (5192)', '4.4.14.4487', '8.3.6-e04ac87', '4.4.10', '10.0.3086', '13.3', '5.63.0', '11.1', '1.1.9371', '1.01.03', '2.6.003', '30.0', '2.0.24', '1.11.6', '1.4.0-2', '3.46.5', '3.0.0 By Luccas', '3.0.By.EliteMu', '2.11.7', '1.21', '1.2.21', '0.12', '1.00', '4.6.00', '31.1.4', '1.1.43', 'Version 1.6', '3.61', '2.54.3', '1.0.124', '2.66.5', 'V1.7.6', '1.12.2', 'V2.3', '2.5.18', '2.1.15', '1.1.15205', '2.02', '3.2.6z', '4.2.7', '5.45.0_713', '3.3.6z', '3.3.7z', '3.1.7z', '3.2.2dk', '2.1.18', '7.1.5', '2.19.20180117', '1.2.20180117', '24.0.11', '4.1.2099', '11.15.03', '7.6', '4.8', '5.14.1', 'v1.2.2', '2.1.7', '2.8.216.6-ba', '4.2.0', '3.19.34', '12.0.18071400', '2.0.18.23', '1.31', '1.13.108869', '4.72', '1.0.5.170418-cardspl', '0.1.6', '6.6.3106', 'no_update_signal.2_9_1_arm-x86_64-alpha', '1.998', '1.94', '0.2.7', '1.9.0.110162364', '1.2.0.200', '1.3.3.1', '18.08.05', '4.0.15', '1.2.100', '5.68.1', '2.5.111', '3', '0.9.34', '5.0.1 build 1', '1.98', '7.5.9.1', '5.1.4', '0.2.9.17', '3.1.13', '1.093', '8.4.1', '7.17.2.0', '4.8.18.12', '1.0.10.5', '1.41', '1.200', '1.1.11', '4.19.62', 'opciÃ³n de cerrar', '6.3.5', '4.4.1255', '2.2 Free', '1.0.90', '0.9.0', '6.3.7.1', '2.00.0.3', '0.0.4', '2.26 Build 17', '1.0.180202', '4.6.2201', '6.2.7', '1.0.180206', '106', '1.283.0037', '3.0.18', '102.0.875', '1.15.5', 'v6.6.0', \"1.1 (j'sais pas)\", '1.0.70', '3.15.1', '1.0.9.10', '3.70', '2.4.78-s', '1.042', '3.9.9.2', '1.2.11', '01e', '4.11', '2.3.11', '2.4.43', '12.1', '1.0.4.91', '1.6d', '6.95', '1.8.8.0', '68.0.3440.70', '3.13.2', '6.0.0.12', '7.1.29', '70.0.3512.0', 'fcbd82b2-dd5b-41d2-af62-432271c42921', '8.4.2', '0.0.6', '0.7', '4.7.0 Phoenix', '6.0.0.1775', '41.9', '3.0.2.0', '1.2.392', '3.0.5.0', '1.0.17.0423', '1.28ggl', '1.23.3.75024', '18.6.5', 'v4.30.0.8', 'The CJ Rubric 7.12.0', '1.31.62.109', '5.9.5', '2.0.0 (18.03.01)', '4.3.5', '3.8.0.251918', '5.29.0', '2.47', '2.46', '2.38', '7.4.8', '202', '48', '3.8.10', 'CL Pro for Craigslist - Canada 150', '11', 'Bowser4Craigslist', 'App copyright', 'Copyright', '3.44.0', '3.82', '4.0.13', '1.0.175', 'CL Strength 7.12.1', '4.6.6', '2.0.7.0014', '6.24', '3.3.3', '3.24', '1.16.9', '14.15', '3.0.1805181047', '0.99', '1.25.396', '4.0.01', '0.6.49', '40.10', '2.49', '2.15.2', '2.1.23', '2.3.13', '2.13.11', '18.1.79', '2.7.7', '1.4.1033', '4.2.87', '4.9.940', '3.10', '1.0.13', '4.1.8.1', '1.0.3.8', '7.0.7-qa003-prod', '3.3.003', '0.4.6', '1.18.10', '1.13.0', '3.21', '2.4.7', '6.4.16', '1.14.3', '2.51f', '1.55.4', '4.7.0.KG', '5.4.13', '1.14.00', '5.5.0', '4.6.2100', 'v2.6.0', '3.2.994', '4.7.2', 'Gratis', '1.0.209', '5.3.6.0', '4.84', '0.9.5', '1.82', 'Release 1.0', '1.1.97', '60.0.3112.3046279', 'Y4W-GATE_CS-5.0.0', 'SolarCT 1.9 v', '2014.01', '1.0.95', '4.11.100', '4.13.72', '5.10.1.0', '4.6.68', '4.4.47', '6.5.32-prod', '6.5.82-prod', '5.4.5', '3.0.21', '200', '3000.5.3532', '2.1.0.1108', '3000.5.3548', '2.79', '5.7.1.0', '4.5.5.1-2090AL-REL', '6.0.932740', '7.7', '5.1.14', '8.9.2.pro', '1.3.2.9', '4.38', '2.2.1.0', '2.129.12', '6.8.0', 'KM', '1.0.013', '1.5.2.21', '3.3.99', 'iu4', '2.35.1', '3.3.85 (2)', '11.13.18.05.07.03', '2.5_16', '0.7.9', '1.5_6', 'v6.7.14', '4.4_23', '1.0.', '20180805', '1.2_3', '7.18.0.0', '7.12.0.1', '3.29', '10.0.10', '4.5.6', '2.0.0.0', 'INDIRIMBO V.2014.002', '700', '24.8.1', '2.2.15', '4.1.239', '1.01.00', '1.03.06', '1.122.250.1421', '3.1.46 (CY02)', 'Android 2.1 - 2015', 'Android 3.0 - 2015', 'Android 3.1 - 2015', '3.2.17030601', 'Android 2.0 - 2016', 'Android 3.1 - 2017', '1.0.612933', '5.2.11', '2.00.00', '1.18.34', '2.95', 'v1.0.0-195-gb96d9f2', '1.7.28', '2.1.69', 'Translator 10.9.2', '4.75', '18.06.p03.02', '2.1.10 (49)', '0.6.2', '1.2.0.27', '0.4.1', '1.21.2', '2.9.8.1', '2.14.5e', '1.6.1326', '3.2.7z', '4.6.1', '3.3.3z', '5.11.3.1', '1.3.35.0', '5.11.3', '9.3.52', '20180518-01', '2.8.9.1004', '2.2.13', '2.3.8.6', '1.084', '1.56', '20.0', '1.48.0', '13.0.0', '6.0.8.2.GM', 'Glueboardv.6', 'v1.1.6(201806181)', '2.10.0 Summer', '9.5.8', '6.00', '1.911.1944.4606', '0.1.10.0', 'v3', '7.7.3', '31.11.9.156', '1.2.1009.695', '1.0.0.17', '2.2.0.23', 'v6.1', '18.30.22', '1.193', '1.6.7', '1.13.299', 'DH-Security Camera', '11.7.5', '1.67', '10.5.00', '2.8.26', '1.1.64', '5.42.1', '2.0.1.3', '1.18.4', '1.1.58', '10.1.6', '4.7.4.3869-7b2372c3e', '6.6.8', '1.0.0.5', '1.0.0.22', '1.0.1.8', '2.106.0', '2.0.14', '4.1.23', 'v2017.Dec.01.19', '0.9.9.14', '5.0.45', '0.38.1', '20170828', '5.19', '12.04.18', '1.0.184', '5.03', '4.1.9o', '1.0.81', '2.7.5', '1.1.10a', '3.20.3', '0.3.7', '1.14b', 'HTTPs', '21 - Rel2.0', '3.2.1.258', '0.6.11', '3.9.17', '2.2.2.1', '14.4.4.00', '0.1.27', '1.36.82', '3.12.4', '3.0.17', '2.68.14', '0.21.1', '2.10.1', '1.2.187-83', '67', '2.8.12', '2.2 (Protostar)', '2.7.92', '0.3.1', '1.00.15', 'DPSTATUS1.0.1', '15|06|17', '1.5.10.NA', 'di-v3.4.0.4', '1.1.4g', '0.0.80', '3.2.0.169', '2.2.82', '3.0.1114', '2.05', '2.0.1077', '1.96', 'r2.5.0.3a', 'pb1.0.0.1', '47', '4.11.0', '2.0.180226.1', '3.67', '1.2.0.9', '0.2', '2.983', '6.93', '0.5', '25.7', '3.16', '1.0.56', '3.4.06', '0.20', '1.44', 'V1.0.1', '0.8.2', '0.22', '1.18.8', '10.36', '2.2.927', '3.98', '4.8.7.8', '1.5.9.9', '1.8.0.4', '3.0.0.2071', '1.12.23', '4.0.8', '1.2.2.2', '8.5', '10.012', '11.0.2', '1.4.5.2', '2.6.28', '1.1.2.0', 'R1.4.14.B1.4', '1.27', '17.0', 'V1.0.9', '2.3.26', '1.9.5', '1.002', '39.272.12', 'R1.3.21.3', 'V1.5.3', '2.3.10', '18.1.18164', '2.5.0-prod', '26.1', '69.1', '0.0.0.2', '2.0.402', '1.131', '1.441', 'Human Dx', '1.7.10713 (281)', '1.0.1702140017', '1.0.32.1', '3.9.9', '3.0.6.2', '1.279.13.93', '0.74 11.12.2016', '2018-04-27', '1.0.3-DzMobile', '2018-03', '2.51', '1.22.1', '6.0.0.0', '0.35', '1.9.3097721', '18.0.5.172734', '6.8.1', '0.12.334385', '1.8.91', '1.3.12', '04.00.40', '1.4.10', '2.6.0.125', '2.16.0', '5.27.0.729', '1.7.3b', '3.3.118003', '5.3.3', '3.2.1c', '2.17.1', '1.18.1', '2.3.24', '5.29.02', '33.0', '1.7.8', '9.4.7.6', '17.25.11', '1.10.279.2', '10.0.0', '1.17.0.0', '8.07.021', '3.9.13', '8.3.13.6', '1.278.0037', '0.0.44', 'erie1.3.23.42-release', '1.9.8', '14.01', '1.7.0.00115', '1.0.1.00613', '3.0.0.2927', '1.0.05', '1.0.38', '2.8.3.1', '4541.25.51', 'Build 54', '1.0.1 (1.5.1)', '2.1.0.9', '2.9.19a', '3.0.18 Fundamental', 'Build 12', '4.1806.3', '1.6.07', '2.2.1335', '0.9.1', '1.8 (2014-10-10 11:10:51 +0400)', '10.1.28.560', '3.8.6', '4.1.92', '1.95', '6.08', '1.2.10', '3.33', '5.2.12', '130.48.08', '2.4.3.1523', '8.16g', '3.9.11', '1.40.170809', '0.0.10', '0.62', '1.1.14', '1.173.126', '1.8.8', '5.12.1', '1.26.03', '25072018', '3.45', '3.0.16', '2.3.0 build 180', '1.932', '1.1.1.6', '1.0.141215', '2.19.6', '1.0.6®', '5.30.01', '7.5.3', '2.177.5489', '5.3.9', '1.2.1107', '3.4.20.6 / BuyDRM Labgency 4.8.22 / PED', '4.11.2', '3.6.7z', '1.8.11', '7.0.3', '1.24.09', '1.0.17', '56', '23', '17.05.11', '2.4.1343-prod', '21.54', '5.11.0', '6.3.2', '18.4.0', '1.1.700', '5.13', 'Paid-9.4.1.3', '9.12.6', 'Fennec-52.9.0esr/TorBrowser-7.5-1/Orfox-1.5.4-RC-1', '1.0.612931', '8.1.01', '8.02', '2.72', 'BlueOrange', '0.3', 'v2.7.11.27', '3.5.4', '1.4.83', '314007', '1000000.6', '1.0.3289', '0.6.0', '1.20.3', '2.2.2926', '2.6.4', '0.1.7', '36', 'Pro 1.1.4.1', '2.0.6.4', '1.0.2.9', '1.1.8.2', '5.0.5', '0.6', '3.4.7.2.16', '1.0.612919', '3.3.1-build-02-08-2018-19-release', 'V1-180703', '8.3.3-Google', '4.6.15', '37.0', '1.0.|', '10.7.1388', '9.1.3', '1.2.36', '6.4.7', '2.0.3.53', '1.2.22', 'MONEY', '3.0.1 (70)', '2.10.0', '2.1.223', '2.1.05', '5.600.49', '2.0.11', '1.11.01', '1.2.0.8', '3.07', '6.11', '3.30.4.207', 'F2i', '1.0.01', '4.1.12', '1.64.0.21247', '2.1.080', '2.1.111374', '1.3.3.9', '2.08', '1.0060.b0060', '1.59', '1.1.51', '20.7.9.2', '81', '1.20180531.3', '1.42.180409', '3.24.0', '5.6.14', '7.17.2.3', '18.4.8.0', '1.4.36', '1.6.8', '8.6.2', '1.8.1 (41)', '2.96', '2.001', '2.164.4', '4.5.24', '16.00', '1.0.0.457', '0.5.2 beta', '3.08', '0.59', '8.0.9', 'V4.1.0', '1.4.13', 'v1.9.6 beta 1', '1.0.0.32', '2.5.186032', '0.1.8 beta', '2018.04.02.00', '3.34.0+1702241319.a', '1.0.606863', '1.9.58', '5.2.6', '3.10.43', '23.2.7', '2.52', '176.0.0.29.0', '7.0.4.17908', '24.4', '1.0.0.2', '33.0.0.22.76', '2.2.0717', '7.95', '7.30.005', '2.1.0.0.15734', '3.953', '1.3.11', 'v2.7.11.16', '2018.0.12', '2018.8.1', '2.10.5-prod-release', '4.2.5', '2018.5.25', '4.0.4-R', '060816', '125', '68', '2.0.20', '23.17', '2.0.833.18', '2.0.855.33', '4.6.12c', '14', '4.5.1c', '4.5.3c', '34', '5.33.3669', '4.7.4.18.0621', '0.1.8', '1.2.1.0', '2.01.0.2', '0.90', '9', '20170920', '1.16.33', '14.0.1', '1.73.0', '1.20.22', 'FH CODE 1.0', '1.10.0.0', '1.5.3.20', '1.0.03', '1.9.9.5', '1.4.0.2', '4.7.0.2200000', '1.3.22', '1.8.4.7', '0.0.53', '1.2.5.4-11', '2.2.1.5', '2.0.15', '0.24', '2.1.3181', '3.53', '1.0.7.8', '7.17.2.1', '5.29.23 Domain 253', '0.858', '6.0.18', '8.1.10.41', '9.19.2', '2.27', '17.4', '4.5.9', '4.6.1404', 'v4.30.0.9', '2.1.9f7', 'Android 3.0 - 2017', '3.36', 'Android 2.0 - 2014', '1.0404', '41.0', '2.4.1.485300', '12.2', '3rd Release Aug 2016', '7.3.2', '2.5a', '1.9.19', '8.7', '23.01.1265.0712', '4.0.7.0', '0.15.2', '0.7.1', '4.6.71', '2017.07.24', '1.03.123.0713', '1.0.0.96', '1.022', '15', '1.25.4', '2.8.6', '3.20.001', '1.3.81', '1.74', '1.9.734', '1.72', '6.04', '1.5.447', '1.0.612928', '0.3.4', '2.0.148.0']\n"
          ]
        }
      ]
    },
    {
      "cell_type": "markdown",
      "metadata": {
        "id": "TzyGjRUfF_9F"
      },
      "source": [
        "List of Current_ver unique values we can't fill the nan values in this column because Apps are having different values in versions too not in particular sequential increasing order."
      ]
    },
    {
      "cell_type": "code",
      "metadata": {
        "colab": {
          "base_uri": "https://localhost:8080/"
        },
        "id": "6sE5Q7qGF9Jd",
        "outputId": "40156d77-e303-40fa-b3d8-4cb7f19f9d7e"
      },
      "source": [
        "current_version_nan=list(play_store_df[play_store_df[\"Current_Ver\"].isnull()][\"App\"])\n",
        "for i in range(len(current_version_nan)):\n",
        "  print(play_store_df[play_store_df['App']==current_version_nan[i]])"
      ],
      "execution_count": 223,
      "outputs": [
        {
          "output_type": "stream",
          "name": "stdout",
          "text": [
            "                                App        Category  ...  Current_Ver  Android_Ver\n",
            "15  Learn To Draw Kawaii Characters  ART_AND_DESIGN  ...          NaN   4.2 and up\n",
            "\n",
            "[1 rows x 13 columns]\n",
            "                       App            Category  ...  Current_Ver  Android_Ver\n",
            "1354  Market Update Helper  LIBRARIES_AND_DEMO  ...          NaN   1.5 and up\n",
            "\n",
            "[1 rows x 13 columns]\n",
            "                         App Category  ...  Current_Ver  Android_Ver\n",
            "5863  Virtual DJ Sound Mixer    TOOLS  ...          NaN   4.0 and up\n",
            "\n",
            "[1 rows x 13 columns]\n",
            "            App Category    Rating  ...  Last_Updated  Current_Ver Android_Ver\n",
            "6337  BT Master   FAMILY  4.191153  ...    2016-11-06          NaN  1.6 and up\n",
            "\n",
            "[1 rows x 13 columns]\n",
            "              App Category  Rating  ...  Last_Updated  Current_Ver Android_Ver\n",
            "6864  Dots puzzle   FAMILY     4.0  ...    2018-04-18          NaN  4.0 and up\n",
            "\n",
            "[1 rows x 13 columns]\n",
            "                  App Category    Rating  ...  Last_Updated  Current_Ver Android_Ver\n",
            "6938  Calculate My IQ   FAMILY  4.191153  ...    2017-04-03          NaN  2.3 and up\n",
            "\n",
            "[1 rows x 13 columns]\n",
            "         App Category    Rating  ...  Last_Updated  Current_Ver Android_Ver\n",
            "7260  UFO-CQ    TOOLS  4.047411  ...    2016-07-04          NaN  2.0 and up\n",
            "\n",
            "[1 rows x 13 columns]\n",
            "                 App             Category  ...  Current_Ver  Android_Ver\n",
            "9860  La Fe de Jesus  BOOKS_AND_REFERENCE  ...          NaN   3.0 and up\n",
            "\n",
            "[1 rows x 13 columns]\n"
          ]
        }
      ]
    },
    {
      "cell_type": "markdown",
      "metadata": {
        "id": "MSrbDUV4HrTL"
      },
      "source": [
        "Only 8 values are there so we will remove as this data is less than .001% of data."
      ]
    },
    {
      "cell_type": "code",
      "metadata": {
        "colab": {
          "base_uri": "https://localhost:8080/",
          "height": 166
        },
        "id": "7XsagptaIIf7",
        "outputId": "cdd6a734-0e49-4fb1-d6c7-a6d2850b6ca3"
      },
      "source": [
        "# Checking null values in Android Version\n",
        "play_store_df[play_store_df.Android_Ver.isnull()]"
      ],
      "execution_count": 227,
      "outputs": [
        {
          "output_type": "execute_result",
          "data": {
            "text/html": [
              "<div>\n",
              "<style scoped>\n",
              "    .dataframe tbody tr th:only-of-type {\n",
              "        vertical-align: middle;\n",
              "    }\n",
              "\n",
              "    .dataframe tbody tr th {\n",
              "        vertical-align: top;\n",
              "    }\n",
              "\n",
              "    .dataframe thead th {\n",
              "        text-align: right;\n",
              "    }\n",
              "</style>\n",
              "<table border=\"1\" class=\"dataframe\">\n",
              "  <thead>\n",
              "    <tr style=\"text-align: right;\">\n",
              "      <th></th>\n",
              "      <th>App</th>\n",
              "      <th>Category</th>\n",
              "      <th>Rating</th>\n",
              "      <th>Reviews</th>\n",
              "      <th>Size</th>\n",
              "      <th>Installs</th>\n",
              "      <th>Type</th>\n",
              "      <th>Price</th>\n",
              "      <th>Content_Rating</th>\n",
              "      <th>Genres</th>\n",
              "      <th>Last_Updated</th>\n",
              "      <th>Current_Ver</th>\n",
              "      <th>Android_Ver</th>\n",
              "    </tr>\n",
              "  </thead>\n",
              "  <tbody>\n",
              "    <tr>\n",
              "      <th>3998</th>\n",
              "      <td>[substratum] Vacuum: P</td>\n",
              "      <td>PERSONALIZATION</td>\n",
              "      <td>4.4</td>\n",
              "      <td>230</td>\n",
              "      <td>11.0</td>\n",
              "      <td>1,000+</td>\n",
              "      <td>Paid</td>\n",
              "      <td>1.49</td>\n",
              "      <td>Everyone</td>\n",
              "      <td>Personalization</td>\n",
              "      <td>2018-07-20</td>\n",
              "      <td>4.4</td>\n",
              "      <td>NaN</td>\n",
              "    </tr>\n",
              "    <tr>\n",
              "      <th>4035</th>\n",
              "      <td>Pi Dark [substratum]</td>\n",
              "      <td>PERSONALIZATION</td>\n",
              "      <td>4.5</td>\n",
              "      <td>189</td>\n",
              "      <td>2.1</td>\n",
              "      <td>10,000+</td>\n",
              "      <td>Free</td>\n",
              "      <td>0.00</td>\n",
              "      <td>Everyone</td>\n",
              "      <td>Personalization</td>\n",
              "      <td>2018-03-27</td>\n",
              "      <td>1.1</td>\n",
              "      <td>NaN</td>\n",
              "    </tr>\n",
              "  </tbody>\n",
              "</table>\n",
              "</div>"
            ],
            "text/plain": [
              "                         App         Category  ...  Current_Ver  Android_Ver\n",
              "3998  [substratum] Vacuum: P  PERSONALIZATION  ...          4.4          NaN\n",
              "4035    Pi Dark [substratum]  PERSONALIZATION  ...          1.1          NaN\n",
              "\n",
              "[2 rows x 13 columns]"
            ]
          },
          "metadata": {},
          "execution_count": 227
        }
      ]
    },
    {
      "cell_type": "markdown",
      "metadata": {
        "id": "uKACsmevJHrT"
      },
      "source": [
        "Only 2 null values."
      ]
    },
    {
      "cell_type": "code",
      "metadata": {
        "colab": {
          "base_uri": "https://localhost:8080/",
          "height": 118
        },
        "id": "BO_O31y6IZlx",
        "outputId": "267253fe-d6ca-46d8-a40a-730715e1098c"
      },
      "source": [
        "play_store_df[play_store_df.App==\"Pi Dark [substratum]\"]"
      ],
      "execution_count": 228,
      "outputs": [
        {
          "output_type": "execute_result",
          "data": {
            "text/html": [
              "<div>\n",
              "<style scoped>\n",
              "    .dataframe tbody tr th:only-of-type {\n",
              "        vertical-align: middle;\n",
              "    }\n",
              "\n",
              "    .dataframe tbody tr th {\n",
              "        vertical-align: top;\n",
              "    }\n",
              "\n",
              "    .dataframe thead th {\n",
              "        text-align: right;\n",
              "    }\n",
              "</style>\n",
              "<table border=\"1\" class=\"dataframe\">\n",
              "  <thead>\n",
              "    <tr style=\"text-align: right;\">\n",
              "      <th></th>\n",
              "      <th>App</th>\n",
              "      <th>Category</th>\n",
              "      <th>Rating</th>\n",
              "      <th>Reviews</th>\n",
              "      <th>Size</th>\n",
              "      <th>Installs</th>\n",
              "      <th>Type</th>\n",
              "      <th>Price</th>\n",
              "      <th>Content_Rating</th>\n",
              "      <th>Genres</th>\n",
              "      <th>Last_Updated</th>\n",
              "      <th>Current_Ver</th>\n",
              "      <th>Android_Ver</th>\n",
              "    </tr>\n",
              "  </thead>\n",
              "  <tbody>\n",
              "    <tr>\n",
              "      <th>4035</th>\n",
              "      <td>Pi Dark [substratum]</td>\n",
              "      <td>PERSONALIZATION</td>\n",
              "      <td>4.5</td>\n",
              "      <td>189</td>\n",
              "      <td>2.1</td>\n",
              "      <td>10,000+</td>\n",
              "      <td>Free</td>\n",
              "      <td>0.0</td>\n",
              "      <td>Everyone</td>\n",
              "      <td>Personalization</td>\n",
              "      <td>2018-03-27</td>\n",
              "      <td>1.1</td>\n",
              "      <td>NaN</td>\n",
              "    </tr>\n",
              "  </tbody>\n",
              "</table>\n",
              "</div>"
            ],
            "text/plain": [
              "                       App         Category  ...  Current_Ver  Android_Ver\n",
              "4035  Pi Dark [substratum]  PERSONALIZATION  ...          1.1          NaN\n",
              "\n",
              "[1 rows x 13 columns]"
            ]
          },
          "metadata": {},
          "execution_count": 228
        }
      ]
    },
    {
      "cell_type": "code",
      "metadata": {
        "colab": {
          "base_uri": "https://localhost:8080/",
          "height": 118
        },
        "id": "9KV37c1sJAbW",
        "outputId": "b4d9c328-1147-451c-eecf-695279ca363f"
      },
      "source": [
        "play_store_df[play_store_df.App==\"[substratum] Vacuum: P\"]"
      ],
      "execution_count": 229,
      "outputs": [
        {
          "output_type": "execute_result",
          "data": {
            "text/html": [
              "<div>\n",
              "<style scoped>\n",
              "    .dataframe tbody tr th:only-of-type {\n",
              "        vertical-align: middle;\n",
              "    }\n",
              "\n",
              "    .dataframe tbody tr th {\n",
              "        vertical-align: top;\n",
              "    }\n",
              "\n",
              "    .dataframe thead th {\n",
              "        text-align: right;\n",
              "    }\n",
              "</style>\n",
              "<table border=\"1\" class=\"dataframe\">\n",
              "  <thead>\n",
              "    <tr style=\"text-align: right;\">\n",
              "      <th></th>\n",
              "      <th>App</th>\n",
              "      <th>Category</th>\n",
              "      <th>Rating</th>\n",
              "      <th>Reviews</th>\n",
              "      <th>Size</th>\n",
              "      <th>Installs</th>\n",
              "      <th>Type</th>\n",
              "      <th>Price</th>\n",
              "      <th>Content_Rating</th>\n",
              "      <th>Genres</th>\n",
              "      <th>Last_Updated</th>\n",
              "      <th>Current_Ver</th>\n",
              "      <th>Android_Ver</th>\n",
              "    </tr>\n",
              "  </thead>\n",
              "  <tbody>\n",
              "    <tr>\n",
              "      <th>3998</th>\n",
              "      <td>[substratum] Vacuum: P</td>\n",
              "      <td>PERSONALIZATION</td>\n",
              "      <td>4.4</td>\n",
              "      <td>230</td>\n",
              "      <td>11.0</td>\n",
              "      <td>1,000+</td>\n",
              "      <td>Paid</td>\n",
              "      <td>1.49</td>\n",
              "      <td>Everyone</td>\n",
              "      <td>Personalization</td>\n",
              "      <td>2018-07-20</td>\n",
              "      <td>4.4</td>\n",
              "      <td>NaN</td>\n",
              "    </tr>\n",
              "  </tbody>\n",
              "</table>\n",
              "</div>"
            ],
            "text/plain": [
              "                         App         Category  ...  Current_Ver  Android_Ver\n",
              "3998  [substratum] Vacuum: P  PERSONALIZATION  ...          4.4          NaN\n",
              "\n",
              "[1 rows x 13 columns]"
            ]
          },
          "metadata": {},
          "execution_count": 229
        }
      ]
    },
    {
      "cell_type": "markdown",
      "metadata": {
        "id": "Jz44fKCLJYoU"
      },
      "source": [
        "We don't have different versions of these application so we will fill them with most used android version in that particular Year manually."
      ]
    },
    {
      "cell_type": "code",
      "metadata": {
        "id": "qSTRIMW0JDN1"
      },
      "source": [
        "# Making a new column named Year\n",
        "play_store_df[\"Year\"]=play_store_df.Last_Updated.dt.year"
      ],
      "execution_count": 230,
      "outputs": []
    },
    {
      "cell_type": "code",
      "metadata": {
        "colab": {
          "base_uri": "https://localhost:8080/"
        },
        "id": "tY9fUSnIJ6La",
        "outputId": "0a4b8e66-d820-438b-eb5c-56cc2a5b7e4c"
      },
      "source": [
        "play_store_df[play_store_df.Year==2018]['Android_Ver'].value_counts()"
      ],
      "execution_count": 231,
      "outputs": [
        {
          "output_type": "execute_result",
          "data": {
            "text/plain": [
              "4.1 and up            1876\n",
              "Varies with device    1056\n",
              "4.0.3 and up          1013\n",
              "4.0 and up             774\n",
              "4.4 and up             748\n",
              "5.0 and up             493\n",
              "4.2 and up             294\n",
              "2.3 and up             182\n",
              "4.3 and up             175\n",
              "3.0 and up              61\n",
              "2.3.3 and up            58\n",
              "6.0 and up              45\n",
              "7.0 and up              39\n",
              "2.1 and up              27\n",
              "2.2 and up              24\n",
              "5.1 and up              16\n",
              "3.2 and up              11\n",
              "1.6 and up              10\n",
              "4.4W and up              9\n",
              "8.0 and up               6\n",
              "2.0 and up               5\n",
              "4.0.3 - 7.1.1            2\n",
              "7.1 and up               2\n",
              "5.0 - 8.0                1\n",
              "1.5 and up               1\n",
              "2.0.1 and up             1\n",
              "5.0 - 7.1.1              1\n",
              "7.0 - 7.1.1              1\n",
              "1.0 and up               1\n",
              "Name: Android_Ver, dtype: int64"
            ]
          },
          "metadata": {},
          "execution_count": 231
        }
      ]
    },
    {
      "cell_type": "markdown",
      "metadata": {
        "id": "OM-Gwg0XJ_HM"
      },
      "source": [
        "Android version 4.0 and above is mostly used in Year 2018 so we will fill null values with \"4.1 and up\"."
      ]
    },
    {
      "cell_type": "code",
      "metadata": {
        "id": "YuN-WpaJJ9Ci"
      },
      "source": [
        "play_store_df['Android_Ver'].fillna(\"4.1 and up\", inplace=True)"
      ],
      "execution_count": 232,
      "outputs": []
    },
    {
      "cell_type": "code",
      "metadata": {
        "id": "QSa9vEmfKb4r"
      },
      "source": [
        "# Dropping all the records where null values are there \n",
        "play_store_df.dropna(inplace=True)"
      ],
      "execution_count": 233,
      "outputs": []
    },
    {
      "cell_type": "code",
      "metadata": {
        "colab": {
          "base_uri": "https://localhost:8080/"
        },
        "id": "jj4auXtQKieR",
        "outputId": "37eb4fce-1532-42bb-de2a-f0cf6f40f906"
      },
      "source": [
        "play_store_df.info()"
      ],
      "execution_count": 234,
      "outputs": [
        {
          "output_type": "stream",
          "name": "stdout",
          "text": [
            "<class 'pandas.core.frame.DataFrame'>\n",
            "Int64Index: 10349 entries, 0 to 10356\n",
            "Data columns (total 14 columns):\n",
            " #   Column          Non-Null Count  Dtype         \n",
            "---  ------          --------------  -----         \n",
            " 0   App             10349 non-null  object        \n",
            " 1   Category        10349 non-null  object        \n",
            " 2   Rating          10349 non-null  float64       \n",
            " 3   Reviews         10349 non-null  int64         \n",
            " 4   Size            10349 non-null  float64       \n",
            " 5   Installs        10349 non-null  object        \n",
            " 6   Type            10349 non-null  object        \n",
            " 7   Price           10349 non-null  float64       \n",
            " 8   Content_Rating  10349 non-null  object        \n",
            " 9   Genres          10349 non-null  object        \n",
            " 10  Last_Updated    10349 non-null  datetime64[ns]\n",
            " 11  Current_Ver     10349 non-null  object        \n",
            " 12  Android_Ver     10349 non-null  object        \n",
            " 13  Year            10349 non-null  int64         \n",
            "dtypes: datetime64[ns](1), float64(3), int64(2), object(8)\n",
            "memory usage: 1.2+ MB\n"
          ]
        }
      ]
    },
    {
      "cell_type": "markdown",
      "metadata": {
        "id": "bfnRS8suKlKw"
      },
      "source": [
        "No null values are there in our Dataframe."
      ]
    },
    {
      "cell_type": "code",
      "metadata": {
        "colab": {
          "base_uri": "https://localhost:8080/",
          "height": 527
        },
        "id": "Ywg_BuEMKkni",
        "outputId": "b351063f-93e8-4d7a-fe5c-eb1974a6bae6"
      },
      "source": [
        "play_store_df.describe(include=\"all\")"
      ],
      "execution_count": 235,
      "outputs": [
        {
          "output_type": "execute_result",
          "data": {
            "text/html": [
              "<div>\n",
              "<style scoped>\n",
              "    .dataframe tbody tr th:only-of-type {\n",
              "        vertical-align: middle;\n",
              "    }\n",
              "\n",
              "    .dataframe tbody tr th {\n",
              "        vertical-align: top;\n",
              "    }\n",
              "\n",
              "    .dataframe thead th {\n",
              "        text-align: right;\n",
              "    }\n",
              "</style>\n",
              "<table border=\"1\" class=\"dataframe\">\n",
              "  <thead>\n",
              "    <tr style=\"text-align: right;\">\n",
              "      <th></th>\n",
              "      <th>App</th>\n",
              "      <th>Category</th>\n",
              "      <th>Rating</th>\n",
              "      <th>Reviews</th>\n",
              "      <th>Size</th>\n",
              "      <th>Installs</th>\n",
              "      <th>Type</th>\n",
              "      <th>Price</th>\n",
              "      <th>Content_Rating</th>\n",
              "      <th>Genres</th>\n",
              "      <th>Last_Updated</th>\n",
              "      <th>Current_Ver</th>\n",
              "      <th>Android_Ver</th>\n",
              "      <th>Year</th>\n",
              "    </tr>\n",
              "  </thead>\n",
              "  <tbody>\n",
              "    <tr>\n",
              "      <th>count</th>\n",
              "      <td>10349</td>\n",
              "      <td>10349</td>\n",
              "      <td>10349.000000</td>\n",
              "      <td>1.034900e+04</td>\n",
              "      <td>10349.000000</td>\n",
              "      <td>10349</td>\n",
              "      <td>10349</td>\n",
              "      <td>10349.000000</td>\n",
              "      <td>10349</td>\n",
              "      <td>10349</td>\n",
              "      <td>10349</td>\n",
              "      <td>10349</td>\n",
              "      <td>10349</td>\n",
              "      <td>10349.000000</td>\n",
              "    </tr>\n",
              "    <tr>\n",
              "      <th>unique</th>\n",
              "      <td>9651</td>\n",
              "      <td>33</td>\n",
              "      <td>NaN</td>\n",
              "      <td>NaN</td>\n",
              "      <td>NaN</td>\n",
              "      <td>21</td>\n",
              "      <td>2</td>\n",
              "      <td>NaN</td>\n",
              "      <td>6</td>\n",
              "      <td>119</td>\n",
              "      <td>1376</td>\n",
              "      <td>2831</td>\n",
              "      <td>33</td>\n",
              "      <td>NaN</td>\n",
              "    </tr>\n",
              "    <tr>\n",
              "      <th>top</th>\n",
              "      <td>ROBLOX</td>\n",
              "      <td>FAMILY</td>\n",
              "      <td>NaN</td>\n",
              "      <td>NaN</td>\n",
              "      <td>NaN</td>\n",
              "      <td>1,000,000+</td>\n",
              "      <td>Free</td>\n",
              "      <td>NaN</td>\n",
              "      <td>Everyone</td>\n",
              "      <td>Tools</td>\n",
              "      <td>2018-08-03 00:00:00</td>\n",
              "      <td>Varies with device</td>\n",
              "      <td>4.1 and up</td>\n",
              "      <td>NaN</td>\n",
              "    </tr>\n",
              "    <tr>\n",
              "      <th>freq</th>\n",
              "      <td>9</td>\n",
              "      <td>1940</td>\n",
              "      <td>NaN</td>\n",
              "      <td>NaN</td>\n",
              "      <td>NaN</td>\n",
              "      <td>1487</td>\n",
              "      <td>9586</td>\n",
              "      <td>NaN</td>\n",
              "      <td>8374</td>\n",
              "      <td>840</td>\n",
              "      <td>298</td>\n",
              "      <td>1302</td>\n",
              "      <td>2381</td>\n",
              "      <td>NaN</td>\n",
              "    </tr>\n",
              "    <tr>\n",
              "      <th>first</th>\n",
              "      <td>NaN</td>\n",
              "      <td>NaN</td>\n",
              "      <td>NaN</td>\n",
              "      <td>NaN</td>\n",
              "      <td>NaN</td>\n",
              "      <td>NaN</td>\n",
              "      <td>NaN</td>\n",
              "      <td>NaN</td>\n",
              "      <td>NaN</td>\n",
              "      <td>NaN</td>\n",
              "      <td>2010-05-21 00:00:00</td>\n",
              "      <td>NaN</td>\n",
              "      <td>NaN</td>\n",
              "      <td>NaN</td>\n",
              "    </tr>\n",
              "    <tr>\n",
              "      <th>last</th>\n",
              "      <td>NaN</td>\n",
              "      <td>NaN</td>\n",
              "      <td>NaN</td>\n",
              "      <td>NaN</td>\n",
              "      <td>NaN</td>\n",
              "      <td>NaN</td>\n",
              "      <td>NaN</td>\n",
              "      <td>NaN</td>\n",
              "      <td>NaN</td>\n",
              "      <td>NaN</td>\n",
              "      <td>2018-08-08 00:00:00</td>\n",
              "      <td>NaN</td>\n",
              "      <td>NaN</td>\n",
              "      <td>NaN</td>\n",
              "    </tr>\n",
              "    <tr>\n",
              "      <th>mean</th>\n",
              "      <td>NaN</td>\n",
              "      <td>NaN</td>\n",
              "      <td>4.186497</td>\n",
              "      <td>4.062160e+05</td>\n",
              "      <td>21.013128</td>\n",
              "      <td>NaN</td>\n",
              "      <td>NaN</td>\n",
              "      <td>1.031406</td>\n",
              "      <td>NaN</td>\n",
              "      <td>NaN</td>\n",
              "      <td>NaN</td>\n",
              "      <td>NaN</td>\n",
              "      <td>NaN</td>\n",
              "      <td>2017.383612</td>\n",
              "    </tr>\n",
              "    <tr>\n",
              "      <th>std</th>\n",
              "      <td>NaN</td>\n",
              "      <td>NaN</td>\n",
              "      <td>0.485328</td>\n",
              "      <td>2.697797e+06</td>\n",
              "      <td>21.112283</td>\n",
              "      <td>NaN</td>\n",
              "      <td>NaN</td>\n",
              "      <td>16.284898</td>\n",
              "      <td>NaN</td>\n",
              "      <td>NaN</td>\n",
              "      <td>NaN</td>\n",
              "      <td>NaN</td>\n",
              "      <td>NaN</td>\n",
              "      <td>1.112144</td>\n",
              "    </tr>\n",
              "    <tr>\n",
              "      <th>min</th>\n",
              "      <td>NaN</td>\n",
              "      <td>NaN</td>\n",
              "      <td>1.000000</td>\n",
              "      <td>0.000000e+00</td>\n",
              "      <td>0.008301</td>\n",
              "      <td>NaN</td>\n",
              "      <td>NaN</td>\n",
              "      <td>0.000000</td>\n",
              "      <td>NaN</td>\n",
              "      <td>NaN</td>\n",
              "      <td>NaN</td>\n",
              "      <td>NaN</td>\n",
              "      <td>NaN</td>\n",
              "      <td>2010.000000</td>\n",
              "    </tr>\n",
              "    <tr>\n",
              "      <th>25%</th>\n",
              "      <td>NaN</td>\n",
              "      <td>NaN</td>\n",
              "      <td>4.047411</td>\n",
              "      <td>3.200000e+01</td>\n",
              "      <td>5.700000</td>\n",
              "      <td>NaN</td>\n",
              "      <td>NaN</td>\n",
              "      <td>0.000000</td>\n",
              "      <td>NaN</td>\n",
              "      <td>NaN</td>\n",
              "      <td>NaN</td>\n",
              "      <td>NaN</td>\n",
              "      <td>NaN</td>\n",
              "      <td>2017.000000</td>\n",
              "    </tr>\n",
              "    <tr>\n",
              "      <th>50%</th>\n",
              "      <td>NaN</td>\n",
              "      <td>NaN</td>\n",
              "      <td>4.251485</td>\n",
              "      <td>1.686000e+03</td>\n",
              "      <td>14.000000</td>\n",
              "      <td>NaN</td>\n",
              "      <td>NaN</td>\n",
              "      <td>0.000000</td>\n",
              "      <td>NaN</td>\n",
              "      <td>NaN</td>\n",
              "      <td>NaN</td>\n",
              "      <td>NaN</td>\n",
              "      <td>NaN</td>\n",
              "      <td>2018.000000</td>\n",
              "    </tr>\n",
              "    <tr>\n",
              "      <th>75%</th>\n",
              "      <td>NaN</td>\n",
              "      <td>NaN</td>\n",
              "      <td>4.500000</td>\n",
              "      <td>4.653900e+04</td>\n",
              "      <td>27.930205</td>\n",
              "      <td>NaN</td>\n",
              "      <td>NaN</td>\n",
              "      <td>0.000000</td>\n",
              "      <td>NaN</td>\n",
              "      <td>NaN</td>\n",
              "      <td>NaN</td>\n",
              "      <td>NaN</td>\n",
              "      <td>NaN</td>\n",
              "      <td>2018.000000</td>\n",
              "    </tr>\n",
              "    <tr>\n",
              "      <th>max</th>\n",
              "      <td>NaN</td>\n",
              "      <td>NaN</td>\n",
              "      <td>5.000000</td>\n",
              "      <td>7.815831e+07</td>\n",
              "      <td>100.000000</td>\n",
              "      <td>NaN</td>\n",
              "      <td>NaN</td>\n",
              "      <td>400.000000</td>\n",
              "      <td>NaN</td>\n",
              "      <td>NaN</td>\n",
              "      <td>NaN</td>\n",
              "      <td>NaN</td>\n",
              "      <td>NaN</td>\n",
              "      <td>2018.000000</td>\n",
              "    </tr>\n",
              "  </tbody>\n",
              "</table>\n",
              "</div>"
            ],
            "text/plain": [
              "           App Category  ...  Android_Ver          Year\n",
              "count    10349    10349  ...        10349  10349.000000\n",
              "unique    9651       33  ...           33           NaN\n",
              "top     ROBLOX   FAMILY  ...   4.1 and up           NaN\n",
              "freq         9     1940  ...         2381           NaN\n",
              "first      NaN      NaN  ...          NaN           NaN\n",
              "last       NaN      NaN  ...          NaN           NaN\n",
              "mean       NaN      NaN  ...          NaN   2017.383612\n",
              "std        NaN      NaN  ...          NaN      1.112144\n",
              "min        NaN      NaN  ...          NaN   2010.000000\n",
              "25%        NaN      NaN  ...          NaN   2017.000000\n",
              "50%        NaN      NaN  ...          NaN   2018.000000\n",
              "75%        NaN      NaN  ...          NaN   2018.000000\n",
              "max        NaN      NaN  ...          NaN   2018.000000\n",
              "\n",
              "[13 rows x 14 columns]"
            ]
          },
          "metadata": {},
          "execution_count": 235
        }
      ]
    },
    {
      "cell_type": "code",
      "metadata": {
        "colab": {
          "base_uri": "https://localhost:8080/"
        },
        "id": "2oTr73XlK2Qz",
        "outputId": "ce277cd9-62e9-4050-b4bb-b020a878bcfa"
      },
      "source": [
        "# Cleaning user reviews dataframe\n",
        "user_reviews_df.info()"
      ],
      "execution_count": 237,
      "outputs": [
        {
          "output_type": "stream",
          "name": "stdout",
          "text": [
            "<class 'pandas.core.frame.DataFrame'>\n",
            "RangeIndex: 64295 entries, 0 to 64294\n",
            "Data columns (total 5 columns):\n",
            " #   Column                  Non-Null Count  Dtype  \n",
            "---  ------                  --------------  -----  \n",
            " 0   App                     64295 non-null  object \n",
            " 1   Translated_Review       37427 non-null  object \n",
            " 2   Sentiment               37432 non-null  object \n",
            " 3   Sentiment_Polarity      37432 non-null  float64\n",
            " 4   Sentiment_Subjectivity  37432 non-null  float64\n",
            "dtypes: float64(2), object(3)\n",
            "memory usage: 2.5+ MB\n"
          ]
        }
      ]
    },
    {
      "cell_type": "code",
      "metadata": {
        "colab": {
          "base_uri": "https://localhost:8080/"
        },
        "id": "n1HNhXVmKwXk",
        "outputId": "3f2295cf-5cdf-4ca7-c861-f5553b9357f5"
      },
      "source": [
        "user_reviews_df.isnull().sum()"
      ],
      "execution_count": 238,
      "outputs": [
        {
          "output_type": "execute_result",
          "data": {
            "text/plain": [
              "App                           0\n",
              "Translated_Review         26868\n",
              "Sentiment                 26863\n",
              "Sentiment_Polarity        26863\n",
              "Sentiment_Subjectivity    26863\n",
              "dtype: int64"
            ]
          },
          "metadata": {},
          "execution_count": 238
        }
      ]
    },
    {
      "cell_type": "markdown",
      "metadata": {
        "id": "jihVla9rMHB7"
      },
      "source": [
        "We will check for the null values wether they have common index or not and removing those null values."
      ]
    },
    {
      "cell_type": "code",
      "metadata": {
        "id": "L23t364rK0Ti"
      },
      "source": [
        "sentiment_isnull_index=user_reviews_df[user_reviews_df.Sentiment.isnull()].index\n",
        "sentiment_polarity_isnull_index=user_reviews_df[user_reviews_df.Sentiment_Polarity.isnull()].index\n",
        "sentiment_subjectivity_isnull_index=user_reviews_df[user_reviews_df.Sentiment_Subjectivity.isnull()].index"
      ],
      "execution_count": 240,
      "outputs": []
    },
    {
      "cell_type": "code",
      "metadata": {
        "colab": {
          "base_uri": "https://localhost:8080/"
        },
        "id": "R8ZPcId3LkRY",
        "outputId": "033caa96-e7d5-4fba-bd18-e5495b6e268a"
      },
      "source": [
        "if sentiment_isnull_index.all() == sentiment_polarity_isnull_index.all():\n",
        "  print(\"All indexs are common in sentiment_isnull_index and sentiment_polarity_isnull_index\")\n",
        "if sentiment_isnull_index.all() == sentiment_subjectivity_isnull_index.all():\n",
        "  print(\"All indexs are common in sentiment_isnull_index and sentiment_subjectivity_isnull_index\")"
      ],
      "execution_count": 241,
      "outputs": [
        {
          "output_type": "stream",
          "name": "stdout",
          "text": [
            "All indexs are common in sentiment_isnull_index and sentiment_polarity_isnull_index\n",
            "All indexs are common in sentiment_isnull_index and sentiment_subjectivity_isnull_index\n"
          ]
        }
      ]
    },
    {
      "cell_type": "code",
      "metadata": {
        "id": "vIErPA5VL6Lx"
      },
      "source": [
        "user_reviews_df.drop(sentiment_subjectivity_isnull_index, inplace=True)"
      ],
      "execution_count": 242,
      "outputs": []
    },
    {
      "cell_type": "code",
      "metadata": {
        "colab": {
          "base_uri": "https://localhost:8080/",
          "height": 393
        },
        "id": "WzZw9rFlNEfy",
        "outputId": "22b37ec4-277e-4513-ba49-f7fb3ad03113"
      },
      "source": [
        "user_reviews_df.describe(include=\"all\")"
      ],
      "execution_count": 243,
      "outputs": [
        {
          "output_type": "execute_result",
          "data": {
            "text/html": [
              "<div>\n",
              "<style scoped>\n",
              "    .dataframe tbody tr th:only-of-type {\n",
              "        vertical-align: middle;\n",
              "    }\n",
              "\n",
              "    .dataframe tbody tr th {\n",
              "        vertical-align: top;\n",
              "    }\n",
              "\n",
              "    .dataframe thead th {\n",
              "        text-align: right;\n",
              "    }\n",
              "</style>\n",
              "<table border=\"1\" class=\"dataframe\">\n",
              "  <thead>\n",
              "    <tr style=\"text-align: right;\">\n",
              "      <th></th>\n",
              "      <th>App</th>\n",
              "      <th>Translated_Review</th>\n",
              "      <th>Sentiment</th>\n",
              "      <th>Sentiment_Polarity</th>\n",
              "      <th>Sentiment_Subjectivity</th>\n",
              "    </tr>\n",
              "  </thead>\n",
              "  <tbody>\n",
              "    <tr>\n",
              "      <th>count</th>\n",
              "      <td>37432</td>\n",
              "      <td>37427</td>\n",
              "      <td>37432</td>\n",
              "      <td>37432.000000</td>\n",
              "      <td>37432.000000</td>\n",
              "    </tr>\n",
              "    <tr>\n",
              "      <th>unique</th>\n",
              "      <td>865</td>\n",
              "      <td>27994</td>\n",
              "      <td>3</td>\n",
              "      <td>NaN</td>\n",
              "      <td>NaN</td>\n",
              "    </tr>\n",
              "    <tr>\n",
              "      <th>top</th>\n",
              "      <td>Bowmasters</td>\n",
              "      <td>Good</td>\n",
              "      <td>Positive</td>\n",
              "      <td>NaN</td>\n",
              "      <td>NaN</td>\n",
              "    </tr>\n",
              "    <tr>\n",
              "      <th>freq</th>\n",
              "      <td>312</td>\n",
              "      <td>247</td>\n",
              "      <td>23998</td>\n",
              "      <td>NaN</td>\n",
              "      <td>NaN</td>\n",
              "    </tr>\n",
              "    <tr>\n",
              "      <th>mean</th>\n",
              "      <td>NaN</td>\n",
              "      <td>NaN</td>\n",
              "      <td>NaN</td>\n",
              "      <td>0.182146</td>\n",
              "      <td>0.492704</td>\n",
              "    </tr>\n",
              "    <tr>\n",
              "      <th>std</th>\n",
              "      <td>NaN</td>\n",
              "      <td>NaN</td>\n",
              "      <td>NaN</td>\n",
              "      <td>0.351301</td>\n",
              "      <td>0.259949</td>\n",
              "    </tr>\n",
              "    <tr>\n",
              "      <th>min</th>\n",
              "      <td>NaN</td>\n",
              "      <td>NaN</td>\n",
              "      <td>NaN</td>\n",
              "      <td>-1.000000</td>\n",
              "      <td>0.000000</td>\n",
              "    </tr>\n",
              "    <tr>\n",
              "      <th>25%</th>\n",
              "      <td>NaN</td>\n",
              "      <td>NaN</td>\n",
              "      <td>NaN</td>\n",
              "      <td>0.000000</td>\n",
              "      <td>0.357143</td>\n",
              "    </tr>\n",
              "    <tr>\n",
              "      <th>50%</th>\n",
              "      <td>NaN</td>\n",
              "      <td>NaN</td>\n",
              "      <td>NaN</td>\n",
              "      <td>0.150000</td>\n",
              "      <td>0.514286</td>\n",
              "    </tr>\n",
              "    <tr>\n",
              "      <th>75%</th>\n",
              "      <td>NaN</td>\n",
              "      <td>NaN</td>\n",
              "      <td>NaN</td>\n",
              "      <td>0.400000</td>\n",
              "      <td>0.650000</td>\n",
              "    </tr>\n",
              "    <tr>\n",
              "      <th>max</th>\n",
              "      <td>NaN</td>\n",
              "      <td>NaN</td>\n",
              "      <td>NaN</td>\n",
              "      <td>1.000000</td>\n",
              "      <td>1.000000</td>\n",
              "    </tr>\n",
              "  </tbody>\n",
              "</table>\n",
              "</div>"
            ],
            "text/plain": [
              "               App  ... Sentiment_Subjectivity\n",
              "count        37432  ...           37432.000000\n",
              "unique         865  ...                    NaN\n",
              "top     Bowmasters  ...                    NaN\n",
              "freq           312  ...                    NaN\n",
              "mean           NaN  ...               0.492704\n",
              "std            NaN  ...               0.259949\n",
              "min            NaN  ...               0.000000\n",
              "25%            NaN  ...               0.357143\n",
              "50%            NaN  ...               0.514286\n",
              "75%            NaN  ...               0.650000\n",
              "max            NaN  ...               1.000000\n",
              "\n",
              "[11 rows x 5 columns]"
            ]
          },
          "metadata": {},
          "execution_count": 243
        }
      ]
    },
    {
      "cell_type": "markdown",
      "metadata": {
        "id": "ppy4mbOxMYTD"
      },
      "source": [
        "Dropped the common indexes."
      ]
    },
    {
      "cell_type": "markdown",
      "metadata": {
        "id": "BysgtIxUMfEb"
      },
      "source": [
        "### Play Store dataset contains following columns and their information:\n",
        "1. App: Application name\n",
        "2. Category: Category to which the app belongs (34 available)\n",
        "3. Rating: Rating of the app (0 - 5)\n",
        "4. Reviews: Number of reviews of the app available (Discrete)\n",
        "5. Size: Size of the app in MB (Discrete)\n",
        "6. Installs: Number of times the app has installed (Multi categorical)\n",
        "7. Type: Free or Paid\n",
        "8. Price: Price of the app\n",
        "9. Content Rating: Whether it is for adults, teenagers etc. based on age(6 available)\n",
        "10. Generes: Genere of the app\n",
        "11. Last Updated: Last Update date\n",
        "12. Current Ver: Current version of the application in playstore\n",
        "13. Android Ver: Android version of the application\n",
        "\n",
        "### User Reviews dataset contains following columns and their information:\n",
        "1. App: Application name (duplicates present depending upon number of reviews present).\n",
        "2. Translated_Review: Translated Reviews of that application.\n",
        "3. Sentiment: Sentiment of the Review whether positive, negative or neutral.\n",
        "4. Sentiment_Polarity: Polarity of the sentiment -ve vs +ve (-1 to +1).\n",
        "5. Sentiment_Subjectivity: Sentiment is near to application subject subjective vs objective(0 - 1)."
      ]
    },
    {
      "cell_type": "code",
      "metadata": {
        "colab": {
          "base_uri": "https://localhost:8080/"
        },
        "id": "KMTblcE9MDti",
        "outputId": "38883557-114d-4c5a-9855-cb53cf4c9fed"
      },
      "source": [
        "print(\"Play store dataframe shape:\",play_store_df.shape,\"\\nUser reviews dataframe shape:\",user_reviews_df.shape)"
      ],
      "execution_count": 247,
      "outputs": [
        {
          "output_type": "stream",
          "name": "stdout",
          "text": [
            "Play store dataframe shape: (10349, 14) \n",
            "User reviews dataframe shape: (37432, 5)\n"
          ]
        }
      ]
    },
    {
      "cell_type": "code",
      "metadata": {
        "id": "la_K8ZWtNm7f"
      },
      "source": [
        ""
      ],
      "execution_count": null,
      "outputs": []
    }
  ]
}